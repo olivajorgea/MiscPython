{
 "cells": [
  {
   "cell_type": "markdown",
   "metadata": {},
   "source": [
    "*Data Science Programming*\n",
    "============================\n",
    "\n",
    "Step 2:  Python Initial\n",
    "-----------------------------------------------------\n",
    "\n",
    "\n"
   ]
  },
  {
   "cell_type": "markdown",
   "metadata": {},
   "source": [
    "---"
   ]
  },
  {
   "cell_type": "markdown",
   "metadata": {},
   "source": [
    "## Initial exercises "
   ]
  },
  {
   "cell_type": "markdown",
   "metadata": {},
   "source": [
    "### Exercise 1\n",
    "\n",
    "Define a list of values  with the days names of the week and show the first one  and the penultimate day. "
   ]
  },
  {
   "cell_type": "code",
   "execution_count": 1,
   "metadata": {},
   "outputs": [
    {
     "name": "stdout",
     "output_type": "stream",
     "text": [
      "Monday\n",
      "Saturday \n"
     ]
    }
   ],
   "source": [
    "# Respuesta\n",
    "day_week = [\"Monday\", \"Tuesday\", \"Wednsday\", \"Thurday\", \"Friday\", \"Saturday \", \"Sunday\"]\n",
    "print(day_week[0])\n",
    "print(day_week[5])\n",
    "\n"
   ]
  },
  {
   "cell_type": "markdown",
   "metadata": {},
   "source": [
    "###  Exercise 2\n",
    "\n",
    "Write the sentences to show the following output on the screen"
   ]
  },
  {
   "cell_type": "raw",
   "metadata": {},
   "source": [
    "Hello\n",
    "\n",
    "    Python"
   ]
  },
  {
   "cell_type": "code",
   "execution_count": 6,
   "metadata": {},
   "outputs": [
    {
     "name": "stdout",
     "output_type": "stream",
     "text": [
      "Hello \n",
      "\n",
      "    Python\n"
     ]
    }
   ],
   "source": [
    "# Answer\n",
    "same_string = 'Hello ' + '\\n\\n' + '    Python' \n",
    "print(same_string)"
   ]
  },
  {
   "cell_type": "markdown",
   "metadata": {},
   "source": [
    "### Exercise 3\n",
    "\n",
    "From the next lists:\n",
    "\n",
    "```\n",
    "l_1 = [\"Monday\", \"Tuesday\", \"Wednsday\", \"Thurday\", \"Friday\", \"Saturday \", \"Sunday\"]\n",
    "l_2 = [1, 2, 3, 4, 5, 6, 7, 8]\n",
    "```\n",
    "\n",
    "Write:\n",
    "\n",
    "1. The last item from the first list \n",
    "2. A new list with the first item from the lists \n",
    "3. A new list with the 3 first items from the second list\n",
    "4. A string character with the value  \"Wednesday 8\"\n"
   ]
  },
  {
   "cell_type": "code",
   "execution_count": 3,
   "metadata": {},
   "outputs": [
    {
     "name": "stdout",
     "output_type": "stream",
     "text": [
      "Sunday\n",
      "['Monday', 1]\n",
      "['Monday', 'Tuesday', 'Wednsday', 'Thurday', 'Friday', 'Saturday ', 'Sunday']\n",
      "['Monday', 'Tuesday', 'Wednsday']\n",
      "Wednsday 8\n"
     ]
    }
   ],
   "source": [
    "l_1 = [\"Monday\", \"Tuesday\", \"Wednsday\", \"Thurday\", \"Friday\", \"Saturday \", \"Sunday\"]\n",
    "l_2 = [1, 2, 3, 4, 5, 6, 7, 8]\n",
    "\n",
    "# Answer\n",
    "print(l_1[len(l_1)-1])\n",
    "l_3 = [] \n",
    "l_3.append(l_1[0])\n",
    "l_3.append(l_2[0])\n",
    "l_4= l_1[0:3]\n",
    "str_aux=l_1[2]+ \" \" +str(l_2[7] )\n",
    "print(l_3)\n",
    "print(l_1)\n",
    "print(l_4)\n",
    "print(str_aux)\n"
   ]
  },
  {
   "cell_type": "markdown",
   "metadata": {},
   "source": [
    "---"
   ]
  },
  {
   "cell_type": "markdown",
   "metadata": {},
   "source": [
    "## Ejercicios y preguntas teóricas para la PAC\n",
    "\n",
    "A continuación, los **ejercicios y preguntas teóricas que deberéis completar en esta PAC** y que forman parte de la evaluación de esta unidad.\n",
    "\n",
    "En el siguiente enlace podréis encontrar la documentación oficial de *string functions* que puede\n",
    "ser de ayuda para completar los ejercicios:\n",
    "<https://docs.python.org/2/library/string.html>."
   ]
  },
  {
   "cell_type": "markdown",
   "metadata": {},
   "source": [
    "### Pregunta 1 \n",
    "\n",
    "¿Cuál es el valor final de a, b y c (atención a los tipos de número decimal y entero)? **(1 punto)** <span style=\"font-family: Courier New; background-color: #82b74b; color: #000000; padding: 2px; \">NM</span>\n",
    "\n",
    "a = 5 / 11\n",
    "\n",
    "b = 6 / 2.\n",
    "\n",
    "c, a = b // 2, b + 1"
   ]
  },
  {
   "cell_type": "markdown",
   "metadata": {},
   "source": [
    "**Respuesta**"
   ]
  },
  {
   "cell_type": "code",
   "execution_count": null,
   "metadata": {},
   "outputs": [],
   "source": [
    "a=4.0, b=3.0 , c= 1.0"
   ]
  },
  {
   "cell_type": "markdown",
   "metadata": {},
   "source": [
    "Escribid vuestra respuesta aquí."
   ]
  },
  {
   "cell_type": "markdown",
   "metadata": {},
   "source": [
    "### Ejercicio 1\n",
    "\n",
    "Proporciona una única expresión que asigne el valor `7.5` a la variable `a_number`, el valor `[42]` a la variable `a_list` y el valor `\"hello world\"` a la variable `a_string`. Es necesario que proporciones una única expresión que realice las tres asignaciones. **(1 punto)** <span style=\"font-family: Courier New; background-color: #82b74b; color: #000000; padding: 2px; \">NM</span>"
   ]
  },
  {
   "cell_type": "code",
   "execution_count": 17,
   "metadata": {},
   "outputs": [
    {
     "name": "stdout",
     "output_type": "stream",
     "text": [
      "7.5 [42] hello world\n"
     ]
    }
   ],
   "source": [
    "# Respuesta\n",
    "# Number decimal or float\n",
    "a_number = 7.5\n",
    "# List of one number\n",
    "a_list= [42]\n",
    "# String of character \n",
    "a_string = 'hello world'\n",
    "#Test\n",
    "print(a_number,a_list,a_string)"
   ]
  },
  {
   "cell_type": "markdown",
   "metadata": {},
   "source": [
    "### Ejercicio 2\n",
    "\n",
    "Qué expresión en Python necesitamos para conseguir el _string_\n",
    "\"Learning Python\" utilizando sólo las variables `str1` y` str2` definidas? **(1 punto)** <span style=\"font-family: Courier New; background-color: #82b74b; color: #000000; padding: 2px; \">NM</span>"
   ]
  },
  {
   "cell_type": "code",
   "execution_count": 33,
   "metadata": {
    "attributes": {
     "classes": [
      "sourceCode"
     ],
     "id": ""
    }
   },
   "outputs": [],
   "source": [
    "str1 = \"I love Python, it's great!\"\n",
    "str2 = \"Learning\""
   ]
  },
  {
   "cell_type": "code",
   "execution_count": 25,
   "metadata": {},
   "outputs": [
    {
     "name": "stdout",
     "output_type": "stream",
     "text": [
      "Learning Python\n"
     ]
    }
   ],
   "source": [
    "# Respuesta\n",
    "# Define string one\n",
    "str1 = \"I love Python, it's great!\"\n",
    "# Define string two\n",
    "str2 = \"Learning\"\n",
    "# Concat string 2 with the word \"Python\" of string two\n",
    "str3 =str2 + \" \" + str1[7:13]\n",
    "#Test\n",
    "print(str3)"
   ]
  },
  {
   "cell_type": "markdown",
   "metadata": {},
   "source": [
    "### Ejercicio 3\n",
    "\n",
    "Escribir un programa que asigne tres valores reales aleatorios a tres variables con nombre `a`,` b` y ` c`. Utiliza las variables definidas anteriormente para evaluar la siguiente expresión matemática:\n",
    "\n",
    "$\\frac{-b + \\sqrt {b^2-4ac}}{2a}$\n",
    "\n",
    "**(1 punto)** <span style=\"font-family: Courier New; background-color: #ffcc5c; color: #000000; padding: 3px; \">EG</span>\n",
    "\n",
    "**Nota**: En el notebook de teoría hemos visto como sumar, restar, multiplicar y dividir números reales. Para hacer la actividad, tendréis que investigar cómo calcular potencias y raíces cuadradas en Python! Necesitaréis utilizar la librería [`Random`](https://docs.python.org/3/library/random.html?highlight=random#module-random) para la generación de números aleatorios."
   ]
  },
  {
   "cell_type": "code",
   "execution_count": 63,
   "metadata": {
    "attributes": {
     "classes": [
      "sourceCode"
     ],
     "id": ""
    }
   },
   "outputs": [
    {
     "name": "stdout",
     "output_type": "stream",
     "text": [
      "-0.496269191081152\n"
     ]
    }
   ],
   "source": [
    "# Respuesta\n",
    "# Get number random a\n",
    "import random\n",
    "import math\n",
    "random.seed()\n",
    "# Set number random to variable a\n",
    "a = random.random()\n",
    "# Set number random to variable b\n",
    "b = random.random()\n",
    "# Set number random to variable c\n",
    "c = random.random()\n",
    "#outcome\n",
    "abc_outcome=-b+ math.sqrt(b**2-4*a*c)/2*a\n",
    "#test\n",
    "print(abc_outcome)\n",
    "\n"
   ]
  },
  {
   "cell_type": "markdown",
   "metadata": {},
   "source": [
    "### Ejercicio 4\n",
    "\n",
    "Escribir un programa que calcule el diámetro de una esfera de radio 5. **(1 punto)** <span style=\"font-family: Courier New; background-color: #82b74b; color: #000000; padding: 2px; \">NM</span>"
   ]
  },
  {
   "cell_type": "code",
   "execution_count": 66,
   "metadata": {
    "attributes": {
     "classes": [
      "sourceCode"
     ],
     "id": ""
    }
   },
   "outputs": [
    {
     "name": "stdout",
     "output_type": "stream",
     "text": [
      "10\n"
     ]
    }
   ],
   "source": [
    "# Respuesta\n",
    "# Initialize the variable radio\n",
    "radio = 5\n",
    "#Calculate the perimeter\n",
    "diameter =radio *2\n",
    "#test\n",
    "print(diameter)\n",
    "\n"
   ]
  },
  {
   "cell_type": "markdown",
   "metadata": {},
   "source": [
    "### Ejercicio 5\n",
    "\n",
    "Escribir un programa que defina una lista con los 10 primeros números primos. Mostrad por pantalla los tres últimos números de la lista. **(1 punto)** <span style=\"font-family: Courier New; background-color: #82b74b; color: #000000; padding: 2px; \">NM</span>"
   ]
  },
  {
   "cell_type": "code",
   "execution_count": 68,
   "metadata": {
    "attributes": {
     "classes": [
      "sourceCode"
     ],
     "id": ""
    }
   },
   "outputs": [
    {
     "name": "stdout",
     "output_type": "stream",
     "text": [
      "[19, 23, 29]\n"
     ]
    }
   ],
   "source": [
    "# Respuesta\n",
    "# List of the first 10 prime numbers\n",
    "primer_number_list= [2, 3, 5, 7, 11, 13, 17, 19, 23, 29]\n",
    "# Print the last three \n",
    "print (primer_number_list[7:])\n"
   ]
  },
  {
   "cell_type": "markdown",
   "metadata": {},
   "source": [
    "### Ejercicio 6\n",
    "\n",
    "Escribir un programa en el que se definan los precios de una frutería utilizando un _diccionario_. Deberéis incluir, como mínimo, 5 tipos de fruta diferentes. Por cada fruta, deberá indicarse el precio por kilo.\n",
    "\n",
    "Por ejemplo: Fresas de Huelva con precio 5.9, Fresas del Maresme con precio 10, Manzanas con precio 3.5, etc.\n",
    "\n",
    "Muestra el precio por kilo de cualquiera de las frutas que has incluido en el diccionario, utilizando cualquiera de los métodos de acceso a elementos de un diccionario. **(1 punto)** <span style=\"font-family: Courier New; background-color: #82b74b; color: #000000; padding: 2px; \">NM</span>"
   ]
  },
  {
   "cell_type": "code",
   "execution_count": 71,
   "metadata": {},
   "outputs": [
    {
     "name": "stdout",
     "output_type": "stream",
     "text": [
      "1.89\n"
     ]
    }
   ],
   "source": [
    "# Respuesta\n",
    "# Fruit price dictionary , the  name is the key and the value the price\n",
    "fruit_dictionary = {'Strawberries': 1.89, 'Banana':2.29, 'Apple':2.55, 'Mango':2.34,'Orange':3.54}\n",
    "\n",
    "# Initalize  variable to find\n",
    "my_fruit = 'Strawberries'\n",
    "#Get price \n",
    "price = fruit_dictionary[my_fruit]\n",
    "\n",
    "#test\n",
    "print(price)\n"
   ]
  },
  {
   "cell_type": "markdown",
   "metadata": {},
   "source": [
    "### Ejercicio 7\n",
    "\n",
    "Escribir un código que muestre por pantalla el precio de todas las frutas incluidas en el diccionario creado en el ejercicio anterior (accediendo al diccionario que acabas de definir). **(1 punto)** <span style=\"font-family: Courier New; background-color: #82b74b; color: #000000; padding: 2px; \">NM</span>\n",
    "\n",
    "El formato de la cadena de caracteres que muestra el precio debe ser el siguiente:\n",
    "\n",
    "```Las frutas tienen un precio de: {precios} euros```\n",
    "\n",
    "Siguiendo con el ejemplo del ejercicio anterior, habría que mostrar por pantalla:\n",
    "\n",
    "```Las frutas tienen un precio de: [5.9, 10, 3.5] euros```\n",
    "\n",
    "**Nota**: recordad que los diccionarios no tienen orden. Por lo tanto, otras ordenaciones de los precios también serían soluciones válidas, por ejemplo:\n",
    "\n",
    "```Las frutas tienen un precio de: [10, 5.9, 3.5] euros```"
   ]
  },
  {
   "cell_type": "code",
   "execution_count": 101,
   "metadata": {},
   "outputs": [
    {
     "name": "stdout",
     "output_type": "stream",
     "text": [
      "Las frutas tienen un precio de: dict_keys(['Strawberries', 'Banana', 'Apple', 'Mango', 'Orange']) euros\n"
     ]
    }
   ],
   "source": [
    "# Respuesta\n",
    "# Fruit price dictionary \n",
    "fruit_dictionary = {'Strawberries': 1.89, 'Banana':2.29, 'Apple':2.55, 'Mango':2.34,'Orange':3.54}\n",
    "#Print the message\n",
    "print('Las frutas tienen un precio de: %s euros' % str(fruit_dictionary.keys()) )      \n"
   ]
  },
  {
   "cell_type": "markdown",
   "metadata": {},
   "source": [
    "### Ejercicio 8\n",
    "\n",
    "Ordenad la siguiente lista de cadenas de caracteres: **(1 punto)** <span style=\"font-family: Courier New; background-color: #ffcc5c; color: #000000; padding: 3px; \">EG</span>\n",
    "\n",
    "1. Invirtiendo el orden original\n",
    "2. En orden alfabético inverso\n",
    "\n",
    "**Nota**: Puedes consultar la documentación oficial de la función [`sorted`](https://docs.python.org/3/library/functions.html#sorted) para ver qué parámetros puedes utilizar para resolver la segunda parte de la actividad.\n",
    "\n"
   ]
  },
  {
   "cell_type": "code",
   "execution_count": 9,
   "metadata": {},
   "outputs": [],
   "source": [
    "st_chars = [\"Benjamin Sisko\", \"Kira Nerys\", \"Odo\", \"Quark\", \"Jadzia Dax\"]"
   ]
  },
  {
   "cell_type": "code",
   "execution_count": 110,
   "metadata": {},
   "outputs": [
    {
     "name": "stdout",
     "output_type": "stream",
     "text": [
      "['Jadzia Dax', 'Quark', 'Odo', 'Kira Nerys', 'Benjamin Sisko']\n"
     ]
    }
   ],
   "source": [
    "# Respuesta 8.1\n",
    "st_chars = [\"Benjamin Sisko\", \"Kira Nerys\", \"Odo\", \"Quark\", \"Jadzia Dax\"]\n",
    "st_chars.reverse()\n",
    "print(st_chars)"
   ]
  },
  {
   "cell_type": "code",
   "execution_count": 104,
   "metadata": {},
   "outputs": [
    {
     "name": "stdout",
     "output_type": "stream",
     "text": [
      "['Quark', 'Odo', 'Kira Nerys', 'Jadzia Dax', 'Benjamin Sisko']\n"
     ]
    }
   ],
   "source": [
    "# Respuesta 8.2\n",
    "st_chars = [\"Benjamin Sisko\", \"Kira Nerys\", \"Odo\", \"Quark\", \"Jadzia Dax\"]\n",
    "print(sorted(st_chars,reverse=True))"
   ]
  },
  {
   "cell_type": "markdown",
   "metadata": {},
   "source": [
    "### Ejercicio 9\n",
    "\n",
    "A partir de la siguiente lista,\n",
    "\n",
    "```a_list = [42, 7.5,\" Answer to the Ultimate Question \",\" Dave \", 7.5]```\n",
    "\n",
    "proporcionad expresiones que devuelvan:\n",
    "\n",
    "1. El número de veces que aparece el elemento 7.5 en la lista.\n",
    "2. La posición de la primera aparición del valor 7.5\n",
    "3. La misma lista sin el último elemento\n",
    "\n",
    "**Nota**: En el notebook de teoría hemos visto qué son las listas y algunas operaciones sobre ellas. Para hacer la actividad, necesitaréis investigar algunas operaciones adicionales que podemos realizar sobre listas. Para ello podéis consultar la documentación oficial de Python sobre listas ([intro](https://docs.python.org/3/tutorial/introduction.html#lists) y [more on lists](https://docs.python.org/3/tutorial/datastructures.html#more-on-lists)).\n",
    "\n",
    "**(1 punto)** <span style=\"font-family: Courier New; background-color: #ffcc5c; color: #000000; padding: 3px; \">EG</span>"
   ]
  },
  {
   "cell_type": "code",
   "execution_count": 128,
   "metadata": {},
   "outputs": [
    {
     "name": "stdout",
     "output_type": "stream",
     "text": [
      "2\n",
      "1\n",
      "[42, 7.5, 'Answer to the Ultimate Question', 'Dave']\n"
     ]
    },
    {
     "data": {
      "text/plain": [
       "(None, None, None)"
      ]
     },
     "execution_count": 128,
     "metadata": {},
     "output_type": "execute_result"
    }
   ],
   "source": [
    "a_list = [42, 7.5, \"Answer to the Ultimate Question\", \"Dave\", 7.5]\n",
    "\n",
    "# Respuesta\n",
    "# The number of times that item 7.5 appears in the list.\n",
    "a_list.count(7.5)\n",
    "# The position of the item 7.5 appears in the list the first time .\n",
    "a_list.index(7.5)\n",
    "# The list withot the last item.\n",
    "a_list[0:4]\n",
    "# Test\n",
    "print (a_list.count(7.5)),print( a_list.index(7.5)), print(a_list[0:4])"
   ]
  },
  {
   "cell_type": "markdown",
   "metadata": {},
   "source": [
    "### Ejercicio Opcional\n",
    "\n",
    "Escribir un programa que genere una lista de números aleatorios y calcule el producto de todos los números de la lista. Los números de la lista deberán cumplir la siguiente condición: deben ser números impares entre 0 y 100. Además, el programa tendrá que preguntar al usuario cuántos elementos debe tener la lista (el usuario introducirá el número de elementos usando el teclado) y mostrar un mensaje de error si el usuario pide generar una lista de más de 50 elementos. Haz que el programa muestre la lista generada y el producto de sus elementos. <span style=\"font-family: Courier New; background-color: #f2ae72; color: #000000; padding: 3px; \">EI</span>"
   ]
  },
  {
   "cell_type": "code",
   "execution_count": null,
   "metadata": {},
   "outputs": [],
   "source": [
    "# Respuesta\n",
    "# Initialize a list\n",
    "from functools import reduce\n",
    "import  random\n",
    "# Ask for one number\n",
    "items_number = input (\"What number of items do you want?: \")\n",
    "\n",
    "# Converts the string into a integer. \n",
    "items_number = int(items_number)\n",
    "\n",
    "# Prints in the console the random list\n",
    "if items_number>50 :\n",
    "    print (\"The random list can not have more than 50 items \")\n",
    "else:\n",
    "    print (\"This is your random list : \")\n",
    "    #Get the odd list \n",
    "    odd_rand_list = [random.randrange(1,100,2) for p in range(0,items_number)]\n",
    "    print(odd_rand_list)\n",
    "    #Get the product\n",
    "    result1 = reduce((lambda x, y: x * y), odd_rand_list)\n",
    "    #print outcome\n",
    "    print(result1)\n",
    "\n"
   ]
  }
 ],
 "metadata": {
  "kernelspec": {
   "display_name": "Python 3",
   "language": "python",
   "name": "python3"
  },
  "language_info": {
   "codemirror_mode": {
    "name": "ipython",
    "version": 3
   },
   "file_extension": ".py",
   "mimetype": "text/x-python",
   "name": "python",
   "nbconvert_exporter": "python",
   "pygments_lexer": "ipython3",
   "version": "3.8.3"
  }
 },
 "nbformat": 4,
 "nbformat_minor": 1
}
