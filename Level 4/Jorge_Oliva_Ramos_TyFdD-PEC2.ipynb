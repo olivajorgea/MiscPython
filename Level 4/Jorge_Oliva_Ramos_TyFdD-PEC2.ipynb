{
 "cells": [
  {
   "cell_type": "markdown",
   "metadata": {
    "id": "dISYzX4ob2l7"
   },
   "source": [
    "# PEC 2. Introducción a los sistemas de recuperación de información.\n",
    "\n",
    "En esta PEC vamos a desarrollar un sistema de recuperación de información básico. Partiendo de una lista de documentos de texto tendrás que usar las técnicas de recuperación de información vistas en la asignatura para obtener, procesar y analizar datos útiles a partir del contenido.\n",
    "\n",
    "\n",
    "\n",
    "\n",
    "```\n",
    "#TODO: nombre y apellidos\n",
    "```\n",
    "\n",
    "\n",
    "\n"
   ]
  },
  {
   "cell_type": "markdown",
   "metadata": {
    "id": "oio_-Jm3K_kJ"
   },
   "source": [
    "\n",
    "\n",
    "---\n",
    "\n",
    "# **Parte 1**. Tareas básicas\n",
    "\n"
   ]
  },
  {
   "cell_type": "markdown",
   "metadata": {
    "id": "ED51nVLeFy-v"
   },
   "source": [
    "Además de las ya clásicas `pandas` y `numpy`, vamos a utilizar la librería [NTLK](https://es.wikipedia.org/wiki/NLTK) (Natural Language Toolkit), una librería Python utilizada para analizar texto y aprendizaje automático."
   ]
  },
  {
   "cell_type": "code",
   "execution_count": 1,
   "metadata": {
    "id": "ZSx3piMEFn-4"
   },
   "outputs": [
    {
     "name": "stderr",
     "output_type": "stream",
     "text": [
      "[nltk_data] Downloading package stopwords to\n",
      "[nltk_data]     C:\\Users\\oliva\\AppData\\Roaming\\nltk_data...\n",
      "[nltk_data]   Package stopwords is already up-to-date!\n",
      "[nltk_data] Downloading package punkt to\n",
      "[nltk_data]     C:\\Users\\oliva\\AppData\\Roaming\\nltk_data...\n",
      "[nltk_data]   Package punkt is already up-to-date!\n"
     ]
    },
    {
     "data": {
      "text/plain": [
       "True"
      ]
     },
     "execution_count": 1,
     "metadata": {},
     "output_type": "execute_result"
    }
   ],
   "source": [
    "import numpy as np\n",
    "import pandas as pd\n",
    "import matplotlib.pyplot as plt\n",
    "%matplotlib inline\n",
    "\n",
    "import nltk\n",
    "nltk.download('stopwords')\n",
    "nltk.download('punkt')"
   ]
  },
  {
   "cell_type": "markdown",
   "metadata": {
    "id": "_jFbru22JeCt"
   },
   "source": [
    "## 1.1 Separando las palabras (Tokenization)\n",
    "\n",
    "El significado de cada sentencia se obtiene de las palabra que contiene. Así que analizando las palabras presentes en un texto se puede interpretar el significado. Así que lo primero que hay que hacer para poder tratar el texto es separar las palabras que lo componen, es decir, hacer una lista  de palabras. El modelo que vamos a utilizar aquí se denomina [**bolsa-de-palabras**](https://es.wikipedia.org/wiki/Modelo_bolsa_de_palabras) (bag-of-words) ya que nos interesan las palabras sin importar su posición o importancia en el documento.\n",
    "\n",
    "\n",
    "La separación de las palabres o tokenization consiste en separar el texto en palabras, también denominados tokens. Generalmente el `espacio`se utiliza para separar palabras y elementos como los puntos, comas, dos puntos, etc. se utilizan para separar sentencias.\n",
    "\n",
    "\n"
   ]
  },
  {
   "cell_type": "markdown",
   "metadata": {
    "id": "CK4PwSVyKU3D"
   },
   "source": [
    "Hay multiples formas de realizar la separación de palabras para un texto dado. \n",
    "\n",
    "### 1.1.1 Funciones de Python\n",
    "\n",
    "Se puede usar la función `split()` para separar una cadena de texto en una lista de palabras. Por defecto `split()` utiliza el espacio en blanco, aunque se puede usar cualquier caracter.\n"
   ]
  },
  {
   "cell_type": "code",
   "execution_count": 2,
   "metadata": {
    "id": "KuK5q-MOKf0q"
   },
   "outputs": [
    {
     "data": {
      "text/plain": [
       "['Children', \"shouldn't\", 'drink', 'a', 'sugary', 'drink', 'before', 'bed.']"
      ]
     },
     "execution_count": 2,
     "metadata": {},
     "output_type": "execute_result"
    }
   ],
   "source": [
    "text01 = \"Children shouldn't drink a sugary drink before bed.\"\n",
    "#Use function split to separate the text string into words\n",
    "text01.split(' ')"
   ]
  },
  {
   "cell_type": "markdown",
   "metadata": {
    "id": "xuZQafeDKiTj"
   },
   "source": [
    "El método `split()` de Python no considera los signos de puntuación como elementos separados.\n",
    "\n"
   ]
  },
  {
   "cell_type": "markdown",
   "metadata": {
    "id": "IsTbr0lQvBtQ"
   },
   "source": [
    "### 1.1.2 Expresiones regulares\n",
    "\n",
    "El módulo `re` ofrece un conjunto de funciones para buscar coincidencias en una cadena de texto. Una *expresión regular* es una secuencia de caracteres que definen un patrón de búsqueda."
   ]
  },
  {
   "cell_type": "code",
   "execution_count": 3,
   "metadata": {
    "id": "b-D5UYVfxW9X"
   },
   "outputs": [
    {
     "name": "stdout",
     "output_type": "stream",
     "text": [
      "['There', 'are', 'multiple', 'ways', 'we', 'can', 'perform', 'tokenization', 'on', 'given', 'text', 'data', 'We', 'can', 'choose', 'any', 'method', 'based', 'on', 'language', 'library', 'and', 'purpose', 'of', 'modeling']\n"
     ]
    }
   ],
   "source": [
    "import re\n",
    "\n",
    "#Initialize the regular expressions variable with the search pattern\n",
    "re_pattern = '[a-zA-Z]+'\n",
    "text02 = \"\"\"There are multiple ways we can perform tokenization on given text data. We can choose any method based on language, library and purpose of modeling.\"\"\"\n",
    "\n",
    "#Split the text string into words applying the regular expression\n",
    "tokens = re.findall(re_pattern, text02,flags=re.IGNORECASE) # TODO: usar una expresión regular para separar las palabras\n",
    "print(tokens)"
   ]
  },
  {
   "cell_type": "markdown",
   "metadata": {
    "id": "I9s_37f8xtCT"
   },
   "source": [
    "### 1.1.3 Con NLTK\n",
    "\n",
    "Natural Language Toolkit (NLTK) tiene la función `word_tokenize()` para separación de palabras y `sent_tokenize()` para separación de sentencias.\n",
    "\n"
   ]
  },
  {
   "cell_type": "code",
   "execution_count": 4,
   "metadata": {
    "id": "x8t62gvCKrkD"
   },
   "outputs": [
    {
     "name": "stdout",
     "output_type": "stream",
     "text": [
      "<p>This is the first sentence.\n",
      "<\n",
      "p\n",
      ">\n",
      "This\n",
      "is\n",
      "the\n",
      "first\n",
      "sentence\n",
      ".\n",
      "A gallon-of-milk in the U.S. costs $2.99.\n",
      "A\n",
      "gallon-of-milk\n",
      "in\n",
      "the\n",
      "U.S.\n",
      "costs\n",
      "$\n",
      "2.99\n",
      ".\n",
      "Is this the third sentence?\n",
      "Is\n",
      "this\n",
      "the\n",
      "third\n",
      "sentence\n",
      "?\n",
      "Yes, it is!</p>\n",
      "Yes\n",
      ",\n",
      "it\n",
      "is\n",
      "!\n",
      "<\n",
      "/p\n",
      ">\n"
     ]
    }
   ],
   "source": [
    "from nltk.tokenize import sent_tokenize, word_tokenize\n",
    "\n",
    "text03 = \"<p>This is the first sentence. A gallon-of-milk in the U.S. costs $2.99. Is this the third sentence? Yes, it is!</p>\"\n",
    "\n",
    "# Split the text string into sentences\n",
    "sentences = sent_tokenize(text03)\n",
    "for sent in sentences: # TODO: separar las sentencias \n",
    "    print (sent)\n",
    "    # Split the sentences into words\n",
    "    words = word_tokenize(sent)\n",
    "    for word in words:# TODO: separar las palabras\n",
    "        print (word)"
   ]
  },
  {
   "cell_type": "markdown",
   "metadata": {
    "id": "oIJt7ZFTDQSY"
   },
   "source": [
    "## 1.2. Eliminación de números y símbolos. Conversión a minúsculas.\n",
    "\n",
    "Como se puede comprobar, `word_tokenizer()` mantiene los signos de puntuación así como los los números y otros símbolos.\n",
    "\n",
    "Una estrategia para reducir el número de palabras/tokens es convertirlas a minúsculas, pues algunos signos de puntuación modifican la letra inicial de las palabras. Así se consigue reducir el número de variantes de una misma palabra.\n",
    "\n",
    "\n"
   ]
  },
  {
   "cell_type": "code",
   "execution_count": 5,
   "metadata": {
    "id": "42rTEi1l-3SR"
   },
   "outputs": [
    {
     "name": "stdout",
     "output_type": "stream",
     "text": [
      "['this', 'is', 'the', 'first', 'sentence', 'gallon', 'of', 'milk', 'in', 'the', 'costs', 'is', 'this', 'the', 'third', 'sentence', 'yes', 'it', 'is']\n"
     ]
    }
   ],
   "source": [
    "import string\n",
    "\n",
    "def remove_tags (s):# TODO: eliminar tags html\n",
    "    #Initialize the regular expressions variable with the search pattern\n",
    "    clean = '<.*?>'\n",
    "    # Applied the regular expression to eliminate html tags\n",
    "    return re.sub(clean, '', s)\n",
    "\n",
    "\n",
    "# TODO : eliminar tags, tokenizar, convertir a minúsculas y eliminar símbolos no alfabéticos y números \n",
    "def tokenize_and_remove_punctuations(s):\n",
    "        \n",
    "        string_witout_tags= remove_tags (s)\n",
    "        tokens = str(word_tokenize(string_witout_tags))\n",
    "        lower_case = tokens.lower()\n",
    "        return(re.findall(\"\\w+[a-z]\", lower_case))\n",
    "print ((tokenize_and_remove_punctuations (text03))) "
   ]
  },
  {
   "cell_type": "markdown",
   "metadata": {
    "id": "_9I2sR40MnSQ"
   },
   "source": [
    "## 1.3. Palabras vacías\n",
    "\n",
    "Las *palabras vacías* (stopwords) son palabras más comunes en cualquier lenguaje, tienen sentido gramatical pero con poco significado para el análisis de un texto. Estas palabras vacías se incluyen artículos, preposiciones, conjunciones, pronombres, etc. así que su eliminación reduce considerablemente el número de palabras.\n",
    "\n",
    "NLTK tiene listas de palabras vacías en 16 idiomas. En este caso, se ha cargado la lista en inglés.\n",
    "\n"
   ]
  },
  {
   "cell_type": "code",
   "execution_count": 6,
   "metadata": {
    "id": "jcrShuseB4ip"
   },
   "outputs": [
    {
     "data": {
      "text/plain": [
       "['first', 'sentence', 'gallon', 'milk', 'costs', 'third', 'sentence', 'yes']"
      ]
     },
     "execution_count": 6,
     "metadata": {},
     "output_type": "execute_result"
    }
   ],
   "source": [
    "# TODO : dada una lista de tokens, suprimir aquellos que sean palabras vacías \n",
    "#        o que su longitud es menor o igual 2\n",
    "\n",
    "import nltk\n",
    "def remove_stop_words(tokens):\n",
    "    # Get the stop words    \n",
    "    stopwords = nltk.corpus.stopwords.words('english')\n",
    "    #Filter stop words and words with a longitude less than 2\n",
    "    filtered_words =[word for word in tokens if (not word in stopwords and len(word)> 2) ] # TODO\n",
    "    return filtered_words\n",
    "\n",
    "remove_stop_words ( tokenize_and_remove_punctuations (text03)  )\n"
   ]
  },
  {
   "cell_type": "markdown",
   "metadata": {
    "id": "W2VeHy1uJqiV"
   },
   "source": [
    "## 1.4. Normalización\n",
    "\n",
    "Muchos idiomas contienen palabras derivadas de otras y esto se denomina [flexión](https://es.wikipedia.org/wiki/Flexi%C3%B3n_(ling%C3%BC%C3%ADstica)). La flexión es la modificación de una para expresar diferentes categorías gramaticales como persona, número, género, etc.\n",
    "\n",
    "Tratar esta flexión para llevar las palabras a una forma base se denomina **normalización de palabras**. La normalización permite que si se busca por una palabra se haga al mismo tiempo por todas sus flexiones.\n",
    "\n",
    "La **lematización** es el proceso de reducir la inflexión de las palabras para llevarla a su forma origen o raíz. El lema es la parte de la palabra a la que se añade la flexión.\n",
    "\n",
    "En NLTK hay disponibles diferentes lematizadores aunque aquí vamos a utilizar el más conocido: [algoritmo de Porter](https://es.wikipedia.org/wiki/Algoritmo_de_Porter). \n",
    "\n",
    "\n",
    "Podéis ver algo más de estos procesos en \n",
    "https://www.datacamp.com/community/tutorials/stemming-lemmatization-python"
   ]
  },
  {
   "cell_type": "code",
   "execution_count": 7,
   "metadata": {
    "id": "qI7x5BOHJqG_"
   },
   "outputs": [
    {
     "data": {
      "text/plain": [
       "['first', 'sentenc', 'gallon', 'milk', 'cost', 'third', 'sentenc', 'ye']"
      ]
     },
     "execution_count": 7,
     "metadata": {},
     "output_type": "execute_result"
    }
   ],
   "source": [
    "\n",
    "from nltk.stem import PorterStemmer\n",
    "\n",
    "def stem_words(tokens):\n",
    "    #Create stemmer \n",
    "    stemmer = PorterStemmer()\n",
    "    # Applied stemmer from tokens \n",
    "    stemmed_words = [stemmer.stem(word) for word in tokens] # TODO : obtener la versión básica de todos los tokens\n",
    "    return stemmed_words\n",
    "\n",
    "stem_words ( remove_stop_words(tokenize_and_remove_punctuations (text03)) )"
   ]
  },
  {
   "cell_type": "markdown",
   "metadata": {
    "id": "b88Wpw_m2afn"
   },
   "source": [
    "Una vez que ya están realizadas las operaciones básicas sobre el texto, es momento de ponerlo todo junto en la función `preprocess_data ()` que recibe un array de pares `(documentId, text)` y aplica las transformaciones anteriormente descritas."
   ]
  },
  {
   "cell_type": "code",
   "execution_count": 195,
   "metadata": {
    "id": "CV3V7b68FTa6"
   },
   "outputs": [],
   "source": [
    "def preprocess_text ( text , stem=True):\n",
    "    if stem == True:\n",
    "        # Preprocess with stem\n",
    "        tokens = stem_words ( remove_stop_words(tokenize_and_remove_punctuations (text)) )       # TODO\n",
    "    else: \n",
    "        # Preprocess without stem\n",
    "        tokens = remove_stop_words(tokenize_and_remove_punctuations (text))\n",
    "    return tokens \n",
    "\n",
    "def preprocess_data(contents, stem=True):\n",
    "    dataDict = {}\n",
    "    for content in contents:\n",
    "        dataDict[content[0]] = preprocess_text(content[1], stem)\n",
    "    return dataDict\n"
   ]
  },
  {
   "cell_type": "code",
   "execution_count": 196,
   "metadata": {
    "id": "8SLxkerz5FwZ"
   },
   "outputs": [
    {
     "name": "stdout",
     "output_type": "stream",
     "text": [
      "['simpl', 'hello', 'world', 'test', 'world']\n",
      "['wonder', 'world']\n",
      "['document', 'java', 'languag']\n",
      "['write', 'need', 'cup', 'coffe']\n",
      "['write', 'hello', 'world', 'java']\n"
     ]
    }
   ],
   "source": [
    "document_1 = \"A simple hello world test for the world\"\n",
    "document_2 = \"What a wonderful world this is :-)\"\n",
    "document_3 = \"This document is about the Java Language\"\n",
    "document_4 = \"Before I write more about this I need a cup of coffee\"\n",
    "document_5 = \"How to write Hello World in Java\"\n",
    "documents = [document_1, document_2, document_3, document_4, document_5]\n",
    "\n",
    "docIds = ['doc01','doc02','doc03','doc04','doc05']\n",
    "\n",
    "# Get iterator from two iterables \n",
    "documents_list =  zip(docIds,documents) # TODO : generar una lista de la forma  [('doc01', 'I love..'), ... ]\n",
    "\n",
    "# Preprocess the document list\n",
    "data_docs = preprocess_data(documents_list, True) # TODO : preprocesar la lista de documentos de ejemplo\n",
    "#Print dictionary \n",
    "print(data_docs['doc01'])\n",
    "print(data_docs['doc02'])\n",
    "print(data_docs['doc03'])\n",
    "print(data_docs['doc04'])\n",
    "print(data_docs['doc05'])"
   ]
  },
  {
   "cell_type": "markdown",
   "metadata": {
    "id": "WpDoPJNOJmwE"
   },
   "source": [
    "## 1.5. Frecuencia de las palabras\n"
   ]
  },
  {
   "cell_type": "markdown",
   "metadata": {
    "id": "tdgkCF-rRn88"
   },
   "source": [
    "Ahora vamos a ver cómo de importante es una palabra/token en los documentos. \n",
    "\n",
    "Lo primero que hay que hacer es obtener un vocabulario que no es más que la lista de todos los tokens únicos que aparecen en todos los documentos.\n",
    "\n"
   ]
  },
  {
   "cell_type": "code",
   "execution_count": 197,
   "metadata": {
    "id": "ap24675u5Tmw"
   },
   "outputs": [
    {
     "data": {
      "text/plain": [
       "['simpl',\n",
       " 'hello',\n",
       " 'world',\n",
       " 'test',\n",
       " 'wonder',\n",
       " 'document',\n",
       " 'java',\n",
       " 'languag',\n",
       " 'write',\n",
       " 'need',\n",
       " 'cup',\n",
       " 'coffe']"
      ]
     },
     "execution_count": 197,
     "metadata": {},
     "output_type": "execute_result"
    }
   ],
   "source": [
    "def get_vocabulary(data):\n",
    "    tokens = []\n",
    "    \n",
    "    # loop through words list of each document\n",
    "    for words in data.values():\n",
    "        # loop through word of each list\n",
    "        for word in words:\n",
    "            if not word in tokens:\n",
    "                # Add if  the word is not in the list tokens\n",
    "                tokens.append(word)\n",
    "    return list(tokens)\n",
    "\n",
    "get_vocabulary ( data_docs)\n"
   ]
  },
  {
   "cell_type": "markdown",
   "metadata": {
    "id": "cS802HVsRsQp"
   },
   "source": [
    "Para ello podemos calcular la frecuencia de cada término contando el número de veces que aparece en cada documento, que será una medida de su peso o importancia.\n",
    "\n",
    "$TF (t,d) = f_{t,d}$  (#número de repeticiones del término $t$ en el documento $d$)"
   ]
  },
  {
   "cell_type": "code",
   "execution_count": 198,
   "metadata": {
    "id": "mvPko3Wm7Y8o"
   },
   "outputs": [
    {
     "data": {
      "text/plain": [
       "{'write': 0.25, 'need': 0.25, 'cup': 0.25, 'coffe': 0.25}"
      ]
     },
     "execution_count": 198,
     "metadata": {},
     "output_type": "execute_result"
    }
   ],
   "source": [
    "from nltk.probability import FreqDist\n",
    "\n",
    "def calculate_tf(tokens):\n",
    "    tf_score = {}\n",
    "    freq=FreqDist(tokens)\n",
    "    #loop through word of each list\n",
    "    for word,val in freq.items():\n",
    "        if not word in tf_score:\n",
    "            # Initialize the found word\n",
    "            tf_score[word]=val/sum(freq.values())\n",
    "        else:\n",
    "            # Increase the counter \n",
    "            tf_score[word]+=val/sum(freq.values())\n",
    "    return tf_score\n",
    "\n",
    "fdist = calculate_tf ( data_docs['doc04'])\n",
    "fdist\n",
    "    "
   ]
  },
  {
   "cell_type": "markdown",
   "metadata": {
    "id": "vY4X4luHToWR"
   },
   "source": [
    "La **frecuencia inversa de documentos** para un término $t$ es el logaritmo (en este caso en base 2) del cociente entre el número de documentos y el número de documentos en los que aparece el término $t$.\n",
    "\n",
    "\n",
    "$ IDF (t) = log_{2} \\frac{N}{\\{d \\in D : t \\in d \\}} $\n",
    "\n",
    "A mayor puntuación de TF*IDF el término es más específico y a menor puntuación, más genérico."
   ]
  },
  {
   "cell_type": "code",
   "execution_count": 199,
   "metadata": {
    "id": "ebOdwtTY6T6h"
   },
   "outputs": [
    {
     "data": {
      "text/plain": [
       "{'simpl': 4.643856189774724,\n",
       " 'hello': 3.473931188332412,\n",
       " 'world': 2.120294233717712,\n",
       " 'test': 4.643856189774724,\n",
       " 'wonder': 3.321928094887362,\n",
       " 'document': 3.9068905956085187,\n",
       " 'java': 3.0995356735509145,\n",
       " 'languag': 3.9068905956085187,\n",
       " 'write': 3.321928094887362,\n",
       " 'need': 4.321928094887363,\n",
       " 'cup': 4.321928094887363,\n",
       " 'coffe': 4.321928094887363}"
      ]
     },
     "execution_count": 199,
     "metadata": {},
     "output_type": "execute_result"
    }
   ],
   "source": [
    "import math \n",
    "\n",
    "def calculate_idf(data):\n",
    "    idf_score = {}\n",
    "    N =  len(data.keys()) # TODO: número de documentos\n",
    "    all_words = get_vocabulary ( data_docs) # TODO: obtener el vocabulario\n",
    "    #loop through vocabulary list\n",
    "    for w in all_words:\n",
    "        #loop through documents\n",
    "        for doc in data.values():\n",
    "            #loop through document items \n",
    "            for term, val in doc.items():\n",
    "                #Update our score  \n",
    "                if term == w:  \n",
    "                    if not w in idf_score:\n",
    "                        # Initialize the found word\n",
    "                        idf_score[w]=val\n",
    "                    else:\n",
    "                        # Increase the counter \n",
    "                        idf_score[w]+=val\n",
    "        # Applied the formula\n",
    "        idf_score[w]=math.log2(N/idf_score[w])\n",
    "    return idf_score\n",
    "\n",
    "fdist = [calculate_tf ( tokens) for tokens in data_docs.values()]\n",
    "fdist_dict = dict(zip(data_docs.keys(),fdist))\n",
    "idf_score = calculate_idf (fdist_dict)\n",
    "idf_score"
   ]
  },
  {
   "cell_type": "code",
   "execution_count": 200,
   "metadata": {
    "id": "PnSwuFHxDwkt"
   },
   "outputs": [
    {
     "data": {
      "text/plain": [
       "{'doc01': {'simpl': 0.9287712379549449,\n",
       "  'hello': 0.868482797083103,\n",
       "  'world': 0.530073558429428,\n",
       "  'test': 0.9287712379549449},\n",
       " 'doc02': {'world': 0.530073558429428, 'wonder': 1.660964047443681},\n",
       " 'doc03': {'document': 1.3022968652028395,\n",
       "  'java': 0.7748839183877286,\n",
       "  'languag': 1.3022968652028395},\n",
       " 'doc04': {'write': 0.8304820237218405,\n",
       "  'need': 1.0804820237218407,\n",
       "  'cup': 1.0804820237218407,\n",
       "  'coffe': 1.0804820237218407},\n",
       " 'doc05': {'hello': 0.868482797083103,\n",
       "  'world': 0.530073558429428,\n",
       "  'java': 0.7748839183877286,\n",
       "  'write': 0.8304820237218405}}"
      ]
     },
     "execution_count": 200,
     "metadata": {},
     "output_type": "execute_result"
    }
   ],
   "source": [
    "def calculate_tfidf(data, idf_score):\n",
    "    scores = {}\n",
    "    #loop through idf document list\n",
    "    for doc in fdist_dict.values():\n",
    "        #loop through idf term lis\n",
    "        for term, val in doc.items():\n",
    "            # Calculate the tf*idf\n",
    "            if term in data:\n",
    "                scores[term]=val*idf_score[term]\n",
    "    return scores\n",
    "\n",
    "ftfidf = [calculate_tfidf ( doc,idf_score) for doc in data_docs.values()]\n",
    "ftfidf_dict = dict(zip(data_docs.keys(),ftfidf))\n",
    "ftfidf_dict\n"
   ]
  },
  {
   "cell_type": "markdown",
   "metadata": {
    "id": "keFHyYR8Ueww"
   },
   "source": [
    "## 1.6. Generar el espacio vectorial\n",
    "\n",
    "Usando las funciones anteriores vamos a construir la matriz de documentos (en filas) y términos (en columnas). Para facilitar la tarea usaremos una estructura de datos ya conocida, el **dataframe**.\n"
   ]
  },
  {
   "cell_type": "code",
   "execution_count": 193,
   "metadata": {
    "id": "JRFap5kzUls0"
   },
   "outputs": [
    {
     "data": {
      "text/html": [
       "<div>\n",
       "<style scoped>\n",
       "    .dataframe tbody tr th:only-of-type {\n",
       "        vertical-align: middle;\n",
       "    }\n",
       "\n",
       "    .dataframe tbody tr th {\n",
       "        vertical-align: top;\n",
       "    }\n",
       "\n",
       "    .dataframe thead th {\n",
       "        text-align: right;\n",
       "    }\n",
       "</style>\n",
       "<table border=\"1\" class=\"dataframe\">\n",
       "  <thead>\n",
       "    <tr style=\"text-align: right;\">\n",
       "      <th></th>\n",
       "      <th>simpl</th>\n",
       "      <th>hello</th>\n",
       "      <th>world</th>\n",
       "      <th>test</th>\n",
       "      <th>wonder</th>\n",
       "      <th>document</th>\n",
       "      <th>java</th>\n",
       "      <th>languag</th>\n",
       "      <th>write</th>\n",
       "      <th>need</th>\n",
       "      <th>cup</th>\n",
       "      <th>coffe</th>\n",
       "    </tr>\n",
       "  </thead>\n",
       "  <tbody>\n",
       "    <tr>\n",
       "      <th>doc01</th>\n",
       "      <td>0.928771</td>\n",
       "      <td>0.868483</td>\n",
       "      <td>0.530074</td>\n",
       "      <td>0.928771</td>\n",
       "      <td>NaN</td>\n",
       "      <td>NaN</td>\n",
       "      <td>NaN</td>\n",
       "      <td>NaN</td>\n",
       "      <td>NaN</td>\n",
       "      <td>NaN</td>\n",
       "      <td>NaN</td>\n",
       "      <td>NaN</td>\n",
       "    </tr>\n",
       "    <tr>\n",
       "      <th>doc02</th>\n",
       "      <td>NaN</td>\n",
       "      <td>NaN</td>\n",
       "      <td>0.530074</td>\n",
       "      <td>NaN</td>\n",
       "      <td>1.660964</td>\n",
       "      <td>NaN</td>\n",
       "      <td>NaN</td>\n",
       "      <td>NaN</td>\n",
       "      <td>NaN</td>\n",
       "      <td>NaN</td>\n",
       "      <td>NaN</td>\n",
       "      <td>NaN</td>\n",
       "    </tr>\n",
       "    <tr>\n",
       "      <th>doc03</th>\n",
       "      <td>NaN</td>\n",
       "      <td>NaN</td>\n",
       "      <td>NaN</td>\n",
       "      <td>NaN</td>\n",
       "      <td>NaN</td>\n",
       "      <td>1.302297</td>\n",
       "      <td>0.774884</td>\n",
       "      <td>1.302297</td>\n",
       "      <td>NaN</td>\n",
       "      <td>NaN</td>\n",
       "      <td>NaN</td>\n",
       "      <td>NaN</td>\n",
       "    </tr>\n",
       "    <tr>\n",
       "      <th>doc04</th>\n",
       "      <td>NaN</td>\n",
       "      <td>NaN</td>\n",
       "      <td>NaN</td>\n",
       "      <td>NaN</td>\n",
       "      <td>NaN</td>\n",
       "      <td>NaN</td>\n",
       "      <td>NaN</td>\n",
       "      <td>NaN</td>\n",
       "      <td>0.830482</td>\n",
       "      <td>1.080482</td>\n",
       "      <td>1.080482</td>\n",
       "      <td>1.080482</td>\n",
       "    </tr>\n",
       "    <tr>\n",
       "      <th>doc05</th>\n",
       "      <td>NaN</td>\n",
       "      <td>0.868483</td>\n",
       "      <td>0.530074</td>\n",
       "      <td>NaN</td>\n",
       "      <td>NaN</td>\n",
       "      <td>NaN</td>\n",
       "      <td>0.774884</td>\n",
       "      <td>NaN</td>\n",
       "      <td>0.830482</td>\n",
       "      <td>NaN</td>\n",
       "      <td>NaN</td>\n",
       "      <td>NaN</td>\n",
       "    </tr>\n",
       "  </tbody>\n",
       "</table>\n",
       "</div>"
      ],
      "text/plain": [
       "          simpl     hello     world      test    wonder  document      java  \\\n",
       "doc01  0.928771  0.868483  0.530074  0.928771       NaN       NaN       NaN   \n",
       "doc02       NaN       NaN  0.530074       NaN  1.660964       NaN       NaN   \n",
       "doc03       NaN       NaN       NaN       NaN       NaN  1.302297  0.774884   \n",
       "doc04       NaN       NaN       NaN       NaN       NaN       NaN       NaN   \n",
       "doc05       NaN  0.868483  0.530074       NaN       NaN       NaN  0.774884   \n",
       "\n",
       "        languag     write      need       cup     coffe  \n",
       "doc01       NaN       NaN       NaN       NaN       NaN  \n",
       "doc02       NaN       NaN       NaN       NaN       NaN  \n",
       "doc03  1.302297       NaN       NaN       NaN       NaN  \n",
       "doc04       NaN  0.830482  1.080482  1.080482  1.080482  \n",
       "doc05       NaN  0.830482       NaN       NaN       NaN  "
      ]
     },
     "execution_count": 193,
     "metadata": {},
     "output_type": "execute_result"
    }
   ],
   "source": [
    "import pandas as pd\n",
    "\n",
    "def generate_dataframe ( data ):\n",
    "    \n",
    "    all_words = get_vocabulary ( data) # TODO : obtener el vocabulario\n",
    "\n",
    "    #loop through documents to obtain the tf*idf list     \n",
    "    ftfidf = [calculate_tfidf ( doc,idf_score) for doc in data.values()]# TODO: calcular tf*idf\n",
    "    \n",
    "    #Build and return dataframe\n",
    "    df = pd.DataFrame ( ftfidf, index=data.keys()) \n",
    "    return df\n",
    "\n",
    "df_data = generate_dataframe (data_docs)\n",
    "df_data.head(5)"
   ]
  },
  {
   "cell_type": "markdown",
   "metadata": {
    "id": "oNlyfOCNFYtZ"
   },
   "source": [
    "## 1.7. Generar el índice invertido\n",
    "\n",
    "De manera similar, vamos a generar un índice invertido que almacenaremos en una estructura de datos Python: el **diccionario**.\n",
    "\n",
    "\n"
   ]
  },
  {
   "cell_type": "code",
   "execution_count": 203,
   "metadata": {
    "id": "r8_AJecsFn6T"
   },
   "outputs": [
    {
     "data": {
      "text/html": [
       "<div>\n",
       "<style scoped>\n",
       "    .dataframe tbody tr th:only-of-type {\n",
       "        vertical-align: middle;\n",
       "    }\n",
       "\n",
       "    .dataframe tbody tr th {\n",
       "        vertical-align: top;\n",
       "    }\n",
       "\n",
       "    .dataframe thead th {\n",
       "        text-align: right;\n",
       "    }\n",
       "</style>\n",
       "<table border=\"1\" class=\"dataframe\">\n",
       "  <thead>\n",
       "    <tr style=\"text-align: right;\">\n",
       "      <th></th>\n",
       "      <th>doc01</th>\n",
       "      <th>doc02</th>\n",
       "      <th>doc03</th>\n",
       "      <th>doc04</th>\n",
       "      <th>doc05</th>\n",
       "    </tr>\n",
       "  </thead>\n",
       "  <tbody>\n",
       "    <tr>\n",
       "      <th>simpl</th>\n",
       "      <td>0.928771</td>\n",
       "      <td>NaN</td>\n",
       "      <td>NaN</td>\n",
       "      <td>NaN</td>\n",
       "      <td>NaN</td>\n",
       "    </tr>\n",
       "    <tr>\n",
       "      <th>hello</th>\n",
       "      <td>0.868483</td>\n",
       "      <td>NaN</td>\n",
       "      <td>NaN</td>\n",
       "      <td>NaN</td>\n",
       "      <td>0.868483</td>\n",
       "    </tr>\n",
       "    <tr>\n",
       "      <th>world</th>\n",
       "      <td>0.530074</td>\n",
       "      <td>0.530074</td>\n",
       "      <td>NaN</td>\n",
       "      <td>NaN</td>\n",
       "      <td>0.530074</td>\n",
       "    </tr>\n",
       "    <tr>\n",
       "      <th>test</th>\n",
       "      <td>0.928771</td>\n",
       "      <td>NaN</td>\n",
       "      <td>NaN</td>\n",
       "      <td>NaN</td>\n",
       "      <td>NaN</td>\n",
       "    </tr>\n",
       "    <tr>\n",
       "      <th>wonder</th>\n",
       "      <td>NaN</td>\n",
       "      <td>1.660964</td>\n",
       "      <td>NaN</td>\n",
       "      <td>NaN</td>\n",
       "      <td>NaN</td>\n",
       "    </tr>\n",
       "    <tr>\n",
       "      <th>document</th>\n",
       "      <td>NaN</td>\n",
       "      <td>NaN</td>\n",
       "      <td>1.302297</td>\n",
       "      <td>NaN</td>\n",
       "      <td>NaN</td>\n",
       "    </tr>\n",
       "    <tr>\n",
       "      <th>java</th>\n",
       "      <td>NaN</td>\n",
       "      <td>NaN</td>\n",
       "      <td>0.774884</td>\n",
       "      <td>NaN</td>\n",
       "      <td>0.774884</td>\n",
       "    </tr>\n",
       "    <tr>\n",
       "      <th>languag</th>\n",
       "      <td>NaN</td>\n",
       "      <td>NaN</td>\n",
       "      <td>1.302297</td>\n",
       "      <td>NaN</td>\n",
       "      <td>NaN</td>\n",
       "    </tr>\n",
       "    <tr>\n",
       "      <th>write</th>\n",
       "      <td>NaN</td>\n",
       "      <td>NaN</td>\n",
       "      <td>NaN</td>\n",
       "      <td>0.830482</td>\n",
       "      <td>0.830482</td>\n",
       "    </tr>\n",
       "    <tr>\n",
       "      <th>need</th>\n",
       "      <td>NaN</td>\n",
       "      <td>NaN</td>\n",
       "      <td>NaN</td>\n",
       "      <td>1.080482</td>\n",
       "      <td>NaN</td>\n",
       "    </tr>\n",
       "    <tr>\n",
       "      <th>cup</th>\n",
       "      <td>NaN</td>\n",
       "      <td>NaN</td>\n",
       "      <td>NaN</td>\n",
       "      <td>1.080482</td>\n",
       "      <td>NaN</td>\n",
       "    </tr>\n",
       "    <tr>\n",
       "      <th>coffe</th>\n",
       "      <td>NaN</td>\n",
       "      <td>NaN</td>\n",
       "      <td>NaN</td>\n",
       "      <td>1.080482</td>\n",
       "      <td>NaN</td>\n",
       "    </tr>\n",
       "  </tbody>\n",
       "</table>\n",
       "</div>"
      ],
      "text/plain": [
       "             doc01     doc02     doc03     doc04     doc05\n",
       "simpl     0.928771       NaN       NaN       NaN       NaN\n",
       "hello     0.868483       NaN       NaN       NaN  0.868483\n",
       "world     0.530074  0.530074       NaN       NaN  0.530074\n",
       "test      0.928771       NaN       NaN       NaN       NaN\n",
       "wonder         NaN  1.660964       NaN       NaN       NaN\n",
       "document       NaN       NaN  1.302297       NaN       NaN\n",
       "java           NaN       NaN  0.774884       NaN  0.774884\n",
       "languag        NaN       NaN  1.302297       NaN       NaN\n",
       "write          NaN       NaN       NaN  0.830482  0.830482\n",
       "need           NaN       NaN       NaN  1.080482       NaN\n",
       "cup            NaN       NaN       NaN  1.080482       NaN\n",
       "coffe          NaN       NaN       NaN  1.080482       NaN"
      ]
     },
     "execution_count": 203,
     "metadata": {},
     "output_type": "execute_result"
    }
   ],
   "source": [
    "import pandas as pd\n",
    "\n",
    "def generate_inverted_index(data):\n",
    "\n",
    "    all_words = get_vocabulary ( data) # TODO : obtener el vocabulario\n",
    "    \n",
    "     #loop through documents to obtain the tf*idf list  \n",
    "    ftfidf = [calculate_tfidf ( doc,idf_score) for doc in data.values()]# TODO: calcular tf*idf\n",
    "    \n",
    "    #Build and return inverted dataframe\n",
    "    df = pd.DataFrame ( ftfidf, index=data.keys()) \n",
    "    return df.T\n",
    "\n",
    "inverted_index = generate_inverted_index (data_docs)\n",
    "inverted_index"
   ]
  },
  {
   "cell_type": "markdown",
   "metadata": {
    "id": "8MvXZOcrFnRh"
   },
   "source": [
    "## 1.8. Resolución de consultas\n",
    "\n"
   ]
  },
  {
   "cell_type": "markdown",
   "metadata": {
    "id": "CiVHjcHnkY8h"
   },
   "source": [
    "Vamos a resolver consultas (obtener los documentos más relevantes) considerando la consulta como un vector y comparándolo con el conjunto de documentos mediante la **similitud del coseno**. \n",
    "\n",
    "Para ello vamos a utilizar la librería [sklearn](https://scikit-learn.org/stable/), aunque sólo la funcionalidad para calcular la similitud del coseno. "
   ]
  },
  {
   "cell_type": "code",
   "execution_count": 204,
   "metadata": {
    "id": "THFDY8QImpsA"
   },
   "outputs": [
    {
     "data": {
      "text/html": [
       "<div>\n",
       "<style scoped>\n",
       "    .dataframe tbody tr th:only-of-type {\n",
       "        vertical-align: middle;\n",
       "    }\n",
       "\n",
       "    .dataframe tbody tr th {\n",
       "        vertical-align: top;\n",
       "    }\n",
       "\n",
       "    .dataframe thead th {\n",
       "        text-align: right;\n",
       "    }\n",
       "</style>\n",
       "<table border=\"1\" class=\"dataframe\">\n",
       "  <thead>\n",
       "    <tr style=\"text-align: right;\">\n",
       "      <th></th>\n",
       "      <th>simpl</th>\n",
       "      <th>hello</th>\n",
       "      <th>world</th>\n",
       "      <th>test</th>\n",
       "      <th>wonder</th>\n",
       "      <th>document</th>\n",
       "      <th>java</th>\n",
       "      <th>languag</th>\n",
       "      <th>write</th>\n",
       "      <th>need</th>\n",
       "      <th>cup</th>\n",
       "      <th>coffe</th>\n",
       "    </tr>\n",
       "  </thead>\n",
       "  <tbody>\n",
       "    <tr>\n",
       "      <th>q1</th>\n",
       "      <td>0</td>\n",
       "      <td>1</td>\n",
       "      <td>1</td>\n",
       "      <td>0</td>\n",
       "      <td>0</td>\n",
       "      <td>0</td>\n",
       "      <td>0</td>\n",
       "      <td>0</td>\n",
       "      <td>0</td>\n",
       "      <td>0</td>\n",
       "      <td>0</td>\n",
       "      <td>0</td>\n",
       "    </tr>\n",
       "  </tbody>\n",
       "</table>\n",
       "</div>"
      ],
      "text/plain": [
       "    simpl  hello  world  test  wonder  document  java  languag  write  need  \\\n",
       "q1      0      1      1     0       0         0     0        0      0     0   \n",
       "\n",
       "    cup  coffe  \n",
       "q1    0      0  "
      ]
     },
     "execution_count": 204,
     "metadata": {},
     "output_type": "execute_result"
    }
   ],
   "source": [
    "# generar un dataframe para la consulta\n",
    "\n",
    "q = \"hello world\"\n",
    "\n",
    "def generate_query_dataframe ( vocabulary , q ):\n",
    "    table={}\n",
    "    q_dict =   preprocess_text(q, True)  # TODO : preprocesar las palabras de la consulta\n",
    "    \n",
    "    #loop through vocabulary \n",
    "    for tokens in vocabulary:\n",
    "        #Check if vabulary token is in the query \n",
    "        if tokens in q_dict:\n",
    "           table[tokens]=1\n",
    "        else:\n",
    "           table[tokens]=0\n",
    "    #Build and return dataframe\n",
    "    df = pd.DataFrame ( table , index ={'q1'} )\n",
    "    return df \n",
    "\n",
    "#Call the function and show the result\n",
    "df_query =  generate_query_dataframe ( get_vocabulary(data_docs)  , q )\n",
    "df_query.head(10)"
   ]
  },
  {
   "cell_type": "code",
   "execution_count": 205,
   "metadata": {
    "id": "CoKt3SbDk4v-"
   },
   "outputs": [
    {
     "name": "stdout",
     "output_type": "stream",
     "text": [
      "Wall time: 4 ms\n",
      "[1.]\n",
      "Documento más similar : A simple hello world test for the world (doc01) \n"
     ]
    }
   ],
   "source": [
    "from sklearn.metrics.pairwise import cosine_similarity\n",
    "import numpy as np\n",
    "\n",
    "%time q_cossim = cosine_similarity(df_query) #TODO : calcular la similitud del coseno e indicar qué documento es el más próximo a la consulta\n",
    "\n",
    "print (q_cossim.flatten())\n",
    "ind = np.unravel_index ( np.argmax(q_cossim, axis=None), q_cossim.shape)\n",
    "print ('Documento más similar : %s (%s) ' %  (documents[ind[0]],docIds[ind[0]]) )"
   ]
  },
  {
   "cell_type": "markdown",
   "metadata": {
    "id": "pjknLHHHc7KM"
   },
   "source": [
    "# Parte 2. Stack Overflow"
   ]
  },
  {
   "cell_type": "markdown",
   "metadata": {
    "id": "3pe8PIGqfwZq"
   },
   "source": [
    "Stack Overflow es un sitio de preguntas y respuestas para programadores profesionales y aficionados. Contiene preguntas y respuestas sobre una amplia gama de temas de programación.\n",
    "\n",
    "En este ejercicio vamos a usar en subconjunto del dataset original que contiene 500 posts. El dataset se obtiene del volcado de Stack Overflow en Big Query de Google.\n",
    "\n",
    "Lo primero que hay que hacer es leer línea por línea el archivo JSON `stackoverflow-test.json` y meterlo en lun DataFrame de pandas. (Nota: `lines=True` indica que se trate cada línea como una cadena json) "
   ]
  },
  {
   "cell_type": "code",
   "execution_count": 18,
   "metadata": {
    "id": "6Ppk2NnPllay"
   },
   "outputs": [],
   "source": [
    "#from google.colab import files # subir archivo\n",
    "#uploaded = files.upload()"
   ]
  },
  {
   "cell_type": "code",
   "execution_count": 19,
   "metadata": {
    "id": "XZvVtEITgTgj"
   },
   "outputs": [],
   "source": [
    "#Get the data from our JSON file\n",
    "stackoverflow_df = pd.read_json('stackoverflow.json',lines=True) # TODO"
   ]
  },
  {
   "cell_type": "code",
   "execution_count": 20,
   "metadata": {
    "id": "WsjBy4XshErJ"
   },
   "outputs": [
    {
     "data": {
      "text/html": [
       "<div>\n",
       "<style scoped>\n",
       "    .dataframe tbody tr th:only-of-type {\n",
       "        vertical-align: middle;\n",
       "    }\n",
       "\n",
       "    .dataframe tbody tr th {\n",
       "        vertical-align: top;\n",
       "    }\n",
       "\n",
       "    .dataframe thead th {\n",
       "        text-align: right;\n",
       "    }\n",
       "</style>\n",
       "<table border=\"1\" class=\"dataframe\">\n",
       "  <thead>\n",
       "    <tr style=\"text-align: right;\">\n",
       "      <th></th>\n",
       "      <th>id</th>\n",
       "      <th>title</th>\n",
       "      <th>body</th>\n",
       "      <th>accepted_answer_id</th>\n",
       "      <th>answer_count</th>\n",
       "      <th>comment_count</th>\n",
       "      <th>creation_date</th>\n",
       "      <th>last_activity_date</th>\n",
       "      <th>last_edit_date</th>\n",
       "      <th>last_editor_display_name</th>\n",
       "      <th>last_editor_user_id</th>\n",
       "      <th>owner_display_name</th>\n",
       "      <th>owner_user_id</th>\n",
       "      <th>post_type_id</th>\n",
       "      <th>score</th>\n",
       "      <th>tags</th>\n",
       "      <th>view_count</th>\n",
       "      <th>favorite_count</th>\n",
       "    </tr>\n",
       "  </thead>\n",
       "  <tbody>\n",
       "    <tr>\n",
       "      <th>0</th>\n",
       "      <td>3247246</td>\n",
       "      <td>Integrate War-Plugin for m2eclipse into Eclips...</td>\n",
       "      <td>&lt;p&gt;I set up a small web project with JSF and M...</td>\n",
       "      <td>3247526.0</td>\n",
       "      <td>2</td>\n",
       "      <td>0</td>\n",
       "      <td>2010-07-14 14:39:48.053 UTC</td>\n",
       "      <td>2010-07-14 16:02:19.683 UTC</td>\n",
       "      <td>2010-07-14 15:56:37.803 UTC</td>\n",
       "      <td></td>\n",
       "      <td>70604.0</td>\n",
       "      <td></td>\n",
       "      <td>389430.0</td>\n",
       "      <td>1</td>\n",
       "      <td>2</td>\n",
       "      <td>eclipse|maven-2|tomcat|m2eclipse</td>\n",
       "      <td>1653</td>\n",
       "      <td>NaN</td>\n",
       "    </tr>\n",
       "    <tr>\n",
       "      <th>1</th>\n",
       "      <td>40270764</td>\n",
       "      <td>phantomjs-node page.evaulate seems to hang</td>\n",
       "      <td>&lt;p&gt;I have an implementation of 'waitfor' with ...</td>\n",
       "      <td>NaN</td>\n",
       "      <td>1</td>\n",
       "      <td>0</td>\n",
       "      <td>2016-10-26 19:35:00.537 UTC</td>\n",
       "      <td>2016-11-02 20:05:09.143 UTC</td>\n",
       "      <td>NaN</td>\n",
       "      <td></td>\n",
       "      <td>NaN</td>\n",
       "      <td></td>\n",
       "      <td>245076.0</td>\n",
       "      <td>1</td>\n",
       "      <td>0</td>\n",
       "      <td>node.js|phantomjs</td>\n",
       "      <td>35</td>\n",
       "      <td>NaN</td>\n",
       "    </tr>\n",
       "    <tr>\n",
       "      <th>2</th>\n",
       "      <td>27532383</td>\n",
       "      <td>Dynamic operations can only be performed in ho...</td>\n",
       "      <td>&lt;p&gt;I'm working with an API that requires:&lt;/p&gt;\\...</td>\n",
       "      <td>NaN</td>\n",
       "      <td>1</td>\n",
       "      <td>0</td>\n",
       "      <td>2014-12-17 18:31:18.6 UTC</td>\n",
       "      <td>2014-12-17 19:57:43.443 UTC</td>\n",
       "      <td>NaN</td>\n",
       "      <td></td>\n",
       "      <td>NaN</td>\n",
       "      <td></td>\n",
       "      <td>3105880.0</td>\n",
       "      <td>1</td>\n",
       "      <td>1</td>\n",
       "      <td>c#|asp.net-mvc</td>\n",
       "      <td>4372</td>\n",
       "      <td>NaN</td>\n",
       "    </tr>\n",
       "    <tr>\n",
       "      <th>3</th>\n",
       "      <td>33511888</td>\n",
       "      <td>CSS with relative URL to background image?</td>\n",
       "      <td>&lt;p&gt;I have a file structure of:&lt;/p&gt;\\n\\n&lt;pre&gt;&lt;co...</td>\n",
       "      <td>NaN</td>\n",
       "      <td>2</td>\n",
       "      <td>2</td>\n",
       "      <td>2015-11-04 00:50:35.223 UTC</td>\n",
       "      <td>2015-11-04 01:51:03.037 UTC</td>\n",
       "      <td>2015-11-04 01:51:03.037 UTC</td>\n",
       "      <td></td>\n",
       "      <td>5464492.0</td>\n",
       "      <td></td>\n",
       "      <td>5464492.0</td>\n",
       "      <td>1</td>\n",
       "      <td>0</td>\n",
       "      <td>css|background-image</td>\n",
       "      <td>406</td>\n",
       "      <td>NaN</td>\n",
       "    </tr>\n",
       "    <tr>\n",
       "      <th>4</th>\n",
       "      <td>46160163</td>\n",
       "      <td>Share canvas image on android</td>\n",
       "      <td>&lt;p&gt;Hello so I write a small game where in the ...</td>\n",
       "      <td>46160246.0</td>\n",
       "      <td>1</td>\n",
       "      <td>0</td>\n",
       "      <td>2017-09-11 16:19:18.32 UTC</td>\n",
       "      <td>2017-09-11 16:24:12.69 UTC</td>\n",
       "      <td>NaN</td>\n",
       "      <td></td>\n",
       "      <td>NaN</td>\n",
       "      <td></td>\n",
       "      <td>8570512.0</td>\n",
       "      <td>1</td>\n",
       "      <td>0</td>\n",
       "      <td>android|canvas|bitmap|share</td>\n",
       "      <td>52</td>\n",
       "      <td>NaN</td>\n",
       "    </tr>\n",
       "    <tr>\n",
       "      <th>...</th>\n",
       "      <td>...</td>\n",
       "      <td>...</td>\n",
       "      <td>...</td>\n",
       "      <td>...</td>\n",
       "      <td>...</td>\n",
       "      <td>...</td>\n",
       "      <td>...</td>\n",
       "      <td>...</td>\n",
       "      <td>...</td>\n",
       "      <td>...</td>\n",
       "      <td>...</td>\n",
       "      <td>...</td>\n",
       "      <td>...</td>\n",
       "      <td>...</td>\n",
       "      <td>...</td>\n",
       "      <td>...</td>\n",
       "      <td>...</td>\n",
       "      <td>...</td>\n",
       "    </tr>\n",
       "    <tr>\n",
       "      <th>145</th>\n",
       "      <td>44530513</td>\n",
       "      <td>Passing pointer to function value not changing</td>\n",
       "      <td>&lt;pre&gt;&lt;code&gt;#include&amp;lt;stdio.h&amp;gt;\\n\\nvoid foo...</td>\n",
       "      <td>NaN</td>\n",
       "      <td>4</td>\n",
       "      <td>2</td>\n",
       "      <td>2017-06-13 20:02:22.257 UTC</td>\n",
       "      <td>2017-06-13 21:08:25.637 UTC</td>\n",
       "      <td>2017-06-13 20:05:04.34 UTC</td>\n",
       "      <td></td>\n",
       "      <td>3684343.0</td>\n",
       "      <td></td>\n",
       "      <td>6219266.0</td>\n",
       "      <td>1</td>\n",
       "      <td>0</td>\n",
       "      <td>c|pointers</td>\n",
       "      <td>62</td>\n",
       "      <td>NaN</td>\n",
       "    </tr>\n",
       "    <tr>\n",
       "      <th>146</th>\n",
       "      <td>17440509</td>\n",
       "      <td>Credit card number format</td>\n",
       "      <td>&lt;p&gt;I'm trying to create a nifty credit card nu...</td>\n",
       "      <td>17441497.0</td>\n",
       "      <td>2</td>\n",
       "      <td>4</td>\n",
       "      <td>2013-07-03 05:42:17.447 UTC</td>\n",
       "      <td>2013-09-20 12:10:16.083 UTC</td>\n",
       "      <td>NaN</td>\n",
       "      <td></td>\n",
       "      <td>NaN</td>\n",
       "      <td></td>\n",
       "      <td>262125.0</td>\n",
       "      <td>1</td>\n",
       "      <td>0</td>\n",
       "      <td>javascript|jquery|coffeescript</td>\n",
       "      <td>3616</td>\n",
       "      <td>NaN</td>\n",
       "    </tr>\n",
       "    <tr>\n",
       "      <th>147</th>\n",
       "      <td>495050</td>\n",
       "      <td>List of CSS features not supported by IE6</td>\n",
       "      <td>&lt;p&gt;I just finished slicing and coding a very n...</td>\n",
       "      <td>495077.0</td>\n",
       "      <td>9</td>\n",
       "      <td>3</td>\n",
       "      <td>2009-01-30 10:24:18.573 UTC</td>\n",
       "      <td>2015-01-31 23:30:38.3 UTC</td>\n",
       "      <td>2009-02-02 11:31:32.603 UTC</td>\n",
       "      <td>Bruno</td>\n",
       "      <td>17648.0</td>\n",
       "      <td>Bruno</td>\n",
       "      <td>17648.0</td>\n",
       "      <td>1</td>\n",
       "      <td>11</td>\n",
       "      <td>css|internet-explorer-6</td>\n",
       "      <td>7962</td>\n",
       "      <td>11.0</td>\n",
       "    </tr>\n",
       "    <tr>\n",
       "      <th>148</th>\n",
       "      <td>9356536</td>\n",
       "      <td>Getting 'CGI (LoadError)' when migrating Tumbl...</td>\n",
       "      <td>&lt;p&gt;I am using RVM,&lt;/p&gt;\\n\\n&lt;pre&gt;&lt;code&gt;$ ruby -v...</td>\n",
       "      <td>10183090.0</td>\n",
       "      <td>1</td>\n",
       "      <td>1</td>\n",
       "      <td>2012-02-20 05:22:08.93 UTC</td>\n",
       "      <td>2012-04-16 23:28:10.047 UTC</td>\n",
       "      <td>NaN</td>\n",
       "      <td></td>\n",
       "      <td>NaN</td>\n",
       "      <td></td>\n",
       "      <td>1201104.0</td>\n",
       "      <td>1</td>\n",
       "      <td>3</td>\n",
       "      <td>ruby|cgi|tumblr|jekyll</td>\n",
       "      <td>411</td>\n",
       "      <td>NaN</td>\n",
       "    </tr>\n",
       "    <tr>\n",
       "      <th>149</th>\n",
       "      <td>32553694</td>\n",
       "      <td>Python infinite series pi/4</td>\n",
       "      <td>&lt;p&gt;I have a problem to solve, but I am having ...</td>\n",
       "      <td>32554171.0</td>\n",
       "      <td>1</td>\n",
       "      <td>3</td>\n",
       "      <td>2015-09-13 19:29:03.687 UTC</td>\n",
       "      <td>2015-09-13 20:19:26.997 UTC</td>\n",
       "      <td>2015-09-13 19:32:37.667 UTC</td>\n",
       "      <td></td>\n",
       "      <td>270986.0</td>\n",
       "      <td></td>\n",
       "      <td>3741998.0</td>\n",
       "      <td>1</td>\n",
       "      <td>2</td>\n",
       "      <td>python</td>\n",
       "      <td>234</td>\n",
       "      <td>NaN</td>\n",
       "    </tr>\n",
       "  </tbody>\n",
       "</table>\n",
       "<p>150 rows × 18 columns</p>\n",
       "</div>"
      ],
      "text/plain": [
       "           id                                              title  \\\n",
       "0     3247246  Integrate War-Plugin for m2eclipse into Eclips...   \n",
       "1    40270764         phantomjs-node page.evaulate seems to hang   \n",
       "2    27532383  Dynamic operations can only be performed in ho...   \n",
       "3    33511888         CSS with relative URL to background image?   \n",
       "4    46160163                      Share canvas image on android   \n",
       "..        ...                                                ...   \n",
       "145  44530513     Passing pointer to function value not changing   \n",
       "146  17440509                          Credit card number format   \n",
       "147    495050          List of CSS features not supported by IE6   \n",
       "148   9356536  Getting 'CGI (LoadError)' when migrating Tumbl...   \n",
       "149  32553694                        Python infinite series pi/4   \n",
       "\n",
       "                                                  body  accepted_answer_id  \\\n",
       "0    <p>I set up a small web project with JSF and M...           3247526.0   \n",
       "1    <p>I have an implementation of 'waitfor' with ...                 NaN   \n",
       "2    <p>I'm working with an API that requires:</p>\\...                 NaN   \n",
       "3    <p>I have a file structure of:</p>\\n\\n<pre><co...                 NaN   \n",
       "4    <p>Hello so I write a small game where in the ...          46160246.0   \n",
       "..                                                 ...                 ...   \n",
       "145  <pre><code>#include&lt;stdio.h&gt;\\n\\nvoid foo...                 NaN   \n",
       "146  <p>I'm trying to create a nifty credit card nu...          17441497.0   \n",
       "147  <p>I just finished slicing and coding a very n...            495077.0   \n",
       "148  <p>I am using RVM,</p>\\n\\n<pre><code>$ ruby -v...          10183090.0   \n",
       "149  <p>I have a problem to solve, but I am having ...          32554171.0   \n",
       "\n",
       "     answer_count  comment_count                creation_date  \\\n",
       "0               2              0  2010-07-14 14:39:48.053 UTC   \n",
       "1               1              0  2016-10-26 19:35:00.537 UTC   \n",
       "2               1              0    2014-12-17 18:31:18.6 UTC   \n",
       "3               2              2  2015-11-04 00:50:35.223 UTC   \n",
       "4               1              0   2017-09-11 16:19:18.32 UTC   \n",
       "..            ...            ...                          ...   \n",
       "145             4              2  2017-06-13 20:02:22.257 UTC   \n",
       "146             2              4  2013-07-03 05:42:17.447 UTC   \n",
       "147             9              3  2009-01-30 10:24:18.573 UTC   \n",
       "148             1              1   2012-02-20 05:22:08.93 UTC   \n",
       "149             1              3  2015-09-13 19:29:03.687 UTC   \n",
       "\n",
       "              last_activity_date               last_edit_date  \\\n",
       "0    2010-07-14 16:02:19.683 UTC  2010-07-14 15:56:37.803 UTC   \n",
       "1    2016-11-02 20:05:09.143 UTC                          NaN   \n",
       "2    2014-12-17 19:57:43.443 UTC                          NaN   \n",
       "3    2015-11-04 01:51:03.037 UTC  2015-11-04 01:51:03.037 UTC   \n",
       "4     2017-09-11 16:24:12.69 UTC                          NaN   \n",
       "..                           ...                          ...   \n",
       "145  2017-06-13 21:08:25.637 UTC   2017-06-13 20:05:04.34 UTC   \n",
       "146  2013-09-20 12:10:16.083 UTC                          NaN   \n",
       "147    2015-01-31 23:30:38.3 UTC  2009-02-02 11:31:32.603 UTC   \n",
       "148  2012-04-16 23:28:10.047 UTC                          NaN   \n",
       "149  2015-09-13 20:19:26.997 UTC  2015-09-13 19:32:37.667 UTC   \n",
       "\n",
       "    last_editor_display_name  last_editor_user_id owner_display_name  \\\n",
       "0                                         70604.0                      \n",
       "1                                             NaN                      \n",
       "2                                             NaN                      \n",
       "3                                       5464492.0                      \n",
       "4                                             NaN                      \n",
       "..                       ...                  ...                ...   \n",
       "145                                     3684343.0                      \n",
       "146                                           NaN                      \n",
       "147                    Bruno              17648.0              Bruno   \n",
       "148                                           NaN                      \n",
       "149                                      270986.0                      \n",
       "\n",
       "     owner_user_id  post_type_id  score                              tags  \\\n",
       "0         389430.0             1      2  eclipse|maven-2|tomcat|m2eclipse   \n",
       "1         245076.0             1      0                 node.js|phantomjs   \n",
       "2        3105880.0             1      1                    c#|asp.net-mvc   \n",
       "3        5464492.0             1      0              css|background-image   \n",
       "4        8570512.0             1      0       android|canvas|bitmap|share   \n",
       "..             ...           ...    ...                               ...   \n",
       "145      6219266.0             1      0                        c|pointers   \n",
       "146       262125.0             1      0    javascript|jquery|coffeescript   \n",
       "147        17648.0             1     11           css|internet-explorer-6   \n",
       "148      1201104.0             1      3            ruby|cgi|tumblr|jekyll   \n",
       "149      3741998.0             1      2                            python   \n",
       "\n",
       "     view_count  favorite_count  \n",
       "0          1653             NaN  \n",
       "1            35             NaN  \n",
       "2          4372             NaN  \n",
       "3           406             NaN  \n",
       "4            52             NaN  \n",
       "..          ...             ...  \n",
       "145          62             NaN  \n",
       "146        3616             NaN  \n",
       "147        7962            11.0  \n",
       "148         411             NaN  \n",
       "149         234             NaN  \n",
       "\n",
       "[150 rows x 18 columns]"
      ]
     },
     "execution_count": 20,
     "metadata": {},
     "output_type": "execute_result"
    }
   ],
   "source": [
    "#Print the first 5\n",
    "stackoverflow_df.head(5)"
   ]
  },
  {
   "cell_type": "markdown",
   "metadata": {
    "id": "1WOnJi3lmMD7"
   },
   "source": [
    "**Examinar el dataset para ver qué dimensiones y qué tipos de datos contiene.**"
   ]
  },
  {
   "cell_type": "code",
   "execution_count": 21,
   "metadata": {
    "id": "thpXzyqZh3eM"
   },
   "outputs": [
    {
     "data": {
      "text/plain": [
       "(500, 18)"
      ]
     },
     "execution_count": 21,
     "metadata": {},
     "output_type": "execute_result"
    }
   ],
   "source": [
    "# To show the dataframe dimmension \n",
    "stackoverflow_df.shape# TODO"
   ]
  },
  {
   "cell_type": "code",
   "execution_count": 22,
   "metadata": {
    "id": "6nZ8Vuggh7l-"
   },
   "outputs": [
    {
     "data": {
      "text/plain": [
       "id                            int64\n",
       "title                        object\n",
       "body                         object\n",
       "accepted_answer_id          float64\n",
       "answer_count                  int64\n",
       "comment_count                 int64\n",
       "creation_date                object\n",
       "last_activity_date           object\n",
       "last_edit_date               object\n",
       "last_editor_display_name     object\n",
       "last_editor_user_id         float64\n",
       "owner_display_name           object\n",
       "owner_user_id               float64\n",
       "post_type_id                  int64\n",
       "score                         int64\n",
       "tags                         object\n",
       "view_count                    int64\n",
       "favorite_count              float64\n",
       "dtype: object"
      ]
     },
     "execution_count": 22,
     "metadata": {},
     "output_type": "execute_result"
    }
   ],
   "source": [
    "# To know the dataframe data type  \n",
    "stackoverflow_df.dtypes# TODO"
   ]
  },
  {
   "cell_type": "code",
   "execution_count": 23,
   "metadata": {
    "id": "koInX5nXg20b"
   },
   "outputs": [
    {
     "data": {
      "text/html": [
       "<div>\n",
       "<style scoped>\n",
       "    .dataframe tbody tr th:only-of-type {\n",
       "        vertical-align: middle;\n",
       "    }\n",
       "\n",
       "    .dataframe tbody tr th {\n",
       "        vertical-align: top;\n",
       "    }\n",
       "\n",
       "    .dataframe thead th {\n",
       "        text-align: right;\n",
       "    }\n",
       "</style>\n",
       "<table border=\"1\" class=\"dataframe\">\n",
       "  <thead>\n",
       "    <tr style=\"text-align: right;\">\n",
       "      <th></th>\n",
       "      <th>id</th>\n",
       "      <th>title</th>\n",
       "      <th>body</th>\n",
       "      <th>accepted_answer_id</th>\n",
       "      <th>answer_count</th>\n",
       "      <th>comment_count</th>\n",
       "      <th>creation_date</th>\n",
       "      <th>last_activity_date</th>\n",
       "      <th>last_edit_date</th>\n",
       "      <th>last_editor_display_name</th>\n",
       "      <th>last_editor_user_id</th>\n",
       "      <th>owner_display_name</th>\n",
       "      <th>owner_user_id</th>\n",
       "      <th>post_type_id</th>\n",
       "      <th>score</th>\n",
       "      <th>tags</th>\n",
       "      <th>view_count</th>\n",
       "      <th>favorite_count</th>\n",
       "    </tr>\n",
       "  </thead>\n",
       "  <tbody>\n",
       "    <tr>\n",
       "      <th>0</th>\n",
       "      <td>False</td>\n",
       "      <td>False</td>\n",
       "      <td>False</td>\n",
       "      <td>False</td>\n",
       "      <td>False</td>\n",
       "      <td>False</td>\n",
       "      <td>False</td>\n",
       "      <td>False</td>\n",
       "      <td>False</td>\n",
       "      <td>False</td>\n",
       "      <td>False</td>\n",
       "      <td>False</td>\n",
       "      <td>False</td>\n",
       "      <td>False</td>\n",
       "      <td>False</td>\n",
       "      <td>False</td>\n",
       "      <td>False</td>\n",
       "      <td>True</td>\n",
       "    </tr>\n",
       "    <tr>\n",
       "      <th>1</th>\n",
       "      <td>False</td>\n",
       "      <td>False</td>\n",
       "      <td>False</td>\n",
       "      <td>True</td>\n",
       "      <td>False</td>\n",
       "      <td>False</td>\n",
       "      <td>False</td>\n",
       "      <td>False</td>\n",
       "      <td>True</td>\n",
       "      <td>False</td>\n",
       "      <td>True</td>\n",
       "      <td>False</td>\n",
       "      <td>False</td>\n",
       "      <td>False</td>\n",
       "      <td>False</td>\n",
       "      <td>False</td>\n",
       "      <td>False</td>\n",
       "      <td>True</td>\n",
       "    </tr>\n",
       "    <tr>\n",
       "      <th>2</th>\n",
       "      <td>False</td>\n",
       "      <td>False</td>\n",
       "      <td>False</td>\n",
       "      <td>True</td>\n",
       "      <td>False</td>\n",
       "      <td>False</td>\n",
       "      <td>False</td>\n",
       "      <td>False</td>\n",
       "      <td>True</td>\n",
       "      <td>False</td>\n",
       "      <td>True</td>\n",
       "      <td>False</td>\n",
       "      <td>False</td>\n",
       "      <td>False</td>\n",
       "      <td>False</td>\n",
       "      <td>False</td>\n",
       "      <td>False</td>\n",
       "      <td>True</td>\n",
       "    </tr>\n",
       "    <tr>\n",
       "      <th>3</th>\n",
       "      <td>False</td>\n",
       "      <td>False</td>\n",
       "      <td>False</td>\n",
       "      <td>True</td>\n",
       "      <td>False</td>\n",
       "      <td>False</td>\n",
       "      <td>False</td>\n",
       "      <td>False</td>\n",
       "      <td>False</td>\n",
       "      <td>False</td>\n",
       "      <td>False</td>\n",
       "      <td>False</td>\n",
       "      <td>False</td>\n",
       "      <td>False</td>\n",
       "      <td>False</td>\n",
       "      <td>False</td>\n",
       "      <td>False</td>\n",
       "      <td>True</td>\n",
       "    </tr>\n",
       "    <tr>\n",
       "      <th>4</th>\n",
       "      <td>False</td>\n",
       "      <td>False</td>\n",
       "      <td>False</td>\n",
       "      <td>False</td>\n",
       "      <td>False</td>\n",
       "      <td>False</td>\n",
       "      <td>False</td>\n",
       "      <td>False</td>\n",
       "      <td>True</td>\n",
       "      <td>False</td>\n",
       "      <td>True</td>\n",
       "      <td>False</td>\n",
       "      <td>False</td>\n",
       "      <td>False</td>\n",
       "      <td>False</td>\n",
       "      <td>False</td>\n",
       "      <td>False</td>\n",
       "      <td>True</td>\n",
       "    </tr>\n",
       "    <tr>\n",
       "      <th>...</th>\n",
       "      <td>...</td>\n",
       "      <td>...</td>\n",
       "      <td>...</td>\n",
       "      <td>...</td>\n",
       "      <td>...</td>\n",
       "      <td>...</td>\n",
       "      <td>...</td>\n",
       "      <td>...</td>\n",
       "      <td>...</td>\n",
       "      <td>...</td>\n",
       "      <td>...</td>\n",
       "      <td>...</td>\n",
       "      <td>...</td>\n",
       "      <td>...</td>\n",
       "      <td>...</td>\n",
       "      <td>...</td>\n",
       "      <td>...</td>\n",
       "      <td>...</td>\n",
       "    </tr>\n",
       "    <tr>\n",
       "      <th>495</th>\n",
       "      <td>False</td>\n",
       "      <td>False</td>\n",
       "      <td>False</td>\n",
       "      <td>False</td>\n",
       "      <td>False</td>\n",
       "      <td>False</td>\n",
       "      <td>False</td>\n",
       "      <td>False</td>\n",
       "      <td>False</td>\n",
       "      <td>False</td>\n",
       "      <td>False</td>\n",
       "      <td>False</td>\n",
       "      <td>False</td>\n",
       "      <td>False</td>\n",
       "      <td>False</td>\n",
       "      <td>False</td>\n",
       "      <td>False</td>\n",
       "      <td>True</td>\n",
       "    </tr>\n",
       "    <tr>\n",
       "      <th>496</th>\n",
       "      <td>False</td>\n",
       "      <td>False</td>\n",
       "      <td>False</td>\n",
       "      <td>False</td>\n",
       "      <td>False</td>\n",
       "      <td>False</td>\n",
       "      <td>False</td>\n",
       "      <td>False</td>\n",
       "      <td>True</td>\n",
       "      <td>False</td>\n",
       "      <td>True</td>\n",
       "      <td>False</td>\n",
       "      <td>False</td>\n",
       "      <td>False</td>\n",
       "      <td>False</td>\n",
       "      <td>False</td>\n",
       "      <td>False</td>\n",
       "      <td>True</td>\n",
       "    </tr>\n",
       "    <tr>\n",
       "      <th>497</th>\n",
       "      <td>False</td>\n",
       "      <td>False</td>\n",
       "      <td>False</td>\n",
       "      <td>False</td>\n",
       "      <td>False</td>\n",
       "      <td>False</td>\n",
       "      <td>False</td>\n",
       "      <td>False</td>\n",
       "      <td>False</td>\n",
       "      <td>False</td>\n",
       "      <td>False</td>\n",
       "      <td>False</td>\n",
       "      <td>False</td>\n",
       "      <td>False</td>\n",
       "      <td>False</td>\n",
       "      <td>False</td>\n",
       "      <td>False</td>\n",
       "      <td>True</td>\n",
       "    </tr>\n",
       "    <tr>\n",
       "      <th>498</th>\n",
       "      <td>False</td>\n",
       "      <td>False</td>\n",
       "      <td>False</td>\n",
       "      <td>False</td>\n",
       "      <td>False</td>\n",
       "      <td>False</td>\n",
       "      <td>False</td>\n",
       "      <td>False</td>\n",
       "      <td>True</td>\n",
       "      <td>False</td>\n",
       "      <td>True</td>\n",
       "      <td>False</td>\n",
       "      <td>False</td>\n",
       "      <td>False</td>\n",
       "      <td>False</td>\n",
       "      <td>False</td>\n",
       "      <td>False</td>\n",
       "      <td>False</td>\n",
       "    </tr>\n",
       "    <tr>\n",
       "      <th>499</th>\n",
       "      <td>False</td>\n",
       "      <td>False</td>\n",
       "      <td>False</td>\n",
       "      <td>True</td>\n",
       "      <td>False</td>\n",
       "      <td>False</td>\n",
       "      <td>False</td>\n",
       "      <td>False</td>\n",
       "      <td>True</td>\n",
       "      <td>False</td>\n",
       "      <td>True</td>\n",
       "      <td>False</td>\n",
       "      <td>False</td>\n",
       "      <td>False</td>\n",
       "      <td>False</td>\n",
       "      <td>False</td>\n",
       "      <td>False</td>\n",
       "      <td>True</td>\n",
       "    </tr>\n",
       "  </tbody>\n",
       "</table>\n",
       "<p>500 rows × 18 columns</p>\n",
       "</div>"
      ],
      "text/plain": [
       "        id  title   body  accepted_answer_id  answer_count  comment_count  \\\n",
       "0    False  False  False               False         False          False   \n",
       "1    False  False  False                True         False          False   \n",
       "2    False  False  False                True         False          False   \n",
       "3    False  False  False                True         False          False   \n",
       "4    False  False  False               False         False          False   \n",
       "..     ...    ...    ...                 ...           ...            ...   \n",
       "495  False  False  False               False         False          False   \n",
       "496  False  False  False               False         False          False   \n",
       "497  False  False  False               False         False          False   \n",
       "498  False  False  False               False         False          False   \n",
       "499  False  False  False                True         False          False   \n",
       "\n",
       "     creation_date  last_activity_date  last_edit_date  \\\n",
       "0            False               False           False   \n",
       "1            False               False            True   \n",
       "2            False               False            True   \n",
       "3            False               False           False   \n",
       "4            False               False            True   \n",
       "..             ...                 ...             ...   \n",
       "495          False               False           False   \n",
       "496          False               False            True   \n",
       "497          False               False           False   \n",
       "498          False               False            True   \n",
       "499          False               False            True   \n",
       "\n",
       "     last_editor_display_name  last_editor_user_id  owner_display_name  \\\n",
       "0                       False                False               False   \n",
       "1                       False                 True               False   \n",
       "2                       False                 True               False   \n",
       "3                       False                False               False   \n",
       "4                       False                 True               False   \n",
       "..                        ...                  ...                 ...   \n",
       "495                     False                False               False   \n",
       "496                     False                 True               False   \n",
       "497                     False                False               False   \n",
       "498                     False                 True               False   \n",
       "499                     False                 True               False   \n",
       "\n",
       "     owner_user_id  post_type_id  score   tags  view_count  favorite_count  \n",
       "0            False         False  False  False       False            True  \n",
       "1            False         False  False  False       False            True  \n",
       "2            False         False  False  False       False            True  \n",
       "3            False         False  False  False       False            True  \n",
       "4            False         False  False  False       False            True  \n",
       "..             ...           ...    ...    ...         ...             ...  \n",
       "495          False         False  False  False       False            True  \n",
       "496          False         False  False  False       False            True  \n",
       "497          False         False  False  False       False            True  \n",
       "498          False         False  False  False       False           False  \n",
       "499          False         False  False  False       False            True  \n",
       "\n",
       "[500 rows x 18 columns]"
      ]
     },
     "execution_count": 23,
     "metadata": {},
     "output_type": "execute_result"
    }
   ],
   "source": [
    "# To know if we have null values \n",
    "stackoverflow_df.isnull()# TODO# TODO"
   ]
  },
  {
   "cell_type": "markdown",
   "metadata": {
    "id": "aeqQnrOdrJ5x"
   },
   "source": [
    "Observad que el dataset tiene 18 campos que incluyen título `title`, cuerpo `body`, `tags`, fechas y otros metadatos que no necesitaremos en esta ocasión. \n",
    "\n",
    "\n"
   ]
  },
  {
   "cell_type": "markdown",
   "metadata": {
    "id": "wkR-eUNjyUej"
   },
   "source": [
    "## Descubriendo los Tags\n",
    "\n",
    "\n",
    "Comencemos por analizar el campo `tags` que son las etiquetas que se marcan para indicar el asunto de la consulta. Se observa que el campo almacena varias etiquetas dentro separadas por el caracter '|'.\n",
    "\n",
    "Lo primero es ver cuántas etiquetas hay de promedio por pregunta:\n"
   ]
  },
  {
   "cell_type": "code",
   "execution_count": 24,
   "metadata": {
    "id": "u0GWZWuEyTbD"
   },
   "outputs": [
    {
     "data": {
      "text/plain": [
       "0      4\n",
       "1      2\n",
       "2      2\n",
       "3      2\n",
       "4      4\n",
       "      ..\n",
       "495    2\n",
       "496    2\n",
       "497    3\n",
       "498    2\n",
       "499    5\n",
       "Name: tags_count, Length: 500, dtype: int64"
      ]
     },
     "execution_count": 24,
     "metadata": {},
     "output_type": "execute_result"
    }
   ],
   "source": [
    "# Get the number of labels with regular expression\n",
    "stackoverflow_df['tags_count'] = stackoverflow_df['tags'].str.count(r'[|]') + 1 #TODO\n",
    "stackoverflow_df['tags_count']\n",
    " "
   ]
  },
  {
   "cell_type": "markdown",
   "metadata": {
    "id": "vlQ-u3-bnaqd"
   },
   "source": [
    "Calcular el máximo, el mínimo y el promedio de elementos en el campo `tags`."
   ]
  },
  {
   "cell_type": "code",
   "execution_count": 25,
   "metadata": {
    "id": "jH0qcNg-yTYD"
   },
   "outputs": [
    {
     "name": "stdout",
     "output_type": "stream",
     "text": [
      "maximum : 5 , minimum : 1 , mean : 3 \n"
     ]
    }
   ],
   "source": [
    "# Obtain the max, min, and mean  the number of tags with regular expression \n",
    "labels_max= stackoverflow_df['tags_count'].max()# TODO\n",
    "labels_min= stackoverflow_df['tags_count'].min()\n",
    "labels_mean= stackoverflow_df['tags_count'].mean()\n",
    "print(\"maximum : %s , minimum : %d , mean : %d \" %(labels_max,labels_min,labels_mean))\n"
   ]
  },
  {
   "cell_type": "markdown",
   "metadata": {
    "id": "n8MHVA4fTXvv"
   },
   "source": [
    "## 2.1 Count Vectorizer\n",
    "\n",
    "A continuación se necesita obtener un vocabulario de palabras usadas y comenzar el proceso de contabilización.\n",
    "\n",
    "La **vectorización** es el proceso por el que se convierte una colección de textos en un vector de características numérico. El modelo que seguimos es el de bolsa de palabras o Bag-of-Words, donde los documentos se describen por las palabras que aparecen en el texto, ignorando su posición relativa o su importancia en el texto.\n",
    "\n",
    "**CountVectorizer** convierte una colección de documentos en una matriz de contadores que son las apariciones de cada token en cada documento."
   ]
  },
  {
   "cell_type": "markdown",
   "metadata": {
    "id": "eP4Xb6N_utPh"
   },
   "source": [
    "Comenzamos por el campo `tags`, usar un vectorizador para convertir los tags en una serie de elementos."
   ]
  },
  {
   "cell_type": "code",
   "execution_count": 211,
   "metadata": {
    "id": "sSyAnfyVyTU_"
   },
   "outputs": [
    {
     "data": {
      "text/plain": [
       "array([[0, 0, 0, ..., 0, 0, 0],\n",
       "       [0, 0, 0, ..., 0, 0, 0],\n",
       "       [0, 0, 0, ..., 0, 0, 0],\n",
       "       ...,\n",
       "       [0, 0, 0, ..., 0, 0, 0],\n",
       "       [0, 0, 0, ..., 0, 0, 0],\n",
       "       [0, 0, 0, ..., 0, 0, 0]], dtype=int64)"
      ]
     },
     "execution_count": 211,
     "metadata": {},
     "output_type": "execute_result"
    }
   ],
   "source": [
    "from sklearn.feature_extraction.text import CountVectorizer\n",
    "\n",
    "#Get the bag of words\n",
    "vectorizer = CountVectorizer().fit(stackoverflow_df['tags']) # TODO\n",
    "tag_df = vectorizer.transform(stackoverflow_df['tags']) # TODO\n",
    "tag_df.toarray()\n",
    "\n",
    "\n"
   ]
  },
  {
   "cell_type": "markdown",
   "metadata": {
    "id": "nKixghSQvCdw"
   },
   "source": [
    "**Cuántos tags distintos hay en el dataset**"
   ]
  },
  {
   "cell_type": "code",
   "execution_count": 212,
   "metadata": {
    "id": "kqO-qptrogEg"
   },
   "outputs": [
    {
     "name": "stdout",
     "output_type": "stream",
     "text": [
      "Number of rows : 500\n",
      "Number of unique tags : 815\n"
     ]
    }
   ],
   "source": [
    "#Get the features names\n",
    "feature_names = vectorizer.get_feature_names()\n",
    "print(\"Number of rows :\", len(tag_df.toarray())) #TODO\n",
    "print(\"Number of unique tags :\",len(feature_names))  # TODO"
   ]
  },
  {
   "cell_type": "markdown",
   "metadata": {
    "id": "-PGm6RRTvO4e"
   },
   "source": [
    "**¿Qué significado tienen estos tags?** "
   ]
  },
  {
   "cell_type": "code",
   "execution_count": 213,
   "metadata": {
    "id": "1weZuHK8oaGg"
   },
   "outputs": [
    {
     "name": "stdout",
     "output_type": "stream",
     "text": [
      "Tags: ['04', '10', '11', '13', '2008', '2010', '3d', '64bit', 'access', 'achartengine']\n"
     ]
    }
   ],
   "source": [
    "#Get and print the tags\n",
    "tags = vectorizer.get_feature_names()# TODO\n",
    "print(\"Tags:\", tags[:10])"
   ]
  },
  {
   "cell_type": "markdown",
   "metadata": {
    "id": "1lYviyHJvqwv"
   },
   "source": [
    "Convertir en un DataFrame con 2 columnas: los diferentes tags localizados y la frecuencia con la que aparecen:"
   ]
  },
  {
   "cell_type": "code",
   "execution_count": 214,
   "metadata": {
    "id": "lMjeGT9EyTSE"
   },
   "outputs": [
    {
     "data": {
      "text/html": [
       "<div>\n",
       "<style scoped>\n",
       "    .dataframe tbody tr th:only-of-type {\n",
       "        vertical-align: middle;\n",
       "    }\n",
       "\n",
       "    .dataframe tbody tr th {\n",
       "        vertical-align: top;\n",
       "    }\n",
       "\n",
       "    .dataframe thead th {\n",
       "        text-align: right;\n",
       "    }\n",
       "</style>\n",
       "<table border=\"1\" class=\"dataframe\">\n",
       "  <thead>\n",
       "    <tr style=\"text-align: right;\">\n",
       "      <th></th>\n",
       "      <th>Tag</th>\n",
       "      <th>Count</th>\n",
       "    </tr>\n",
       "  </thead>\n",
       "  <tbody>\n",
       "    <tr>\n",
       "      <th>0</th>\n",
       "      <td>eclipse</td>\n",
       "      <td>6</td>\n",
       "    </tr>\n",
       "    <tr>\n",
       "      <th>1</th>\n",
       "      <td>maven</td>\n",
       "      <td>3</td>\n",
       "    </tr>\n",
       "    <tr>\n",
       "      <th>2</th>\n",
       "      <td>tomcat</td>\n",
       "      <td>1</td>\n",
       "    </tr>\n",
       "    <tr>\n",
       "      <th>3</th>\n",
       "      <td>m2eclipse</td>\n",
       "      <td>1</td>\n",
       "    </tr>\n",
       "    <tr>\n",
       "      <th>4</th>\n",
       "      <td>node</td>\n",
       "      <td>7</td>\n",
       "    </tr>\n",
       "  </tbody>\n",
       "</table>\n",
       "</div>"
      ],
      "text/plain": [
       "         Tag  Count\n",
       "0    eclipse      6\n",
       "1      maven      3\n",
       "2     tomcat      1\n",
       "3  m2eclipse      1\n",
       "4       node      7"
      ]
     },
     "execution_count": 214,
     "metadata": {},
     "output_type": "execute_result"
    }
   ],
   "source": [
    "sum_words = tag_df.sum(axis=0) \n",
    "\n",
    "#loop through vocabulary to get frequency  \n",
    "freqs = [(word, sum_words[0, idx]) for word, idx in vectorizer.vocabulary_.items()]\n",
    "tags_df = pd.DataFrame(data=freqs)\n",
    "tags_df.columns =['Tag', 'Count']\n",
    "tags_df.head()"
   ]
  },
  {
   "cell_type": "markdown",
   "metadata": {
    "id": "RyWfpU-twEb6"
   },
   "source": [
    "Obtener los tags que con más frecuencia aparecen en los documentos de StackOverflow:"
   ]
  },
  {
   "cell_type": "code",
   "execution_count": 215,
   "metadata": {
    "id": "fpIIC3sByTMB"
   },
   "outputs": [
    {
     "name": "stdout",
     "output_type": "stream",
     "text": [
      "            Tag  Count\n",
      "13      android     62\n",
      "18         java     53\n",
      "39   javascript     51\n",
      "40          php     47\n",
      "47       python     38\n",
      "8           net     37\n",
      "197      jquery     36\n",
      "7           asp     24\n",
      "73          sql     24\n",
      "110        html     22\n"
     ]
    }
   ],
   "source": [
    " #Get the top 10 \n",
    "tag_df_sorted = tags_df.sort_values(by=['Count'],ascending=False) # TODO\n",
    "tag_df_top_10=tag_df_sorted.head(10)\n",
    "print(tag_df_top_10)\n"
   ]
  },
  {
   "cell_type": "markdown",
   "metadata": {
    "id": "EMMT86E2wCd8"
   },
   "source": [
    "**¿A qué tecnologías se refieren los tags más frecuentes?**"
   ]
  },
  {
   "cell_type": "code",
   "execution_count": 31,
   "metadata": {
    "id": "Gl-jUCdkyTEh"
   },
   "outputs": [
    {
     "data": {
      "image/png": "[encoded data removed]",
      "text/plain": [
       "<Figure size 432x288 with 1 Axes>"
      ]
     },
     "metadata": {
      "needs_background": "light"
     },
     "output_type": "display_data"
    }
   ],
   "source": [
    "#Print the graphs\n",
    "i=np.arange(10)\n",
    "tag_df_sorted.head(10).plot(kind='bar')\n",
    "plt.title('Frequency of top 10 tags')\n",
    "#plt.xticks(i, tag_df_sorted['Tag'])\n",
    "plt.xlabel('Tags')\n",
    "plt.ylabel('Counts')\n",
    "plt.show()"
   ]
  },
  {
   "cell_type": "markdown",
   "metadata": {
    "id": "gUsjr7QIySz-"
   },
   "source": [
    "---"
   ]
  },
  {
   "cell_type": "markdown",
   "metadata": {
    "id": "o6pS6KqeyRU6"
   },
   "source": [
    "El interés se centra ahora en el cuerpo y en el título que forman la fuente de texto.Para ello vamos a crear un campo `text` que combina `title` y `body` en uno solo."
   ]
  },
  {
   "cell_type": "code",
   "execution_count": 216,
   "metadata": {
    "id": "DQPzgn7hiQSC"
   },
   "outputs": [
    {
     "data": {
      "text/plain": [
       "\"CSS with relative URL to background image?<p>I have a file structure of:</p>\\n\\n<pre><code>home.html\\nimg/bg_damask1.jpg\\ncss/style.css\\n</code></pre>\\n\\n<p>When I set my body background image I can't get it to load. I've tried:</p>\\n\\n<pre><code>background-image: url('../img/bg_damask1.jpg');\\nbackground-image: url('/img/bg_damask1.jpg');\\nbackground-image: url('img/bg_damask1.jpg');\\n</code></pre>\\n\\n<p>But none are working. How do I get my css to reference the background image?</p>\\n\\n<p>ETA: In browser dev tools I see that no matter what file path I put in, the browser is only referencing 'bg_damask1.jpg' without the file path. If I edit it in dev tools the image shows up using option #1. Now I'm stumped as to what's causing the breakdown.</p>\""
      ]
     },
     "execution_count": 216,
     "metadata": {},
     "output_type": "execute_result"
    }
   ],
   "source": [
    "#Concat title and body colum and show the results \n",
    "stackoverflow_df['text'] =  stackoverflow_df['title'] + stackoverflow_df['body'] # TODO\n",
    "stackoverflow_df['text'][3] "
   ]
  },
  {
   "cell_type": "markdown",
   "metadata": {
    "id": "aZuayg_UhYia"
   },
   "source": [
    "Como se puede observar el texto contiene bastante \"ruido\" y es necesario procesarlo para que pueda ser útil. Hay que conseguir una cadena de texto en el que se eliminen palabras vacías, tags de html, carácteres extraños, etc. \n",
    "\n",
    "\n",
    "No resulta recomendable lematizar las palabras en esta ocasión y tampoco incluir ciertas palabras como palabras vacías. Puedes poner un ejemplo de palabra vacía que sería conveniente tratar."
   ]
  },
  {
   "cell_type": "code",
   "execution_count": 217,
   "metadata": {
    "id": "Qrq-cUuA02GD"
   },
   "outputs": [],
   "source": [
    "#Eliminate the noise \n",
    "stackoverflow_df['mtext'] = stackoverflow_df['text'].str.replace(r'<[^<>]*>', '', regex=True)   # TODO\n"
   ]
  },
  {
   "cell_type": "code",
   "execution_count": 218,
   "metadata": {
    "id": "eISZT4RMBnXm"
   },
   "outputs": [
    {
     "data": {
      "text/html": [
       "<div>\n",
       "<style scoped>\n",
       "    .dataframe tbody tr th:only-of-type {\n",
       "        vertical-align: middle;\n",
       "    }\n",
       "\n",
       "    .dataframe tbody tr th {\n",
       "        vertical-align: top;\n",
       "    }\n",
       "\n",
       "    .dataframe thead th {\n",
       "        text-align: right;\n",
       "    }\n",
       "</style>\n",
       "<table border=\"1\" class=\"dataframe\">\n",
       "  <thead>\n",
       "    <tr style=\"text-align: right;\">\n",
       "      <th></th>\n",
       "      <th>id</th>\n",
       "      <th>title</th>\n",
       "      <th>body</th>\n",
       "      <th>accepted_answer_id</th>\n",
       "      <th>answer_count</th>\n",
       "      <th>comment_count</th>\n",
       "      <th>creation_date</th>\n",
       "      <th>last_activity_date</th>\n",
       "      <th>last_edit_date</th>\n",
       "      <th>last_editor_display_name</th>\n",
       "      <th>...</th>\n",
       "      <th>owner_user_id</th>\n",
       "      <th>post_type_id</th>\n",
       "      <th>score</th>\n",
       "      <th>tags</th>\n",
       "      <th>view_count</th>\n",
       "      <th>favorite_count</th>\n",
       "      <th>tags_count</th>\n",
       "      <th>text</th>\n",
       "      <th>mtext</th>\n",
       "      <th>cluster</th>\n",
       "    </tr>\n",
       "  </thead>\n",
       "  <tbody>\n",
       "    <tr>\n",
       "      <th>0</th>\n",
       "      <td>3247246</td>\n",
       "      <td>Integrate War-Plugin for m2eclipse into Eclips...</td>\n",
       "      <td>&lt;p&gt;I set up a small web project with JSF and M...</td>\n",
       "      <td>3247526.0</td>\n",
       "      <td>2</td>\n",
       "      <td>0</td>\n",
       "      <td>2010-07-14 14:39:48.053 UTC</td>\n",
       "      <td>2010-07-14 16:02:19.683 UTC</td>\n",
       "      <td>2010-07-14 15:56:37.803 UTC</td>\n",
       "      <td></td>\n",
       "      <td>...</td>\n",
       "      <td>389430.0</td>\n",
       "      <td>1</td>\n",
       "      <td>2</td>\n",
       "      <td>eclipse|maven-2|tomcat|m2eclipse</td>\n",
       "      <td>1653</td>\n",
       "      <td>NaN</td>\n",
       "      <td>4</td>\n",
       "      <td>Integrate War-Plugin for m2eclipse into Eclips...</td>\n",
       "      <td>Integrate War-Plugin for m2eclipse into Eclips...</td>\n",
       "      <td>0</td>\n",
       "    </tr>\n",
       "    <tr>\n",
       "      <th>1</th>\n",
       "      <td>40270764</td>\n",
       "      <td>phantomjs-node page.evaulate seems to hang</td>\n",
       "      <td>&lt;p&gt;I have an implementation of 'waitfor' with ...</td>\n",
       "      <td>NaN</td>\n",
       "      <td>1</td>\n",
       "      <td>0</td>\n",
       "      <td>2016-10-26 19:35:00.537 UTC</td>\n",
       "      <td>2016-11-02 20:05:09.143 UTC</td>\n",
       "      <td>NaN</td>\n",
       "      <td></td>\n",
       "      <td>...</td>\n",
       "      <td>245076.0</td>\n",
       "      <td>1</td>\n",
       "      <td>0</td>\n",
       "      <td>node.js|phantomjs</td>\n",
       "      <td>35</td>\n",
       "      <td>NaN</td>\n",
       "      <td>2</td>\n",
       "      <td>phantomjs-node page.evaulate seems to hang&lt;p&gt;I...</td>\n",
       "      <td>phantomjs-node page.evaulate seems to hangI ha...</td>\n",
       "      <td>1</td>\n",
       "    </tr>\n",
       "    <tr>\n",
       "      <th>2</th>\n",
       "      <td>27532383</td>\n",
       "      <td>Dynamic operations can only be performed in ho...</td>\n",
       "      <td>&lt;p&gt;I'm working with an API that requires:&lt;/p&gt;\\...</td>\n",
       "      <td>NaN</td>\n",
       "      <td>1</td>\n",
       "      <td>0</td>\n",
       "      <td>2014-12-17 18:31:18.6 UTC</td>\n",
       "      <td>2014-12-17 19:57:43.443 UTC</td>\n",
       "      <td>NaN</td>\n",
       "      <td></td>\n",
       "      <td>...</td>\n",
       "      <td>3105880.0</td>\n",
       "      <td>1</td>\n",
       "      <td>1</td>\n",
       "      <td>c#|asp.net-mvc</td>\n",
       "      <td>4372</td>\n",
       "      <td>NaN</td>\n",
       "      <td>2</td>\n",
       "      <td>Dynamic operations can only be performed in ho...</td>\n",
       "      <td>Dynamic operations can only be performed in ho...</td>\n",
       "      <td>0</td>\n",
       "    </tr>\n",
       "    <tr>\n",
       "      <th>3</th>\n",
       "      <td>33511888</td>\n",
       "      <td>CSS with relative URL to background image?</td>\n",
       "      <td>&lt;p&gt;I have a file structure of:&lt;/p&gt;\\n\\n&lt;pre&gt;&lt;co...</td>\n",
       "      <td>NaN</td>\n",
       "      <td>2</td>\n",
       "      <td>2</td>\n",
       "      <td>2015-11-04 00:50:35.223 UTC</td>\n",
       "      <td>2015-11-04 01:51:03.037 UTC</td>\n",
       "      <td>2015-11-04 01:51:03.037 UTC</td>\n",
       "      <td></td>\n",
       "      <td>...</td>\n",
       "      <td>5464492.0</td>\n",
       "      <td>1</td>\n",
       "      <td>0</td>\n",
       "      <td>css|background-image</td>\n",
       "      <td>406</td>\n",
       "      <td>NaN</td>\n",
       "      <td>2</td>\n",
       "      <td>CSS with relative URL to background image?&lt;p&gt;I...</td>\n",
       "      <td>CSS with relative URL to background image?I ha...</td>\n",
       "      <td>0</td>\n",
       "    </tr>\n",
       "    <tr>\n",
       "      <th>4</th>\n",
       "      <td>46160163</td>\n",
       "      <td>Share canvas image on android</td>\n",
       "      <td>&lt;p&gt;Hello so I write a small game where in the ...</td>\n",
       "      <td>46160246.0</td>\n",
       "      <td>1</td>\n",
       "      <td>0</td>\n",
       "      <td>2017-09-11 16:19:18.32 UTC</td>\n",
       "      <td>2017-09-11 16:24:12.69 UTC</td>\n",
       "      <td>NaN</td>\n",
       "      <td></td>\n",
       "      <td>...</td>\n",
       "      <td>8570512.0</td>\n",
       "      <td>1</td>\n",
       "      <td>0</td>\n",
       "      <td>android|canvas|bitmap|share</td>\n",
       "      <td>52</td>\n",
       "      <td>NaN</td>\n",
       "      <td>4</td>\n",
       "      <td>Share canvas image on android&lt;p&gt;Hello so I wri...</td>\n",
       "      <td>Share canvas image on androidHello so I write ...</td>\n",
       "      <td>0</td>\n",
       "    </tr>\n",
       "  </tbody>\n",
       "</table>\n",
       "<p>5 rows × 22 columns</p>\n",
       "</div>"
      ],
      "text/plain": [
       "         id                                              title  \\\n",
       "0   3247246  Integrate War-Plugin for m2eclipse into Eclips...   \n",
       "1  40270764         phantomjs-node page.evaulate seems to hang   \n",
       "2  27532383  Dynamic operations can only be performed in ho...   \n",
       "3  33511888         CSS with relative URL to background image?   \n",
       "4  46160163                      Share canvas image on android   \n",
       "\n",
       "                                                body  accepted_answer_id  \\\n",
       "0  <p>I set up a small web project with JSF and M...           3247526.0   \n",
       "1  <p>I have an implementation of 'waitfor' with ...                 NaN   \n",
       "2  <p>I'm working with an API that requires:</p>\\...                 NaN   \n",
       "3  <p>I have a file structure of:</p>\\n\\n<pre><co...                 NaN   \n",
       "4  <p>Hello so I write a small game where in the ...          46160246.0   \n",
       "\n",
       "   answer_count  comment_count                creation_date  \\\n",
       "0             2              0  2010-07-14 14:39:48.053 UTC   \n",
       "1             1              0  2016-10-26 19:35:00.537 UTC   \n",
       "2             1              0    2014-12-17 18:31:18.6 UTC   \n",
       "3             2              2  2015-11-04 00:50:35.223 UTC   \n",
       "4             1              0   2017-09-11 16:19:18.32 UTC   \n",
       "\n",
       "            last_activity_date               last_edit_date  \\\n",
       "0  2010-07-14 16:02:19.683 UTC  2010-07-14 15:56:37.803 UTC   \n",
       "1  2016-11-02 20:05:09.143 UTC                          NaN   \n",
       "2  2014-12-17 19:57:43.443 UTC                          NaN   \n",
       "3  2015-11-04 01:51:03.037 UTC  2015-11-04 01:51:03.037 UTC   \n",
       "4   2017-09-11 16:24:12.69 UTC                          NaN   \n",
       "\n",
       "  last_editor_display_name  ...  owner_user_id post_type_id  score  \\\n",
       "0                           ...       389430.0            1      2   \n",
       "1                           ...       245076.0            1      0   \n",
       "2                           ...      3105880.0            1      1   \n",
       "3                           ...      5464492.0            1      0   \n",
       "4                           ...      8570512.0            1      0   \n",
       "\n",
       "                               tags  view_count favorite_count  tags_count  \\\n",
       "0  eclipse|maven-2|tomcat|m2eclipse        1653            NaN           4   \n",
       "1                 node.js|phantomjs          35            NaN           2   \n",
       "2                    c#|asp.net-mvc        4372            NaN           2   \n",
       "3              css|background-image         406            NaN           2   \n",
       "4       android|canvas|bitmap|share          52            NaN           4   \n",
       "\n",
       "                                                text  \\\n",
       "0  Integrate War-Plugin for m2eclipse into Eclips...   \n",
       "1  phantomjs-node page.evaulate seems to hang<p>I...   \n",
       "2  Dynamic operations can only be performed in ho...   \n",
       "3  CSS with relative URL to background image?<p>I...   \n",
       "4  Share canvas image on android<p>Hello so I wri...   \n",
       "\n",
       "                                               mtext cluster  \n",
       "0  Integrate War-Plugin for m2eclipse into Eclips...       0  \n",
       "1  phantomjs-node page.evaulate seems to hangI ha...       1  \n",
       "2  Dynamic operations can only be performed in ho...       0  \n",
       "3  CSS with relative URL to background image?I ha...       0  \n",
       "4  Share canvas image on androidHello so I write ...       0  \n",
       "\n",
       "[5 rows x 22 columns]"
      ]
     },
     "execution_count": 218,
     "metadata": {},
     "output_type": "execute_result"
    }
   ],
   "source": [
    "stackoverflow_df.head(5)"
   ]
  },
  {
   "cell_type": "markdown",
   "metadata": {
    "id": "a35l9Upnw3kq"
   },
   "source": [
    "Utilizando `CountVectorizer` determinar las frecuencias de las palabras en el texto combinado."
   ]
  },
  {
   "cell_type": "code",
   "execution_count": 219,
   "metadata": {
    "id": "dDjtJoe3DTu_"
   },
   "outputs": [],
   "source": [
    "#Get the vector with 85% of accuracy \n",
    "vectorizer = CountVectorizer(stop_words='english',\n",
    "                         strip_accents='unicode',\n",
    "                         max_df=0.85) # max_df : eliminar si la palabra está en el 85% de los documentos\n",
    "word_count_vector = vectorizer.fit(stackoverflow_df['mtext'])\n",
    "word_count_vector = vectorizer.transform(stackoverflow_df['mtext']) # TODO : transformar el texto limpio"
   ]
  },
  {
   "cell_type": "markdown",
   "metadata": {
    "id": "GnllSkXo68Pe"
   },
   "source": [
    "Una vez contabilizado el texto se pueden ver algunas palabras del vocabulario:"
   ]
  },
  {
   "cell_type": "code",
   "execution_count": 220,
   "metadata": {
    "id": "a2ipp9nrELRe"
   },
   "outputs": [
    {
     "data": {
      "text/plain": [
       "['integrate',\n",
       " 'war',\n",
       " 'plugin',\n",
       " 'm2eclipse',\n",
       " 'eclipse',\n",
       " 'projecti',\n",
       " 'set',\n",
       " 'small',\n",
       " 'web',\n",
       " 'project']"
      ]
     },
     "execution_count": 220,
     "metadata": {},
     "output_type": "execute_result"
    }
   ],
   "source": [
    "list(vectorizer.vocabulary_.keys())[:10]"
   ]
  },
  {
   "cell_type": "markdown",
   "metadata": {
    "id": "hnlFNh8HjLRC"
   },
   "source": [
    "Las columnas de la matriz son las características o tokens detectados en el texto y se pueden ver con la función `get_feature_names_out()`."
   ]
  },
  {
   "cell_type": "code",
   "execution_count": 221,
   "metadata": {
    "id": "yPQu5OmX6kzC"
   },
   "outputs": [
    {
     "name": "stdout",
     "output_type": "stream",
     "text": [
      "['zii' 'zip' 'zipped' 'zipwith' 'zlib' 'zlibinflated' 'zoom' 'zoomed'\n",
      " 'zygoteinit' 'δe']\n"
     ]
    }
   ],
   "source": [
    "print (vectorizer.get_feature_names_out()[-10:] )\n",
    "\n",
    "vocabulary = vectorizer.get_feature_names_out()\n"
   ]
  },
  {
   "cell_type": "markdown",
   "metadata": {
    "id": "aTxCF6_97Q_6"
   },
   "source": [
    "El resultado es una matriz `sparse matrix` que representa las cuentas de las palabras. Cada columna representa una palabra en el vocabulario y cada fila representa un documento (un post) en el datataset y cada celda el números de apariciones de la palabra en el documento.\n",
    "\n",
    "**¿Cuál es el tamaño del vocabulario?**\n"
   ]
  },
  {
   "cell_type": "code",
   "execution_count": 222,
   "metadata": {
    "id": "ausc3jhB9b3b"
   },
   "outputs": [
    {
     "data": {
      "text/plain": [
       "9939"
      ]
     },
     "execution_count": 222,
     "metadata": {},
     "output_type": "execute_result"
    }
   ],
   "source": [
    "len(vocabulary)# TODO\n"
   ]
  },
  {
   "cell_type": "markdown",
   "metadata": {
    "id": "Aw3GweyA9gfZ"
   },
   "source": [
    "Por comodidad, podemos convertir la matriz en un DataFrame en el que las filas sean los documentos y las columnas el vocabulario:"
   ]
  },
  {
   "cell_type": "code",
   "execution_count": 223,
   "metadata": {
    "id": "OpquSy5U-pqx"
   },
   "outputs": [
    {
     "data": {
      "text/html": [
       "<div>\n",
       "<style scoped>\n",
       "    .dataframe tbody tr th:only-of-type {\n",
       "        vertical-align: middle;\n",
       "    }\n",
       "\n",
       "    .dataframe tbody tr th {\n",
       "        vertical-align: top;\n",
       "    }\n",
       "\n",
       "    .dataframe thead th {\n",
       "        text-align: right;\n",
       "    }\n",
       "</style>\n",
       "<table border=\"1\" class=\"dataframe\">\n",
       "  <thead>\n",
       "    <tr style=\"text-align: right;\">\n",
       "      <th></th>\n",
       "      <th>00</th>\n",
       "      <th>000</th>\n",
       "      <th>0000</th>\n",
       "      <th>0000fff2</th>\n",
       "      <th>0000fff3</th>\n",
       "      <th>0001</th>\n",
       "      <th>000263</th>\n",
       "      <th>00103</th>\n",
       "      <th>0018c18</th>\n",
       "      <th>0027</th>\n",
       "      <th>...</th>\n",
       "      <th>zii</th>\n",
       "      <th>zip</th>\n",
       "      <th>zipped</th>\n",
       "      <th>zipwith</th>\n",
       "      <th>zlib</th>\n",
       "      <th>zlibinflated</th>\n",
       "      <th>zoom</th>\n",
       "      <th>zoomed</th>\n",
       "      <th>zygoteinit</th>\n",
       "      <th>δe</th>\n",
       "    </tr>\n",
       "  </thead>\n",
       "  <tbody>\n",
       "    <tr>\n",
       "      <th>0</th>\n",
       "      <td>0</td>\n",
       "      <td>0</td>\n",
       "      <td>0</td>\n",
       "      <td>0</td>\n",
       "      <td>0</td>\n",
       "      <td>0</td>\n",
       "      <td>0</td>\n",
       "      <td>0</td>\n",
       "      <td>0</td>\n",
       "      <td>0</td>\n",
       "      <td>...</td>\n",
       "      <td>0</td>\n",
       "      <td>0</td>\n",
       "      <td>0</td>\n",
       "      <td>0</td>\n",
       "      <td>0</td>\n",
       "      <td>0</td>\n",
       "      <td>0</td>\n",
       "      <td>0</td>\n",
       "      <td>0</td>\n",
       "      <td>0</td>\n",
       "    </tr>\n",
       "    <tr>\n",
       "      <th>1</th>\n",
       "      <td>0</td>\n",
       "      <td>0</td>\n",
       "      <td>0</td>\n",
       "      <td>0</td>\n",
       "      <td>0</td>\n",
       "      <td>0</td>\n",
       "      <td>0</td>\n",
       "      <td>0</td>\n",
       "      <td>0</td>\n",
       "      <td>0</td>\n",
       "      <td>...</td>\n",
       "      <td>0</td>\n",
       "      <td>0</td>\n",
       "      <td>0</td>\n",
       "      <td>0</td>\n",
       "      <td>0</td>\n",
       "      <td>0</td>\n",
       "      <td>0</td>\n",
       "      <td>0</td>\n",
       "      <td>0</td>\n",
       "      <td>0</td>\n",
       "    </tr>\n",
       "    <tr>\n",
       "      <th>2</th>\n",
       "      <td>0</td>\n",
       "      <td>0</td>\n",
       "      <td>0</td>\n",
       "      <td>0</td>\n",
       "      <td>0</td>\n",
       "      <td>0</td>\n",
       "      <td>0</td>\n",
       "      <td>0</td>\n",
       "      <td>0</td>\n",
       "      <td>0</td>\n",
       "      <td>...</td>\n",
       "      <td>0</td>\n",
       "      <td>0</td>\n",
       "      <td>0</td>\n",
       "      <td>0</td>\n",
       "      <td>0</td>\n",
       "      <td>0</td>\n",
       "      <td>0</td>\n",
       "      <td>0</td>\n",
       "      <td>0</td>\n",
       "      <td>0</td>\n",
       "    </tr>\n",
       "    <tr>\n",
       "      <th>3</th>\n",
       "      <td>0</td>\n",
       "      <td>0</td>\n",
       "      <td>0</td>\n",
       "      <td>0</td>\n",
       "      <td>0</td>\n",
       "      <td>0</td>\n",
       "      <td>0</td>\n",
       "      <td>0</td>\n",
       "      <td>0</td>\n",
       "      <td>0</td>\n",
       "      <td>...</td>\n",
       "      <td>0</td>\n",
       "      <td>0</td>\n",
       "      <td>0</td>\n",
       "      <td>0</td>\n",
       "      <td>0</td>\n",
       "      <td>0</td>\n",
       "      <td>0</td>\n",
       "      <td>0</td>\n",
       "      <td>0</td>\n",
       "      <td>0</td>\n",
       "    </tr>\n",
       "    <tr>\n",
       "      <th>4</th>\n",
       "      <td>0</td>\n",
       "      <td>0</td>\n",
       "      <td>0</td>\n",
       "      <td>0</td>\n",
       "      <td>0</td>\n",
       "      <td>0</td>\n",
       "      <td>0</td>\n",
       "      <td>0</td>\n",
       "      <td>0</td>\n",
       "      <td>0</td>\n",
       "      <td>...</td>\n",
       "      <td>0</td>\n",
       "      <td>0</td>\n",
       "      <td>0</td>\n",
       "      <td>0</td>\n",
       "      <td>0</td>\n",
       "      <td>0</td>\n",
       "      <td>0</td>\n",
       "      <td>0</td>\n",
       "      <td>0</td>\n",
       "      <td>0</td>\n",
       "    </tr>\n",
       "    <tr>\n",
       "      <th>5</th>\n",
       "      <td>0</td>\n",
       "      <td>0</td>\n",
       "      <td>0</td>\n",
       "      <td>0</td>\n",
       "      <td>0</td>\n",
       "      <td>0</td>\n",
       "      <td>0</td>\n",
       "      <td>0</td>\n",
       "      <td>0</td>\n",
       "      <td>0</td>\n",
       "      <td>...</td>\n",
       "      <td>0</td>\n",
       "      <td>0</td>\n",
       "      <td>0</td>\n",
       "      <td>0</td>\n",
       "      <td>0</td>\n",
       "      <td>0</td>\n",
       "      <td>0</td>\n",
       "      <td>0</td>\n",
       "      <td>0</td>\n",
       "      <td>0</td>\n",
       "    </tr>\n",
       "    <tr>\n",
       "      <th>6</th>\n",
       "      <td>0</td>\n",
       "      <td>0</td>\n",
       "      <td>0</td>\n",
       "      <td>0</td>\n",
       "      <td>0</td>\n",
       "      <td>0</td>\n",
       "      <td>0</td>\n",
       "      <td>0</td>\n",
       "      <td>0</td>\n",
       "      <td>0</td>\n",
       "      <td>...</td>\n",
       "      <td>0</td>\n",
       "      <td>0</td>\n",
       "      <td>0</td>\n",
       "      <td>0</td>\n",
       "      <td>0</td>\n",
       "      <td>0</td>\n",
       "      <td>0</td>\n",
       "      <td>0</td>\n",
       "      <td>0</td>\n",
       "      <td>0</td>\n",
       "    </tr>\n",
       "    <tr>\n",
       "      <th>7</th>\n",
       "      <td>0</td>\n",
       "      <td>0</td>\n",
       "      <td>0</td>\n",
       "      <td>0</td>\n",
       "      <td>0</td>\n",
       "      <td>0</td>\n",
       "      <td>0</td>\n",
       "      <td>0</td>\n",
       "      <td>0</td>\n",
       "      <td>0</td>\n",
       "      <td>...</td>\n",
       "      <td>0</td>\n",
       "      <td>0</td>\n",
       "      <td>0</td>\n",
       "      <td>0</td>\n",
       "      <td>0</td>\n",
       "      <td>0</td>\n",
       "      <td>0</td>\n",
       "      <td>0</td>\n",
       "      <td>0</td>\n",
       "      <td>0</td>\n",
       "    </tr>\n",
       "    <tr>\n",
       "      <th>8</th>\n",
       "      <td>0</td>\n",
       "      <td>0</td>\n",
       "      <td>0</td>\n",
       "      <td>0</td>\n",
       "      <td>0</td>\n",
       "      <td>0</td>\n",
       "      <td>0</td>\n",
       "      <td>0</td>\n",
       "      <td>0</td>\n",
       "      <td>0</td>\n",
       "      <td>...</td>\n",
       "      <td>0</td>\n",
       "      <td>0</td>\n",
       "      <td>0</td>\n",
       "      <td>0</td>\n",
       "      <td>0</td>\n",
       "      <td>0</td>\n",
       "      <td>0</td>\n",
       "      <td>0</td>\n",
       "      <td>0</td>\n",
       "      <td>0</td>\n",
       "    </tr>\n",
       "    <tr>\n",
       "      <th>9</th>\n",
       "      <td>0</td>\n",
       "      <td>0</td>\n",
       "      <td>0</td>\n",
       "      <td>0</td>\n",
       "      <td>0</td>\n",
       "      <td>0</td>\n",
       "      <td>0</td>\n",
       "      <td>0</td>\n",
       "      <td>0</td>\n",
       "      <td>0</td>\n",
       "      <td>...</td>\n",
       "      <td>0</td>\n",
       "      <td>0</td>\n",
       "      <td>0</td>\n",
       "      <td>0</td>\n",
       "      <td>0</td>\n",
       "      <td>0</td>\n",
       "      <td>0</td>\n",
       "      <td>0</td>\n",
       "      <td>0</td>\n",
       "      <td>0</td>\n",
       "    </tr>\n",
       "  </tbody>\n",
       "</table>\n",
       "<p>10 rows × 9939 columns</p>\n",
       "</div>"
      ],
      "text/plain": [
       "   00  000  0000  0000fff2  0000fff3  0001  000263  00103  0018c18  0027  ...  \\\n",
       "0   0    0     0         0         0     0       0      0        0     0  ...   \n",
       "1   0    0     0         0         0     0       0      0        0     0  ...   \n",
       "2   0    0     0         0         0     0       0      0        0     0  ...   \n",
       "3   0    0     0         0         0     0       0      0        0     0  ...   \n",
       "4   0    0     0         0         0     0       0      0        0     0  ...   \n",
       "5   0    0     0         0         0     0       0      0        0     0  ...   \n",
       "6   0    0     0         0         0     0       0      0        0     0  ...   \n",
       "7   0    0     0         0         0     0       0      0        0     0  ...   \n",
       "8   0    0     0         0         0     0       0      0        0     0  ...   \n",
       "9   0    0     0         0         0     0       0      0        0     0  ...   \n",
       "\n",
       "   zii  zip  zipped  zipwith  zlib  zlibinflated  zoom  zoomed  zygoteinit  δe  \n",
       "0    0    0       0        0     0             0     0       0           0   0  \n",
       "1    0    0       0        0     0             0     0       0           0   0  \n",
       "2    0    0       0        0     0             0     0       0           0   0  \n",
       "3    0    0       0        0     0             0     0       0           0   0  \n",
       "4    0    0       0        0     0             0     0       0           0   0  \n",
       "5    0    0       0        0     0             0     0       0           0   0  \n",
       "6    0    0       0        0     0             0     0       0           0   0  \n",
       "7    0    0       0        0     0             0     0       0           0   0  \n",
       "8    0    0       0        0     0             0     0       0           0   0  \n",
       "9    0    0       0        0     0             0     0       0           0   0  \n",
       "\n",
       "[10 rows x 9939 columns]"
      ]
     },
     "execution_count": 223,
     "metadata": {},
     "output_type": "execute_result"
    }
   ],
   "source": [
    "#Build and print dataframe\n",
    "wc_df = pd.DataFrame (word_count_vector.todense(), columns=vocabulary) # TODO\n",
    "wc_df.head(10)\n"
   ]
  },
  {
   "cell_type": "markdown",
   "metadata": {
    "id": "EyrNMavD-Y_p"
   },
   "source": [
    "Con del DataFrame es más fácil hacer consultas. \n",
    "\n",
    "**¿En qué post de stackoverflow aparece más veces la palabra `sql`?**\n",
    "\n"
   ]
  },
  {
   "cell_type": "code",
   "execution_count": 224,
   "metadata": {
    "id": "95L2ivubDRjh"
   },
   "outputs": [
    {
     "data": {
      "text/html": [
       "<div>\n",
       "<style scoped>\n",
       "    .dataframe tbody tr th:only-of-type {\n",
       "        vertical-align: middle;\n",
       "    }\n",
       "\n",
       "    .dataframe tbody tr th {\n",
       "        vertical-align: top;\n",
       "    }\n",
       "\n",
       "    .dataframe thead th {\n",
       "        text-align: right;\n",
       "    }\n",
       "</style>\n",
       "<table border=\"1\" class=\"dataframe\">\n",
       "  <thead>\n",
       "    <tr style=\"text-align: right;\">\n",
       "      <th></th>\n",
       "      <th>id</th>\n",
       "      <th>title</th>\n",
       "      <th>body</th>\n",
       "      <th>accepted_answer_id</th>\n",
       "      <th>answer_count</th>\n",
       "      <th>comment_count</th>\n",
       "      <th>creation_date</th>\n",
       "      <th>last_activity_date</th>\n",
       "      <th>last_edit_date</th>\n",
       "      <th>last_editor_display_name</th>\n",
       "      <th>...</th>\n",
       "      <th>owner_user_id</th>\n",
       "      <th>post_type_id</th>\n",
       "      <th>score</th>\n",
       "      <th>tags</th>\n",
       "      <th>view_count</th>\n",
       "      <th>favorite_count</th>\n",
       "      <th>tags_count</th>\n",
       "      <th>text</th>\n",
       "      <th>mtext</th>\n",
       "      <th>cluster</th>\n",
       "    </tr>\n",
       "  </thead>\n",
       "  <tbody>\n",
       "    <tr>\n",
       "      <th>261</th>\n",
       "      <td>38999345</td>\n",
       "      <td>BIGINT and INT comparison failure in spark sql</td>\n",
       "      <td>&lt;p&gt;I have a Hive table with the following defi...</td>\n",
       "      <td>NaN</td>\n",
       "      <td>1</td>\n",
       "      <td>0</td>\n",
       "      <td>2016-08-17 14:23:27.343 UTC</td>\n",
       "      <td>2016-08-17 15:11:07.683 UTC</td>\n",
       "      <td>NaN</td>\n",
       "      <td></td>\n",
       "      <td>...</td>\n",
       "      <td>5948671.0</td>\n",
       "      <td>1</td>\n",
       "      <td>0</td>\n",
       "      <td>apache-spark|hive|apache-spark-sql</td>\n",
       "      <td>341</td>\n",
       "      <td>NaN</td>\n",
       "      <td>3</td>\n",
       "      <td>BIGINT and INT comparison failure in spark sql...</td>\n",
       "      <td>BIGINT and INT comparison failure in spark sql...</td>\n",
       "      <td>0</td>\n",
       "    </tr>\n",
       "  </tbody>\n",
       "</table>\n",
       "<p>1 rows × 22 columns</p>\n",
       "</div>"
      ],
      "text/plain": [
       "           id                                           title  \\\n",
       "261  38999345  BIGINT and INT comparison failure in spark sql   \n",
       "\n",
       "                                                  body  accepted_answer_id  \\\n",
       "261  <p>I have a Hive table with the following defi...                 NaN   \n",
       "\n",
       "     answer_count  comment_count                creation_date  \\\n",
       "261             1              0  2016-08-17 14:23:27.343 UTC   \n",
       "\n",
       "              last_activity_date last_edit_date last_editor_display_name  ...  \\\n",
       "261  2016-08-17 15:11:07.683 UTC            NaN                           ...   \n",
       "\n",
       "     owner_user_id post_type_id  score                                tags  \\\n",
       "261      5948671.0            1      0  apache-spark|hive|apache-spark-sql   \n",
       "\n",
       "     view_count favorite_count  tags_count  \\\n",
       "261         341            NaN           3   \n",
       "\n",
       "                                                  text  \\\n",
       "261  BIGINT and INT comparison failure in spark sql...   \n",
       "\n",
       "                                                 mtext cluster  \n",
       "261  BIGINT and INT comparison failure in spark sql...       0  \n",
       "\n",
       "[1 rows x 22 columns]"
      ]
     },
     "execution_count": 224,
     "metadata": {},
     "output_type": "execute_result"
    }
   ],
   "source": [
    "sql_idx = wc_df['sql'].idxmax(axis = 0) \n",
    "stackoverflow_df [stackoverflow_df.index == sql_idx]"
   ]
  },
  {
   "cell_type": "markdown",
   "metadata": {
    "id": "lGg98DxE4I1r"
   },
   "source": [
    "## 2.2 TF*IDF TfidfTransformer\n",
    "\n",
    "\n",
    "Ya hemos visto en qué consiste el método $TF*IDF$. Con el objeto **TfidfTransformer** se pueden calcular las puntuaciones TF-IDF."
   ]
  },
  {
   "cell_type": "code",
   "execution_count": 232,
   "metadata": {
    "id": "eCGm_YVOQrGJ"
   },
   "outputs": [
    {
     "data": {
      "text/plain": [
       "<500x9939 sparse matrix of type '<class 'numpy.float64'>'\n",
       "\twith 29199 stored elements in Compressed Sparse Row format>"
      ]
     },
     "execution_count": 232,
     "metadata": {},
     "output_type": "execute_result"
    }
   ],
   "source": [
    "from sklearn.feature_extraction.text import TfidfTransformer\n",
    "#Get the tf-idf matrix\n",
    "transformer = TfidfTransformer (smooth_idf=True, use_idf=True)\n",
    "tf_idf_matrix = transformer.fit_transform (word_count_vector) #TODO : transformar word_count_vector en tf*idf\n",
    "tf_idf_matrix"
   ]
  },
  {
   "cell_type": "markdown",
   "metadata": {
    "id": "ByyR06R1Fh0e"
   },
   "source": [
    "Este código ha generado una matriz de puntuaciones tf-idf. ¿Las dimensiones de esta matriz coinciden con la obtenida de `CountVectorize`?"
   ]
  },
  {
   "cell_type": "code",
   "execution_count": 233,
   "metadata": {
    "id": "xvhkjYkeD3Nu"
   },
   "outputs": [
    {
     "name": "stdout",
     "output_type": "stream",
     "text": [
      "(500, 9939)\n",
      "(500, 9939)\n"
     ]
    }
   ],
   "source": [
    "#Show the dimmension \n",
    "print(tf_idf_matrix.shape) #TODO : YES \n",
    "print(word_count_vector.shape)\n"
   ]
  },
  {
   "cell_type": "markdown",
   "metadata": {
    "id": "12ykVK8vGxkv"
   },
   "source": [
    "De la misma forma, vamos a convertir la matriz en un DataFrame:"
   ]
  },
  {
   "cell_type": "code",
   "execution_count": 234,
   "metadata": {
    "id": "kpwfeDaNSDuQ"
   },
   "outputs": [
    {
     "data": {
      "text/html": [
       "<div>\n",
       "<style scoped>\n",
       "    .dataframe tbody tr th:only-of-type {\n",
       "        vertical-align: middle;\n",
       "    }\n",
       "\n",
       "    .dataframe tbody tr th {\n",
       "        vertical-align: top;\n",
       "    }\n",
       "\n",
       "    .dataframe thead th {\n",
       "        text-align: right;\n",
       "    }\n",
       "</style>\n",
       "<table border=\"1\" class=\"dataframe\">\n",
       "  <thead>\n",
       "    <tr style=\"text-align: right;\">\n",
       "      <th></th>\n",
       "      <th>00</th>\n",
       "      <th>000</th>\n",
       "      <th>0000</th>\n",
       "      <th>0000fff2</th>\n",
       "      <th>0000fff3</th>\n",
       "      <th>0001</th>\n",
       "      <th>000263</th>\n",
       "      <th>00103</th>\n",
       "      <th>0018c18</th>\n",
       "      <th>0027</th>\n",
       "      <th>...</th>\n",
       "      <th>zii</th>\n",
       "      <th>zip</th>\n",
       "      <th>zipped</th>\n",
       "      <th>zipwith</th>\n",
       "      <th>zlib</th>\n",
       "      <th>zlibinflated</th>\n",
       "      <th>zoom</th>\n",
       "      <th>zoomed</th>\n",
       "      <th>zygoteinit</th>\n",
       "      <th>δe</th>\n",
       "    </tr>\n",
       "  </thead>\n",
       "  <tbody>\n",
       "    <tr>\n",
       "      <th>0</th>\n",
       "      <td>0.0</td>\n",
       "      <td>0.0</td>\n",
       "      <td>0.0</td>\n",
       "      <td>0.0</td>\n",
       "      <td>0.0</td>\n",
       "      <td>0.0</td>\n",
       "      <td>0.0</td>\n",
       "      <td>0.0</td>\n",
       "      <td>0.0</td>\n",
       "      <td>0.0</td>\n",
       "      <td>...</td>\n",
       "      <td>0.0</td>\n",
       "      <td>0.0</td>\n",
       "      <td>0.0</td>\n",
       "      <td>0.0</td>\n",
       "      <td>0.0</td>\n",
       "      <td>0.0</td>\n",
       "      <td>0.0</td>\n",
       "      <td>0.0</td>\n",
       "      <td>0.0</td>\n",
       "      <td>0.0</td>\n",
       "    </tr>\n",
       "    <tr>\n",
       "      <th>1</th>\n",
       "      <td>0.0</td>\n",
       "      <td>0.0</td>\n",
       "      <td>0.0</td>\n",
       "      <td>0.0</td>\n",
       "      <td>0.0</td>\n",
       "      <td>0.0</td>\n",
       "      <td>0.0</td>\n",
       "      <td>0.0</td>\n",
       "      <td>0.0</td>\n",
       "      <td>0.0</td>\n",
       "      <td>...</td>\n",
       "      <td>0.0</td>\n",
       "      <td>0.0</td>\n",
       "      <td>0.0</td>\n",
       "      <td>0.0</td>\n",
       "      <td>0.0</td>\n",
       "      <td>0.0</td>\n",
       "      <td>0.0</td>\n",
       "      <td>0.0</td>\n",
       "      <td>0.0</td>\n",
       "      <td>0.0</td>\n",
       "    </tr>\n",
       "    <tr>\n",
       "      <th>2</th>\n",
       "      <td>0.0</td>\n",
       "      <td>0.0</td>\n",
       "      <td>0.0</td>\n",
       "      <td>0.0</td>\n",
       "      <td>0.0</td>\n",
       "      <td>0.0</td>\n",
       "      <td>0.0</td>\n",
       "      <td>0.0</td>\n",
       "      <td>0.0</td>\n",
       "      <td>0.0</td>\n",
       "      <td>...</td>\n",
       "      <td>0.0</td>\n",
       "      <td>0.0</td>\n",
       "      <td>0.0</td>\n",
       "      <td>0.0</td>\n",
       "      <td>0.0</td>\n",
       "      <td>0.0</td>\n",
       "      <td>0.0</td>\n",
       "      <td>0.0</td>\n",
       "      <td>0.0</td>\n",
       "      <td>0.0</td>\n",
       "    </tr>\n",
       "    <tr>\n",
       "      <th>3</th>\n",
       "      <td>0.0</td>\n",
       "      <td>0.0</td>\n",
       "      <td>0.0</td>\n",
       "      <td>0.0</td>\n",
       "      <td>0.0</td>\n",
       "      <td>0.0</td>\n",
       "      <td>0.0</td>\n",
       "      <td>0.0</td>\n",
       "      <td>0.0</td>\n",
       "      <td>0.0</td>\n",
       "      <td>...</td>\n",
       "      <td>0.0</td>\n",
       "      <td>0.0</td>\n",
       "      <td>0.0</td>\n",
       "      <td>0.0</td>\n",
       "      <td>0.0</td>\n",
       "      <td>0.0</td>\n",
       "      <td>0.0</td>\n",
       "      <td>0.0</td>\n",
       "      <td>0.0</td>\n",
       "      <td>0.0</td>\n",
       "    </tr>\n",
       "    <tr>\n",
       "      <th>4</th>\n",
       "      <td>0.0</td>\n",
       "      <td>0.0</td>\n",
       "      <td>0.0</td>\n",
       "      <td>0.0</td>\n",
       "      <td>0.0</td>\n",
       "      <td>0.0</td>\n",
       "      <td>0.0</td>\n",
       "      <td>0.0</td>\n",
       "      <td>0.0</td>\n",
       "      <td>0.0</td>\n",
       "      <td>...</td>\n",
       "      <td>0.0</td>\n",
       "      <td>0.0</td>\n",
       "      <td>0.0</td>\n",
       "      <td>0.0</td>\n",
       "      <td>0.0</td>\n",
       "      <td>0.0</td>\n",
       "      <td>0.0</td>\n",
       "      <td>0.0</td>\n",
       "      <td>0.0</td>\n",
       "      <td>0.0</td>\n",
       "    </tr>\n",
       "    <tr>\n",
       "      <th>...</th>\n",
       "      <td>...</td>\n",
       "      <td>...</td>\n",
       "      <td>...</td>\n",
       "      <td>...</td>\n",
       "      <td>...</td>\n",
       "      <td>...</td>\n",
       "      <td>...</td>\n",
       "      <td>...</td>\n",
       "      <td>...</td>\n",
       "      <td>...</td>\n",
       "      <td>...</td>\n",
       "      <td>...</td>\n",
       "      <td>...</td>\n",
       "      <td>...</td>\n",
       "      <td>...</td>\n",
       "      <td>...</td>\n",
       "      <td>...</td>\n",
       "      <td>...</td>\n",
       "      <td>...</td>\n",
       "      <td>...</td>\n",
       "      <td>...</td>\n",
       "    </tr>\n",
       "    <tr>\n",
       "      <th>495</th>\n",
       "      <td>0.0</td>\n",
       "      <td>0.0</td>\n",
       "      <td>0.0</td>\n",
       "      <td>0.0</td>\n",
       "      <td>0.0</td>\n",
       "      <td>0.0</td>\n",
       "      <td>0.0</td>\n",
       "      <td>0.0</td>\n",
       "      <td>0.0</td>\n",
       "      <td>0.0</td>\n",
       "      <td>...</td>\n",
       "      <td>0.0</td>\n",
       "      <td>0.0</td>\n",
       "      <td>0.0</td>\n",
       "      <td>0.0</td>\n",
       "      <td>0.0</td>\n",
       "      <td>0.0</td>\n",
       "      <td>0.0</td>\n",
       "      <td>0.0</td>\n",
       "      <td>0.0</td>\n",
       "      <td>0.0</td>\n",
       "    </tr>\n",
       "    <tr>\n",
       "      <th>496</th>\n",
       "      <td>0.0</td>\n",
       "      <td>0.0</td>\n",
       "      <td>0.0</td>\n",
       "      <td>0.0</td>\n",
       "      <td>0.0</td>\n",
       "      <td>0.0</td>\n",
       "      <td>0.0</td>\n",
       "      <td>0.0</td>\n",
       "      <td>0.0</td>\n",
       "      <td>0.0</td>\n",
       "      <td>...</td>\n",
       "      <td>0.0</td>\n",
       "      <td>0.0</td>\n",
       "      <td>0.0</td>\n",
       "      <td>0.0</td>\n",
       "      <td>0.0</td>\n",
       "      <td>0.0</td>\n",
       "      <td>0.0</td>\n",
       "      <td>0.0</td>\n",
       "      <td>0.0</td>\n",
       "      <td>0.0</td>\n",
       "    </tr>\n",
       "    <tr>\n",
       "      <th>497</th>\n",
       "      <td>0.0</td>\n",
       "      <td>0.0</td>\n",
       "      <td>0.0</td>\n",
       "      <td>0.0</td>\n",
       "      <td>0.0</td>\n",
       "      <td>0.0</td>\n",
       "      <td>0.0</td>\n",
       "      <td>0.0</td>\n",
       "      <td>0.0</td>\n",
       "      <td>0.0</td>\n",
       "      <td>...</td>\n",
       "      <td>0.0</td>\n",
       "      <td>0.0</td>\n",
       "      <td>0.0</td>\n",
       "      <td>0.0</td>\n",
       "      <td>0.0</td>\n",
       "      <td>0.0</td>\n",
       "      <td>0.0</td>\n",
       "      <td>0.0</td>\n",
       "      <td>0.0</td>\n",
       "      <td>0.0</td>\n",
       "    </tr>\n",
       "    <tr>\n",
       "      <th>498</th>\n",
       "      <td>0.0</td>\n",
       "      <td>0.0</td>\n",
       "      <td>0.0</td>\n",
       "      <td>0.0</td>\n",
       "      <td>0.0</td>\n",
       "      <td>0.0</td>\n",
       "      <td>0.0</td>\n",
       "      <td>0.0</td>\n",
       "      <td>0.0</td>\n",
       "      <td>0.0</td>\n",
       "      <td>...</td>\n",
       "      <td>0.0</td>\n",
       "      <td>0.0</td>\n",
       "      <td>0.0</td>\n",
       "      <td>0.0</td>\n",
       "      <td>0.0</td>\n",
       "      <td>0.0</td>\n",
       "      <td>0.0</td>\n",
       "      <td>0.0</td>\n",
       "      <td>0.0</td>\n",
       "      <td>0.0</td>\n",
       "    </tr>\n",
       "    <tr>\n",
       "      <th>499</th>\n",
       "      <td>0.0</td>\n",
       "      <td>0.0</td>\n",
       "      <td>0.0</td>\n",
       "      <td>0.0</td>\n",
       "      <td>0.0</td>\n",
       "      <td>0.0</td>\n",
       "      <td>0.0</td>\n",
       "      <td>0.0</td>\n",
       "      <td>0.0</td>\n",
       "      <td>0.0</td>\n",
       "      <td>...</td>\n",
       "      <td>0.0</td>\n",
       "      <td>0.0</td>\n",
       "      <td>0.0</td>\n",
       "      <td>0.0</td>\n",
       "      <td>0.0</td>\n",
       "      <td>0.0</td>\n",
       "      <td>0.0</td>\n",
       "      <td>0.0</td>\n",
       "      <td>0.0</td>\n",
       "      <td>0.0</td>\n",
       "    </tr>\n",
       "  </tbody>\n",
       "</table>\n",
       "<p>500 rows × 9939 columns</p>\n",
       "</div>"
      ],
      "text/plain": [
       "      00  000  0000  0000fff2  0000fff3  0001  000263  00103  0018c18  0027  \\\n",
       "0    0.0  0.0   0.0       0.0       0.0   0.0     0.0    0.0      0.0   0.0   \n",
       "1    0.0  0.0   0.0       0.0       0.0   0.0     0.0    0.0      0.0   0.0   \n",
       "2    0.0  0.0   0.0       0.0       0.0   0.0     0.0    0.0      0.0   0.0   \n",
       "3    0.0  0.0   0.0       0.0       0.0   0.0     0.0    0.0      0.0   0.0   \n",
       "4    0.0  0.0   0.0       0.0       0.0   0.0     0.0    0.0      0.0   0.0   \n",
       "..   ...  ...   ...       ...       ...   ...     ...    ...      ...   ...   \n",
       "495  0.0  0.0   0.0       0.0       0.0   0.0     0.0    0.0      0.0   0.0   \n",
       "496  0.0  0.0   0.0       0.0       0.0   0.0     0.0    0.0      0.0   0.0   \n",
       "497  0.0  0.0   0.0       0.0       0.0   0.0     0.0    0.0      0.0   0.0   \n",
       "498  0.0  0.0   0.0       0.0       0.0   0.0     0.0    0.0      0.0   0.0   \n",
       "499  0.0  0.0   0.0       0.0       0.0   0.0     0.0    0.0      0.0   0.0   \n",
       "\n",
       "     ...  zii  zip  zipped  zipwith  zlib  zlibinflated  zoom  zoomed  \\\n",
       "0    ...  0.0  0.0     0.0      0.0   0.0           0.0   0.0     0.0   \n",
       "1    ...  0.0  0.0     0.0      0.0   0.0           0.0   0.0     0.0   \n",
       "2    ...  0.0  0.0     0.0      0.0   0.0           0.0   0.0     0.0   \n",
       "3    ...  0.0  0.0     0.0      0.0   0.0           0.0   0.0     0.0   \n",
       "4    ...  0.0  0.0     0.0      0.0   0.0           0.0   0.0     0.0   \n",
       "..   ...  ...  ...     ...      ...   ...           ...   ...     ...   \n",
       "495  ...  0.0  0.0     0.0      0.0   0.0           0.0   0.0     0.0   \n",
       "496  ...  0.0  0.0     0.0      0.0   0.0           0.0   0.0     0.0   \n",
       "497  ...  0.0  0.0     0.0      0.0   0.0           0.0   0.0     0.0   \n",
       "498  ...  0.0  0.0     0.0      0.0   0.0           0.0   0.0     0.0   \n",
       "499  ...  0.0  0.0     0.0      0.0   0.0           0.0   0.0     0.0   \n",
       "\n",
       "     zygoteinit   δe  \n",
       "0           0.0  0.0  \n",
       "1           0.0  0.0  \n",
       "2           0.0  0.0  \n",
       "3           0.0  0.0  \n",
       "4           0.0  0.0  \n",
       "..          ...  ...  \n",
       "495         0.0  0.0  \n",
       "496         0.0  0.0  \n",
       "497         0.0  0.0  \n",
       "498         0.0  0.0  \n",
       "499         0.0  0.0  \n",
       "\n",
       "[500 rows x 9939 columns]"
      ]
     },
     "execution_count": 234,
     "metadata": {},
     "output_type": "execute_result"
    }
   ],
   "source": [
    "#Build data frame and check that is working properly\n",
    "tf_idf_df = pd.DataFrame (tf_idf_matrix.todense(),columns=vocabulary) # TODO\n",
    "tf_idf_df[tf_idf_df['javascript']>0.1]['javascript']\n",
    "tf_idf_df"
   ]
  },
  {
   "cell_type": "markdown",
   "metadata": {
    "id": "luQVcQwXRkfq"
   },
   "source": [
    "Es posible ordenar valores tf-idf en orden descendente:"
   ]
  },
  {
   "cell_type": "code",
   "execution_count": 235,
   "metadata": {
    "id": "QaSxIFojRj_i"
   },
   "outputs": [
    {
     "data": {
      "text/plain": [
       "339    0.242313\n",
       "159    0.240018\n",
       "395    0.211170\n",
       "240    0.186058\n",
       "338    0.141360\n",
       "Name: javascript, dtype: float64"
      ]
     },
     "execution_count": 235,
     "metadata": {},
     "output_type": "execute_result"
    }
   ],
   "source": [
    "#Build a sorted funtion for our matrix\n",
    "def sort_coo(coo_matrix):\n",
    "    tuples=zip(coo_matrix.col,coo_matrix.data)\n",
    "    return sorted(tuples,key=lambda x:(x[1],x[0]),reverse=True)\n",
    "# Sorted and print to check that is working\n",
    "tf_idf_matrix=sort_coo(tf_idf_matrix.tocoo())\n",
    "tf_idf_df.sort_values(by=['javascript'],ascending=False)\n",
    "tf_idf_df['javascript'].nlargest(n=5)\n"
   ]
  },
  {
   "cell_type": "markdown",
   "metadata": {
    "id": "p6uSHRLUKcZD"
   },
   "source": [
    "El objetivo a continuación es extraer las $n$ palabras clave (`keywords`) que mejor representen cada una de las cuestiones planteadas en los datos de stackoverflow, según las puntuaciones tf-idf.\n",
    "\n",
    "\n",
    "\n"
   ]
  },
  {
   "cell_type": "code",
   "execution_count": 236,
   "metadata": {
    "id": "KwAtG_xQMlVV"
   },
   "outputs": [
    {
     "name": "stdout",
     "output_type": "stream",
     "text": [
      "{'balance': 0.869, 'jar': 0.847, 'lampa': 0.801, 'title': 0.792, 'favicon': 0.784}\n",
      "{'balance': 0.869, 'jar': 0.847, 'lampa': 0.801, 'title': 0.792, 'favicon': 0.784}\n",
      "{'balance': 0.869, 'jar': 0.847, 'lampa': 0.801, 'title': 0.792, 'favicon': 0.784}\n"
     ]
    }
   ],
   "source": [
    "def extract_topn_keywords (row, vocabulary, topn=5):\n",
    "    sort_items=row[:topn]\n",
    "    score_vals=[]\n",
    "    feature_vals=[]\n",
    "    \n",
    "    # loop through td-idf list to update our score and feature list \n",
    "    for idx, score in sort_items:\n",
    "        score_vals.append(round(score,3))\n",
    "        feature_vals.append(vocabulary[idx])\n",
    "        \n",
    "    result = {}# TODO \n",
    "    \n",
    "    # loop through feature list to build our top\n",
    "    for idx in range(len(feature_vals)):\n",
    "        result[feature_vals[idx]]=score_vals[idx]\n",
    "    \n",
    "    return result\n",
    "\n",
    "# loop through td-idf list to test our function\n",
    "for row in tf_idf_df[300:303].iterrows():\n",
    "\n",
    "    print (extract_topn_keywords(tf_idf_matrix, vocabulary))"
   ]
  },
  {
   "cell_type": "code",
   "execution_count": 71,
   "metadata": {
    "id": "5TWrB6ZBI8AO"
   },
   "outputs": [],
   "source": [
    "#stackoverflow_df['keywords'] = # TODO"
   ]
  },
  {
   "cell_type": "code",
   "execution_count": 237,
   "metadata": {
    "id": "J-gALLOxKVTL"
   },
   "outputs": [
    {
     "data": {
      "text/html": [
       "<div>\n",
       "<style scoped>\n",
       "    .dataframe tbody tr th:only-of-type {\n",
       "        vertical-align: middle;\n",
       "    }\n",
       "\n",
       "    .dataframe tbody tr th {\n",
       "        vertical-align: top;\n",
       "    }\n",
       "\n",
       "    .dataframe thead th {\n",
       "        text-align: right;\n",
       "    }\n",
       "</style>\n",
       "<table border=\"1\" class=\"dataframe\">\n",
       "  <thead>\n",
       "    <tr style=\"text-align: right;\">\n",
       "      <th></th>\n",
       "      <th>id</th>\n",
       "      <th>title</th>\n",
       "      <th>body</th>\n",
       "      <th>accepted_answer_id</th>\n",
       "      <th>answer_count</th>\n",
       "      <th>comment_count</th>\n",
       "      <th>creation_date</th>\n",
       "      <th>last_activity_date</th>\n",
       "      <th>last_edit_date</th>\n",
       "      <th>last_editor_display_name</th>\n",
       "      <th>...</th>\n",
       "      <th>owner_user_id</th>\n",
       "      <th>post_type_id</th>\n",
       "      <th>score</th>\n",
       "      <th>tags</th>\n",
       "      <th>view_count</th>\n",
       "      <th>favorite_count</th>\n",
       "      <th>tags_count</th>\n",
       "      <th>text</th>\n",
       "      <th>mtext</th>\n",
       "      <th>cluster</th>\n",
       "    </tr>\n",
       "  </thead>\n",
       "  <tbody>\n",
       "    <tr>\n",
       "      <th>495</th>\n",
       "      <td>5972679</td>\n",
       "      <td>Is there any .NET string.format compatible fun...</td>\n",
       "      <td>&lt;p&gt;Is there any .NET string.format compatible ...</td>\n",
       "      <td>6001444.0</td>\n",
       "      <td>1</td>\n",
       "      <td>8</td>\n",
       "      <td>2011-05-12 02:23:05.997 UTC</td>\n",
       "      <td>2011-05-14 11:16:16.3 UTC</td>\n",
       "      <td>2011-05-14 11:16:16.3 UTC</td>\n",
       "      <td></td>\n",
       "      <td>...</td>\n",
       "      <td>26736.0</td>\n",
       "      <td>1</td>\n",
       "      <td>4</td>\n",
       "      <td>delphi|formatting</td>\n",
       "      <td>403</td>\n",
       "      <td>NaN</td>\n",
       "      <td>2</td>\n",
       "      <td>Is there any .NET string.format compatible fun...</td>\n",
       "      <td>Is there any .NET string.format compatible fun...</td>\n",
       "      <td>0</td>\n",
       "    </tr>\n",
       "    <tr>\n",
       "      <th>496</th>\n",
       "      <td>21473995</td>\n",
       "      <td>How to handle failed XPATH lookup in MSXML fro...</td>\n",
       "      <td>&lt;p&gt;I am parsing a piece of XML returned from a...</td>\n",
       "      <td>21512998.0</td>\n",
       "      <td>2</td>\n",
       "      <td>0</td>\n",
       "      <td>2014-01-31 06:41:50.217 UTC</td>\n",
       "      <td>2014-02-02 16:33:58.39 UTC</td>\n",
       "      <td>NaN</td>\n",
       "      <td></td>\n",
       "      <td>...</td>\n",
       "      <td>274354.0</td>\n",
       "      <td>1</td>\n",
       "      <td>0</td>\n",
       "      <td>autoit|msxml</td>\n",
       "      <td>534</td>\n",
       "      <td>NaN</td>\n",
       "      <td>2</td>\n",
       "      <td>How to handle failed XPATH lookup in MSXML fro...</td>\n",
       "      <td>How to handle failed XPATH lookup in MSXML fro...</td>\n",
       "      <td>1</td>\n",
       "    </tr>\n",
       "    <tr>\n",
       "      <th>497</th>\n",
       "      <td>11279736</td>\n",
       "      <td>Logo Animation - Don't know where to begin</td>\n",
       "      <td>&lt;p&gt;I'm trying to have a cool little animation ...</td>\n",
       "      <td>11897603.0</td>\n",
       "      <td>2</td>\n",
       "      <td>2</td>\n",
       "      <td>2012-07-01 05:07:28.437 UTC</td>\n",
       "      <td>2013-02-12 12:19:48.26 UTC</td>\n",
       "      <td>2013-02-12 12:19:48.26 UTC</td>\n",
       "      <td></td>\n",
       "      <td>...</td>\n",
       "      <td>1193321.0</td>\n",
       "      <td>1</td>\n",
       "      <td>1</td>\n",
       "      <td>android|opengl-es|android-animation</td>\n",
       "      <td>858</td>\n",
       "      <td>NaN</td>\n",
       "      <td>3</td>\n",
       "      <td>Logo Animation - Don't know where to begin&lt;p&gt;I...</td>\n",
       "      <td>Logo Animation - Don't know where to beginI'm ...</td>\n",
       "      <td>0</td>\n",
       "    </tr>\n",
       "    <tr>\n",
       "      <th>498</th>\n",
       "      <td>33005260</td>\n",
       "      <td>How to introduce a new variable in Coq?</td>\n",
       "      <td>&lt;p&gt;I was wondering if there is a way to introd...</td>\n",
       "      <td>33005343.0</td>\n",
       "      <td>3</td>\n",
       "      <td>0</td>\n",
       "      <td>2015-10-08 01:44:46.92 UTC</td>\n",
       "      <td>2015-10-08 16:10:57.683 UTC</td>\n",
       "      <td>NaN</td>\n",
       "      <td></td>\n",
       "      <td>...</td>\n",
       "      <td>683218.0</td>\n",
       "      <td>1</td>\n",
       "      <td>2</td>\n",
       "      <td>coq|coq-tactic</td>\n",
       "      <td>933</td>\n",
       "      <td>2.0</td>\n",
       "      <td>2</td>\n",
       "      <td>How to introduce a new variable in Coq?&lt;p&gt;I wa...</td>\n",
       "      <td>How to introduce a new variable in Coq?I was w...</td>\n",
       "      <td>0</td>\n",
       "    </tr>\n",
       "    <tr>\n",
       "      <th>499</th>\n",
       "      <td>38318410</td>\n",
       "      <td>Facebook PHP SDK login and localhost</td>\n",
       "      <td>&lt;p&gt;I am trying to set FB SDK to work in my loc...</td>\n",
       "      <td>NaN</td>\n",
       "      <td>2</td>\n",
       "      <td>3</td>\n",
       "      <td>2016-07-12 00:58:03.357 UTC</td>\n",
       "      <td>2016-08-04 19:27:27.847 UTC</td>\n",
       "      <td>NaN</td>\n",
       "      <td></td>\n",
       "      <td>...</td>\n",
       "      <td>5849229.0</td>\n",
       "      <td>1</td>\n",
       "      <td>0</td>\n",
       "      <td>php|facebook|sdk|facebook-javascript-sdk|faceb...</td>\n",
       "      <td>513</td>\n",
       "      <td>NaN</td>\n",
       "      <td>5</td>\n",
       "      <td>Facebook PHP SDK login and localhost&lt;p&gt;I am tr...</td>\n",
       "      <td>Facebook PHP SDK login and localhostI am tryin...</td>\n",
       "      <td>0</td>\n",
       "    </tr>\n",
       "  </tbody>\n",
       "</table>\n",
       "<p>5 rows × 22 columns</p>\n",
       "</div>"
      ],
      "text/plain": [
       "           id                                              title  \\\n",
       "495   5972679  Is there any .NET string.format compatible fun...   \n",
       "496  21473995  How to handle failed XPATH lookup in MSXML fro...   \n",
       "497  11279736         Logo Animation - Don't know where to begin   \n",
       "498  33005260            How to introduce a new variable in Coq?   \n",
       "499  38318410               Facebook PHP SDK login and localhost   \n",
       "\n",
       "                                                  body  accepted_answer_id  \\\n",
       "495  <p>Is there any .NET string.format compatible ...           6001444.0   \n",
       "496  <p>I am parsing a piece of XML returned from a...          21512998.0   \n",
       "497  <p>I'm trying to have a cool little animation ...          11897603.0   \n",
       "498  <p>I was wondering if there is a way to introd...          33005343.0   \n",
       "499  <p>I am trying to set FB SDK to work in my loc...                 NaN   \n",
       "\n",
       "     answer_count  comment_count                creation_date  \\\n",
       "495             1              8  2011-05-12 02:23:05.997 UTC   \n",
       "496             2              0  2014-01-31 06:41:50.217 UTC   \n",
       "497             2              2  2012-07-01 05:07:28.437 UTC   \n",
       "498             3              0   2015-10-08 01:44:46.92 UTC   \n",
       "499             2              3  2016-07-12 00:58:03.357 UTC   \n",
       "\n",
       "              last_activity_date              last_edit_date  \\\n",
       "495    2011-05-14 11:16:16.3 UTC   2011-05-14 11:16:16.3 UTC   \n",
       "496   2014-02-02 16:33:58.39 UTC                         NaN   \n",
       "497   2013-02-12 12:19:48.26 UTC  2013-02-12 12:19:48.26 UTC   \n",
       "498  2015-10-08 16:10:57.683 UTC                         NaN   \n",
       "499  2016-08-04 19:27:27.847 UTC                         NaN   \n",
       "\n",
       "    last_editor_display_name  ...  owner_user_id post_type_id  score  \\\n",
       "495                           ...        26736.0            1      4   \n",
       "496                           ...       274354.0            1      0   \n",
       "497                           ...      1193321.0            1      1   \n",
       "498                           ...       683218.0            1      2   \n",
       "499                           ...      5849229.0            1      0   \n",
       "\n",
       "                                                  tags  view_count  \\\n",
       "495                                  delphi|formatting         403   \n",
       "496                                       autoit|msxml         534   \n",
       "497                android|opengl-es|android-animation         858   \n",
       "498                                     coq|coq-tactic         933   \n",
       "499  php|facebook|sdk|facebook-javascript-sdk|faceb...         513   \n",
       "\n",
       "    favorite_count  tags_count  \\\n",
       "495            NaN           2   \n",
       "496            NaN           2   \n",
       "497            NaN           3   \n",
       "498            2.0           2   \n",
       "499            NaN           5   \n",
       "\n",
       "                                                  text  \\\n",
       "495  Is there any .NET string.format compatible fun...   \n",
       "496  How to handle failed XPATH lookup in MSXML fro...   \n",
       "497  Logo Animation - Don't know where to begin<p>I...   \n",
       "498  How to introduce a new variable in Coq?<p>I wa...   \n",
       "499  Facebook PHP SDK login and localhost<p>I am tr...   \n",
       "\n",
       "                                                 mtext cluster  \n",
       "495  Is there any .NET string.format compatible fun...       0  \n",
       "496  How to handle failed XPATH lookup in MSXML fro...       1  \n",
       "497  Logo Animation - Don't know where to beginI'm ...       0  \n",
       "498  How to introduce a new variable in Coq?I was w...       0  \n",
       "499  Facebook PHP SDK login and localhostI am tryin...       0  \n",
       "\n",
       "[5 rows x 22 columns]"
      ]
     },
     "execution_count": 237,
     "metadata": {},
     "output_type": "execute_result"
    }
   ],
   "source": [
    "stackoverflow_df.tail(5)"
   ]
  },
  {
   "cell_type": "markdown",
   "metadata": {
    "id": "mpMpG1n9yk35"
   },
   "source": [
    "**¿Son muy diferentes las palabras (tags) obtenidos mediante este procedimiento de las iniciales en el campo `tags`?**"
   ]
  },
  {
   "cell_type": "markdown",
   "metadata": {
    "id": "V6M5bEohy7LL"
   },
   "source": [
    "---\n"
   ]
  },
  {
   "cell_type": "markdown",
   "metadata": {
    "id": "-ZfbHaqTH_-4"
   },
   "source": [
    "En esta última sección,  vamos a presentar el algoritmo de clustering [K-Means](https://en.wikipedia.org/wiki/K-means_clustering), un algoritmo de clustering no supervisado que nos va a agrupar las diferentes cuestiones planteadas en Stack Overflow en diferentes grupos.\n",
    "\n",
    "\n",
    "El objetivo de K-Means es sencillo: agrupar datos similares y descubrir patrones subyacentes. Para lograr esto, K-Means busca un número fijo $k$ de centroides en el dataset. Un centroide es el centro de un cluster y un cluster es una collección de datos reunidos que tienen ciertas similitudes entre ellos. El ‘means’ se refiere al promediado de los datos encontrando el centroide. El algoritmo es no supervisado pues no tiene conocimiento de los grupos en el dataset, es decir, encontrará los grupos subyacentes en el dataset.\n",
    "\n",
    "Vamos a ver cómo funciona K-Means para los datos de tf-idf:"
   ]
  },
  {
   "cell_type": "code",
   "execution_count": 238,
   "metadata": {
    "id": "0HV3GceGH-2B"
   },
   "outputs": [],
   "source": [
    "from sklearn.cluster import KMeans\n",
    "\n",
    "k = 5 \n",
    "kmeans = KMeans(n_clusters=k).fit(tf_idf_df)\n"
   ]
  },
  {
   "cell_type": "markdown",
   "metadata": {
    "id": "mt_G930ypJN5"
   },
   "source": [
    "El algoritmo ha agrupado cada uno de los documentos en uno de los 5 cluster definidos:"
   ]
  },
  {
   "cell_type": "code",
   "execution_count": 239,
   "metadata": {
    "id": "chxlhLdmI-hq"
   },
   "outputs": [
    {
     "data": {
      "text/plain": [
       "array([2, 2, 4, 4, 3, 1, 2, 3, 3, 0, 1, 3, 3, 1, 0, 2, 1, 1, 2, 2, 1, 3,\n",
       "       1, 0, 0, 3, 4, 4, 1, 4, 3, 1, 3, 0, 3, 4, 1, 1, 1, 0, 2, 1, 0, 1,\n",
       "       1, 3, 2, 1, 4, 2, 3, 3, 2, 2, 2, 3, 2, 0, 1, 3, 4, 3, 1, 1, 3, 4,\n",
       "       0, 3, 2, 3, 2, 0, 1, 1, 3, 3, 3, 2, 2, 3, 4, 2, 2, 0, 2, 3, 1, 3,\n",
       "       0, 2, 1, 2, 4, 2, 2, 2, 3, 3, 0, 3, 0, 3, 1, 2, 2, 2, 3, 3, 1, 1,\n",
       "       0, 0, 2, 2, 0, 1, 3, 0, 1, 2, 3, 2, 4, 3, 3, 4, 1, 3, 2, 4, 4, 1,\n",
       "       1, 4, 3, 2, 1, 2, 0, 2, 2, 4, 1, 3, 3, 3, 2, 2, 1, 2, 3, 3, 4, 3,\n",
       "       3, 2, 3, 3, 1, 1, 0, 3, 3, 3, 2, 2, 4, 2, 4, 3, 1, 1, 3, 4, 4, 3,\n",
       "       1, 3, 2, 0, 3, 3, 1, 2, 3, 3, 3, 4, 3, 0, 3, 1, 3, 0, 0, 3, 3, 0,\n",
       "       2, 0, 2, 4, 0, 2, 2, 3, 2, 1, 3, 0, 3, 1, 3, 3, 1, 3, 3, 0, 2, 4,\n",
       "       2, 4, 4, 1, 0, 1, 2, 0, 1, 3, 3, 3, 0, 2, 2, 2, 1, 2, 4, 0, 1, 2,\n",
       "       1, 0, 1, 3, 1, 3, 1, 0, 2, 4, 1, 1, 3, 2, 3, 0, 3, 2, 0, 3, 4, 4,\n",
       "       2, 3, 2, 0, 2, 0, 1, 4, 1, 1, 4, 0, 1, 2, 2, 2, 0, 0, 4, 0, 2, 1,\n",
       "       1, 3, 2, 3, 0, 0, 2, 3, 2, 1, 1, 3, 2, 2, 2, 0, 3, 0, 2, 4, 2, 1,\n",
       "       2, 1, 2, 1, 3, 4, 4, 1, 3, 1, 1, 0, 3, 3, 2, 3, 0, 3, 2, 1, 2, 2,\n",
       "       1, 1, 2, 1, 2, 0, 3, 3, 2, 0, 2, 2, 3, 1, 3, 4, 4, 1, 1, 0, 1, 3,\n",
       "       1, 3, 4, 1, 0, 0, 3, 2, 2, 2, 2, 3, 3, 4, 1, 4, 3, 2, 4, 3, 4, 3,\n",
       "       2, 4, 3, 1, 2, 1, 2, 1, 1, 4, 2, 1, 3, 1, 0, 3, 2, 1, 3, 2, 4, 2,\n",
       "       3, 2, 1, 2, 1, 1, 2, 4, 2, 2, 2, 2, 4, 1, 2, 0, 1, 3, 0, 2, 3, 1,\n",
       "       2, 2, 3, 2, 3, 3, 1, 3, 4, 2, 1, 3, 3, 0, 1, 1, 1, 1, 3, 0, 0, 3,\n",
       "       2, 0, 3, 2, 1, 2, 3, 2, 0, 0, 1, 2, 2, 1, 2, 1, 2, 1, 3, 3, 1, 3,\n",
       "       3, 1, 1, 1, 1, 1, 2, 1, 1, 0, 1, 3, 1, 2, 3, 1, 1, 1, 1, 3, 3, 0,\n",
       "       0, 3, 0, 2, 1, 4, 1, 2, 1, 1, 1, 3, 0, 4, 2, 1])"
      ]
     },
     "execution_count": 239,
     "metadata": {},
     "output_type": "execute_result"
    }
   ],
   "source": [
    "kmeans.labels_ "
   ]
  },
  {
   "cell_type": "markdown",
   "metadata": {
    "id": "e0zFtfv5lWKr"
   },
   "source": [
    "Una cuestión importante es que el parámetro que indica el número de cluster $k$ hay que proporcionárselo y no sabemos, a priori, cuántos clúster podría haber subyacentes.\n",
    "\n",
    "Para ello vamos a realizar el proceso con varios valores de $k$ para ver cuál es más adecuado:"
   ]
  },
  {
   "cell_type": "code",
   "execution_count": 240,
   "metadata": {
    "id": "x1QQ_BbtwV3Z"
   },
   "outputs": [
    {
     "data": {
      "text/plain": [
       "{2: MiniBatchKMeans(batch_size=2048, init_size=1024, n_clusters=2, random_state=20),\n",
       " 3: MiniBatchKMeans(batch_size=2048, init_size=1024, n_clusters=3, random_state=20),\n",
       " 4: MiniBatchKMeans(batch_size=2048, init_size=1024, n_clusters=4, random_state=20),\n",
       " 5: MiniBatchKMeans(batch_size=2048, init_size=1024, n_clusters=5, random_state=20),\n",
       " 6: MiniBatchKMeans(batch_size=2048, init_size=1024, n_clusters=6, random_state=20),\n",
       " 7: MiniBatchKMeans(batch_size=2048, init_size=1024, n_clusters=7, random_state=20),\n",
       " 8: MiniBatchKMeans(batch_size=2048, init_size=1024, random_state=20),\n",
       " 9: MiniBatchKMeans(batch_size=2048, init_size=1024, n_clusters=9, random_state=20),\n",
       " 10: MiniBatchKMeans(batch_size=2048, init_size=1024, n_clusters=10, random_state=20),\n",
       " 11: MiniBatchKMeans(batch_size=2048, init_size=1024, n_clusters=11, random_state=20),\n",
       " 12: MiniBatchKMeans(batch_size=2048, init_size=1024, n_clusters=12, random_state=20)}"
      ]
     },
     "execution_count": 240,
     "metadata": {},
     "output_type": "execute_result"
    }
   ],
   "source": [
    "from sklearn.cluster import MiniBatchKMeans\n",
    "def run_KMeans(max_k, data):\n",
    "    max_k += 1\n",
    "    kmeans_results = dict()\n",
    "    for k in range(2 , max_k):\n",
    "        kmeans =MiniBatchKMeans(n_clusters=k, init_size=1024, batch_size=2048, random_state=20) # TODO \n",
    "        kmeans_results [k] =kmeans.fit(data)   # TODO : poner en un diccionario\n",
    "    return kmeans_results\n",
    "\n",
    "kmeans_results = run_KMeans (12, tf_idf_df)\n",
    "kmeans_results\n"
   ]
  },
  {
   "cell_type": "markdown",
   "metadata": {
    "id": "VnCTB3EOxxAk"
   },
   "source": [
    "Para determinar cómo de cohesionado está un cluster en relación con los otros clusters existe una medida denominada silueta (silhouette) que nos indica precisamente esto:"
   ]
  },
  {
   "cell_type": "code",
   "execution_count": 242,
   "metadata": {
    "id": "nTQXwHlcxreD"
   },
   "outputs": [
    {
     "name": "stdout",
     "output_type": "stream",
     "text": [
      "{2: 0.010376018137626461, 3: 0.008663863184329197, 4: 0.01016286447021423, 5: 0.009794827896264128, 6: 0.010087202721185037, 7: 0.009231562463551172, 8: 0.008942605601158025, 9: 0.007333916069977502, 10: 0.00934880408454134, 11: -0.0028329794705839605, 12: 0.009797605827103319}\n",
      "0.010376018137626461\n"
     ]
    }
   ],
   "source": [
    "from sklearn.metrics import silhouette_score\n",
    "import operator\n",
    "def silhouette(kmeans_dict, df, plot=False):\n",
    "    sil = dict()\n",
    "    for k, kmeans in kmeans_dict.items():      \n",
    "        kmeans_labels = kmeans.predict(df)\n",
    "        silhouette_avg = silhouette_score(df, kmeans_labels) \n",
    "        sil[k] = silhouette_avg  # TODO: añadir a diccionario\n",
    "\n",
    "    return sil\n",
    "\n",
    "sil_results = silhouette ( kmeans_results, tf_idf_df )\n",
    "print (sil_results)\n",
    "\n",
    "# TODO: Qué valor de k obtiene el mejor valor de silueta \n",
    "best_k = max(sil_results.items(), key=operator.itemgetter(1))[1]\n",
    "print(best_k)"
   ]
  },
  {
   "cell_type": "markdown",
   "metadata": {
    "id": "lE-VvRVS0ou6"
   },
   "source": [
    "**¿Cuál es el número de clúster óptimo para este dataset?**"
   ]
  },
  {
   "cell_type": "markdown",
   "metadata": {
    "id": "ItH9V4Aj1RxN"
   },
   "source": [
    "Una vez obtenido el valor de cluster que mejor podría describir la agrupación de los datos, vamos a hacer una predicción sobre los datos con la función `fit_predict` con el objeto kmeans que corresponde a `best_k`:"
   ]
  },
  {
   "cell_type": "code",
   "execution_count": 243,
   "metadata": {
    "id": "IMgsTiRs1qnJ"
   },
   "outputs": [],
   "source": [
    "prediction =max(sil_results.items(), key=operator.itemgetter(1))[0]   # TODO"
   ]
  },
  {
   "cell_type": "code",
   "execution_count": 244,
   "metadata": {
    "id": "wgrMybQ64wll"
   },
   "outputs": [
    {
     "data": {
      "text/html": [
       "<div>\n",
       "<style scoped>\n",
       "    .dataframe tbody tr th:only-of-type {\n",
       "        vertical-align: middle;\n",
       "    }\n",
       "\n",
       "    .dataframe tbody tr th {\n",
       "        vertical-align: top;\n",
       "    }\n",
       "\n",
       "    .dataframe thead th {\n",
       "        text-align: right;\n",
       "    }\n",
       "</style>\n",
       "<table border=\"1\" class=\"dataframe\">\n",
       "  <thead>\n",
       "    <tr style=\"text-align: right;\">\n",
       "      <th></th>\n",
       "      <th>id</th>\n",
       "      <th>title</th>\n",
       "      <th>body</th>\n",
       "      <th>accepted_answer_id</th>\n",
       "      <th>answer_count</th>\n",
       "      <th>comment_count</th>\n",
       "      <th>creation_date</th>\n",
       "      <th>last_activity_date</th>\n",
       "      <th>last_edit_date</th>\n",
       "      <th>last_editor_display_name</th>\n",
       "      <th>...</th>\n",
       "      <th>owner_user_id</th>\n",
       "      <th>post_type_id</th>\n",
       "      <th>score</th>\n",
       "      <th>tags</th>\n",
       "      <th>view_count</th>\n",
       "      <th>favorite_count</th>\n",
       "      <th>tags_count</th>\n",
       "      <th>text</th>\n",
       "      <th>mtext</th>\n",
       "      <th>cluster</th>\n",
       "    </tr>\n",
       "  </thead>\n",
       "  <tbody>\n",
       "    <tr>\n",
       "      <th>0</th>\n",
       "      <td>3247246</td>\n",
       "      <td>Integrate War-Plugin for m2eclipse into Eclips...</td>\n",
       "      <td>&lt;p&gt;I set up a small web project with JSF and M...</td>\n",
       "      <td>3247526.0</td>\n",
       "      <td>2</td>\n",
       "      <td>0</td>\n",
       "      <td>2010-07-14 14:39:48.053 UTC</td>\n",
       "      <td>2010-07-14 16:02:19.683 UTC</td>\n",
       "      <td>2010-07-14 15:56:37.803 UTC</td>\n",
       "      <td></td>\n",
       "      <td>...</td>\n",
       "      <td>389430.0</td>\n",
       "      <td>1</td>\n",
       "      <td>2</td>\n",
       "      <td>eclipse|maven-2|tomcat|m2eclipse</td>\n",
       "      <td>1653</td>\n",
       "      <td>NaN</td>\n",
       "      <td>4</td>\n",
       "      <td>Integrate War-Plugin for m2eclipse into Eclips...</td>\n",
       "      <td>Integrate War-Plugin for m2eclipse into Eclips...</td>\n",
       "      <td>0</td>\n",
       "    </tr>\n",
       "    <tr>\n",
       "      <th>1</th>\n",
       "      <td>40270764</td>\n",
       "      <td>phantomjs-node page.evaulate seems to hang</td>\n",
       "      <td>&lt;p&gt;I have an implementation of 'waitfor' with ...</td>\n",
       "      <td>NaN</td>\n",
       "      <td>1</td>\n",
       "      <td>0</td>\n",
       "      <td>2016-10-26 19:35:00.537 UTC</td>\n",
       "      <td>2016-11-02 20:05:09.143 UTC</td>\n",
       "      <td>NaN</td>\n",
       "      <td></td>\n",
       "      <td>...</td>\n",
       "      <td>245076.0</td>\n",
       "      <td>1</td>\n",
       "      <td>0</td>\n",
       "      <td>node.js|phantomjs</td>\n",
       "      <td>35</td>\n",
       "      <td>NaN</td>\n",
       "      <td>2</td>\n",
       "      <td>phantomjs-node page.evaulate seems to hang&lt;p&gt;I...</td>\n",
       "      <td>phantomjs-node page.evaulate seems to hangI ha...</td>\n",
       "      <td>1</td>\n",
       "    </tr>\n",
       "    <tr>\n",
       "      <th>2</th>\n",
       "      <td>27532383</td>\n",
       "      <td>Dynamic operations can only be performed in ho...</td>\n",
       "      <td>&lt;p&gt;I'm working with an API that requires:&lt;/p&gt;\\...</td>\n",
       "      <td>NaN</td>\n",
       "      <td>1</td>\n",
       "      <td>0</td>\n",
       "      <td>2014-12-17 18:31:18.6 UTC</td>\n",
       "      <td>2014-12-17 19:57:43.443 UTC</td>\n",
       "      <td>NaN</td>\n",
       "      <td></td>\n",
       "      <td>...</td>\n",
       "      <td>3105880.0</td>\n",
       "      <td>1</td>\n",
       "      <td>1</td>\n",
       "      <td>c#|asp.net-mvc</td>\n",
       "      <td>4372</td>\n",
       "      <td>NaN</td>\n",
       "      <td>2</td>\n",
       "      <td>Dynamic operations can only be performed in ho...</td>\n",
       "      <td>Dynamic operations can only be performed in ho...</td>\n",
       "      <td>0</td>\n",
       "    </tr>\n",
       "    <tr>\n",
       "      <th>3</th>\n",
       "      <td>33511888</td>\n",
       "      <td>CSS with relative URL to background image?</td>\n",
       "      <td>&lt;p&gt;I have a file structure of:&lt;/p&gt;\\n\\n&lt;pre&gt;&lt;co...</td>\n",
       "      <td>NaN</td>\n",
       "      <td>2</td>\n",
       "      <td>2</td>\n",
       "      <td>2015-11-04 00:50:35.223 UTC</td>\n",
       "      <td>2015-11-04 01:51:03.037 UTC</td>\n",
       "      <td>2015-11-04 01:51:03.037 UTC</td>\n",
       "      <td></td>\n",
       "      <td>...</td>\n",
       "      <td>5464492.0</td>\n",
       "      <td>1</td>\n",
       "      <td>0</td>\n",
       "      <td>css|background-image</td>\n",
       "      <td>406</td>\n",
       "      <td>NaN</td>\n",
       "      <td>2</td>\n",
       "      <td>CSS with relative URL to background image?&lt;p&gt;I...</td>\n",
       "      <td>CSS with relative URL to background image?I ha...</td>\n",
       "      <td>0</td>\n",
       "    </tr>\n",
       "    <tr>\n",
       "      <th>4</th>\n",
       "      <td>46160163</td>\n",
       "      <td>Share canvas image on android</td>\n",
       "      <td>&lt;p&gt;Hello so I write a small game where in the ...</td>\n",
       "      <td>46160246.0</td>\n",
       "      <td>1</td>\n",
       "      <td>0</td>\n",
       "      <td>2017-09-11 16:19:18.32 UTC</td>\n",
       "      <td>2017-09-11 16:24:12.69 UTC</td>\n",
       "      <td>NaN</td>\n",
       "      <td></td>\n",
       "      <td>...</td>\n",
       "      <td>8570512.0</td>\n",
       "      <td>1</td>\n",
       "      <td>0</td>\n",
       "      <td>android|canvas|bitmap|share</td>\n",
       "      <td>52</td>\n",
       "      <td>NaN</td>\n",
       "      <td>4</td>\n",
       "      <td>Share canvas image on android&lt;p&gt;Hello so I wri...</td>\n",
       "      <td>Share canvas image on androidHello so I write ...</td>\n",
       "      <td>0</td>\n",
       "    </tr>\n",
       "  </tbody>\n",
       "</table>\n",
       "<p>5 rows × 22 columns</p>\n",
       "</div>"
      ],
      "text/plain": [
       "         id                                              title  \\\n",
       "0   3247246  Integrate War-Plugin for m2eclipse into Eclips...   \n",
       "1  40270764         phantomjs-node page.evaulate seems to hang   \n",
       "2  27532383  Dynamic operations can only be performed in ho...   \n",
       "3  33511888         CSS with relative URL to background image?   \n",
       "4  46160163                      Share canvas image on android   \n",
       "\n",
       "                                                body  accepted_answer_id  \\\n",
       "0  <p>I set up a small web project with JSF and M...           3247526.0   \n",
       "1  <p>I have an implementation of 'waitfor' with ...                 NaN   \n",
       "2  <p>I'm working with an API that requires:</p>\\...                 NaN   \n",
       "3  <p>I have a file structure of:</p>\\n\\n<pre><co...                 NaN   \n",
       "4  <p>Hello so I write a small game where in the ...          46160246.0   \n",
       "\n",
       "   answer_count  comment_count                creation_date  \\\n",
       "0             2              0  2010-07-14 14:39:48.053 UTC   \n",
       "1             1              0  2016-10-26 19:35:00.537 UTC   \n",
       "2             1              0    2014-12-17 18:31:18.6 UTC   \n",
       "3             2              2  2015-11-04 00:50:35.223 UTC   \n",
       "4             1              0   2017-09-11 16:19:18.32 UTC   \n",
       "\n",
       "            last_activity_date               last_edit_date  \\\n",
       "0  2010-07-14 16:02:19.683 UTC  2010-07-14 15:56:37.803 UTC   \n",
       "1  2016-11-02 20:05:09.143 UTC                          NaN   \n",
       "2  2014-12-17 19:57:43.443 UTC                          NaN   \n",
       "3  2015-11-04 01:51:03.037 UTC  2015-11-04 01:51:03.037 UTC   \n",
       "4   2017-09-11 16:24:12.69 UTC                          NaN   \n",
       "\n",
       "  last_editor_display_name  ...  owner_user_id post_type_id  score  \\\n",
       "0                           ...       389430.0            1      2   \n",
       "1                           ...       245076.0            1      0   \n",
       "2                           ...      3105880.0            1      1   \n",
       "3                           ...      5464492.0            1      0   \n",
       "4                           ...      8570512.0            1      0   \n",
       "\n",
       "                               tags  view_count favorite_count  tags_count  \\\n",
       "0  eclipse|maven-2|tomcat|m2eclipse        1653            NaN           4   \n",
       "1                 node.js|phantomjs          35            NaN           2   \n",
       "2                    c#|asp.net-mvc        4372            NaN           2   \n",
       "3              css|background-image         406            NaN           2   \n",
       "4       android|canvas|bitmap|share          52            NaN           4   \n",
       "\n",
       "                                                text  \\\n",
       "0  Integrate War-Plugin for m2eclipse into Eclips...   \n",
       "1  phantomjs-node page.evaulate seems to hang<p>I...   \n",
       "2  Dynamic operations can only be performed in ho...   \n",
       "3  CSS with relative URL to background image?<p>I...   \n",
       "4  Share canvas image on android<p>Hello so I wri...   \n",
       "\n",
       "                                               mtext cluster  \n",
       "0  Integrate War-Plugin for m2eclipse into Eclips...       0  \n",
       "1  phantomjs-node page.evaulate seems to hangI ha...       1  \n",
       "2  Dynamic operations can only be performed in ho...       0  \n",
       "3  CSS with relative URL to background image?I ha...       0  \n",
       "4  Share canvas image on androidHello so I write ...       0  \n",
       "\n",
       "[5 rows x 22 columns]"
      ]
     },
     "execution_count": 244,
     "metadata": {},
     "output_type": "execute_result"
    }
   ],
   "source": [
    "kmeans =MiniBatchKMeans(n_clusters=prediction, init_size=1024, batch_size=2048, random_state=20) \n",
    "stackoverflow_df['cluster']  =kmeans.fit_predict(tf_idf_df)# TODO: añadir las predicciones a stackoverflow_df\n",
    "stackoverflow_df.head(5)"
   ]
  },
  {
   "cell_type": "markdown",
   "metadata": {
    "id": "RG9EbGQS3NPm"
   },
   "source": [
    "Una vez definidos los clusters, vamos a ver cuáles son las palabras clave que definen cada uno de los clusters:"
   ]
  },
  {
   "cell_type": "code",
   "execution_count": 245,
   "metadata": {
    "id": "VtgtDfIbMBfX"
   },
   "outputs": [
    {
     "name": "stderr",
     "output_type": "stream",
     "text": [
      "C:\\Users\\oliva\\AppData\\Local\\Programs\\Python\\Python38-32\\lib\\site-packages\\sklearn\\utils\\deprecation.py:87: FutureWarning: Function get_feature_names is deprecated; get_feature_names is deprecated in 1.0 and will be removed in 1.2. Please use get_feature_names_out instead.\n",
      "  warnings.warn(msg, category=FutureWarning)\n"
     ]
    },
    {
     "data": {
      "image/png": "[encoded data removed]",
      "text/plain": [
       "<Figure size 576x288 with 1 Axes>"
      ]
     },
     "metadata": {
      "needs_background": "light"
     },
     "output_type": "display_data"
    }
   ],
   "source": [
    "# Definir un par de funciones auxiliares\n",
    "import seaborn as sns\n",
    "\n",
    "def get_top_features_cluster(tf_idf_array, prediction, n_feats):\n",
    "    labels = np.unique(prediction)\n",
    "    dfs = []\n",
    "    for label in labels:\n",
    "        id_temp = np.where(prediction==label) # \n",
    "        x_means = np.mean(tf_idf_array[id_temp], axis = 0) # \n",
    "        sorted_means = np.argsort(x_means)[::-1][:n_feats] # \n",
    "        features = vectorizer.get_feature_names()\n",
    "        best_features = [(features[i], x_means[i]) for i in sorted_means]\n",
    "        df = pd.DataFrame(best_features, columns = ['words', 'score'])\n",
    "        dfs.append(df)\n",
    "    return dfs\n",
    "\n",
    "\n",
    "def plotWords(dfs, n_feats):\n",
    "    plt.figure(figsize=(8, 4))\n",
    "    for i in range(0, len(dfs)):\n",
    "        plt.title((\"Most Common Words in Cluster {}\".format(i)), fontsize=10, fontweight='bold')\n",
    "        sns.barplot(x = 'score' , y = 'words', orient = 'h' , data = dfs[i][:n_feats])\n",
    "        plt.show()\n",
    "\n",
    "n_feats = 5 # Num. palabras a representar\n",
    "dfs = get_top_features_cluster(tf_idf_df.to_numpy(), prediction, n_feats)\n",
    "plotWords(dfs, n_feats)  # "
   ]
  },
  {
   "cell_type": "markdown",
   "metadata": {
    "id": "9JQ9W5Cd4BRK"
   },
   "source": [
    "**¿De qué tratan los post/preguntas/documentos que se encuentran en el cluster 0?**"
   ]
  },
  {
   "cell_type": "markdown",
   "metadata": {
    "id": "hJs5pMB6Z0xx"
   },
   "source": [
    "---\n"
   ]
  },
  {
   "cell_type": "markdown",
   "metadata": {
    "id": "dw6yDxRZL7j9"
   },
   "source": [
    "# Parte 3. Ley Zipf"
   ]
  },
  {
   "cell_type": "code",
   "execution_count": 246,
   "metadata": {
    "id": "ltAarFcOFTdq"
   },
   "outputs": [
    {
     "name": "stderr",
     "output_type": "stream",
     "text": [
      "[nltk_data] Downloading package stopwords to\n",
      "[nltk_data]     C:\\Users\\oliva\\AppData\\Roaming\\nltk_data...\n",
      "[nltk_data]   Package stopwords is already up-to-date!\n",
      "[nltk_data] Downloading package punkt to\n",
      "[nltk_data]     C:\\Users\\oliva\\AppData\\Roaming\\nltk_data...\n",
      "[nltk_data]   Package punkt is already up-to-date!\n"
     ]
    },
    {
     "data": {
      "text/plain": [
       "True"
      ]
     },
     "execution_count": 246,
     "metadata": {},
     "output_type": "execute_result"
    }
   ],
   "source": [
    "import nltk\n",
    "nltk.download('stopwords')\n",
    "nltk.download('punkt')"
   ]
  },
  {
   "cell_type": "markdown",
   "metadata": {
    "id": "PPje3a0Mpwj9"
   },
   "source": [
    "NLTK incluye una pequeña selección de texto del Proyecto Gutenberg. Para poder acceder a los identificadores de los archivos:"
   ]
  },
  {
   "cell_type": "code",
   "execution_count": 247,
   "metadata": {
    "id": "3VNHzCJnpZRZ"
   },
   "outputs": [
    {
     "name": "stderr",
     "output_type": "stream",
     "text": [
      "[nltk_data] Downloading package gutenberg to\n",
      "[nltk_data]     C:\\Users\\oliva\\AppData\\Roaming\\nltk_data...\n",
      "[nltk_data]   Package gutenberg is already up-to-date!\n"
     ]
    },
    {
     "data": {
      "text/plain": [
       "['austen-emma.txt',\n",
       " 'austen-persuasion.txt',\n",
       " 'austen-sense.txt',\n",
       " 'bible-kjv.txt',\n",
       " 'blake-poems.txt',\n",
       " 'bryant-stories.txt',\n",
       " 'burgess-busterbrown.txt',\n",
       " 'carroll-alice.txt',\n",
       " 'chesterton-ball.txt',\n",
       " 'chesterton-brown.txt',\n",
       " 'chesterton-thursday.txt',\n",
       " 'edgeworth-parents.txt',\n",
       " 'melville-moby_dick.txt',\n",
       " 'milton-paradise.txt',\n",
       " 'shakespeare-caesar.txt',\n",
       " 'shakespeare-hamlet.txt',\n",
       " 'shakespeare-macbeth.txt',\n",
       " 'whitman-leaves.txt']"
      ]
     },
     "execution_count": 247,
     "metadata": {},
     "output_type": "execute_result"
    }
   ],
   "source": [
    "nltk.download('gutenberg')\n",
    "from nltk.corpus import gutenberg\n",
    "gutenberg.fileids()\n"
   ]
  },
  {
   "cell_type": "markdown",
   "metadata": {
    "id": "_f0RBOqzqft2"
   },
   "source": [
    "Para poder acceder al texto de cada una de estas estas obras:\n"
   ]
  },
  {
   "cell_type": "code",
   "execution_count": 248,
   "metadata": {
    "id": "G2hmz-FDqtZ9"
   },
   "outputs": [
    {
     "name": "stdout",
     "output_type": "stream",
     "text": [
      "['[', 'Moby', 'Dick', 'by', 'Herman', 'Melville', '1851', ']', 'ETYMOLOGY', '.', '(', 'Supplied', 'by', 'a', 'Late', 'Consumptive', 'Usher', 'to', 'a', 'Grammar', 'School', ')', 'The', 'pale', 'Usher', '--', 'threadbare', 'in', 'coat', ',', 'heart', ',', 'body', ',', 'and', 'brain', ';', 'I', 'see', 'him', 'now', '.', 'He', 'was', 'ever', 'dusting', 'his', 'old', 'lexicons', 'and', 'grammars', ',', 'with', 'a', 'queer', 'handkerchief', ',', 'mockingly', 'embellished', 'with', 'all', 'the', 'gay', 'flags', 'of', 'all', 'the', 'known', 'nations', 'of', 'the', 'world', '.', 'He', 'loved', 'to', 'dust', 'his', 'old', 'grammars', ';', 'it', 'somehow', 'mildly', 'reminded', 'him', 'of', 'his', 'mortality', '.', '\"', 'While', 'you', 'take', 'in', 'hand', 'to', 'school', 'others', ',', 'and', 'to', 'teach', 'them', 'by', 'what', 'name', 'a', 'whale', '-', 'fish', 'is', 'to', 'be', 'called', 'in', 'our', 'tongue', 'leaving', 'out', ',', 'through', 'ignorance', ',', 'the', 'letter', 'H', ',', 'which', 'almost', 'alone', 'maketh', 'the', 'signification', 'of', 'the', 'word', ',', 'you', 'deliver', 'that', 'which', 'is', 'not', 'true', '.\"', '--', 'HACKLUYT', '\"', 'WHALE']\n",
      "['[', 'Moby', 'Dick', 'by', 'Herman', 'Melville', ...]\n"
     ]
    }
   ],
   "source": [
    "mobydick = gutenberg.raw('melville-moby_dick.txt')\n",
    "mobydick = gutenberg.words('melville-moby_dick.txt')\n",
    "print (gutenberg.words ('melville-moby_dick.txt')[0:150])\n",
    "print(mobydick)\n"
   ]
  },
  {
   "cell_type": "markdown",
   "metadata": {
    "id": "m2FNmKC34Ny8"
   },
   "source": [
    "\n",
    "La **ley Zipf** debe su nombre al lingüista norteamericano George Kingsley Zipf y dictamina que un pequeño número de palabras se utilizan todo el tiempo mientras que una gran mayoría de ellas apenas se utiliza. No es muy sorprendente que palabras muy frecuentes en textos en inglés sean `the`, `of` y similares, y que palabras como `intrauterine` apenas se utilicen. [https://en.wikipedia.org/wiki/Zipf%27s_law]\n",
    "\n",
    "La ley Zipf puede escribirse de la siguiente forma: la $r$-ésima palabra más frecuente $f(r)$ escala según la fórmula: $f(r) \\propto \\frac{1}{r^{\\alpha}}$ con $\\alpha \\approx 1$.\n"
   ]
  },
  {
   "cell_type": "code",
   "execution_count": 250,
   "metadata": {
    "id": "bGyoBDzhjb1K"
   },
   "outputs": [
    {
     "name": "stdout",
     "output_type": "stream",
     "text": [
      "[(',', 18713), ('the', 14431), ('.', 6862), ('of', 6609), ('and', 6430), ('a', 4736), ('to', 4625), ('in', 4172), (';', 4072), ('that', 3085), (\"'\", 2684), ('-', 2552), ('his', 2530), ('it', 2522), ('i', 2127), ('he', 1896), ('but', 1818), ('s', 1802), ('as', 1741), ('is', 1725)]\n"
     ]
    }
   ],
   "source": [
    "import operator\n",
    "from nltk.probability import FreqDist\n",
    "\n",
    "def topWordFrequencies ( text, top=50):\n",
    "    # TODO\n",
    "    fdist = nltk.FreqDist(w.lower() for w in text)\n",
    "    fdist = fdist.most_common(top)\n",
    "    \n",
    "\n",
    "    return fdist\n",
    "mobydick_freq = topWordFrequencies (mobydick , 20)\n",
    "print(mobydick_freq)"
   ]
  },
  {
   "cell_type": "code",
   "execution_count": 251,
   "metadata": {
    "id": "GiwBZ6jctqSp"
   },
   "outputs": [
    {
     "name": "stdout",
     "output_type": "stream",
     "text": [
      "|Rank|    Word    |       Freq | Zipf Frac  | Zipf Freq  |\n",
      "|   1|,           |       18713|         1/1|    18713.00|\n",
      "|   2|the         |       14431|         1/2|     9356.50|\n",
      "|   3|.           |        6862|         1/3|     6237.67|\n",
      "|   4|of          |        6609|         1/4|     4678.25|\n",
      "|   5|and         |        6430|         1/5|     3742.60|\n",
      "|   6|a           |        4736|         1/6|     3118.83|\n",
      "|   7|to          |        4625|         1/7|     2673.29|\n",
      "|   8|in          |        4172|         1/8|     2339.12|\n",
      "|   9|;           |        4072|         1/9|     2079.22|\n",
      "|  10|that        |        3085|        1/10|     1871.30|\n",
      "|  11|'           |        2684|        1/11|     1701.18|\n",
      "|  12|-           |        2552|        1/12|     1559.42|\n",
      "|  13|his         |        2530|        1/13|     1439.46|\n",
      "|  14|it          |        2522|        1/14|     1336.64|\n",
      "|  15|i           |        2127|        1/15|     1247.53|\n",
      "|  16|he          |        1896|        1/16|     1169.56|\n",
      "|  17|but         |        1818|        1/17|     1100.76|\n",
      "|  18|s           |        1802|        1/18|     1039.61|\n",
      "|  19|as          |        1741|        1/19|      984.89|\n",
      "|  20|is          |        1725|        1/20|      935.65|\n"
     ]
    }
   ],
   "source": [
    "def createZipfTable(freqs):\n",
    "    zipf_table = []\n",
    "    top_frequency = freqs[0][1] # TODO\n",
    "\n",
    "    for index, item in enumerate(freqs , start=1):\n",
    "        relative_frequency = \"1/{}\".format(index)\n",
    "        zipf_frequency = top_frequency * (1 / index)\n",
    "        zipf_table.append({\"word\": item[0], \"actual_frequency\": item[1], \"relative_frequency\": relative_frequency , \"zipf_frequency\": zipf_frequency })\n",
    "\n",
    "    return zipf_table\n",
    "\n",
    "\n",
    "mobydick_zipf_table = createZipfTable (mobydick_freq)\n",
    "\n",
    "\n",
    "print(\"|Rank|    Word    |       Freq | Zipf Frac  | Zipf Freq  |\")\n",
    "format_string = \"|{:4}|{:12}|{:12.0f}|{:>12}|{:12.2f}|\"\n",
    "for index, item in enumerate(mobydick_zipf_table,start=1):\n",
    "        print(format_string.format(index,\n",
    "                                   item[\"word\"],\n",
    "                                   item[\"actual_frequency\"],\n",
    "                                   item[\"relative_frequency\"],\n",
    "                                   item[\"zipf_frequency\"]))"
   ]
  },
  {
   "cell_type": "code",
   "execution_count": 252,
   "metadata": {
    "id": "36L1eBHuvE_y"
   },
   "outputs": [
    {
     "data": {
      "text/plain": [
       "<matplotlib.legend.Legend at 0x14c1dbf8>"
      ]
     },
     "execution_count": 252,
     "metadata": {},
     "output_type": "execute_result"
    }
   ],
   "source": [
    "import numpy as np\n",
    "import matplotlib.pyplot as plt\n",
    "\n",
    "\n",
    "ranks = list (range ( 1, 1+len (mobydick_zipf_table) ))\n",
    "frequencies = [ rec['actual_frequency']  for rec in mobydick_zipf_table ]\n",
    "zipf_frequencies = [ rec['zipf_frequency'] for rec in mobydick_zipf_table ] \n",
    "\n",
    "plt.figure(figsize=(8,6))\n",
    "\n",
    "plt.title(\"Word Frequencies:\")\n",
    "plt.ylabel(\"Total Number of Occurrences\")\n",
    "plt.xlabel(\"Rank of words\")\n",
    "\n",
    "plt.plot(\n",
    "    ranks,\n",
    "    frequencies, color='blue', label='Actual freq.',\n",
    "    alpha=0.5\n",
    "  )\n",
    "\n",
    "\n",
    "plt.plot(\n",
    "    ranks,\n",
    "    zipf_frequencies, color=\"orange\", label='Expected Zipf.',linestyle='--',\n",
    "    alpha=0.5\n",
    "  )\n",
    "\n",
    "plt.legend()"
   ]
  },
  {
   "cell_type": "markdown",
   "metadata": {
    "id": "mI38AEP1oShg"
   },
   "source": [
    "\n",
    "\n",
    "\n",
    "Un factor que influye en la comprobación de la ley Zipf es el volumen del corpus. Si bien con un sólo documento, el cumplimiento de la ley Zipf es aproximado, veremos si como varios documentos es más exacto."
   ]
  },
  {
   "cell_type": "code",
   "execution_count": 253,
   "metadata": {
    "colab": {
     "base_uri": "https://localhost:8080/"
    },
    "executionInfo": {
     "elapsed": 23202,
     "status": "ok",
     "timestamp": 1647210545954,
     "user": {
      "displayName": "Blas Torregrosa Garcia",
      "photoUrl": "https://lh3.googleusercontent.com/a-/AOh14Gi5a1zvzPKCJrSACwCYatoizvbwu_ASRhI5-vZk=s64",
      "userId": "12013646008039594097"
     },
     "user_tz": -60
    },
    "id": "j8YPLSJAVFXc",
    "outputId": "2ecafe25-b649-4525-ad21-ea7e6af5aedf"
   },
   "outputs": [
    {
     "name": "stdout",
     "output_type": "stream",
     "text": [
      "5 25 26 austen-emma.txt\n",
      "5 26 17 austen-persuasion.txt\n",
      "5 28 22 austen-sense.txt\n",
      "4 34 79 bible-kjv.txt\n",
      "5 19 5 blake-poems.txt\n",
      "4 19 14 bryant-stories.txt\n",
      "4 18 12 burgess-busterbrown.txt\n",
      "4 20 13 carroll-alice.txt\n",
      "5 20 12 chesterton-ball.txt\n",
      "5 23 11 chesterton-brown.txt\n",
      "5 19 11 chesterton-thursday.txt\n",
      "4 21 25 edgeworth-parents.txt\n",
      "5 26 15 melville-moby_dick.txt\n",
      "5 52 11 milton-paradise.txt\n",
      "4 12 9 shakespeare-caesar.txt\n",
      "4 12 8 shakespeare-hamlet.txt\n",
      "4 12 7 shakespeare-macbeth.txt\n",
      "5 36 12 whitman-leaves.txt\n"
     ]
    }
   ],
   "source": [
    "text = ''\n",
    "\n",
    "for id in gutenberg.fileids(): # TODO cargar todos los documentos disponibles del Proj. Gutenberg\n",
    "    num_chars = len(gutenberg.raw(id))\n",
    "    num_words = len(gutenberg.words(id))\n",
    "    num_sents = len(gutenberg.sents(id))\n",
    "    num_vocab = len(set(w.lower() for w in gutenberg.words(id)))\n",
    "    print(round(num_chars/num_words), round(num_words/num_sents), round(num_words/num_vocab), id)\n",
    "\n",
    "    text = text + gutenberg.raw (id)\n"
   ]
  },
  {
   "cell_type": "code",
   "execution_count": 165,
   "metadata": {
    "colab": {
     "base_uri": "https://localhost:8080/"
    },
    "executionInfo": {
     "elapsed": 297,
     "status": "ok",
     "timestamp": 1647210559977,
     "user": {
      "displayName": "Blas Torregrosa Garcia",
      "photoUrl": "https://lh3.googleusercontent.com/a-/AOh14Gi5a1zvzPKCJrSACwCYatoizvbwu_ASRhI5-vZk=s64",
      "userId": "12013646008039594097"
     },
     "user_tz": -60
    },
    "id": "wuhZgm16Zm9l",
    "outputId": "453803d4-5218-40c2-d96c-d72181775d2f"
   },
   "outputs": [
    {
     "name": "stdout",
     "output_type": "stream",
     "text": [
      "11793318\n"
     ]
    },
    {
     "data": {
      "image/png": "[encoded data removed]",
      "text/plain": [
       "<Figure size 576x432 with 1 Axes>"
      ]
     },
     "metadata": {
      "needs_background": "light"
     },
     "output_type": "display_data"
    }
   ],
   "source": [
    "  print (len (text))"
   ]
  },
  {
   "cell_type": "code",
   "execution_count": 254,
   "metadata": {
    "id": "SjBhz3YtZebx"
   },
   "outputs": [
    {
     "data": {
      "image/png": "[encoded data removed]",
      "text/plain": [
       "<Figure size 576x432 with 1 Axes>"
      ]
     },
     "metadata": {
      "needs_background": "light"
     },
     "output_type": "display_data"
    }
   ],
   "source": [
    "text_freq = topWordFrequencies ( text , 50) # TODO: calcular frecuencias "
   ]
  },
  {
   "cell_type": "code",
   "execution_count": 255,
   "metadata": {
    "id": "GX1FJO1PZ1HL"
   },
   "outputs": [],
   "source": [
    "text_zipf_table = createZipfTable (text_freq) # TODO: calcular tabla Zipf"
   ]
  },
  {
   "cell_type": "code",
   "execution_count": 256,
   "metadata": {
    "colab": {
     "base_uri": "https://localhost:8080/"
    },
    "executionInfo": {
     "elapsed": 287,
     "status": "ok",
     "timestamp": 1647210696359,
     "user": {
      "displayName": "Blas Torregrosa Garcia",
      "photoUrl": "https://lh3.googleusercontent.com/a-/AOh14Gi5a1zvzPKCJrSACwCYatoizvbwu_ASRhI5-vZk=s64",
      "userId": "12013646008039594097"
     },
     "user_tz": -60
    },
    "id": "NNOMQ52aZ62w",
    "outputId": "68bfeea0-bcdf-435e-a868-b7574da3867c"
   },
   "outputs": [
    {
     "name": "stdout",
     "output_type": "stream",
     "text": [
      "|Rank|    Word    |       Freq | Zipf Frac  | Zipf Freq  |\n",
      "|   1|            |     2000723|         1/1|  2000723.00|\n",
      "|   2|e           |     1119617|         1/2|  1000361.50|\n",
      "|   3|t           |      827161|         1/3|   666907.67|\n",
      "|   4|a           |      731203|         1/4|   500180.75|\n",
      "|   5|o           |      678136|         1/5|   400144.60|\n",
      "|   6|h           |      650743|         1/6|   333453.83|\n",
      "|   7|n           |      615091|         1/7|   285817.57|\n",
      "|   8|i           |      577691|         1/8|   250090.38|\n",
      "|   9|s           |      556863|         1/9|   222302.56|\n",
      "|  10|r           |      502402|        1/10|   200072.30|\n",
      "|  11|d           |      400494|        1/11|   181883.91|\n",
      "|  12|l           |      375313|        1/12|   166726.92|\n",
      "|  13|\n",
      "           |      256893|        1/13|   153901.77|\n",
      "|  14|u           |      252211|        1/14|   142908.79|\n",
      "|  15|m           |      230032|        1/15|   133381.53|\n",
      "|  16|f           |      209239|        1/16|   125045.19|\n",
      "|  17|w           |      201292|        1/17|   117689.59|\n",
      "|  18|,           |      192368|        1/18|   111151.28|\n",
      "|  19|c           |      185849|        1/19|   105301.21|\n",
      "|  20|y           |      176040|        1/20|   100036.15|\n",
      "|  21|g           |      172048|        1/21|    95272.52|\n",
      "|  22|b           |      139846|        1/22|    90941.95|\n",
      "|  23|p           |      136173|        1/23|    86987.96|\n",
      "|  24|v           |       83829|        1/24|    83363.46|\n",
      "|  25|.           |       81851|        1/25|    80028.92|\n",
      "|  26|k           |       66676|        1/26|    76950.88|\n",
      "|  27|\r",
      "           |       48430|        1/27|    74100.85|\n",
      "|  28|:           |       47625|        1/28|    71454.39|\n",
      "|  29|\"           |       31160|        1/29|    68990.45|\n",
      "|  30|-           |       28030|        1/30|    66690.77|\n",
      "|  31|;           |       27942|        1/31|    64539.45|\n",
      "|  32|1           |       27496|        1/32|    62522.59|\n",
      "|  33|'           |       21682|        1/33|    60627.97|\n",
      "|  34|2           |       19221|        1/34|    58844.79|\n",
      "|  35|j           |       15946|        1/35|    57163.51|\n",
      "|  36|3           |       12421|        1/36|    55575.64|\n",
      "|  37|?           |       10342|        1/37|    54073.59|\n",
      "|  38|4           |        9287|        1/38|    52650.61|\n",
      "|  39|x           |        9160|        1/39|    51300.59|\n",
      "|  40|!           |        8660|        1/40|    50018.08|\n",
      "|  41|q           |        7552|        1/41|    48798.12|\n",
      "|  42|5           |        7171|        1/42|    47636.26|\n",
      "|  43|6           |        6561|        1/43|    46528.44|\n",
      "|  44|7           |        6030|        1/44|    45470.98|\n",
      "|  45|8           |        5910|        1/45|    44460.51|\n",
      "|  46|9           |        5753|        1/46|    43493.98|\n",
      "|  47|0           |        5580|        1/47|    42568.57|\n",
      "|  48|z           |        5525|        1/48|    41681.73|\n",
      "|  49|)           |        1827|        1/49|    40831.08|\n",
      "|  50|(           |        1821|        1/50|    40014.46|\n"
     ]
    }
   ],
   "source": [
    "print(\"|Rank|    Word    |       Freq | Zipf Frac  | Zipf Freq  |\")\n",
    "format_string = \"|{:4}|{:12}|{:12.0f}|{:>12}|{:12.2f}|\"\n",
    "for index, item in enumerate(text_zipf_table,start=1):\n",
    "        print(format_string.format(index,\n",
    "                                   item[\"word\"],\n",
    "                                   item[\"actual_frequency\"],\n",
    "                                   item[\"relative_frequency\"],\n",
    "                                   item[\"zipf_frequency\"]))"
   ]
  },
  {
   "cell_type": "code",
   "execution_count": 257,
   "metadata": {
    "colab": {
     "base_uri": "https://localhost:8080/",
     "height": 421
    },
    "executionInfo": {
     "elapsed": 973,
     "status": "ok",
     "timestamp": 1647210741208,
     "user": {
      "displayName": "Blas Torregrosa Garcia",
      "photoUrl": "https://lh3.googleusercontent.com/a-/AOh14Gi5a1zvzPKCJrSACwCYatoizvbwu_ASRhI5-vZk=s64",
      "userId": "12013646008039594097"
     },
     "user_tz": -60
    },
    "id": "xQpjqSf7aA7i",
    "outputId": "07f5b6f5-02b7-482d-e633-763945e80e1b"
   },
   "outputs": [
    {
     "data": {
      "text/plain": [
       "<matplotlib.legend.Legend at 0x14dad550>"
      ]
     },
     "execution_count": 257,
     "metadata": {},
     "output_type": "execute_result"
    }
   ],
   "source": [
    "# TODO Representar gráficamente\n",
    "\n",
    "ranks = list (range ( 1, 1+len (text_zipf_table) ))\n",
    "frequencies = [ rec['actual_frequency']  for rec in text_zipf_table ]\n",
    "zipf_frequencies = [ rec['zipf_frequency'] for rec in text_zipf_table ] \n",
    "\n",
    "plt.figure(figsize=(8,6))\n",
    "\n",
    "plt.title(\"Word Frequencies:\")\n",
    "plt.ylabel(\"Total Number of Occurrences\")\n",
    "plt.xlabel(\"Rank of words\")\n",
    "\n",
    "plt.plot(\n",
    "    ranks,\n",
    "    frequencies, color='blue', label='Actual freq.',\n",
    "    alpha=0.5\n",
    "  )\n",
    "\n",
    "\n",
    "plt.plot(\n",
    "    ranks,\n",
    "    zipf_frequencies, color=\"orange\", label='Expected Zipf.',linestyle='--',\n",
    "    alpha=0.5\n",
    "  )\n",
    "\n",
    "plt.legend()"
   ]
  },
  {
   "cell_type": "markdown",
   "metadata": {
    "id": "GEzVOcfTbJeU"
   },
   "source": [
    "**¿Cual de las dos curvas se aproxima más a una distribución Zipfianica?**\n"
   ]
  },
  {
   "cell_type": "code",
   "execution_count": null,
   "metadata": {
    "id": "ykqB5303bTwm"
   },
   "outputs": [],
   "source": []
  }
 ],
 "metadata": {
  "colab": {
   "collapsed_sections": [],
   "name": "TyFdD-PEC2-2022.ipynb",
   "provenance": [],
   "toc_visible": true
  },
  "kernelspec": {
   "display_name": "Python 3.8.2 32-bit",
   "language": "python",
   "name": "python38232bit3ade103d226647fb95544aef2b5a1bd1"
  },
  "language_info": {
   "codemirror_mode": {
    "name": "ipython",
    "version": 3
   },
   "file_extension": ".py",
   "mimetype": "text/x-python",
   "name": "python",
   "nbconvert_exporter": "python",
   "pygments_lexer": "ipython3",
   "version": "3.8.3"
  }
 },
 "nbformat": 4,
 "nbformat_minor": 1
}
