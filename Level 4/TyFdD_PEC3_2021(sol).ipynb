{
 "cells": [
  {
   "cell_type": "markdown",
   "metadata": {
    "id": "yI0cQXupINT9"
   },
   "source": [
    "# PEC 3 \n",
    "\n",
    "\n"
   ]
  },
  {
   "cell_type": "markdown",
   "metadata": {
    "id": "f2jWQ4x0U9Fd"
   },
   "source": [
    "## Parte 1 : RDF y RDFS\n",
    "\n",
    "\n",
    "En este notebook vamos a utilizar algunas librerías python útiles para trabajar con tripletas:\n",
    "\n",
    "*   `rdflib` para trabajar con tripletas RDF\n",
    "*   `rdflib-jsonld` para usar JSON-LD\n",
    "*   `SPARQLWrapper` para ejecutar consultas SPARQL e importar los resultados en el notebook\n",
    "*   `pydotplus` y `graphviz` para visualizar los grafos.\n",
    "\n"
   ]
  },
  {
   "cell_type": "code",
   "execution_count": null,
   "metadata": {
    "colab": {
     "base_uri": "https://localhost:8080/"
    },
    "id": "e5LgDHtIVBw-",
    "outputId": "1ae5bc3f-a321-47ab-8f6a-f0dc49741a33"
   },
   "outputs": [
    {
     "name": "stdout",
     "output_type": "stream",
     "text": [
      "Collecting rdflib\n",
      "  Downloading rdflib-6.0.2-py3-none-any.whl (407 kB)\n",
      "\u001b[K     |████████████████████████████████| 407 kB 3.2 MB/s \n",
      "\u001b[?25hCollecting isodate\n",
      "  Downloading isodate-0.6.0-py2.py3-none-any.whl (45 kB)\n",
      "\u001b[K     |████████████████████████████████| 45 kB 2.8 MB/s \n",
      "\u001b[?25hRequirement already satisfied: setuptools in /usr/local/lib/python3.7/dist-packages (from rdflib) (57.4.0)\n",
      "Requirement already satisfied: pyparsing in /usr/local/lib/python3.7/dist-packages (from rdflib) (2.4.7)\n",
      "Requirement already satisfied: six in /usr/local/lib/python3.7/dist-packages (from isodate->rdflib) (1.15.0)\n",
      "Installing collected packages: isodate, rdflib\n",
      "Successfully installed isodate-0.6.0 rdflib-6.0.2\n",
      "Collecting rdflib-jsonld\n",
      "  Downloading rdflib_jsonld-0.6.2-py2.py3-none-any.whl (4.0 kB)\n",
      "Requirement already satisfied: rdflib>=5.0.0 in /usr/local/lib/python3.7/dist-packages (from rdflib-jsonld) (6.0.2)\n",
      "Requirement already satisfied: pyparsing in /usr/local/lib/python3.7/dist-packages (from rdflib>=5.0.0->rdflib-jsonld) (2.4.7)\n",
      "Requirement already satisfied: isodate in /usr/local/lib/python3.7/dist-packages (from rdflib>=5.0.0->rdflib-jsonld) (0.6.0)\n",
      "Requirement already satisfied: setuptools in /usr/local/lib/python3.7/dist-packages (from rdflib>=5.0.0->rdflib-jsonld) (57.4.0)\n",
      "Requirement already satisfied: six in /usr/local/lib/python3.7/dist-packages (from isodate->rdflib>=5.0.0->rdflib-jsonld) (1.15.0)\n",
      "Installing collected packages: rdflib-jsonld\n",
      "Successfully installed rdflib-jsonld-0.6.2\n",
      "Requirement already satisfied: pydotplus in /usr/local/lib/python3.7/dist-packages (2.0.2)\n",
      "Requirement already satisfied: pyparsing>=2.0.1 in /usr/local/lib/python3.7/dist-packages (from pydotplus) (2.4.7)\n",
      "Requirement already satisfied: graphviz in /usr/local/lib/python3.7/dist-packages (0.10.1)\n"
     ]
    }
   ],
   "source": [
    "! pip install rdflib\n",
    "! pip install rdflib-jsonld\n",
    "! pip install -q sparqlwrapper  \n",
    "! pip install pydotplus\n",
    "! pip install graphviz"
   ]
  },
  {
   "cell_type": "code",
   "execution_count": null,
   "metadata": {
    "colab": {
     "base_uri": "https://localhost:8080/"
    },
    "id": "TE0d87gLVABl",
    "outputId": "f315c7ad-f48b-47fb-cd51-9d47e9b8a3dd"
   },
   "outputs": [
    {
     "name": "stderr",
     "output_type": "stream",
     "text": [
      "/usr/local/lib/python3.7/dist-packages/rdflib_jsonld/__init__.py:12: DeprecationWarning: The rdflib-jsonld package has been integrated into rdflib as of rdflib==6.0.1.  Please remove rdflib-jsonld from your project's dependencies.\n",
      "  DeprecationWarning,\n"
     ]
    }
   ],
   "source": [
    "import io\n",
    "from rdflib import Graph as RDFGraph\n",
    "from rdflib import Namespace, URIRef, Literal, BNode\n",
    "from rdflib.namespace import NamespaceManager\n",
    "from rdflib.namespace import CSVW, DC, DCAT, DCTERMS, DOAP, FOAF, ODRL2, ORG, OWL, \\\n",
    "                           PROF, PROV, RDF, RDFS, SDO, SH, SKOS, SOSA, SSN, TIME, \\\n",
    "                           VOID, XMLNS, XSD\n",
    "from rdflib.extras.external_graph_libs import rdflib_to_networkx_graph\n",
    "import rdflib_jsonld\n",
    "from SPARQLWrapper import SPARQLWrapper, JSON, XML, N3, RDF , POST, GET, POSTDIRECTLY, CSV\n",
    "\n",
    "import pydotplus\n",
    "from IPython.display import display, Image\n",
    "from rdflib.tools.rdf2dot import rdf2dot\n",
    "\n",
    "import networkx as nx\n",
    "from networkx import Graph as NXGraph\n",
    "import matplotlib.pyplot as plt\n",
    "import pprint\n",
    "import statistics\n",
    "import collections\n",
    "import warnings\n",
    "warnings.filterwarnings (\"ignore\")"
   ]
  },
  {
   "cell_type": "markdown",
   "metadata": {
    "id": "hXqYaUTY8UMw"
   },
   "source": [
    "\n",
    "Las funciones de la librería `rdflib` permiten convertir los datos en un grafo `RDFGraph` con el que cargar los datos.\n",
    "\n"
   ]
  },
  {
   "cell_type": "code",
   "execution_count": null,
   "metadata": {
    "colab": {
     "base_uri": "https://localhost:8080/"
    },
    "id": "iwnbrGlO90XZ",
    "outputId": "31691fc3-f6f0-41d1-8b9b-02833347b2e5"
   },
   "outputs": [
    {
     "name": "stdout",
     "output_type": "stream",
     "text": [
      "2\n",
      "(rdflib.term.URIRef('http://bigasterisk.com/foaf.rdf#drewp'),\n",
      " rdflib.term.URIRef('http://www.w3.org/1999/02/22-rdf-syntax-ns#type'),\n",
      " rdflib.term.URIRef('http://xmlns.com/foaf/0.1/Person'))\n",
      "(rdflib.term.URIRef('http://bigasterisk.com/foaf.rdf#drewp'),\n",
      " rdflib.term.URIRef('http://example.com/says'),\n",
      " rdflib.term.Literal('Hello world'))\n"
     ]
    }
   ],
   "source": [
    "demo = '''\\\n",
    "<http://bigasterisk.com/foaf.rdf#drewp> <http://www.w3.org/1999/02/22-rdf-syntax-ns#type> <http://xmlns.com/foaf/0.1/Person> .\n",
    "<http://bigasterisk.com/foaf.rdf#drewp> <http://example.com/says>  \"Hello world\" .\n",
    "'''\n",
    "\n",
    "g = RDFGraph()  # crear objeto grafo en el que cargar datos\n",
    "g.parse( data=demo, format =\"n3\") # carga los datos demo\n",
    "\n",
    "print(len(g)) # ver cuántas tripletas : 2\n",
    "\n",
    "for stmt in g:\n",
    "    pprint.pprint(stmt)   # imprimir las tripletas\n",
    "\n"
   ]
  },
  {
   "cell_type": "markdown",
   "metadata": {
    "id": "TbJ8D1cSho2B"
   },
   "source": [
    "Es posible extraer los datos usando las [funciones incluidas](https://rdflib.readthedocs.io/en/stable/) en el paquete `rdflib`:\n",
    "\n",
    "\n"
   ]
  },
  {
   "cell_type": "code",
   "execution_count": null,
   "metadata": {
    "colab": {
     "base_uri": "https://localhost:8080/"
    },
    "id": "GE2SoqUyiC2X",
    "outputId": "4c575d19-8688-4dbc-b5e4-095a66b48409"
   },
   "outputs": [
    {
     "name": "stdout",
     "output_type": "stream",
     "text": [
      " http://bigasterisk.com/foaf.rdf#drewp  -- http://www.w3.org/1999/02/22-rdf-syntax-ns#type --> http://xmlns.com/foaf/0.1/Person  \n",
      " http://bigasterisk.com/foaf.rdf#drewp  -- http://example.com/says --> Hello world  \n",
      "\n",
      "Sujetos\n",
      "----------\n",
      "http://bigasterisk.com/foaf.rdf#drewp\n",
      "http://bigasterisk.com/foaf.rdf#drewp\n",
      "Predicados\n",
      "----------\n",
      "http://www.w3.org/1999/02/22-rdf-syntax-ns#type\n",
      "http://example.com/says\n",
      "Objetos\n",
      "----------\n",
      "http://xmlns.com/foaf/0.1/Person\n",
      "Hello world\n"
     ]
    }
   ],
   "source": [
    "for h, r, t in g.triples((None,None,None)):\n",
    "  print( \" %s  -- %s --> %s  \"  % (h, r ,t) )\n",
    "\n",
    "print  ()\n",
    "print (\"Sujetos\")\n",
    "print (\"----------\")\n",
    "for p in g.subjects():\n",
    "  print (p)\n",
    "\n",
    "print (\"Predicados\")\n",
    "print (\"----------\")\n",
    "for p in g.predicates():\n",
    "  print (p)\n",
    "\n",
    "print (\"Objetos\")\n",
    "print (\"----------\")\n",
    "for p in g.objects():\n",
    "  print (p)"
   ]
  },
  {
   "cell_type": "markdown",
   "metadata": {
    "id": "PFQ7a-86ilpj"
   },
   "source": [
    "También es posible  consultar las tripletas almacenadas en un grafo mediante consultas SPARQL."
   ]
  },
  {
   "cell_type": "code",
   "execution_count": null,
   "metadata": {
    "colab": {
     "base_uri": "https://localhost:8080/"
    },
    "id": "lT7hb91Yjglv",
    "outputId": "db11acfb-8038-417d-c796-74f96f1ca201"
   },
   "outputs": [
    {
     "name": "stdout",
     "output_type": "stream",
     "text": [
      "(rdflib.term.URIRef('http://bigasterisk.com/foaf.rdf#drewp'),\n",
      " rdflib.term.URIRef('http://www.w3.org/1999/02/22-rdf-syntax-ns#type'),\n",
      " rdflib.term.URIRef('http://xmlns.com/foaf/0.1/Person'))\n",
      "(rdflib.term.URIRef('http://bigasterisk.com/foaf.rdf#drewp'),\n",
      " rdflib.term.URIRef('http://example.com/says'),\n",
      " rdflib.term.Literal('Hello world'))\n"
     ]
    }
   ],
   "source": [
    "q ='''\n",
    "    SELECT ?h ?r ?t\n",
    "     WHERE {\n",
    "        ?h ?r ?t \n",
    "     }\n",
    "'''\n",
    "\n",
    "result = g.query (q)\n",
    "\n",
    "for row in result:\n",
    "    pprint.pprint(row)   # imprimir las tripletas\n"
   ]
  },
  {
   "cell_type": "markdown",
   "metadata": {
    "id": "tUCIvOIDvzlc"
   },
   "source": [
    "Aunque resulta a veces útil representarlas como grafos."
   ]
  },
  {
   "cell_type": "code",
   "execution_count": null,
   "metadata": {
    "colab": {
     "base_uri": "https://localhost:8080/",
     "height": 238
    },
    "id": "FK2616-Iv7EB",
    "outputId": "3a4da2d8-788a-4211-d04d-3b88af5fceac"
   },
   "outputs": [
    {
     "data": {
      "image/png": "[encoded data removed]",
      "text/plain": [
       "<IPython.core.display.Image object>"
      ]
     },
     "metadata": {},
     "output_type": "display_data"
    }
   ],
   "source": [
    "def visualize(g):\n",
    "    stream = io.StringIO()\n",
    "    rdf2dot(g, stream, opts = {display})\n",
    "    dg = pydotplus.graph_from_dot_data(stream.getvalue())\n",
    "    png = dg.create_png()\n",
    "    display(Image(png))\n",
    "\n",
    "\n",
    "visualize(g)"
   ]
  },
  {
   "cell_type": "markdown",
   "metadata": {
    "id": "Q6swRIvI6aHz"
   },
   "source": [
    "Con el grafo es posible obtener cualquiera de los otros formatos RDF  con la función `serialize`."
   ]
  },
  {
   "cell_type": "code",
   "execution_count": null,
   "metadata": {
    "colab": {
     "base_uri": "https://localhost:8080/"
    },
    "id": "Rr1smjgNC3ok",
    "outputId": "0d4dee6e-9db0-4bbc-e8eb-547f353b9ad2"
   },
   "outputs": [
    {
     "name": "stdout",
     "output_type": "stream",
     "text": [
      "<?xml version=\"1.0\" encoding=\"utf-8\"?>\n",
      "<rdf:RDF\n",
      "  xmlns:rdf=\"http://www.w3.org/1999/02/22-rdf-syntax-ns#\"\n",
      "  xmlns:ns3=\"http://xmlns.com/foaf/0.1/\"\n",
      "  xmlns:ns1=\"http://example.com/\"\n",
      ">\n",
      "  <ns3:Person rdf:about=\"http://bigasterisk.com/foaf.rdf#drewp\">\n",
      "    <ns1:says>Hello world</ns1:says>\n",
      "  </ns3:Person>\n",
      "</rdf:RDF>\n",
      "\n"
     ]
    }
   ],
   "source": [
    "target_pretty = g.serialize ( format=\"pretty-xml\")\n",
    "print ( target_pretty )"
   ]
  },
  {
   "cell_type": "markdown",
   "metadata": {
    "id": "F-46YBGQih4J"
   },
   "source": [
    "Con *RDF Schema* se pueden especificar clases y jerarquías."
   ]
  },
  {
   "cell_type": "code",
   "execution_count": null,
   "metadata": {
    "colab": {
     "base_uri": "https://localhost:8080/",
     "height": 466
    },
    "id": "xeMexGSki4cB",
    "outputId": "0be023a9-101c-4256-df6f-a466ee8b7350"
   },
   "outputs": [
    {
     "data": {
      "image/png": "[encoded data removed]",
      "text/plain": [
       "<IPython.core.display.Image object>"
      ]
     },
     "metadata": {},
     "output_type": "display_data"
    }
   ],
   "source": [
    "vehicles_data = \"\"\"\\\n",
    "@prefix ex: <http://example.org/schemas/vehicles#> .\n",
    "@prefix rdf: <http://www.w3.org/1999/02/22-rdf-syntax-ns#> .\n",
    "@prefix rdfs: <http://www.w3.org/2000/01/rdf-schema#> .\n",
    "ex:MotorVehicle       rdf:type          rdfs:Class .\n",
    "ex:PassengerVehicle   rdf:type          rdfs:Class .\n",
    "ex:Van                rdf:type          rdfs:Class .\n",
    "ex:Truck              rdf:type          rdfs:Class .\n",
    "ex:MiniVan            rdf:type          rdfs:Class .\n",
    "\n",
    "ex:PassengerVehicle   rdfs:subClassOf   ex:MotorVehicle .\n",
    "ex:Van                rdfs:subClassOf   ex:MotorVehicle .\n",
    "ex:Truck              rdfs:subClassOf   ex:MotorVehicle .\n",
    "\n",
    "ex:MiniVan            rdfs:subClassOf   ex:Van .\n",
    "ex:MiniVan            rdfs:subClassOf   ex:PassengerVehicle .\n",
    "\"\"\"\n",
    "\n",
    "veh_g = RDFGraph()\n",
    "veh_g.parse (data=vehicles_data, format=\"n3\")\n",
    "visualize ( veh_g )"
   ]
  },
  {
   "cell_type": "markdown",
   "metadata": {
    "id": "rUxTYaauw2-B"
   },
   "source": [
    "Como `rdfs:SubClass` es transitiva y reflexiva, es posible deducir hechos que no están directamente explicitados en las tripletas originales. Si hacemos una consulta para seleccionar los vehículos de motor con SPARQL:"
   ]
  },
  {
   "cell_type": "code",
   "execution_count": null,
   "metadata": {
    "colab": {
     "base_uri": "https://localhost:8080/"
    },
    "id": "F_XguSqBj3iG",
    "outputId": "6aa77590-fba5-44bc-9450-56dbbe725800"
   },
   "outputs": [
    {
     "name": "stdout",
     "output_type": "stream",
     "text": [
      "(rdflib.term.URIRef('http://example.org/schemas/vehicles#PassengerVehicle'),)\n",
      "(rdflib.term.URIRef('http://example.org/schemas/vehicles#MiniVan'),)\n",
      "(rdflib.term.URIRef('http://example.org/schemas/vehicles#Van'),)\n",
      "(rdflib.term.URIRef('http://example.org/schemas/vehicles#Truck'),)\n"
     ]
    }
   ],
   "source": [
    "result = veh_g.query(\"\"\"\n",
    "SELECT DISTINCT ?s\n",
    "WHERE\n",
    "{\n",
    "  ?s ?p ?o .\n",
    "  ?s rdfs:subClassOf+ ex:MotorVehicle .\n",
    "}\n",
    "\"\"\", initNs={ 'rdfs': RDFS, 'rdf' : RDF, 'ex' : 'http://example.org/schemas/vehicles#' })\n",
    "\n",
    "for row in result:\n",
    "  print (row)"
   ]
  },
  {
   "cell_type": "markdown",
   "metadata": {
    "id": "sMQk5exGkYC2"
   },
   "source": [
    "Advertir que tanto `MiniVan` se muestra como `MotorVehicle` aunque no hay una tripleta que lo indique explícitamente (transitivamente a través de `PassengerVehicle`). "
   ]
  },
  {
   "cell_type": "markdown",
   "metadata": {
    "id": "WABts-9nVKSL"
   },
   "source": [
    "### EJERCICIO"
   ]
  },
  {
   "cell_type": "markdown",
   "metadata": {
    "id": "wiSFxUoQiY10"
   },
   "source": [
    "\n",
    "\n",
    "Vamos a trabajar con las siguientes tripletas. Completar las elementos de las tripletas que faltan para obtener un grafo consistente sobre películas, actores y directores.\n"
   ]
  },
  {
   "cell_type": "code",
   "execution_count": null,
   "metadata": {
    "colab": {
     "base_uri": "https://localhost:8080/"
    },
    "id": "4ldQoJeJIjx-",
    "outputId": "daba44ed-d99b-4b0d-c640-036fa8cfce45"
   },
   "outputs": [
    {
     "data": {
      "text/plain": [
       "<Graph identifier=N782a480ee35547df8a7f1841eb747d29 (<class 'rdflib.graph.Graph'>)>"
      ]
     },
     "execution_count": 13,
     "metadata": {},
     "output_type": "execute_result"
    }
   ],
   "source": [
    "prefixes = \"\"\"\\\n",
    "@prefix :\t<http://example.org/demo/#> .\n",
    "@prefix rdf:\t<http://www.w3.org/1999/02/22-rdf-syntax-ns#> .\n",
    "@prefix rdfs:\t<http://www.w3.org/2000/01/rdf-schema#> .\n",
    "@prefix foaf: <http://xmlns.com/foaf/0.1/> .\n",
    "\n",
    "\"\"\"\n",
    "\n",
    "data = \"\"\"\\\n",
    ":Person rdf:type rdfs:Class. # TODO rdf:______\n",
    "\n",
    ":Actor rdfs:type rdfs:Class;\n",
    "       rdfs:subClassOf :Person . # TODO rdfs:_______\n",
    "\n",
    ":Director rdfs:type rdfs:Class;\n",
    "          rdfs:subClassOf :Person .# TODO rdfs:_______  :___________\n",
    "\n",
    ":Movie rdfs:type rdfs:Class . # TODO rdfs:_______ rdfs:_____\n",
    "\n",
    ":hasActor rdf:type rdf:Property;   # TODO rdfs:_______ \n",
    "             rdfs:range :Movie;    # TODO rdfs:_______\n",
    "             rdfs:domain :Actor .  # TODO rdfs:_______\n",
    "\n",
    ":hasDirector rdf:type rdf:Property;  # TODO rdfs:_______ rdf:________\n",
    "             rdfs:range :Movie;      # TODO rdfs:_______ :___________\n",
    "             rdfs:domain :Director . # TODO rdfs:_______ :___________\n",
    "\n",
    ":nolan rdf:type :Director;             #TODO rdf:_______\n",
    "       rdfs:label \"Christopher Nolan\". \n",
    "\n",
    ":dicaprio rdf:type :Actor;              #TODO rdf:_______ :________\n",
    "         rdfs:label \"Leonardo DiCaprio\". #TODO rdfs:_______\n",
    "\n",
    ":hardy rdf:type :Actor;              #TODO rdf:_______ :__________\n",
    "         rdfs:label \"Tom Hardy\".     #TODO rdfs:_______\n",
    "\n",
    ":inception  rdf:type :Movie;              #TODO rdf:_______ :_________\n",
    "            rdfs:label \"Inception\"@en;    #TODO rdfs:_______\n",
    "            rdfs:label \"Origen\"@es;       #TODO rdfs:_______\n",
    "            :hasDirector :nolan;          #TODO :_______ :________\n",
    "            :hasActor :dicaprio ;         #TODO :_______ :________\n",
    "            :hasActor :hardy .            #TODO :_______ :________\n",
    "\n",
    "\n",
    ":eastwood   rdf:type :Director;             #TODO rdf:_______\n",
    "            rdf:type :Actor;                #TODO rdf:_______\n",
    "            rdfs:label \"Clint_Eastwood\". \n",
    "\n",
    "\n",
    ":milliondollarbaby  rdf:type :Movie;                        #TODO rdf:_______ :_________\n",
    "                    rdfs:label \"Million Dollar Baby\"@en;    #TODO rdfs:_______\n",
    "                    :hasDirector :eastwood;                 #TODO :_______ \n",
    "                    :hasActor :eastwood .                   #TODO :_______ \n",
    "\n",
    "\n",
    ":jedgar rdf:type :Movie;             #TODO rdf:_______ \n",
    "        rdfs:label \"J. Edgar\"@en;    #TODO rdfs:_______\n",
    "        :hasDirector :eastwood;      #TODO :_______ \n",
    "        :hasActor :dicaprio .        #TODO :_______ \n",
    "\n",
    ":batman  rdf:type :Movie;                          #TODO rdf:_______ :_________\n",
    "         rdfs:label \"The Dark Knight Rises\"@en;    #TODO rdfs:_______\n",
    "         :hasDirector :nolan;                      #TODO :_______ \n",
    "         :hasActor :hardy .                        #TODO :_______ \n",
    "\n",
    "\"\"\"\n",
    "\n",
    "\n",
    "gx = RDFGraph()\n",
    "\n",
    "gx.parse( data=prefixes+data, format =\"n3\") # TODO "
   ]
  },
  {
   "cell_type": "code",
   "execution_count": null,
   "metadata": {
    "colab": {
     "base_uri": "https://localhost:8080/"
    },
    "id": "e9NBOzm3SkM4",
    "outputId": "1d1a5caf-39b7-49a5-ed58-a0bdb91d3800"
   },
   "outputs": [
    {
     "name": "stdout",
     "output_type": "stream",
     "text": [
      "39\n",
      "(rdflib.term.URIRef('http://example.org/demo/#hasDirector'),\n",
      " rdflib.term.URIRef('http://www.w3.org/1999/02/22-rdf-syntax-ns#type'),\n",
      " rdflib.term.URIRef('http://www.w3.org/1999/02/22-rdf-syntax-ns#Property'))\n",
      "(rdflib.term.URIRef('http://example.org/demo/#nolan'),\n",
      " rdflib.term.URIRef('http://www.w3.org/2000/01/rdf-schema#label'),\n",
      " rdflib.term.Literal('Christopher Nolan'))\n",
      "(rdflib.term.URIRef('http://example.org/demo/#milliondollarbaby'),\n",
      " rdflib.term.URIRef('http://www.w3.org/2000/01/rdf-schema#label'),\n",
      " rdflib.term.Literal('Million Dollar Baby', lang='en'))\n",
      "(rdflib.term.URIRef('http://example.org/demo/#batman'),\n",
      " rdflib.term.URIRef('http://www.w3.org/1999/02/22-rdf-syntax-ns#type'),\n",
      " rdflib.term.URIRef('http://example.org/demo/#Movie'))\n",
      "(rdflib.term.URIRef('http://example.org/demo/#hasDirector'),\n",
      " rdflib.term.URIRef('http://www.w3.org/2000/01/rdf-schema#domain'),\n",
      " rdflib.term.URIRef('http://example.org/demo/#Director'))\n",
      "(rdflib.term.URIRef('http://example.org/demo/#Actor'),\n",
      " rdflib.term.URIRef('http://www.w3.org/2000/01/rdf-schema#subClassOf'),\n",
      " rdflib.term.URIRef('http://example.org/demo/#Person'))\n",
      "(rdflib.term.URIRef('http://example.org/demo/#hardy'),\n",
      " rdflib.term.URIRef('http://www.w3.org/2000/01/rdf-schema#label'),\n",
      " rdflib.term.Literal('Tom Hardy'))\n",
      "(rdflib.term.URIRef('http://example.org/demo/#Person'),\n",
      " rdflib.term.URIRef('http://www.w3.org/1999/02/22-rdf-syntax-ns#type'),\n",
      " rdflib.term.URIRef('http://www.w3.org/2000/01/rdf-schema#Class'))\n",
      "(rdflib.term.URIRef('http://example.org/demo/#jedgar'),\n",
      " rdflib.term.URIRef('http://example.org/demo/#hasActor'),\n",
      " rdflib.term.URIRef('http://example.org/demo/#dicaprio'))\n",
      "(rdflib.term.URIRef('http://example.org/demo/#inception'),\n",
      " rdflib.term.URIRef('http://example.org/demo/#hasDirector'),\n",
      " rdflib.term.URIRef('http://example.org/demo/#nolan'))\n",
      "(rdflib.term.URIRef('http://example.org/demo/#dicaprio'),\n",
      " rdflib.term.URIRef('http://www.w3.org/1999/02/22-rdf-syntax-ns#type'),\n",
      " rdflib.term.URIRef('http://example.org/demo/#Actor'))\n",
      "(rdflib.term.URIRef('http://example.org/demo/#jedgar'),\n",
      " rdflib.term.URIRef('http://www.w3.org/2000/01/rdf-schema#label'),\n",
      " rdflib.term.Literal('J. Edgar', lang='en'))\n",
      "(rdflib.term.URIRef('http://example.org/demo/#jedgar'),\n",
      " rdflib.term.URIRef('http://www.w3.org/1999/02/22-rdf-syntax-ns#type'),\n",
      " rdflib.term.URIRef('http://example.org/demo/#Movie'))\n",
      "(rdflib.term.URIRef('http://example.org/demo/#milliondollarbaby'),\n",
      " rdflib.term.URIRef('http://example.org/demo/#hasActor'),\n",
      " rdflib.term.URIRef('http://example.org/demo/#eastwood'))\n",
      "(rdflib.term.URIRef('http://example.org/demo/#dicaprio'),\n",
      " rdflib.term.URIRef('http://www.w3.org/2000/01/rdf-schema#label'),\n",
      " rdflib.term.Literal('Leonardo DiCaprio'))\n",
      "(rdflib.term.URIRef('http://example.org/demo/#milliondollarbaby'),\n",
      " rdflib.term.URIRef('http://example.org/demo/#hasDirector'),\n",
      " rdflib.term.URIRef('http://example.org/demo/#eastwood'))\n",
      "(rdflib.term.URIRef('http://example.org/demo/#nolan'),\n",
      " rdflib.term.URIRef('http://www.w3.org/1999/02/22-rdf-syntax-ns#type'),\n",
      " rdflib.term.URIRef('http://example.org/demo/#Director'))\n",
      "(rdflib.term.URIRef('http://example.org/demo/#Actor'),\n",
      " rdflib.term.URIRef('http://www.w3.org/2000/01/rdf-schema#type'),\n",
      " rdflib.term.URIRef('http://www.w3.org/2000/01/rdf-schema#Class'))\n",
      "(rdflib.term.URIRef('http://example.org/demo/#hasActor'),\n",
      " rdflib.term.URIRef('http://www.w3.org/2000/01/rdf-schema#range'),\n",
      " rdflib.term.URIRef('http://example.org/demo/#Movie'))\n",
      "(rdflib.term.URIRef('http://example.org/demo/#hardy'),\n",
      " rdflib.term.URIRef('http://www.w3.org/1999/02/22-rdf-syntax-ns#type'),\n",
      " rdflib.term.URIRef('http://example.org/demo/#Actor'))\n",
      "(rdflib.term.URIRef('http://example.org/demo/#batman'),\n",
      " rdflib.term.URIRef('http://example.org/demo/#hasActor'),\n",
      " rdflib.term.URIRef('http://example.org/demo/#hardy'))\n",
      "(rdflib.term.URIRef('http://example.org/demo/#inception'),\n",
      " rdflib.term.URIRef('http://www.w3.org/1999/02/22-rdf-syntax-ns#type'),\n",
      " rdflib.term.URIRef('http://example.org/demo/#Movie'))\n",
      "(rdflib.term.URIRef('http://example.org/demo/#inception'),\n",
      " rdflib.term.URIRef('http://example.org/demo/#hasActor'),\n",
      " rdflib.term.URIRef('http://example.org/demo/#dicaprio'))\n",
      "(rdflib.term.URIRef('http://example.org/demo/#eastwood'),\n",
      " rdflib.term.URIRef('http://www.w3.org/1999/02/22-rdf-syntax-ns#type'),\n",
      " rdflib.term.URIRef('http://example.org/demo/#Director'))\n",
      "(rdflib.term.URIRef('http://example.org/demo/#milliondollarbaby'),\n",
      " rdflib.term.URIRef('http://www.w3.org/1999/02/22-rdf-syntax-ns#type'),\n",
      " rdflib.term.URIRef('http://example.org/demo/#Movie'))\n",
      "(rdflib.term.URIRef('http://example.org/demo/#hasActor'),\n",
      " rdflib.term.URIRef('http://www.w3.org/2000/01/rdf-schema#domain'),\n",
      " rdflib.term.URIRef('http://example.org/demo/#Actor'))\n",
      "(rdflib.term.URIRef('http://example.org/demo/#batman'),\n",
      " rdflib.term.URIRef('http://example.org/demo/#hasDirector'),\n",
      " rdflib.term.URIRef('http://example.org/demo/#nolan'))\n",
      "(rdflib.term.URIRef('http://example.org/demo/#hasActor'),\n",
      " rdflib.term.URIRef('http://www.w3.org/1999/02/22-rdf-syntax-ns#type'),\n",
      " rdflib.term.URIRef('http://www.w3.org/1999/02/22-rdf-syntax-ns#Property'))\n",
      "(rdflib.term.URIRef('http://example.org/demo/#jedgar'),\n",
      " rdflib.term.URIRef('http://example.org/demo/#hasDirector'),\n",
      " rdflib.term.URIRef('http://example.org/demo/#eastwood'))\n",
      "(rdflib.term.URIRef('http://example.org/demo/#inception'),\n",
      " rdflib.term.URIRef('http://example.org/demo/#hasActor'),\n",
      " rdflib.term.URIRef('http://example.org/demo/#hardy'))\n",
      "(rdflib.term.URIRef('http://example.org/demo/#hasDirector'),\n",
      " rdflib.term.URIRef('http://www.w3.org/2000/01/rdf-schema#range'),\n",
      " rdflib.term.URIRef('http://example.org/demo/#Movie'))\n",
      "(rdflib.term.URIRef('http://example.org/demo/#eastwood'),\n",
      " rdflib.term.URIRef('http://www.w3.org/1999/02/22-rdf-syntax-ns#type'),\n",
      " rdflib.term.URIRef('http://example.org/demo/#Actor'))\n",
      "(rdflib.term.URIRef('http://example.org/demo/#eastwood'),\n",
      " rdflib.term.URIRef('http://www.w3.org/2000/01/rdf-schema#label'),\n",
      " rdflib.term.Literal('Clint_Eastwood'))\n",
      "(rdflib.term.URIRef('http://example.org/demo/#Director'),\n",
      " rdflib.term.URIRef('http://www.w3.org/2000/01/rdf-schema#subClassOf'),\n",
      " rdflib.term.URIRef('http://example.org/demo/#Person'))\n",
      "(rdflib.term.URIRef('http://example.org/demo/#batman'),\n",
      " rdflib.term.URIRef('http://www.w3.org/2000/01/rdf-schema#label'),\n",
      " rdflib.term.Literal('The Dark Knight Rises', lang='en'))\n",
      "(rdflib.term.URIRef('http://example.org/demo/#Movie'),\n",
      " rdflib.term.URIRef('http://www.w3.org/2000/01/rdf-schema#type'),\n",
      " rdflib.term.URIRef('http://www.w3.org/2000/01/rdf-schema#Class'))\n",
      "(rdflib.term.URIRef('http://example.org/demo/#inception'),\n",
      " rdflib.term.URIRef('http://www.w3.org/2000/01/rdf-schema#label'),\n",
      " rdflib.term.Literal('Origen', lang='es'))\n",
      "(rdflib.term.URIRef('http://example.org/demo/#Director'),\n",
      " rdflib.term.URIRef('http://www.w3.org/2000/01/rdf-schema#type'),\n",
      " rdflib.term.URIRef('http://www.w3.org/2000/01/rdf-schema#Class'))\n",
      "(rdflib.term.URIRef('http://example.org/demo/#inception'),\n",
      " rdflib.term.URIRef('http://www.w3.org/2000/01/rdf-schema#label'),\n",
      " rdflib.term.Literal('Inception', lang='en'))\n"
     ]
    }
   ],
   "source": [
    "print(len(gx))  # TODO: Cuántas tripletas hay en el grafo\n",
    "import pprint\n",
    "for stmt in gx:\n",
    "    pprint.pprint(stmt)\n"
   ]
  },
  {
   "cell_type": "code",
   "execution_count": null,
   "metadata": {
    "colab": {
     "base_uri": "https://localhost:8080/",
     "height": 375
    },
    "id": "ombNsa8U461x",
    "outputId": "fc845deb-942e-40d3-b410-df8943cbbac3"
   },
   "outputs": [
    {
     "data": {
      "image/png": "[encoded data removed]",
      "text/plain": [
       "<IPython.core.display.Image object>"
      ]
     },
     "metadata": {},
     "output_type": "display_data"
    }
   ],
   "source": [
    "visualize(gx) # TODO: visualizar el grafo"
   ]
  },
  {
   "cell_type": "markdown",
   "metadata": {
    "id": "Yxp-xb4n3y4B"
   },
   "source": [
    "Serializar el grafo obtenido como documento JSON-LD:"
   ]
  },
  {
   "cell_type": "code",
   "execution_count": null,
   "metadata": {
    "colab": {
     "base_uri": "https://localhost:8080/"
    },
    "id": "zXiQxUuHkONH",
    "outputId": "ae2cebf5-fa0f-4c00-90e5-51199cdd127c"
   },
   "outputs": [
    {
     "name": "stdout",
     "output_type": "stream",
     "text": [
      "[\n",
      "  {\n",
      "    \"@id\": \"http://example.org/demo/#hardy\",\n",
      "    \"@type\": [\n",
      "      \"http://example.org/demo/#Actor\"\n",
      "    ],\n",
      "    \"http://www.w3.org/2000/01/rdf-schema#label\": [\n",
      "      {\n",
      "        \"@value\": \"Tom Hardy\"\n",
      "      }\n",
      "    ]\n",
      "  },\n",
      "  {\n",
      "    \"@id\": \"http://example.org/demo/#Person\",\n",
      "    \"@type\": [\n",
      "      \"http://www.w3.org/2000/01/rdf-schema#Class\"\n",
      "    ]\n",
      "  },\n",
      "  {\n",
      "    \"@id\": \"http://example.org/demo/#inception\",\n",
      "    \"@type\": [\n",
      "      \"http://example.org/demo/#Movie\"\n",
      "    ],\n",
      "    \"http://example.org/demo/#hasActor\": [\n",
      "      {\n",
      "        \"@id\": \"http://example.org/demo/#dicaprio\"\n",
      "      },\n",
      "      {\n",
      "        \"@id\": \"http://example.org/demo/#hardy\"\n",
      "      }\n",
      "    ],\n",
      "    \"http://example.org/demo/#hasDirector\": [\n",
      "      {\n",
      "        \"@id\": \"http://example.org/demo/#nolan\"\n",
      "      }\n",
      "    ],\n",
      "    \"http://www.w3.org/2000/01/rdf-schema#label\": [\n",
      "      {\n",
      "        \"@language\": \"en\",\n",
      "        \"@value\": \"Inception\"\n",
      "      },\n",
      "      {\n",
      "        \"@language\": \"es\",\n",
      "        \"@value\": \"Origen\"\n",
      "      }\n",
      "    ]\n",
      "  },\n",
      "  {\n",
      "    \"@id\": \"http://example.org/demo/#nolan\",\n",
      "    \"@type\": [\n",
      "      \"http://example.org/demo/#Director\"\n",
      "    ],\n",
      "    \"http://www.w3.org/2000/01/rdf-schema#label\": [\n",
      "      {\n",
      "        \"@value\": \"Christopher Nolan\"\n",
      "      }\n",
      "    ]\n",
      "  },\n",
      "  {\n",
      "    \"@id\": \"http://example.org/demo/#dicaprio\",\n",
      "    \"@type\": [\n",
      "      \"http://example.org/demo/#Actor\"\n",
      "    ],\n",
      "    \"http://www.w3.org/2000/01/rdf-schema#label\": [\n",
      "      {\n",
      "        \"@value\": \"Leonardo DiCaprio\"\n",
      "      }\n",
      "    ]\n",
      "  },\n",
      "  {\n",
      "    \"@id\": \"http://example.org/demo/#hasActor\",\n",
      "    \"@type\": [\n",
      "      \"http://www.w3.org/1999/02/22-rdf-syntax-ns#Property\"\n",
      "    ],\n",
      "    \"http://www.w3.org/2000/01/rdf-schema#domain\": [\n",
      "      {\n",
      "        \"@id\": \"http://example.org/demo/#Actor\"\n",
      "      }\n",
      "    ],\n",
      "    \"http://www.w3.org/2000/01/rdf-schema#range\": [\n",
      "      {\n",
      "        \"@id\": \"http://example.org/demo/#Movie\"\n",
      "      }\n",
      "    ]\n",
      "  },\n",
      "  {\n",
      "    \"@id\": \"http://example.org/demo/#Actor\",\n",
      "    \"http://www.w3.org/2000/01/rdf-schema#subClassOf\": [\n",
      "      {\n",
      "        \"@id\": \"http://example.org/demo/#Person\"\n",
      "      }\n",
      "    ],\n",
      "    \"http://www.w3.org/2000/01/rdf-schema#type\": [\n",
      "      {\n",
      "        \"@id\": \"http://www.w3.org/2000/01/rdf-schema#Class\"\n",
      "      }\n",
      "    ]\n",
      "  },\n",
      "  {\n",
      "    \"@id\": \"http://example.org/demo/#jedgar\",\n",
      "    \"@type\": [\n",
      "      \"http://example.org/demo/#Movie\"\n",
      "    ],\n",
      "    \"http://example.org/demo/#hasActor\": [\n",
      "      {\n",
      "        \"@id\": \"http://example.org/demo/#dicaprio\"\n",
      "      }\n",
      "    ],\n",
      "    \"http://example.org/demo/#hasDirector\": [\n",
      "      {\n",
      "        \"@id\": \"http://example.org/demo/#eastwood\"\n",
      "      }\n",
      "    ],\n",
      "    \"http://www.w3.org/2000/01/rdf-schema#label\": [\n",
      "      {\n",
      "        \"@language\": \"en\",\n",
      "        \"@value\": \"J. Edgar\"\n",
      "      }\n",
      "    ]\n",
      "  },\n",
      "  {\n",
      "    \"@id\": \"http://example.org/demo/#Director\",\n",
      "    \"http://www.w3.org/2000/01/rdf-schema#subClassOf\": [\n",
      "      {\n",
      "        \"@id\": \"http://example.org/demo/#Person\"\n",
      "      }\n",
      "    ],\n",
      "    \"http://www.w3.org/2000/01/rdf-schema#type\": [\n",
      "      {\n",
      "        \"@id\": \"http://www.w3.org/2000/01/rdf-schema#Class\"\n",
      "      }\n",
      "    ]\n",
      "  },\n",
      "  {\n",
      "    \"@id\": \"http://example.org/demo/#eastwood\",\n",
      "    \"@type\": [\n",
      "      \"http://example.org/demo/#Director\",\n",
      "      \"http://example.org/demo/#Actor\"\n",
      "    ],\n",
      "    \"http://www.w3.org/2000/01/rdf-schema#label\": [\n",
      "      {\n",
      "        \"@value\": \"Clint_Eastwood\"\n",
      "      }\n",
      "    ]\n",
      "  },\n",
      "  {\n",
      "    \"@id\": \"http://example.org/demo/#hasDirector\",\n",
      "    \"@type\": [\n",
      "      \"http://www.w3.org/1999/02/22-rdf-syntax-ns#Property\"\n",
      "    ],\n",
      "    \"http://www.w3.org/2000/01/rdf-schema#domain\": [\n",
      "      {\n",
      "        \"@id\": \"http://example.org/demo/#Director\"\n",
      "      }\n",
      "    ],\n",
      "    \"http://www.w3.org/2000/01/rdf-schema#range\": [\n",
      "      {\n",
      "        \"@id\": \"http://example.org/demo/#Movie\"\n",
      "      }\n",
      "    ]\n",
      "  },\n",
      "  {\n",
      "    \"@id\": \"http://example.org/demo/#milliondollarbaby\",\n",
      "    \"@type\": [\n",
      "      \"http://example.org/demo/#Movie\"\n",
      "    ],\n",
      "    \"http://example.org/demo/#hasActor\": [\n",
      "      {\n",
      "        \"@id\": \"http://example.org/demo/#eastwood\"\n",
      "      }\n",
      "    ],\n",
      "    \"http://example.org/demo/#hasDirector\": [\n",
      "      {\n",
      "        \"@id\": \"http://example.org/demo/#eastwood\"\n",
      "      }\n",
      "    ],\n",
      "    \"http://www.w3.org/2000/01/rdf-schema#label\": [\n",
      "      {\n",
      "        \"@language\": \"en\",\n",
      "        \"@value\": \"Million Dollar Baby\"\n",
      "      }\n",
      "    ]\n",
      "  },\n",
      "  {\n",
      "    \"@id\": \"http://example.org/demo/#Movie\",\n",
      "    \"http://www.w3.org/2000/01/rdf-schema#type\": [\n",
      "      {\n",
      "        \"@id\": \"http://www.w3.org/2000/01/rdf-schema#Class\"\n",
      "      }\n",
      "    ]\n",
      "  },\n",
      "  {\n",
      "    \"@id\": \"http://example.org/demo/#batman\",\n",
      "    \"@type\": [\n",
      "      \"http://example.org/demo/#Movie\"\n",
      "    ],\n",
      "    \"http://example.org/demo/#hasActor\": [\n",
      "      {\n",
      "        \"@id\": \"http://example.org/demo/#hardy\"\n",
      "      }\n",
      "    ],\n",
      "    \"http://example.org/demo/#hasDirector\": [\n",
      "      {\n",
      "        \"@id\": \"http://example.org/demo/#nolan\"\n",
      "      }\n",
      "    ],\n",
      "    \"http://www.w3.org/2000/01/rdf-schema#label\": [\n",
      "      {\n",
      "        \"@language\": \"en\",\n",
      "        \"@value\": \"The Dark Knight Rises\"\n",
      "      }\n",
      "    ]\n",
      "  }\n",
      "]\n"
     ]
    }
   ],
   "source": [
    "# TODO\n",
    "print(gx.serialize(format='json-ld'))"
   ]
  },
  {
   "cell_type": "markdown",
   "metadata": {
    "id": "9BYmKt-sSjIh"
   },
   "source": [
    "**Q1 - Realizar una consulta SPARQL que resuelva en cuántas películas ha participado Tom Hardy con Christopher Nolan como director.**"
   ]
  },
  {
   "cell_type": "code",
   "execution_count": null,
   "metadata": {
    "colab": {
     "base_uri": "https://localhost:8080/"
    },
    "id": "DI1_CqIHQdh6",
    "outputId": "ab6559dc-ef0f-4e7b-b851-409554f9ae59"
   },
   "outputs": [
    {
     "name": "stdout",
     "output_type": "stream",
     "text": [
      "2\n"
     ]
    }
   ],
   "source": [
    "result = gx.query (\"\"\"SELECT (count(*) as ?count)  # TODO\n",
    "                        WHERE { \n",
    "                            ?x :hasActor :hardy;\n",
    "                               :hasDirector :nolan .\n",
    "                               }\n",
    "                               \"\"\" )\n",
    "\n",
    "\n",
    "for row in result:\n",
    "  print (row.asdict()['count'])"
   ]
  },
  {
   "cell_type": "markdown",
   "metadata": {
    "id": "wOMNYo6gQevF"
   },
   "source": [
    "**Q2 - Hacer una consulta en SPARQL que nos indique si hay alguna película (obtener el título) que han tenido la misma persona como actor y como director.**"
   ]
  },
  {
   "cell_type": "code",
   "execution_count": null,
   "metadata": {
    "colab": {
     "base_uri": "https://localhost:8080/"
    },
    "id": "C3Yky-kIL1a0",
    "outputId": "7a5beb39-fd5b-4283-f0cf-70c8fca7a9bf"
   },
   "outputs": [
    {
     "name": "stdout",
     "output_type": "stream",
     "text": [
      "Million Dollar Baby\n"
     ]
    }
   ],
   "source": [
    "result = gx.query (\"\"\"SELECT ?x ?z  # TODO\n",
    "                        WHERE { \n",
    "                            ?m :hasActor ?y;\n",
    "                               rdfs:label ?x;\n",
    "                               :hasDirector ?z .\n",
    "                               filter (?y = ?z)\n",
    "                               }\"\"\" )\n",
    "\n",
    "\n",
    "for row in result:\n",
    "  print (row.asdict()['x'])"
   ]
  },
  {
   "cell_type": "markdown",
   "metadata": {
    "id": "Clmmr6AgItRx"
   },
   "source": [
    "## Parte 2: Ontologías\n",
    "\n",
    "\n",
    "Desde un punto de vista práctico, una **ontología** permite definir un modelo en forma de clases e instancias (como los lenguajes de programación) pero con más detalle o mayor nivel de expresividad. Las ontologías y la programación orientada a objetos tienen muchos elementos en común pero usan diferentes terminología.\n",
    "\n",
    "Existen tres diferencias importantes entre ontologías y orientación a objetos:\n",
    "\n",
    "\n",
    "\n",
    "*   Las propiedades se definen independientemente y fuera de las clases.\n",
    "\n",
    "*   Los individuos pueden pertenecer a una o varias clases (instanciación múltiple)\n",
    "\n",
    "*   La ontología se basa en la suposición de mundo abierto: todo lo que no está expresamente prohibido, está permitido.\n",
    "\n",
    "Existen varias formas de expresar ontologías pero la más frecuente y estandarizada es OWL (Web Ontology Language) que puede guardarse como tripletas RDF en varios formatos/serializaciones.\n",
    "\n",
    "\n",
    "\n",
    "\n",
    "\n"
   ]
  },
  {
   "cell_type": "markdown",
   "metadata": {
    "id": "KGSpwnaFMNBM"
   },
   "source": [
    "Para trabajar con ontologías vamos a usar la librería `Owlready2`. [Owlready2](https://owlready2.readthedocs.io/en/v0.35/intro.html) es un librería que permite utilizar y crear ontologías OWL en Python. \n"
   ]
  },
  {
   "cell_type": "code",
   "execution_count": null,
   "metadata": {
    "colab": {
     "base_uri": "https://localhost:8080/"
    },
    "id": "cfwaM8lHIew4",
    "outputId": "c4b754a4-ff7a-4554-d8f4-4aaca756f920"
   },
   "outputs": [
    {
     "name": "stdout",
     "output_type": "stream",
     "text": [
      "Collecting owlready2\n",
      "  Downloading Owlready2-0.35.tar.gz (23.8 MB)\n",
      "\u001b[K     |████████████████████████████████| 23.8 MB 27 kB/s \n",
      "\u001b[?25hBuilding wheels for collected packages: owlready2\n",
      "  Building wheel for owlready2 (setup.py) ... \u001b[?25l\u001b[?25hdone\n",
      "  Created wheel for owlready2: filename=Owlready2-0.35-cp37-cp37m-linux_x86_64.whl size=20432807 sha256=af7fdf5e1434c6afe760fc2c0f50bc95efa346b5dda4e5a7585441c5cc29a349\n",
      "  Stored in directory: /root/.cache/pip/wheels/a6/85/8f/4f254dc1d3b7901c23004544f7214748607d8b0c2c02b3c868\n",
      "Successfully built owlready2\n",
      "Installing collected packages: owlready2\n",
      "Successfully installed owlready2-0.35\n"
     ]
    }
   ],
   "source": [
    "! pip install owlready2"
   ]
  },
  {
   "cell_type": "code",
   "execution_count": null,
   "metadata": {
    "id": "elS9ymETIMmY"
   },
   "outputs": [],
   "source": [
    "from owlready2 import *"
   ]
  },
  {
   "cell_type": "markdown",
   "metadata": {
    "id": "3YM8spEzJHaz"
   },
   "source": [
    "\n",
    "`Owlready2` permite  cargar una ontología de dos formas distintas:\n",
    "\n",
    "1. A partir del IRI (Internationalized Resource Identifier)\n",
    "\n",
    "2. A partir de un archivo local.\n",
    "\n",
    "\n",
    "Y admite los siguientes formatos de archivos:\n",
    "\n",
    "-  RDF/XML\n",
    "-  OWL/XML\n",
    "-  N-Triples\n",
    "\n",
    "\n"
   ]
  },
  {
   "cell_type": "markdown",
   "metadata": {
    "id": "URnNmRlX4xu2"
   },
   "source": [
    "Vamos a cargar una ontología de ejemplo sobre bacterias:\n"
   ]
  },
  {
   "cell_type": "code",
   "execution_count": null,
   "metadata": {
    "colab": {
     "base_uri": "https://localhost:8080/"
    },
    "id": "9hBYY8eSIbdr",
    "outputId": "659e0bfb-e3d2-4261-dd5b-73a65b9d65ba"
   },
   "outputs": [
    {
     "data": {
      "text/plain": [
       "get_ontology(\"http://lesfleursdunormal.fr/static/_downloads/bacteria.owl#\")"
      ]
     },
     "execution_count": 5,
     "metadata": {},
     "output_type": "execute_result"
    }
   ],
   "source": [
    "onto = get_ontology(\"http://lesfleursdunormal.fr/static/_downloads/bacteria.owl\").load()\n",
    "\n",
    "onto"
   ]
  },
  {
   "cell_type": "markdown",
   "metadata": {
    "id": "dVdrXQ8sNDiS"
   },
   "source": [
    "Cuando se carga una ontología con `Owlready` se traduce a una grafo RDF,   es decir, como tripletas de la forma `sujeto - verbo -\n",
    "objecto`.\n",
    "\n"
   ]
  },
  {
   "cell_type": "markdown",
   "metadata": {
    "id": "EKomQ8kyLh_H"
   },
   "source": [
    " ### 2.1. Contenido de la ontología\n",
    "\n",
    " Mediante las funciones integradas en la librería podemos explorar su contenido. Así para ver las **clases** que contiene:"
   ]
  },
  {
   "cell_type": "code",
   "execution_count": null,
   "metadata": {
    "colab": {
     "base_uri": "https://localhost:8080/"
    },
    "id": "FWOTTbawLYTw",
    "outputId": "9c3fdca9-0923-45df-adf5-7d09f9739a27"
   },
   "outputs": [
    {
     "name": "stdout",
     "output_type": "stream",
     "text": [
      "Bacterium\n",
      "Shape\n",
      "Grouping\n",
      "Round\n",
      "Rod\n",
      "Isolated\n",
      "InPair\n",
      "InCluster\n",
      "InChain\n",
      "InSmallChain\n",
      "InLongChain\n",
      "Pseudomonas\n",
      "Coccus\n",
      "Bacillus\n",
      "Staphylococcus\n",
      "Streptococcus\n"
     ]
    }
   ],
   "source": [
    "for c in onto.classes(): \n",
    "  print(c.name)"
   ]
  },
  {
   "cell_type": "code",
   "execution_count": null,
   "metadata": {
    "colab": {
     "base_uri": "https://localhost:8080/"
    },
    "id": "B0GmVCk_L6dB",
    "outputId": "6d33f754-54c2-4a55-ab53-516afaba223f"
   },
   "outputs": [
    {
     "name": "stdout",
     "output_type": "stream",
     "text": [
      "bacteria.Bacterium\n",
      "True\n",
      "[bacteria.Pseudomonas, bacteria.Coccus, bacteria.Bacillus]\n",
      "{bacteria.Streptococcus, bacteria.Staphylococcus, bacteria.Bacillus, bacteria.Coccus, bacteria.Pseudomonas}\n"
     ]
    }
   ],
   "source": [
    "print (onto.Bacterium)\n",
    "print (issubclass(onto.Coccus, onto.Bacterium))\n",
    "print (list(onto.Bacterium.subclasses()))\n",
    "print (onto.Bacterium.descendants(include_self = False) )"
   ]
  },
  {
   "cell_type": "markdown",
   "metadata": {
    "id": "_2yU9QeK6Fp1"
   },
   "source": [
    "También se pueden explorar las **propiedades** definidas para la ontología:"
   ]
  },
  {
   "cell_type": "code",
   "execution_count": null,
   "metadata": {
    "colab": {
     "base_uri": "https://localhost:8080/"
    },
    "id": "qWNAqL9iMWVK",
    "outputId": "98bc1dda-6a6c-43b2-b5fd-c10ac20d2e75"
   },
   "outputs": [
    {
     "name": "stdout",
     "output_type": "stream",
     "text": [
      "[bacteria.gram_positive, bacteria.nb_colonies, bacteria.has_shape, bacteria.is_shape_of, bacteria.has_grouping, bacteria.is_grouping_of]\n"
     ]
    }
   ],
   "source": [
    "print (list (onto.properties()) ) "
   ]
  },
  {
   "cell_type": "markdown",
   "metadata": {
    "id": "4quVNcbPPjE4"
   },
   "source": [
    "Los atributos `domain` y `range` se utilizan para obtener el dominio y el rango de una propiedad. Estos atributos se proporcionan como una lista."
   ]
  },
  {
   "cell_type": "code",
   "execution_count": null,
   "metadata": {
    "colab": {
     "base_uri": "https://localhost:8080/"
    },
    "id": "ISGCAtRAO0UR",
    "outputId": "3d2a4c3d-ac8c-42ff-8bff-a39a08ba158e"
   },
   "outputs": [
    {
     "name": "stdout",
     "output_type": "stream",
     "text": [
      "[bacteria.Bacterium]\n",
      "[bacteria.Grouping]\n"
     ]
    }
   ],
   "source": [
    "print ( onto.has_grouping.domain )\n",
    "print ( onto.has_grouping.range )"
   ]
  },
  {
   "cell_type": "markdown",
   "metadata": {
    "id": "cAvZTOUC6lKP"
   },
   "source": [
    "Y también se pueden listar las instancias o individuos definidos:"
   ]
  },
  {
   "cell_type": "code",
   "execution_count": null,
   "metadata": {
    "colab": {
     "base_uri": "https://localhost:8080/"
    },
    "id": "hmBTUgBnLy_I",
    "outputId": "6b47a7b5-26f7-4b43-8c82-9352b44a2b9d"
   },
   "outputs": [
    {
     "name": "stdout",
     "output_type": "stream",
     "text": [
      "[bacteria.round1, bacteria.in_cluster1, bacteria.unknown_bacterium]\n"
     ]
    }
   ],
   "source": [
    "print ( list (onto.individuals()) )"
   ]
  },
  {
   "cell_type": "code",
   "execution_count": null,
   "metadata": {
    "id": "kEMKE2Ld5Hm3"
   },
   "outputs": [],
   "source": [
    "onto.destroy ()"
   ]
  },
  {
   "cell_type": "markdown",
   "metadata": {
    "id": "OjZuOELeNzfu"
   },
   "source": [
    "### 2.2. Crear una ontología"
   ]
  },
  {
   "cell_type": "markdown",
   "metadata": {
    "id": "aezY339t7p2i"
   },
   "source": [
    "Lo primero que hay que hacer es crear una ontología vacía con la función `get_ontology` indicándole un IRI:"
   ]
  },
  {
   "cell_type": "code",
   "execution_count": null,
   "metadata": {
    "id": "VWUCAc0vRRLD"
   },
   "outputs": [],
   "source": [
    "my_onto = get_ontology ('http://example.org/ontologies/myonto.owl#')"
   ]
  },
  {
   "cell_type": "markdown",
   "metadata": {
    "id": "zOJiyCxg8UWZ"
   },
   "source": [
    "A partir de este momento, cuando añadamos entidades o tripletas es importante indicar la ontología a la que se refieren y esto se realiza con la estructura en Python:\n",
    "```\n",
    "with my_onto:\n",
    "  <código python>\n",
    "```\n",
    "\n",
    "Para crear una clase OWL hay que crear una clase Python que herede de `Thing` o declare de la que hereda:"
   ]
  },
  {
   "cell_type": "code",
   "execution_count": null,
   "metadata": {
    "id": "EG9LmfTGRx4R"
   },
   "outputs": [],
   "source": [
    "with my_onto:\n",
    "  class Bacterium (Thing): pass\n",
    "  class Shape (Thing): pass\n",
    "  class Rod (Shape) : pass\n",
    "  class Round (Shape): pass\n",
    "\n",
    "  AllDisjoint ([Round, Rod])\n"
   ]
  },
  {
   "cell_type": "markdown",
   "metadata": {
    "id": "RmgSfWMH9QiU"
   },
   "source": [
    "Las clases son cascarones vacíos (no tienen métodos) y por eso se usa la palabra clave `pass`.\n",
    "\n",
    "\n",
    "Puesto que en OWL las propiedades se asimilan a las clases, las propiedades se crean definiendo una clase que hereda de `DataProperty`, `ObjectProperty` o `AnnotationProperty` aunque hay más. Y se pueden crear sub-propiedades que heredan de otras propiedades.\n"
   ]
  },
  {
   "cell_type": "code",
   "execution_count": null,
   "metadata": {
    "id": "tBVA9fLoANDS"
   },
   "outputs": [],
   "source": [
    "with my_onto:\n",
    "  class has_shape ( ObjectProperty ):\n",
    "    domain = [Bacterium]\n",
    "    range = [Shape]\n",
    "\n",
    "  class has_rare_shape ( has_shape ): pass"
   ]
  },
  {
   "cell_type": "markdown",
   "metadata": {
    "id": "3BYKd4UzA1Yf"
   },
   "source": [
    "Los individuos se crean como cualquier clase en Python. `Owlready` les asigna automáticamente una nueva IRI basada en la IRI de la ontología. "
   ]
  },
  {
   "cell_type": "code",
   "execution_count": null,
   "metadata": {
    "colab": {
     "base_uri": "https://localhost:8080/",
     "height": 35
    },
    "id": "vYfzTJmDBG-R",
    "outputId": "c1625e55-0a63-435a-a9f3-559f89a07d3d"
   },
   "outputs": [
    {
     "data": {
      "application/vnd.google.colaboratory.intrinsic+json": {
       "type": "string"
      },
      "text/plain": [
       "'http://example.org/ontologies/myonto.owl#bacterium1'"
      ]
     },
     "execution_count": 15,
     "metadata": {},
     "output_type": "execute_result"
    }
   ],
   "source": [
    "my_bacterium = my_onto.Bacterium ()\n",
    "my_bacterium.iri"
   ]
  },
  {
   "cell_type": "markdown",
   "metadata": {
    "id": "ebKt8l9UCP93"
   },
   "source": [
    "Aunque también es posible darle un nombre y asignarle propiedades:"
   ]
  },
  {
   "cell_type": "code",
   "execution_count": null,
   "metadata": {
    "colab": {
     "base_uri": "https://localhost:8080/",
     "height": 35
    },
    "id": "cjUP5hbLCPrn",
    "outputId": "00047c5b-e675-46d8-9938-8c23878ab94f"
   },
   "outputs": [
    {
     "data": {
      "application/vnd.google.colaboratory.intrinsic+json": {
       "type": "string"
      },
      "text/plain": [
       "'http://example.org/ontologies/myonto.owl#my_bacterium'"
      ]
     },
     "execution_count": 16,
     "metadata": {},
     "output_type": "execute_result"
    }
   ],
   "source": [
    "my_bacterium = my_onto.Bacterium ('my_bacterium', has_shape = [Rod()] ) \n",
    "\n",
    "\n",
    "my_bacterium.iri"
   ]
  },
  {
   "cell_type": "markdown",
   "metadata": {
    "id": "c5ZMGLI_CI7g"
   },
   "source": [
    "Por último, también es posible guardar la ontología en un archivo con `save()`, borrar entidades y la propia ontología.\n",
    " "
   ]
  },
  {
   "cell_type": "code",
   "execution_count": null,
   "metadata": {
    "id": "MoeNt3w9DP0I"
   },
   "outputs": [],
   "source": [
    "destroy_entity( my_bacterium)\n",
    "\n",
    "my_onto.destroy ()"
   ]
  },
  {
   "cell_type": "markdown",
   "metadata": {
    "id": "wEMniFznVU2K"
   },
   "source": [
    "---\n",
    "\n",
    "\n",
    "Crear una ontología que tenga las clases necesarias para definir tipos de preparación del café. Así cada café (`Coffee`) puede tener (`from_region`) una región de origen (`Region`) que pueden ser Latinoamérica (`Latin_America`), Asia-Pacífico (`Asia_Pacific`) o múltiple (`Multi_Region`). La propiedad inversa de `from_region` es `grown_in` que nos indica los cafés en función de su procedencia.\n",
    "\n",
    "Los cafés se tuestan (`has_roast`) según diferentes tipos de tostado (`Roast`): así tenemos tostados suaves (`Blonde`), tostados intensos (`Dark`) o intermedios (`Medium`).\n",
    "\n",
    "\n",
    "\n"
   ]
  },
  {
   "cell_type": "code",
   "execution_count": null,
   "metadata": {
    "colab": {
     "base_uri": "https://localhost:8080/"
    },
    "id": "OgwO9OtVwYGa",
    "outputId": "ae84f5a7-40ce-4d56-ad5b-74663f2eb205"
   },
   "outputs": [
    {
     "name": "stderr",
     "output_type": "stream",
     "text": [
      "* Owlready2 * Creating new ontology coffee_onto <http://example.org/coffee_onto#>.\n",
      "* Owlready2 * ADD TRIPLE http://example.org/coffee_onto http://www.w3.org/1999/02/22-rdf-syntax-ns#type http://www.w3.org/2002/07/owl#Ontology\n",
      "* Owlready2 * ADD TRIPLE http://example.org/coffee_onto#Coffee http://www.w3.org/1999/02/22-rdf-syntax-ns#type http://www.w3.org/2002/07/owl#Class\n",
      "* Owlready2 * ADD TRIPLE http://example.org/coffee_onto#Coffee http://www.w3.org/2000/01/rdf-schema#subClassOf http://www.w3.org/2002/07/owl#Thing\n",
      "* Owlready2 * ADD TRIPLE http://example.org/coffee_onto#Region http://www.w3.org/1999/02/22-rdf-syntax-ns#type http://www.w3.org/2002/07/owl#Class\n",
      "* Owlready2 * ADD TRIPLE http://example.org/coffee_onto#Region http://www.w3.org/2000/01/rdf-schema#subClassOf http://www.w3.org/2002/07/owl#Thing\n",
      "* Owlready2 * ADD TRIPLE http://example.org/coffee_onto#Latin_America http://www.w3.org/1999/02/22-rdf-syntax-ns#type http://www.w3.org/2002/07/owl#Class\n",
      "* Owlready2 * ADD TRIPLE http://example.org/coffee_onto#Latin_America http://www.w3.org/2000/01/rdf-schema#subClassOf http://example.org/coffee_onto#Region\n",
      "* Owlready2 * ADD TRIPLE http://example.org/coffee_onto#Asia_Pacific http://www.w3.org/1999/02/22-rdf-syntax-ns#type http://www.w3.org/2002/07/owl#Class\n",
      "* Owlready2 * ADD TRIPLE http://example.org/coffee_onto#Asia_Pacific http://www.w3.org/2000/01/rdf-schema#subClassOf http://example.org/coffee_onto#Region\n",
      "* Owlready2 * ADD TRIPLE http://example.org/coffee_onto#Multi_Region http://www.w3.org/1999/02/22-rdf-syntax-ns#type http://www.w3.org/2002/07/owl#Class\n",
      "* Owlready2 * ADD TRIPLE http://example.org/coffee_onto#Multi_Region http://www.w3.org/2000/01/rdf-schema#subClassOf http://example.org/coffee_onto#Region\n",
      "* Owlready2 * ADD TRIPLE -80 http://www.w3.org/1999/02/22-rdf-syntax-ns#type http://www.w3.org/2002/07/owl#AllDisjointClasses\n",
      "* Owlready2 * ADD TRIPLE -80 http://www.w3.org/2002/07/owl#members -81\n",
      "* Owlready2 * ADD TRIPLE -81 http://www.w3.org/1999/02/22-rdf-syntax-ns#first http://example.org/coffee_onto#Latin_America\n",
      "* Owlready2 * ADD TRIPLE -81 http://www.w3.org/1999/02/22-rdf-syntax-ns#rest -82\n",
      "* Owlready2 * ADD TRIPLE -82 http://www.w3.org/1999/02/22-rdf-syntax-ns#first http://example.org/coffee_onto#Asia_Pacific\n",
      "* Owlready2 * ADD TRIPLE -82 http://www.w3.org/1999/02/22-rdf-syntax-ns#rest -83\n",
      "* Owlready2 * ADD TRIPLE -83 http://www.w3.org/1999/02/22-rdf-syntax-ns#first http://example.org/coffee_onto#Multi_Region\n",
      "* Owlready2 * ADD TRIPLE -83 http://www.w3.org/1999/02/22-rdf-syntax-ns#rest http://www.w3.org/1999/02/22-rdf-syntax-ns#nil\n",
      "* Owlready2 * ADD TRIPLE http://example.org/coffee_onto#from_region http://www.w3.org/1999/02/22-rdf-syntax-ns#type http://www.w3.org/2002/07/owl#ObjectProperty\n",
      "* Owlready2 * ADD TRIPLE http://example.org/coffee_onto#from_region http://www.w3.org/1999/02/22-rdf-syntax-ns#type http://www.w3.org/2002/07/owl#FunctionalProperty\n",
      "* Owlready2 * ADD TRIPLE http://example.org/coffee_onto#from_region http://www.w3.org/2000/01/rdf-schema#domain http://example.org/coffee_onto#Coffee\n",
      "* Owlready2 * ADD TRIPLE http://example.org/coffee_onto#Roast http://www.w3.org/1999/02/22-rdf-syntax-ns#type http://www.w3.org/2002/07/owl#Class\n",
      "* Owlready2 * ADD TRIPLE http://example.org/coffee_onto#Roast http://www.w3.org/2000/01/rdf-schema#subClassOf http://www.w3.org/2002/07/owl#Thing\n",
      "* Owlready2 * ADD TRIPLE http://example.org/coffee_onto#Dark_Roast http://www.w3.org/1999/02/22-rdf-syntax-ns#type http://www.w3.org/2002/07/owl#Class\n",
      "* Owlready2 * ADD TRIPLE http://example.org/coffee_onto#Dark_Roast http://www.w3.org/2000/01/rdf-schema#subClassOf http://example.org/coffee_onto#Roast\n",
      "* Owlready2 * ADD TRIPLE http://example.org/coffee_onto#Blonde_Roast http://www.w3.org/1999/02/22-rdf-syntax-ns#type http://www.w3.org/2002/07/owl#Class\n",
      "* Owlready2 * ADD TRIPLE http://example.org/coffee_onto#Blonde_Roast http://www.w3.org/2000/01/rdf-schema#subClassOf http://example.org/coffee_onto#Roast\n",
      "* Owlready2 * ADD TRIPLE http://example.org/coffee_onto#Medium_Roast http://www.w3.org/1999/02/22-rdf-syntax-ns#type http://www.w3.org/2002/07/owl#Class\n",
      "* Owlready2 * ADD TRIPLE http://example.org/coffee_onto#Medium_Roast http://www.w3.org/2000/01/rdf-schema#subClassOf http://example.org/coffee_onto#Roast\n",
      "* Owlready2 * ADD TRIPLE -84 http://www.w3.org/1999/02/22-rdf-syntax-ns#type http://www.w3.org/2002/07/owl#AllDisjointClasses\n",
      "* Owlready2 * ADD TRIPLE -84 http://www.w3.org/2002/07/owl#members -85\n",
      "* Owlready2 * ADD TRIPLE -85 http://www.w3.org/1999/02/22-rdf-syntax-ns#first http://example.org/coffee_onto#Dark_Roast\n",
      "* Owlready2 * ADD TRIPLE -85 http://www.w3.org/1999/02/22-rdf-syntax-ns#rest -86\n",
      "* Owlready2 * ADD TRIPLE -86 http://www.w3.org/1999/02/22-rdf-syntax-ns#first http://example.org/coffee_onto#Blonde_Roast\n",
      "* Owlready2 * ADD TRIPLE -86 http://www.w3.org/1999/02/22-rdf-syntax-ns#rest -87\n",
      "* Owlready2 * ADD TRIPLE -87 http://www.w3.org/1999/02/22-rdf-syntax-ns#first http://example.org/coffee_onto#Medium_Roast\n",
      "* Owlready2 * ADD TRIPLE -87 http://www.w3.org/1999/02/22-rdf-syntax-ns#rest http://www.w3.org/1999/02/22-rdf-syntax-ns#nil\n",
      "* Owlready2 * ADD TRIPLE http://example.org/coffee_onto#has_roast http://www.w3.org/1999/02/22-rdf-syntax-ns#type http://www.w3.org/2002/07/owl#ObjectProperty\n",
      "* Owlready2 * ADD TRIPLE http://example.org/coffee_onto#has_roast http://www.w3.org/1999/02/22-rdf-syntax-ns#type http://www.w3.org/2002/07/owl#FunctionalProperty\n",
      "* Owlready2 * ADD TRIPLE http://example.org/coffee_onto#has_roast http://www.w3.org/2000/01/rdf-schema#domain http://example.org/coffee_onto#Coffee\n"
     ]
    }
   ],
   "source": [
    "coffee_onto = get_ontology(\"http://example.org/coffee_onto\")\n",
    "\n",
    "set_log_level(9) # el log a este nivel permite ver lo que se va haciendo en la ontología\n",
    "\n",
    "Coffee -> region(latin_america, Asia_Pacifico, multi_region)\n",
    "\n",
    "with coffee_onto:\n",
    "  class Coffee(Thing): pass\n",
    "\n",
    "  # TODO\n",
    "  class Region(Thing): pass\n",
    "    \n",
    "  class Latin_America(Region): pass\n",
    "  class Asia_Pacific(Region): pass\n",
    "  class Multi_Region(Region): pass\n",
    "\n",
    "  AllDifferent([Latin_America, Asia_Pacific, Multi_Region])\n",
    "\n",
    "  class from_region(ObjectProperty, FunctionalProperty): # FunctionalProperties indica que solo puede relacionarse con 1: un café sólo es de 1 región\n",
    "    domain = [Coffee]\n",
    "    region = [Region]\n",
    "\n",
    "  class Roast(Thing):\n",
    "    pass\n",
    "  \n",
    "  class Dark_Roast(Roast): pass\n",
    "  class Blonde_Roast(Roast): pass\n",
    "  class Medium_Roast(Roast): pass\n",
    "\n",
    "  AllDifferent([Dark_Roast, Blonde_Roast, Medium_Roast])\n",
    "\n",
    "  class has_roast(ObjectProperty, FunctionalProperty):\n",
    "    domain = [Coffee]\n",
    "    region = [Roast]\n",
    "\n"
   ]
  },
  {
   "cell_type": "markdown",
   "metadata": {
    "id": "zz9wWbjSJP5l"
   },
   "source": [
    "Crear al menos tres instancias de cafés con diferentes tipos de tostado y de distintos orígenes."
   ]
  },
  {
   "cell_type": "code",
   "execution_count": null,
   "metadata": {
    "colab": {
     "base_uri": "https://localhost:8080/"
    },
    "id": "YemkrN0VwxMy",
    "outputId": "1339bbb3-d67e-4b76-d1fb-5836579d766e"
   },
   "outputs": [
    {
     "name": "stderr",
     "output_type": "stream",
     "text": [
      "* Owlready2 * ADD TRIPLE http://example.org/coffee_onto#Latinoamerica http://www.w3.org/1999/02/22-rdf-syntax-ns#type http://www.w3.org/2002/07/owl#NamedIndividual\n",
      "* Owlready2 * ADD TRIPLE http://example.org/coffee_onto#Latinoamerica http://www.w3.org/1999/02/22-rdf-syntax-ns#type http://example.org/coffee_onto#Latin_America\n",
      "* Owlready2 * ADD TRIPLE http://example.org/coffee_onto#Asia-Pacifico http://www.w3.org/1999/02/22-rdf-syntax-ns#type http://www.w3.org/2002/07/owl#NamedIndividual\n",
      "* Owlready2 * ADD TRIPLE http://example.org/coffee_onto#Asia-Pacifico http://www.w3.org/1999/02/22-rdf-syntax-ns#type http://example.org/coffee_onto#Asia_Pacific\n",
      "* Owlready2 * ADD TRIPLE http://example.org/coffee_onto#coffee10 http://www.w3.org/1999/02/22-rdf-syntax-ns#type http://www.w3.org/2002/07/owl#NamedIndividual\n",
      "* Owlready2 * ADD TRIPLE http://example.org/coffee_onto#coffee10 http://www.w3.org/1999/02/22-rdf-syntax-ns#type http://example.org/coffee_onto#Coffee\n",
      "* Owlready2 * SET TRIPLE http://example.org/coffee_onto#coffee10 http://example.org/coffee_onto#has_roast http://example.org/coffee_onto#Blonde_Roast\n",
      "* Owlready2 * SET TRIPLE http://example.org/coffee_onto#coffee10 http://example.org/coffee_onto#from_region http://example.org/coffee_onto#Latinoamerica\n",
      "* Owlready2 * ADD TRIPLE http://example.org/coffee_onto#coffee11 http://www.w3.org/1999/02/22-rdf-syntax-ns#type http://www.w3.org/2002/07/owl#NamedIndividual\n",
      "* Owlready2 * ADD TRIPLE http://example.org/coffee_onto#coffee11 http://www.w3.org/1999/02/22-rdf-syntax-ns#type http://example.org/coffee_onto#Coffee\n",
      "* Owlready2 * SET TRIPLE http://example.org/coffee_onto#coffee11 http://example.org/coffee_onto#has_roast http://example.org/coffee_onto#Dark_Roast\n",
      "* Owlready2 * SET TRIPLE http://example.org/coffee_onto#coffee11 http://example.org/coffee_onto#from_region http://example.org/coffee_onto#Asia-Pacifico\n",
      "* Owlready2 * ADD TRIPLE http://example.org/coffee_onto#coffee12 http://www.w3.org/1999/02/22-rdf-syntax-ns#type http://www.w3.org/2002/07/owl#NamedIndividual\n",
      "* Owlready2 * ADD TRIPLE http://example.org/coffee_onto#coffee12 http://www.w3.org/1999/02/22-rdf-syntax-ns#type http://example.org/coffee_onto#Coffee\n",
      "* Owlready2 * SET TRIPLE http://example.org/coffee_onto#coffee12 http://example.org/coffee_onto#has_roast http://example.org/coffee_onto#Medium_Roast\n",
      "* Owlready2 * SET TRIPLE http://example.org/coffee_onto#coffee12 http://example.org/coffee_onto#from_region http://example.org/coffee_onto#Asia-Pacifico\n"
     ]
    }
   ],
   "source": [
    "latam = Latin_America('Latinoamerica')  # TODO\n",
    "apac = Asia_Pacific('Asia-Pacifico')\n",
    "\n",
    "coffee1 = coffee_onto.Coffee(has_roast = Blonde_Roast, from_region=latam)\n",
    "coffee2 = coffee_onto.Coffee(has_roast = Dark_Roast, from_region=apac)\n",
    "coffee3 = coffee_onto.Coffee(has_roast = Medium_Roast, from_region=apac)"
   ]
  },
  {
   "cell_type": "markdown",
   "metadata": {
    "id": "GMpoOFqYJs5F"
   },
   "source": [
    "Se pueden añadir etiquetas en varios idiomas para describir cada una de las instancias. Utilice el método `label` para pasar un array `[]` de cadenas de texto que podrá localizar usando la función `locstr` (https://owlready2.readthedocs.io/en/latest/annotations.html)."
   ]
  },
  {
   "cell_type": "code",
   "execution_count": null,
   "metadata": {
    "colab": {
     "base_uri": "https://localhost:8080/"
    },
    "id": "ZNO3GK-Z11zG",
    "outputId": "8cdb6aa5-2212-41a8-9b94-f30aaf58d808"
   },
   "outputs": [
    {
     "name": "stderr",
     "output_type": "stream",
     "text": [
      "* Owlready2 * ADD TRIPLE http://example.org/coffee_onto#coffee10 http://www.w3.org/2000/01/rdf-schema#label Veranda @en\n",
      "* Owlready2 * ADD TRIPLE http://example.org/coffee_onto#coffee10 http://www.w3.org/2000/01/rdf-schema#label Veranda @es\n",
      "* Owlready2 * ADD TRIPLE http://example.org/coffee_onto#coffee11 http://www.w3.org/2000/01/rdf-schema#label Sumatra @en\n",
      "* Owlready2 * ADD TRIPLE http://example.org/coffee_onto#coffee11 http://www.w3.org/2000/01/rdf-schema#label Sumatra @es\n",
      "* Owlready2 * ADD TRIPLE http://example.org/coffee_onto#coffee12 http://www.w3.org/2000/01/rdf-schema#label Java @en\n",
      "* Owlready2 * ADD TRIPLE http://example.org/coffee_onto#coffee12 http://www.w3.org/2000/01/rdf-schema#label Java @es\n"
     ]
    }
   ],
   "source": [
    "coffee1.label = [ locstr(\"Veranda\", \"en\"), locstr(\"Veranda\", \"es\") ]  # TODO\n",
    "\n",
    "coffee2.label = [ locstr(\"Sumatra\", \"en\"), locstr(\"Sumatra\", \"es\") ]\n",
    "\n",
    "coffee3.label = [ locstr(\"Java\", \"en\"), locstr(\"Java\", \"es\") ]"
   ]
  },
  {
   "cell_type": "markdown",
   "metadata": {
    "id": "Crj6Ku9HMVZ-"
   },
   "source": [
    "Es posible obtener un grafo RDF a partir de las clases e instancias que se han definido para la ontología "
   ]
  },
  {
   "cell_type": "code",
   "execution_count": null,
   "metadata": {
    "colab": {
     "base_uri": "https://localhost:8080/"
    },
    "id": "ExDLMD6Y9P3W",
    "outputId": "4e73ff72-4dc2-4ee6-a151-57fd681a16b6"
   },
   "outputs": [
    {
     "data": {
      "text/plain": [
       "64"
      ]
     },
     "execution_count": 57,
     "metadata": {},
     "output_type": "execute_result"
    }
   ],
   "source": [
    "graph = default_world.as_rdflib_graph()\n",
    "len(graph)"
   ]
  },
  {
   "cell_type": "markdown",
   "metadata": {
    "id": "5T5K_0_5Ne-s"
   },
   "source": [
    "A partir de este punto, es posible consultar los elementos de la ontología con las funciones de `rdflib` o con SPARQL.\n"
   ]
  },
  {
   "cell_type": "code",
   "execution_count": null,
   "metadata": {
    "colab": {
     "base_uri": "https://localhost:8080/"
    },
    "id": "Wa7f3oSbOAXe",
    "outputId": "10b10bfd-5c9e-495a-ac45-c9d9eb39acb0"
   },
   "outputs": [
    {
     "name": "stdout",
     "output_type": "stream",
     "text": [
      " http://example.org/coffee_onto#coffee10  -- http://www.w3.org/2000/01/rdf-schema#label --> Veranda  \n",
      " http://example.org/coffee_onto#coffee10  -- http://www.w3.org/2000/01/rdf-schema#label --> Veranda  \n",
      " http://example.org/coffee_onto#coffee11  -- http://www.w3.org/2000/01/rdf-schema#label --> Sumatra  \n",
      " http://example.org/coffee_onto#coffee11  -- http://www.w3.org/2000/01/rdf-schema#label --> Sumatra  \n",
      " http://example.org/coffee_onto#coffee12  -- http://www.w3.org/2000/01/rdf-schema#label --> Java  \n",
      " http://example.org/coffee_onto#coffee12  -- http://www.w3.org/2000/01/rdf-schema#label --> Java  \n"
     ]
    }
   ],
   "source": [
    "for h, r, t in graph.triples((None,RDFS.label,None)):\n",
    "  print( \" %s  -- %s --> %s  \"  % (h, r ,t) )"
   ]
  },
  {
   "cell_type": "markdown",
   "metadata": {
    "id": "y2KRu4MUOjCV"
   },
   "source": [
    "**Q1 - Usando SPARQL obtenga las etiquetas de las instancias de los cafés definidos en la ontología (filtre por un sólo idioma).**"
   ]
  },
  {
   "cell_type": "code",
   "execution_count": null,
   "metadata": {
    "colab": {
     "base_uri": "https://localhost:8080/"
    },
    "id": "79WrB8wN-OS-",
    "outputId": "01972a38-7a5e-4b45-d1fa-3689b8ecf38a"
   },
   "outputs": [
    {
     "name": "stdout",
     "output_type": "stream",
     "text": [
      "Veranda\n",
      "Sumatra\n",
      "Java\n"
     ]
    }
   ],
   "source": [
    "graph.bind(\"owl\", \"http://www.w3.org/2002/07/owl#\")\n",
    "graph.bind(\"rdfs\", \"http://www.w3.org/2000/01/rdf-schema\")\n",
    "graph.bind(\"\", \"http://example.org/coffee_onto#\")\n",
    "\n",
    "result1 = graph.query(\"\"\" # TODO\n",
    "                SELECT DISTINCT ?label  \n",
    "                WHERE {\n",
    "                  ?x a :Coffee;\n",
    "                    rdfs:label ?label . \n",
    "                    FILTER (lang(?label) = 'en') }\"\"\" )\n",
    "\n",
    "for label in result1:\n",
    "  print (label.asdict()['label'])"
   ]
  },
  {
   "cell_type": "markdown",
   "metadata": {
    "id": "mmfOOIU9QBf2"
   },
   "source": [
    "**Q2 - Obtener el número de cafés que hay definidos por cada una de las regiones**"
   ]
  },
  {
   "cell_type": "code",
   "execution_count": null,
   "metadata": {
    "colab": {
     "base_uri": "https://localhost:8080/"
    },
    "id": "-9GiXoJWP0pK",
    "outputId": "a6a24067-a14b-4d21-e7b7-2541fbc0bb7a"
   },
   "outputs": [
    {
     "name": "stdout",
     "output_type": "stream",
     "text": [
      "Latinoamerica 1\n",
      "Asia-Pacifico 2\n"
     ]
    }
   ],
   "source": [
    "result2 = graph.query(\"\"\" # TODO\n",
    "                SELECT ?reg  (count (?x) as ?count )\n",
    "                WHERE {\n",
    "                  ?x a :Coffee;\n",
    "                     :from_region ?reg .\n",
    "                  }\n",
    "                 GROUP BY ?reg \"\"\" )\n",
    "\n",
    "for zone in result2:\n",
    "  print (zone.asdict()['reg'].split('#')[-1] , zone.asdict()['count'])"
   ]
  },
  {
   "cell_type": "markdown",
   "metadata": {
    "id": "djrfHFG3RmFj"
   },
   "source": [
    "**Q3 - Obtener una tabla con los datos donde cada fila es una instancia definida en la ontología y las columnas son el nombre (`label`), el tipo de tostado (`Roast`) y la región de origen (`Region`) (si las hay). **"
   ]
  },
  {
   "cell_type": "code",
   "execution_count": null,
   "metadata": {
    "colab": {
     "base_uri": "https://localhost:8080/"
    },
    "id": "3o-LHUMmPScV",
    "outputId": "7f3a019a-947a-46ac-8f24-b98a0a77b784"
   },
   "outputs": [
    {
     "name": "stdout",
     "output_type": "stream",
     "text": [
      "Veranda Latinoamerica Blonde_Roast\n",
      "Sumatra Asia-Pacifico Dark_Roast\n",
      "Java Asia-Pacifico Medium_Roast\n"
     ]
    }
   ],
   "source": [
    "result3 = graph.query(\"\"\" # TODO\n",
    "                SELECT ?label ?reg ?roast\n",
    "                WHERE {\n",
    "                  ?x a :Coffee;\n",
    "                     rdfs:label ?label . \n",
    "                     OPTIONAL { ?x :from_region ?reg . }\n",
    "                     OPTIONAL { ?x :has_roast   ?roast.}\n",
    "                      FILTER (lang(?label) = 'en'). } \"\"\" )\n",
    "\n",
    "\n",
    "for row in result3:\n",
    "  r = row.asdict()\n",
    "  print (r['label'], r['reg'].split('#')[-1] , r['roast'].split('#')[-1] )"
   ]
  },
  {
   "cell_type": "code",
   "execution_count": null,
   "metadata": {
    "id": "Dudu5wc7CDuW"
   },
   "outputs": [],
   "source": [
    "coffee_onto.destroy ()"
   ]
  }
 ],
 "metadata": {
  "colab": {
   "collapsed_sections": [],
   "name": "TyFdD_PEC3_2021(sol).ipynb",
   "provenance": []
  },
  "kernelspec": {
   "display_name": "Python 3",
   "language": "python",
   "name": "python3"
  },
  "language_info": {
   "codemirror_mode": {
    "name": "ipython",
    "version": 3
   },
   "file_extension": ".py",
   "mimetype": "text/x-python",
   "name": "python",
   "nbconvert_exporter": "python",
   "pygments_lexer": "ipython3",
   "version": "3.8.3"
  }
 },
 "nbformat": 4,
 "nbformat_minor": 1
}
