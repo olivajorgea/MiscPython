{
 "cells": [
  {
   "cell_type": "markdown",
   "metadata": {
    "id": "ZirPv4oJ2Okf"
   },
   "source": [
    "# PEC1: Tipología y fuentes de datos\n",
    "\n",
    "\n"
   ]
  },
  {
   "cell_type": "markdown",
   "metadata": {
    "id": "VzGlwcvQOfJ3"
   },
   "source": [
    "# Enunciado 2"
   ]
  },
  {
   "cell_type": "code",
   "execution_count": 1,
   "metadata": {
    "id": "xZ2nserm2NU4"
   },
   "outputs": [],
   "source": [
    "# importación de librerías\n",
    "import pandas as pd\n",
    "import numpy as np\n",
    "import io\n",
    "import warnings\n",
    "warnings.simplefilter('ignore', FutureWarning)"
   ]
  },
  {
   "cell_type": "code",
   "execution_count": 26,
   "metadata": {
    "id": "0dTgFesUItE5"
   },
   "outputs": [],
   "source": [
    "# subir archivos de la PEC a colab\n",
    "#from google.colab import files\n",
    "#uploaded = files.upload()"
   ]
  },
  {
   "cell_type": "markdown",
   "metadata": {
    "id": "EN81_Itw2mKN"
   },
   "source": [
    "## 1. Adquisición de datos\n",
    "\n",
    "El paquete [Pandas](https://pandas.pydata.org/pandas-docs/stable/index.html) nos sirve para trabajar más cómodamente con conjuntos de datos (datasets). Para empezar, leeremos los datos que están en formato CSV para colocarlos en una estructura de datos denominada [DataFrames](https://pandas.pydata.org/pandas-docs/stable/reference/api/pandas.DataFrame.html) que facilita las operaciones."
   ]
  },
  {
   "cell_type": "code",
   "execution_count": 2,
   "metadata": {
    "id": "pJVW3-pKFLVV"
   },
   "outputs": [
    {
     "data": {
      "text/html": [
       "<div>\n",
       "<style scoped>\n",
       "    .dataframe tbody tr th:only-of-type {\n",
       "        vertical-align: middle;\n",
       "    }\n",
       "\n",
       "    .dataframe tbody tr th {\n",
       "        vertical-align: top;\n",
       "    }\n",
       "\n",
       "    .dataframe thead th {\n",
       "        text-align: right;\n",
       "    }\n",
       "</style>\n",
       "<table border=\"1\" class=\"dataframe\">\n",
       "  <thead>\n",
       "    <tr style=\"text-align: right;\">\n",
       "      <th></th>\n",
       "      <th>show_id</th>\n",
       "      <th>type</th>\n",
       "      <th>title</th>\n",
       "      <th>director</th>\n",
       "      <th>cast</th>\n",
       "      <th>country</th>\n",
       "      <th>date_added</th>\n",
       "      <th>release_year</th>\n",
       "      <th>rating</th>\n",
       "      <th>duration</th>\n",
       "      <th>listed_in</th>\n",
       "      <th>description</th>\n",
       "    </tr>\n",
       "  </thead>\n",
       "  <tbody>\n",
       "    <tr>\n",
       "      <th>0</th>\n",
       "      <td>s1</td>\n",
       "      <td>TV Show</td>\n",
       "      <td>3%</td>\n",
       "      <td>NaN</td>\n",
       "      <td>João Miguel, Bianca Comparato, Michel Gomes, R...</td>\n",
       "      <td>Brazil</td>\n",
       "      <td>August 14, 2020</td>\n",
       "      <td>2020</td>\n",
       "      <td>TV-MA</td>\n",
       "      <td>4 Seasons</td>\n",
       "      <td>International TV Shows, TV Dramas, TV Sci-Fi &amp;...</td>\n",
       "      <td>In a future where the elite inhabit an island ...</td>\n",
       "    </tr>\n",
       "    <tr>\n",
       "      <th>1</th>\n",
       "      <td>s2</td>\n",
       "      <td>Movie</td>\n",
       "      <td>7:19</td>\n",
       "      <td>Jorge Michel Grau</td>\n",
       "      <td>Demián Bichir, Héctor Bonilla, Oscar Serrano, ...</td>\n",
       "      <td>Mexico</td>\n",
       "      <td>December 23, 2016</td>\n",
       "      <td>2016</td>\n",
       "      <td>TV-MA</td>\n",
       "      <td>93 min</td>\n",
       "      <td>Dramas, International Movies</td>\n",
       "      <td>After a devastating earthquake hits Mexico Cit...</td>\n",
       "    </tr>\n",
       "    <tr>\n",
       "      <th>2</th>\n",
       "      <td>s3</td>\n",
       "      <td>Movie</td>\n",
       "      <td>23:59</td>\n",
       "      <td>Gilbert Chan</td>\n",
       "      <td>Tedd Chan, Stella Chung, Henley Hii, Lawrence ...</td>\n",
       "      <td>Singapore</td>\n",
       "      <td>December 20, 2018</td>\n",
       "      <td>2011</td>\n",
       "      <td>R</td>\n",
       "      <td>78 min</td>\n",
       "      <td>Horror Movies, International Movies</td>\n",
       "      <td>When an army recruit is found dead, his fellow...</td>\n",
       "    </tr>\n",
       "    <tr>\n",
       "      <th>3</th>\n",
       "      <td>s4</td>\n",
       "      <td>Movie</td>\n",
       "      <td>9</td>\n",
       "      <td>Shane Acker</td>\n",
       "      <td>Elijah Wood, John C. Reilly, Jennifer Connelly...</td>\n",
       "      <td>United States</td>\n",
       "      <td>November 16, 2017</td>\n",
       "      <td>2009</td>\n",
       "      <td>PG-13</td>\n",
       "      <td>80 min</td>\n",
       "      <td>Action &amp; Adventure, Independent Movies, Sci-Fi...</td>\n",
       "      <td>In a postapocalyptic world, rag-doll robots hi...</td>\n",
       "    </tr>\n",
       "    <tr>\n",
       "      <th>4</th>\n",
       "      <td>s5</td>\n",
       "      <td>Movie</td>\n",
       "      <td>21</td>\n",
       "      <td>Robert Luketic</td>\n",
       "      <td>Jim Sturgess, Kevin Spacey, Kate Bosworth, Aar...</td>\n",
       "      <td>United States</td>\n",
       "      <td>January 1, 2020</td>\n",
       "      <td>2008</td>\n",
       "      <td>PG-13</td>\n",
       "      <td>123 min</td>\n",
       "      <td>Dramas</td>\n",
       "      <td>A brilliant group of students become card-coun...</td>\n",
       "    </tr>\n",
       "  </tbody>\n",
       "</table>\n",
       "</div>"
      ],
      "text/plain": [
       "  show_id     type  title           director  \\\n",
       "0      s1  TV Show     3%                NaN   \n",
       "1      s2    Movie   7:19  Jorge Michel Grau   \n",
       "2      s3    Movie  23:59       Gilbert Chan   \n",
       "3      s4    Movie      9        Shane Acker   \n",
       "4      s5    Movie     21     Robert Luketic   \n",
       "\n",
       "                                                cast        country  \\\n",
       "0  João Miguel, Bianca Comparato, Michel Gomes, R...         Brazil   \n",
       "1  Demián Bichir, Héctor Bonilla, Oscar Serrano, ...         Mexico   \n",
       "2  Tedd Chan, Stella Chung, Henley Hii, Lawrence ...      Singapore   \n",
       "3  Elijah Wood, John C. Reilly, Jennifer Connelly...  United States   \n",
       "4  Jim Sturgess, Kevin Spacey, Kate Bosworth, Aar...  United States   \n",
       "\n",
       "          date_added  release_year rating   duration  \\\n",
       "0    August 14, 2020          2020  TV-MA  4 Seasons   \n",
       "1  December 23, 2016          2016  TV-MA     93 min   \n",
       "2  December 20, 2018          2011      R     78 min   \n",
       "3  November 16, 2017          2009  PG-13     80 min   \n",
       "4    January 1, 2020          2008  PG-13    123 min   \n",
       "\n",
       "                                           listed_in  \\\n",
       "0  International TV Shows, TV Dramas, TV Sci-Fi &...   \n",
       "1                       Dramas, International Movies   \n",
       "2                Horror Movies, International Movies   \n",
       "3  Action & Adventure, Independent Movies, Sci-Fi...   \n",
       "4                                             Dramas   \n",
       "\n",
       "                                         description  \n",
       "0  In a future where the elite inhabit an island ...  \n",
       "1  After a devastating earthquake hits Mexico Cit...  \n",
       "2  When an army recruit is found dead, his fellow...  \n",
       "3  In a postapocalyptic world, rag-doll robots hi...  \n",
       "4  A brilliant group of students become card-coun...  "
      ]
     },
     "execution_count": 2,
     "metadata": {},
     "output_type": "execute_result"
    }
   ],
   "source": [
    "nfx = pd.read_csv('netflix_titles.csv')\n",
    "nfx.head()"
   ]
  },
  {
   "cell_type": "markdown",
   "metadata": {
    "id": "H5B3JQEflL7g"
   },
   "source": [
    "\n",
    "\n",
    "*   ¿Cuántas filas y cuántas columnas tiene el conjunto de datos?\n",
    "\n",
    "\n"
   ]
  },
  {
   "cell_type": "code",
   "execution_count": 3,
   "metadata": {
    "id": "xlwv4l8FlWQB"
   },
   "outputs": [
    {
     "name": "stdout",
     "output_type": "stream",
     "text": [
      "Número de filas :\n",
      "\t7787\n",
      "Número de columnas :\n",
      "\t12\n"
     ]
    }
   ],
   "source": [
    "columns_number=len(nfx.columns)\n",
    "rows_number=len(nfx)\n",
    "print (\"Número de filas :\\n\\t{}\".format(rows_number))   # TODO\n",
    "print (\"Número de columnas :\\n\\t{}\" .format(columns_number)) # TODO\n"
   ]
  },
  {
   "cell_type": "markdown",
   "metadata": {
    "id": "Lt_evFpU4ZPw"
   },
   "source": [
    "## 2. Descripción de variables\n",
    "\n",
    "\n"
   ]
  },
  {
   "cell_type": "markdown",
   "metadata": {
    "id": "MoH3Jsb2Fgaf"
   },
   "source": [
    "Responder a las siguientes cuestiones:\n",
    "\n",
    "\n",
    "\n",
    "*   ¿Cómo consideras los datos de este conjunto de datos: estructurados, semi-estructurados o no estructurados?\n",
    "\n",
    "\n",
    "\n",
    "*   De las variables que forman el conjunto de datos, indica cuáles son categóricas y cuáles numéricas.\n",
    "\n",
    "\n",
    "\n",
    "*  ¿Qué tipos de datos utiliza python para guardar estas variables?\n",
    "\n",
    "\n",
    "\n",
    "*   Indica, si existen, restricciones sobre los datos.\n",
    "\n",
    "\n",
    "\n"
   ]
  },
  {
   "cell_type": "code",
   "execution_count": 4,
   "metadata": {
    "id": "eHFRZQ-HGvGu"
   },
   "outputs": [
    {
     "name": "stdout",
     "output_type": "stream",
     "text": [
      "Variables\n",
      "['show_id' 'type' 'title' 'director' 'cast' 'country' 'date_added'\n",
      " 'release_year' 'rating' 'duration' 'listed_in' 'description']\n",
      "show_id         object\n",
      "type            object\n",
      "title           object\n",
      "director        object\n",
      "cast            object\n",
      "country         object\n",
      "date_added      object\n",
      "release_year     int64\n",
      "rating          object\n",
      "duration        object\n",
      "listed_in       object\n",
      "description     object\n",
      "dtype: object\n"
     ]
    }
   ],
   "source": [
    "print (\"Variables\")\n",
    "print(nfx.columns.values)\n",
    "print (nfx.dtypes)\n",
    "#TODO"
   ]
  },
  {
   "cell_type": "code",
   "execution_count": 5,
   "metadata": {
    "id": "UOBoe3VtFpmt"
   },
   "outputs": [
    {
     "name": "stdout",
     "output_type": "stream",
     "text": [
      "¿Cómo consideras los datos de este conjunto de datos: estructurados, semi-estructurados o no estructurados?\n",
      "Respuesta :  semi-estructurados\n",
      "De las variables que forman el conjunto de datos, indica cuáles son categóricas y cuáles numéricas\n",
      "Respuesta :  Tenemos dos tipos de datos, Object que podria ser cualquier tipo y int64 que es numerica\n",
      "Respuesta :  Desde una perspectiva estadistica tenemos categoricas: type, country, rating\n",
      "             numerica: release_year, duration. Otros campo tendriamos que discretizar para su uso como categoricas\n",
      "¿Qué tipos de datos utiliza python para guardar estas variables?\n",
      "Respuesta : Python utiliza object cuando tiene diferentes tipos de datos en una sola columna \n",
      "Respuesta : Python utiliza int64 cuando tiene un tipo integer(entero) en una columna \n",
      "Indica, si existen, restricciones sobre los datos\n",
      "Respuesta : Tenemos datos semiestructurados las restricciones la obtendriamos de la capacidad de los tipos de datos \n"
     ]
    }
   ],
   "source": [
    "print (\"¿Cómo consideras los datos de este conjunto de datos: estructurados, semi-estructurados o no estructurados?\" )\n",
    "print(\"Respuesta :  semi-estructurados\")\n",
    "print (\"De las variables que forman el conjunto de datos, indica cuáles son categóricas y cuáles numéricas\")\n",
    "print(\"Respuesta :  Tenemos dos tipos de datos, Object que podria ser cualquier tipo y int64 que es numerica\")\n",
    "print(\"Respuesta :  Desde una perspectiva estadistica tenemos categoricas: type, country, rating\")\n",
    "print(\"             numerica: release_year, duration. Otros campo tendriamos que discretizar para su uso como categoricas\")\n",
    "print (\"¿Qué tipos de datos utiliza python para guardar estas variables?\")\n",
    "print(\"Respuesta : Python utiliza object cuando tiene diferentes tipos de datos en una sola columna \")\n",
    "print(\"Respuesta : Python utiliza int64 cuando tiene un tipo integer(entero) en una columna \")\n",
    "print (\"Indica, si existen, restricciones sobre los datos\")\n",
    "print(\"Respuesta : Tenemos datos semiestructurados las restricciones la obtendriamos de la capacidad de los tipos de datos \")"
   ]
  },
  {
   "cell_type": "markdown",
   "metadata": {
    "id": "R-QgH4bH6YDW"
   },
   "source": [
    "## 3. Filtrado y subconjuntos\n",
    "\n",
    "En muchas ocasiones necesitamos trabajar con solo parte de un dataset, es decir, un subconjunto. Exiten diferentes formas de hacer esto: usando etiquetas (nombre de columnas), rangos numéricos o especificando la localización por índice."
   ]
  },
  {
   "cell_type": "markdown",
   "metadata": {
    "id": "Hps7xeqXgJZc"
   },
   "source": [
    "### 3.1 Selección por etiquetas\n",
    "\n",
    "En Python se usan los corchetes `[]` para seleccionar un subconjunto de un objeto DataFrame. Por ejemplo, para seleccionar todos los datos de una columna denominada `release year` se usa `nfx['release_year']`:\n"
   ]
  },
  {
   "cell_type": "code",
   "execution_count": 6,
   "metadata": {
    "id": "w4MT_N1TZRR2"
   },
   "outputs": [
    {
     "data": {
      "text/plain": [
       "0       2020\n",
       "1       2016\n",
       "2       2011\n",
       "3       2009\n",
       "4       2008\n",
       "        ... \n",
       "7782    2005\n",
       "7783    2015\n",
       "7784    2019\n",
       "7785    2019\n",
       "7786    2019\n",
       "Name: release_year, Length: 7787, dtype: int64"
      ]
     },
     "execution_count": 6,
     "metadata": {},
     "output_type": "execute_result"
    }
   ],
   "source": [
    "release_years = nfx['release_year']\n",
    "release_years"
   ]
  },
  {
   "cell_type": "markdown",
   "metadata": {
    "id": "cKjcxKfCbxsd"
   },
   "source": [
    "- ¿Qué tipo de datos es `release_years`? Consideras que es una variable numérica o categórica?\n"
   ]
  },
  {
   "cell_type": "code",
   "execution_count": 7,
   "metadata": {
    "id": "iDXvBiUcxGUm"
   },
   "outputs": [
    {
     "name": "stdout",
     "output_type": "stream",
     "text": [
      "La variable release_year is una variable numerica discreta\n"
     ]
    }
   ],
   "source": [
    "# TODO\n",
    "print(\"La variable release_year is una variable numerica discreta\")"
   ]
  },
  {
   "cell_type": "markdown",
   "metadata": {
    "id": "jdq2p3LwcE8d"
   },
   "source": [
    "### 3.2 Selección por rangos\n",
    "\n",
    "Recordad que Python utiliza la indexación con origen en 0, es decir, que el primer elemento de un array se encuentra en la posición 0 ( y no en el 1).\n",
    "\n"
   ]
  },
  {
   "cell_type": "code",
   "execution_count": 8,
   "metadata": {
    "id": "BeFyI_BzZTmr"
   },
   "outputs": [
    {
     "name": "stdout",
     "output_type": "stream",
     "text": [
      "2020\n"
     ]
    }
   ],
   "source": [
    "print (release_years[0])"
   ]
  },
  {
   "cell_type": "markdown",
   "metadata": {
    "id": "gB3PAvNedKap"
   },
   "source": [
    "Mediante el operador `[]` es posible seleccionar conjunto de filas y columnas de un DataFrame. Para seleccionar un conjunto de filas se puede usar `datos[inicio:fin]`. Así si queremos selecciona las filas 0, 1 y 2 usaremos el código:"
   ]
  },
  {
   "cell_type": "code",
   "execution_count": 9,
   "metadata": {
    "id": "bRX_ANtzctQy"
   },
   "outputs": [
    {
     "name": "stdout",
     "output_type": "stream",
     "text": [
      "0    2020\n",
      "1    2016\n",
      "2    2011\n",
      "Name: release_year, dtype: int64\n",
      "0    2020\n",
      "1    2016\n",
      "2    2011\n",
      "3    2009\n",
      "Name: release_year, dtype: int64\n",
      "7786    2019\n",
      "Name: release_year, dtype: int64\n"
     ]
    }
   ],
   "source": [
    "# seleccionar las filas 0, 1 y 2 (la 3 no será seleccionada)\n",
    "print (release_years[0:3])\n",
    "\n",
    "# seleccionar las filas 4 primeras filas ( 0, 1, 2 y 3 )\n",
    "print (release_years[:4])\n",
    "\n",
    "# seleccionar la última fila\n",
    "print ( release_years [-1:])"
   ]
  },
  {
   "cell_type": "markdown",
   "metadata": {
    "id": "0jv0qRAGe1eE"
   },
   "source": [
    "### 3.3 Selección de filas y columnas \n",
    "\n",
    "Es posible especificar rangos tanto en filas como en columnas de los DataFrame usando tanto etiquetas como rangos:\n",
    "\n",
    "+ usando `loc` que se basa en etiquetas\n",
    "\n",
    "+ usando `iloc` que se basa fundamentalmente en rangos de enteros\n"
   ]
  },
  {
   "cell_type": "code",
   "execution_count": 10,
   "metadata": {
    "id": "nL0jxyUHeAzI"
   },
   "outputs": [
    {
     "data": {
      "text/html": [
       "<div>\n",
       "<style scoped>\n",
       "    .dataframe tbody tr th:only-of-type {\n",
       "        vertical-align: middle;\n",
       "    }\n",
       "\n",
       "    .dataframe tbody tr th {\n",
       "        vertical-align: top;\n",
       "    }\n",
       "\n",
       "    .dataframe thead th {\n",
       "        text-align: right;\n",
       "    }\n",
       "</style>\n",
       "<table border=\"1\" class=\"dataframe\">\n",
       "  <thead>\n",
       "    <tr style=\"text-align: right;\">\n",
       "      <th></th>\n",
       "      <th>title</th>\n",
       "      <th>rating</th>\n",
       "      <th>release_year</th>\n",
       "    </tr>\n",
       "  </thead>\n",
       "  <tbody>\n",
       "    <tr>\n",
       "      <th>3</th>\n",
       "      <td>9</td>\n",
       "      <td>PG-13</td>\n",
       "      <td>2009</td>\n",
       "    </tr>\n",
       "    <tr>\n",
       "      <th>2</th>\n",
       "      <td>23:59</td>\n",
       "      <td>R</td>\n",
       "      <td>2011</td>\n",
       "    </tr>\n",
       "    <tr>\n",
       "      <th>4</th>\n",
       "      <td>21</td>\n",
       "      <td>PG-13</td>\n",
       "      <td>2008</td>\n",
       "    </tr>\n",
       "  </tbody>\n",
       "</table>\n",
       "</div>"
      ],
      "text/plain": [
       "   title rating  release_year\n",
       "3      9  PG-13          2009\n",
       "2  23:59      R          2011\n",
       "4     21  PG-13          2008"
      ]
     },
     "execution_count": 10,
     "metadata": {},
     "output_type": "execute_result"
    }
   ],
   "source": [
    "nfx.loc [ [3, 2, 4], ['title' , 'rating' ,  'release_year']]"
   ]
  },
  {
   "cell_type": "code",
   "execution_count": 11,
   "metadata": {
    "id": "JXjmwDRag8Tf"
   },
   "outputs": [
    {
     "data": {
      "text/html": [
       "<div>\n",
       "<style scoped>\n",
       "    .dataframe tbody tr th:only-of-type {\n",
       "        vertical-align: middle;\n",
       "    }\n",
       "\n",
       "    .dataframe tbody tr th {\n",
       "        vertical-align: top;\n",
       "    }\n",
       "\n",
       "    .dataframe thead th {\n",
       "        text-align: right;\n",
       "    }\n",
       "</style>\n",
       "<table border=\"1\" class=\"dataframe\">\n",
       "  <thead>\n",
       "    <tr style=\"text-align: right;\">\n",
       "      <th></th>\n",
       "      <th>type</th>\n",
       "      <th>title</th>\n",
       "      <th>release_year</th>\n",
       "    </tr>\n",
       "  </thead>\n",
       "  <tbody>\n",
       "    <tr>\n",
       "      <th>4</th>\n",
       "      <td>Movie</td>\n",
       "      <td>21</td>\n",
       "      <td>2008</td>\n",
       "    </tr>\n",
       "    <tr>\n",
       "      <th>9</th>\n",
       "      <td>Movie</td>\n",
       "      <td>1920</td>\n",
       "      <td>2008</td>\n",
       "    </tr>\n",
       "    <tr>\n",
       "      <th>11</th>\n",
       "      <td>TV Show</td>\n",
       "      <td>1983</td>\n",
       "      <td>2018</td>\n",
       "    </tr>\n",
       "  </tbody>\n",
       "</table>\n",
       "</div>"
      ],
      "text/plain": [
       "       type title  release_year\n",
       "4     Movie    21          2008\n",
       "9     Movie  1920          2008\n",
       "11  TV Show  1983          2018"
      ]
     },
     "execution_count": 11,
     "metadata": {},
     "output_type": "execute_result"
    }
   ],
   "source": [
    "nfx.iloc [ [ 4, 9, 11 ], [ 1 , 2, 7 ] ]"
   ]
  },
  {
   "cell_type": "markdown",
   "metadata": {
    "id": "248mudf7h8Wi"
   },
   "source": [
    "### 3.4 Selección usando parámetros\n",
    "\n",
    "También es posible seleccionar datos criterios o restricciones. Por ejemplo, es posible seleccionar los títulos de un año concreto:"
   ]
  },
  {
   "cell_type": "code",
   "execution_count": 12,
   "metadata": {
    "id": "OYzSvEaYhlAw"
   },
   "outputs": [
    {
     "data": {
      "text/html": [
       "<div>\n",
       "<style scoped>\n",
       "    .dataframe tbody tr th:only-of-type {\n",
       "        vertical-align: middle;\n",
       "    }\n",
       "\n",
       "    .dataframe tbody tr th {\n",
       "        vertical-align: top;\n",
       "    }\n",
       "\n",
       "    .dataframe thead th {\n",
       "        text-align: right;\n",
       "    }\n",
       "</style>\n",
       "<table border=\"1\" class=\"dataframe\">\n",
       "  <thead>\n",
       "    <tr style=\"text-align: right;\">\n",
       "      <th></th>\n",
       "      <th>title</th>\n",
       "    </tr>\n",
       "  </thead>\n",
       "  <tbody>\n",
       "    <tr>\n",
       "      <th>381</th>\n",
       "      <td>Alexandria ... Why?</td>\n",
       "    </tr>\n",
       "    <tr>\n",
       "      <th>1949</th>\n",
       "      <td>El Chavo</td>\n",
       "    </tr>\n",
       "    <tr>\n",
       "      <th>2463</th>\n",
       "      <td>Gol Maal</td>\n",
       "    </tr>\n",
       "    <tr>\n",
       "      <th>3823</th>\n",
       "      <td>Lupin the 3rd: The Castle of Cagliostro: Speci...</td>\n",
       "    </tr>\n",
       "    <tr>\n",
       "      <th>3837</th>\n",
       "      <td>Mad Max</td>\n",
       "    </tr>\n",
       "  </tbody>\n",
       "</table>\n",
       "</div>"
      ],
      "text/plain": [
       "                                                  title\n",
       "381                                 Alexandria ... Why?\n",
       "1949                                           El Chavo\n",
       "2463                                           Gol Maal\n",
       "3823  Lupin the 3rd: The Castle of Cagliostro: Speci...\n",
       "3837                                            Mad Max"
      ]
     },
     "execution_count": 12,
     "metadata": {},
     "output_type": "execute_result"
    }
   ],
   "source": [
    "nfx.loc [ nfx['release_year'] == 1979 , ['title']].head(5)"
   ]
  },
  {
   "cell_type": "markdown",
   "metadata": {
    "id": "7iqBc65CrVXH"
   },
   "source": [
    "Los siguientes son algunos de los operadores disponibles para consultar datos en un DataFrame:\n",
    "\n",
    "+ Igual: ==\n",
    "+ Distinto: !=\n",
    "+ Mayor que o menor que: > o <\n",
    "+ Mayor o igual: >=\n",
    "+ Menor o igual: <=\n",
    "\n",
    "También es posible encadenar varias condiciones con los operadores lógicos:\n"
   ]
  },
  {
   "cell_type": "code",
   "execution_count": 13,
   "metadata": {
    "id": "TMVl2O8btOh8"
   },
   "outputs": [
    {
     "data": {
      "text/html": [
       "<div>\n",
       "<style scoped>\n",
       "    .dataframe tbody tr th:only-of-type {\n",
       "        vertical-align: middle;\n",
       "    }\n",
       "\n",
       "    .dataframe tbody tr th {\n",
       "        vertical-align: top;\n",
       "    }\n",
       "\n",
       "    .dataframe thead th {\n",
       "        text-align: right;\n",
       "    }\n",
       "</style>\n",
       "<table border=\"1\" class=\"dataframe\">\n",
       "  <thead>\n",
       "    <tr style=\"text-align: right;\">\n",
       "      <th></th>\n",
       "      <th>title</th>\n",
       "      <th>rating</th>\n",
       "      <th>release_year</th>\n",
       "    </tr>\n",
       "  </thead>\n",
       "  <tbody>\n",
       "    <tr>\n",
       "      <th>4960</th>\n",
       "      <td>Prelude to War</td>\n",
       "      <td>TV-14</td>\n",
       "      <td>1942</td>\n",
       "    </tr>\n",
       "    <tr>\n",
       "      <th>6117</th>\n",
       "      <td>The Battle of Midway</td>\n",
       "      <td>TV-14</td>\n",
       "      <td>1942</td>\n",
       "    </tr>\n",
       "    <tr>\n",
       "      <th>6657</th>\n",
       "      <td>The Memphis Belle: A Story of a\\nFlying Fortress</td>\n",
       "      <td>TV-PG</td>\n",
       "      <td>1944</td>\n",
       "    </tr>\n",
       "    <tr>\n",
       "      <th>6699</th>\n",
       "      <td>The Negro Soldier</td>\n",
       "      <td>TV-14</td>\n",
       "      <td>1944</td>\n",
       "    </tr>\n",
       "    <tr>\n",
       "      <th>7268</th>\n",
       "      <td>Tunisian Victory</td>\n",
       "      <td>TV-14</td>\n",
       "      <td>1944</td>\n",
       "    </tr>\n",
       "  </tbody>\n",
       "</table>\n",
       "</div>"
      ],
      "text/plain": [
       "                                                 title rating  release_year\n",
       "4960                                    Prelude to War  TV-14          1942\n",
       "6117                              The Battle of Midway  TV-14          1942\n",
       "6657  The Memphis Belle: A Story of a\\nFlying Fortress  TV-PG          1944\n",
       "6699                                 The Negro Soldier  TV-14          1944\n",
       "7268                                  Tunisian Victory  TV-14          1944"
      ]
     },
     "execution_count": 13,
     "metadata": {},
     "output_type": "execute_result"
    }
   ],
   "source": [
    "nfx.loc [ ( nfx['type'] ==  'Movie' ) & ( nfx['release_year'] < 1945),  ['title' , 'rating' ,  'release_year']].head(5)"
   ]
  },
  {
   "cell_type": "markdown",
   "metadata": {
    "id": "i0hdwfFjjoFr"
   },
   "source": [
    "\n",
    "+ ¿Cuántas clasificaciones distintas tiene la variable `rating` ?\n",
    "\n",
    "+ Usando [Categorical](https://pandas.pydata.org/pandas-docs/version/0.23.4/generated/pandas.Categorical.html), cree una nueva columna/variable `rating_cat` categorizando los datos de la columna `rating`.\n",
    "\n",
    "\n",
    "\n"
   ]
  },
  {
   "cell_type": "markdown",
   "metadata": {
    "id": "-1a8hfoTIr9i"
   },
   "source": [
    "Crear una variable categórica ordenada para la variable `rating`."
   ]
  },
  {
   "cell_type": "code",
   "execution_count": 14,
   "metadata": {
    "id": "iO1dOYBuHooI"
   },
   "outputs": [
    {
     "name": "stdout",
     "output_type": "stream",
     "text": [
      "El numero de clasificaciones que tiene la variable rating es :\n",
      "\t14\n"
     ]
    },
    {
     "data": {
      "text/plain": [
       "CategoricalDtype(categories=['G', 'NC-17', 'NR', 'PG', 'PG-13', 'R', 'TV-14', 'TV-G',\n",
       "                  'TV-MA', 'TV-PG', 'TV-Y', 'TV-Y7', 'TV-Y7-FV', 'UR'],\n",
       ", ordered=True)"
      ]
     },
     "execution_count": 14,
     "metadata": {},
     "output_type": "execute_result"
    }
   ],
   "source": [
    "#TODO\n",
    "# We are going to know how many clasification have the rating colum \n",
    "ratings =  pd.Categorical(nfx['rating'] )\n",
    "print (\"El numero de clasificaciones que tiene la variable rating es :\\n\\t{}\".format(len(ratings.categories)))   # TODO\n",
    "\n",
    "#TODO\n",
    "# We are going to create our categorical variable  \n",
    "nfx['rating_cat'] = pd.Categorical(nfx['rating'],ordered=True )\n",
    "nfx['rating_cat'].dtype\n",
    "\n"
   ]
  },
  {
   "cell_type": "markdown",
   "metadata": {
    "id": "TMj3mYMcGu1y"
   },
   "source": [
    "## 4. Agrupando datos "
   ]
  },
  {
   "cell_type": "markdown",
   "metadata": {
    "id": "l1BJcDs-2Lvi"
   },
   "source": [
    "La funcionalidad proporcionada en Pandas por `groupby` es muy potente permitiendo cortar y fragmentar los datos para obtener diferentes vistas de los mismos.\n",
    "\n",
    "Si queremos ver el número de producciones que hay para cada una de las clasicación por edades, sólo hay que agrupar por esa variable y aplicar la función `size()` para ver el tamaño de cada una."
   ]
  },
  {
   "cell_type": "code",
   "execution_count": 15,
   "metadata": {
    "id": "RaRIExAU3KPp"
   },
   "outputs": [
    {
     "data": {
      "text/plain": [
       "rating_cat\n",
       "G             39\n",
       "NC-17          3\n",
       "NR            84\n",
       "PG           247\n",
       "PG-13        386\n",
       "R            665\n",
       "TV-14       1931\n",
       "TV-G         194\n",
       "TV-MA       2863\n",
       "TV-PG        806\n",
       "TV-Y         280\n",
       "TV-Y7        271\n",
       "TV-Y7-FV       6\n",
       "UR             5\n",
       "dtype: int64"
      ]
     },
     "execution_count": 15,
     "metadata": {},
     "output_type": "execute_result"
    }
   ],
   "source": [
    "nfx[['rating_cat']].groupby ('rating_cat').size()\n"
   ]
  },
  {
   "cell_type": "markdown",
   "metadata": {
    "id": "zTPDgom44GBy"
   },
   "source": [
    "Si no se seleccionan columnas y se aplica `groupby` a todo el conjunto de datos, todas las columnas numéricas se agruparan según la función de agregación indicada."
   ]
  },
  {
   "cell_type": "code",
   "execution_count": 16,
   "metadata": {
    "id": "Y04ig9RF4Kc5"
   },
   "outputs": [
    {
     "data": {
      "text/html": [
       "<div>\n",
       "<style scoped>\n",
       "    .dataframe tbody tr th:only-of-type {\n",
       "        vertical-align: middle;\n",
       "    }\n",
       "\n",
       "    .dataframe tbody tr th {\n",
       "        vertical-align: top;\n",
       "    }\n",
       "\n",
       "    .dataframe thead tr th {\n",
       "        text-align: left;\n",
       "    }\n",
       "\n",
       "    .dataframe thead tr:last-of-type th {\n",
       "        text-align: right;\n",
       "    }\n",
       "</style>\n",
       "<table border=\"1\" class=\"dataframe\">\n",
       "  <thead>\n",
       "    <tr>\n",
       "      <th></th>\n",
       "      <th colspan=\"3\" halign=\"left\">release_year</th>\n",
       "    </tr>\n",
       "    <tr>\n",
       "      <th></th>\n",
       "      <th>min</th>\n",
       "      <th>mean</th>\n",
       "      <th>max</th>\n",
       "    </tr>\n",
       "    <tr>\n",
       "      <th>rating_cat</th>\n",
       "      <th></th>\n",
       "      <th></th>\n",
       "      <th></th>\n",
       "    </tr>\n",
       "  </thead>\n",
       "  <tbody>\n",
       "    <tr>\n",
       "      <th>G</th>\n",
       "      <td>1956</td>\n",
       "      <td>1998.410256</td>\n",
       "      <td>2020</td>\n",
       "    </tr>\n",
       "    <tr>\n",
       "      <th>NC-17</th>\n",
       "      <td>2013</td>\n",
       "      <td>2015.000000</td>\n",
       "      <td>2018</td>\n",
       "    </tr>\n",
       "    <tr>\n",
       "      <th>NR</th>\n",
       "      <td>1958</td>\n",
       "      <td>2010.619048</td>\n",
       "      <td>2018</td>\n",
       "    </tr>\n",
       "    <tr>\n",
       "      <th>PG</th>\n",
       "      <td>1973</td>\n",
       "      <td>2008.935223</td>\n",
       "      <td>2020</td>\n",
       "    </tr>\n",
       "    <tr>\n",
       "      <th>PG-13</th>\n",
       "      <td>1955</td>\n",
       "      <td>2009.318653</td>\n",
       "      <td>2020</td>\n",
       "    </tr>\n",
       "    <tr>\n",
       "      <th>R</th>\n",
       "      <td>1962</td>\n",
       "      <td>2010.601504</td>\n",
       "      <td>2021</td>\n",
       "    </tr>\n",
       "    <tr>\n",
       "      <th>TV-14</th>\n",
       "      <td>1925</td>\n",
       "      <td>2013.139824</td>\n",
       "      <td>2021</td>\n",
       "    </tr>\n",
       "    <tr>\n",
       "      <th>TV-G</th>\n",
       "      <td>1954</td>\n",
       "      <td>2015.061856</td>\n",
       "      <td>2021</td>\n",
       "    </tr>\n",
       "    <tr>\n",
       "      <th>TV-MA</th>\n",
       "      <td>1945</td>\n",
       "      <td>2016.368495</td>\n",
       "      <td>2021</td>\n",
       "    </tr>\n",
       "    <tr>\n",
       "      <th>TV-PG</th>\n",
       "      <td>1943</td>\n",
       "      <td>2013.133995</td>\n",
       "      <td>2021</td>\n",
       "    </tr>\n",
       "    <tr>\n",
       "      <th>TV-Y</th>\n",
       "      <td>1992</td>\n",
       "      <td>2016.932143</td>\n",
       "      <td>2021</td>\n",
       "    </tr>\n",
       "    <tr>\n",
       "      <th>TV-Y7</th>\n",
       "      <td>1981</td>\n",
       "      <td>2015.040590</td>\n",
       "      <td>2021</td>\n",
       "    </tr>\n",
       "    <tr>\n",
       "      <th>TV-Y7-FV</th>\n",
       "      <td>2012</td>\n",
       "      <td>2014.833333</td>\n",
       "      <td>2018</td>\n",
       "    </tr>\n",
       "    <tr>\n",
       "      <th>UR</th>\n",
       "      <td>1974</td>\n",
       "      <td>2002.400000</td>\n",
       "      <td>2016</td>\n",
       "    </tr>\n",
       "  </tbody>\n",
       "</table>\n",
       "</div>"
      ],
      "text/plain": [
       "           release_year                   \n",
       "                    min         mean   max\n",
       "rating_cat                                \n",
       "G                  1956  1998.410256  2020\n",
       "NC-17              2013  2015.000000  2018\n",
       "NR                 1958  2010.619048  2018\n",
       "PG                 1973  2008.935223  2020\n",
       "PG-13              1955  2009.318653  2020\n",
       "R                  1962  2010.601504  2021\n",
       "TV-14              1925  2013.139824  2021\n",
       "TV-G               1954  2015.061856  2021\n",
       "TV-MA              1945  2016.368495  2021\n",
       "TV-PG              1943  2013.133995  2021\n",
       "TV-Y               1992  2016.932143  2021\n",
       "TV-Y7              1981  2015.040590  2021\n",
       "TV-Y7-FV           2012  2014.833333  2018\n",
       "UR                 1974  2002.400000  2016"
      ]
     },
     "execution_count": 16,
     "metadata": {},
     "output_type": "execute_result"
    }
   ],
   "source": [
    "nfx.groupby ('rating_cat').agg(['min','mean','max'])"
   ]
  },
  {
   "cell_type": "markdown",
   "metadata": {
    "id": "x345_mdw5QdP"
   },
   "source": [
    "También se pueden ordenar los resultados añadiendo la función `sort_values()`."
   ]
  },
  {
   "cell_type": "code",
   "execution_count": 17,
   "metadata": {
    "id": "kz7j0qE75aH0"
   },
   "outputs": [
    {
     "data": {
      "text/html": [
       "<div>\n",
       "<style scoped>\n",
       "    .dataframe tbody tr th:only-of-type {\n",
       "        vertical-align: middle;\n",
       "    }\n",
       "\n",
       "    .dataframe tbody tr th {\n",
       "        vertical-align: top;\n",
       "    }\n",
       "\n",
       "    .dataframe thead tr th {\n",
       "        text-align: left;\n",
       "    }\n",
       "\n",
       "    .dataframe thead tr:last-of-type th {\n",
       "        text-align: right;\n",
       "    }\n",
       "</style>\n",
       "<table border=\"1\" class=\"dataframe\">\n",
       "  <thead>\n",
       "    <tr>\n",
       "      <th></th>\n",
       "      <th colspan=\"3\" halign=\"left\">release_year</th>\n",
       "    </tr>\n",
       "    <tr>\n",
       "      <th></th>\n",
       "      <th>min</th>\n",
       "      <th>mean</th>\n",
       "      <th>max</th>\n",
       "    </tr>\n",
       "    <tr>\n",
       "      <th>rating_cat</th>\n",
       "      <th></th>\n",
       "      <th></th>\n",
       "      <th></th>\n",
       "    </tr>\n",
       "  </thead>\n",
       "  <tbody>\n",
       "    <tr>\n",
       "      <th>TV-14</th>\n",
       "      <td>1925</td>\n",
       "      <td>2013.139824</td>\n",
       "      <td>2021</td>\n",
       "    </tr>\n",
       "    <tr>\n",
       "      <th>TV-PG</th>\n",
       "      <td>1943</td>\n",
       "      <td>2013.133995</td>\n",
       "      <td>2021</td>\n",
       "    </tr>\n",
       "    <tr>\n",
       "      <th>TV-MA</th>\n",
       "      <td>1945</td>\n",
       "      <td>2016.368495</td>\n",
       "      <td>2021</td>\n",
       "    </tr>\n",
       "    <tr>\n",
       "      <th>TV-G</th>\n",
       "      <td>1954</td>\n",
       "      <td>2015.061856</td>\n",
       "      <td>2021</td>\n",
       "    </tr>\n",
       "    <tr>\n",
       "      <th>PG-13</th>\n",
       "      <td>1955</td>\n",
       "      <td>2009.318653</td>\n",
       "      <td>2020</td>\n",
       "    </tr>\n",
       "    <tr>\n",
       "      <th>G</th>\n",
       "      <td>1956</td>\n",
       "      <td>1998.410256</td>\n",
       "      <td>2020</td>\n",
       "    </tr>\n",
       "    <tr>\n",
       "      <th>NR</th>\n",
       "      <td>1958</td>\n",
       "      <td>2010.619048</td>\n",
       "      <td>2018</td>\n",
       "    </tr>\n",
       "    <tr>\n",
       "      <th>R</th>\n",
       "      <td>1962</td>\n",
       "      <td>2010.601504</td>\n",
       "      <td>2021</td>\n",
       "    </tr>\n",
       "    <tr>\n",
       "      <th>PG</th>\n",
       "      <td>1973</td>\n",
       "      <td>2008.935223</td>\n",
       "      <td>2020</td>\n",
       "    </tr>\n",
       "    <tr>\n",
       "      <th>UR</th>\n",
       "      <td>1974</td>\n",
       "      <td>2002.400000</td>\n",
       "      <td>2016</td>\n",
       "    </tr>\n",
       "    <tr>\n",
       "      <th>TV-Y7</th>\n",
       "      <td>1981</td>\n",
       "      <td>2015.040590</td>\n",
       "      <td>2021</td>\n",
       "    </tr>\n",
       "    <tr>\n",
       "      <th>TV-Y</th>\n",
       "      <td>1992</td>\n",
       "      <td>2016.932143</td>\n",
       "      <td>2021</td>\n",
       "    </tr>\n",
       "    <tr>\n",
       "      <th>TV-Y7-FV</th>\n",
       "      <td>2012</td>\n",
       "      <td>2014.833333</td>\n",
       "      <td>2018</td>\n",
       "    </tr>\n",
       "    <tr>\n",
       "      <th>NC-17</th>\n",
       "      <td>2013</td>\n",
       "      <td>2015.000000</td>\n",
       "      <td>2018</td>\n",
       "    </tr>\n",
       "  </tbody>\n",
       "</table>\n",
       "</div>"
      ],
      "text/plain": [
       "           release_year                   \n",
       "                    min         mean   max\n",
       "rating_cat                                \n",
       "TV-14              1925  2013.139824  2021\n",
       "TV-PG              1943  2013.133995  2021\n",
       "TV-MA              1945  2016.368495  2021\n",
       "TV-G               1954  2015.061856  2021\n",
       "PG-13              1955  2009.318653  2020\n",
       "G                  1956  1998.410256  2020\n",
       "NR                 1958  2010.619048  2018\n",
       "R                  1962  2010.601504  2021\n",
       "PG                 1973  2008.935223  2020\n",
       "UR                 1974  2002.400000  2016\n",
       "TV-Y7              1981  2015.040590  2021\n",
       "TV-Y               1992  2016.932143  2021\n",
       "TV-Y7-FV           2012  2014.833333  2018\n",
       "NC-17              2013  2015.000000  2018"
      ]
     },
     "execution_count": 17,
     "metadata": {},
     "output_type": "execute_result"
    }
   ],
   "source": [
    "nfx.groupby ('rating_cat').agg(['min','mean','max']).sort_values ([('release_year','min')])"
   ]
  },
  {
   "cell_type": "markdown",
   "metadata": {
    "id": "rC2jya266YuP"
   },
   "source": [
    "Las variables de la función `groupby` forman el índice de la DataFrame resultante. Es posible cambiar este comportamiento mediante el parámetro `as_index`."
   ]
  },
  {
   "cell_type": "code",
   "execution_count": 18,
   "metadata": {
    "id": "2zTcYilT68mE"
   },
   "outputs": [
    {
     "data": {
      "text/html": [
       "<div>\n",
       "<style scoped>\n",
       "    .dataframe tbody tr th:only-of-type {\n",
       "        vertical-align: middle;\n",
       "    }\n",
       "\n",
       "    .dataframe tbody tr th {\n",
       "        vertical-align: top;\n",
       "    }\n",
       "\n",
       "    .dataframe thead tr th {\n",
       "        text-align: left;\n",
       "    }\n",
       "\n",
       "    .dataframe thead tr:last-of-type th {\n",
       "        text-align: right;\n",
       "    }\n",
       "</style>\n",
       "<table border=\"1\" class=\"dataframe\">\n",
       "  <thead>\n",
       "    <tr>\n",
       "      <th></th>\n",
       "      <th colspan=\"3\" halign=\"left\">release_year</th>\n",
       "    </tr>\n",
       "    <tr>\n",
       "      <th></th>\n",
       "      <th>min</th>\n",
       "      <th>mean</th>\n",
       "      <th>max</th>\n",
       "    </tr>\n",
       "    <tr>\n",
       "      <th>rating_cat</th>\n",
       "      <th></th>\n",
       "      <th></th>\n",
       "      <th></th>\n",
       "    </tr>\n",
       "  </thead>\n",
       "  <tbody>\n",
       "    <tr>\n",
       "      <th>G</th>\n",
       "      <td>1956</td>\n",
       "      <td>1998.410256</td>\n",
       "      <td>2020</td>\n",
       "    </tr>\n",
       "    <tr>\n",
       "      <th>NC-17</th>\n",
       "      <td>2013</td>\n",
       "      <td>2015.000000</td>\n",
       "      <td>2018</td>\n",
       "    </tr>\n",
       "    <tr>\n",
       "      <th>NR</th>\n",
       "      <td>1958</td>\n",
       "      <td>2010.619048</td>\n",
       "      <td>2018</td>\n",
       "    </tr>\n",
       "    <tr>\n",
       "      <th>PG</th>\n",
       "      <td>1973</td>\n",
       "      <td>2008.935223</td>\n",
       "      <td>2020</td>\n",
       "    </tr>\n",
       "    <tr>\n",
       "      <th>PG-13</th>\n",
       "      <td>1955</td>\n",
       "      <td>2009.318653</td>\n",
       "      <td>2020</td>\n",
       "    </tr>\n",
       "    <tr>\n",
       "      <th>R</th>\n",
       "      <td>1962</td>\n",
       "      <td>2010.601504</td>\n",
       "      <td>2021</td>\n",
       "    </tr>\n",
       "    <tr>\n",
       "      <th>TV-14</th>\n",
       "      <td>1925</td>\n",
       "      <td>2013.139824</td>\n",
       "      <td>2021</td>\n",
       "    </tr>\n",
       "    <tr>\n",
       "      <th>TV-G</th>\n",
       "      <td>1954</td>\n",
       "      <td>2015.061856</td>\n",
       "      <td>2021</td>\n",
       "    </tr>\n",
       "    <tr>\n",
       "      <th>TV-MA</th>\n",
       "      <td>1945</td>\n",
       "      <td>2016.368495</td>\n",
       "      <td>2021</td>\n",
       "    </tr>\n",
       "    <tr>\n",
       "      <th>TV-PG</th>\n",
       "      <td>1943</td>\n",
       "      <td>2013.133995</td>\n",
       "      <td>2021</td>\n",
       "    </tr>\n",
       "    <tr>\n",
       "      <th>TV-Y</th>\n",
       "      <td>1992</td>\n",
       "      <td>2016.932143</td>\n",
       "      <td>2021</td>\n",
       "    </tr>\n",
       "    <tr>\n",
       "      <th>TV-Y7</th>\n",
       "      <td>1981</td>\n",
       "      <td>2015.040590</td>\n",
       "      <td>2021</td>\n",
       "    </tr>\n",
       "    <tr>\n",
       "      <th>TV-Y7-FV</th>\n",
       "      <td>2012</td>\n",
       "      <td>2014.833333</td>\n",
       "      <td>2018</td>\n",
       "    </tr>\n",
       "    <tr>\n",
       "      <th>UR</th>\n",
       "      <td>1974</td>\n",
       "      <td>2002.400000</td>\n",
       "      <td>2016</td>\n",
       "    </tr>\n",
       "  </tbody>\n",
       "</table>\n",
       "</div>"
      ],
      "text/plain": [
       "           release_year                   \n",
       "                    min         mean   max\n",
       "rating_cat                                \n",
       "G                  1956  1998.410256  2020\n",
       "NC-17              2013  2015.000000  2018\n",
       "NR                 1958  2010.619048  2018\n",
       "PG                 1973  2008.935223  2020\n",
       "PG-13              1955  2009.318653  2020\n",
       "R                  1962  2010.601504  2021\n",
       "TV-14              1925  2013.139824  2021\n",
       "TV-G               1954  2015.061856  2021\n",
       "TV-MA              1945  2016.368495  2021\n",
       "TV-PG              1943  2013.133995  2021\n",
       "TV-Y               1992  2016.932143  2021\n",
       "TV-Y7              1981  2015.040590  2021\n",
       "TV-Y7-FV           2012  2014.833333  2018\n",
       "UR                 1974  2002.400000  2016"
      ]
     },
     "execution_count": 18,
     "metadata": {},
     "output_type": "execute_result"
    }
   ],
   "source": [
    "nfx.groupby ('rating_cat', as_index=False).agg(['min','mean','max'])"
   ]
  },
  {
   "cell_type": "markdown",
   "metadata": {
    "id": "wA5Klm9n4CPd"
   },
   "source": [
    "--- \n",
    "Vamos a analizar los años para los que hay datos:\n",
    "\n",
    "* Obtener la lista de los años para los que hay datos"
   ]
  },
  {
   "cell_type": "code",
   "execution_count": 19,
   "metadata": {
    "id": "feHXci514IQX"
   },
   "outputs": [
    {
     "data": {
      "text/html": [
       "<div>\n",
       "<style scoped>\n",
       "    .dataframe tbody tr th:only-of-type {\n",
       "        vertical-align: middle;\n",
       "    }\n",
       "\n",
       "    .dataframe tbody tr th {\n",
       "        vertical-align: top;\n",
       "    }\n",
       "\n",
       "    .dataframe thead th {\n",
       "        text-align: right;\n",
       "    }\n",
       "</style>\n",
       "<table border=\"1\" class=\"dataframe\">\n",
       "  <thead>\n",
       "    <tr style=\"text-align: right;\">\n",
       "      <th></th>\n",
       "      <th>show_id</th>\n",
       "      <th>type</th>\n",
       "      <th>title</th>\n",
       "      <th>director</th>\n",
       "      <th>cast</th>\n",
       "      <th>country</th>\n",
       "      <th>date_added</th>\n",
       "      <th>release_year</th>\n",
       "      <th>rating</th>\n",
       "      <th>duration</th>\n",
       "      <th>listed_in</th>\n",
       "      <th>description</th>\n",
       "      <th>rating_cat</th>\n",
       "    </tr>\n",
       "  </thead>\n",
       "  <tbody>\n",
       "    <tr>\n",
       "      <th>0</th>\n",
       "      <td>s1</td>\n",
       "      <td>TV Show</td>\n",
       "      <td>3%</td>\n",
       "      <td>NaN</td>\n",
       "      <td>João Miguel, Bianca Comparato, Michel Gomes, R...</td>\n",
       "      <td>Brazil</td>\n",
       "      <td>August 14, 2020</td>\n",
       "      <td>2020</td>\n",
       "      <td>TV-MA</td>\n",
       "      <td>4 Seasons</td>\n",
       "      <td>International TV Shows, TV Dramas, TV Sci-Fi &amp;...</td>\n",
       "      <td>In a future where the elite inhabit an island ...</td>\n",
       "      <td>TV-MA</td>\n",
       "    </tr>\n",
       "    <tr>\n",
       "      <th>1</th>\n",
       "      <td>s2</td>\n",
       "      <td>Movie</td>\n",
       "      <td>7:19</td>\n",
       "      <td>Jorge Michel Grau</td>\n",
       "      <td>Demián Bichir, Héctor Bonilla, Oscar Serrano, ...</td>\n",
       "      <td>Mexico</td>\n",
       "      <td>December 23, 2016</td>\n",
       "      <td>2016</td>\n",
       "      <td>TV-MA</td>\n",
       "      <td>93 min</td>\n",
       "      <td>Dramas, International Movies</td>\n",
       "      <td>After a devastating earthquake hits Mexico Cit...</td>\n",
       "      <td>TV-MA</td>\n",
       "    </tr>\n",
       "    <tr>\n",
       "      <th>2</th>\n",
       "      <td>s3</td>\n",
       "      <td>Movie</td>\n",
       "      <td>23:59</td>\n",
       "      <td>Gilbert Chan</td>\n",
       "      <td>Tedd Chan, Stella Chung, Henley Hii, Lawrence ...</td>\n",
       "      <td>Singapore</td>\n",
       "      <td>December 20, 2018</td>\n",
       "      <td>2011</td>\n",
       "      <td>R</td>\n",
       "      <td>78 min</td>\n",
       "      <td>Horror Movies, International Movies</td>\n",
       "      <td>When an army recruit is found dead, his fellow...</td>\n",
       "      <td>R</td>\n",
       "    </tr>\n",
       "    <tr>\n",
       "      <th>3</th>\n",
       "      <td>s4</td>\n",
       "      <td>Movie</td>\n",
       "      <td>9</td>\n",
       "      <td>Shane Acker</td>\n",
       "      <td>Elijah Wood, John C. Reilly, Jennifer Connelly...</td>\n",
       "      <td>United States</td>\n",
       "      <td>November 16, 2017</td>\n",
       "      <td>2009</td>\n",
       "      <td>PG-13</td>\n",
       "      <td>80 min</td>\n",
       "      <td>Action &amp; Adventure, Independent Movies, Sci-Fi...</td>\n",
       "      <td>In a postapocalyptic world, rag-doll robots hi...</td>\n",
       "      <td>PG-13</td>\n",
       "    </tr>\n",
       "    <tr>\n",
       "      <th>4</th>\n",
       "      <td>s5</td>\n",
       "      <td>Movie</td>\n",
       "      <td>21</td>\n",
       "      <td>Robert Luketic</td>\n",
       "      <td>Jim Sturgess, Kevin Spacey, Kate Bosworth, Aar...</td>\n",
       "      <td>United States</td>\n",
       "      <td>January 1, 2020</td>\n",
       "      <td>2008</td>\n",
       "      <td>PG-13</td>\n",
       "      <td>123 min</td>\n",
       "      <td>Dramas</td>\n",
       "      <td>A brilliant group of students become card-coun...</td>\n",
       "      <td>PG-13</td>\n",
       "    </tr>\n",
       "    <tr>\n",
       "      <th>...</th>\n",
       "      <td>...</td>\n",
       "      <td>...</td>\n",
       "      <td>...</td>\n",
       "      <td>...</td>\n",
       "      <td>...</td>\n",
       "      <td>...</td>\n",
       "      <td>...</td>\n",
       "      <td>...</td>\n",
       "      <td>...</td>\n",
       "      <td>...</td>\n",
       "      <td>...</td>\n",
       "      <td>...</td>\n",
       "      <td>...</td>\n",
       "    </tr>\n",
       "    <tr>\n",
       "      <th>7782</th>\n",
       "      <td>s7783</td>\n",
       "      <td>Movie</td>\n",
       "      <td>Zozo</td>\n",
       "      <td>Josef Fares</td>\n",
       "      <td>Imad Creidi, Antoinette Turk, Elias Gergi, Car...</td>\n",
       "      <td>Sweden, Czech Republic, United Kingdom, Denmar...</td>\n",
       "      <td>October 19, 2020</td>\n",
       "      <td>2005</td>\n",
       "      <td>TV-MA</td>\n",
       "      <td>99 min</td>\n",
       "      <td>Dramas, International Movies</td>\n",
       "      <td>When Lebanon's Civil War deprives Zozo of his ...</td>\n",
       "      <td>TV-MA</td>\n",
       "    </tr>\n",
       "    <tr>\n",
       "      <th>7783</th>\n",
       "      <td>s7784</td>\n",
       "      <td>Movie</td>\n",
       "      <td>Zubaan</td>\n",
       "      <td>Mozez Singh</td>\n",
       "      <td>Vicky Kaushal, Sarah-Jane Dias, Raaghav Chanan...</td>\n",
       "      <td>India</td>\n",
       "      <td>March 2, 2019</td>\n",
       "      <td>2015</td>\n",
       "      <td>TV-14</td>\n",
       "      <td>111 min</td>\n",
       "      <td>Dramas, International Movies, Music &amp; Musicals</td>\n",
       "      <td>A scrappy but poor boy worms his way into a ty...</td>\n",
       "      <td>TV-14</td>\n",
       "    </tr>\n",
       "    <tr>\n",
       "      <th>7784</th>\n",
       "      <td>s7785</td>\n",
       "      <td>Movie</td>\n",
       "      <td>Zulu Man in Japan</td>\n",
       "      <td>NaN</td>\n",
       "      <td>Nasty C</td>\n",
       "      <td>NaN</td>\n",
       "      <td>September 25, 2020</td>\n",
       "      <td>2019</td>\n",
       "      <td>TV-MA</td>\n",
       "      <td>44 min</td>\n",
       "      <td>Documentaries, International Movies, Music &amp; M...</td>\n",
       "      <td>In this documentary, South African rapper Nast...</td>\n",
       "      <td>TV-MA</td>\n",
       "    </tr>\n",
       "    <tr>\n",
       "      <th>7785</th>\n",
       "      <td>s7786</td>\n",
       "      <td>TV Show</td>\n",
       "      <td>Zumbo's Just Desserts</td>\n",
       "      <td>NaN</td>\n",
       "      <td>Adriano Zumbo, Rachel Khoo</td>\n",
       "      <td>Australia</td>\n",
       "      <td>October 31, 2020</td>\n",
       "      <td>2019</td>\n",
       "      <td>TV-PG</td>\n",
       "      <td>1 Season</td>\n",
       "      <td>International TV Shows, Reality TV</td>\n",
       "      <td>Dessert wizard Adriano Zumbo looks for the nex...</td>\n",
       "      <td>TV-PG</td>\n",
       "    </tr>\n",
       "    <tr>\n",
       "      <th>7786</th>\n",
       "      <td>s7787</td>\n",
       "      <td>Movie</td>\n",
       "      <td>ZZ TOP: THAT LITTLE OL' BAND FROM TEXAS</td>\n",
       "      <td>Sam Dunn</td>\n",
       "      <td>NaN</td>\n",
       "      <td>United Kingdom, Canada, United States</td>\n",
       "      <td>March 1, 2020</td>\n",
       "      <td>2019</td>\n",
       "      <td>TV-MA</td>\n",
       "      <td>90 min</td>\n",
       "      <td>Documentaries, Music &amp; Musicals</td>\n",
       "      <td>This documentary delves into the mystique behi...</td>\n",
       "      <td>TV-MA</td>\n",
       "    </tr>\n",
       "  </tbody>\n",
       "</table>\n",
       "<p>7787 rows × 13 columns</p>\n",
       "</div>"
      ],
      "text/plain": [
       "     show_id     type                                    title  \\\n",
       "0         s1  TV Show                                       3%   \n",
       "1         s2    Movie                                     7:19   \n",
       "2         s3    Movie                                    23:59   \n",
       "3         s4    Movie                                        9   \n",
       "4         s5    Movie                                       21   \n",
       "...      ...      ...                                      ...   \n",
       "7782   s7783    Movie                                     Zozo   \n",
       "7783   s7784    Movie                                   Zubaan   \n",
       "7784   s7785    Movie                        Zulu Man in Japan   \n",
       "7785   s7786  TV Show                    Zumbo's Just Desserts   \n",
       "7786   s7787    Movie  ZZ TOP: THAT LITTLE OL' BAND FROM TEXAS   \n",
       "\n",
       "               director                                               cast  \\\n",
       "0                   NaN  João Miguel, Bianca Comparato, Michel Gomes, R...   \n",
       "1     Jorge Michel Grau  Demián Bichir, Héctor Bonilla, Oscar Serrano, ...   \n",
       "2          Gilbert Chan  Tedd Chan, Stella Chung, Henley Hii, Lawrence ...   \n",
       "3           Shane Acker  Elijah Wood, John C. Reilly, Jennifer Connelly...   \n",
       "4        Robert Luketic  Jim Sturgess, Kevin Spacey, Kate Bosworth, Aar...   \n",
       "...                 ...                                                ...   \n",
       "7782        Josef Fares  Imad Creidi, Antoinette Turk, Elias Gergi, Car...   \n",
       "7783        Mozez Singh  Vicky Kaushal, Sarah-Jane Dias, Raaghav Chanan...   \n",
       "7784                NaN                                            Nasty C   \n",
       "7785                NaN                         Adriano Zumbo, Rachel Khoo   \n",
       "7786           Sam Dunn                                                NaN   \n",
       "\n",
       "                                                country          date_added  \\\n",
       "0                                                Brazil     August 14, 2020   \n",
       "1                                                Mexico   December 23, 2016   \n",
       "2                                             Singapore   December 20, 2018   \n",
       "3                                         United States   November 16, 2017   \n",
       "4                                         United States     January 1, 2020   \n",
       "...                                                 ...                 ...   \n",
       "7782  Sweden, Czech Republic, United Kingdom, Denmar...    October 19, 2020   \n",
       "7783                                              India       March 2, 2019   \n",
       "7784                                                NaN  September 25, 2020   \n",
       "7785                                          Australia    October 31, 2020   \n",
       "7786              United Kingdom, Canada, United States       March 1, 2020   \n",
       "\n",
       "      release_year rating   duration  \\\n",
       "0             2020  TV-MA  4 Seasons   \n",
       "1             2016  TV-MA     93 min   \n",
       "2             2011      R     78 min   \n",
       "3             2009  PG-13     80 min   \n",
       "4             2008  PG-13    123 min   \n",
       "...            ...    ...        ...   \n",
       "7782          2005  TV-MA     99 min   \n",
       "7783          2015  TV-14    111 min   \n",
       "7784          2019  TV-MA     44 min   \n",
       "7785          2019  TV-PG   1 Season   \n",
       "7786          2019  TV-MA     90 min   \n",
       "\n",
       "                                              listed_in  \\\n",
       "0     International TV Shows, TV Dramas, TV Sci-Fi &...   \n",
       "1                          Dramas, International Movies   \n",
       "2                   Horror Movies, International Movies   \n",
       "3     Action & Adventure, Independent Movies, Sci-Fi...   \n",
       "4                                                Dramas   \n",
       "...                                                 ...   \n",
       "7782                       Dramas, International Movies   \n",
       "7783     Dramas, International Movies, Music & Musicals   \n",
       "7784  Documentaries, International Movies, Music & M...   \n",
       "7785                 International TV Shows, Reality TV   \n",
       "7786                    Documentaries, Music & Musicals   \n",
       "\n",
       "                                            description rating_cat  \n",
       "0     In a future where the elite inhabit an island ...      TV-MA  \n",
       "1     After a devastating earthquake hits Mexico Cit...      TV-MA  \n",
       "2     When an army recruit is found dead, his fellow...          R  \n",
       "3     In a postapocalyptic world, rag-doll robots hi...      PG-13  \n",
       "4     A brilliant group of students become card-coun...      PG-13  \n",
       "...                                                 ...        ...  \n",
       "7782  When Lebanon's Civil War deprives Zozo of his ...      TV-MA  \n",
       "7783  A scrappy but poor boy worms his way into a ty...      TV-14  \n",
       "7784  In this documentary, South African rapper Nast...      TV-MA  \n",
       "7785  Dessert wizard Adriano Zumbo looks for the nex...      TV-PG  \n",
       "7786  This documentary delves into the mystique behi...      TV-MA  \n",
       "\n",
       "[7787 rows x 13 columns]"
      ]
     },
     "execution_count": 19,
     "metadata": {},
     "output_type": "execute_result"
    }
   ],
   "source": [
    "#TODO\n",
    "# We filter the data without values \n",
    "nfx_notnull =nfx[nfx.release_year.notnull()]\n",
    "nfx_notnull\n"
   ]
  },
  {
   "cell_type": "markdown",
   "metadata": {
    "id": "BPTjQ_u6mjtn"
   },
   "source": [
    "\n",
    "\n",
    "\n",
    "Vamos a practicar las agrupaciones en el conjunto de datos de Netflix. \n",
    "\n",
    "- Agrupar, para cada año, el número de películas y de series de TV, a partir de año 2010 en adelante."
   ]
  },
  {
   "cell_type": "code",
   "execution_count": 20,
   "metadata": {
    "id": "3W6HjnpKmkRU"
   },
   "outputs": [
    {
     "data": {
      "text/html": [
       "<div>\n",
       "<style scoped>\n",
       "    .dataframe tbody tr th:only-of-type {\n",
       "        vertical-align: middle;\n",
       "    }\n",
       "\n",
       "    .dataframe tbody tr th {\n",
       "        vertical-align: top;\n",
       "    }\n",
       "\n",
       "    .dataframe thead th {\n",
       "        text-align: right;\n",
       "    }\n",
       "</style>\n",
       "<table border=\"1\" class=\"dataframe\">\n",
       "  <thead>\n",
       "    <tr style=\"text-align: right;\">\n",
       "      <th></th>\n",
       "      <th>release_year</th>\n",
       "      <th>type</th>\n",
       "      <th>size</th>\n",
       "    </tr>\n",
       "  </thead>\n",
       "  <tbody>\n",
       "    <tr>\n",
       "      <th>0</th>\n",
       "      <td>2010</td>\n",
       "      <td>Movie</td>\n",
       "      <td>136</td>\n",
       "    </tr>\n",
       "    <tr>\n",
       "      <th>1</th>\n",
       "      <td>2010</td>\n",
       "      <td>TV Show</td>\n",
       "      <td>37</td>\n",
       "    </tr>\n",
       "    <tr>\n",
       "      <th>2</th>\n",
       "      <td>2011</td>\n",
       "      <td>Movie</td>\n",
       "      <td>127</td>\n",
       "    </tr>\n",
       "    <tr>\n",
       "      <th>3</th>\n",
       "      <td>2011</td>\n",
       "      <td>TV Show</td>\n",
       "      <td>39</td>\n",
       "    </tr>\n",
       "    <tr>\n",
       "      <th>4</th>\n",
       "      <td>2012</td>\n",
       "      <td>Movie</td>\n",
       "      <td>158</td>\n",
       "    </tr>\n",
       "    <tr>\n",
       "      <th>5</th>\n",
       "      <td>2012</td>\n",
       "      <td>TV Show</td>\n",
       "      <td>61</td>\n",
       "    </tr>\n",
       "    <tr>\n",
       "      <th>6</th>\n",
       "      <td>2013</td>\n",
       "      <td>Movie</td>\n",
       "      <td>202</td>\n",
       "    </tr>\n",
       "    <tr>\n",
       "      <th>7</th>\n",
       "      <td>2013</td>\n",
       "      <td>TV Show</td>\n",
       "      <td>65</td>\n",
       "    </tr>\n",
       "    <tr>\n",
       "      <th>8</th>\n",
       "      <td>2014</td>\n",
       "      <td>Movie</td>\n",
       "      <td>244</td>\n",
       "    </tr>\n",
       "    <tr>\n",
       "      <th>9</th>\n",
       "      <td>2014</td>\n",
       "      <td>TV Show</td>\n",
       "      <td>90</td>\n",
       "    </tr>\n",
       "    <tr>\n",
       "      <th>10</th>\n",
       "      <td>2015</td>\n",
       "      <td>Movie</td>\n",
       "      <td>382</td>\n",
       "    </tr>\n",
       "    <tr>\n",
       "      <th>11</th>\n",
       "      <td>2015</td>\n",
       "      <td>TV Show</td>\n",
       "      <td>159</td>\n",
       "    </tr>\n",
       "    <tr>\n",
       "      <th>12</th>\n",
       "      <td>2016</td>\n",
       "      <td>Movie</td>\n",
       "      <td>642</td>\n",
       "    </tr>\n",
       "    <tr>\n",
       "      <th>13</th>\n",
       "      <td>2016</td>\n",
       "      <td>TV Show</td>\n",
       "      <td>240</td>\n",
       "    </tr>\n",
       "    <tr>\n",
       "      <th>14</th>\n",
       "      <td>2017</td>\n",
       "      <td>Movie</td>\n",
       "      <td>744</td>\n",
       "    </tr>\n",
       "    <tr>\n",
       "      <th>15</th>\n",
       "      <td>2017</td>\n",
       "      <td>TV Show</td>\n",
       "      <td>268</td>\n",
       "    </tr>\n",
       "    <tr>\n",
       "      <th>16</th>\n",
       "      <td>2018</td>\n",
       "      <td>Movie</td>\n",
       "      <td>734</td>\n",
       "    </tr>\n",
       "    <tr>\n",
       "      <th>17</th>\n",
       "      <td>2018</td>\n",
       "      <td>TV Show</td>\n",
       "      <td>387</td>\n",
       "    </tr>\n",
       "    <tr>\n",
       "      <th>18</th>\n",
       "      <td>2019</td>\n",
       "      <td>Movie</td>\n",
       "      <td>582</td>\n",
       "    </tr>\n",
       "    <tr>\n",
       "      <th>19</th>\n",
       "      <td>2019</td>\n",
       "      <td>TV Show</td>\n",
       "      <td>414</td>\n",
       "    </tr>\n",
       "    <tr>\n",
       "      <th>20</th>\n",
       "      <td>2020</td>\n",
       "      <td>Movie</td>\n",
       "      <td>411</td>\n",
       "    </tr>\n",
       "    <tr>\n",
       "      <th>21</th>\n",
       "      <td>2020</td>\n",
       "      <td>TV Show</td>\n",
       "      <td>457</td>\n",
       "    </tr>\n",
       "    <tr>\n",
       "      <th>22</th>\n",
       "      <td>2021</td>\n",
       "      <td>Movie</td>\n",
       "      <td>12</td>\n",
       "    </tr>\n",
       "    <tr>\n",
       "      <th>23</th>\n",
       "      <td>2021</td>\n",
       "      <td>TV Show</td>\n",
       "      <td>19</td>\n",
       "    </tr>\n",
       "  </tbody>\n",
       "</table>\n",
       "</div>"
      ],
      "text/plain": [
       "    release_year     type  size\n",
       "0           2010    Movie   136\n",
       "1           2010  TV Show    37\n",
       "2           2011    Movie   127\n",
       "3           2011  TV Show    39\n",
       "4           2012    Movie   158\n",
       "5           2012  TV Show    61\n",
       "6           2013    Movie   202\n",
       "7           2013  TV Show    65\n",
       "8           2014    Movie   244\n",
       "9           2014  TV Show    90\n",
       "10          2015    Movie   382\n",
       "11          2015  TV Show   159\n",
       "12          2016    Movie   642\n",
       "13          2016  TV Show   240\n",
       "14          2017    Movie   744\n",
       "15          2017  TV Show   268\n",
       "16          2018    Movie   734\n",
       "17          2018  TV Show   387\n",
       "18          2019    Movie   582\n",
       "19          2019  TV Show   414\n",
       "20          2020    Movie   411\n",
       "21          2020  TV Show   457\n",
       "22          2021    Movie    12\n",
       "23          2021  TV Show    19"
      ]
     },
     "execution_count": 20,
     "metadata": {},
     "output_type": "execute_result"
    }
   ],
   "source": [
    "# TODO\n",
    "#We obtain the items  from 2010 using the data frame nfx_notnull\n",
    "nfx_year_data =nfx_notnull.loc [ nfx_notnull['release_year'] >= 2010 ]  # TODO\n",
    "#We group by year and type of movie\n",
    "nfx_year_data=nfx_year_data.groupby (['release_year','type'],as_index=False) ['show_id'].size()\n",
    "nfx_year_data\n"
   ]
  },
  {
   "cell_type": "code",
   "execution_count": 21,
   "metadata": {
    "id": "2VqoECHknfkR"
   },
   "outputs": [
    {
     "data": {
      "text/plain": [
       "pandas.core.frame.DataFrame"
      ]
     },
     "execution_count": 21,
     "metadata": {},
     "output_type": "execute_result"
    },
    {
     "data": {
      "image/png": "[encoded data removed]",
      "text/plain": [
       "<Figure size 1152x432 with 1 Axes>"
      ]
     },
     "metadata": {
      "needs_background": "light"
     },
     "output_type": "display_data"
    }
   ],
   "source": [
    "import matplotlib.pyplot as plt\n",
    "%matplotlib inline\n",
    "import seaborn as sns\n",
    "\n",
    "\n",
    "plt.figure(figsize=(16,6))\n",
    "\n",
    "sns.barplot(x=\"release_year\", y=\"size\", hue=\"type\", data=nfx_year_data)\n",
    "plt.xlabel(\"Year\")\n",
    "plt.ylabel(\"Frequency\")\n",
    "type(nfx_year_data)"
   ]
  },
  {
   "cell_type": "markdown",
   "metadata": {
    "id": "JKuj6srMrj5q"
   },
   "source": [
    "\n",
    "\n",
    "*   ¿Cuál es el año que más películas tiene en la plataforma? ¿Y series?\n",
    "\n"
   ]
  },
  {
   "cell_type": "code",
   "execution_count": 22,
   "metadata": {
    "id": "rXBiTJsh8GL7"
   },
   "outputs": [
    {
     "name": "stdout",
     "output_type": "stream",
     "text": [
      "The maximum of movies was   744 in the  year   2017\n",
      "The maximum of series was   457 in the  year   2020\n"
     ]
    }
   ],
   "source": [
    "# TODO\n",
    "# Print the year with the most movies \n",
    "nfx_year_movie=nfx_year_data.loc [ ( nfx_year_data['type'] ==  'Movie' ),  ['release_year','size' ]]\n",
    "year_movies, max_movies = nfx_year_movie.loc[nfx_year_movie['size'].idxmax(),  ['release_year','size' ]]\n",
    "print (\"The maximum of movies was %5d in the  year  %5d\" % (max_movies,year_movies))\n",
    "\n",
    "# Print the year with the most series\n",
    "nfx_year_serie=nfx_year_data.loc [ ( nfx_year_data['type'] ==  'TV Show' ),  ['release_year','size' ]]\n",
    "year_serie, max_serie = nfx_year_serie.loc[nfx_year_serie['size'].idxmax(),  ['release_year','size' ]]\n",
    "print (\"The maximum of series was %5d in the  year  %5d\" % (max_serie,year_serie))\n"
   ]
  },
  {
   "cell_type": "markdown",
   "metadata": {
    "id": "44rfxmc1_Un6"
   },
   "source": [
    "En este otro bloque vamos a analizar qué países son los originarios de más producciones para la plataforma. \n",
    "\n",
    "- Agrupar el número de producciones por países "
   ]
  },
  {
   "cell_type": "code",
   "execution_count": 23,
   "metadata": {
    "id": "EK8vjMhgrkVO"
   },
   "outputs": [
    {
     "data": {
      "text/html": [
       "<div>\n",
       "<style scoped>\n",
       "    .dataframe tbody tr th:only-of-type {\n",
       "        vertical-align: middle;\n",
       "    }\n",
       "\n",
       "    .dataframe tbody tr th {\n",
       "        vertical-align: top;\n",
       "    }\n",
       "\n",
       "    .dataframe thead th {\n",
       "        text-align: right;\n",
       "    }\n",
       "</style>\n",
       "<table border=\"1\" class=\"dataframe\">\n",
       "  <thead>\n",
       "    <tr style=\"text-align: right;\">\n",
       "      <th></th>\n",
       "      <th>country</th>\n",
       "      <th>size</th>\n",
       "    </tr>\n",
       "  </thead>\n",
       "  <tbody>\n",
       "    <tr>\n",
       "      <th>0</th>\n",
       "      <td>Argentina</td>\n",
       "      <td>50</td>\n",
       "    </tr>\n",
       "    <tr>\n",
       "      <th>1</th>\n",
       "      <td>Argentina, Brazil, France, Poland, Germany, De...</td>\n",
       "      <td>1</td>\n",
       "    </tr>\n",
       "    <tr>\n",
       "      <th>2</th>\n",
       "      <td>Argentina, Chile</td>\n",
       "      <td>1</td>\n",
       "    </tr>\n",
       "    <tr>\n",
       "      <th>3</th>\n",
       "      <td>Argentina, Chile, Peru</td>\n",
       "      <td>1</td>\n",
       "    </tr>\n",
       "    <tr>\n",
       "      <th>4</th>\n",
       "      <td>Argentina, France</td>\n",
       "      <td>1</td>\n",
       "    </tr>\n",
       "  </tbody>\n",
       "</table>\n",
       "</div>"
      ],
      "text/plain": [
       "                                             country  size\n",
       "0                                          Argentina    50\n",
       "1  Argentina, Brazil, France, Poland, Germany, De...     1\n",
       "2                                   Argentina, Chile     1\n",
       "3                             Argentina, Chile, Peru     1\n",
       "4                                  Argentina, France     1"
      ]
     },
     "execution_count": 23,
     "metadata": {},
     "output_type": "execute_result"
    }
   ],
   "source": [
    "# TODO\n",
    "# We grouped by country \n",
    "nfx_country_data = nfx.groupby (['country'],as_index=False) ['country'].size()# TODO\n",
    "nfx_country_data.head(5)"
   ]
  },
  {
   "cell_type": "markdown",
   "metadata": {
    "id": "P2G5f6bOr_mu"
   },
   "source": [
    "En algunos casos, observamos que hay varios países involucrados en una película o serie. \n",
    "\n",
    "- Crear una columna nueva que contendrá sólo el primer país de la lista y volver a agrupar, ordenando los países de más a menos producciones."
   ]
  },
  {
   "cell_type": "code",
   "execution_count": 26,
   "metadata": {
    "id": "FNglhxK9smHj"
   },
   "outputs": [
    {
     "data": {
      "text/html": [
       "<div>\n",
       "<style scoped>\n",
       "    .dataframe tbody tr th:only-of-type {\n",
       "        vertical-align: middle;\n",
       "    }\n",
       "\n",
       "    .dataframe tbody tr th {\n",
       "        vertical-align: top;\n",
       "    }\n",
       "\n",
       "    .dataframe thead th {\n",
       "        text-align: right;\n",
       "    }\n",
       "</style>\n",
       "<table border=\"1\" class=\"dataframe\">\n",
       "  <thead>\n",
       "    <tr style=\"text-align: right;\">\n",
       "      <th></th>\n",
       "      <th>country_1</th>\n",
       "      <th>size</th>\n",
       "    </tr>\n",
       "  </thead>\n",
       "  <tbody>\n",
       "    <tr>\n",
       "      <th>75</th>\n",
       "      <td>United States</td>\n",
       "      <td>2883</td>\n",
       "    </tr>\n",
       "    <tr>\n",
       "      <th>28</th>\n",
       "      <td>India</td>\n",
       "      <td>956</td>\n",
       "    </tr>\n",
       "    <tr>\n",
       "      <th>74</th>\n",
       "      <td>United Kingdom</td>\n",
       "      <td>577</td>\n",
       "    </tr>\n",
       "    <tr>\n",
       "      <th>9</th>\n",
       "      <td>Canada</td>\n",
       "      <td>259</td>\n",
       "    </tr>\n",
       "    <tr>\n",
       "      <th>35</th>\n",
       "      <td>Japan</td>\n",
       "      <td>237</td>\n",
       "    </tr>\n",
       "    <tr>\n",
       "      <th>19</th>\n",
       "      <td>France</td>\n",
       "      <td>196</td>\n",
       "    </tr>\n",
       "    <tr>\n",
       "      <th>64</th>\n",
       "      <td>South Korea</td>\n",
       "      <td>194</td>\n",
       "    </tr>\n",
       "    <tr>\n",
       "      <th>66</th>\n",
       "      <td>Spain</td>\n",
       "      <td>168</td>\n",
       "    </tr>\n",
       "    <tr>\n",
       "      <th>42</th>\n",
       "      <td>Mexico</td>\n",
       "      <td>123</td>\n",
       "    </tr>\n",
       "    <tr>\n",
       "      <th>1</th>\n",
       "      <td>Australia</td>\n",
       "      <td>108</td>\n",
       "    </tr>\n",
       "    <tr>\n",
       "      <th>71</th>\n",
       "      <td>Turkey</td>\n",
       "      <td>106</td>\n",
       "    </tr>\n",
       "    <tr>\n",
       "      <th>17</th>\n",
       "      <td>Egypt</td>\n",
       "      <td>105</td>\n",
       "    </tr>\n",
       "    <tr>\n",
       "      <th>21</th>\n",
       "      <td>Germany</td>\n",
       "      <td>92</td>\n",
       "    </tr>\n",
       "    <tr>\n",
       "      <th>11</th>\n",
       "      <td>China</td>\n",
       "      <td>86</td>\n",
       "    </tr>\n",
       "    <tr>\n",
       "      <th>69</th>\n",
       "      <td>Taiwan</td>\n",
       "      <td>82</td>\n",
       "    </tr>\n",
       "    <tr>\n",
       "      <th>6</th>\n",
       "      <td>Brazil</td>\n",
       "      <td>79</td>\n",
       "    </tr>\n",
       "    <tr>\n",
       "      <th>25</th>\n",
       "      <td>Hong Kong</td>\n",
       "      <td>77</td>\n",
       "    </tr>\n",
       "    <tr>\n",
       "      <th>29</th>\n",
       "      <td>Indonesia</td>\n",
       "      <td>76</td>\n",
       "    </tr>\n",
       "    <tr>\n",
       "      <th>51</th>\n",
       "      <td>Philippines</td>\n",
       "      <td>75</td>\n",
       "    </tr>\n",
       "    <tr>\n",
       "      <th>46</th>\n",
       "      <td>Nigeria</td>\n",
       "      <td>71</td>\n",
       "    </tr>\n",
       "    <tr>\n",
       "      <th>0</th>\n",
       "      <td>Argentina</td>\n",
       "      <td>68</td>\n",
       "    </tr>\n",
       "    <tr>\n",
       "      <th>70</th>\n",
       "      <td>Thailand</td>\n",
       "      <td>61</td>\n",
       "    </tr>\n",
       "    <tr>\n",
       "      <th>33</th>\n",
       "      <td>Italy</td>\n",
       "      <td>59</td>\n",
       "    </tr>\n",
       "    <tr>\n",
       "      <th>12</th>\n",
       "      <td>Colombia</td>\n",
       "      <td>36</td>\n",
       "    </tr>\n",
       "    <tr>\n",
       "      <th>63</th>\n",
       "      <td>South Africa</td>\n",
       "      <td>35</td>\n",
       "    </tr>\n",
       "    <tr>\n",
       "      <th>16</th>\n",
       "      <td>Denmark</td>\n",
       "      <td>30</td>\n",
       "    </tr>\n",
       "    <tr>\n",
       "      <th>60</th>\n",
       "      <td>Singapore</td>\n",
       "      <td>28</td>\n",
       "    </tr>\n",
       "    <tr>\n",
       "      <th>31</th>\n",
       "      <td>Ireland</td>\n",
       "      <td>26</td>\n",
       "    </tr>\n",
       "    <tr>\n",
       "      <th>52</th>\n",
       "      <td>Poland</td>\n",
       "      <td>26</td>\n",
       "    </tr>\n",
       "    <tr>\n",
       "      <th>44</th>\n",
       "      <td>Netherlands</td>\n",
       "      <td>25</td>\n",
       "    </tr>\n",
       "    <tr>\n",
       "      <th>40</th>\n",
       "      <td>Malaysia</td>\n",
       "      <td>23</td>\n",
       "    </tr>\n",
       "    <tr>\n",
       "      <th>48</th>\n",
       "      <td>Pakistan</td>\n",
       "      <td>22</td>\n",
       "    </tr>\n",
       "    <tr>\n",
       "      <th>10</th>\n",
       "      <td>Chile</td>\n",
       "      <td>21</td>\n",
       "    </tr>\n",
       "    <tr>\n",
       "      <th>39</th>\n",
       "      <td>Lebanon</td>\n",
       "      <td>20</td>\n",
       "    </tr>\n",
       "    <tr>\n",
       "      <th>47</th>\n",
       "      <td>Norway</td>\n",
       "      <td>20</td>\n",
       "    </tr>\n",
       "    <tr>\n",
       "      <th>56</th>\n",
       "      <td>Russia</td>\n",
       "      <td>20</td>\n",
       "    </tr>\n",
       "    <tr>\n",
       "      <th>73</th>\n",
       "      <td>United Arab Emirates</td>\n",
       "      <td>19</td>\n",
       "    </tr>\n",
       "    <tr>\n",
       "      <th>32</th>\n",
       "      <td>Israel</td>\n",
       "      <td>19</td>\n",
       "    </tr>\n",
       "    <tr>\n",
       "      <th>67</th>\n",
       "      <td>Sweden</td>\n",
       "      <td>16</td>\n",
       "    </tr>\n",
       "    <tr>\n",
       "      <th>45</th>\n",
       "      <td>New Zealand</td>\n",
       "      <td>15</td>\n",
       "    </tr>\n",
       "    <tr>\n",
       "      <th>5</th>\n",
       "      <td>Belgium</td>\n",
       "      <td>14</td>\n",
       "    </tr>\n",
       "    <tr>\n",
       "      <th>57</th>\n",
       "      <td>Saudi Arabia</td>\n",
       "      <td>10</td>\n",
       "    </tr>\n",
       "    <tr>\n",
       "      <th>55</th>\n",
       "      <td>Romania</td>\n",
       "      <td>10</td>\n",
       "    </tr>\n",
       "    <tr>\n",
       "      <th>76</th>\n",
       "      <td>Uruguay</td>\n",
       "      <td>9</td>\n",
       "    </tr>\n",
       "    <tr>\n",
       "      <th>2</th>\n",
       "      <td>Austria</td>\n",
       "      <td>8</td>\n",
       "    </tr>\n",
       "    <tr>\n",
       "      <th>68</th>\n",
       "      <td>Switzerland</td>\n",
       "      <td>7</td>\n",
       "    </tr>\n",
       "    <tr>\n",
       "      <th>50</th>\n",
       "      <td>Peru</td>\n",
       "      <td>6</td>\n",
       "    </tr>\n",
       "    <tr>\n",
       "      <th>18</th>\n",
       "      <td>Finland</td>\n",
       "      <td>6</td>\n",
       "    </tr>\n",
       "    <tr>\n",
       "      <th>38</th>\n",
       "      <td>Kuwait</td>\n",
       "      <td>6</td>\n",
       "    </tr>\n",
       "    <tr>\n",
       "      <th>78</th>\n",
       "      <td>Vietnam</td>\n",
       "      <td>5</td>\n",
       "    </tr>\n",
       "  </tbody>\n",
       "</table>\n",
       "</div>"
      ],
      "text/plain": [
       "               country_1  size\n",
       "75         United States  2883\n",
       "28                 India   956\n",
       "74        United Kingdom   577\n",
       "9                 Canada   259\n",
       "35                 Japan   237\n",
       "19                France   196\n",
       "64           South Korea   194\n",
       "66                 Spain   168\n",
       "42                Mexico   123\n",
       "1              Australia   108\n",
       "71                Turkey   106\n",
       "17                 Egypt   105\n",
       "21               Germany    92\n",
       "11                 China    86\n",
       "69                Taiwan    82\n",
       "6                 Brazil    79\n",
       "25             Hong Kong    77\n",
       "29             Indonesia    76\n",
       "51           Philippines    75\n",
       "46               Nigeria    71\n",
       "0              Argentina    68\n",
       "70              Thailand    61\n",
       "33                 Italy    59\n",
       "12              Colombia    36\n",
       "63          South Africa    35\n",
       "16               Denmark    30\n",
       "60             Singapore    28\n",
       "31               Ireland    26\n",
       "52                Poland    26\n",
       "44           Netherlands    25\n",
       "40              Malaysia    23\n",
       "48              Pakistan    22\n",
       "10                 Chile    21\n",
       "39               Lebanon    20\n",
       "47                Norway    20\n",
       "56                Russia    20\n",
       "73  United Arab Emirates    19\n",
       "32                Israel    19\n",
       "67                Sweden    16\n",
       "45           New Zealand    15\n",
       "5                Belgium    14\n",
       "57          Saudi Arabia    10\n",
       "55               Romania    10\n",
       "76               Uruguay     9\n",
       "2                Austria     8\n",
       "68           Switzerland     7\n",
       "50                  Peru     6\n",
       "18               Finland     6\n",
       "38                Kuwait     6\n",
       "78               Vietnam     5"
      ]
     },
     "execution_count": 26,
     "metadata": {},
     "output_type": "execute_result"
    }
   ],
   "source": [
    "# TODO\n",
    "#We split country colum\n",
    "nfx['country_1']=nfx['country'].str.split(',', expand=True)[0]\n",
    "#We group by the new colum country_1\n",
    "nfx_country_data = nfx.groupby (['country_1'],as_index=False) ['country'].size()\n",
    "#We sorted in descending order\n",
    "nfx_country_data = nfx_country_data.sort_values(by=['size'],ascending=False)\n",
    "\n",
    "# TODO\n",
    "nfx_country_data.head(50)\n",
    "\n"
   ]
  },
  {
   "cell_type": "code",
   "execution_count": 27,
   "metadata": {
    "id": "wzisLpCcvYHu"
   },
   "outputs": [
    {
     "data": {
      "image/png": "[encoded data removed]",
      "text/plain": [
       "<Figure size 936x504 with 1 Axes>"
      ]
     },
     "metadata": {
      "needs_background": "light"
     },
     "output_type": "display_data"
    }
   ],
   "source": [
    "\n",
    "plt.figure(figsize=(13,7))\n",
    "\n",
    "sns.barplot(x='country_1', y=\"size\", data=nfx_country_data.head(15)) # TODO: sólo los 15 primeros\n",
    "plt.xticks(rotation=70)\n",
    "plt.title('Top 15 Countries')\n",
    "plt.ylabel('Titles')\n",
    "plt.xlabel('Country')\n",
    "plt.show()"
   ]
  },
  {
   "cell_type": "markdown",
   "metadata": {
    "id": "clsRq2J45ITr"
   },
   "source": [
    "*  Añadir una campo más que identifique de manera más sencilla la clasificación por edades: de forma que sean para niños (kids), adolescentes (teen) y adultos (adult) según esta esquema:\n",
    "\n",
    "```\n",
    "    TV-Y,TV-Y7, TV-Y7-FV, G, TV-G, PG, TV-PG --> kids\n",
    "\n",
    "    PG-13, TV-14 --> teen\n",
    "\n",
    "    TV-MA, R, NC-17, NR, UR\t--> adults\n",
    "```\n",
    "\n",
    "\n"
   ]
  },
  {
   "cell_type": "code",
   "execution_count": 28,
   "metadata": {
    "id": "WymWDsnh7BUE"
   },
   "outputs": [
    {
     "data": {
      "text/html": [
       "<div>\n",
       "<style scoped>\n",
       "    .dataframe tbody tr th:only-of-type {\n",
       "        vertical-align: middle;\n",
       "    }\n",
       "\n",
       "    .dataframe tbody tr th {\n",
       "        vertical-align: top;\n",
       "    }\n",
       "\n",
       "    .dataframe thead th {\n",
       "        text-align: right;\n",
       "    }\n",
       "</style>\n",
       "<table border=\"1\" class=\"dataframe\">\n",
       "  <thead>\n",
       "    <tr style=\"text-align: right;\">\n",
       "      <th></th>\n",
       "      <th>show_id</th>\n",
       "      <th>type</th>\n",
       "      <th>title</th>\n",
       "      <th>director</th>\n",
       "      <th>cast</th>\n",
       "      <th>country</th>\n",
       "      <th>date_added</th>\n",
       "      <th>release_year</th>\n",
       "      <th>rating</th>\n",
       "      <th>duration</th>\n",
       "      <th>listed_in</th>\n",
       "      <th>description</th>\n",
       "      <th>rating_cat</th>\n",
       "      <th>country_1</th>\n",
       "      <th>rating_simple</th>\n",
       "    </tr>\n",
       "  </thead>\n",
       "  <tbody>\n",
       "    <tr>\n",
       "      <th>0</th>\n",
       "      <td>s1</td>\n",
       "      <td>TV Show</td>\n",
       "      <td>3%</td>\n",
       "      <td>NaN</td>\n",
       "      <td>João Miguel, Bianca Comparato, Michel Gomes, R...</td>\n",
       "      <td>Brazil</td>\n",
       "      <td>August 14, 2020</td>\n",
       "      <td>2020</td>\n",
       "      <td>TV-MA</td>\n",
       "      <td>4 Seasons</td>\n",
       "      <td>International TV Shows, TV Dramas, TV Sci-Fi &amp;...</td>\n",
       "      <td>In a future where the elite inhabit an island ...</td>\n",
       "      <td>TV-MA</td>\n",
       "      <td>Brazil</td>\n",
       "      <td>adults</td>\n",
       "    </tr>\n",
       "    <tr>\n",
       "      <th>1</th>\n",
       "      <td>s2</td>\n",
       "      <td>Movie</td>\n",
       "      <td>7:19</td>\n",
       "      <td>Jorge Michel Grau</td>\n",
       "      <td>Demián Bichir, Héctor Bonilla, Oscar Serrano, ...</td>\n",
       "      <td>Mexico</td>\n",
       "      <td>December 23, 2016</td>\n",
       "      <td>2016</td>\n",
       "      <td>TV-MA</td>\n",
       "      <td>93 min</td>\n",
       "      <td>Dramas, International Movies</td>\n",
       "      <td>After a devastating earthquake hits Mexico Cit...</td>\n",
       "      <td>TV-MA</td>\n",
       "      <td>Mexico</td>\n",
       "      <td>adults</td>\n",
       "    </tr>\n",
       "    <tr>\n",
       "      <th>2</th>\n",
       "      <td>s3</td>\n",
       "      <td>Movie</td>\n",
       "      <td>23:59</td>\n",
       "      <td>Gilbert Chan</td>\n",
       "      <td>Tedd Chan, Stella Chung, Henley Hii, Lawrence ...</td>\n",
       "      <td>Singapore</td>\n",
       "      <td>December 20, 2018</td>\n",
       "      <td>2011</td>\n",
       "      <td>R</td>\n",
       "      <td>78 min</td>\n",
       "      <td>Horror Movies, International Movies</td>\n",
       "      <td>When an army recruit is found dead, his fellow...</td>\n",
       "      <td>R</td>\n",
       "      <td>Singapore</td>\n",
       "      <td>adults</td>\n",
       "    </tr>\n",
       "    <tr>\n",
       "      <th>3</th>\n",
       "      <td>s4</td>\n",
       "      <td>Movie</td>\n",
       "      <td>9</td>\n",
       "      <td>Shane Acker</td>\n",
       "      <td>Elijah Wood, John C. Reilly, Jennifer Connelly...</td>\n",
       "      <td>United States</td>\n",
       "      <td>November 16, 2017</td>\n",
       "      <td>2009</td>\n",
       "      <td>PG-13</td>\n",
       "      <td>80 min</td>\n",
       "      <td>Action &amp; Adventure, Independent Movies, Sci-Fi...</td>\n",
       "      <td>In a postapocalyptic world, rag-doll robots hi...</td>\n",
       "      <td>PG-13</td>\n",
       "      <td>United States</td>\n",
       "      <td>teen</td>\n",
       "    </tr>\n",
       "    <tr>\n",
       "      <th>4</th>\n",
       "      <td>s5</td>\n",
       "      <td>Movie</td>\n",
       "      <td>21</td>\n",
       "      <td>Robert Luketic</td>\n",
       "      <td>Jim Sturgess, Kevin Spacey, Kate Bosworth, Aar...</td>\n",
       "      <td>United States</td>\n",
       "      <td>January 1, 2020</td>\n",
       "      <td>2008</td>\n",
       "      <td>PG-13</td>\n",
       "      <td>123 min</td>\n",
       "      <td>Dramas</td>\n",
       "      <td>A brilliant group of students become card-coun...</td>\n",
       "      <td>PG-13</td>\n",
       "      <td>United States</td>\n",
       "      <td>teen</td>\n",
       "    </tr>\n",
       "    <tr>\n",
       "      <th>...</th>\n",
       "      <td>...</td>\n",
       "      <td>...</td>\n",
       "      <td>...</td>\n",
       "      <td>...</td>\n",
       "      <td>...</td>\n",
       "      <td>...</td>\n",
       "      <td>...</td>\n",
       "      <td>...</td>\n",
       "      <td>...</td>\n",
       "      <td>...</td>\n",
       "      <td>...</td>\n",
       "      <td>...</td>\n",
       "      <td>...</td>\n",
       "      <td>...</td>\n",
       "      <td>...</td>\n",
       "    </tr>\n",
       "    <tr>\n",
       "      <th>7782</th>\n",
       "      <td>s7783</td>\n",
       "      <td>Movie</td>\n",
       "      <td>Zozo</td>\n",
       "      <td>Josef Fares</td>\n",
       "      <td>Imad Creidi, Antoinette Turk, Elias Gergi, Car...</td>\n",
       "      <td>Sweden, Czech Republic, United Kingdom, Denmar...</td>\n",
       "      <td>October 19, 2020</td>\n",
       "      <td>2005</td>\n",
       "      <td>TV-MA</td>\n",
       "      <td>99 min</td>\n",
       "      <td>Dramas, International Movies</td>\n",
       "      <td>When Lebanon's Civil War deprives Zozo of his ...</td>\n",
       "      <td>TV-MA</td>\n",
       "      <td>Sweden</td>\n",
       "      <td>adults</td>\n",
       "    </tr>\n",
       "    <tr>\n",
       "      <th>7783</th>\n",
       "      <td>s7784</td>\n",
       "      <td>Movie</td>\n",
       "      <td>Zubaan</td>\n",
       "      <td>Mozez Singh</td>\n",
       "      <td>Vicky Kaushal, Sarah-Jane Dias, Raaghav Chanan...</td>\n",
       "      <td>India</td>\n",
       "      <td>March 2, 2019</td>\n",
       "      <td>2015</td>\n",
       "      <td>TV-14</td>\n",
       "      <td>111 min</td>\n",
       "      <td>Dramas, International Movies, Music &amp; Musicals</td>\n",
       "      <td>A scrappy but poor boy worms his way into a ty...</td>\n",
       "      <td>TV-14</td>\n",
       "      <td>India</td>\n",
       "      <td>teen</td>\n",
       "    </tr>\n",
       "    <tr>\n",
       "      <th>7784</th>\n",
       "      <td>s7785</td>\n",
       "      <td>Movie</td>\n",
       "      <td>Zulu Man in Japan</td>\n",
       "      <td>NaN</td>\n",
       "      <td>Nasty C</td>\n",
       "      <td>NaN</td>\n",
       "      <td>September 25, 2020</td>\n",
       "      <td>2019</td>\n",
       "      <td>TV-MA</td>\n",
       "      <td>44 min</td>\n",
       "      <td>Documentaries, International Movies, Music &amp; M...</td>\n",
       "      <td>In this documentary, South African rapper Nast...</td>\n",
       "      <td>TV-MA</td>\n",
       "      <td>NaN</td>\n",
       "      <td>adults</td>\n",
       "    </tr>\n",
       "    <tr>\n",
       "      <th>7785</th>\n",
       "      <td>s7786</td>\n",
       "      <td>TV Show</td>\n",
       "      <td>Zumbo's Just Desserts</td>\n",
       "      <td>NaN</td>\n",
       "      <td>Adriano Zumbo, Rachel Khoo</td>\n",
       "      <td>Australia</td>\n",
       "      <td>October 31, 2020</td>\n",
       "      <td>2019</td>\n",
       "      <td>TV-PG</td>\n",
       "      <td>1 Season</td>\n",
       "      <td>International TV Shows, Reality TV</td>\n",
       "      <td>Dessert wizard Adriano Zumbo looks for the nex...</td>\n",
       "      <td>TV-PG</td>\n",
       "      <td>Australia</td>\n",
       "      <td>kids</td>\n",
       "    </tr>\n",
       "    <tr>\n",
       "      <th>7786</th>\n",
       "      <td>s7787</td>\n",
       "      <td>Movie</td>\n",
       "      <td>ZZ TOP: THAT LITTLE OL' BAND FROM TEXAS</td>\n",
       "      <td>Sam Dunn</td>\n",
       "      <td>NaN</td>\n",
       "      <td>United Kingdom, Canada, United States</td>\n",
       "      <td>March 1, 2020</td>\n",
       "      <td>2019</td>\n",
       "      <td>TV-MA</td>\n",
       "      <td>90 min</td>\n",
       "      <td>Documentaries, Music &amp; Musicals</td>\n",
       "      <td>This documentary delves into the mystique behi...</td>\n",
       "      <td>TV-MA</td>\n",
       "      <td>United Kingdom</td>\n",
       "      <td>adults</td>\n",
       "    </tr>\n",
       "  </tbody>\n",
       "</table>\n",
       "<p>7787 rows × 15 columns</p>\n",
       "</div>"
      ],
      "text/plain": [
       "     show_id     type                                    title  \\\n",
       "0         s1  TV Show                                       3%   \n",
       "1         s2    Movie                                     7:19   \n",
       "2         s3    Movie                                    23:59   \n",
       "3         s4    Movie                                        9   \n",
       "4         s5    Movie                                       21   \n",
       "...      ...      ...                                      ...   \n",
       "7782   s7783    Movie                                     Zozo   \n",
       "7783   s7784    Movie                                   Zubaan   \n",
       "7784   s7785    Movie                        Zulu Man in Japan   \n",
       "7785   s7786  TV Show                    Zumbo's Just Desserts   \n",
       "7786   s7787    Movie  ZZ TOP: THAT LITTLE OL' BAND FROM TEXAS   \n",
       "\n",
       "               director                                               cast  \\\n",
       "0                   NaN  João Miguel, Bianca Comparato, Michel Gomes, R...   \n",
       "1     Jorge Michel Grau  Demián Bichir, Héctor Bonilla, Oscar Serrano, ...   \n",
       "2          Gilbert Chan  Tedd Chan, Stella Chung, Henley Hii, Lawrence ...   \n",
       "3           Shane Acker  Elijah Wood, John C. Reilly, Jennifer Connelly...   \n",
       "4        Robert Luketic  Jim Sturgess, Kevin Spacey, Kate Bosworth, Aar...   \n",
       "...                 ...                                                ...   \n",
       "7782        Josef Fares  Imad Creidi, Antoinette Turk, Elias Gergi, Car...   \n",
       "7783        Mozez Singh  Vicky Kaushal, Sarah-Jane Dias, Raaghav Chanan...   \n",
       "7784                NaN                                            Nasty C   \n",
       "7785                NaN                         Adriano Zumbo, Rachel Khoo   \n",
       "7786           Sam Dunn                                                NaN   \n",
       "\n",
       "                                                country          date_added  \\\n",
       "0                                                Brazil     August 14, 2020   \n",
       "1                                                Mexico   December 23, 2016   \n",
       "2                                             Singapore   December 20, 2018   \n",
       "3                                         United States   November 16, 2017   \n",
       "4                                         United States     January 1, 2020   \n",
       "...                                                 ...                 ...   \n",
       "7782  Sweden, Czech Republic, United Kingdom, Denmar...    October 19, 2020   \n",
       "7783                                              India       March 2, 2019   \n",
       "7784                                                NaN  September 25, 2020   \n",
       "7785                                          Australia    October 31, 2020   \n",
       "7786              United Kingdom, Canada, United States       March 1, 2020   \n",
       "\n",
       "      release_year rating   duration  \\\n",
       "0             2020  TV-MA  4 Seasons   \n",
       "1             2016  TV-MA     93 min   \n",
       "2             2011      R     78 min   \n",
       "3             2009  PG-13     80 min   \n",
       "4             2008  PG-13    123 min   \n",
       "...            ...    ...        ...   \n",
       "7782          2005  TV-MA     99 min   \n",
       "7783          2015  TV-14    111 min   \n",
       "7784          2019  TV-MA     44 min   \n",
       "7785          2019  TV-PG   1 Season   \n",
       "7786          2019  TV-MA     90 min   \n",
       "\n",
       "                                              listed_in  \\\n",
       "0     International TV Shows, TV Dramas, TV Sci-Fi &...   \n",
       "1                          Dramas, International Movies   \n",
       "2                   Horror Movies, International Movies   \n",
       "3     Action & Adventure, Independent Movies, Sci-Fi...   \n",
       "4                                                Dramas   \n",
       "...                                                 ...   \n",
       "7782                       Dramas, International Movies   \n",
       "7783     Dramas, International Movies, Music & Musicals   \n",
       "7784  Documentaries, International Movies, Music & M...   \n",
       "7785                 International TV Shows, Reality TV   \n",
       "7786                    Documentaries, Music & Musicals   \n",
       "\n",
       "                                            description rating_cat  \\\n",
       "0     In a future where the elite inhabit an island ...      TV-MA   \n",
       "1     After a devastating earthquake hits Mexico Cit...      TV-MA   \n",
       "2     When an army recruit is found dead, his fellow...          R   \n",
       "3     In a postapocalyptic world, rag-doll robots hi...      PG-13   \n",
       "4     A brilliant group of students become card-coun...      PG-13   \n",
       "...                                                 ...        ...   \n",
       "7782  When Lebanon's Civil War deprives Zozo of his ...      TV-MA   \n",
       "7783  A scrappy but poor boy worms his way into a ty...      TV-14   \n",
       "7784  In this documentary, South African rapper Nast...      TV-MA   \n",
       "7785  Dessert wizard Adriano Zumbo looks for the nex...      TV-PG   \n",
       "7786  This documentary delves into the mystique behi...      TV-MA   \n",
       "\n",
       "           country_1 rating_simple  \n",
       "0             Brazil        adults  \n",
       "1             Mexico        adults  \n",
       "2          Singapore        adults  \n",
       "3      United States          teen  \n",
       "4      United States          teen  \n",
       "...              ...           ...  \n",
       "7782          Sweden        adults  \n",
       "7783           India          teen  \n",
       "7784             NaN        adults  \n",
       "7785       Australia          kids  \n",
       "7786  United Kingdom        adults  \n",
       "\n",
       "[7787 rows x 15 columns]"
      ]
     },
     "execution_count": 28,
     "metadata": {},
     "output_type": "execute_result"
    }
   ],
   "source": [
    "# TODO \n",
    "my_rating = {  'TV-Y':'kids',\n",
    "                   'TV-Y7':'kids' ,\n",
    "                   'TV-G':'kids',\n",
    "                   'PG':'kids',\n",
    "                   'TV-PG':'kids',\n",
    "                   'TV-Y7-FV':'kids',\n",
    "                   'G': 'kids',\n",
    "                   'PG-13':'teen',\n",
    "                   'TV-14' : 'teen',\n",
    "                   'R': 'adults', \n",
    "                   'TV-MA' : 'adults',\n",
    "                   'NC-17' : 'adults',\n",
    "                   'NR': 'adults',\n",
    "                   'UR': 'adults'} \n",
    "#TODO\n",
    "# Map the new rating from our dictionary \n",
    "nfx['rating_simple']= nfx['rating'].map(my_rating)\n",
    "#df.replace({\"rating\": my_rating})\n",
    "nfx"
   ]
  },
  {
   "cell_type": "markdown",
   "metadata": {
    "id": "3C1pGSWX9Oap"
   },
   "source": [
    "* ¿Cuál de estas nuevas clasificaciones tienes más títulos disponibles?"
   ]
  },
  {
   "cell_type": "code",
   "execution_count": 29,
   "metadata": {
    "id": "uIYVq-LH7RCH"
   },
   "outputs": [
    {
     "name": "stdout",
     "output_type": "stream",
     "text": [
      "La clasificacion adults  tienes mas titulos, llegando a un total de :   3620 \n"
     ]
    }
   ],
   "source": [
    "#TODO\n",
    "#We group by the new clasification \n",
    "nfx_new_clasification=nfx.groupby (['rating_simple'],as_index=False) ['show_id'].size()\n",
    "\n",
    "# Print the new clasificaciont with more titles \n",
    "rating, max_titles = nfx_new_clasification.loc[nfx_new_clasification['size'].idxmax(),  ['rating_simple','size' ]]\n",
    "print (\"La clasificacion %s  tienes mas titulos, llegando a un total de :  %5d \" % (rating,max_titles))"
   ]
  },
  {
   "cell_type": "markdown",
   "metadata": {
    "id": "96Xi1-Ew9hwH"
   },
   "source": [
    "Ahora vamos a ver qué ocurre con el campo que indica el género de la producción: el campo `listed_in`. \n",
    "\n",
    "*  Cambiar el nombre de la columna por `genres`.\n",
    "\n",
    "*  Indicar cuántos tipos distintos tiene este campo.\n",
    "\n",
    "*  Qué ocurre con los datos en el campo?"
   ]
  },
  {
   "cell_type": "code",
   "execution_count": 30,
   "metadata": {
    "id": "TGJxI3JY9ia8"
   },
   "outputs": [
    {
     "name": "stdout",
     "output_type": "stream",
     "text": [
      "El numero de tipos distintos de la columna genres es :\n",
      "\t492\n",
      "El genero tiene mas de un tipo, por lo que la funcion CATEGORICAL usada no es la solucion\n"
     ]
    },
    {
     "data": {
      "text/plain": [
       "['International TV Shows, TV Dramas, TV Sci-Fi ..., 'Dramas, International Movies', 'Horror Movies, International Movies', 'Action & Adventure, Independent Movies, Sci-F..., 'Dramas', ..., 'Dramas, International Movies', 'Dramas, International Movies, Music & Musicals', 'Documentaries, International Movies, Music & ..., 'International TV Shows, Reality TV', 'Documentaries, Music & Musicals']\n",
       "Length: 7787\n",
       "Categories (492, object): ['Action & Adventure', 'Action & Adventure, Anime Features, Children ..., 'Action & Adventure, Anime Features, Classic M..., 'Action & Adventure, Anime Features, Horror Mo..., ..., 'TV Horror, Teen TV Shows', 'TV Sci-Fi & Fantasy, TV Thrillers', 'TV Shows', 'Thrillers']"
      ]
     },
     "execution_count": 30,
     "metadata": {},
     "output_type": "execute_result"
    }
   ],
   "source": [
    "#TODO\n",
    "# We are going to change colum name\n",
    "nfx.rename(columns = {'listed_in':'genres'}, inplace = True)\n",
    "\n",
    "#TODO\n",
    "# We are going to know how many type have the genres colum \n",
    "genres =  pd.Categorical(nfx['genres'] )\n",
    "print (\"El numero de tipos distintos de la columna genres es :\\n\\t{}\".format(len(genres.categories)))   \n",
    "# What happen!!\n",
    "print (\"El genero tiene mas de un tipo, por lo que la funcion CATEGORICAL usada no es la solucion\")   \n",
    "genres\n"
   ]
  },
  {
   "cell_type": "markdown",
   "metadata": {
    "id": "OsiAYXAIIVQN"
   },
   "source": [
    "Vemos que dentro del campo hay hasta tres géneros agrupados y separados por coma (` , `). \n",
    "\n",
    "*  Buscar la forma de separarlos para que se puedan tratar y añadirlos separados al dataset"
   ]
  },
  {
   "cell_type": "code",
   "execution_count": 31,
   "metadata": {
    "id": "HBAI9lb2JObN"
   },
   "outputs": [
    {
     "data": {
      "text/html": [
       "<div>\n",
       "<style scoped>\n",
       "    .dataframe tbody tr th:only-of-type {\n",
       "        vertical-align: middle;\n",
       "    }\n",
       "\n",
       "    .dataframe tbody tr th {\n",
       "        vertical-align: top;\n",
       "    }\n",
       "\n",
       "    .dataframe thead th {\n",
       "        text-align: right;\n",
       "    }\n",
       "</style>\n",
       "<table border=\"1\" class=\"dataframe\">\n",
       "  <thead>\n",
       "    <tr style=\"text-align: right;\">\n",
       "      <th></th>\n",
       "      <th>show_id</th>\n",
       "      <th>type</th>\n",
       "      <th>title</th>\n",
       "      <th>director</th>\n",
       "      <th>cast</th>\n",
       "      <th>country</th>\n",
       "      <th>date_added</th>\n",
       "      <th>release_year</th>\n",
       "      <th>rating</th>\n",
       "      <th>duration</th>\n",
       "      <th>genres</th>\n",
       "      <th>description</th>\n",
       "      <th>rating_cat</th>\n",
       "      <th>country_1</th>\n",
       "      <th>rating_simple</th>\n",
       "      <th>genero_1</th>\n",
       "      <th>genero_2</th>\n",
       "      <th>genero_3</th>\n",
       "    </tr>\n",
       "  </thead>\n",
       "  <tbody>\n",
       "    <tr>\n",
       "      <th>0</th>\n",
       "      <td>s1</td>\n",
       "      <td>TV Show</td>\n",
       "      <td>3%</td>\n",
       "      <td>NaN</td>\n",
       "      <td>João Miguel, Bianca Comparato, Michel Gomes, R...</td>\n",
       "      <td>Brazil</td>\n",
       "      <td>August 14, 2020</td>\n",
       "      <td>2020</td>\n",
       "      <td>TV-MA</td>\n",
       "      <td>4 Seasons</td>\n",
       "      <td>International TV Shows, TV Dramas, TV Sci-Fi &amp;...</td>\n",
       "      <td>In a future where the elite inhabit an island ...</td>\n",
       "      <td>TV-MA</td>\n",
       "      <td>Brazil</td>\n",
       "      <td>adults</td>\n",
       "      <td>International TV Shows</td>\n",
       "      <td>TV Dramas</td>\n",
       "      <td>TV Sci-Fi &amp; Fantasy</td>\n",
       "    </tr>\n",
       "    <tr>\n",
       "      <th>1</th>\n",
       "      <td>s2</td>\n",
       "      <td>Movie</td>\n",
       "      <td>7:19</td>\n",
       "      <td>Jorge Michel Grau</td>\n",
       "      <td>Demián Bichir, Héctor Bonilla, Oscar Serrano, ...</td>\n",
       "      <td>Mexico</td>\n",
       "      <td>December 23, 2016</td>\n",
       "      <td>2016</td>\n",
       "      <td>TV-MA</td>\n",
       "      <td>93 min</td>\n",
       "      <td>Dramas, International Movies</td>\n",
       "      <td>After a devastating earthquake hits Mexico Cit...</td>\n",
       "      <td>TV-MA</td>\n",
       "      <td>Mexico</td>\n",
       "      <td>adults</td>\n",
       "      <td>Dramas</td>\n",
       "      <td>International Movies</td>\n",
       "      <td>None</td>\n",
       "    </tr>\n",
       "    <tr>\n",
       "      <th>2</th>\n",
       "      <td>s3</td>\n",
       "      <td>Movie</td>\n",
       "      <td>23:59</td>\n",
       "      <td>Gilbert Chan</td>\n",
       "      <td>Tedd Chan, Stella Chung, Henley Hii, Lawrence ...</td>\n",
       "      <td>Singapore</td>\n",
       "      <td>December 20, 2018</td>\n",
       "      <td>2011</td>\n",
       "      <td>R</td>\n",
       "      <td>78 min</td>\n",
       "      <td>Horror Movies, International Movies</td>\n",
       "      <td>When an army recruit is found dead, his fellow...</td>\n",
       "      <td>R</td>\n",
       "      <td>Singapore</td>\n",
       "      <td>adults</td>\n",
       "      <td>Horror Movies</td>\n",
       "      <td>International Movies</td>\n",
       "      <td>None</td>\n",
       "    </tr>\n",
       "  </tbody>\n",
       "</table>\n",
       "</div>"
      ],
      "text/plain": [
       "  show_id     type  title           director  \\\n",
       "0      s1  TV Show     3%                NaN   \n",
       "1      s2    Movie   7:19  Jorge Michel Grau   \n",
       "2      s3    Movie  23:59       Gilbert Chan   \n",
       "\n",
       "                                                cast    country  \\\n",
       "0  João Miguel, Bianca Comparato, Michel Gomes, R...     Brazil   \n",
       "1  Demián Bichir, Héctor Bonilla, Oscar Serrano, ...     Mexico   \n",
       "2  Tedd Chan, Stella Chung, Henley Hii, Lawrence ...  Singapore   \n",
       "\n",
       "          date_added  release_year rating   duration  \\\n",
       "0    August 14, 2020          2020  TV-MA  4 Seasons   \n",
       "1  December 23, 2016          2016  TV-MA     93 min   \n",
       "2  December 20, 2018          2011      R     78 min   \n",
       "\n",
       "                                              genres  \\\n",
       "0  International TV Shows, TV Dramas, TV Sci-Fi &...   \n",
       "1                       Dramas, International Movies   \n",
       "2                Horror Movies, International Movies   \n",
       "\n",
       "                                         description rating_cat  country_1  \\\n",
       "0  In a future where the elite inhabit an island ...      TV-MA     Brazil   \n",
       "1  After a devastating earthquake hits Mexico Cit...      TV-MA     Mexico   \n",
       "2  When an army recruit is found dead, his fellow...          R  Singapore   \n",
       "\n",
       "  rating_simple                genero_1               genero_2  \\\n",
       "0        adults  International TV Shows              TV Dramas   \n",
       "1        adults                  Dramas   International Movies   \n",
       "2        adults           Horror Movies   International Movies   \n",
       "\n",
       "               genero_3  \n",
       "0   TV Sci-Fi & Fantasy  \n",
       "1                  None  \n",
       "2                  None  "
      ]
     },
     "execution_count": 31,
     "metadata": {},
     "output_type": "execute_result"
    }
   ],
   "source": [
    "\n",
    "#TODO\n",
    "nfx[['genero_1', 'genero_2', 'genero_3']]=nfx['genres'].str.split(',',n=3, expand=True)\n",
    "\n",
    "nfx.head(3)"
   ]
  },
  {
   "cell_type": "markdown",
   "metadata": {
    "id": "7SXWBEd_QTii"
   },
   "source": [
    "*  ¿Cuáles son los géneros más frecuentes?"
   ]
  },
  {
   "cell_type": "code",
   "execution_count": 32,
   "metadata": {
    "id": "msRkvoJTQUdh"
   },
   "outputs": [
    {
     "data": {
      "text/plain": [
       "0     genero_1    International TV Shows\n",
       "      genero_2                 TV Dramas\n",
       "      genero_3       TV Sci-Fi & Fantasy\n",
       "1     genero_1                    Dramas\n",
       "      genero_2      International Movies\n",
       "                           ...          \n",
       "7784  genero_3          Music & Musicals\n",
       "7785  genero_1    International TV Shows\n",
       "      genero_2                Reality TV\n",
       "7786  genero_1             Documentaries\n",
       "      genero_2          Music & Musicals\n",
       "Length: 17071, dtype: object"
      ]
     },
     "execution_count": 32,
     "metadata": {},
     "output_type": "execute_result"
    }
   ],
   "source": [
    "#TODOS\n",
    "#We are goint to create our new data frame with the new colums\n",
    "genres =nfx[['genero_1', 'genero_2', 'genero_3']] #TODO\n",
    " \n",
    "# Reshape the new dataframe using stack() method\n",
    "genres = genres.stack()\n",
    "genres\n"
   ]
  },
  {
   "cell_type": "code",
   "execution_count": 33,
   "metadata": {
    "id": "jKXTfNp-Rbrz"
   },
   "outputs": [
    {
     "data": {
      "text/plain": [
       "Text(0.5, 1.0, 'Top 10 Genres on Netflix')"
      ]
     },
     "execution_count": 33,
     "metadata": {},
     "output_type": "execute_result"
    },
    {
     "data": {
      "image/png": "[encoded data removed]",
      "text/plain": [
       "<Figure size 1080x576 with 1 Axes>"
      ]
     },
     "metadata": {
      "needs_background": "light"
     },
     "output_type": "display_data"
    }
   ],
   "source": [
    "plt.figure(figsize=(15,8))\n",
    "gen=sns.countplot(y=genres,order=genres.value_counts().index[:10],palette=['Red','Black'])\n",
    "plt.title('Top 10 Genres on Netflix')"
   ]
  },
  {
   "cell_type": "markdown",
   "metadata": {
    "id": "tDYZROsfRbru"
   },
   "source": [
    "## 5. Conectando los datos"
   ]
  },
  {
   "cell_type": "markdown",
   "metadata": {
    "id": "eweCBdF6GbDq"
   },
   "source": [
    "En primer lugar, vamos a crear subconjutos del conjunto de datos: uno para las películas y otros para las series. \n",
    "\n",
    "- Obtener un subconjunto de los datos con los datos sólo de las películas"
   ]
  },
  {
   "cell_type": "code",
   "execution_count": 34,
   "metadata": {
    "id": "80Kf3qyNG3SA"
   },
   "outputs": [
    {
     "data": {
      "text/html": [
       "<div>\n",
       "<style scoped>\n",
       "    .dataframe tbody tr th:only-of-type {\n",
       "        vertical-align: middle;\n",
       "    }\n",
       "\n",
       "    .dataframe tbody tr th {\n",
       "        vertical-align: top;\n",
       "    }\n",
       "\n",
       "    .dataframe thead th {\n",
       "        text-align: right;\n",
       "    }\n",
       "</style>\n",
       "<table border=\"1\" class=\"dataframe\">\n",
       "  <thead>\n",
       "    <tr style=\"text-align: right;\">\n",
       "      <th></th>\n",
       "      <th>show_id</th>\n",
       "      <th>type</th>\n",
       "      <th>title</th>\n",
       "      <th>director</th>\n",
       "      <th>cast</th>\n",
       "      <th>country</th>\n",
       "      <th>date_added</th>\n",
       "      <th>release_year</th>\n",
       "      <th>rating</th>\n",
       "      <th>duration</th>\n",
       "      <th>genres</th>\n",
       "      <th>description</th>\n",
       "      <th>rating_cat</th>\n",
       "      <th>country_1</th>\n",
       "      <th>rating_simple</th>\n",
       "      <th>genero_1</th>\n",
       "      <th>genero_2</th>\n",
       "      <th>genero_3</th>\n",
       "    </tr>\n",
       "  </thead>\n",
       "  <tbody>\n",
       "    <tr>\n",
       "      <th>1</th>\n",
       "      <td>s2</td>\n",
       "      <td>Movie</td>\n",
       "      <td>7:19</td>\n",
       "      <td>Jorge Michel Grau</td>\n",
       "      <td>Demián Bichir, Héctor Bonilla, Oscar Serrano, ...</td>\n",
       "      <td>Mexico</td>\n",
       "      <td>December 23, 2016</td>\n",
       "      <td>2016</td>\n",
       "      <td>TV-MA</td>\n",
       "      <td>93 min</td>\n",
       "      <td>Dramas, International Movies</td>\n",
       "      <td>After a devastating earthquake hits Mexico Cit...</td>\n",
       "      <td>TV-MA</td>\n",
       "      <td>Mexico</td>\n",
       "      <td>adults</td>\n",
       "      <td>Dramas</td>\n",
       "      <td>International Movies</td>\n",
       "      <td>None</td>\n",
       "    </tr>\n",
       "    <tr>\n",
       "      <th>2</th>\n",
       "      <td>s3</td>\n",
       "      <td>Movie</td>\n",
       "      <td>23:59</td>\n",
       "      <td>Gilbert Chan</td>\n",
       "      <td>Tedd Chan, Stella Chung, Henley Hii, Lawrence ...</td>\n",
       "      <td>Singapore</td>\n",
       "      <td>December 20, 2018</td>\n",
       "      <td>2011</td>\n",
       "      <td>R</td>\n",
       "      <td>78 min</td>\n",
       "      <td>Horror Movies, International Movies</td>\n",
       "      <td>When an army recruit is found dead, his fellow...</td>\n",
       "      <td>R</td>\n",
       "      <td>Singapore</td>\n",
       "      <td>adults</td>\n",
       "      <td>Horror Movies</td>\n",
       "      <td>International Movies</td>\n",
       "      <td>None</td>\n",
       "    </tr>\n",
       "    <tr>\n",
       "      <th>3</th>\n",
       "      <td>s4</td>\n",
       "      <td>Movie</td>\n",
       "      <td>9</td>\n",
       "      <td>Shane Acker</td>\n",
       "      <td>Elijah Wood, John C. Reilly, Jennifer Connelly...</td>\n",
       "      <td>United States</td>\n",
       "      <td>November 16, 2017</td>\n",
       "      <td>2009</td>\n",
       "      <td>PG-13</td>\n",
       "      <td>80 min</td>\n",
       "      <td>Action &amp; Adventure, Independent Movies, Sci-Fi...</td>\n",
       "      <td>In a postapocalyptic world, rag-doll robots hi...</td>\n",
       "      <td>PG-13</td>\n",
       "      <td>United States</td>\n",
       "      <td>teen</td>\n",
       "      <td>Action &amp; Adventure</td>\n",
       "      <td>Independent Movies</td>\n",
       "      <td>Sci-Fi &amp; Fantasy</td>\n",
       "    </tr>\n",
       "    <tr>\n",
       "      <th>4</th>\n",
       "      <td>s5</td>\n",
       "      <td>Movie</td>\n",
       "      <td>21</td>\n",
       "      <td>Robert Luketic</td>\n",
       "      <td>Jim Sturgess, Kevin Spacey, Kate Bosworth, Aar...</td>\n",
       "      <td>United States</td>\n",
       "      <td>January 1, 2020</td>\n",
       "      <td>2008</td>\n",
       "      <td>PG-13</td>\n",
       "      <td>123 min</td>\n",
       "      <td>Dramas</td>\n",
       "      <td>A brilliant group of students become card-coun...</td>\n",
       "      <td>PG-13</td>\n",
       "      <td>United States</td>\n",
       "      <td>teen</td>\n",
       "      <td>Dramas</td>\n",
       "      <td>None</td>\n",
       "      <td>None</td>\n",
       "    </tr>\n",
       "    <tr>\n",
       "      <th>6</th>\n",
       "      <td>s7</td>\n",
       "      <td>Movie</td>\n",
       "      <td>122</td>\n",
       "      <td>Yasir Al Yasiri</td>\n",
       "      <td>Amina Khalil, Ahmed Dawood, Tarek Lotfy, Ahmed...</td>\n",
       "      <td>Egypt</td>\n",
       "      <td>June 1, 2020</td>\n",
       "      <td>2019</td>\n",
       "      <td>TV-MA</td>\n",
       "      <td>95 min</td>\n",
       "      <td>Horror Movies, International Movies</td>\n",
       "      <td>After an awful accident, a couple admitted to ...</td>\n",
       "      <td>TV-MA</td>\n",
       "      <td>Egypt</td>\n",
       "      <td>adults</td>\n",
       "      <td>Horror Movies</td>\n",
       "      <td>International Movies</td>\n",
       "      <td>None</td>\n",
       "    </tr>\n",
       "    <tr>\n",
       "      <th>...</th>\n",
       "      <td>...</td>\n",
       "      <td>...</td>\n",
       "      <td>...</td>\n",
       "      <td>...</td>\n",
       "      <td>...</td>\n",
       "      <td>...</td>\n",
       "      <td>...</td>\n",
       "      <td>...</td>\n",
       "      <td>...</td>\n",
       "      <td>...</td>\n",
       "      <td>...</td>\n",
       "      <td>...</td>\n",
       "      <td>...</td>\n",
       "      <td>...</td>\n",
       "      <td>...</td>\n",
       "      <td>...</td>\n",
       "      <td>...</td>\n",
       "      <td>...</td>\n",
       "    </tr>\n",
       "    <tr>\n",
       "      <th>7781</th>\n",
       "      <td>s7782</td>\n",
       "      <td>Movie</td>\n",
       "      <td>Zoom</td>\n",
       "      <td>Peter Hewitt</td>\n",
       "      <td>Tim Allen, Courteney Cox, Chevy Chase, Kate Ma...</td>\n",
       "      <td>United States</td>\n",
       "      <td>January 11, 2020</td>\n",
       "      <td>2006</td>\n",
       "      <td>PG</td>\n",
       "      <td>88 min</td>\n",
       "      <td>Children &amp; Family Movies, Comedies</td>\n",
       "      <td>Dragged from civilian life, a former superhero...</td>\n",
       "      <td>PG</td>\n",
       "      <td>United States</td>\n",
       "      <td>kids</td>\n",
       "      <td>Children &amp; Family Movies</td>\n",
       "      <td>Comedies</td>\n",
       "      <td>None</td>\n",
       "    </tr>\n",
       "    <tr>\n",
       "      <th>7782</th>\n",
       "      <td>s7783</td>\n",
       "      <td>Movie</td>\n",
       "      <td>Zozo</td>\n",
       "      <td>Josef Fares</td>\n",
       "      <td>Imad Creidi, Antoinette Turk, Elias Gergi, Car...</td>\n",
       "      <td>Sweden, Czech Republic, United Kingdom, Denmar...</td>\n",
       "      <td>October 19, 2020</td>\n",
       "      <td>2005</td>\n",
       "      <td>TV-MA</td>\n",
       "      <td>99 min</td>\n",
       "      <td>Dramas, International Movies</td>\n",
       "      <td>When Lebanon's Civil War deprives Zozo of his ...</td>\n",
       "      <td>TV-MA</td>\n",
       "      <td>Sweden</td>\n",
       "      <td>adults</td>\n",
       "      <td>Dramas</td>\n",
       "      <td>International Movies</td>\n",
       "      <td>None</td>\n",
       "    </tr>\n",
       "    <tr>\n",
       "      <th>7783</th>\n",
       "      <td>s7784</td>\n",
       "      <td>Movie</td>\n",
       "      <td>Zubaan</td>\n",
       "      <td>Mozez Singh</td>\n",
       "      <td>Vicky Kaushal, Sarah-Jane Dias, Raaghav Chanan...</td>\n",
       "      <td>India</td>\n",
       "      <td>March 2, 2019</td>\n",
       "      <td>2015</td>\n",
       "      <td>TV-14</td>\n",
       "      <td>111 min</td>\n",
       "      <td>Dramas, International Movies, Music &amp; Musicals</td>\n",
       "      <td>A scrappy but poor boy worms his way into a ty...</td>\n",
       "      <td>TV-14</td>\n",
       "      <td>India</td>\n",
       "      <td>teen</td>\n",
       "      <td>Dramas</td>\n",
       "      <td>International Movies</td>\n",
       "      <td>Music &amp; Musicals</td>\n",
       "    </tr>\n",
       "    <tr>\n",
       "      <th>7784</th>\n",
       "      <td>s7785</td>\n",
       "      <td>Movie</td>\n",
       "      <td>Zulu Man in Japan</td>\n",
       "      <td>NaN</td>\n",
       "      <td>Nasty C</td>\n",
       "      <td>NaN</td>\n",
       "      <td>September 25, 2020</td>\n",
       "      <td>2019</td>\n",
       "      <td>TV-MA</td>\n",
       "      <td>44 min</td>\n",
       "      <td>Documentaries, International Movies, Music &amp; M...</td>\n",
       "      <td>In this documentary, South African rapper Nast...</td>\n",
       "      <td>TV-MA</td>\n",
       "      <td>NaN</td>\n",
       "      <td>adults</td>\n",
       "      <td>Documentaries</td>\n",
       "      <td>International Movies</td>\n",
       "      <td>Music &amp; Musicals</td>\n",
       "    </tr>\n",
       "    <tr>\n",
       "      <th>7786</th>\n",
       "      <td>s7787</td>\n",
       "      <td>Movie</td>\n",
       "      <td>ZZ TOP: THAT LITTLE OL' BAND FROM TEXAS</td>\n",
       "      <td>Sam Dunn</td>\n",
       "      <td>NaN</td>\n",
       "      <td>United Kingdom, Canada, United States</td>\n",
       "      <td>March 1, 2020</td>\n",
       "      <td>2019</td>\n",
       "      <td>TV-MA</td>\n",
       "      <td>90 min</td>\n",
       "      <td>Documentaries, Music &amp; Musicals</td>\n",
       "      <td>This documentary delves into the mystique behi...</td>\n",
       "      <td>TV-MA</td>\n",
       "      <td>United Kingdom</td>\n",
       "      <td>adults</td>\n",
       "      <td>Documentaries</td>\n",
       "      <td>Music &amp; Musicals</td>\n",
       "      <td>None</td>\n",
       "    </tr>\n",
       "  </tbody>\n",
       "</table>\n",
       "<p>5377 rows × 18 columns</p>\n",
       "</div>"
      ],
      "text/plain": [
       "     show_id   type                                    title  \\\n",
       "1         s2  Movie                                     7:19   \n",
       "2         s3  Movie                                    23:59   \n",
       "3         s4  Movie                                        9   \n",
       "4         s5  Movie                                       21   \n",
       "6         s7  Movie                                      122   \n",
       "...      ...    ...                                      ...   \n",
       "7781   s7782  Movie                                     Zoom   \n",
       "7782   s7783  Movie                                     Zozo   \n",
       "7783   s7784  Movie                                   Zubaan   \n",
       "7784   s7785  Movie                        Zulu Man in Japan   \n",
       "7786   s7787  Movie  ZZ TOP: THAT LITTLE OL' BAND FROM TEXAS   \n",
       "\n",
       "               director                                               cast  \\\n",
       "1     Jorge Michel Grau  Demián Bichir, Héctor Bonilla, Oscar Serrano, ...   \n",
       "2          Gilbert Chan  Tedd Chan, Stella Chung, Henley Hii, Lawrence ...   \n",
       "3           Shane Acker  Elijah Wood, John C. Reilly, Jennifer Connelly...   \n",
       "4        Robert Luketic  Jim Sturgess, Kevin Spacey, Kate Bosworth, Aar...   \n",
       "6       Yasir Al Yasiri  Amina Khalil, Ahmed Dawood, Tarek Lotfy, Ahmed...   \n",
       "...                 ...                                                ...   \n",
       "7781       Peter Hewitt  Tim Allen, Courteney Cox, Chevy Chase, Kate Ma...   \n",
       "7782        Josef Fares  Imad Creidi, Antoinette Turk, Elias Gergi, Car...   \n",
       "7783        Mozez Singh  Vicky Kaushal, Sarah-Jane Dias, Raaghav Chanan...   \n",
       "7784                NaN                                            Nasty C   \n",
       "7786           Sam Dunn                                                NaN   \n",
       "\n",
       "                                                country          date_added  \\\n",
       "1                                                Mexico   December 23, 2016   \n",
       "2                                             Singapore   December 20, 2018   \n",
       "3                                         United States   November 16, 2017   \n",
       "4                                         United States     January 1, 2020   \n",
       "6                                                 Egypt        June 1, 2020   \n",
       "...                                                 ...                 ...   \n",
       "7781                                      United States    January 11, 2020   \n",
       "7782  Sweden, Czech Republic, United Kingdom, Denmar...    October 19, 2020   \n",
       "7783                                              India       March 2, 2019   \n",
       "7784                                                NaN  September 25, 2020   \n",
       "7786              United Kingdom, Canada, United States       March 1, 2020   \n",
       "\n",
       "      release_year rating duration  \\\n",
       "1             2016  TV-MA   93 min   \n",
       "2             2011      R   78 min   \n",
       "3             2009  PG-13   80 min   \n",
       "4             2008  PG-13  123 min   \n",
       "6             2019  TV-MA   95 min   \n",
       "...            ...    ...      ...   \n",
       "7781          2006     PG   88 min   \n",
       "7782          2005  TV-MA   99 min   \n",
       "7783          2015  TV-14  111 min   \n",
       "7784          2019  TV-MA   44 min   \n",
       "7786          2019  TV-MA   90 min   \n",
       "\n",
       "                                                 genres  \\\n",
       "1                          Dramas, International Movies   \n",
       "2                   Horror Movies, International Movies   \n",
       "3     Action & Adventure, Independent Movies, Sci-Fi...   \n",
       "4                                                Dramas   \n",
       "6                   Horror Movies, International Movies   \n",
       "...                                                 ...   \n",
       "7781                 Children & Family Movies, Comedies   \n",
       "7782                       Dramas, International Movies   \n",
       "7783     Dramas, International Movies, Music & Musicals   \n",
       "7784  Documentaries, International Movies, Music & M...   \n",
       "7786                    Documentaries, Music & Musicals   \n",
       "\n",
       "                                            description rating_cat  \\\n",
       "1     After a devastating earthquake hits Mexico Cit...      TV-MA   \n",
       "2     When an army recruit is found dead, his fellow...          R   \n",
       "3     In a postapocalyptic world, rag-doll robots hi...      PG-13   \n",
       "4     A brilliant group of students become card-coun...      PG-13   \n",
       "6     After an awful accident, a couple admitted to ...      TV-MA   \n",
       "...                                                 ...        ...   \n",
       "7781  Dragged from civilian life, a former superhero...         PG   \n",
       "7782  When Lebanon's Civil War deprives Zozo of his ...      TV-MA   \n",
       "7783  A scrappy but poor boy worms his way into a ty...      TV-14   \n",
       "7784  In this documentary, South African rapper Nast...      TV-MA   \n",
       "7786  This documentary delves into the mystique behi...      TV-MA   \n",
       "\n",
       "           country_1 rating_simple                  genero_1  \\\n",
       "1             Mexico        adults                    Dramas   \n",
       "2          Singapore        adults             Horror Movies   \n",
       "3      United States          teen        Action & Adventure   \n",
       "4      United States          teen                    Dramas   \n",
       "6              Egypt        adults             Horror Movies   \n",
       "...              ...           ...                       ...   \n",
       "7781   United States          kids  Children & Family Movies   \n",
       "7782          Sweden        adults                    Dramas   \n",
       "7783           India          teen                    Dramas   \n",
       "7784             NaN        adults             Documentaries   \n",
       "7786  United Kingdom        adults             Documentaries   \n",
       "\n",
       "                   genero_2           genero_3  \n",
       "1      International Movies               None  \n",
       "2      International Movies               None  \n",
       "3        Independent Movies   Sci-Fi & Fantasy  \n",
       "4                      None               None  \n",
       "6      International Movies               None  \n",
       "...                     ...                ...  \n",
       "7781               Comedies               None  \n",
       "7782   International Movies               None  \n",
       "7783   International Movies   Music & Musicals  \n",
       "7784   International Movies   Music & Musicals  \n",
       "7786       Music & Musicals               None  \n",
       "\n",
       "[5377 rows x 18 columns]"
      ]
     },
     "execution_count": 34,
     "metadata": {},
     "output_type": "execute_result"
    }
   ],
   "source": [
    "# TODO\n",
    "# Get a sub-set only with the movies rows\n",
    "nfx_movies =nfx.loc [ ( nfx['type'] ==  'Movie' )]\n",
    "nfx_movies"
   ]
  },
  {
   "cell_type": "markdown",
   "metadata": {
    "id": "oEXoXG03HIYJ"
   },
   "source": [
    "Ahora vamos a ver cómo es la duración de las películas, y observamos que se encuentran medidas en minutos. \n",
    "- Eliminar el texto 'min' para obtener el valor numérico. Asignar la duracción obtenida en una nueva variable denominada `duration_movie`.\n"
   ]
  },
  {
   "cell_type": "code",
   "execution_count": 35,
   "metadata": {
    "id": "CviGg6zCHqP5"
   },
   "outputs": [
    {
     "name": "stderr",
     "output_type": "stream",
     "text": [
      "<ipython-input-35-1234df4af98f>:3: SettingWithCopyWarning: \n",
      "A value is trying to be set on a copy of a slice from a DataFrame.\n",
      "Try using .loc[row_indexer,col_indexer] = value instead\n",
      "\n",
      "See the caveats in the documentation: https://pandas.pydata.org/pandas-docs/stable/user_guide/indexing.html#returning-a-view-versus-a-copy\n",
      "  nfx_movies['duration_movie'] = pd.to_numeric(  nfx_movies['duration'].str.split('min', expand=True)[0])\n"
     ]
    },
    {
     "data": {
      "text/html": [
       "<div>\n",
       "<style scoped>\n",
       "    .dataframe tbody tr th:only-of-type {\n",
       "        vertical-align: middle;\n",
       "    }\n",
       "\n",
       "    .dataframe tbody tr th {\n",
       "        vertical-align: top;\n",
       "    }\n",
       "\n",
       "    .dataframe thead th {\n",
       "        text-align: right;\n",
       "    }\n",
       "</style>\n",
       "<table border=\"1\" class=\"dataframe\">\n",
       "  <thead>\n",
       "    <tr style=\"text-align: right;\">\n",
       "      <th></th>\n",
       "      <th>show_id</th>\n",
       "      <th>type</th>\n",
       "      <th>title</th>\n",
       "      <th>director</th>\n",
       "      <th>cast</th>\n",
       "      <th>country</th>\n",
       "      <th>date_added</th>\n",
       "      <th>release_year</th>\n",
       "      <th>rating</th>\n",
       "      <th>duration</th>\n",
       "      <th>genres</th>\n",
       "      <th>description</th>\n",
       "      <th>rating_cat</th>\n",
       "      <th>country_1</th>\n",
       "      <th>rating_simple</th>\n",
       "      <th>genero_1</th>\n",
       "      <th>genero_2</th>\n",
       "      <th>genero_3</th>\n",
       "      <th>duration_movie</th>\n",
       "    </tr>\n",
       "  </thead>\n",
       "  <tbody>\n",
       "    <tr>\n",
       "      <th>1</th>\n",
       "      <td>s2</td>\n",
       "      <td>Movie</td>\n",
       "      <td>7:19</td>\n",
       "      <td>Jorge Michel Grau</td>\n",
       "      <td>Demián Bichir, Héctor Bonilla, Oscar Serrano, ...</td>\n",
       "      <td>Mexico</td>\n",
       "      <td>December 23, 2016</td>\n",
       "      <td>2016</td>\n",
       "      <td>TV-MA</td>\n",
       "      <td>93 min</td>\n",
       "      <td>Dramas, International Movies</td>\n",
       "      <td>After a devastating earthquake hits Mexico Cit...</td>\n",
       "      <td>TV-MA</td>\n",
       "      <td>Mexico</td>\n",
       "      <td>adults</td>\n",
       "      <td>Dramas</td>\n",
       "      <td>International Movies</td>\n",
       "      <td>None</td>\n",
       "      <td>93</td>\n",
       "    </tr>\n",
       "    <tr>\n",
       "      <th>2</th>\n",
       "      <td>s3</td>\n",
       "      <td>Movie</td>\n",
       "      <td>23:59</td>\n",
       "      <td>Gilbert Chan</td>\n",
       "      <td>Tedd Chan, Stella Chung, Henley Hii, Lawrence ...</td>\n",
       "      <td>Singapore</td>\n",
       "      <td>December 20, 2018</td>\n",
       "      <td>2011</td>\n",
       "      <td>R</td>\n",
       "      <td>78 min</td>\n",
       "      <td>Horror Movies, International Movies</td>\n",
       "      <td>When an army recruit is found dead, his fellow...</td>\n",
       "      <td>R</td>\n",
       "      <td>Singapore</td>\n",
       "      <td>adults</td>\n",
       "      <td>Horror Movies</td>\n",
       "      <td>International Movies</td>\n",
       "      <td>None</td>\n",
       "      <td>78</td>\n",
       "    </tr>\n",
       "    <tr>\n",
       "      <th>3</th>\n",
       "      <td>s4</td>\n",
       "      <td>Movie</td>\n",
       "      <td>9</td>\n",
       "      <td>Shane Acker</td>\n",
       "      <td>Elijah Wood, John C. Reilly, Jennifer Connelly...</td>\n",
       "      <td>United States</td>\n",
       "      <td>November 16, 2017</td>\n",
       "      <td>2009</td>\n",
       "      <td>PG-13</td>\n",
       "      <td>80 min</td>\n",
       "      <td>Action &amp; Adventure, Independent Movies, Sci-Fi...</td>\n",
       "      <td>In a postapocalyptic world, rag-doll robots hi...</td>\n",
       "      <td>PG-13</td>\n",
       "      <td>United States</td>\n",
       "      <td>teen</td>\n",
       "      <td>Action &amp; Adventure</td>\n",
       "      <td>Independent Movies</td>\n",
       "      <td>Sci-Fi &amp; Fantasy</td>\n",
       "      <td>80</td>\n",
       "    </tr>\n",
       "    <tr>\n",
       "      <th>4</th>\n",
       "      <td>s5</td>\n",
       "      <td>Movie</td>\n",
       "      <td>21</td>\n",
       "      <td>Robert Luketic</td>\n",
       "      <td>Jim Sturgess, Kevin Spacey, Kate Bosworth, Aar...</td>\n",
       "      <td>United States</td>\n",
       "      <td>January 1, 2020</td>\n",
       "      <td>2008</td>\n",
       "      <td>PG-13</td>\n",
       "      <td>123 min</td>\n",
       "      <td>Dramas</td>\n",
       "      <td>A brilliant group of students become card-coun...</td>\n",
       "      <td>PG-13</td>\n",
       "      <td>United States</td>\n",
       "      <td>teen</td>\n",
       "      <td>Dramas</td>\n",
       "      <td>None</td>\n",
       "      <td>None</td>\n",
       "      <td>123</td>\n",
       "    </tr>\n",
       "    <tr>\n",
       "      <th>6</th>\n",
       "      <td>s7</td>\n",
       "      <td>Movie</td>\n",
       "      <td>122</td>\n",
       "      <td>Yasir Al Yasiri</td>\n",
       "      <td>Amina Khalil, Ahmed Dawood, Tarek Lotfy, Ahmed...</td>\n",
       "      <td>Egypt</td>\n",
       "      <td>June 1, 2020</td>\n",
       "      <td>2019</td>\n",
       "      <td>TV-MA</td>\n",
       "      <td>95 min</td>\n",
       "      <td>Horror Movies, International Movies</td>\n",
       "      <td>After an awful accident, a couple admitted to ...</td>\n",
       "      <td>TV-MA</td>\n",
       "      <td>Egypt</td>\n",
       "      <td>adults</td>\n",
       "      <td>Horror Movies</td>\n",
       "      <td>International Movies</td>\n",
       "      <td>None</td>\n",
       "      <td>95</td>\n",
       "    </tr>\n",
       "    <tr>\n",
       "      <th>...</th>\n",
       "      <td>...</td>\n",
       "      <td>...</td>\n",
       "      <td>...</td>\n",
       "      <td>...</td>\n",
       "      <td>...</td>\n",
       "      <td>...</td>\n",
       "      <td>...</td>\n",
       "      <td>...</td>\n",
       "      <td>...</td>\n",
       "      <td>...</td>\n",
       "      <td>...</td>\n",
       "      <td>...</td>\n",
       "      <td>...</td>\n",
       "      <td>...</td>\n",
       "      <td>...</td>\n",
       "      <td>...</td>\n",
       "      <td>...</td>\n",
       "      <td>...</td>\n",
       "      <td>...</td>\n",
       "    </tr>\n",
       "    <tr>\n",
       "      <th>7781</th>\n",
       "      <td>s7782</td>\n",
       "      <td>Movie</td>\n",
       "      <td>Zoom</td>\n",
       "      <td>Peter Hewitt</td>\n",
       "      <td>Tim Allen, Courteney Cox, Chevy Chase, Kate Ma...</td>\n",
       "      <td>United States</td>\n",
       "      <td>January 11, 2020</td>\n",
       "      <td>2006</td>\n",
       "      <td>PG</td>\n",
       "      <td>88 min</td>\n",
       "      <td>Children &amp; Family Movies, Comedies</td>\n",
       "      <td>Dragged from civilian life, a former superhero...</td>\n",
       "      <td>PG</td>\n",
       "      <td>United States</td>\n",
       "      <td>kids</td>\n",
       "      <td>Children &amp; Family Movies</td>\n",
       "      <td>Comedies</td>\n",
       "      <td>None</td>\n",
       "      <td>88</td>\n",
       "    </tr>\n",
       "    <tr>\n",
       "      <th>7782</th>\n",
       "      <td>s7783</td>\n",
       "      <td>Movie</td>\n",
       "      <td>Zozo</td>\n",
       "      <td>Josef Fares</td>\n",
       "      <td>Imad Creidi, Antoinette Turk, Elias Gergi, Car...</td>\n",
       "      <td>Sweden, Czech Republic, United Kingdom, Denmar...</td>\n",
       "      <td>October 19, 2020</td>\n",
       "      <td>2005</td>\n",
       "      <td>TV-MA</td>\n",
       "      <td>99 min</td>\n",
       "      <td>Dramas, International Movies</td>\n",
       "      <td>When Lebanon's Civil War deprives Zozo of his ...</td>\n",
       "      <td>TV-MA</td>\n",
       "      <td>Sweden</td>\n",
       "      <td>adults</td>\n",
       "      <td>Dramas</td>\n",
       "      <td>International Movies</td>\n",
       "      <td>None</td>\n",
       "      <td>99</td>\n",
       "    </tr>\n",
       "    <tr>\n",
       "      <th>7783</th>\n",
       "      <td>s7784</td>\n",
       "      <td>Movie</td>\n",
       "      <td>Zubaan</td>\n",
       "      <td>Mozez Singh</td>\n",
       "      <td>Vicky Kaushal, Sarah-Jane Dias, Raaghav Chanan...</td>\n",
       "      <td>India</td>\n",
       "      <td>March 2, 2019</td>\n",
       "      <td>2015</td>\n",
       "      <td>TV-14</td>\n",
       "      <td>111 min</td>\n",
       "      <td>Dramas, International Movies, Music &amp; Musicals</td>\n",
       "      <td>A scrappy but poor boy worms his way into a ty...</td>\n",
       "      <td>TV-14</td>\n",
       "      <td>India</td>\n",
       "      <td>teen</td>\n",
       "      <td>Dramas</td>\n",
       "      <td>International Movies</td>\n",
       "      <td>Music &amp; Musicals</td>\n",
       "      <td>111</td>\n",
       "    </tr>\n",
       "    <tr>\n",
       "      <th>7784</th>\n",
       "      <td>s7785</td>\n",
       "      <td>Movie</td>\n",
       "      <td>Zulu Man in Japan</td>\n",
       "      <td>NaN</td>\n",
       "      <td>Nasty C</td>\n",
       "      <td>NaN</td>\n",
       "      <td>September 25, 2020</td>\n",
       "      <td>2019</td>\n",
       "      <td>TV-MA</td>\n",
       "      <td>44 min</td>\n",
       "      <td>Documentaries, International Movies, Music &amp; M...</td>\n",
       "      <td>In this documentary, South African rapper Nast...</td>\n",
       "      <td>TV-MA</td>\n",
       "      <td>NaN</td>\n",
       "      <td>adults</td>\n",
       "      <td>Documentaries</td>\n",
       "      <td>International Movies</td>\n",
       "      <td>Music &amp; Musicals</td>\n",
       "      <td>44</td>\n",
       "    </tr>\n",
       "    <tr>\n",
       "      <th>7786</th>\n",
       "      <td>s7787</td>\n",
       "      <td>Movie</td>\n",
       "      <td>ZZ TOP: THAT LITTLE OL' BAND FROM TEXAS</td>\n",
       "      <td>Sam Dunn</td>\n",
       "      <td>NaN</td>\n",
       "      <td>United Kingdom, Canada, United States</td>\n",
       "      <td>March 1, 2020</td>\n",
       "      <td>2019</td>\n",
       "      <td>TV-MA</td>\n",
       "      <td>90 min</td>\n",
       "      <td>Documentaries, Music &amp; Musicals</td>\n",
       "      <td>This documentary delves into the mystique behi...</td>\n",
       "      <td>TV-MA</td>\n",
       "      <td>United Kingdom</td>\n",
       "      <td>adults</td>\n",
       "      <td>Documentaries</td>\n",
       "      <td>Music &amp; Musicals</td>\n",
       "      <td>None</td>\n",
       "      <td>90</td>\n",
       "    </tr>\n",
       "  </tbody>\n",
       "</table>\n",
       "<p>5377 rows × 19 columns</p>\n",
       "</div>"
      ],
      "text/plain": [
       "     show_id   type                                    title  \\\n",
       "1         s2  Movie                                     7:19   \n",
       "2         s3  Movie                                    23:59   \n",
       "3         s4  Movie                                        9   \n",
       "4         s5  Movie                                       21   \n",
       "6         s7  Movie                                      122   \n",
       "...      ...    ...                                      ...   \n",
       "7781   s7782  Movie                                     Zoom   \n",
       "7782   s7783  Movie                                     Zozo   \n",
       "7783   s7784  Movie                                   Zubaan   \n",
       "7784   s7785  Movie                        Zulu Man in Japan   \n",
       "7786   s7787  Movie  ZZ TOP: THAT LITTLE OL' BAND FROM TEXAS   \n",
       "\n",
       "               director                                               cast  \\\n",
       "1     Jorge Michel Grau  Demián Bichir, Héctor Bonilla, Oscar Serrano, ...   \n",
       "2          Gilbert Chan  Tedd Chan, Stella Chung, Henley Hii, Lawrence ...   \n",
       "3           Shane Acker  Elijah Wood, John C. Reilly, Jennifer Connelly...   \n",
       "4        Robert Luketic  Jim Sturgess, Kevin Spacey, Kate Bosworth, Aar...   \n",
       "6       Yasir Al Yasiri  Amina Khalil, Ahmed Dawood, Tarek Lotfy, Ahmed...   \n",
       "...                 ...                                                ...   \n",
       "7781       Peter Hewitt  Tim Allen, Courteney Cox, Chevy Chase, Kate Ma...   \n",
       "7782        Josef Fares  Imad Creidi, Antoinette Turk, Elias Gergi, Car...   \n",
       "7783        Mozez Singh  Vicky Kaushal, Sarah-Jane Dias, Raaghav Chanan...   \n",
       "7784                NaN                                            Nasty C   \n",
       "7786           Sam Dunn                                                NaN   \n",
       "\n",
       "                                                country          date_added  \\\n",
       "1                                                Mexico   December 23, 2016   \n",
       "2                                             Singapore   December 20, 2018   \n",
       "3                                         United States   November 16, 2017   \n",
       "4                                         United States     January 1, 2020   \n",
       "6                                                 Egypt        June 1, 2020   \n",
       "...                                                 ...                 ...   \n",
       "7781                                      United States    January 11, 2020   \n",
       "7782  Sweden, Czech Republic, United Kingdom, Denmar...    October 19, 2020   \n",
       "7783                                              India       March 2, 2019   \n",
       "7784                                                NaN  September 25, 2020   \n",
       "7786              United Kingdom, Canada, United States       March 1, 2020   \n",
       "\n",
       "      release_year rating duration  \\\n",
       "1             2016  TV-MA   93 min   \n",
       "2             2011      R   78 min   \n",
       "3             2009  PG-13   80 min   \n",
       "4             2008  PG-13  123 min   \n",
       "6             2019  TV-MA   95 min   \n",
       "...            ...    ...      ...   \n",
       "7781          2006     PG   88 min   \n",
       "7782          2005  TV-MA   99 min   \n",
       "7783          2015  TV-14  111 min   \n",
       "7784          2019  TV-MA   44 min   \n",
       "7786          2019  TV-MA   90 min   \n",
       "\n",
       "                                                 genres  \\\n",
       "1                          Dramas, International Movies   \n",
       "2                   Horror Movies, International Movies   \n",
       "3     Action & Adventure, Independent Movies, Sci-Fi...   \n",
       "4                                                Dramas   \n",
       "6                   Horror Movies, International Movies   \n",
       "...                                                 ...   \n",
       "7781                 Children & Family Movies, Comedies   \n",
       "7782                       Dramas, International Movies   \n",
       "7783     Dramas, International Movies, Music & Musicals   \n",
       "7784  Documentaries, International Movies, Music & M...   \n",
       "7786                    Documentaries, Music & Musicals   \n",
       "\n",
       "                                            description rating_cat  \\\n",
       "1     After a devastating earthquake hits Mexico Cit...      TV-MA   \n",
       "2     When an army recruit is found dead, his fellow...          R   \n",
       "3     In a postapocalyptic world, rag-doll robots hi...      PG-13   \n",
       "4     A brilliant group of students become card-coun...      PG-13   \n",
       "6     After an awful accident, a couple admitted to ...      TV-MA   \n",
       "...                                                 ...        ...   \n",
       "7781  Dragged from civilian life, a former superhero...         PG   \n",
       "7782  When Lebanon's Civil War deprives Zozo of his ...      TV-MA   \n",
       "7783  A scrappy but poor boy worms his way into a ty...      TV-14   \n",
       "7784  In this documentary, South African rapper Nast...      TV-MA   \n",
       "7786  This documentary delves into the mystique behi...      TV-MA   \n",
       "\n",
       "           country_1 rating_simple                  genero_1  \\\n",
       "1             Mexico        adults                    Dramas   \n",
       "2          Singapore        adults             Horror Movies   \n",
       "3      United States          teen        Action & Adventure   \n",
       "4      United States          teen                    Dramas   \n",
       "6              Egypt        adults             Horror Movies   \n",
       "...              ...           ...                       ...   \n",
       "7781   United States          kids  Children & Family Movies   \n",
       "7782          Sweden        adults                    Dramas   \n",
       "7783           India          teen                    Dramas   \n",
       "7784             NaN        adults             Documentaries   \n",
       "7786  United Kingdom        adults             Documentaries   \n",
       "\n",
       "                   genero_2           genero_3  duration_movie  \n",
       "1      International Movies               None              93  \n",
       "2      International Movies               None              78  \n",
       "3        Independent Movies   Sci-Fi & Fantasy              80  \n",
       "4                      None               None             123  \n",
       "6      International Movies               None              95  \n",
       "...                     ...                ...             ...  \n",
       "7781               Comedies               None              88  \n",
       "7782   International Movies               None              99  \n",
       "7783   International Movies   Music & Musicals             111  \n",
       "7784   International Movies   Music & Musicals              44  \n",
       "7786       Music & Musicals               None              90  \n",
       "\n",
       "[5377 rows x 19 columns]"
      ]
     },
     "execution_count": 35,
     "metadata": {},
     "output_type": "execute_result"
    }
   ],
   "source": [
    "#TODOS\n",
    "#Get the integer value from duration colum\n",
    "nfx_movies['duration_movie'] = pd.to_numeric(  nfx_movies['duration'].str.split('min', expand=True)[0])\n",
    "nfx_movies"
   ]
  },
  {
   "cell_type": "code",
   "execution_count": 36,
   "metadata": {
    "id": "EK3GPFumKyTS"
   },
   "outputs": [
    {
     "data": {
      "text/plain": [
       "Text(0.5, 6.79999999999999, 'Duration')"
      ]
     },
     "execution_count": 36,
     "metadata": {},
     "output_type": "execute_result"
    },
    {
     "data": {
      "image/png": "[encoded data removed]",
      "text/plain": [
       "<Figure size 360x360 with 1 Axes>"
      ]
     },
     "metadata": {
      "needs_background": "light"
     },
     "output_type": "display_data"
    }
   ],
   "source": [
    "sns.displot ( nfx_movies['duration_movie'], binwidth=5 )\n",
    "\n",
    "plt.ylabel('Movies')\n",
    "plt.xlabel('Duration')"
   ]
  },
  {
   "cell_type": "markdown",
   "metadata": {
    "id": "yEiq5wSXLo9p"
   },
   "source": [
    "\n",
    "\n",
    "*   ¿Cuál es la duración media de las películas? ¿Y la duración más frecuente?\n",
    "*   ¿Qué película tiene la mayor duración?\n",
    "\n"
   ]
  },
  {
   "cell_type": "code",
   "execution_count": 37,
   "metadata": {
    "id": "Px4M2KsJMPPl"
   },
   "outputs": [
    {
     "name": "stdout",
     "output_type": "stream",
     "text": [
      "La duracion media es :  99 minutos\n",
      "La duracion mas frequente es :  90 minutos\n",
      "La pelicula con mas duracion es de : 312 minutos\n"
     ]
    }
   ],
   "source": [
    "# TODO\n",
    "# Show the median , mode and max from the durantion_movie colum\n",
    "print (\"La duracion media es : %3d minutos\" % (nfx_movies['duration_movie'].mean())  )\n",
    "print (\"La duracion mas frequente es : %3d minutos\" % (nfx_movies['duration_movie'].mode())) \n",
    "print (\"La pelicula con mas duracion es de : %3d minutos\" % (nfx_movies['duration_movie'].max())) \n",
    "\n",
    "# TODO"
   ]
  },
  {
   "cell_type": "markdown",
   "metadata": {
    "id": "zmsArkan1k7Y"
   },
   "source": [
    "\n",
    "\n",
    "*   Hay valores nulos en los datos, ¿en qué campos hay más?\n"
   ]
  },
  {
   "cell_type": "code",
   "execution_count": 38,
   "metadata": {
    "id": "FxGkEqPy19DI"
   },
   "outputs": [
    {
     "name": "stdout",
     "output_type": "stream",
     "text": [
      "El campo genero_3 con : 3271 minutos es el que acumula mas nulos\n"
     ]
    }
   ],
   "source": [
    "#TODO\n",
    "# Print the new clasificaciont with more titles \n",
    "nfx_aux = nfx_movies.isnull().sum()\n",
    "print (\"El campo genero_3 con : %3d minutos es el que acumula mas nulos\" % (nfx_aux.max())  )\n"
   ]
  },
  {
   "cell_type": "markdown",
   "metadata": {
    "id": "a_ATcvbf2btf"
   },
   "source": [
    "---\n"
   ]
  },
  {
   "cell_type": "markdown",
   "metadata": {
    "id": "OuTIMIKBSR3w"
   },
   "source": [
    "Y a continuación vamos a hacer algo similar con las series.\n",
    "\n",
    "- Obtener un subconjunto de datos que contenga sólo las series de TV\n"
   ]
  },
  {
   "cell_type": "code",
   "execution_count": 39,
   "metadata": {
    "id": "PwRZE6jgHnxy"
   },
   "outputs": [
    {
     "data": {
      "text/html": [
       "<div>\n",
       "<style scoped>\n",
       "    .dataframe tbody tr th:only-of-type {\n",
       "        vertical-align: middle;\n",
       "    }\n",
       "\n",
       "    .dataframe tbody tr th {\n",
       "        vertical-align: top;\n",
       "    }\n",
       "\n",
       "    .dataframe thead th {\n",
       "        text-align: right;\n",
       "    }\n",
       "</style>\n",
       "<table border=\"1\" class=\"dataframe\">\n",
       "  <thead>\n",
       "    <tr style=\"text-align: right;\">\n",
       "      <th></th>\n",
       "      <th>show_id</th>\n",
       "      <th>type</th>\n",
       "      <th>title</th>\n",
       "      <th>director</th>\n",
       "      <th>cast</th>\n",
       "      <th>country</th>\n",
       "      <th>date_added</th>\n",
       "      <th>release_year</th>\n",
       "      <th>rating</th>\n",
       "      <th>duration</th>\n",
       "      <th>genres</th>\n",
       "      <th>description</th>\n",
       "      <th>rating_cat</th>\n",
       "      <th>country_1</th>\n",
       "      <th>rating_simple</th>\n",
       "      <th>genero_1</th>\n",
       "      <th>genero_2</th>\n",
       "      <th>genero_3</th>\n",
       "    </tr>\n",
       "  </thead>\n",
       "  <tbody>\n",
       "    <tr>\n",
       "      <th>7767</th>\n",
       "      <td>s7768</td>\n",
       "      <td>TV Show</td>\n",
       "      <td>Zindagi Gulzar Hai</td>\n",
       "      <td>NaN</td>\n",
       "      <td>Sanam Saeed, Fawad Khan, Ayesha Omer, Mehreen ...</td>\n",
       "      <td>Pakistan</td>\n",
       "      <td>December 15, 2016</td>\n",
       "      <td>2012</td>\n",
       "      <td>TV-PG</td>\n",
       "      <td>1 Season</td>\n",
       "      <td>International TV Shows, Romantic TV Shows, TV ...</td>\n",
       "      <td>Strong-willed, middle-class Kashaf and carefre...</td>\n",
       "      <td>TV-PG</td>\n",
       "      <td>Pakistan</td>\n",
       "      <td>kids</td>\n",
       "      <td>International TV Shows</td>\n",
       "      <td>Romantic TV Shows</td>\n",
       "      <td>TV Dramas</td>\n",
       "    </tr>\n",
       "    <tr>\n",
       "      <th>7775</th>\n",
       "      <td>s7776</td>\n",
       "      <td>TV Show</td>\n",
       "      <td>Zoids Wild</td>\n",
       "      <td>NaN</td>\n",
       "      <td>Kensho Ono, Takahiro Sakurai, Mikako Komatsu, ...</td>\n",
       "      <td>Japan</td>\n",
       "      <td>August 14, 2020</td>\n",
       "      <td>2018</td>\n",
       "      <td>TV-Y7</td>\n",
       "      <td>1 Season</td>\n",
       "      <td>Anime Series, Kids' TV</td>\n",
       "      <td>A quest for freedom and legendary treasure beg...</td>\n",
       "      <td>TV-Y7</td>\n",
       "      <td>Japan</td>\n",
       "      <td>kids</td>\n",
       "      <td>Anime Series</td>\n",
       "      <td>Kids' TV</td>\n",
       "      <td>None</td>\n",
       "    </tr>\n",
       "    <tr>\n",
       "      <th>7777</th>\n",
       "      <td>s7778</td>\n",
       "      <td>TV Show</td>\n",
       "      <td>Zombie Dumb</td>\n",
       "      <td>NaN</td>\n",
       "      <td>NaN</td>\n",
       "      <td>NaN</td>\n",
       "      <td>July 1, 2019</td>\n",
       "      <td>2018</td>\n",
       "      <td>TV-Y7</td>\n",
       "      <td>2 Seasons</td>\n",
       "      <td>Kids' TV, Korean TV Shows, TV Comedies</td>\n",
       "      <td>While living alone in a spooky town, a young g...</td>\n",
       "      <td>TV-Y7</td>\n",
       "      <td>NaN</td>\n",
       "      <td>kids</td>\n",
       "      <td>Kids' TV</td>\n",
       "      <td>Korean TV Shows</td>\n",
       "      <td>TV Comedies</td>\n",
       "    </tr>\n",
       "    <tr>\n",
       "      <th>7779</th>\n",
       "      <td>s7780</td>\n",
       "      <td>TV Show</td>\n",
       "      <td>Zona Rosa</td>\n",
       "      <td>NaN</td>\n",
       "      <td>Manu NNa, Ana Julia Yeyé, Ray Contreras, Pablo...</td>\n",
       "      <td>Mexico</td>\n",
       "      <td>November 26, 2019</td>\n",
       "      <td>2019</td>\n",
       "      <td>TV-MA</td>\n",
       "      <td>1 Season</td>\n",
       "      <td>International TV Shows, Spanish-Language TV Sh...</td>\n",
       "      <td>An assortment of talent takes the stage for a ...</td>\n",
       "      <td>TV-MA</td>\n",
       "      <td>Mexico</td>\n",
       "      <td>adults</td>\n",
       "      <td>International TV Shows</td>\n",
       "      <td>Spanish-Language TV Shows</td>\n",
       "      <td>Stand-Up Comedy &amp; Talk Shows</td>\n",
       "    </tr>\n",
       "    <tr>\n",
       "      <th>7785</th>\n",
       "      <td>s7786</td>\n",
       "      <td>TV Show</td>\n",
       "      <td>Zumbo's Just Desserts</td>\n",
       "      <td>NaN</td>\n",
       "      <td>Adriano Zumbo, Rachel Khoo</td>\n",
       "      <td>Australia</td>\n",
       "      <td>October 31, 2020</td>\n",
       "      <td>2019</td>\n",
       "      <td>TV-PG</td>\n",
       "      <td>1 Season</td>\n",
       "      <td>International TV Shows, Reality TV</td>\n",
       "      <td>Dessert wizard Adriano Zumbo looks for the nex...</td>\n",
       "      <td>TV-PG</td>\n",
       "      <td>Australia</td>\n",
       "      <td>kids</td>\n",
       "      <td>International TV Shows</td>\n",
       "      <td>Reality TV</td>\n",
       "      <td>None</td>\n",
       "    </tr>\n",
       "  </tbody>\n",
       "</table>\n",
       "</div>"
      ],
      "text/plain": [
       "     show_id     type                  title director  \\\n",
       "7767   s7768  TV Show     Zindagi Gulzar Hai      NaN   \n",
       "7775   s7776  TV Show             Zoids Wild      NaN   \n",
       "7777   s7778  TV Show            Zombie Dumb      NaN   \n",
       "7779   s7780  TV Show              Zona Rosa      NaN   \n",
       "7785   s7786  TV Show  Zumbo's Just Desserts      NaN   \n",
       "\n",
       "                                                   cast    country  \\\n",
       "7767  Sanam Saeed, Fawad Khan, Ayesha Omer, Mehreen ...   Pakistan   \n",
       "7775  Kensho Ono, Takahiro Sakurai, Mikako Komatsu, ...      Japan   \n",
       "7777                                                NaN        NaN   \n",
       "7779  Manu NNa, Ana Julia Yeyé, Ray Contreras, Pablo...     Mexico   \n",
       "7785                         Adriano Zumbo, Rachel Khoo  Australia   \n",
       "\n",
       "             date_added  release_year rating   duration  \\\n",
       "7767  December 15, 2016          2012  TV-PG   1 Season   \n",
       "7775    August 14, 2020          2018  TV-Y7   1 Season   \n",
       "7777       July 1, 2019          2018  TV-Y7  2 Seasons   \n",
       "7779  November 26, 2019          2019  TV-MA   1 Season   \n",
       "7785   October 31, 2020          2019  TV-PG   1 Season   \n",
       "\n",
       "                                                 genres  \\\n",
       "7767  International TV Shows, Romantic TV Shows, TV ...   \n",
       "7775                             Anime Series, Kids' TV   \n",
       "7777             Kids' TV, Korean TV Shows, TV Comedies   \n",
       "7779  International TV Shows, Spanish-Language TV Sh...   \n",
       "7785                 International TV Shows, Reality TV   \n",
       "\n",
       "                                            description rating_cat  country_1  \\\n",
       "7767  Strong-willed, middle-class Kashaf and carefre...      TV-PG   Pakistan   \n",
       "7775  A quest for freedom and legendary treasure beg...      TV-Y7      Japan   \n",
       "7777  While living alone in a spooky town, a young g...      TV-Y7        NaN   \n",
       "7779  An assortment of talent takes the stage for a ...      TV-MA     Mexico   \n",
       "7785  Dessert wizard Adriano Zumbo looks for the nex...      TV-PG  Australia   \n",
       "\n",
       "     rating_simple                genero_1                    genero_2  \\\n",
       "7767          kids  International TV Shows           Romantic TV Shows   \n",
       "7775          kids            Anime Series                    Kids' TV   \n",
       "7777          kids                Kids' TV             Korean TV Shows   \n",
       "7779        adults  International TV Shows   Spanish-Language TV Shows   \n",
       "7785          kids  International TV Shows                  Reality TV   \n",
       "\n",
       "                           genero_3  \n",
       "7767                      TV Dramas  \n",
       "7775                           None  \n",
       "7777                    TV Comedies  \n",
       "7779   Stand-Up Comedy & Talk Shows  \n",
       "7785                           None  "
      ]
     },
     "execution_count": 39,
     "metadata": {},
     "output_type": "execute_result"
    }
   ],
   "source": [
    "# TODO\n",
    "# Get a sub-set only with the series rows\n",
    "nfx_series =nfx.loc [ ( nfx['type'] ==  'TV Show' )]\n",
    "nfx_series.tail(5)"
   ]
  },
  {
   "cell_type": "markdown",
   "metadata": {
    "id": "hupdyDbzS-S3"
   },
   "source": [
    "Viendo el dataset resultante se observa que aquí el campo `duration` contiene las temporadas de las series. De forma análoga a las películas:\n",
    "- Generar una variable nueva `seasons` para almacenar el valor numérico de las temporadas de cada serie"
   ]
  },
  {
   "cell_type": "code",
   "execution_count": 40,
   "metadata": {
    "id": "hHqpP-FaTx7C"
   },
   "outputs": [
    {
     "name": "stderr",
     "output_type": "stream",
     "text": [
      "<ipython-input-40-543e5994865f>:3: SettingWithCopyWarning: \n",
      "A value is trying to be set on a copy of a slice from a DataFrame.\n",
      "Try using .loc[row_indexer,col_indexer] = value instead\n",
      "\n",
      "See the caveats in the documentation: https://pandas.pydata.org/pandas-docs/stable/user_guide/indexing.html#returning-a-view-versus-a-copy\n",
      "  nfx_series['seasons'] =  pd.to_numeric(  nfx_series['duration'].str.split('Season', expand=True)[0])\n"
     ]
    },
    {
     "data": {
      "text/html": [
       "<div>\n",
       "<style scoped>\n",
       "    .dataframe tbody tr th:only-of-type {\n",
       "        vertical-align: middle;\n",
       "    }\n",
       "\n",
       "    .dataframe tbody tr th {\n",
       "        vertical-align: top;\n",
       "    }\n",
       "\n",
       "    .dataframe thead th {\n",
       "        text-align: right;\n",
       "    }\n",
       "</style>\n",
       "<table border=\"1\" class=\"dataframe\">\n",
       "  <thead>\n",
       "    <tr style=\"text-align: right;\">\n",
       "      <th></th>\n",
       "      <th>show_id</th>\n",
       "      <th>type</th>\n",
       "      <th>title</th>\n",
       "      <th>director</th>\n",
       "      <th>cast</th>\n",
       "      <th>country</th>\n",
       "      <th>date_added</th>\n",
       "      <th>release_year</th>\n",
       "      <th>rating</th>\n",
       "      <th>duration</th>\n",
       "      <th>genres</th>\n",
       "      <th>description</th>\n",
       "      <th>rating_cat</th>\n",
       "      <th>country_1</th>\n",
       "      <th>rating_simple</th>\n",
       "      <th>genero_1</th>\n",
       "      <th>genero_2</th>\n",
       "      <th>genero_3</th>\n",
       "      <th>seasons</th>\n",
       "    </tr>\n",
       "  </thead>\n",
       "  <tbody>\n",
       "    <tr>\n",
       "      <th>0</th>\n",
       "      <td>s1</td>\n",
       "      <td>TV Show</td>\n",
       "      <td>3%</td>\n",
       "      <td>NaN</td>\n",
       "      <td>João Miguel, Bianca Comparato, Michel Gomes, R...</td>\n",
       "      <td>Brazil</td>\n",
       "      <td>August 14, 2020</td>\n",
       "      <td>2020</td>\n",
       "      <td>TV-MA</td>\n",
       "      <td>4 Seasons</td>\n",
       "      <td>International TV Shows, TV Dramas, TV Sci-Fi &amp;...</td>\n",
       "      <td>In a future where the elite inhabit an island ...</td>\n",
       "      <td>TV-MA</td>\n",
       "      <td>Brazil</td>\n",
       "      <td>adults</td>\n",
       "      <td>International TV Shows</td>\n",
       "      <td>TV Dramas</td>\n",
       "      <td>TV Sci-Fi &amp; Fantasy</td>\n",
       "      <td>4</td>\n",
       "    </tr>\n",
       "    <tr>\n",
       "      <th>5</th>\n",
       "      <td>s6</td>\n",
       "      <td>TV Show</td>\n",
       "      <td>46</td>\n",
       "      <td>Serdar Akar</td>\n",
       "      <td>Erdal Beşikçioğlu, Yasemin Allen, Melis Birkan...</td>\n",
       "      <td>Turkey</td>\n",
       "      <td>July 1, 2017</td>\n",
       "      <td>2016</td>\n",
       "      <td>TV-MA</td>\n",
       "      <td>1 Season</td>\n",
       "      <td>International TV Shows, TV Dramas, TV Mysteries</td>\n",
       "      <td>A genetics professor experiments with a treatm...</td>\n",
       "      <td>TV-MA</td>\n",
       "      <td>Turkey</td>\n",
       "      <td>adults</td>\n",
       "      <td>International TV Shows</td>\n",
       "      <td>TV Dramas</td>\n",
       "      <td>TV Mysteries</td>\n",
       "      <td>1</td>\n",
       "    </tr>\n",
       "    <tr>\n",
       "      <th>11</th>\n",
       "      <td>s12</td>\n",
       "      <td>TV Show</td>\n",
       "      <td>1983</td>\n",
       "      <td>NaN</td>\n",
       "      <td>Robert Więckiewicz, Maciej Musiał, Michalina O...</td>\n",
       "      <td>Poland, United States</td>\n",
       "      <td>November 30, 2018</td>\n",
       "      <td>2018</td>\n",
       "      <td>TV-MA</td>\n",
       "      <td>1 Season</td>\n",
       "      <td>Crime TV Shows, International TV Shows, TV Dramas</td>\n",
       "      <td>In this dark alt-history thriller, a naïve law...</td>\n",
       "      <td>TV-MA</td>\n",
       "      <td>Poland</td>\n",
       "      <td>adults</td>\n",
       "      <td>Crime TV Shows</td>\n",
       "      <td>International TV Shows</td>\n",
       "      <td>TV Dramas</td>\n",
       "      <td>1</td>\n",
       "    </tr>\n",
       "    <tr>\n",
       "      <th>12</th>\n",
       "      <td>s13</td>\n",
       "      <td>TV Show</td>\n",
       "      <td>1994</td>\n",
       "      <td>Diego Enrique Osorno</td>\n",
       "      <td>NaN</td>\n",
       "      <td>Mexico</td>\n",
       "      <td>May 17, 2019</td>\n",
       "      <td>2019</td>\n",
       "      <td>TV-MA</td>\n",
       "      <td>1 Season</td>\n",
       "      <td>Crime TV Shows, Docuseries, International TV S...</td>\n",
       "      <td>Archival video and new interviews examine Mexi...</td>\n",
       "      <td>TV-MA</td>\n",
       "      <td>Mexico</td>\n",
       "      <td>adults</td>\n",
       "      <td>Crime TV Shows</td>\n",
       "      <td>Docuseries</td>\n",
       "      <td>International TV Shows</td>\n",
       "      <td>1</td>\n",
       "    </tr>\n",
       "    <tr>\n",
       "      <th>16</th>\n",
       "      <td>s17</td>\n",
       "      <td>TV Show</td>\n",
       "      <td>Feb-09</td>\n",
       "      <td>NaN</td>\n",
       "      <td>Shahd El Yaseen, Shaila Sabt, Hala, Hanadi Al-...</td>\n",
       "      <td>NaN</td>\n",
       "      <td>March 20, 2019</td>\n",
       "      <td>2018</td>\n",
       "      <td>TV-14</td>\n",
       "      <td>1 Season</td>\n",
       "      <td>International TV Shows, TV Dramas</td>\n",
       "      <td>As a psychology professor faces Alzheimer's, h...</td>\n",
       "      <td>TV-14</td>\n",
       "      <td>NaN</td>\n",
       "      <td>teen</td>\n",
       "      <td>International TV Shows</td>\n",
       "      <td>TV Dramas</td>\n",
       "      <td>None</td>\n",
       "      <td>1</td>\n",
       "    </tr>\n",
       "  </tbody>\n",
       "</table>\n",
       "</div>"
      ],
      "text/plain": [
       "   show_id     type   title              director  \\\n",
       "0       s1  TV Show      3%                   NaN   \n",
       "5       s6  TV Show      46           Serdar Akar   \n",
       "11     s12  TV Show    1983                   NaN   \n",
       "12     s13  TV Show    1994  Diego Enrique Osorno   \n",
       "16     s17  TV Show  Feb-09                   NaN   \n",
       "\n",
       "                                                 cast                country  \\\n",
       "0   João Miguel, Bianca Comparato, Michel Gomes, R...                 Brazil   \n",
       "5   Erdal Beşikçioğlu, Yasemin Allen, Melis Birkan...                 Turkey   \n",
       "11  Robert Więckiewicz, Maciej Musiał, Michalina O...  Poland, United States   \n",
       "12                                                NaN                 Mexico   \n",
       "16  Shahd El Yaseen, Shaila Sabt, Hala, Hanadi Al-...                    NaN   \n",
       "\n",
       "           date_added  release_year rating   duration  \\\n",
       "0     August 14, 2020          2020  TV-MA  4 Seasons   \n",
       "5        July 1, 2017          2016  TV-MA   1 Season   \n",
       "11  November 30, 2018          2018  TV-MA   1 Season   \n",
       "12       May 17, 2019          2019  TV-MA   1 Season   \n",
       "16     March 20, 2019          2018  TV-14   1 Season   \n",
       "\n",
       "                                               genres  \\\n",
       "0   International TV Shows, TV Dramas, TV Sci-Fi &...   \n",
       "5     International TV Shows, TV Dramas, TV Mysteries   \n",
       "11  Crime TV Shows, International TV Shows, TV Dramas   \n",
       "12  Crime TV Shows, Docuseries, International TV S...   \n",
       "16                  International TV Shows, TV Dramas   \n",
       "\n",
       "                                          description rating_cat country_1  \\\n",
       "0   In a future where the elite inhabit an island ...      TV-MA    Brazil   \n",
       "5   A genetics professor experiments with a treatm...      TV-MA    Turkey   \n",
       "11  In this dark alt-history thriller, a naïve law...      TV-MA    Poland   \n",
       "12  Archival video and new interviews examine Mexi...      TV-MA    Mexico   \n",
       "16  As a psychology professor faces Alzheimer's, h...      TV-14       NaN   \n",
       "\n",
       "   rating_simple                genero_1                 genero_2  \\\n",
       "0         adults  International TV Shows                TV Dramas   \n",
       "5         adults  International TV Shows                TV Dramas   \n",
       "11        adults          Crime TV Shows   International TV Shows   \n",
       "12        adults          Crime TV Shows               Docuseries   \n",
       "16          teen  International TV Shows                TV Dramas   \n",
       "\n",
       "                   genero_3  seasons  \n",
       "0       TV Sci-Fi & Fantasy        4  \n",
       "5              TV Mysteries        1  \n",
       "11                TV Dramas        1  \n",
       "12   International TV Shows        1  \n",
       "16                     None        1  "
      ]
     },
     "execution_count": 40,
     "metadata": {},
     "output_type": "execute_result"
    }
   ],
   "source": [
    "# TODO\n",
    "#Get the integer value from duration colum\n",
    "nfx_series['seasons'] =  pd.to_numeric(  nfx_series['duration'].str.split('Season', expand=True)[0])\n",
    "nfx_series.head(5)"
   ]
  },
  {
   "cell_type": "code",
   "execution_count": 41,
   "metadata": {
    "id": "SaORBlYNUQvU"
   },
   "outputs": [
    {
     "data": {
      "text/plain": [
       "Text(0.5, 6.79999999999999, 'Seasons')"
      ]
     },
     "execution_count": 41,
     "metadata": {},
     "output_type": "execute_result"
    },
    {
     "data": {
      "image/png": "[encoded data removed]",
      "text/plain": [
       "<Figure size 360x360 with 1 Axes>"
      ]
     },
     "metadata": {
      "needs_background": "light"
     },
     "output_type": "display_data"
    }
   ],
   "source": [
    "\n",
    "sns.displot ( nfx_series['seasons'], binwidth=1 )\n",
    "\n",
    "plt.ylabel('TV Shows')\n",
    "plt.xlabel('Seasons')"
   ]
  },
  {
   "cell_type": "markdown",
   "metadata": {
    "id": "Kc7Y6Cd6UyXF"
   },
   "source": [
    "\n",
    "\n",
    "*   ¿Cuál es la serie más longeva (en temporadas) del catálogo y cuántas temporadas tiene?\n",
    "\n"
   ]
  },
  {
   "cell_type": "code",
   "execution_count": 42,
   "metadata": {
    "id": "0yeeYgRvUitJ"
   },
   "outputs": [
    {
     "name": "stdout",
     "output_type": "stream",
     "text": [
      "La serie mas longeva tiene :  16 temporadas\n"
     ]
    }
   ],
   "source": [
    "# TODO\n",
    "# Show the median , mode and max from the durantion_movie colum\n",
    "print (\"La serie mas longeva tiene : %3d temporadas\" % (nfx_series['seasons'].max())) \n"
   ]
  },
  {
   "cell_type": "markdown",
   "metadata": {
    "id": "2S9KUF0gvR4e"
   },
   "source": [
    "# Enunciado 3 : Metadatos"
   ]
  },
  {
   "cell_type": "markdown",
   "metadata": {
    "id": "PaUrpNatLCeE"
   },
   "source": [
    "El [protocolo Open Graph ](https://ogp.me/) es un estándar desarrollado por Facebook que permite que cualquier página web tenga la misma funcionalidad que otro objeto en Facebook.\n",
    "\n",
    "Para hacer esto posible es necesario añadir metadatos en la página, es decir, añadir una serie de tags `<meta>` en la parte `<head>` de la página web.\n",
    "\n",
    "```\n",
    "<html prefix=\"og: https://ogp.me/ns#\">\n",
    "<head>\n",
    "<title>The Rock (1996)</title>\n",
    "<meta property=\"og:title\" content=\"The Rock\" />\n",
    "<meta property=\"og:type\" content=\"video.movie\" />\n",
    "<meta property=\"og:url\" content=\"https://www.imdb.com/title/tt0117500/\" />\n",
    "<meta property=\"og:image\" content=\"https://ia.media-imdb.com/images/rock.jpg\" />\n",
    "...\n",
    "</head>\n",
    "...\n",
    "</html>\n",
    "\n",
    "```\n",
    "\n",
    "En esta parte vamos a extraer metadatos open graph de una página web, en concreto, de un vídeo de YouTube.\n",
    "\n",
    "Para ello necesitamos instalar primero las librerías `BeautifulSoup` y `requests` que se usan frecuentemente en web scraping.\n",
    "\n",
    " "
   ]
  },
  {
   "cell_type": "code",
   "execution_count": 43,
   "metadata": {
    "colab": {
     "base_uri": "https://localhost:8080/"
    },
    "executionInfo": {
     "elapsed": 13150,
     "status": "ok",
     "timestamp": 1644961685898,
     "user": {
      "displayName": "Blas Torregrosa Garcia",
      "photoUrl": "https://lh3.googleusercontent.com/a-/AOh14Gi5a1zvzPKCJrSACwCYatoizvbwu_ASRhI5-vZk=s64",
      "userId": "12013646008039594097"
     },
     "user_tz": -60
    },
    "id": "UlOGHBw8vo5O",
    "outputId": "2c5b2a3d-133c-46d9-fc6f-62cb64ed32a5"
   },
   "outputs": [
    {
     "name": "stdout",
     "output_type": "stream",
     "text": [
      "Requirement already satisfied: requests in c:\\users\\oliva\\appdata\\local\\programs\\python\\python38-32\\lib\\site-packages (2.27.1)\n"
     ]
    },
    {
     "name": "stderr",
     "output_type": "stream",
     "text": [
      "WARNING: You are using pip version 22.0.3; however, version 22.0.4 is available.\n",
      "You should consider upgrading via the 'C:\\Users\\oliva\\AppData\\Local\\Programs\\Python\\Python38-32\\python.exe -m pip install --upgrade pip' command.\n"
     ]
    },
    {
     "name": "stdout",
     "output_type": "stream",
     "text": [
      "Requirement already satisfied: urllib3<1.27,>=1.21.1 in c:\\users\\oliva\\appdata\\local\\programs\\python\\python38-32\\lib\\site-packages (from requests) (1.25.9)\n",
      "Requirement already satisfied: charset-normalizer~=2.0.0 in c:\\users\\oliva\\appdata\\local\\programs\\python\\python38-32\\lib\\site-packages (from requests) (2.0.12)\n",
      "Requirement already satisfied: certifi>=2017.4.17 in c:\\users\\oliva\\appdata\\local\\programs\\python\\python38-32\\lib\\site-packages (from requests) (2020.6.20)\n",
      "Requirement already satisfied: idna<4,>=2.5 in c:\\users\\oliva\\appdata\\local\\programs\\python\\python38-32\\lib\\site-packages (from requests) (2.10)\n",
      "Requirement already satisfied: beautifulsoup4 in c:\\users\\oliva\\appdata\\local\\programs\\python\\python38-32\\lib\\site-packages (4.10.0)\n",
      "Requirement already satisfied: soupsieve>1.2 in c:\\users\\oliva\\appdata\\local\\programs\\python\\python38-32\\lib\\site-packages (from beautifulsoup4) (2.3.1)\n"
     ]
    },
    {
     "name": "stderr",
     "output_type": "stream",
     "text": [
      "WARNING: You are using pip version 22.0.3; however, version 22.0.4 is available.\n",
      "You should consider upgrading via the 'C:\\Users\\oliva\\AppData\\Local\\Programs\\Python\\Python38-32\\python.exe -m pip install --upgrade pip' command.\n"
     ]
    }
   ],
   "source": [
    "! pip install requests\n",
    "! pip install beautifulsoup4"
   ]
  },
  {
   "cell_type": "code",
   "execution_count": 44,
   "metadata": {
    "id": "dp2p0J9PU81_"
   },
   "outputs": [],
   "source": [
    "import requests\n",
    "from bs4 import BeautifulSoup"
   ]
  },
  {
   "cell_type": "markdown",
   "metadata": {
    "id": "37sARaMc2eL-"
   },
   "source": [
    "El código a continuación obtiene el código fuente de la página web, tal y como lo hace un navegador, y lo carga en un objeto BeautifulSoup desde el que podemos extraer los metadatos. "
   ]
  },
  {
   "cell_type": "code",
   "execution_count": 45,
   "metadata": {
    "id": "q6cNuAH2U0G6"
   },
   "outputs": [],
   "source": [
    "# dada la siguiente url de la wikipedia\n",
    "url = 'https://es.wikipedia.org/wiki/The_Game_Awards' \n",
    "\n",
    "headers = { }\n",
    "r = requests.get (url=url, headers=headers)\n",
    "\n",
    "soup = BeautifulSoup (r.text, 'html.parser')"
   ]
  },
  {
   "cell_type": "markdown",
   "metadata": {
    "id": "velgOoch29NH"
   },
   "source": [
    "Mediante los métodos `find()`o  `find_all()` es posible extraer los datos de la página."
   ]
  },
  {
   "cell_type": "code",
   "execution_count": 46,
   "metadata": {
    "id": "jeFzQR9uU19z"
   },
   "outputs": [
    {
     "data": {
      "text/plain": [
       "[<meta charset=\"utf-8\"/>,\n",
       " <meta content=\"\" name=\"ResourceLoaderDynamicStyles\"/>,\n",
       " <meta content=\"MediaWiki 1.38.0-wmf.25\" name=\"generator\"/>,\n",
       " <meta content=\"origin\" name=\"referrer\"/>,\n",
       " <meta content=\"origin-when-crossorigin\" name=\"referrer\"/>,\n",
       " <meta content=\"origin-when-cross-origin\" name=\"referrer\"/>,\n",
       " <meta content=\"telephone=no\" name=\"format-detection\"/>,\n",
       " <meta content=\"https://upload.wikimedia.org/wikipedia/commons/thumb/f/f6/The_Game_Awards.svg/1200px-The_Game_Awards.svg.png\" property=\"og:image\"/>,\n",
       " <meta content=\"1200\" property=\"og:image:width\"/>,\n",
       " <meta content=\"1935\" property=\"og:image:height\"/>,\n",
       " <meta content=\"https://upload.wikimedia.org/wikipedia/commons/thumb/f/f6/The_Game_Awards.svg/800px-The_Game_Awards.svg.png\" property=\"og:image\"/>,\n",
       " <meta content=\"800\" property=\"og:image:width\"/>,\n",
       " <meta content=\"1290\" property=\"og:image:height\"/>,\n",
       " <meta content=\"https://upload.wikimedia.org/wikipedia/commons/thumb/f/f6/The_Game_Awards.svg/640px-The_Game_Awards.svg.png\" property=\"og:image\"/>,\n",
       " <meta content=\"640\" property=\"og:image:width\"/>,\n",
       " <meta content=\"1032\" property=\"og:image:height\"/>,\n",
       " <meta content=\"The Game Awards - Wikipedia, la enciclopedia libre\" property=\"og:title\"/>,\n",
       " <meta content=\"website\" property=\"og:type\"/>]"
      ]
     },
     "execution_count": 46,
     "metadata": {},
     "output_type": "execute_result"
    }
   ],
   "source": [
    "# Get all meta tag\n",
    "soup.find_all ('meta')"
   ]
  },
  {
   "cell_type": "code",
   "execution_count": 47,
   "metadata": {
    "id": "SceXbWDpWWp8"
   },
   "outputs": [
    {
     "data": {
      "text/plain": [
       "<meta content=\"The Game Awards - Wikipedia, la enciclopedia libre\" property=\"og:title\"/>"
      ]
     },
     "execution_count": 47,
     "metadata": {},
     "output_type": "execute_result"
    }
   ],
   "source": [
    "#TODO\n",
    "# Get meta tag with the property og:title\n",
    "soup.find (\"meta\", property=\"og:title\")"
   ]
  },
  {
   "cell_type": "code",
   "execution_count": 48,
   "metadata": {
    "id": "WF3GqQgAWc8K"
   },
   "outputs": [],
   "source": [
    "# TODO\n",
    "# Get  meta tag with the property og:description\n",
    "soup.find (\"meta\", property=\"og:description\")"
   ]
  },
  {
   "cell_type": "code",
   "execution_count": 49,
   "metadata": {
    "id": "O29iCQk1W09S"
   },
   "outputs": [
    {
     "data": {
      "text/plain": [
       "<meta content=\"https://upload.wikimedia.org/wikipedia/commons/thumb/f/f6/The_Game_Awards.svg/1200px-The_Game_Awards.svg.png\" property=\"og:image\"/>"
      ]
     },
     "execution_count": 49,
     "metadata": {},
     "output_type": "execute_result"
    }
   ],
   "source": [
    "# TODO : obtener la imagen open graph\n",
    "# Get meta tag with the property og:image\n",
    "soup.find (\"meta\", property=\"og:image\")"
   ]
  },
  {
   "cell_type": "markdown",
   "metadata": {
    "id": "pXwf3uA84c_U"
   },
   "source": [
    "Obtener todos los los tags openg graph y almacernarlos en un diccionario \n",
    "```\n",
    "  { 'og:title': ... }\n",
    "```\n"
   ]
  },
  {
   "cell_type": "code",
   "execution_count": 50,
   "metadata": {
    "id": "yoxEir2T0SWz"
   },
   "outputs": [
    {
     "name": "stdout",
     "output_type": "stream",
     "text": [
      "{\n",
      "  \"og:image\": \"https://upload.wikimedia.org/wikipedia/commons/thumb/f/f6/The_Game_Awards.svg/640px-The_Game_Awards.svg.png\",\n",
      "  \"og:image:width\": \"640\",\n",
      "  \"og:image:height\": \"1032\",\n",
      "  \"og:title\": \"The Game Awards - Wikipedia, la enciclopedia libre\",\n",
      "  \"og:type\": \"website\"\n",
      "}\n"
     ]
    }
   ],
   "source": [
    "# TODO\n",
    "import json\n",
    "from collections import defaultdict\n",
    "import re\n",
    "\n",
    "def og_meta ( soup ):\n",
    "  \n",
    "  metadata = {}\n",
    "\n",
    "  for md in soup.find_all (\"meta\", property=re.compile (r'^og:')):\n",
    "    metadata[ md.get('property', None) ] =  md.get(\"content\", None)  \n",
    "     \n",
    "  return metadata\n",
    "\n",
    "\n",
    "imdb_og_metadata = og_meta (soup)\n",
    "print (json.dumps (imdb_og_metadata , indent=2)) # TODO\n"
   ]
  },
  {
   "cell_type": "code",
   "execution_count": 51,
   "metadata": {
    "id": "NYvCi9qy8nTg"
   },
   "outputs": [
    {
     "data": {
      "text/html": [
       "<img src=\"https://upload.wikimedia.org/wikipedia/commons/thumb/f/f6/The_Game_Awards.svg/640px-The_Game_Awards.svg.png\" width=\"256\" />"
      ],
      "text/plain": [
       "<IPython.core.display.HTML object>"
      ]
     },
     "metadata": {},
     "output_type": "display_data"
    },
    {
     "data": {
      "text/html": [
       "<h3>The Game Awards - Wikipedia, la enciclopedia libre</h3>"
      ],
      "text/plain": [
       "<IPython.core.display.HTML object>"
      ]
     },
     "metadata": {},
     "output_type": "display_data"
    }
   ],
   "source": [
    "from IPython.display import Image\n",
    "from IPython.core.display import HTML \n",
    "display (HTML('<img src=\"' + imdb_og_metadata['og:image'] + '\" width=\"256\" />'))\n",
    "display (HTML('<h3>' + imdb_og_metadata['og:title'] + '</h3>'))\n"
   ]
  },
  {
   "cell_type": "markdown",
   "metadata": {
    "id": "af2iJKX219c5"
   },
   "source": [
    "# Enunciado 4: Recuperación de información\n"
   ]
  },
  {
   "cell_type": "markdown",
   "metadata": {
    "id": "a630DpCK56UI"
   },
   "source": [
    "Para comprender mejor los conceptos de de Recuperación de Información vamos a comparar un conjunto de documentos y una consulta.\n",
    "\n",
    "Para ello, vamos a generar 4 documentos v_d$_i$ binarios usando números pseudo-aleatorios, así como un vector de consulta $q$ de la misma forma.\n",
    "\n"
   ]
  },
  {
   "cell_type": "code",
   "execution_count": 52,
   "metadata": {
    "id": "08_w_-pX8zI3"
   },
   "outputs": [
    {
     "name": "stdout",
     "output_type": "stream",
     "text": [
      "[1 1 1 1 1 0 0 0 1 1 1 1 0 0 1 1 0 0 1 0 1 0 1 0 0 0 0 0 1 1 0 1 0 1 0 0 0\n",
      " 1 1 0 1 0 1 0 0 0 1 0 0 1 1 1 1 1 1 1 0 1 1 0 1 1 0 0 0 0 0 0 1 0 0 0 0 1\n",
      " 1 0 1 0 0 1 1 0 0 0 0 0 0 0 0 0 1 0 0 0 1 0 1 0 1 0 1 1 1 1 0 1 0 0 1 0 1\n",
      " 0 0 0 0 0 0 0 0 0 0 1 1 0 0 0 1 1 0 0 1 1 0 1 1 0 0 0 1 0 0 0 1 0 1 0 0 0\n",
      " 0 0 0 1 0 1 1 0 1 1 1 1 0 1 1 1 1 1 1 1 1 1 1 0 0 0 1 1 0 0 0 0 0 1 1 0 0\n",
      " 0 1 1 0 0 1 0 0 1 1 1 1 0 1 0 1 1 0 0 1 1 1 1 1 0 1 1 1 0 1 0 1 0 0 0 1 1\n",
      " 0 1 1 0 0 1 1 1 0 1 0 1 1 0 0 0 0 0 0 0 0 1 0 0 1 1 1 0 0 1 0 1 0 0 1 1 1\n",
      " 1 0 1 0 1 1 0 0 0 0 1 0 0 0 0 1 0 1 0 0 1 0 0 0 1 0 1 0 1 1 0 1 0 1 0 0 0\n",
      " 1 1 1 0 0 0 0 1 1 1 0 0 1 1 1 1 1 0 1 1 0 1 1 0 0 0 0 1 1 0 1 1 1 0 1 0 1\n",
      " 0 1 0 1 1 0 1 0 1 1 1 1 1 1 0 0 1 0 0 1 0 1 1 0 0 1 1 0 0 1 0 0 0 0 0 0 0\n",
      " 1 0 0 1 1 0 0 0 0 1 1 0 1 1 1 1 0 0 1 0 1 1 0 1 1 1 0 0 0 0 1 1 1 0 1 0 1\n",
      " 1 0 0 0 0 0 0 0 1 1 1 1 1 1 0 0 1 0 0 0 0 1 0 1 1 1 1 1 1 1 0 1 1 1 0 1 0\n",
      " 0 1 1 1 0 0 1 0 1 0 0 0 1 0 1 1 0 1 1 1 1 1 0 1 0 0 1 1 1 1 1 1 0 1 1 1 1\n",
      " 1 0 1 0 0 1 1 1 0 0 1 0 0 1 0 1 1 0 0]\n",
      "[0 0 0 1 1 0 0 0 0 0 0 0 0 1 1 0 0 0 1 0 0 0 0 0 0 0 0 0 1 1 0 1 1 0 0 1 0\n",
      " 1 1 1 0 1 0 0 0 0 0 0 0 1 1 1 0 0 0 1 0 1 0 1 1 0 0 0 1 0 1 0 1 0 1 0 1 0\n",
      " 0 1 0 1 1 1 1 0 1 0 0 1 1 1 1 0 0 1 1 0 1 1 1 1 0 1 1 0 1 1 1 1 0 0 1 1 1\n",
      " 1 0 0 1 1 1 1 0 1 0 1 1 1 1 0 0 1 0 0 0 1 0 0 1 1 0 1 0 1 1 0 1 0 0 0 0 1\n",
      " 1 1 0 0 0 1 0 0 0 1 1 1 0 1 0 0 1 1 0 1 1 1 1 1 0 0 1 0 1 0 1 0 1 1 0 0 1\n",
      " 0 1 1 1 0 1 0 1 0 1 1 0 0 1 0 1 1 0 0 1 1 1 0 0 1 1 1 0 0 0 0 0 1 1 0 1 1\n",
      " 1 1 0 1 1 0 1 1 1 0 0 1 0 0 1 0 0 0 1 0 0 1 0 1 0 1 1 1 0 0 1 0 0 0 1 0 0\n",
      " 0 0 1 0 0 0 1 1 0 1 0 0 0 0 1 0 0 0 1 1 0 1 1 1 1 1 1 0 1 1 1 1 0 1 0 1 1\n",
      " 1 0 1 1 0 0 0 1 1 1 1 0 0 1 1 0 1 0 0 0 0 1 1 1 0 0 1 0 0 0 1 0 1 1 0 0 0\n",
      " 1 0 1 0 1 1 1 1 0 1 1 0 0 1 0 1 0 0 1 0 0 0 1 0 1 0 1 0 1 1 1 0 1 0 0 1 0\n",
      " 0 0 1 1 1 0 1 0 1 0 1 0 1 1 1 0 1 0 1 0 1 0 1 0 1 1 1 1 1 1 0 1 1 1 0 0 1\n",
      " 1 0 1 1 1 1 0 1 1 1 0 0 1 1 1 0 0 0 1 0 0 0 1 0 1 1 1 0 1 1 1 1 1 0 0 0 1\n",
      " 0 1 1 0 0 1 1 0 0 1 1 1 1 1 0 0 0 1 0 0 1 1 1 0 0 1 0 1 0 1 0 0 1 1 1 0 0\n",
      " 1 0 0 1 1 1 1 0 1 0 1 1 0 0 0 0 0 1 0]\n"
     ]
    }
   ],
   "source": [
    "import numpy as np\n",
    "np.random.seed(1000)\n",
    "\n",
    "size = 500\n",
    "\n",
    "v_d1 = np.random.randint(low=0,high=2,size=size)\n",
    "v_d2 = np.random.randint(low=0,high=2,size=size)\n",
    "v_d3 = np.random.randint(low=0,high=2,size=size)\n",
    "v_d4 = np.random.randint(low=0,high=2,size=size)\n",
    "\n",
    "documents = [v_d1,v_d2,v_d3,v_d4]\n",
    "\n",
    "q = np.random.randint(low=0,high=2,size=size)\n",
    "print (documents[-1])\n",
    "print (q)"
   ]
  },
  {
   "cell_type": "markdown",
   "metadata": {
    "id": "Uxu-jpxKcVe0"
   },
   "source": [
    "Definimos una función que calcule la similitud entre dos vectores utilizando el [producto escalar](https://numpy.org/doc/stable/reference/generated/numpy.dot.html) que contará el máximo número de puntos(palabras) en común."
   ]
  },
  {
   "cell_type": "code",
   "execution_count": 53,
   "metadata": {
    "id": "sqBqUcuj2EkU"
   },
   "outputs": [
    {
     "name": "stdout",
     "output_type": "stream",
     "text": [
      "[124, 107, 124, 135]\n"
     ]
    }
   ],
   "source": [
    "def similarity ( doc, query ):\n",
    "  sim = np.dot(doc, query, out=None)  # TODO\n",
    "  return sim\n",
    "\n",
    "\n",
    "print ([ similarity ( doc , q) for doc in documents])\n"
   ]
  },
  {
   "cell_type": "markdown",
   "metadata": {
    "id": "yFH3AeEAcntm"
   },
   "source": [
    "Esta forma del calcular la similitud tiene un punto débil y es que cuando cuando el tamaño de los documentos crece el número de palabras en común tiendo a crecer también.\n",
    "\n",
    "La similitud del coseno es una medida que determina cómo de similiares son dos documentos independientemente de su tamaño.\n",
    "\n",
    "Matemáticamente, el coseno mide el ángulo entre dos vectores y esta es su fórmula:\n",
    "\n",
    "$cossim(A,B) = \\frac{ A \\dot B}{ \\lVert{A}\\rVert \\lVert{B}\\rVert } $\n",
    "\n",
    "donde $\\lVert{A}\\rVert$ es la norma Euclídea, es decir, la longitud del vector y existen [funciones](https://numpy.org/doc/stable/reference/generated/numpy.linalg.norm.html) para calcularla. \n",
    "\n",
    "\n",
    "La similitud del coseno para vectores de términos mide lo cerca que están dos documentos o un documento y una consulta."
   ]
  },
  {
   "cell_type": "code",
   "execution_count": 54,
   "metadata": {
    "id": "2QIfy8rz7KkP"
   },
   "outputs": [
    {
     "name": "stdout",
     "output_type": "stream",
     "text": [
      "[0.4862782489820729, 0.44583333333333336, 0.49412195262408715, 0.5357817857820537]\n"
     ]
    }
   ],
   "source": [
    "def cos_similarity ( doc, query ):\n",
    "  norm_doc = np.linalg.norm(doc)# TODO\n",
    "  norm_query  =  np.linalg.norm(query) # TODO\n",
    "\n",
    "  return  similarity (doc, query) / (norm_doc * norm_query) # TODO\n",
    "\n",
    " \n",
    "print ([ cos_similarity ( doc , q) for doc in documents])\n"
   ]
  },
  {
   "cell_type": "markdown",
   "metadata": {
    "id": "ZwUe1Z8Bc8AV"
   },
   "source": [
    "Actualmente ya existen implementaciones de estas funciones en los paquetes ([cosine_similarity](https://scikit-learn.org/stable/modules/generated/sklearn.metrics.pairwise.cosine_similarity.html)). El resultado debería ser el mismo."
   ]
  },
  {
   "cell_type": "code",
   "execution_count": 55,
   "metadata": {
    "id": "F5pMABL67dU7"
   },
   "outputs": [
    {
     "data": {
      "text/plain": [
       "array([[0.48627825]])"
      ]
     },
     "execution_count": 55,
     "metadata": {},
     "output_type": "execute_result"
    }
   ],
   "source": [
    "\n",
    "from sklearn.metrics.pairwise import cosine_similarity\n",
    "\n",
    "cosine_similarity (documents[0].reshape(1,size) , q.reshape (1,size) ) \n"
   ]
  },
  {
   "cell_type": "markdown",
   "metadata": {
    "id": "rYq66PnXg4zU"
   },
   "source": [
    "Cuál de los documentos se aproxima más a la consulta?  El documento que mas se aproxima a la consulta es el documento v_d4 "
   ]
  },
  {
   "cell_type": "markdown",
   "metadata": {
    "id": "dsJ1NFbQdJUZ"
   },
   "source": [
    "---\n",
    "\n",
    "\n",
    "Cuando se necesita evaluar el rendimiento de un sistema de recuperación de información o de ciencia de datos utilizamos las métricas de la matriz de confusión.\n",
    "\n",
    "Para ello, vamos a generar dos vectores pseudo-aleatorios: `targets` es de vector de las respuestas correctas y `preds`es el vector de predicciones que nos devuelve el sistema.\n"
   ]
  },
  {
   "cell_type": "code",
   "execution_count": 56,
   "metadata": {
    "id": "IdLEO2f1ABQy"
   },
   "outputs": [
    {
     "name": "stdout",
     "output_type": "stream",
     "text": [
      "[0 1 1 1 1 0 1 1 0 1 0 0 1 0 0 0 1 1 1 1 0 0 0 0 1 0 1 1 0 0 1 1 0 1 1 0 0\n",
      " 0 0 1 0 0 0 0 1 0 1 0 0 1 1 1 0 0 1 0 0 0 0 0 1 1 1 1 1 0 0 1 1 0 0 0 0 1\n",
      " 0 0 0 1 0 1 0 0 0 0 1 0 0 1 1 0 1 1 1 1 1 0 0 0 0 0 0 0 0 1 0 0 0 1 0 1 0\n",
      " 1 0 0 1 1 1 1 1 1 0 0 0 1 0 0 1 0 1 1 0 0 0 1 1 0 1 1 0 0 0 0 1 0 0 1 0 0\n",
      " 0 0 0 0 1 1 0 0 0 0 0 0 1 1 0 1 0 0 1 0 1 1 1 0 0 0 1 1 1 1 1 0 1 0 1 0 0\n",
      " 0 0 0 0 0 0 0 0 1 0 1 0 0 1 1 0 0 1 1 1 0 1 1 0 1 1 1 1 0 1 0 1 1 1 1 0 1\n",
      " 1 1 0 0 1 0 1 1 0 0 1 0 0 0 0 0 0 1 1 1 0 0 1 0 1 0 0 1 1 1 0 1 0 0 0 1 1\n",
      " 1 1 0 1 0 1 0 0 0 0 1 0 0 0 1 1 1 1 0 0 0 1 0 0 0 1 1 0 0 0 1 1 0 1 1 1 1\n",
      " 1 1 0 1 1 0 0 1 1 1 1 1 1 0 0 0 0 1 1 1 1 1 1 0 0 1 1 1 0 0 1 1 0 0 0 0 1\n",
      " 1 0 0 0 0 1 0 1 1 0 0 0 0 0 1 0 0 1 0 0 0 1 0 1 0 0 0 1 1 1 1 0 0 0 1 0 1\n",
      " 0 1 1 0 1 0 1 0 0 1 1 0 1 0 0 1 0 0 1 0 1 0 1 0 1 1 1 1 1 1 1 0 0 1 1 0 0\n",
      " 1 1 0 1 1 1 0 0 0 1 0 1 1 1 0 1 0 0 0 1 1 0 1 0 0 1 0 0 0 1 0 0 1 0 1 1 1\n",
      " 0 1 0 0 0 1 0 1 1 0 0 1 0 1 1 0 0 1 0 0 1 1 1 1 1 1 1 1 0 1 1 0 1 1 1 0 0\n",
      " 0 0 0 0 0 1 0 1 0 0 1 1 0 0 0 0 0 0 0]\n"
     ]
    }
   ],
   "source": [
    "import numpy as np\n",
    "from sklearn.metrics import confusion_matrix\n",
    "np.random.seed(1)\n",
    "\n",
    "\n",
    "targets = np.random.randint(low=0,high=2,size=size)\n",
    "preds = np.random.randint(low=0,high=2,size=size)\n",
    "\n",
    "print (preds)"
   ]
  },
  {
   "cell_type": "markdown",
   "metadata": {
    "id": "zcrUDYMTdYD1"
   },
   "source": [
    "Lo primero es obtener la matriz de confusión:"
   ]
  },
  {
   "cell_type": "code",
   "execution_count": 57,
   "metadata": {
    "id": "uNq-dwx6ADc8"
   },
   "outputs": [
    {
     "name": "stdout",
     "output_type": "stream",
     "text": [
      "Confusion Matrix:\n",
      "[[131 125]\n",
      " [135 109]]\n"
     ]
    }
   ],
   "source": [
    "print(\"Confusion Matrix:\",confusion_matrix(targets,preds),sep=\"\\n\")"
   ]
  },
  {
   "cell_type": "markdown",
   "metadata": {
    "id": "ZXbZjkb1di9P"
   },
   "source": [
    "Definimos una función que nos ofrezca el mismo resultado pero calculando los verdaderos positivos (TP), verdaderos negativos (TN), falsos posistivos (FP) y falsos negativos (FN)."
   ]
  },
  {
   "cell_type": "code",
   "execution_count": 58,
   "metadata": {
    "id": "tesCL5LfBGkM"
   },
   "outputs": [
    {
     "name": "stdout",
     "output_type": "stream",
     "text": [
      "my Confusion Matrix:\n",
      "[[131 125]\n",
      " [135 109]]\n"
     ]
    }
   ],
   "source": [
    "def myConfusionMatrix ( targets, preds ):\n",
    "  TP = 0\n",
    "  FP = 0\n",
    "  TN = 0\n",
    "  FN = 0\n",
    "  \n",
    "  for target_data, pred_data  in zip(targets,preds):\n",
    "        if target_data==1 and pred_data==1:\n",
    "            TP += 1\n",
    "        elif target_data==0 and pred_data==0:\n",
    "            TN += 1\n",
    "        elif target_data==1 and pred_data==0:\n",
    "            FN += 1\n",
    "        elif target_data==0 and pred_data==1:\n",
    "            FP += 1 \n",
    "  # TODO\n",
    "  \n",
    "  return np.array([[TN,FP],[FN,TP]])\n",
    "\n",
    "print(\"my Confusion Matrix:\",myConfusionMatrix (targets,preds),sep=\"\\n\")"
   ]
  },
  {
   "cell_type": "markdown",
   "metadata": {
    "id": "9joIMb5wewcd"
   },
   "source": [
    "Definir mediante las siguientes funciones las siguientes métricas:\n",
    "* Precisión (precision) para medir la calidad del modelo en tareas de clasificación\n",
    "* Exhaustividad (recall) nos informa sobre la cantidad que el modelo es capaz de identificar.\n",
    "* Exactitud (accuracy) mide el porcentaje de casos que el modelo ha acertado, es decir, la relación entre las predicciones correctas y todas las predicciones.\n",
    "* El valor F1 (F1-score) se utiliza para combinar las medidas de precision y exhaustividad en un sólo valor."
   ]
  },
  {
   "cell_type": "code",
   "execution_count": 59,
   "metadata": {
    "id": "MRH0w0XpdpKH"
   },
   "outputs": [
    {
     "name": "stdout",
     "output_type": "stream",
     "text": [
      "my Precision =  0.4658119658119658\n",
      "My Recall =  0.44672131147540983\n",
      "My Accuracy =  0.48\n",
      "my F1_Score =  0.4560669456066946\n"
     ]
    }
   ],
   "source": [
    "def myPrecision(targets,preds):\n",
    "   # TODO\n",
    "  TP = 0\n",
    "  FP = 0\n",
    "  TN = 0\n",
    "  FN = 0\n",
    " \n",
    "  [[TN,FP],[FN,TP]] = myConfusionMatrix (targets,preds) # TODO\n",
    "   \n",
    "  return TP / (TP + FP) \n",
    "  \n",
    "\n",
    "def myRecall(targets,preds):\n",
    "    # TODO\n",
    "    TP = 0\n",
    "    FN = 0\n",
    "    [[TN,FP],[FN,TP]] = myConfusionMatrix (targets,preds) \n",
    "            \n",
    "    return TP / (TP + FN) \n",
    "            \n",
    "def myAccuracy ( targets, preds):\n",
    "  # TODO\n",
    "  TP = 0\n",
    "  FP = 0\n",
    "  TN = 0\n",
    "  FN = 0\n",
    "\n",
    "  [[TN,FP],[FN,TP]] = myConfusionMatrix (targets,preds) \n",
    "\n",
    "  return (TP + TN)/(TP+TN+FP+FN) \n",
    "\n",
    "def myF1Score (targets,preds):\n",
    "  precision = 0\n",
    "  recall =  0\n",
    "\n",
    "  # TODO\n",
    "  precision = myPrecision(targets,preds)\n",
    "  recall = myRecall (targets, preds )\n",
    "\n",
    "  return 2 * (precision * recall) / (precision + recall)\n",
    "\n",
    "print(\"my Precision = \", myPrecision(targets,preds)) \n",
    "print(\"My Recall = \",myRecall(targets,preds))\n",
    "print(\"My Accuracy = \",myAccuracy(targets,preds))\n",
    "print(\"my F1_Score = \",myF1Score(targets,preds))"
   ]
  },
  {
   "cell_type": "markdown",
   "metadata": {
    "id": "jjaeALlleF6F"
   },
   "source": [
    "Debería dar los mismos resultados que con las funciones de la librería."
   ]
  },
  {
   "cell_type": "code",
   "execution_count": 60,
   "metadata": {
    "id": "29wDfzcOeEnX"
   },
   "outputs": [
    {
     "name": "stdout",
     "output_type": "stream",
     "text": [
      "Precision =  0.4658119658119658\n",
      "Recall =  0.44672131147540983\n",
      "Accuracy= 0.48\n",
      "F1_Score =  0.4560669456066946\n"
     ]
    }
   ],
   "source": [
    "from sklearn.metrics import precision_score , recall_score, f1_score , accuracy_score\n",
    "\n",
    "print(\"Precision = \", precision_score(targets,preds))\n",
    "print(\"Recall = \", recall_score(targets,preds))\n",
    "print (\"Accuracy=\", accuracy_score (targets, preds))\n",
    "print(\"F1_Score = \",f1_score(targets,preds))"
   ]
  },
  {
   "cell_type": "markdown",
   "metadata": {
    "id": "xIP2ORPffROy"
   },
   "source": [
    "En vista de los resultados que ha conseguido este modelo, consideras que los resultados son correctos. \n",
    "\n",
    "`[Hasta un reloj parado acierta dos veces al día]`"
   ]
  },
  {
   "cell_type": "code",
   "execution_count": 95,
   "metadata": {
    "id": "xHaN3GLjeSdw"
   },
   "outputs": [],
   "source": [
    "# The reason why our function results are correct is that they show are the same result of the sklearn library functions, \n",
    "# from another perspective the model, in general, offer a lower score "
   ]
  },
  {
   "cell_type": "code",
   "execution_count": null,
   "metadata": {},
   "outputs": [],
   "source": []
  }
 ],
 "metadata": {
  "colab": {
   "collapsed_sections": [],
   "name": "TyFdD-PEC1-2022-1.ipynb",
   "provenance": [],
   "toc_visible": true
  },
  "kernelspec": {
   "display_name": "Python 3.8.2 32-bit",
   "language": "python",
   "name": "python38232bit3ade103d226647fb95544aef2b5a1bd1"
  },
  "language_info": {
   "codemirror_mode": {
    "name": "ipython",
    "version": 3
   },
   "file_extension": ".py",
   "mimetype": "text/x-python",
   "name": "python",
   "nbconvert_exporter": "python",
   "pygments_lexer": "ipython3",
   "version": "3.8.3"
  }
 },
 "nbformat": 4,
 "nbformat_minor": 1
}
