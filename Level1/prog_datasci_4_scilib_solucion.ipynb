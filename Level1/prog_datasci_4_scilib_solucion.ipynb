{
 "cells": [
  {
   "cell_type": "markdown",
   "metadata": {},
   "source": [
    "# Programación para *Data Science*"
   ]
  },
  {
   "cell_type": "markdown",
   "metadata": {},
   "source": [
    "Unidad 4: Librerías científicas en Python\n",
    "------------------------------------------------------"
   ]
  },
  {
   "cell_type": "markdown",
   "metadata": {},
   "source": [
    "## Introducción\n",
    "\n",
    "A continuación encontraréis una posible solución a los ejercicios propuestos en la PEC. \n",
    "Tened en cuenta que pueden existir otras maneras de resolver los ejercicios, que también son válidas \n",
    "(y que también permiten obtener la máxima puntuación del ejercicio). "
   ]
  },
  {
   "cell_type": "markdown",
   "metadata": {},
   "source": [
    "---"
   ]
  },
  {
   "cell_type": "markdown",
   "metadata": {},
   "source": [
    "## Ejercicios y preguntas teóricas para la PEC\n",
    "\n",
    "A continuación, encontraréis los **ejercicios y preguntas teóricas que debéis completar en esta PEC** y que forman parte de la evaluación de esta unidad."
   ]
  },
  {
   "cell_type": "markdown",
   "metadata": {},
   "source": [
    "<span style=\"color: #1d17f4; padding: 3px; font-size: x-large\">NumPy - Ejercicios</span>"
   ]
  },
  {
   "cell_type": "markdown",
   "metadata": {},
   "source": [
    "### Ejercicio 1\n",
    "\n",
    "Cread dos matrices, A y B, de mida 5x5 con números enteros aleatorios entre 1 y 10. A continuación cread una tercera matriz, C, de mida 2x5 a partir de la última fila de la matriz A y la primera fila de la matriz B: la primera fila de la matriz C será la última de la matriz A, y la segunda fila de la matriz C será la primera fila de la matriz B. Mostrad por pantalla el resultado obtenido.\n",
    "\n",
    "**(0.5 punts)** <span style=\"font-family: Courier New; background-color: #82b74b; color: #000000; padding: 2px; \">NM</span>"
   ]
  },
  {
   "cell_type": "code",
   "execution_count": 21,
   "metadata": {},
   "outputs": [
    {
     "name": "stdout",
     "output_type": "stream",
     "text": [
      "[[ 4  5  8  7  6]\n",
      " [ 2 10  3  6  9]\n",
      " [ 2  3  8  1  6]\n",
      " [ 1  7  2  6  8]\n",
      " [ 6  3  2  1  5]]\n",
      "[[ 6  1  3  7  4]\n",
      " [ 4  6  3  8  6]\n",
      " [ 3  8  4  6 10]\n",
      " [ 7  6  2  5  2]\n",
      " [ 7  4  9  5  6]]\n",
      "[[6 3 2 1 5]\n",
      " [6 1 3 7 4]]\n"
     ]
    }
   ],
   "source": [
    "import numpy as np\n",
    "\n",
    "# Creamos una matriz, A, utilizando el método randint de la librería random de Numpy.\n",
    "# Especificamos los puntos iniciales y finales del rango\n",
    "# (recordad que el punto final no se tiene en cuenta para generar los números aleatorios).\n",
    "# El parámetro size nos indica qué dimensiones queremos que tenga el array resultante.\n",
    "A = np.random.randint(1, 11, size=(5, 5))\n",
    "\n",
    "# Repetimos los mismo para obtener la matriz B.\n",
    "B = np.random.randint(1, 11, size=(5, 5))\n",
    "\n",
    "# Mostramos ambas matrices por pantalla ya que nos será más fácil comprobar el resultado.\n",
    "print(A)\n",
    "print(B)\n",
    "\n",
    "# Creamos la matriz C a partir de \n",
    "#  - la última fila de A (recordad que los índices siempre empiezan por 0)\n",
    "#  - primera fila de B\n",
    "C = np.array([A[4], B[0]])\n",
    "\n",
    "# Mostramos el resultado obtenido por pantalla\n",
    "print(C)"
   ]
  },
  {
   "cell_type": "markdown",
   "metadata": {},
   "source": [
    "### Ejercicio 2\n",
    "\n",
    "Dadas las matrices A y B del ejercicio anterior, mostrad por pantalla el resultado de las siguientes operaciones:\n",
    "\n",
    "* Sumar las dos matrices\n",
    "* Restar la matriz B de la matriz A\n",
    "* Multiplicar las dos matrices\n",
    "\n",
    "Explicad brevemente cuál es el método de multiplicación escogido y porque.\n",
    "\n",
    "**(0.5 punts)** <span style=\"font-family: Courier New; background-color: #82b74b; color: #000000; padding: 2px; \">NM</span>"
   ]
  },
  {
   "cell_type": "code",
   "execution_count": 22,
   "metadata": {},
   "outputs": [
    {
     "name": "stdout",
     "output_type": "stream",
     "text": [
      "El resultado de A + B =\n",
      "[[10  6 11 14 10]\n",
      " [ 6 16  6 14 15]\n",
      " [ 5 11 12  7 16]\n",
      " [ 8 13  4 11 10]\n",
      " [13  7 11  6 11]]\n",
      "El resultado de A - B =\n",
      "[[-2  4  5  0  2]\n",
      " [-2  4  0 -2  3]\n",
      " [-1 -5  4 -5 -4]\n",
      " [-6  1  0  1  6]\n",
      " [-1 -1 -7 -4 -1]]\n",
      "El resultado de A * B =\n",
      "[[24  5 24 49 24]\n",
      " [ 8 60  9 48 54]\n",
      " [ 6 24 32  6 60]\n",
      " [ 7 42  4 30 16]\n",
      " [42 12 18  5 30]]\n",
      "El resultado de A.dot(B) =\n",
      "[[159 164 127 181 176]\n",
      " [166 158 141 187 164]\n",
      " [ 97 114 103 121 144]\n",
      " [138 127 116 145 126]\n",
      " [ 96  66  82 108  94]]\n"
     ]
    }
   ],
   "source": [
    "print(\"El resultado de A + B =\\n{}\".format(A+B))\n",
    "print(\"El resultado de A - B =\\n{}\".format(A-B))\n",
    "print(\"El resultado de A * B =\\n{}\".format(A*B))\n",
    "print(\"El resultado de A.dot(B) =\\n{}\".format(A.dot(B)))"
   ]
  },
  {
   "cell_type": "markdown",
   "metadata": {},
   "source": [
    "En este caso, podemos escoger cualquiera de los dos métodos de multiplicación de matrices que hemos visto al Notebook de teoría, dado que ambas matrices tienen dimensiones compatibles. Para la multiplicación de matrices habitual, la matriz A tiene el mismo número de columnas que el número de filas de la matriz B. La multiplicación punto a punto también es posible ya que ambas matrices tienen exactamente las mismas dimensiones."
   ]
  },
  {
   "cell_type": "markdown",
   "metadata": {},
   "source": [
    "### Ejercicio 3\n",
    "\n",
    "Ordenad la matriz bidimensional ```[[5,1,7], [0,7,4], [7,23,1]]``` por columnas utilizando como algoritmo de ordenación el [Heapsort](https://en.wikipedia.org/wiki/Heapsort). \n",
    "\n",
    "**Nota:** Para resolver este ejercicio os puede ser de ayuda la función [sort](https://docs.scipy.org/doc/numpy/reference/generated/numpy.sort.html#numpy.sort) de Numpy que nos permite ordenar los elementos de un array N-dimensional.\n",
    "\n",
    "**(0.5 punts)** <span style=\"font-family: Courier New; background-color: #ffcc5c; color: #000000; padding: 3px; \">EG</span>"
   ]
  },
  {
   "cell_type": "code",
   "execution_count": 23,
   "metadata": {},
   "outputs": [
    {
     "data": {
      "text/plain": [
       "array([[ 0,  1,  1],\n",
       "       [ 5,  7,  4],\n",
       "       [ 7, 23,  7]])"
      ]
     },
     "execution_count": 23,
     "metadata": {},
     "output_type": "execute_result"
    }
   ],
   "source": [
    "# Creamos la matriz indicada al enunciado\n",
    "matriz_ex3 = [[5,1,7], [0,7,4], [7,23,1]]\n",
    "\n",
    "# Utilizamos la función sort de numpy para ordenar la matriz anterior.\n",
    "# El parámetro axis = 0 nos indica que queremos ordenar por columnas\n",
    "# y el parámetro kind nos permite especificar el algoritmo de ordenación, en este caso 'heapsort'.\n",
    "np.sort(matriz_ex3, axis=0, kind='heapsort')"
   ]
  },
  {
   "cell_type": "markdown",
   "metadata": {},
   "source": [
    "### Ejercicio 4\n",
    "\n",
    "Cread una matriz, I, de mida 10x10 donde todos sus elementos tendrán el valor `0` utilizando generadores de matrices de numpy. Modificad la matriz anterior de tal forma que ```I[i, j] = i * j``` para todo ```i``` y ```j``` pares, es decir, para todas las posiciones donde tanto `i` como `j` son pares.\n",
    "\n",
    "**(0.5 punts)** <span style=\"font-family: Courier New; background-color: #82b74b; color: #000000; padding: 2px; \">NM</span>"
   ]
  },
  {
   "cell_type": "code",
   "execution_count": 24,
   "metadata": {},
   "outputs": [
    {
     "name": "stdout",
     "output_type": "stream",
     "text": [
      "[[0. 0. 0. 0. 0. 0. 0. 0. 0. 0.]\n",
      " [0. 0. 0. 0. 0. 0. 0. 0. 0. 0.]\n",
      " [0. 0. 0. 0. 0. 0. 0. 0. 0. 0.]\n",
      " [0. 0. 0. 0. 0. 0. 0. 0. 0. 0.]\n",
      " [0. 0. 0. 0. 0. 0. 0. 0. 0. 0.]\n",
      " [0. 0. 0. 0. 0. 0. 0. 0. 0. 0.]\n",
      " [0. 0. 0. 0. 0. 0. 0. 0. 0. 0.]\n",
      " [0. 0. 0. 0. 0. 0. 0. 0. 0. 0.]\n",
      " [0. 0. 0. 0. 0. 0. 0. 0. 0. 0.]\n",
      " [0. 0. 0. 0. 0. 0. 0. 0. 0. 0.]]\n",
      "[[ 0.  0.  0.  0.  0.  0.  0.  0.  0.  0.]\n",
      " [ 0.  0.  0.  0.  0.  0.  0.  0.  0.  0.]\n",
      " [ 0.  0.  4.  0.  8.  0. 12.  0. 16.  0.]\n",
      " [ 0.  0.  0.  0.  0.  0.  0.  0.  0.  0.]\n",
      " [ 0.  0.  8.  0. 16.  0. 24.  0. 32.  0.]\n",
      " [ 0.  0.  0.  0.  0.  0.  0.  0.  0.  0.]\n",
      " [ 0.  0. 12.  0. 24.  0. 36.  0. 48.  0.]\n",
      " [ 0.  0.  0.  0.  0.  0.  0.  0.  0.  0.]\n",
      " [ 0.  0. 16.  0. 32.  0. 48.  0. 64.  0.]\n",
      " [ 0.  0.  0.  0.  0.  0.  0.  0.  0.  0.]]\n"
     ]
    }
   ],
   "source": [
    "# Definimos un par de constantes para el número de filas y columnas\n",
    "NUM_FILAS = 10\n",
    "NUM_COLUMNAS = 10\n",
    "\n",
    "# Creamos una matriz de 10x10 donde todos los valores serán 0.\n",
    "# Para conseguirlo utilizaremos la función zeros que hemos visto al Notebook de teoría.\n",
    "matriz_ex4 = np.zeros((NUM_FILAS, NUM_COLUMNAS))\n",
    "\n",
    "# Mostramos la matriz original por pantalla\n",
    "print(matriz_ex4)\n",
    "\n",
    "# Iteramos sobre todas las filas y columnas de la matriz generada utilizando un doble bucle for.\n",
    "# El primer bucle nos ayuda a recorer el índice de las filas, mientras que el segundo bucle nos \n",
    "# ayuda a recorer el índice de las columnas.\n",
    "for i in range(0, NUM_FILAS):\n",
    "    for j in range(0, NUM_COLUMNAS):\n",
    "        # Comprobamos que tanto el índice de la fila como el índice de la columna sean pares.\n",
    "        if i % 2 == 0 and j % 2 == 0:\n",
    "            # En caso afirmativo, realizamos la asignación indicada.\n",
    "            matriz_ex4[i, j] = i * j\n",
    "\n",
    "# Mostramos el resultado final por pantalla\n",
    "print(matriz_ex4)"
   ]
  },
  {
   "cell_type": "markdown",
   "metadata": {},
   "source": [
    "### Ejercicio 5\n",
    "\n",
    "Una técnica que se aplica en muchos algoritmos de compresión de imagenes, como fase previa a la compresión, es asignar a cada píxel de la imagen el valor medio de sus N píxeles vecinos. Nosotros implementaremos una versión simplificada de esta técnica.\n",
    "\n",
    "Una imagen se puede ver como una matriz bidimensional donde cada elemento de la matriz corresponde a un valor de un píxel de la imagen. Por ejemplo, si generamos una imágen a partir de la matriz que os proporcionamos más abajo, veremos una imagen en escala de grises. Para probarlo podéis ejecutar la siguiente intrucción: ```generate_png(pixels)```. Esto os generará un fichero, ```generated.png```, en el directorio de la PAC.\n",
    "\n",
    "Cread una nueva matriz, ```pixels_transform```, a partir de la matriz ```pixels``` donde el valor de cada elemento de ```pixels_transform``` se calculará como la media de los valores de los 4 vecinos más próximos del correspondiente píxel en la matriz ```pixels```. Veámoslo formalmente:\n",
    "\n",
    "```\n",
    "pixels_transform[i, j] = (pixels[i, j-1] + pixels[i-1, j] + pixels[i, j+1] + pixels[i+1, j]) / 4\n",
    "```\n",
    "\n",
    "*Consideraciones:*\n",
    "\n",
    "* Consideramos como los 4 vecinos más próximos los píxeles anterior (izquierda), superior (arriba), posterior (derecha) e inferior (abajo) del píxel que estamos analizando.\n",
    "* Si no podemos acceder a alguno de estos vecinos (e.g. el píxel (0, 0) no tiene vecinos anterior y superior), asumimos que los valores que nos faltan son 0.\n",
    "\n",
    "Mostrad por pantalla el resultado obtenido.\n",
    "\n",
    "**Nota:** Para resolver este ejercicio necesitamos recorer todos los elementos de la matriz ```pixels``` y para cada elemento tenemos que comprobar los valores de sus 4 vecinos. Necesitaremos un bloque condicional (```if```) para cada uno de los elementos vecinos.\n",
    "\n",
    "**(1.5 punts)** <span style=\"font-family: Courier New; background-color: #82b74b; color: #000000; padding: 2px; \">NM</span>"
   ]
  },
  {
   "cell_type": "code",
   "execution_count": 25,
   "metadata": {},
   "outputs": [],
   "source": [
    "from PIL import Image\n",
    "import numpy as np\n",
    "\n",
    "pixels = [\n",
    "   [54, 93, 71, 168],\n",
    "   [122, 54, 167, 93],\n",
    "   [71, 167, 54, 122],\n",
    "   [167, 82, 23, 54]\n",
    "]\n",
    "\n",
    "# Podéis utilizar la siguiente función para generar una imagen a partir de un array de píxeles.\n",
    "# Por ejemplo, generate_png(pixels)\n",
    "def generate_png(matriz):\n",
    "    # Nos aseguramos que la matriz es un array de numpy\n",
    "    pixels = np.array(matriz, dtype=np.uint8)\n",
    "\n",
    "    # Utilizamos la librería PIL para crear una imagen a partir de una array de píxeles\n",
    "    imagen = Image.fromarray(pixels)\n",
    "    imagen.save('generated.png')"
   ]
  },
  {
   "cell_type": "code",
   "execution_count": 26,
   "metadata": {},
   "outputs": [
    {
     "name": "stdout",
     "output_type": "stream",
     "text": [
      "[[ 54  93  71 168]\n",
      " [122  54 167  93]\n",
      " [ 71 167  54 122]\n",
      " [167  82  23  54]]\n",
      "[[ 53.75  44.75 107.    41.  ]\n",
      " [ 44.75 137.25  68.   114.25]\n",
      " [114.    65.25 119.75  50.25]\n",
      " [ 38.25  89.25  47.5   36.25]]\n"
     ]
    }
   ],
   "source": [
    "# Convertimos la matriz de píxeles a un array de Numpy para poder trabajar cómodamente\n",
    "pixels = np.array(pixels)\n",
    "\n",
    "# Creamos una nueva matriz y la inicializamos con 0s.\n",
    "# En este caso, no podemos asignar los valores a la misma matriz pixels\n",
    "# ya que estaríamos interfiriendo directamente con los cálculos que se realizan en cada iteración.\n",
    "pixels_transform = np.zeros((4,4))\n",
    "\n",
    "\n",
    "# De nuevo, recoremos todos los elementos de la matriz con un doble bucle for.\n",
    "# El primer bucle itera sobre el índice de las filas, mientras que el segundo sobre el índice de las columnas.\n",
    "for i in range(0, 4):\n",
    "    for j in range(0, 4):\n",
    "        \n",
    "        # Inicializamos los valores de los 4 píxeles vecinos a 0\n",
    "        p_ant  = 0\n",
    "        p_post = 0\n",
    "        p_sup  = 0\n",
    "        p_inf  = 0\n",
    "        \n",
    "        # Comprobamos que el elemento tenga un píxel vecino anterior.\n",
    "        # Es decir, que el índice de la columna inmediatamente anterior\n",
    "        # esté dentro del rango permitido para la matriz (0, 3).\n",
    "        if j-1 >= 0 and j-1 < 4:\n",
    "            # Si es el caso, accedemos al valor del píxel vecino y lo guardamos a la variable correspondiente\n",
    "            p_ant = pixels[i, j-1]\n",
    "        \n",
    "        # Repetimos la misma operación para el píxel vecino superior.\n",
    "        # En este caso, debe existir una fila inmediatamente superior.\n",
    "        if i-1 >= 0 and i-1 < 4:\n",
    "            p_sup = pixels[i-1,j]\n",
    "\n",
    "        # Repetimos la misma operación para el píxel vecino posterior.\n",
    "        # En este caso, debe existir una fila inmediatamente posterior.\n",
    "        if j+1 >= 0 and j+1 < 4:\n",
    "            p_post = pixels[i,j+1]\n",
    "            \n",
    "        # Repetimos la misma operación para el píxel vecino inferior.\n",
    "        # En este caso, debe existir una fila inmediatamente inferior.\n",
    "        if i+1 >= 0 and i+1 < 4:\n",
    "            p_inf = pixels[i+1,j]\n",
    "        \n",
    "        # Ara ya tenemos todos los valores de los píxeles vecinos\n",
    "        # y por lo tanto, podemos calcular el resultado final.\n",
    "        pixels_transform[i, j] = (p_ant + p_sup + p_post + p_inf) / 4\n",
    "\n",
    "# Mostramos por pantalla las dos matrices obtenidas para poder compararlas.\n",
    "print(pixels)\n",
    "print(pixels_transform)"
   ]
  },
  {
   "cell_type": "markdown",
   "metadata": {},
   "source": [
    "<br>\n",
    "<span style=\"color: #1d17f4; padding: 3px; font-size: x-large\">Matplotlib - Ejercicios</span>"
   ]
  },
  {
   "cell_type": "markdown",
   "metadata": {},
   "source": [
    "### Ejercicio 1\n",
    "\n",
    "Representad en una única gráfica las funciones f1 y f2 definidas más abajo, evaluadas en el intervalo [0, 2] y con paso (resolución) 0.01. Haced que los rangos de valores mostrados sean `[0.25, 2.25]` para el eje de las X y `[-1, 1]` para el eje de las Y. Adicionalmente, mostrad la gráfica correspondiente a ```f1``` con color <span style=\"color: green\">verde</span> y la gráfica correspondiente a ```f2``` con color <span style=\"color: red\">rojo</span>.\n",
    "\n",
    "**(1 punt)** <span style=\"font-family: Courier New; background-color: #82b74b; color: #000000; padding: 2px; \">NM</span>"
   ]
  },
  {
   "cell_type": "code",
   "execution_count": 27,
   "metadata": {},
   "outputs": [],
   "source": [
    "import numpy as np\n",
    "\n",
    "def f1(x):\n",
    "    return np.exp(-x)\n",
    "\n",
    "def f2(x):\n",
    "    return np.exp(-x) * np.sin(2 * np.pi * x)"
   ]
  },
  {
   "cell_type": "code",
   "execution_count": 28,
   "metadata": {},
   "outputs": [
    {
     "data": {
      "text/plain": [
       "[0.25, 2.25, -1, 1]"
      ]
     },
     "execution_count": 28,
     "metadata": {},
     "output_type": "execute_result"
    },
    {
     "data": {
      "image/png": "[encoded data removed]",
      "text/plain": [
       "<Figure size 432x288 with 1 Axes>"
      ]
     },
     "metadata": {
      "needs_background": "light"
     },
     "output_type": "display_data"
    }
   ],
   "source": [
    "# Añadimos esta instrucción por tal de mostrar los gráficos dentro del Notebook.\n",
    "%matplotlib inline\n",
    "\n",
    "import matplotlib\n",
    "import matplotlib.pyplot as plt\n",
    "\n",
    "# Creamos el rango indicado al enunciado utilizando la funció arange \n",
    "# que hemos visto al Notebook de teoría.\n",
    "x = np.arange(0, 2+0.01, 0.01)\n",
    "\n",
    "# Mostramos la primera gráfica de color verde\n",
    "plt.plot(x, f1(x), 'g')\n",
    "\n",
    "# Mostramos la segunda gráfica de color rojo\n",
    "plt.plot(x, f2(x), 'r')\n",
    "\n",
    "# Modificamos los límites de los ejes según el enunciado\n",
    "plt.axis([0.25, 2.25, -1, 1])"
   ]
  },
  {
   "cell_type": "markdown",
   "metadata": {},
   "source": [
    "### Ejercicio 2\n",
    "\n",
    "A continuación os facilitamos los resultados de las elecciones generales, que tuvieron lugar en España el pasado mes de abril del 2019, para los 10 partidos más votados. Mostrad dos gráficas de barras con los resultados del número de votos y del número de diputados para cada partido respectivamente.\n",
    "\n",
    "*Consideraciones:*\n",
    "\n",
    "* Debéis mostrar las dos gráficas una al lado de la otra (distribución horizontal).\n",
    "* Cada gráfica tiene que mostrar los datos de manera horizontal (barras horizontales).\n",
    "* El eje de las Y debe incluir las etiquetas con el nombre de los partidos.\n",
    "* Debeís incluir un texto con el número de votos para cada partido dentro del gráfico. El texto debería estar situado a la derecha de cada barra.\n",
    "\n",
    "**Nota:** En el Notebook de teoria hemos visto como mostrar gráficas lineares simples. Matplotlib nos ofrece muchos otros tipos de gráficas, siendo las gráficas de barra uno de ellos. Para resolver este ejercicio podéis consultar la documentación oficial de [Matplotlib](https://matplotlib.org/3.1.1/api/_as_gen/matplotlib.pyplot.bar.html) para ver como trabajar con este tipo de gráficas. También os pueden resultar útiles las funciones [text](https://matplotlib.org/3.1.1/api/_as_gen/matplotlib.pyplot.text.html) o [annotate](https://matplotlib.org/3.1.1/api/_as_gen/matplotlib.pyplot.annotate.html) para mostrar el nombre de votos.\n",
    "\n",
    "**(1.5 punts)** <span style=\"font-family: Courier New; background-color: #ffcc5c; color: #000000; padding: 3px; \">EG</span>"
   ]
  },
  {
   "cell_type": "markdown",
   "metadata": {},
   "source": [
    "| Partido | Votos | Diputados |\n",
    "|--------|------|----------|\n",
    "| PSOE | 7513142 | 123 |\n",
    "| PP | 4373653 | 66 |\n",
    "| Cs | 4155665 | 57 |\n",
    "| PODEMOS-IU-EQUO | 2897419 | 33 |\n",
    "| VOX | 2688092 | 24 |\n",
    "| ERC | 1020392 | 15 |\n",
    "| ECP-GUANYEM | 615665 | 7 |\n",
    "| JxCAT | 500787 | 7 |\n",
    "| EAJ-PNV | 395884 | 6 |\n",
    "| PACMA | 328299 | 0 |"
   ]
  },
  {
   "cell_type": "code",
   "execution_count": 29,
   "metadata": {},
   "outputs": [
    {
     "data": {
      "image/png": "[encoded data removed]",
      "text/plain": [
       "<Figure size 864x432 with 2 Axes>"
      ]
     },
     "metadata": {
      "needs_background": "light"
     },
     "output_type": "display_data"
    }
   ],
   "source": [
    "# Añadimos esta instrucción por tal de mostrar los gráficos dentro del Notebook.\n",
    "%matplotlib inline\n",
    "\n",
    "import numpy as np\n",
    "import matplotlib\n",
    "import matplotlib.pyplot as plt\n",
    "\n",
    "# Recogemos la información de la tabla anterior en variables de Python.\n",
    "partidos = [\"PSOE\", \"PP\", \"Cs\", \"PODEMOS-IU-EQUO\", \"VOX\", \"ERC\", \"ECP-GUANYEM\", \"JxCAT\", \"EAJ-PNV\", \"PACMA\"]\n",
    "votos = [7513142, 4373653, 4155665, 2897419, 2688092, 1020392, 615665, 500787, 395884, 328299]\n",
    "diputados = [123, 66, 57, 33, 24, 15, 7, 7, 6, 0]\n",
    "\n",
    "# Creamos un array con los índices para los cuales mostramos los valores.\n",
    "y = np.arange(len(partidos))\n",
    "\n",
    "# Creamos una figura con dos sub-gráficas distribuidas horizontalmente.\n",
    "# (1, 2) nos indica 2 columnas distribuidas en una misma fila.\n",
    "# El parámetro figsize nos permite definir la mida (ancho, alto) en inches de la figura resultante.\n",
    "fig, (ax1, ax2) = plt.subplots(1, 2, figsize=(12, 6))\n",
    "\n",
    "# Mostramos un diagrama de barras para el número de votos.\n",
    "ax1.barh(y, votos, align='center')\n",
    "\n",
    "# Configuramos el eje de las Y para definir los índices a mostrar y su etiqueta.\n",
    "ax1.set_yticks(y)\n",
    "ax1.set_yticklabels(partidos)\n",
    "\n",
    "# Mostramos el valor de los números de votos dentro del gráfico.\n",
    "for i, voto in enumerate(votos):\n",
    "    # El número de votos nos dará la posición en el eje de las X.\n",
    "    # La posición dentro del array nos dará la posición en el eje de las Y.\n",
    "    # Utilizamos la función str() para convertir el valor numérico a un string \n",
    "    # que se pueda mostrar en el gráfico.\n",
    "    ax1.text(voto, i, str(voto))\n",
    "\n",
    "\n",
    "# Mostramos el diagrama de barras para el número de diputados.\n",
    "ax2.barh(y, diputados, align='center')\n",
    "\n",
    "# Igual que antes, configuramos el eje de las Y para definir los índices a mostrar y su etiqueta.\n",
    "ax2.set_yticks(y)\n",
    "ax2.set_yticklabels(partidos)\n",
    "\n",
    "# Mostramos el valor de los números de diputados dentro del gráfico.\n",
    "for i, diputado in enumerate(diputados):\n",
    "    # El número de diputados nos dará la posición en el eje de las X.\n",
    "    # La posición dentro del array nos dará la posición en el eje de las Y.\n",
    "    # Utilizamos la función str() para convertir el valor numérico a un string \n",
    "    # que se pueda mostrar en el gráfico.\n",
    "    ax2.text(diputado, i, str(diputado))"
   ]
  },
  {
   "cell_type": "markdown",
   "metadata": {},
   "source": [
    "Como podemos observar a simple vista, el resultado no es del todo óptimo ya que tenemos ciertos textos que se solapan. A continuación, podemos ver algunas técnicas para evitar estos pequeños desajustes en la visualización."
   ]
  },
  {
   "cell_type": "code",
   "execution_count": 30,
   "metadata": {},
   "outputs": [
    {
     "data": {
      "image/png": "[encoded data removed]",
      "text/plain": [
       "<Figure size 936x432 with 2 Axes>"
      ]
     },
     "metadata": {
      "needs_background": "light"
     },
     "output_type": "display_data"
    }
   ],
   "source": [
    "fig, (ax3, ax4) = plt.subplots(1, 2, figsize=(13, 6))\n",
    "\n",
    "# Mostramos un diagrama de barras para el número de votos.\n",
    "ax3.barh(y, votos, align='center')\n",
    "ax3.set_yticks(y)\n",
    "ax3.set_yticklabels(partidos)\n",
    "ax3.set_xmargin(2)\n",
    "\n",
    "# Podemos utilizar la función tick_params para modificar algunos parámetros de los ejes.\n",
    "# Uno de los parámetros que podemos modificar es la rotación de las etiquetas de los ejes.\n",
    "ax3.tick_params(axis='x', labelrotation=45)\n",
    "\n",
    "for i, voto in enumerate(votos):\n",
    "    ax3.text(voto, i, str(voto))\n",
    "    \n",
    "\n",
    "# Mostramos el diagrama de barras para el número de diputados.\n",
    "ax4.barh(y, diputados, align='center')\n",
    "ax4.set_yticks(y)\n",
    "ax4.set_yticklabels(partidos)\n",
    "\n",
    "ax4.tick_params(axis='x', labelrotation=45)\n",
    "\n",
    "for i, diputado in enumerate(diputados):\n",
    "    ax4.text(diputado, i, str(diputado))\n",
    "    \n",
    "# También podemos utilizar la función subplots_adjust para ajustar las dimensiones \n",
    "# de la figura resultante. \n",
    "# El parámetro wspace nos permite indicar la cantidad de espacio que tiene que haber \n",
    "# horizontalmente entre cada sub-gráfico.\n",
    "fig.subplots_adjust(wspace=0.5)"
   ]
  },
  {
   "cell_type": "markdown",
   "metadata": {},
   "source": [
    "<br>\n",
    "<span style=\"color: #1d17f4; padding: 3px; font-size: x-large\">pandas - Ejercicios</span>"
   ]
  },
  {
   "cell_type": "markdown",
   "metadata": {},
   "source": [
    "### Ejercicio 1\n",
    "\n",
    "Cargad los datos del fichero _amazon.csv_, que podéis encontrar en la carpeta `data`, en un _dataframe_. Este conjunto de datos recoge información sobre el número de [incendios en bosques de Brasil](https://www.kaggle.com/gustavomodelli/forest-fires-in-brazil) entre el 1998 y el 2017.\n",
    "\n",
    "Mostrad el número de filas del _dataframe_ y el nombre de las columnas.\n",
    "\n",
    "*Consideraciones:*\n",
    "\n",
    "* Debéis mostrar únicamente la información que os pedimos al enunciado.\n",
    "\n",
    "**(0.5 punts)** <span style=\"font-family: Courier New; background-color: #82b74b; color: #000000; padding: 3px; \">NM</span>"
   ]
  },
  {
   "cell_type": "code",
   "execution_count": 31,
   "metadata": {},
   "outputs": [
    {
     "name": "stdout",
     "output_type": "stream",
     "text": [
      "<class 'pandas.core.frame.DataFrame'>\n",
      "RangeIndex(start=0, stop=6454, step=1)\n",
      "El dataframe contiene un total de 6454 filas\n",
      "Empty DataFrame\n",
      "Columns: [year, state, month, number, date]\n",
      "Index: []\n",
      "['year', 'state', 'month', 'number', 'date']\n"
     ]
    }
   ],
   "source": [
    "import pandas as pd\n",
    "\n",
    "# Importamos el fichero a un dataframe de pandas.\n",
    "data = pd.read_csv(\"data/amazon.csv\")\n",
    "print(type(data))\n",
    "\n",
    "# Comprobamos el índice del dataframe.\n",
    "print(data.index)\n",
    "\n",
    "# Podemos mostrar sólo el índice de la última fila por ejemplo:\n",
    "print(\"El dataframe contiene un total de {} filas\".format(data.index.stop))\n",
    "\n",
    "# Para mostrar los nombres de las columnas, podemos utilizar\n",
    "# la función head que hemos visto al Notebook de teoría, pasando 0 como parámetro.\n",
    "print(data.head(0))\n",
    "\n",
    "# O bien podemos acceder a la propiedad columns del dataframe:\n",
    "print(list(data.columns))"
   ]
  },
  {
   "cell_type": "markdown",
   "metadata": {},
   "source": [
    "### Ejercicio 2\n",
    "\n",
    "Agrupad los datos cargados al ejercicio 1 por **año** y, para cada año, mostrad el número total de incendios que tuvierón lugar en todo el país.\n",
    "\n",
    "**Nota:** Al Notebook de teoria hemos visto como calcular la media de una agrupación de datos. Para resolver este ejercicio tendréis que investigar como sumar todos los valores de una columna en una agrupación. Os puede ser de utilidad la función [aggregate](https://pandas.pydata.org/pandas-docs/stable/reference/api/pandas.DataFrame.aggregate.html) de pandas, la cual nos permite aplicar diferentes funciones a una columna en un ```groupby```.\n",
    "\n",
    "**(0.5 punts)** <span style=\"font-family: Courier New; background-color: #ffcc5c; color: #000000; padding: 3px; \">EG</span>"
   ]
  },
  {
   "cell_type": "code",
   "execution_count": 32,
   "metadata": {},
   "outputs": [
    {
     "data": {
      "text/plain": [
       "year\n",
       "1998    20013.971\n",
       "1999    26882.821\n",
       "2000    27351.251\n",
       "2001    29071.612\n",
       "2002    37390.600\n",
       "2003    42760.674\n",
       "2004    38453.163\n",
       "2005    35004.965\n",
       "2006    33832.161\n",
       "2007    33037.413\n",
       "2008    29378.964\n",
       "2009    39117.178\n",
       "2010    37037.449\n",
       "2011    34633.545\n",
       "2012    40084.860\n",
       "2013    35146.118\n",
       "2014    39621.183\n",
       "2015    41208.292\n",
       "2016    42212.229\n",
       "2017    36685.624\n",
       "Name: number, dtype: float64"
      ]
     },
     "execution_count": 32,
     "metadata": {},
     "output_type": "execute_result"
    }
   ],
   "source": [
    "# Agrupamos los datos por año.\n",
    "grouped = data.groupby(\"year\")\n",
    "\n",
    "# Aplicamos la función sum a la columna number para cada grupo.\n",
    "grouped[\"number\"].aggregate('sum')"
   ]
  },
  {
   "cell_type": "markdown",
   "metadata": {},
   "source": [
    "### Ejercicio 3\n",
    "\n",
    "Mostrad los estados de Brasil donde se registraron más de _800_ incendios al mes, contando los meses de _junio_, _julio_ y _agosto_. Debéis mostrar como resultado una lista de los estados **sin repetir**.\n",
    "\n",
    "**Nota:** Al Notebook de teoria hemos visto operaciones básicas de filtrado. Para resolver este ejercicio deberéis investigar como aplicar condiciones más complejas. Para extraer una lista de valores _únicos_ de una columna de un dataframe os puede ser útil la función [unique](https://pandas.pydata.org/pandas-docs/stable/reference/api/pandas.Series.unique.html) de pandas.\n",
    " \n",
    " **(1 punt)** <span style=\"font-family: Courier New; background-color: #ffcc5c; color: #000000; padding: 3px; \">EG</span>"
   ]
  },
  {
   "cell_type": "code",
   "execution_count": 33,
   "metadata": {},
   "outputs": [
    {
     "name": "stdout",
     "output_type": "stream",
     "text": [
      "['Janeiro' 'Fevereiro' 'Março' 'Abril' 'Maio' 'Junho' 'Julho' 'Agosto'\n",
      " 'Setembro' 'Outubro' 'Novembro' 'Dezembro']\n"
     ]
    },
    {
     "data": {
      "text/plain": [
       "array(['Acre', 'Amazonas', 'Bahia', 'Goias', 'Maranhao', 'Mato Grosso',\n",
       "       'Minas Gerais', 'Pará', 'Paraiba', 'Piau', 'Rio', 'Rondonia',\n",
       "       'Sao Paulo', 'Tocantins'], dtype=object)"
      ]
     },
     "execution_count": 33,
     "metadata": {},
     "output_type": "execute_result"
    }
   ],
   "source": [
    "# Filtramos por la columna number y por la columna month.\n",
    "# Podemos mostrar los valores únicos de la columna month de la siguiente manera:\n",
    "print(data['month'].unique())\n",
    "\n",
    "# Extraemos los valores que nos interesen de los valores mostrados. En este caso: 'Junho', 'Julho', 'Agosto'\n",
    "data_ex3 = data[(data[\"number\"] > 800) & (data[\"month\"].isin(['Junho', 'Julho', 'Agosto']))]\n",
    "#\n",
    "# El operador & nos permite aplicar un operador lógico AND\n",
    "# y la función isin nos permite comprobar si un valor está dentro de un cierto array.\n",
    "\n",
    "# Accedemos a la columna \"state\" del conjunto filtrado y mostramos sus valores únicos.\n",
    "data_ex3['state'].unique()"
   ]
  },
  {
   "cell_type": "markdown",
   "metadata": {},
   "source": [
    "Como podéis observar, la solución anterior asume que hay un único valor o registro para el número de incendios registrados durante un año, para un mes y estado concretos. Se trata de un filtrado básico dónde únicamente comprobamos aquellos registros que indiquen más de 800 incendios.\n",
    "\n",
    "Otra forma de solucionarlo seria agrupando por año, mes y estado y comprobando que la suma del número de incendios supera los 800 incendios. Vamos a verlo con código."
   ]
  },
  {
   "cell_type": "code",
   "execution_count": 34,
   "metadata": {},
   "outputs": [
    {
     "name": "stdout",
     "output_type": "stream",
     "text": [
      "['Acre' 'Amazonas' 'Bahia' 'Goias' 'Maranhao' 'Mato Grosso' 'Minas Gerais'\n",
      " 'Paraiba' 'Pará' 'Piau' 'Rio' 'Rondonia' 'Sao Paulo' 'Tocantins']\n"
     ]
    }
   ],
   "source": [
    "import numpy as np\n",
    "\n",
    "# Filtramos primero sólo aquellos meses que queremos tratar.\n",
    "data_ex3 = data[data[\"month\"].isin(['Junho', 'Julho', 'Agosto'])]\n",
    "\n",
    "# Agrupamos por año, estado y mes.\n",
    "data_grouped = data_ex3.groupby([\"year\", \"state\", \"month\"])\n",
    "\n",
    "# Usamos un bucle for para recorer los grupos\n",
    "# y guardamos los estados que cumplen la condición en un array.\n",
    "states = []\n",
    "for name, group in data_grouped:\n",
    "    # Comprobamos que la suma de la columna \"number\" es superior a 800.\n",
    "    if group[\"number\"].sum() > 800:\n",
    "        # Guardamos el estado extrayendo su valor de la tupla name.\n",
    "        states.append(name[1])\n",
    "        \n",
    "# Mostramos los valores únicos del array resultante.\n",
    "print(np.unique(states))"
   ]
  },
  {
   "cell_type": "markdown",
   "metadata": {},
   "source": [
    "### Ejercicio 4\n",
    "\n",
    "Queremos buscar aquellos estados donde, durante el año _2017_, tuvierón lugar _más de 800_ incendios al mes, a lo largo de cualquier mes del año. Debéis mostrar por pantalla el **estado**, el **mes** (o los meses si la condición se cumple en varios meses) y el **nombre total de incendios** registrados en el mes correspondiente.\n",
    "\n",
    "**Nota**: Además del contenido de los Notebook de teoria, podéis utilizar lo que habéis aprendido haciendo el ejercicio 2.\n",
    "\n",
    "**(0.5 punts)** <span style=\"font-family: Courier New; background-color: #82b74b; color: #000000; padding: 3px; \">NM</span>"
   ]
  },
  {
   "cell_type": "code",
   "execution_count": 35,
   "metadata": {},
   "outputs": [
    {
     "name": "stdout",
     "output_type": "stream",
     "text": [
      "('Amapa', 'Novembro') 858.0\n",
      "('Ceara', 'Novembro') 812.0\n",
      "('Ceara', 'Outubro') 949.0\n",
      "('Maranhao', 'Junho') 885.0\n",
      "('Mato Grosso', 'Janeiro') 837.0\n",
      "('Mato Grosso', 'Maio') 917.0\n",
      "('Mato Grosso', 'Março') 889.0\n",
      "('Mato Grosso', 'Novembro') 946.0\n",
      "('Paraiba', 'Agosto') 990.0\n",
      "('Paraiba', 'Julho') 893.0\n",
      "('Rio', 'Agosto') 1004.0\n",
      "('Rio', 'Julho') 959.0\n",
      "('Rio', 'Setembro') 1119.0\n",
      "('Sao Paulo', 'Agosto') 981.0\n",
      "('Sao Paulo', 'Julho') 802.0\n"
     ]
    }
   ],
   "source": [
    "# Filtramos por el año 2017.\n",
    "data_ex4 = data[(data['year'] == 2017)]\n",
    "\n",
    "# Agrupamos los datos filtrados por las columnas \"state\" y \"month\".\n",
    "grouped = data_ex4.groupby(['state', 'month'])\n",
    "\n",
    "# Utilizamos un bucle for para recorer los grupos:\n",
    "for name, group in grouped:\n",
    "\n",
    "    # Comprobamos que la suma de la columna 'number' es superior a 800.\n",
    "    if group['number'].sum() > 800:\n",
    "        # Mostramos el nombre del grupo junto con el valor obtenido.\n",
    "        print(name, group['number'].sum())"
   ]
  },
  {
   "cell_type": "markdown",
   "metadata": {},
   "source": [
    "### Ejercicio 5\n",
    "\n",
    "Cread una copia del dataframe original añadiendo una nueva columna que nos indicará para cada fila el nivel de riesgo de dicha fila. Definimos tres niveles de riesgo:\n",
    "\n",
    "- **high** : si se ha registrado una fila con más de 800 incendios \n",
    "- **medium** : si se ha registrado una fila con un nombre de incendios entre 400 y 800\n",
    "- **low** : si se ha registrado una fila con menos de 400 incendios\n",
    "\n",
    "Mostrad por pantalla aquellas filas que correspondan a un nivel de riesgo alto ( _high_ ).\n",
    "\n",
    "**Nota:** pandas nos ofrece principalmente tres maneras de añadir nuevas columnas a un dataframe existente. Cualquiera de las tres formas son válidas para resolver este ejercicio. Podéis buscar en Internet como añadir columnas a un dataframe de pandas, ya que la documentación presenta los tres métodos de forma separada.\n",
    "\n",
    "**(1.5 punts)** <span style=\"font-family: Courier New; background-color: #ffcc5c; color: #000000; padding: 3px; \">EG</span>"
   ]
  },
  {
   "cell_type": "markdown",
   "metadata": {},
   "source": [
    "Hi ha varies maneres d'afegir una nova columna a un dataframe, però els tres mètodes més populars serien:\n",
    "\n",
    "* Utilitzant l'operador [ ]\n",
    "* Utilitzant la funció [assign](https://pandas.pydata.org/pandas-docs/stable/reference/api/pandas.DataFrame.assign.html)\n",
    "* Utilitzant la funció [insert](https://pandas.pydata.org/pandas-docs/stable/reference/api/pandas.DataFrame.insert.html)\n",
    "\n",
    "A continuació podem veure un exemple utilitzant cada un dels mètodes mencionats anteriorment."
   ]
  },
  {
   "cell_type": "code",
   "execution_count": 36,
   "metadata": {},
   "outputs": [
    {
     "name": "stdout",
     "output_type": "stream",
     "text": [
      "Showing default value set to new column:\n",
      "   year state    month  number        date  risk\n",
      "0  1998  Acre  Janeiro     0.0  1998-01-01  none\n",
      "1  1999  Acre  Janeiro     0.0  1999-01-01  none\n",
      "2  2000  Acre  Janeiro     0.0  2000-01-01  none\n",
      "3  2001  Acre  Janeiro     0.0  2001-01-01  none\n",
      "4  2002  Acre  Janeiro     0.0  2002-01-01  none\n",
      "5  2003  Acre  Janeiro    10.0  2003-01-01  none\n",
      "6  2004  Acre  Janeiro     0.0  2004-01-01  none\n",
      "7  2005  Acre  Janeiro    12.0  2005-01-01  none\n",
      "8  2006  Acre  Janeiro     4.0  2006-01-01  none\n",
      "9  2007  Acre  Janeiro     0.0  2007-01-01  none\n"
     ]
    }
   ],
   "source": [
    "# El operador [ ]\n",
    "\n",
    "import numpy as np\n",
    "\n",
    "# Seguramente la opción más fácil es utilizar [ ] para crear y asignar una nueva columna:\n",
    "data[\"risk\"] = \"none\"\n",
    "print(\"Showing default value set to new column:\")\n",
    "print(data.head(10))\n",
    "#\n",
    "# Con la expresión anterior, estamos añadiendo una nueva columna con el nombre \"risk\"\n",
    "# y estamos asignando el valor por defecto \"none\" a dicha columna para todas las filas del dataframe."
   ]
  },
  {
   "cell_type": "code",
   "execution_count": 37,
   "metadata": {},
   "outputs": [
    {
     "name": "stdout",
     "output_type": "stream",
     "text": [
      "Showing default value set to new column:\n",
      "   year state    month  number        date  risk risk2\n",
      "0  1998  Acre  Janeiro     0.0  1998-01-01  none  none\n",
      "1  1999  Acre  Janeiro     0.0  1999-01-01  none  none\n",
      "2  2000  Acre  Janeiro     0.0  2000-01-01  none  none\n",
      "3  2001  Acre  Janeiro     0.0  2001-01-01  none  none\n",
      "4  2002  Acre  Janeiro     0.0  2002-01-01  none  none\n",
      "5  2003  Acre  Janeiro    10.0  2003-01-01  none  none\n",
      "6  2004  Acre  Janeiro     0.0  2004-01-01  none  none\n",
      "7  2005  Acre  Janeiro    12.0  2005-01-01  none  none\n",
      "8  2006  Acre  Janeiro     4.0  2006-01-01  none  none\n",
      "9  2007  Acre  Janeiro     0.0  2007-01-01  none  none\n"
     ]
    }
   ],
   "source": [
    "# La función assign\n",
    "\n",
    "# La primera diferencia importante con el método que hemos visto anteriormente, \n",
    "# es que la función assign no modifica el dataframe original sino que crea y devuelve una copia.\n",
    "modified_data = data.assign(risk2 = \"none\")\n",
    "print(\"Showing default value set to new column:\")\n",
    "print(modified_data.head(10))"
   ]
  },
  {
   "cell_type": "code",
   "execution_count": 38,
   "metadata": {},
   "outputs": [
    {
     "name": "stdout",
     "output_type": "stream",
     "text": [
      "Showing default value set to new column:\n",
      "   year state risk3    month  number        date  risk\n",
      "0  1998  Acre  none  Janeiro     0.0  1998-01-01  none\n",
      "1  1999  Acre  none  Janeiro     0.0  1999-01-01  none\n",
      "2  2000  Acre  none  Janeiro     0.0  2000-01-01  none\n",
      "3  2001  Acre  none  Janeiro     0.0  2001-01-01  none\n",
      "4  2002  Acre  none  Janeiro     0.0  2002-01-01  none\n",
      "5  2003  Acre  none  Janeiro    10.0  2003-01-01  none\n",
      "6  2004  Acre  none  Janeiro     0.0  2004-01-01  none\n",
      "7  2005  Acre  none  Janeiro    12.0  2005-01-01  none\n",
      "8  2006  Acre  none  Janeiro     4.0  2006-01-01  none\n",
      "9  2007  Acre  none  Janeiro     0.0  2007-01-01  none\n"
     ]
    }
   ],
   "source": [
    "# La función insert\n",
    "\n",
    "# La particularidad de este método es que nos permite añadir la nueva columna \n",
    "# en cualquier lugar del dataframe. No tiene porque ser siempre la última columna.\n",
    "data.insert(2, \"risk3\", \"none\")\n",
    "print(\"Showing default value set to new column:\")\n",
    "print(data.head(10))\n",
    "#\n",
    "# En este caso, estamos añadiendo la nueva columna en la tercera posición \n",
    "# (recordad que los índices en Python siempre empiezan por 0).\n",
    "\n",
    "# Si ejecutamos este código dos veces seguidas obtenemos un error de tipus ValueError.\n",
    "# Esto se debe a que la función insert muestra una excepción si intentamos añadir una \n",
    "# columna que ya existe. Si queremos evitarlo, podemos añadir el parámetro allow_duplicates = true\n",
    "# en la llamada a la función insert."
   ]
  },
  {
   "cell_type": "code",
   "execution_count": 39,
   "metadata": {},
   "outputs": [
    {
     "name": "stdout",
     "output_type": "stream",
     "text": [
      "\n",
      "Showing rows with high risk:\n",
      "      year      state risk3     month  number        date  risk\n",
      "148   2006       Acre  none    Agosto   839.0  2006-01-01  high\n",
      "149   2007       Acre  none    Agosto   960.0  2007-01-01  high\n",
      "197   2015       Acre  none   Outubro   905.0  2015-01-01  high\n",
      "676   2015      Amapa  none   Outubro   827.0  2015-01-01  high\n",
      "685   2004      Amapa  none  Novembro   949.0  2004-01-01  high\n",
      "...    ...        ...   ...       ...     ...         ...   ...\n",
      "6339  2002  Tocantins  none     Julho   976.0  2002-01-01  high\n",
      "6344  2007  Tocantins  none     Julho   982.0  2007-01-01  high\n",
      "6346  2009  Tocantins  none     Julho   989.0  2009-01-01  high\n",
      "6365  2008  Tocantins  none    Agosto   845.0  2008-01-01  high\n",
      "6432  2015  Tocantins  none  Novembro   833.0  2015-01-01  high\n",
      "\n",
      "[135 rows x 7 columns]\n",
      "\n",
      "Showing rows with low risk:\n",
      "      year      state risk3     month  number        date risk\n",
      "0     1998       Acre  none   Janeiro     0.0  1998-01-01  low\n",
      "1     1999       Acre  none   Janeiro     0.0  1999-01-01  low\n",
      "2     2000       Acre  none   Janeiro     0.0  2000-01-01  low\n",
      "3     2001       Acre  none   Janeiro     0.0  2001-01-01  low\n",
      "4     2002       Acre  none   Janeiro     0.0  2002-01-01  low\n",
      "...    ...        ...   ...       ...     ...         ...  ...\n",
      "6449  2012  Tocantins  none  Dezembro   128.0  2012-01-01  low\n",
      "6450  2013  Tocantins  none  Dezembro    85.0  2013-01-01  low\n",
      "6451  2014  Tocantins  none  Dezembro   223.0  2014-01-01  low\n",
      "6452  2015  Tocantins  none  Dezembro   373.0  2015-01-01  low\n",
      "6453  2016  Tocantins  none  Dezembro   119.0  2016-01-01  low\n",
      "\n",
      "[5896 rows x 7 columns]\n",
      "\n",
      "Showing rows with medium risk:\n",
      "      year      state risk3     month  number        date    risk\n",
      "138   2016       Acre  none     Julho   533.0  2016-01-01  medium\n",
      "139   2017       Acre  none     Julho   457.0  2017-01-01  medium\n",
      "144   2002       Acre  none    Agosto   728.0  2002-01-01  medium\n",
      "146   2004       Acre  none    Agosto   645.0  2004-01-01  medium\n",
      "150   2008       Acre  none    Agosto   445.0  2008-01-01  medium\n",
      "...    ...        ...   ...       ...     ...         ...     ...\n",
      "6406  2009  Tocantins  none   Outubro   718.0  2009-01-01  medium\n",
      "6421  2004  Tocantins  none  Novembro   424.0  2004-01-01  medium\n",
      "6431  2014  Tocantins  none  Novembro   451.0  2014-01-01  medium\n",
      "6433  2016  Tocantins  none  Novembro   623.0  2016-01-01  medium\n",
      "6434  2017  Tocantins  none  Novembro   434.0  2017-01-01  medium\n",
      "\n",
      "[423 rows x 7 columns]\n"
     ]
    }
   ],
   "source": [
    "# La segunda parte seria asignar a la columna el valor correspondiente \n",
    "# en función del número de incendios.\n",
    "# Podemos asignar valores concretos en base al valor de otras columnas de manera muy fácil:\n",
    "data.loc[data[\"number\"] > 800, \"risk\"] = \"high\"\n",
    "print(\"\\nShowing rows with high risk:\")\n",
    "print(data[data[\"risk\"] == \"high\"])\n",
    "#\n",
    "# La función loc es en cierto modo un selector de filas y columnas.\n",
    "# La primera parte de la expresión nos permite indicar las filas en base a \n",
    "# las etiquetas de las mismas, o bien, devolver aquellas filas que cumplen \n",
    "# una cierta condición (data[\"number\"] > 800 en este caso).\n",
    "# La segunda parte es opcional y nos permite acceder sólo a una cierta columna \n",
    "# dentro de las filas seleccionadas (\"risk\" en este caso).\n",
    "# Esto básicamente nos devuelve un objeto que \"apuntará\" a la columna \"risk\" de todas las filas \n",
    "# donde la columna \"number\" tiene un valor superior a 800. \n",
    "# A todos estos objetos les asignamos el valor \"high\".\n",
    "\n",
    "# Repetimos la operación para los otros valores de riezgo:\n",
    "data.loc[data[\"number\"] < 400, \"risk\"] = \"low\"\n",
    "print(\"\\nShowing rows with low risk:\")\n",
    "print(data[data[\"risk\"] == \"low\"])\n",
    "\n",
    "data.loc[(data[\"number\"] >= 400) & (data[\"number\"] <= 800), \"risk\"] = \"medium\"\n",
    "print(\"\\nShowing rows with medium risk:\")\n",
    "print(data[data[\"risk\"] == \"medium\"])"
   ]
  }
 ],
 "metadata": {
  "kernelspec": {
   "display_name": "Python 3",
   "language": "python",
   "name": "python3"
  },
  "language_info": {
   "codemirror_mode": {
    "name": "ipython",
    "version": 3
   },
   "file_extension": ".py",
   "mimetype": "text/x-python",
   "name": "python",
   "nbconvert_exporter": "python",
   "pygments_lexer": "ipython3",
   "version": "3.7.3"
  }
 },
 "nbformat": 4,
 "nbformat_minor": 1
}
