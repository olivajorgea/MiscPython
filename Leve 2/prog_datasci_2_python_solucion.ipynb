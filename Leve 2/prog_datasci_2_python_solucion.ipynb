{
 "cells": [
  {
   "cell_type": "markdown",
   "metadata": {},
   "source": [
    "Programación para *Data Science*\n",
    "============================\n",
    "\n",
    "Unidad 2: Breve introducción a la programación en Python\n",
    "-----------------------------------------------------\n",
    "\n",
    "# Introducción\n",
    "\n",
    "A continuación encontraréis una posible solución a los ejercicios propuestos en la PEC. Tened en cuenta que puede haber otras maneras de resolver los ejercicios, que también son válidas (y que también permiten obtener la máxima puntuación del ejercicio)."
   ]
  },
  {
   "cell_type": "markdown",
   "metadata": {},
   "source": [
    "---"
   ]
  },
  {
   "cell_type": "markdown",
   "metadata": {},
   "source": [
    "## Ejercicios y preguntas teóricas para la PAC\n",
    "\n",
    "A continuación, encontraréis los **ejercicios y preguntas teóricas que debéis completar en esta PEC** y que forman parte de la evaluación de esta unidad.\n",
    "\n",
    "En el siguiente enlace podréis encontrar la documentación oficial de *string functions* que puede\n",
    "ser de ayuda para completar los ejercicios:\n",
    "<https://docs.python.org/2/library/string.html>."
   ]
  },
  {
   "cell_type": "markdown",
   "metadata": {},
   "source": [
    "### Pregunta 1 \n",
    "\n",
    "¿Cuál es el valor final de a, b y c (atención a los tipos de número decimal y entero)? **(1 punto)** <span style=\"font-family: Courier New; background-color: #82b74b; color: #000000; padding: 2px; \">NM</span>\n",
    "\n",
    "a = 5 / 11\n",
    "\n",
    "b = 6 / 2.\n",
    "\n",
    "c, a = b // 2, b + 1"
   ]
  },
  {
   "cell_type": "markdown",
   "metadata": {},
   "source": [
    "**Respuesta**"
   ]
  },
  {
   "cell_type": "markdown",
   "metadata": {},
   "source": [
    "Iremos por pasos:\n",
    "\n",
    "En la primera línea encontramos que la variable 'a' contendrá el valor de 5\\/11. El primero es un número entero y el segundo un número entero mayor, pero el resultado será decimal (float), ya que es el resultado de una divión real. La variable 'b' tendrá el valor de 6 (entero) dividido por 2 (decimal), por lo tanto, 3.0 (float).\n",
    "\n",
    "En la tercera línea tenemos una expresión donde se asignan dos variables al mismo tiempo (en realidad esto es una asignación entre tuplas dado que ',' es el constructor de tuplas en Python). Primero evaluamos la parte de la derecha:\n",
    "\n",
    "- b // 2, si esta fuera una división común el resultado sería 3 / 2 = 1.5, pero como se está utilizando el operador de doble barra para indicar una división por defecto (*floor*), el resultado se redondea al número entero más bajo, en este caso 1.0 (decimal).\n",
    "- b + 1, el resultado es decimal dado que también lo era antes: 3.0 + 1 = 4.0\n",
    "\n",
    "Ahora asignamos los resultados en la parte de la izquierda de la expresión:\n",
    "\n",
    "- c = b // 2 (la expresión que ya se había evaluado) = 1.5\n",
    "- a = b + 1 = 4.0\n",
    "\n",
    "Por tanto, tenemos que:\n",
    "\n",
    "a = 4.0, b = 3.0, c = 1.0\n",
    "\n",
    "Ejecutamos el código en Python para ver que efectivamente este es el resultado:"
   ]
  },
  {
   "cell_type": "code",
   "execution_count": 6,
   "metadata": {},
   "outputs": [
    {
     "name": "stdout",
     "output_type": "stream",
     "text": [
      "4.0 3.0 1.0\n"
     ]
    }
   ],
   "source": [
    "a = 5 / 11\n",
    "b = 6 / 2.\n",
    "c, a = b // 2, b + 1\n",
    "\n",
    "print(a, b, c)"
   ]
  },
  {
   "cell_type": "markdown",
   "metadata": {},
   "source": [
    "### Ejercicio 1\n",
    "\n",
    "Proporciona una única expresión que asigne el valor `7.5` a la variable `a_number`, el valor `[42]` a la variable `a_list` y el valor `\"hello world\"` a la variable `a_string`. Es necesario que proporciones una única expresión que realice las tres asignaciones. **(1 punto)** <span style=\"font-family: Courier New; background-color: #82b74b; color: #000000; padding: 2px; \">NM</span>"
   ]
  },
  {
   "cell_type": "markdown",
   "metadata": {},
   "source": [
    "En Python podemos hacer varias asignaciones de valores de variables en una misma expresión utilizando el operador \",\":  "
   ]
  },
  {
   "cell_type": "code",
   "execution_count": 1,
   "metadata": {},
   "outputs": [
    {
     "name": "stdout",
     "output_type": "stream",
     "text": [
      "7.5\n",
      "[42]\n",
      "hello world\n"
     ]
    }
   ],
   "source": [
    "# Respuesta\n",
    "a_number, a_list, a_string = 7.5, [42], \"hello world\"\n",
    "print(a_number)\n",
    "print(a_list)\n",
    "print(a_string)"
   ]
  },
  {
   "cell_type": "markdown",
   "metadata": {},
   "source": [
    "Lo que estamos haciendo realmente es crear una _tupla_ de tres elementos y estamos asignando un valor de forma independiente en cada uno de estos elementos. Nótese que en Python no es necesario utilizar los paréntesis para indicar una tupla."
   ]
  },
  {
   "cell_type": "markdown",
   "metadata": {},
   "source": [
    "### Ejercicio 2\n",
    "\n",
    "Qué expresión en Python necesitamos para conseguir el _string_\n",
    "\"Learning Python\" utilizando sólo las variables `str1` y` str2` definidas? **(1 punto)** <span style=\"font-family: Courier New; background-color: #82b74b; color: #000000; padding: 2px; \">NM</span>"
   ]
  },
  {
   "cell_type": "code",
   "execution_count": 8,
   "metadata": {
    "attributes": {
     "classes": [
      "sourceCode"
     ],
     "id": ""
    }
   },
   "outputs": [],
   "source": [
    "str1 = \"I love Python, it's great!\"\n",
    "str2 = \"Learning\""
   ]
  },
  {
   "cell_type": "markdown",
   "metadata": {},
   "source": [
    "Como podemos ver, para construir la cadena de texto necesitamos aislar la sub-cadena \"Python\", que encontramos en la tercera palabra de la cadena `str1` y corresponde con los caracteres 7 a 13 de la cadena. Podremos crear esta nueva cadena de forma separada y al final concatenarla con la cadena `str2` utilizando el operador `+`:"
   ]
  },
  {
   "cell_type": "code",
   "execution_count": 9,
   "metadata": {},
   "outputs": [
    {
     "name": "stdout",
     "output_type": "stream",
     "text": [
      "Learning Python\n"
     ]
    }
   ],
   "source": [
    "# Respuesta\n",
    "\n",
    "# Accedemos a los caracteres que nos interesan de la cadena str1, incluyendo el espacio previo a la palabra 'Python'\n",
    "subcadena = str1[6:13] \n",
    "\n",
    "# Finalmente, concatenamos la nueva cadena (subcadena 'Python') y la concatenamos con str2\n",
    "resultado = str2 + subcadena\n",
    "\n",
    "# Mostramos el resultado\n",
    "print(resultado)"
   ]
  },
  {
   "cell_type": "code",
   "execution_count": 10,
   "metadata": {},
   "outputs": [
    {
     "name": "stdout",
     "output_type": "stream",
     "text": [
      "Learning Python\n"
     ]
    }
   ],
   "source": [
    "# También podemos añadir el espacio en blanco entre palabras en el momento de concatenarlas:\n",
    "subcadena = str1[7:13] \n",
    "resultado = str2 + ' ' + subcadena\n",
    "print(resultado)"
   ]
  },
  {
   "cell_type": "markdown",
   "metadata": {},
   "source": [
    "### Ejercicio 3\n",
    "\n",
    "Escribir un programa que asigne tres valores reales aleatorios a tres variables con nombre `a`,` b` y ` c`. Utiliza las variables definidas anteriormente para evaluar la siguiente expresión matemática:\n",
    "\n",
    "$\\frac{-b + \\sqrt {b^2-4ac}}{2a}$\n",
    "\n",
    "**(1 punto)** <span style=\"font-family: Courier New; background-color: #ffcc5c; color: #000000; padding: 3px; \">EG</span>\n",
    "\n",
    "**Nota**: En el notebook de teoría hemos visto como sumar, restar, multiplicar y dividir números reales. Para hacer la actividad, tendréis que investigar cómo calcular potencias y raíces cuadradas en Python! Necesitarás utilizar la librería [`Random`](https://docs.python.org/3/library/random.html?highlight=random#module-random) para la generación de números aleatorios."
   ]
  },
  {
   "cell_type": "code",
   "execution_count": 5,
   "metadata": {
    "attributes": {
     "classes": [
      "sourceCode"
     ],
     "id": ""
    }
   },
   "outputs": [
    {
     "name": "stdout",
     "output_type": "stream",
     "text": [
      "El resultado obtenido utilizando la función sqrt es:  16.99150016788694\n"
     ]
    }
   ],
   "source": [
    "# Respuesta\n",
    "\n",
    "# Primero debemos importar la librería Random para la generación de números aleatorios\n",
    "import random\n",
    "import math\n",
    "\n",
    "\n",
    "# Primero asignamos valores aleatorios a las variables a, b y c\n",
    "a = random.uniform(1, 10) \n",
    "b = random.uniform(1, 10) \n",
    "c = random.uniform(1, 10) \n",
    "\n",
    "# implementamos la expresión matemática. Para la raíz cuadrada usamos sqrt de la librería math\n",
    "resultado  = (-b + math.sqrt(abs(b**2 - 4*a*c)) )/ 2*a\n",
    "\n",
    "print('El resultado obtenido utilizando la función sqrt es: ', resultado)"
   ]
  },
  {
   "cell_type": "code",
   "execution_count": 6,
   "metadata": {},
   "outputs": [
    {
     "name": "stdout",
     "output_type": "stream",
     "text": [
      "El resultado obtenido utilizando la potencia (1/2) es:  16.99150016788694\n"
     ]
    }
   ],
   "source": [
    "# Alternativamente, también podemos calcular la raíz cuadrada en forma de potencia\n",
    "# sqrt(a) = a**(1/2)\n",
    "resultado = (-b + (abs(b**2 - 4*a*c))**(1/2) )/ 2*a\n",
    "print('El resultado obtenido utilizando la potencia (1/2) es: ', resultado)"
   ]
  },
  {
   "cell_type": "markdown",
   "metadata": {},
   "source": [
    "### Ejercicio 4\n",
    "\n",
    "Escribir un programa que calcule el diámetro de una esfera de radio 5. **(1 punto)** <span style=\"font-family: Courier New; background-color: #82b74b; color: #000000; padding: 2px; \">NM</span>"
   ]
  },
  {
   "cell_type": "code",
   "execution_count": 7,
   "metadata": {
    "attributes": {
     "classes": [
      "sourceCode"
     ],
     "id": ""
    }
   },
   "outputs": [
    {
     "name": "stdout",
     "output_type": "stream",
     "text": [
      "El diámetro de la esfera es:  10.0\n"
     ]
    }
   ],
   "source": [
    "# Respuesta\n",
    "\n",
    "# Asignamos al radio un valor de 5 en decimal:\n",
    "radio = 5.\n",
    "\n",
    "# A continuación calculamos el diámetro utilizando la siguiente fórmula:\n",
    "diametro = radio * 2\n",
    "\n",
    "print('El diámetro de la esfera es: ', diametro)"
   ]
  },
  {
   "cell_type": "markdown",
   "metadata": {},
   "source": [
    "### Ejercicio 5\n",
    "\n",
    "Escribir un programa que defina una lista con los 10 primeros números primos. Muestra por pantalla los tres últimos números de la lista. **(1 punto)** <span style=\"font-family: Courier New; background-color: #82b74b; color: #000000; padding: 2px; \">NM</span>"
   ]
  },
  {
   "cell_type": "code",
   "execution_count": 8,
   "metadata": {
    "attributes": {
     "classes": [
      "sourceCode"
     ],
     "id": ""
    }
   },
   "outputs": [
    {
     "name": "stdout",
     "output_type": "stream",
     "text": [
      "['19', '23', '29']\n",
      "['19', '23', '29']\n"
     ]
    }
   ],
   "source": [
    "# Respuesta\n",
    "\n",
    "# Definimos la lista con los números primos 2, 3, 5, 7, 11, 13, 17, 19, 23, 29\n",
    "numeros_primos = [\"2\", \"3\", \"5\", \"7\", \"11\", \"13\", \"17\", \"19\", \"23\", \"29\"]\n",
    "\n",
    "# Seleccionamos los tres últimos y los mostramos por pantalla\n",
    "print (numeros_primos[7:])\n",
    "\n",
    "# Alternativamente, podemos utilizar los índices negativos para acceder a los elementos\n",
    "# de la lista empezando por el final\n",
    "print(numeros_primos[-3:]) "
   ]
  },
  {
   "cell_type": "markdown",
   "metadata": {},
   "source": [
    "### Ejercicio 6\n",
    "\n",
    "Escribir un programa en el que se definan los precios de una frutería utilizando un _diccionario_. Deberéis incluir, como mínimo, 5 tipos de fruta diferentes. Por cada fruta, deberá indicarse el precio por kilo.\n",
    "\n",
    "Por ejemplo: Fresas de Huelva con precio 5.9, Fresas del Maresme con precio 10, Manzanas con precio 3.5, etc.\n",
    "\n",
    "Muestra el precio por kilo de cualquiera de las frutas que has incluido en el diccionario, utilizando cualquiera de los métodos de acceso a elementos de un diccionario. **(1 punto)** <span style=\"font-family: Courier New; background-color: #82b74b; color: #000000; padding: 2px; \">NM</span>"
   ]
  },
  {
   "cell_type": "code",
   "execution_count": 9,
   "metadata": {},
   "outputs": [
    {
     "name": "stdout",
     "output_type": "stream",
     "text": [
      "2.9\n"
     ]
    }
   ],
   "source": [
    "# Respuesta\n",
    "\n",
    "# Una manera muy fácil de resolverlo es definir un diccionario donde el nombre de la fruta será la clave \n",
    "# y su precio será el valor\n",
    "precios = {\n",
    "    \"Pera\": \"2.1\",\n",
    "    \"Manzana\": \"1.4\",\n",
    "    \"Tomate\": \"2.5\",\n",
    "    \"Uva\": \"2.9\"\n",
    "}\n",
    "\n",
    "# Mostramos el precio de las uvas\n",
    "print(precios[\"Uva\"])"
   ]
  },
  {
   "cell_type": "markdown",
   "metadata": {},
   "source": [
    "En este caso hemos elegido representar los precios como una cadena de caracteres, pero hubiéramos podido utilizar también números:"
   ]
  },
  {
   "cell_type": "code",
   "execution_count": 10,
   "metadata": {},
   "outputs": [
    {
     "name": "stdout",
     "output_type": "stream",
     "text": [
      "2.9\n"
     ]
    }
   ],
   "source": [
    "precios = {\n",
    "    \"Peras\": 2.1,\n",
    "    \"Manzanas\": 1.4,\n",
    "    \"Kiwi\": 2.9,\n",
    "    \"Cereza\": 3.5,\n",
    "    \"Banana\": 2.5\n",
    "}\n",
    "\n",
    "# Mostramos el precio del Kiwi\n",
    "print(precios[\"Kiwi\"])"
   ]
  },
  {
   "cell_type": "markdown",
   "metadata": {},
   "source": [
    "### Ejercicio 7\n",
    "\n",
    "Escribir código que muestre por pantalla el precio de todas las frutas incluidas en el diccionario creado en el ejercicio anterior (accediendo al diccionario que acabas de definir). **(1 punto)** <span style=\"font-family: Courier New; background-color: #82b74b; color: #000000; padding: 2px; \">NM</span>\n",
    "\n",
    "El formato de la cadena de caracteres que muestra el precio debe ser el siguiente:\n",
    "\n",
    "```Las frutas tienen un precio de: {precios} euros```\n",
    "\n",
    "Siguiendo con el ejemplo del ejercicio anterior, habría que mostrar por pantalla:\n",
    "\n",
    "```Las frutas tienen un precio de: [5.9, 10, 3.5] euros```\n",
    "\n",
    "**Nota**: recuerde que los diccionarios no tienen orden. Por lo tanto, otras ordenaciones de los precios también serían soluciones válidas, por ejemplo:\n",
    "\n",
    "```Las frutas tienen un precio de: [10, 5.9, 3.5] euros```"
   ]
  },
  {
   "cell_type": "code",
   "execution_count": 12,
   "metadata": {},
   "outputs": [
    {
     "name": "stdout",
     "output_type": "stream",
     "text": [
      "Las frutas tienen un precio de: [2.1, 1.4, 2.9, 3.5, 2.5] euros\n"
     ]
    }
   ],
   "source": [
    "# Respuesta\n",
    "\n",
    "# Primero obtenemos una lista con los valores de los precios de las frutas\n",
    "lista_precios = list(precios.values())\n",
    "\n",
    "# Mostramos los precios por pantalla\n",
    "# Al tener tipos de datos diferentes, necesitamos primero convertir nuestra lista\n",
    "# a un string para poder mostrar correctamente utilizando la función print\n",
    "\n",
    "print(\"Las frutas tienen un precio de: \" + str(lista_precios) + \" euros\") "
   ]
  },
  {
   "cell_type": "code",
   "execution_count": 13,
   "metadata": {},
   "outputs": [
    {
     "name": "stdout",
     "output_type": "stream",
     "text": [
      "Las frutas tienen un precio de: [2.1, 1.4, 2.9, 3.5, 2.5] euros\n"
     ]
    }
   ],
   "source": [
    "# Alternativamente, podemos utilizar la función format que nos convertirá automáticamente\n",
    "# Nuestra lista a un formato aceptable para la función print\n",
    "print (\"Las frutas tienen un precio de: {} euros\".format(lista_precios))"
   ]
  },
  {
   "cell_type": "markdown",
   "metadata": {},
   "source": [
    "### Ejercicio 8\n",
    "\n",
    "Ordena la siguiente lista de cadenas de caracteres: **(1 punto)** <span style=\"font-family: Courier New; background-color: #ffcc5c; color: #000000; padding: 3px; \">EG</span>\n",
    "\n",
    "1. Invirtiendo el orden original\n",
    "2. En orden alfabético inverso\n",
    "\n",
    "**Nota**: Puedes consultar la documentación oficial de la función [`sorted`](https://docs.python.org/3/library/functions.html#sorted) para ver qué parámetros puedes utilizar para resolver la segunda parte de la actividad.\n",
    "\n"
   ]
  },
  {
   "cell_type": "code",
   "execution_count": 15,
   "metadata": {},
   "outputs": [],
   "source": [
    "st_chars = [\"Benjamin Sisko\", \"Kira Nerys\", \"Odo\", \"Quark\", \"Jadzia Dax\"]"
   ]
  },
  {
   "cell_type": "code",
   "execution_count": 16,
   "metadata": {},
   "outputs": [
    {
     "name": "stdout",
     "output_type": "stream",
     "text": [
      "['Jadzia Dax', 'Quark', 'Odo', 'Kira Nerys', 'Benjamin Sisko']\n"
     ]
    }
   ],
   "source": [
    "# Respuesta 8.1\n",
    "\n",
    "# [:: - 1]\n",
    "# Hemos visto el uso de los : para acceder a múltiples elementos de una lista.\n",
    "# Python trata la siguiente expresión de la siguiente manera:\n",
    "# - si no hay ningún índice antes del primero: asume que debe comenzar por el principio de la lista\n",
    "# - si no hay ningún índice después del primero: asume que debe posicionar al final de la lista\n",
    "# - el último número nos indica los incrementos en el índice a medir que recorremos la lista\n",
    "# (En este caso siempre \"sumamos\" -1 el índice y por lo tanto, obtenemos -1, -2, -3, etc.)\n",
    "print(st_chars[::-1]) "
   ]
  },
  {
   "cell_type": "markdown",
   "metadata": {},
   "source": [
    "Para el siguiente ejercicio, buscamos la documentación de la función Sorted() y vemos que esta nos sirve para ordenar cualquier secuencia (lista, tupla) y devuelverá una lista con los elementos de manera ordenada, sin modificar la secuencia original. El parámetro *reverse*  de manera predeterminada se establece como *falso*, pero si lo establecemos como *True*, entonces el iterable se ordenaría en orden inverso (descendente):"
   ]
  },
  {
   "cell_type": "code",
   "execution_count": 17,
   "metadata": {},
   "outputs": [
    {
     "name": "stdout",
     "output_type": "stream",
     "text": [
      "['Quark', 'Odo', 'Kira Nerys', 'Jadzia Dax', 'Benjamin Sisko']\n"
     ]
    }
   ],
   "source": [
    "# Respuesta 8.2\n",
    "\n",
    "print(sorted(st_chars, reverse=True))"
   ]
  },
  {
   "cell_type": "markdown",
   "metadata": {},
   "source": [
    "### Ejercicio 9\n",
    "\n",
    "A partir de la siguiente lista,\n",
    "\n",
    "```A_list = [42, 7.5, \"Answer to the Ultimate Question\", \"Dave\", 7.5]```\n",
    "\n",
    "proporciona expresiones que retornen:\n",
    "\n",
    "1. El número de veces que aparece el elemento 7.5 en la lista.\n",
    "2. La posición de la primera aparición del valor 7.5\n",
    "3. La misma lista sin el último elemento\n",
    "\n",
    "**Nota**: En el notebook de teoría hemos visto qué son las listas y algunas operaciones sobre ellas. Para hacer la actividad, necesitaréis investigar algunas operaciones adicionales que podemos realizar sobre listas. Para ello podéis consultar la documentación oficial de Python sobre listas ([intro](https://docs.python.org/3/tutorial/introduction.html#lists) y [more on lists](https://docs.python.org/3/tutorial/datastructures.html#more-on-lists)).\n",
    "\n",
    "**(1 punto)** <span style=\"font-family: Courier New; background-color: #ffcc5c; color: #000000; padding: 3px; \">EG</span>"
   ]
  },
  {
   "cell_type": "code",
   "execution_count": 18,
   "metadata": {},
   "outputs": [
    {
     "name": "stdout",
     "output_type": "stream",
     "text": [
      "2\n",
      "1\n",
      "[42, 7.5, 'Answer to the Ultimate Question', 'Dave']\n"
     ]
    }
   ],
   "source": [
    "a_list = [42, 7.5, \"Answer to the Ultimate Question\", \"Dave\", 7.5]\n",
    "\n",
    "# Respuesta\n",
    "\n",
    "# El método count() cuenta cuántas veces aparece un valor en una lista y lo devuelve.\n",
    "print(a_list.count(7.5)) \n",
    "\n",
    "# Usaremos el método index(), este encuentra el valor dado en una lista y devuelve la posición del elemento. \n",
    "# Si el mismo valor aparece más de una vez, el método index() devuelve la posición de su primera aparición.\n",
    "print(a_list.index(7.5)) \n",
    "\n",
    "# Indicamos que queremos excluir el último elemento indexado de la lista usando el operador [] :\n",
    "print(a_list[:-1])"
   ]
  },
  {
   "cell_type": "markdown",
   "metadata": {},
   "source": [
    "### Ejercicio Opcional\n",
    "\n",
    "Escribir un programa que genere una lista de números aleatorios y calcule el producto de todos los números de la lista. Los números de la lista deberán cumplir la siguiente condición: deben ser números impares entre 0 y 100. Además, el programa tendrá que preguntar al usuario cuántos elementos debe tener la lista (el usuario introducirá el número de elementos usando el teclado) y mostrar un mensaje de error si el usuario pide generar una lista de más de 50 elementos. Haz que el programa muestre la lista generada y el producto de sus elementos. <span style=\"font-family: Courier New; background-color: #f2ae72; color: #000000; padding: 3px; \">EI</span>"
   ]
  },
  {
   "cell_type": "code",
   "execution_count": 1,
   "metadata": {},
   "outputs": [
    {
     "name": "stdout",
     "output_type": "stream",
     "text": [
      "Cuántos elementos debería contener la lista?50\n",
      "La lista generada es: [15, 17, 89, 97, 33, 15, 3, 37, 63, 1, 31, 85, 21, 99, 5, 19, 25, 91, 55, 75, 21, 89, 57, 61, 73, 7, 31, 71, 55, 41, 77, 65, 41, 1, 47, 29, 57, 17, 37, 33, 73, 57, 77, 95, 93, 75, 47, 85, 97, 11]\n",
      "El producto de todos los números de la lista es: 183694813375494997686897620112435890258352428881049554701162302911102294921875\n"
     ]
    }
   ],
   "source": [
    "# Respuesta\n",
    "# Debemos importar la librería random para la generación de números aleatorios\n",
    "import random\n",
    "# Importamos la función reduce de la librería functools para calcular el producto de los números generados\n",
    "from functools import reduce\n",
    "\n",
    "# La función input() de Python nos permite obtener texto escrito por el teclado, \n",
    "# convertiremos la entrada de tipo string a un tipo entero usando int()\n",
    "num_elementos = int(input(\"Cuántos elementos debería contener la lista?\"))\n",
    "\n",
    "if num_elementos > 50:\n",
    "    print(\"El máximo número de elementos permitidos son 50.\")\n",
    "else:\n",
    "    # Generamos una lista con los números impares entre 0 y 100\n",
    "    impares = [ n for n in range(0, 100) if n%2 != 0 ]\n",
    "    \n",
    "    # Generamos una lista con tantos elementos como haya especificado el usuario\n",
    "    lista = [random.choice(impares) for i in range(num_elementos)]\n",
    "        \n",
    "    # Calculamos el producto de los elementos de la lista.\n",
    "    # Utilizamos la función reduce (http://book.pythontips.com/en/latest/map_filter.html#reduce)\n",
    "    # para realizar el cálculo\n",
    "    producto = reduce((lambda x, y: x*y), lista)\n",
    "    \n",
    "    print('La lista generada es:', lista)\n",
    "    print('El producto de todos los números de la lista es:', producto)"
   ]
  },
  {
   "cell_type": "markdown",
   "metadata": {},
   "source": [
    "En el programa anterior hemos utilizado la función `reduce` para calcular el producto de todos los elementos de la lista. Esta función es muy útil para aplicar un cálculo de forma secuencial cogiendo pares de elementos de la lista. Es decir, si tenemos:\n",
    "\n",
    "```\n",
    "producto = reduce( (lambda x, y: x * y), [5, 6, 7] )\n",
    "```\n",
    "\n",
    "la función `reduce` aplicará su cálculo `x * y` en varias iteraciones de la siguiente forma:\n",
    "\n",
    "*Iteración 1:*\n",
    "\n",
    "```\n",
    "x = 5\n",
    "y = 6\n",
    "x * y = 5 * 6 = 30\n",
    "```\n",
    "\n",
    "*Iteración 2:*\n",
    "\n",
    "```\n",
    "x = 30 (resultado del cálculo anterior)\n",
    "y = 7\n",
    "x * y = 30 * 7 = 210\n",
    "```\n",
    "\n",
    "Al haber procesado todos los elementos de la lista, el resultado final será el obtenido en esta última iteración, **210**.\n",
    "\n",
    "Otra forma de realizar este cálculo (el producto de todos los elementos de la lista) es utilizando un *bucle*. A continuación podemos ver una versión modificada del programa anterior donde utilizamos un bucle para calcular el producto."
   ]
  },
  {
   "cell_type": "code",
   "execution_count": 2,
   "metadata": {},
   "outputs": [
    {
     "name": "stdout",
     "output_type": "stream",
     "text": [
      "Cuántos elementos debería contener la lista?3\n",
      "La lista generada es: [33, 13, 17]\n",
      "El producto de todos los números de la lista es: 7293\n"
     ]
    }
   ],
   "source": [
    "# Debemos importar la librería random para la generación de números aleatorios\n",
    "import random\n",
    "# Importamos la función reduce de la librería functools para calcular el producto de los números generados\n",
    "from functools import reduce\n",
    "\n",
    "# La función input () de Python nos permite obtener texto escrito por el teclado, \n",
    "# convertiremos la entrada de tipo string a un tipo entero usando int()\n",
    "num_elementos = int(input(\"Cuántos elementos debería contener la lista?\"))\n",
    "\n",
    "if num_elementos > 50:\n",
    "    print(\"El máximo número de elementos permitidos son 50.\")\n",
    "else:\n",
    "    # Generamos una lista con los números impares entre 0 y 100\n",
    "    impares = [ n for n in range(0, 100) if n%2 != 0 ]\n",
    "    \n",
    "    # Generamos una lista con tantos elementos como haya especificado el usuario\n",
    "    lista = [random.choice(impares) for i in range(num_elementos)]\n",
    "        \n",
    "    # Calculamos el producto de los elements de la lista utilizando un bucle for\n",
    "    producto = 1\n",
    "    for n in lista:\n",
    "        producto = producto * n\n",
    "    \n",
    "    print('La lista generada es:', lista)\n",
    "    print('El producto de todos los números de la lista es:', producto)"
   ]
  },
  {
   "cell_type": "code",
   "execution_count": null,
   "metadata": {},
   "outputs": [],
   "source": []
  }
 ],
 "metadata": {
  "kernelspec": {
   "display_name": "Python 3",
   "language": "python",
   "name": "python3"
  },
  "language_info": {
   "codemirror_mode": {
    "name": "ipython",
    "version": 3
   },
   "file_extension": ".py",
   "mimetype": "text/x-python",
   "name": "python",
   "nbconvert_exporter": "python",
   "pygments_lexer": "ipython3",
   "version": "3.7.5"
  }
 },
 "nbformat": 4,
 "nbformat_minor": 1
}
