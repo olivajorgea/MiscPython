{
 "cells": [
  {
   "cell_type": "markdown",
   "metadata": {},
   "source": [
    "Programación para *Data Science*\n",
    "============================\n",
    "\n",
    "Unidad 3: Estructuras de control y funciones en Python\n",
    "--------------------------------------\n",
    "\n",
    "---"
   ]
  },
  {
   "cell_type": "markdown",
   "metadata": {},
   "source": [
    "# Introducción\n",
    "\n",
    "---\n",
    "\n",
    "A continuación encontraréis una posible solución a los ejercicios propuestos en la PEC. \n",
    "Tened en cuenta que pueden existir otras maneras de resolver los ejercicios, que también son válidas \n",
    "(y que también permiten obtener la máxima puntuación del ejercicio)."
   ]
  },
  {
   "cell_type": "markdown",
   "metadata": {},
   "source": [
    "---\n",
    "\n",
    "## Ejercicios y preguntas teóricas para la PEC\n",
    "\n",
    "A continuación, **encontraréis los ejercicios y preguntas teóricas que debéis completar en esta PEC** y que forman parte de la evaluación de esta unidad."
   ]
  },
  {
   "cell_type": "markdown",
   "metadata": {},
   "source": [
    "### Ejercicio 1\n",
    "\n",
    "\n",
    "Un peatón quiere cruzar una calle por un paso de peatones que tiene un semáforo. El peatón deberá decidir si cruza o no la calle, y lo hará considerando algunos factores. En concreto, el peatón cruzará la calle si el semáforo del paso de peatones está en verde y no hay ningún vehículo interfiriendo el paso. En caso contrario (es decir, si no se cumplen todas las condiciones anteriores), el peatón se quedará quieto y no cruzará la calle.\n",
    "\n",
    "Escribir código que compruebe si el peatón puede o no cruzar la calle, y muestre por pantalla el mensaje \"El peatón cruza\" o \"El peatón se queda quieto\" dependiendo de la decisión del peatón.\n",
    "\n",
    "Para comprobar las condiciones que afectan a la decisión del peatón, disponéis de las siguientes variables:\n",
    "* `color_semaforo`: una cadena de caracteres que puede contener los valores \"verde\", \"amarillo\" y \"rojo\"\n",
    "* `vehiculo_interfiriendo`: un booleano indicando si hay o no un vehículo interfiriendo (puede tomar los valores True o False)\n",
    "\n",
    "**(1.5 puntos)**  <span style=\"font-family: Courier New; background-color: #82b74b; color: #000000; padding: 2px; \">NM</span>"
   ]
  },
  {
   "cell_type": "code",
   "execution_count": 5,
   "metadata": {},
   "outputs": [
    {
     "name": "stdout",
     "output_type": "stream",
     "text": [
      "El peatón se queda quieto\n"
     ]
    }
   ],
   "source": [
    "color_semaforo = \"amarillo\"\n",
    "vehiculo_interfiriendo = False\n",
    "\n",
    "# Respuesta\n",
    "# Condiciones para cruzar son: 1) el semaforo esta en 'verde' y 2) no hay ningún vehículo interfiriendo\n",
    "if color_semaforo == 'verde' and vehiculo_interfiriendo == False:\n",
    "    print(\"El peatón cruza\")\n",
    "else:\n",
    "    print(\"El peatón se queda quieto\")"
   ]
  },
  {
   "cell_type": "markdown",
   "metadata": {},
   "source": [
    "### Ejercicio 2\n",
    "\n",
    "Escribir una función que encapsule el comportamiento del código del ejercicio anterior. La función recibirá dos parámetros, el color del semáforo y si hay un vehículo interfiriendo y **devolverá un valor booleano** indicando si el peatón puede o no cruzar la calle. Adicionalmente, la función mostrará por pantalla el mismo mensaje que el ejercicio anterior.\n",
    "\n",
    "Haced tres llamadas de ejemplo a la función anterior, con valores diferentes de los parámetros de entrada, de forma que cada llamada devuelva uno de los tres posibles valores de retorno (`True`,` False`, `-1`). Comprobad que el resultado devuelto por la función es el que se esperaba.\n",
    "\n",
    "Consideraciones:\n",
    "\n",
    "- La función debe controlar que los valores de los parámetros son válidos. En caso contrario, mostrará un mensaje de error (\"Los parámetros introducidos no son válidos\") y devolverá el valor -1. Los parámetros se consideran válidos si son del tipo correcto (cadena de caracteres para el color del semáforo y booleano para el flag de vehículo) y contienen valores válidos (detallados en el ejercicio anterior).\n",
    "\n",
    "**(1.5 puntos)**   <span style=\"font-family: Courier New; background-color: #82b74b; color: #000000; padding: 2px; \">NM</span>"
   ]
  },
  {
   "cell_type": "code",
   "execution_count": 1,
   "metadata": {},
   "outputs": [],
   "source": [
    "# Respuesta: Definición de la función\n",
    "\n",
    "def cruzar_calle( estado_semaforo, riesgo_vehiculo ):\n",
    "    \n",
    "    ## Verificar si estado_semaforo es una variable string con uno de los 3 posibles colores\n",
    "    ## y si riesgo_vehiculo es un variable de tipo Boolean (bool)\n",
    "    if estado_semaforo in [\"verde\",\"amarillo\",\"rojo\"] and type(riesgo_vehiculo) == bool:\n",
    "        \n",
    "        \n",
    "        #  Condiciones para cruzar son: 1) el semáforo está en 'verde' y 2) no hay riezgo de vehículo interfiriendo\n",
    "        if estado_semaforo == 'verde' and riesgo_vehiculo == False:\n",
    "            print(\"El peatón cruza\")\n",
    "            return True\n",
    "        else:\n",
    "            print(\"El peatón se queda quieto\")\n",
    "            return False\n",
    "        \n",
    "        \n",
    "    ## Si los parámetros no son válidos:\n",
    "    else:\n",
    "        print(\"Los parámetros introducidos no son válidos\")\n",
    "        return -1\n",
    "                "
   ]
  },
  {
   "cell_type": "code",
   "execution_count": 2,
   "metadata": {},
   "outputs": [
    {
     "name": "stdout",
     "output_type": "stream",
     "text": [
      "El peatón se queda quieto\n",
      "False\n",
      "El peatón cruza\n",
      "True\n",
      "El peatón se queda quieto\n",
      "False\n",
      "Los parámetros introducidos no son válidos\n",
      "-1\n"
     ]
    }
   ],
   "source": [
    "# Respuesta: Llamadas a la función\n",
    "\n",
    "estado_semaforo = \"amarillo\"\n",
    "riezgo_vehiculo = False\n",
    "# Creamos una variable (decision_de_cruzar) para guardar el valor de la llamada a la función cruzar_calle \n",
    "decision_de_cruzar = cruzar_calle( estado_semaforo, riezgo_vehiculo )\n",
    "print(decision_de_cruzar)\n",
    "\n",
    "estado_semaforo = \"verde\"\n",
    "riezgo_vehiculo = False\n",
    "# Creamos (sobrescribimos) una variable (decision_de_cruzar) para guardar el valor de la llamada a la función cruzar_calle \n",
    "decision_de_cruzar = cruzar_calle( estado_semaforo, riezgo_vehiculo )\n",
    "print(decision_de_cruzar)\n",
    "\n",
    "estado_semaforo = \"rojo\"\n",
    "riezgo_vehiculo = False\n",
    "# Creamos (sobrescribimos) una variable (decision_de_cruzar) para guardar el valor de la llamada a la función cruzar_calle \n",
    "decision_de_cruzar = cruzar_calle( estado_semaforo, riezgo_vehiculo )\n",
    "print(decision_de_cruzar)\n",
    "\n",
    "\n",
    "estado_semaforo = \"azul\"\n",
    "riezgo_vehiculo = False\n",
    "# Creamos (sobrescribimos) una variable (decision_de_cruzar) para guardar el valor de la llamada a la función cruzar_calle \n",
    "decision_de_cruzar = cruzar_calle( estado_semaforo, riezgo_vehiculo )\n",
    "print(decision_de_cruzar)"
   ]
  },
  {
   "cell_type": "markdown",
   "metadata": {},
   "source": [
    "### Ejercicio 3\n",
    "\n",
    "Escribid una función que dado un número entero positivo, `N`, genere un archivo con el nombre `output.txt` que contendrá $2N- 1$ líneas, siguiendo un patrón de \"media pajarita\".\n",
    "\n",
    "Por ejemplo, si $N = 3$, el archivo generado deberá tener el siguiente contenido:\n",
    "\n",
    "```\n",
    "***\n",
    "**\n",
    "*\n",
    "**\n",
    "***\n",
    "```\n",
    "\n",
    "o si $N = 4$, el siguiente contenido:\n",
    "\n",
    "```\n",
    "****\n",
    "***\n",
    "**\n",
    "*\n",
    "**\n",
    "***\n",
    "****\n",
    "```\n",
    "\n",
    "Nota: `N` siempre será $\\ge 1$. Si $N = 1$, el fichero contendrá una única línea con un solo asterisco.\n",
    "\n",
    "**(1.5 puntos)**  <span style=\"font-family: Courier New; background-color: #82b74b; color: #000000; padding: 2px; \">NM</span>"
   ]
  },
  {
   "cell_type": "code",
   "execution_count": 5,
   "metadata": {
    "attributes": {
     "classes": [
      "sourceCode"
     ],
     "id": ""
    }
   },
   "outputs": [],
   "source": [
    "# Respuesta\n",
    "\n",
    "# Definimos una función que recibirá un número entero por parámetro\n",
    "def generar_archivo(N):\n",
    "\n",
    "\n",
    "    # Abrimos el archivo output.txt en modo escritura.\n",
    "    # El parámetro 'w' hará que si el archivo existe, éste se sobrescribirá\n",
    "    with open('output.txt', 'w') as fd: \n",
    "\n",
    "        # Recorremos el rango [N ... 0] \n",
    "        for i in range(N, 0, -1):\n",
    "            # Generamos una cadena con un número de caracteres *\n",
    "            linea = '*' * i\n",
    "            # Escribimos cada cadena generada en el fichero, añadiendo un salto de línea\n",
    "            fd.write(linea + '\\n') \n",
    "\n",
    "        # y ahora lo invertemos y recorremos el rango [2 ... N+1] \n",
    "        for i in range(2, N + 1):\n",
    "            # Generamos una cadena con un número de caracteres *\n",
    "            linea = '*' * i\n",
    "            # Escribimos cada cadena generada en el fichero, añadiendo un salto de línea\n",
    "            fd.write(linea + '\\n') \n",
    "\n",
    "\n",
    "\n",
    "generar_archivo(4)"
   ]
  },
  {
   "cell_type": "markdown",
   "metadata": {},
   "source": [
    "### Ejercicio 4\n",
    "\n",
    "Escribid una función que muestre por pantalla todas las posibles palabras de tres letras que se pueden hacer con las letras \"A\", \"B\" y \"C\". La función deberá devolver una lista con estas palabras.**(1.5 puntos)** <span style=\"font-family: Courier New; background-color: #82b74b; color: #000000; padding: 2px; \">NM</span>"
   ]
  },
  {
   "cell_type": "code",
   "execution_count": 6,
   "metadata": {},
   "outputs": [
    {
     "name": "stdout",
     "output_type": "stream",
     "text": [
      "['AAA', 'AAB', 'AAC', 'ABA', 'ABB', 'ABC', 'ACA', 'ACB', 'ACC', 'BAA', 'BAB', 'BAC', 'BBA', 'BBB', 'BBC', 'BCA', 'BCB', 'BCC', 'CAA', 'CAB', 'CAC', 'CBA', 'CBB', 'CBC', 'CCA', 'CCB', 'CCC']\n"
     ]
    }
   ],
   "source": [
    "letras = [\"A\", \"B\", \"C\"]\n",
    "\n",
    "# Respuesta\n",
    "\n",
    "# Para calcular las posibles palabras de tres letras que se pueden hacer con las letras \"A\", \"B\" y \"C\",\n",
    "# vamos iterar por cada letra de la lista de modo a combinarlas usando bucles (for loops).\n",
    "\n",
    "def funcion_palabras(parametro_letras):\n",
    "\n",
    "    palabras = []\n",
    "    for l1 in letras:\n",
    "        for l2 in letras:\n",
    "            for l3 in letras:\n",
    "                palabra = l1 + l2 + l3\n",
    "                palabras.append(palabra)\n",
    "    print(palabras)\n",
    "    return palabras\n",
    "    \n",
    "    \n",
    "# llamada a la función\n",
    "todas_palabras = funcion_palabras(letras)"
   ]
  },
  {
   "cell_type": "markdown",
   "metadata": {},
   "source": [
    "### Ejercicio 5\n",
    "\n",
    "Escribid una función que dado un diccionario con la masa de los planetas del sistema solar, pregunte al usuario que introduzca el nombre de un planeta y muestre por pantalla el nombre del planeta y su masa. La función devolverá la masa del planeta.\n",
    "\n",
    "Consideraciones:\n",
    "\n",
    "- La función debe controlar que el valor introducido por el usuario es un nombre de un planeta. En caso contrario, mostrará un mensaje de error (\"El nombre introducido no corresponde a ningún planeta\") y devolverá el valor -1.\n",
    "- Si el usuario introduce \"Pluton\", hay que mostrar un mensaje que informe al usuario que desde 2006, Plutón ya no es considerado un planeta, y devolver -1.\n",
    "- Debéis tener en cuenta que el nombre de los planetas que nos pasan por parámetro puede ser en minúsculas, mayúsculas o una combinación de ambas.\n",
    "- Podéis asumir que no habrá acentos en los nombres de los planetas.\n",
    "\n",
    "Nota 1: Para realizar la actividad, tendréis que capturar un texto que entrará el usuario. Consultad la [documentación oficial de la función input](https://docs.python.org/3/library/functions.html#input) para ver cómo hacerlo.\n",
    "\n",
    "Nota 2: También tendréis que pensar cómo tratar el hecho de que el usuario pueda utilizar mayúsculas y minúsculas en la escritura del nombre del planeta. Os animamos a usar un buscador para intentar encontrar alguna alternativa para resolver este subproblema! Recordad citar las referencias que hayáis usado para resolverlo!\n",
    "\n",
    "**(1.5 puntos)** <span style=\"font-family: Courier New; background-color: #ffcc5c; color: #000000; padding: 3px; \">EG</span>"
   ]
  },
  {
   "cell_type": "code",
   "execution_count": 11,
   "metadata": {},
   "outputs": [
    {
     "name": "stdout",
     "output_type": "stream",
     "text": [
      "Introduzca el nombre de un planeta: terra\n",
      "Terra 5.9e+24\n"
     ]
    },
    {
     "data": {
      "text/plain": [
       "5.9e+24"
      ]
     },
     "execution_count": 11,
     "metadata": {},
     "output_type": "execute_result"
    }
   ],
   "source": [
    "masas = {'Mercurio': 3.20*10**23, 'Venus': 4.87*10**24, 'Terra': 5.9*10**24, 'Marte': 6.42*10**23, 'Jupiter': 1.90*10**27, \n",
    "          'Saturno': 5.68*10**26, 'Urano': 8.68*10**25, 'Neptuno': 1.02*10**26}\n",
    "\n",
    "# Respuesta\n",
    "\n",
    "def masa_del_planeta():\n",
    "    \n",
    "    \n",
    "    # La función input() de Python nos permite obtener texto escrito\n",
    "    nombre_del_planeta = input(\"Introduzca el nombre de un planeta: \")\n",
    "\n",
    "    # Convertimos todas las letras del input a minúsculas\n",
    "    nombre_del_planeta = nombre_del_planeta.lower()\n",
    "    # Convertimos la primera letra a mayúscula y re-escribimos la variable \"nombre_del_planeta\"\n",
    "    nombre_del_planeta = nombre_del_planeta[0].upper() + nombre_del_planeta[1:] \n",
    "    \n",
    "    \n",
    "    # En el caso de que se introduzca 'Pluto' \n",
    "    if nombre_del_planeta == 'Pluto':\n",
    "        print( \"Desde 2006, Plutón ya no es considerado un planeta.\")\n",
    "        return -1\n",
    "    \n",
    "    # En el caso de que se introduzca el nombre de un planeta perteneciente al diccionario\n",
    "    elif nombre_del_planeta in list(masas.keys() ):\n",
    "        \n",
    "        print( nombre_del_planeta, masas[nombre_del_planeta])\n",
    "        return masas[nombre_del_planeta]\n",
    "        \n",
    "    # En el caso de que el input no corresponda a ningún planeta\n",
    "    else:\n",
    "        print(\"El nombre introducido no corresponde a ningún planeta\") \n",
    "        return -1\n",
    "    \n",
    "        \n",
    "        \n",
    "masa_del_planeta()"
   ]
  },
  {
   "cell_type": "markdown",
   "metadata": {},
   "source": [
    "Referencias consultadas:\n",
    "\n",
    "*Incluir aquí las referencias*"
   ]
  },
  {
   "cell_type": "markdown",
   "metadata": {},
   "source": [
    "### Ejercicio 6\n",
    "\n",
    "Las excepciones son errores detectados en tiempo de ejecución. Pueden y deben ser gestionadas por el programador para minimizar el riesgo de que un determinado programa falle de manera no controlada. Escribid, en lenguaje Python, como generar y capturar la siguiente excepción: `NameError`. **(1 punto)** <span style=\"font-family: Courier New; background-color: #ffcc5c; color: #000000; padding: 3px; \">EG</span>\n",
    "\n",
    "Nota: Para hacer este ejercicio, consultad la [documentación oficial de Python sobre gestión de errores](https://docs.python.org/3/tutorial/errors.html)."
   ]
  },
  {
   "cell_type": "code",
   "execution_count": 12,
   "metadata": {},
   "outputs": [
    {
     "name": "stdout",
     "output_type": "stream",
     "text": [
      "Ahora 'variable_no_declarada', esta declarada y tiene el valor 'None'\n",
      "None\n"
     ]
    }
   ],
   "source": [
    "# Respuesta\n",
    "\n",
    "# Una excepción del tipo \"NameError\" surge quando el nombre de una variable no esta definido.\n",
    "# Por ejemplo, imprimir en pantalla el nombre de una variable jamás declarada \"print(variable_no_declarada)\"\n",
    "# resultaría en una excepción NameError.\n",
    "\n",
    "\n",
    "try:\n",
    "    print(variable_no_declarada)\n",
    "except NameError:\n",
    "    variable_no_declarada = None\n",
    "    \n",
    "print(\"Ahora 'variable_no_declarada', esta declarada y tiene el valor 'None'\")\n",
    "print(variable_no_declarada)"
   ]
  },
  {
   "cell_type": "markdown",
   "metadata": {},
   "source": [
    "###  Ejercicio 7\n",
    "\n",
    "Python dispone de un *idiom* muy útil conocido como *list comprehensions*. Utilizando este *idiom*, proporcionad una expresión que devuelva las listas siguientes.\n",
    "\n",
    "Nota: Para realizar esta actividad necesitaréis investigar qué son las *list comprehensions* y qué sintaxis utilizan. Para ello, se recomienda en primer lugar que utilicéis un buscador para encontrar información genérica sobre esta construcción. Después, os recomendamos que consultéis stackoverflow para ver algunos ejemplos de problemas que se pueden resolver con esta construcción.\n",
    "\n",
    "\n",
    "[stackoverflow](https://stackoverflow.com/) es un sitio de preguntas-y-respuestas muy popular entre programadores. Veréis que para la gran mayoría de las dudas que tengáis, habrá alguien que ya les habrá tenido (y consultado) anteriormente! Así pues, más allá de preguntar vosotros mismos las dudas allí (nosotros ya tenemos el foro del aula para ello!), consultar esta web os permitirá ver qué soluciones proponen otros programadores a estas dudas. A menudo habrá más de una solución a un mismo problema, y podréis valorar cuál es la más adecuada para vuestro problema.\n",
    "\n",
    "Para ver ejemplos de problemas que son adecuados para resolver con *list comprehensions*, os recomendamos leer las siguientes páginas:\n",
    "* https://stackoverflow.com/questions/12555443/squaring-all-elements-in-a-list\n",
    "* https://stackoverflow.com/questions/18551458/how-to-frame-two-for-loops-in-list-comprehension-python\n",
    "* https://stackoverflow.com/questions/24442091/list-comprehension-with-condition\n",
    "* https://stackoverflow.com/questions/41676212/i-want-to-return-only-the-odd-numbers-in-a-list\n",
    "* https://stackoverflow.com/questions/4260280/if-else-in-a-list-comprehension\n",
    "\n",
    "**(1.5 puntos)**  <span style=\"font-family: Courier New; background-color: #ffcc5c; color: #000000; padding: 3px; \">EG</span>\n"
   ]
  },
  {
   "cell_type": "markdown",
   "metadata": {},
   "source": [
    "a) Una lista de los cubos de los números de la lista `list_1`:"
   ]
  },
  {
   "cell_type": "code",
   "execution_count": 6,
   "metadata": {},
   "outputs": [
    {
     "name": "stdout",
     "output_type": "stream",
     "text": [
      "[1, 8, 27, 64, 125, 216, 343, 512, 729]\n"
     ]
    }
   ],
   "source": [
    "list_1 = [1, 2, 3, 4, 5, 6, 7, 8, 9]\n",
    "\n",
    "# Respuesta\n",
    "\n",
    "# Creamos una nueva lista (list comprehension) que recorra todos los elementos de la lista \"list_1\" \n",
    "# y guarde el cubo de cada elemento.\n",
    "list_1_cubos = [ i**3 for i in list_1 ]\n",
    "print(list_1_cubos)"
   ]
  },
  {
   "cell_type": "markdown",
   "metadata": {},
   "source": [
    "b) Una lista de los cuadrados de los números impares de la lista `list_1`:"
   ]
  },
  {
   "cell_type": "code",
   "execution_count": 8,
   "metadata": {},
   "outputs": [
    {
     "name": "stdout",
     "output_type": "stream",
     "text": [
      "[1, 9, 25, 49, 81]\n"
     ]
    }
   ],
   "source": [
    "# Respuesta\n",
    "\n",
    "# Creamos una nueva lista (list comprehension) que recorra todos los elementos de la lista \"list_1\".\n",
    "# Adicionamos una condición (if i%2==1), para que guarde el cuadrado de cada elemento impar.\n",
    "list_1_cuadrados_impares = [ i**2 for i in list_1 if i%2==1  ]\n",
    "print(list_1_cuadrados_impares)"
   ]
  },
  {
   "cell_type": "markdown",
   "metadata": {},
   "source": [
    "c) Una lista con las tuplas `(0, 0), (0, 1), (0, 2), (0, 3), (1, 0), (1, 1), (1, 2), (1, 3), (2, 0), (2, 1), (2, 2), (2, 3), (3, 0), (3, 1), (3, 2), (3, 3)` a partir de las listas `list_2` i `list_3`:"
   ]
  },
  {
   "cell_type": "code",
   "execution_count": 1,
   "metadata": {
    "scrolled": true
   },
   "outputs": [
    {
     "data": {
      "text/plain": [
       "[(0, 0),\n",
       " (0, 1),\n",
       " (0, 2),\n",
       " (0, 3),\n",
       " (1, 0),\n",
       " (1, 1),\n",
       " (1, 2),\n",
       " (1, 3),\n",
       " (2, 0),\n",
       " (2, 1),\n",
       " (2, 2),\n",
       " (2, 3),\n",
       " (3, 0),\n",
       " (3, 1),\n",
       " (3, 2),\n",
       " (3, 3)]"
      ]
     },
     "execution_count": 1,
     "metadata": {},
     "output_type": "execute_result"
    }
   ],
   "source": [
    "list_2 = range(4)\n",
    "list_3 = range(4)\n",
    "\n",
    "# Respuesta\n",
    "# Para cada elemento en la lista \"list_2\", recorremos todos los elementos en la lista \"list_3\".\n",
    "# A cada iteración, guardamos el correspondiente elemento de cada lista.\n",
    "[ (i,j) for i in list_2 for j in list_3 ]"
   ]
  },
  {
   "cell_type": "markdown",
   "metadata": {},
   "source": [
    "### Ejercicio Opcional\n",
    "\n",
    "Al final de la Edad Media, en Francia, el diplomático francés Blaise de Vigenère desarrolló un algoritmo para cifrar mensajes que nadie fue capaz de romper durante aproximadamente 250 años. Este algoritmo se conoce con el nombre de [cifrado de Vigenère](https://es.wikipedia.org/wiki/Cifrado_de_Vigen%C3%A8re).\n",
    "\n",
    "\n",
    "El cifrado de Vigenère consiste en añadir a cada una de las letras de un texto un desplazamiento a partir de una clave secreta para conseguir una nueva letra diferente del original. Veamos un ejemplo:\n",
    "\n",
    "\n",
    "Si asignamos el número 1 en la primera letra del abecedario, A, 2 a la siguiente, B, etc., imaginad que tenemos el siguiente mensaje:\n",
    "<code>\n",
    "ABC\n",
    "123\n",
    "</code>\n",
    "\n",
    "y la siguiente clave secreta:\n",
    "<code>\n",
    "DEF\n",
    "456\n",
    "</code>\n",
    "\n",
    "A cada letra del mensaje original le aplicamos un desplazamiento en función de la misma posición dentro de la clave secreta. Por lo tanto, el mensaje cifrado quedaría de la siguiente forma:\n",
    "<code>\n",
    "   E       G       I\n",
    "(1 + 4) (2 + 5) (3 + 6)\n",
    "</code>\n",
    "\n",
    "Escribid una función que, dado un mensaje y una clave secreta, calcule y devuelva el mensaje cifrado.\n",
    "\n",
    "*Consideraciones:*\n",
    "\n",
    "- Utilizad como alfabeto de entrada **el alfabeto inglés en mayúsculas**.\n",
    "- El valor predeterminado de la clave secreta será **DATASCI**.\n",
    "\n",
    "<span style=\"font-family: Courier New; background-color: #f2ae72; color: #000000; padding: 3px; \">EI</span>"
   ]
  },
  {
   "cell_type": "code",
   "execution_count": 1,
   "metadata": {
    "attributes": {
     "classes": [
      "sourceCode"
     ],
     "id": ""
    }
   },
   "outputs": [
    {
     "name": "stdout",
     "output_type": "stream",
     "text": [
      "DTTCSTMPOLTHQZWLTTECVDNT\n"
     ]
    }
   ],
   "source": [
    "def cifrado_vigenere(mensaje, clave=\"DATASCI\"):\n",
    "    \"\"\"\n",
    "    Cifrar mensaje utilizando el cifrado de Vigenère\n",
    "    \"\"\"\n",
    "    mensaje_cifrado = \"\"\n",
    "\n",
    "    # Código que hay que completar\n",
    "    \n",
    "    \n",
    "    # Obtener el codigo unicode para el primero (A) y ultimo (Z) caracter\n",
    "    ascii_min = ord('A')\n",
    "    ascii_max = ord('Z')    \n",
    "    \n",
    "    # Generar una string con los characteres de 'A' a 'Z' en el alfabeto ingles en mayusculas.\n",
    "    # passando por todas las letras en medio\n",
    "    alfabeto = \"\"\n",
    "    for letra in range(ascii_min, ascii_max+1):\n",
    "        alfabeto = alfabeto + chr(letra)\n",
    "        \n",
    "    \n",
    "    clave_length = len(clave) # computa el tamano de la clave\n",
    "    clave_as_int = [ord(c) for c in clave] # generar una lista con el numero de cada letra en la clave\n",
    "    mensaje_int = [ord(m) for m in mensaje] # generar una lista con el numero de cada letra en el mensaje\n",
    "    for i in range(len(mensaje_int)):\n",
    "        # Usamos el operador modulus para volver al inicio de la tabla de relación \n",
    "        # entre letras caso su suma sea mayor que el tamano del alfabeto\n",
    "        valor_del_caracter = (mensaje_int[i] + clave_as_int[i % clave_length]) % len(alfabeto)\n",
    "        # anadimos el valor de cada letra en la cadena de caracteres 'mensaje_cifrado'\n",
    "        mensaje_cifrado += chr(valor_del_caracter + ascii_min)\n",
    "\n",
    "    return mensaje_cifrado\n",
    "\n",
    "# Aquí puede añadir más ejemplos:\n",
    "print(cifrado_vigenere(\"ATACAREMOS POR LA MANANA\"))"
   ]
  }
 ],
 "metadata": {
  "kernelspec": {
   "display_name": "Python 3",
   "language": "python",
   "name": "python3"
  },
  "language_info": {
   "codemirror_mode": {
    "name": "ipython",
    "version": 3
   },
   "file_extension": ".py",
   "mimetype": "text/x-python",
   "name": "python",
   "nbconvert_exporter": "python",
   "pygments_lexer": "ipython3",
   "version": "3.7.5"
  }
 },
 "nbformat": 4,
 "nbformat_minor": 1
}
