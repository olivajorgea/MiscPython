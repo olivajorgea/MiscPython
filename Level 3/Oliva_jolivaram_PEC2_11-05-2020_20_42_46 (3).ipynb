{
 "cells": [
  {
   "cell_type": "markdown",
   "metadata": {},
   "source": [
    "<div style=\"width: 100%; clear: both;\">\n",
    "    <div style=\"float: left; width: 50%;\">\n",
    "       <img src=\"http://www.uoc.edu/portal/_resources/common/imatges/marca_UOC/UOC_Masterbrand.jpg\", align=\"left\">\n",
    "    </div>\n",
    "</div>\n",
    "\n",
    "<div style=\"float: right; width: 50%;\">\n",
    "    <p style=\"margin: 0; padding-top: 22px; text-align:right;\">22.503 · Programación para la ciencia de datos</p>\n",
    "    <p style=\"margin: 0; text-align:right;\">Grado en Ciencia de Datos Aplicada</p>\n",
    "    <p style=\"margin: 0; text-align:right; padding-button: 100px;\">Estudios de Informática, Multimedia y Telecomunicación</p>\n",
    "</div>\n",
    "\n",
    "</div>\n",
    "<div style=\"width: 100%; clear: both;\">\n",
    "<div style=\"width:100%;\">&nbsp;</div>"
   ]
  },
  {
   "cell_type": "markdown",
   "metadata": {},
   "source": [
    "Programación para la ciencia de datos - PEC2\n",
    "============================\n",
    "\n",
    "En este Notebook encontraréis un conjunto de ejercicios que suponen la segunda actividad de evaluación continua (PEC) de la asignatura.\n",
    "\n",
    "Para cada ejercicio, tened en cuenta que: \n",
    "* **Es necesario añadir comentarios** de vuestro código, que expliquen como habéis implementado la solución del problema planteado.\n",
    "* **Es imprescindible** citar las referencias que habéis consultado para realizar la actividad.\n",
    "* Se valorará que el código proporcionado solucione el problema propuesto y también la calidad del código (comentarios, legibilidad, claridad, uso de las estructuras de datos adecuadas, buena nomenclatura de las variables y funciones, seguimiento del PEP8, etc. ).\n",
    "\n",
    "Veréis que cada una de las actividades tiene asociada una puntuación, que indica el peso que tiene esa actividad sobre la nota de la PEC. Adicionalmente, hay una puntuación asociada a aspectos globales de la PEC (*docstring*, modularidad y estilo), que se evaluaran sobre la totalidad del código entregado. \n",
    "\n",
    "Además, veréis que todas las actividades tienen una etiqueta, que indica los recursos necesarios para llevarla a término. Hay tres posibles etiquetas: \n",
    "\n",
    "* <span style=\"font-family: Courier New; background-color: #82b74b; color: #000000; padding: 3px; \">SM</span> **Solo materiales**: las herramientas necesarias para realizar la actividad se pueden encontrar en los materiales de la asignatura (consideraremos también los materiales de la asignatura Fundamentos de Programación, así como las lecturas obligatorias de material externo que se indiquen en los notebooks).\n",
    "\n",
    "* <span style=\"font-family: Courier New; background-color: #ffcc5c; color: #000000; padding: 3px; \">EG</span> **Consulta externa guiada**: la actividad puede requerir el uso de herramientas que no se encuentren en los materiales de la asignatura, pero el enunciado contiene indicaciones de dónde o cómo encontrar la información adicional necesaria para resolver la actividad.\n",
    "\n",
    "* <span style=\"font-family: Courier New; background-color: #f2ae72; color: #000000; padding: 3px; \">EI</span> **Consulta externa independiente**: la actividad puede requerir el uso de herramientas que no se encuentren en los materiales de la asignatura, y el enunciado puede no incluir la descripción de dónde o cómo encontrar esta información adicional. Será necesario que el estudiante busque esta información usando los recursos explicados en la asignatura.\n",
    "\n",
    "Es importante notar que estas etiquetas no indican el nivel de dificultad del ejercicio, sino únicamente la necesidad de consulta de documentación externa para su resolución. Además, recordad que las **etiquetas son informativas**, pero podréis consultar referencias externas siempre que queráis (aunque no se indique explícitamente) o puede que podáis hacer una actividad sin consultar ningún tipo de documentación. Por ejemplo, para resolver una actividad que solo requiera los materiales de la asignatura, podéis consultar referencias externas si queréis, ¡ya sea tanto para ayudaros en su resolución como para ampliar conocimiento! \n",
    "\n",
    "---\n"
   ]
  },
  {
   "cell_type": "markdown",
   "metadata": {},
   "source": [
    "**Importante**: Además de la puntuación de cada ejercicio, que valora la calidad de la solución que proponéis y los resultados obtenidos, en esta PEC se valoran 3 aspectos adicionales, transversales a todas las actividades: \n",
    "\n",
    "* **Documentación** (**0.5*f puntos**): Todas las funciones de los ejercicios de esta PEC deberán estar correctamente documentadas utilizando *docstrings* (en el formato que prefiráis). \n",
    "\n",
    "* **Modularidad** (**1*f puntos**): Se valorará la modularidad del código (la correcta estructuración del código en funciones). \n",
    "\n",
    "* **Estilo** (**0.5*f puntos**): El código tiene que seguir la guía de estilo de Python (PEP8), exceptuando los casos donde hacerlo complique la legibilidad del código.\n",
    "\n",
    "Donde $f$ es la fracción de la PEC realizada. Es decir, la nota de estos aspectos transversales será proporcional a la parte de la PEC realizada.\n",
    "\n",
    "Así, los aspectos transversales tendrán una puntuación máxima de 2 puntos si se entregan todos los ejercicios de la PEC. En caso contrario, la nota de aspectos transversales se multiplicará por la fracción de la PEC entregada. Por ejemplo, si los aspectos transversales están puntuados con un 2 pero solo hay la mitad de la PEC entregada, la nota de aspectos transversales será $2*0.5=1$."
   ]
  },
  {
   "cell_type": "code",
   "execution_count": 1,
   "metadata": {},
   "outputs": [
    {
     "name": "stdout",
     "output_type": "stream",
     "text": [
      " Empiezas con 8 puntos de los ejercicios\n"
     ]
    }
   ],
   "source": [
    "import grades\n",
    "puntos = grades.puntos\n",
    "id = 41\n",
    "%load_ext pycodestyle_magic\n",
    "%pycodestyle_on"
   ]
  },
  {
   "cell_type": "markdown",
   "metadata": {},
   "source": [
    "# Ejercicio 1\n",
    "\n",
    "Analizad los siguientes fragmentos de código, indicad qué operación realiza cada función y qué resultados se obtendría en las correspondientes llamadas, razonadamente. \n",
    "\n",
    "<span style=\"font-family: Courier New; background-color: #82b74b; color: #000000; padding: 3px; \">SM</span> **(1 punto)**\n"
   ]
  },
  {
   "cell_type": "code",
   "execution_count": 2,
   "metadata": {
    "pycharm": {
     "name": "#%%\n"
    }
   },
   "outputs": [],
   "source": [
    "# Ejercicio 1.1\n",
    "\n",
    "# Define foo function \n",
    "def foo(**kwargs):\n",
    "    \"\"\"\n",
    "    Return the sum of the dictionary values .\n",
    "\n",
    "    This function accepts a dictionary with the tuple  ( name value ), and returns\n",
    "    the sum of them.\n",
    "\n",
    "    Arguments:\n",
    "    kwargs -- dictionary with the tuple name value \n",
    "\n",
    "    Returns:\n",
    "    number: sum of the values\n",
    "    \"\"\"\n",
    "    # We rool trough the kwargs tuples and build a list with the values \n",
    "    values = [v for k, v in kwargs.items()]\n",
    "    #  Check if the list values exist and if all values are integer , then return the total sum \n",
    "    #  (We rool trough the value list  put in x and  check if x is  integer)\n",
    "    if values and all(isinstance(x, int) for x in values):\n",
    "        return sum(values)\n"
   ]
  },
  {
   "cell_type": "code",
   "execution_count": 3,
   "metadata": {},
   "outputs": [
    {
     "name": "stdout",
     "output_type": "stream",
     "text": [
      "42\n"
     ]
    }
   ],
   "source": [
    "print (foo(x=40, y=2))\n",
    "foo()\n",
    "foo(x=30, y=20, z=1.2)"
   ]
  },
  {
   "cell_type": "markdown",
   "metadata": {},
   "source": [
    "Respuesta:\n",
    "Call 1.- foo(x=40, y=2) : With this call we sum the var x (40) and the var y (2) and receive the total : 42 . \n",
    "\n",
    "Call 2.- foo() : With this call the function return nothing because we don't send any arguments, then the condition is not met . \n",
    "\n",
    "foo(x=30, y=20, z=1.2) :  With this call the function return nothing because no all values are integer, then the condition are no met .\n"
   ]
  },
  {
   "cell_type": "code",
   "execution_count": 4,
   "metadata": {
    "pycharm": {
     "name": "#%%\n"
    }
   },
   "outputs": [],
   "source": [
    "# Ejercicio 1.2\n",
    "\n",
    "y = 3\n",
    "\n",
    "def foo2(x, *args, **kwargs):\n",
    "    \"\"\"\n",
    "    Return the sum of the parameters receive according their values.\n",
    "\n",
    "    This function accepts  3  parameters,  analize them and return the sum of them.\n",
    "    \n",
    "    Arguments :\n",
    "    x -- Number to add\n",
    "    args -- list of argument to add\n",
    "    kwargs -- dictionary with the tuple name value \n",
    "\n",
    "    Returns:\n",
    "    number: Sum of the values\n",
    "    \"\"\"\n",
    "    #We asigned to z the first item of args in case args is  empty we asigned y\n",
    "    z = args[0] if args else y\n",
    "    # We return the sum of x and z\n",
    "    return x + z\n"
   ]
  },
  {
   "cell_type": "code",
   "execution_count": 5,
   "metadata": {},
   "outputs": [
    {
     "data": {
      "text/plain": [
       "12"
      ]
     },
     "execution_count": 5,
     "metadata": {},
     "output_type": "execute_result"
    }
   ],
   "source": [
    "foo2(3)\n",
    "foo2(2, y=1)\n",
    "foo2(5, 7, y=1)"
   ]
  },
  {
   "cell_type": "markdown",
   "metadata": {},
   "source": [
    "Respuesta:\n",
    "Call 1.- foo2(3) : With this call we sum the first argument (3) plus the default value of y (3), because the second argument is empty. We print 6\n",
    "Call 2.- foo() : With this we sum the first argumtn (2) with  the default value (3) because the second argument  maping with the thir parameter of the function. We print 5\n",
    "foo(x=30, y=20, z=1.2) :  With this call we sum the first argument (5) plus the second argument 7. We print  12. Let me mention that the third parameter of the function is never use. \n"
   ]
  },
  {
   "cell_type": "markdown",
   "metadata": {},
   "source": [
    "# Ejercicio 2\n",
    "\n",
    "Queremos crear una o varias funciones que nos permitan extraer las direcciones IPv4 de artículos de texto para hacer un estudio de las direcciones más referenciadas en distintos blogs.\n",
    "\n",
    "La función debe recibir como parámetro el nombre del fichero de texto que contiene el artículo del cual queremos extraer todas las direcciones, y devolver una lista con todas las direcciones encontradas. **Utilizad las funciones map y filter para resolver el problema.**\n",
    "\n",
    "Las direcciones IPv4 siguen el formato *dotted quad*, es decir, consisten en 4 números (0-255) separado por puntos. Tened en cuenta que algunas direcciones pueden ir acompañadas de una máscara, por ejemplo: 192.168.1.30/16.\n",
    "\n",
    "Nos hemos descargado un artículo sobre IPv4 de Wikipedia para poder probar nuestro código (`data/ipv4_wiki.txt`). Dad el resultado de ejecutar la función sobre ese archivo.\n",
    "\n",
    "<span style=\"font-family: Courier New; background-color: #82b74b; color: #000000; padding: 3px; \">SM</span> **(2 puntos)**"
   ]
  },
  {
   "cell_type": "code",
   "execution_count": 6,
   "metadata": {},
   "outputs": [
    {
     "name": "stdout",
     "output_type": "stream",
     "text": [
      "['256.764.2.123', '172.16.254.1', '192.0.2.1', '192.168.0.0', '192.168.0.255', '255.255.255.255', '224.0.0.0', '239.255.255.255']\n"
     ]
    }
   ],
   "source": [
    "# Respuesta\n",
    "def is_valid_ip(str_ip_addr):\n",
    "    \"\"\"\n",
    "    Return true if the parameters receive  is an IP adress.\n",
    "\n",
    "    This function accepts  1  parameter,  analize , split , check range \n",
    "    and return true if the string is IP in another case return false .\n",
    "    \n",
    "    Arguments :\n",
    "    str_ip_addr -- String to analize\n",
    "\n",
    "    Returns:\n",
    "    boolean : True if the string is an Ip adress\n",
    "    \"\"\"\n",
    "    #Split the string in blocks\n",
    "    ip_blocks = str(str_ip_addr).split(\".\")\n",
    "    #Check if we have 4 block(IP format)  \n",
    "    if len(ip_blocks) == 4:\n",
    "        #We roll through the blocks to validate IP format \n",
    "        for block in ip_blocks:\n",
    "            # Check if number is digit, if not checked before calling this function\n",
    "            if not block.isdigit():\n",
    "                return False\n",
    "            tmp = int(block)\n",
    "            if 0 > tmp > 255:\n",
    "                return False\n",
    "        return True\n",
    "    return False\n",
    "\n",
    "def ip_lookup(file_name  ):\n",
    "    \"\"\"\n",
    "    Return the IP list of the file .\n",
    "\n",
    "    This function accepts  1  parameter,  open file read each line and looking for IP  \n",
    "    then return a lis with the Ips found .\n",
    "    \n",
    "    Arguments :\n",
    "    file_name  -- String with the relative path \n",
    "\n",
    "    Returns:\n",
    "    list : list with all IPs\n",
    "    \"\"\"   \n",
    "    # We load the file and read line to line\n",
    "    with open(file_name, 'r') as file_to_read:\n",
    "        #We initialize our variables \n",
    "        line_list = []\n",
    "        document_list=[]\n",
    "        # We roll throught the file to analize each line \n",
    "        for line in file_to_read:\n",
    "            #Split with space\n",
    "            str_split = str(line).split(' ')\n",
    "            #Analize the split string and check if contain valid and return list of IP\n",
    "            # We roll throught the line list to add to general list \n",
    "            line_list = list(map(document_list.append, filter(is_valid_ip ,str_split)))\n",
    "  \n",
    "    return document_list\n",
    "\n",
    "ip_list = ip_lookup(\"data/ipv4_wiki.txt\")\n",
    "print (ip_list)\n"
   ]
  },
  {
   "cell_type": "code",
   "execution_count": 7,
   "metadata": {},
   "outputs": [],
   "source": [
    "# ------------------\n",
    "# No comprueba que < 255 porque esto está mal:\n",
    "# if 0 > tmp > 255: --> if 0 < tmp > 255 \n",
    "puntos[\"Ej 2\"] -= 0.1\n",
    "# ------------------\n",
    "# No coges las IP que acaban en punto (porque estan a final de frase\n",
    "# o en coma o las que tienen máscara, así que te dejas\n",
    "# bastantes IP del documento.\n",
    "puntos[\"Ej 2\"] -= 0.5"
   ]
  },
  {
   "cell_type": "markdown",
   "metadata": {},
   "source": [
    "# Ejercicio 3\n",
    "\n",
    "Queréis generar un pequeño script para ordenar datos generados para un proyecto del que formáis parte. Los datos se encuentran todos juntos en una misma carpeta, pero los queréis separar en distintas carpetas en función de cuando fueron generadas. La estructura que queréis conseguir es la siguiente: \n",
    "\n",
    "- Habrá una carpeta con el nombre del proyecto que contendrá el resto de carpetas.\n",
    "- Dentro de esa carpeta del proyecto habrá una carpeta con cada año del cual tengamos datos. \n",
    "- Dentro de cada carpeta de año habrá una con cada mes del cual tengamos datos.\n",
    "- Dentro de cada carpeta de mes habrá una con cada día (si hay datos de ese día).\n",
    "- Dentro de cada carpeta de cada día habrá los ficheros generados ese día.\n",
    "- Los ficheros mantendrán su nombre original.\n",
    "\n",
    "Los datos del proyecto se encuentran en la carpeta `bulk_project_data` y tienen información de cuando fueron generados en el nombre del fichero:\n",
    "\n",
    "`DD-MM-YYYY.csv`\n",
    "\n",
    "Donde `DD` corresponde al día, con dos dígitos, `MM` corresponde al mes, con dos dígitos, y `YYYY` corresponde al año, con 4 dígitos. \n",
    "\n",
    "La carpeta del proyecto tendrá que estar guardada en la carpeta de usuario del usuario que ejecute el script (`~`), es decir, `/home/nombre_usuario`.\n",
    "\n",
    "**Pista: buscad información de la función expanduser de la librería os.path**\n",
    "\n",
    "Para resolver el problema tendréis que generar una función que recibirá dos parámetros:\n",
    "- La ruta de la carpeta con los datos a ordenar.\n",
    "- El nombre de la carpeta del proyecto donde se guardarán los datos.\n",
    "\n",
    "El segundo parámetro será opcional, y tendrá como valor por defecto `project_data`.\n",
    "\n",
    "Ejemplo de estructura:\n",
    "```\n",
    "project_folder\n",
    "    2018\n",
    "       01\n",
    "           01\n",
    "               file1.csv\n",
    "               file2.csv\n",
    "           02\n",
    "                ...\n",
    "       ...\n",
    "    2019\n",
    "        ...\n",
    "    2020\n",
    "        ...\n",
    "```\n",
    "\n",
    "<span style=\"font-family: Courier New; background-color: #82b74b; color: #000000; padding: 3px; \">SM</span> **(2 puntos)**\n"
   ]
  },
  {
   "cell_type": "code",
   "execution_count": 9,
   "metadata": {},
   "outputs": [
    {
     "name": "stdout",
     "output_type": "stream",
     "text": [
      "/Users/casaponsa/WORK/UOC/ProgramacionCienciaDatos/SharedFolder/AlumnosPEC2/bulk_project_data/\n",
      "/Users/casaponsa/project_data/\n"
     ]
    }
   ],
   "source": [
    "import os\n",
    "\n",
    "current_dir = os.getcwd()\n",
    "path_source= os.path.join(current_dir, \"bulk_project_data\", \"\")\n",
    "\n",
    "path = os.path.expanduser(\"~\")\n",
    "path_destiny = os.path.join(path, \"project_data\", \"\")\n",
    "\n",
    " \n",
    "print(path_source)\n",
    "print(path_destiny)"
   ]
  },
  {
   "cell_type": "code",
   "execution_count": 10,
   "metadata": {},
   "outputs": [
    {
     "data": {
      "text/plain": [
       "True"
      ]
     },
     "execution_count": 10,
     "metadata": {},
     "output_type": "execute_result"
    }
   ],
   "source": [
    "# Respuesta\n",
    "import os\n",
    "import shutil\n",
    "\n",
    "def build_directory_tree(path_source, directory_name=\"project_data\"):\n",
    "    \"\"\"\n",
    "    Return true if the tree directory is build correctly .\n",
    "\n",
    "    This function accepts  a directory with files  name are date(DD-MM-YYYY), and organize this files in directories \n",
    "    with herarchies of year, months and days\n",
    "    \n",
    "    Arguments :\n",
    "    path_source -- path with all files\n",
    "    file_name  --  directory to organize the fiels read  \n",
    "\n",
    "    Returns:\n",
    "    Boolean  : True if the is build properly , False if not.\n",
    "    \"\"\"   \n",
    "\n",
    "    # We obtain the path destiny\n",
    "    path = os.path.expanduser(\"~\")\n",
    "    path_destiny = os.path.join(path, directory_name, \"\")\n",
    "\n",
    "    for f in os.listdir(path_source):\n",
    "        #We obtain year, month and day\n",
    "        filename, file_ext = os.path.splitext(f)\n",
    "        dd, mm, yyyy= filename.split(\"-\")\n",
    "        # We build our source and destiny\n",
    "        original = path_source+ filename+file_ext\n",
    "        target=path_destiny + yyyy + \"/\" + mm + \"/\" + dd\n",
    "\n",
    "        try:\n",
    "            #Create directory\n",
    "            os.makedirs(target, exist_ok=True)\n",
    "            #Copy file\n",
    "            shutil.copy(original, target)\n",
    "        except (FileNotFoundError, PermissionError):\n",
    "            print(\"Error creating directory\")\n",
    "            return False\n",
    "    #Return True if the process is fine  \n",
    "    return True\n",
    "# To test        \n",
    "path_source= os.path.join(os.getcwd(), \"bulk_project_data\", \"\")\n",
    "build_directory_tree(path_source, \"project_directories\")"
   ]
  },
  {
   "cell_type": "markdown",
   "metadata": {},
   "source": [
    "# Ejercicio 4\n",
    "\n",
    "En el notebook de teoría hemos visto como de fácil es cargar ficheros csv con pandas, y la gran variedad de opciones que nos permite. En este ejercicio crearemos una versión reducida de la función `read_csv`.\n",
    "\n",
    "Cread una función `custom_read_csv` que nos permita cargar datos de un archivo `csv` y guardarlos en un diccionario. La función nos deberá permitir seleccionar el tipo de separador de datos que queremos utilizar (tomaremos la coma como valor por defecto) y si existe algún valor que tiene que ser tomado como nulo (o NaN). Los valores nulos los representaremos como `None`.\n",
    "\n",
    "Finalmente, el valor de la llave del diccionario corresponderá con el número de la línea que estamos leyendo, empezando por `0` (y omitiendo la cabecera).\n",
    "\n",
    "Dad el resultado de ejecutar la llamada a la función `custom_read_csv` con el archivo `data/data_marvel-wikia-data.csv` que hemos visto en el notebook de teoría y `-` como `nan_value`.\n",
    "\n",
    "**Podéis asumir que los archivos csv tienen un formato correcto, es decir, el número de columnas por cada fila es correcto y la cabecera existe**.\n",
    "\n",
    "**Ejemplo:**\n",
    "\n",
    "Dadas las siguientes líneas de un fichero:\n",
    "\n",
    "    value1, value2, value3, ..., valuen\n",
    "    \n",
    "    1, 2, 3, ..., n\n",
    "    \n",
    "    45, 7, NaN, ..., 68\n",
    "    \n",
    "    42, NaN, 0, ..., -1\n",
    "\n",
    "Y la llamada a la función:\n",
    "\n",
    "    custom_read_csv(file_path, ',', 'NaN')\n",
    "\n",
    "Tendríamos que obtener el diccionario:\n",
    "\n",
    "```\n",
    "{\n",
    "\"0\": {\"value1\": 1, \"value2\": 2, \"value3\": 3, ..., \"valuen\": n},\n",
    "\"1\": {\"value1\": 45, \"value2\": 7, \"value3\": None, ..., \"valuen\": 68},\n",
    "\"2\": {\"value1\": 42, \"value2\": None, \"value3\": 0, ..., \"valuen\": -1}\n",
    "}\n",
    "\n",
    "```\n",
    "\n",
    "<span style=\"font-family: Courier New; background-color: #82b74b; color: #000000; padding: 3px; \">SM</span> **(2 puntos)**\n"
   ]
  },
  {
   "cell_type": "code",
   "execution_count": 11,
   "metadata": {},
   "outputs": [
    {
     "name": "stdout",
     "output_type": "stream",
     "text": [
      "{1: {'page_id': '1678', 'name': 'Spider-Man (Peter Parker)', 'urlslug': '\\\\/Spider-Man_(Peter_Parker)', 'ID': 'Secret Identity', 'ALIGN': 'Good Characters', 'EYE': 'Hazel Eyes', 'HAIR': 'Brown Hair', 'SEX': 'Male Characters', 'GSM': 'dontknow', 'ALIVE': 'Living Characters', 'APPEARANCES': '4043', 'FIRST APPEARANCE': 'Aug-62', 'Year\\n': '1.962\\n'}, 2: {'page_id': '7139', 'name': 'Captain America (Steven Rogers)', 'urlslug': '\\\\/Captain_America_(Steven_Rogers)', 'ID': 'Public Identity', 'ALIGN': 'Good Characters', 'EYE': 'Blue Eyes', 'HAIR': 'White Hair', 'SEX': 'Male Characters', 'GSM': '', 'ALIVE': 'Living Characters', 'APPEARANCES': '3360', 'FIRST APPEARANCE': 'Mar-41', 'Year\\n': '1.941\\n'}, 3: {'page_id': '64786', 'name': '\"Wolverine (James \\\\\"\"Logan\\\\\"\" Howlett)\"', 'urlslug': '\\\\/Wolverine_(James_%22Logan%22_Howlett)', 'ID': 'Public Identity', 'ALIGN': 'Neutral Characters', 'EYE': 'Blue Eyes', 'HAIR': 'Black Hair', 'SEX': 'Male Characters', 'GSM': 'dontknow', 'ALIVE': 'Living Characters', 'APPEARANCES': '3061', 'FIRST APPEARANCE': 'Oct-74', 'Year\\n': '1.974\\n'}, 4: {'page_id': '1868', 'name': '\"Iron Man (Anthony \\\\\"\"Tony\\\\\"\" Stark)\"', 'urlslug': '\\\\/Iron_Man_(Anthony_%22Tony%22_Stark)', 'ID': 'Public Identity', 'ALIGN': 'Good Characters', 'EYE': 'Blue Eyes', 'HAIR': 'Black Hair', 'SEX': 'Male Characters', 'GSM': '', 'ALIVE': 'Living Characters', 'APPEARANCES': '2961', 'FIRST APPEARANCE': 'Mar-63', 'Year\\n': '1.963\\n'}, 5: {'page_id': '2460', 'name': 'Thor (Thor Odinson)', 'urlslug': '\\\\/Thor_(Thor_Odinson)', 'ID': 'No Dual Identity', 'ALIGN': 'Good Characters', 'EYE': 'Blue Eyes', 'HAIR': 'Blond Hair', 'SEX': 'Male Characters', 'GSM': '', 'ALIVE': 'Living Characters', 'APPEARANCES': '2258', 'FIRST APPEARANCE': 'Nov-50', 'Year\\n': '1.950\\n'}, 6: {'page_id': '2458', 'name': 'Benjamin Grimm (Earth-616)', 'urlslug': '\\\\/Benjamin_Grimm_(Earth-616)', 'ID': 'Public Identity', 'ALIGN': 'Good Characters', 'EYE': 'Blue Eyes', 'HAIR': 'No Hair', 'SEX': 'Male Characters', 'GSM': '', 'ALIVE': 'Living Characters', 'APPEARANCES': '2255', 'FIRST APPEARANCE': 'Nov-61', 'Year\\n': '1.961\\n'}, 7: {'page_id': '2166', 'name': 'Reed Richards (Earth-616)', 'urlslug': '\\\\/Reed_Richards_(Earth-616)', 'ID': 'Public Identity', 'ALIGN': 'Good Characters', 'EYE': 'Brown Eyes', 'HAIR': 'Brown Hair', 'SEX': 'Male Characters', 'GSM': 'dontknow', 'ALIVE': 'Living Characters', 'APPEARANCES': '2072', 'FIRST APPEARANCE': 'Nov-61', 'Year\\n': '1.961\\n'}, 8: {'page_id': '1833', 'name': 'Hulk (Robert Bruce Banner)', 'urlslug': '\\\\/Hulk_(Robert_Bruce_Banner)', 'ID': 'Public Identity', 'ALIGN': 'Good Characters', 'EYE': 'Brown Eyes', 'HAIR': 'Brown Hair', 'SEX': 'Male Characters', 'GSM': '', 'ALIVE': 'Living Characters', 'APPEARANCES': '2017', 'FIRST APPEARANCE': 'May-62', 'Year\\n': '1.962\\n'}, 9: {'page_id': '29481', 'name': 'Scott Summers (Earth-616)', 'urlslug': '\\\\/Scott_Summers_(Earth-616)', 'ID': 'Public Identity', 'ALIGN': 'Neutral Characters', 'EYE': 'Brown Eyes', 'HAIR': 'Brown Hair', 'SEX': 'Male Characters', 'GSM': '', 'ALIVE': 'Living Characters', 'APPEARANCES': '1955', 'FIRST APPEARANCE': 'Sep-63', 'Year\\n': '1.963\\n'}, 10: {'page_id': '1837', 'name': 'Jonathan Storm (Earth-616)', 'urlslug': '\\\\/Jonathan_Storm_(Earth-616)', 'ID': 'Public Identity', 'ALIGN': 'Good Characters', 'EYE': 'Blue Eyes', 'HAIR': 'Blond Hair', 'SEX': 'Male Characters', 'GSM': '', 'ALIVE': 'Living Characters', 'APPEARANCES': '1934', 'FIRST APPEARANCE': 'Nov-61', 'Year\\n': '1.961\\n'}, 11: {'page_id': '15725', 'name': 'Henry McCoy (Earth-616)', 'urlslug': '\\\\/Henry_McCoy_(Earth-616)', 'ID': 'Public Identity', 'ALIGN': 'Good Characters', 'EYE': 'Blue Eyes', 'HAIR': 'Blue Hair', 'SEX': 'Male Characters', 'GSM': '', 'ALIVE': 'Living Characters', 'APPEARANCES': '1825', 'FIRST APPEARANCE': 'Sep-63', 'Year\\n': '1.963\\n'}, 12: {'page_id': '1863', 'name': 'Susan Storm (Earth-616)', 'urlslug': '\\\\/Susan_Storm_(Earth-616)', 'ID': 'Public Identity', 'ALIGN': 'Good Characters', 'EYE': 'Blue Eyes', 'HAIR': 'Blond Hair', 'SEX': 'Female Characters', 'GSM': '', 'ALIVE': 'Living Characters', 'APPEARANCES': '1713', 'FIRST APPEARANCE': 'Nov-61', 'Year\\n': '1.961\\n'}, 13: {'page_id': '7823', 'name': 'Namor McKenzie (Earth-616)', 'urlslug': '\\\\/Namor_McKenzie_(Earth-616)', 'ID': 'No Dual Identity', 'ALIGN': 'Neutral Characters', 'EYE': 'Green Eyes', 'HAIR': 'Black Hair', 'SEX': 'Male Characters', 'GSM': '', 'ALIVE': 'Living Characters', 'APPEARANCES': '', 'FIRST APPEARANCE': 'Nov-61', 'Year\\n': '1.528\\n'}, 14: {'page_id': '2614', 'name': 'Ororo Munroe (Earth-616)', 'urlslug': '\\\\/Ororo_Munroe_(Earth-616)', 'ID': 'Public Identity', 'ALIGN': 'Good Characters', 'EYE': 'Blue Eyes', 'HAIR': 'White Hair', 'SEX': 'Female Characters', 'GSM': '', 'ALIVE': 'Living Characters', 'APPEARANCES': '1512', 'FIRST APPEARANCE': 'May-75', 'Year\\n': '1.975\\n'}, 15: {'page_id': '1803', 'name': 'Clinton Barton (Earth-616)', 'urlslug': '\\\\/Clinton_Barton_(Earth-616)', 'ID': 'Public Identity', 'ALIGN': 'Good Characters', 'EYE': 'Blue Eyes', 'HAIR': 'Blond Hair', 'SEX': 'Male Characters', 'GSM': '', 'ALIVE': 'Living Characters', 'APPEARANCES': '1394', 'FIRST APPEARANCE': 'Sep-64', 'Year\\n': '1.964\\n'}, 16: {'page_id': '1396', 'name': 'Matthew Murdock (Earth-616)', 'urlslug': '\\\\/Matthew_Murdock_(Earth-616)', 'ID': 'Public Identity', 'ALIGN': 'Good Characters', 'EYE': 'Blue Eyes', 'HAIR': 'Red Hair', 'SEX': 'Male Characters', 'GSM': '', 'ALIVE': 'Living Characters', 'APPEARANCES': '1338', 'FIRST APPEARANCE': 'Apr-64', 'Year\\n': '1.964\\n'}, 17: {'page_id': '55534', 'name': 'Stephen Strange (Earth-616)', 'urlslug': '\\\\/Stephen_Strange_(Earth-616)', 'ID': 'Public Identity', 'ALIGN': 'Good Characters', 'EYE': 'Grey Eyes', 'HAIR': 'Black Hair', 'SEX': 'Male Characters', 'GSM': '', 'ALIVE': 'Living Characters', 'APPEARANCES': '1307', 'FIRST APPEARANCE': 'Jul-63', 'Year\\n': '1.963\\n'}, 18: {'page_id': '1978', 'name': 'Mary Jane Watson (Earth-616)', 'urlslug': '\\\\/Mary_Jane_Watson_(Earth-616)', 'ID': 'No Dual Identity', 'ALIGN': 'Good Characters', 'EYE': 'Green Eyes', 'HAIR': 'Red Hair', 'SEX': 'Female Characters', 'GSM': '', 'ALIVE': 'Living Characters', 'APPEARANCES': '1304', 'FIRST APPEARANCE': 'Jun-65', 'Year\\n': '1.965\\n'}, 19: {'page_id': '1872', 'name': 'John Jonah Jameson (Earth-616)', 'urlslug': '\\\\/John_Jonah_Jameson_(Earth-616)', 'ID': 'No Dual Identity', 'ALIGN': 'Neutral Characters', 'EYE': 'Blue Eyes', 'HAIR': 'Black Hair', 'SEX': 'Male Characters', 'GSM': '', 'ALIVE': 'Living Characters', 'APPEARANCES': '1266', 'FIRST APPEARANCE': 'Mar-63', 'Year\\n': '1.963\\n'}, 20: {'page_id': '35350', 'name': 'Robert Drake (Earth-616)', 'urlslug': '\\\\/Robert_Drake_(Earth-616)', 'ID': 'Secret Identity', 'ALIGN': 'Good Characters', 'EYE': 'Brown Eyes', 'HAIR': 'Brown Hair', 'SEX': 'Male Characters', 'GSM': '', 'ALIVE': 'Living Characters', 'APPEARANCES': '1265', 'FIRST APPEARANCE': 'Sep-63', 'Year\\n': '1.963\\n'}, 21: {'page_id': '1557', 'name': 'Henry Pym (Earth-616)', 'urlslug': '\\\\/Henry_Pym_(Earth-616)', 'ID': 'Public Identity', 'ALIGN': 'Good Characters', 'EYE': 'Blue Eyes', 'HAIR': 'Blond Hair', 'SEX': 'Male Characters', 'GSM': '', 'ALIVE': 'Living Characters', 'APPEARANCES': '1237', 'FIRST APPEARANCE': 'Jan-62', 'Year\\n': '1.962\\n'}, 22: {'page_id': '65255', 'name': 'Charles Xavier (Earth-616)', 'urlslug': '\\\\/Charles_Xavier_(Earth-616)', 'ID': 'Public Identity', 'ALIGN': 'Good Characters', 'EYE': 'Blue Eyes', 'HAIR': 'Bald', 'SEX': 'Male Characters', 'GSM': '', 'ALIVE': 'Deceased Characters', 'APPEARANCES': '1233', 'FIRST APPEARANCE': 'Sep-63', 'Year\\n': '1.963\\n'}, 23: {'page_id': '1073', 'name': 'Warren Worthington III (Earth-616)', 'urlslug': '\\\\/Warren_Worthington_III_(Earth-616)', 'ID': 'Public Identity', 'ALIGN': 'Good Characters', 'EYE': 'Blue Eyes', 'HAIR': 'Blond Hair', 'SEX': 'Male Characters', 'GSM': '', 'ALIVE': 'Living Characters', 'APPEARANCES': '1230', 'FIRST APPEARANCE': 'Sep-63', 'Year\\n': '1.963\\n'}, 24: {'page_id': '1346', 'name': 'Piotr Rasputin (Earth-616)', 'urlslug': '\\\\/Piotr_Rasputin_(Earth-616)', 'ID': 'Secret Identity', 'ALIGN': 'Good Characters', 'EYE': 'Blue Eyes', 'HAIR': 'Black Hair', 'SEX': 'Male Characters', 'GSM': '', 'ALIVE': 'Living Characters', 'APPEARANCES': '1162', 'FIRST APPEARANCE': 'May-75', 'Year\\n': '1.975\\n'}, 25: {'page_id': '2512', 'name': 'Wanda Maximoff (Earth-616)', 'urlslug': '\\\\/Wanda_Maximoff_(Earth-616)', 'ID': 'Public Identity', 'ALIGN': 'Good Characters', 'EYE': 'Green Eyes', 'HAIR': 'Brown Hair', 'SEX': 'Female Characters', 'GSM': '', 'ALIVE': 'Living Characters', 'APPEARANCES': '1161', 'FIRST APPEARANCE': 'Mar-64', 'Year\\n': '1.964\\n'}, 26: {'page_id': '1671', 'name': 'Nicholas Fury (Earth-616)', 'urlslug': '\\\\/Nicholas_Fury_(Earth-616)', 'ID': 'No Dual Identity', 'ALIGN': 'Neutral Characters', 'EYE': 'Brown Eyes', 'HAIR': 'Brown Hair', 'SEX': 'Male Characters', 'GSM': '', 'ALIVE': 'Living Characters', 'APPEARANCES': '1137', 'FIRST APPEARANCE': 'May-63', 'Year\\n': '1.963\\n'}, 27: {'page_id': '1976', 'name': 'Janet van Dyne (Earth-616)', 'urlslug': '\\\\/Janet_van_Dyne_(Earth-616)', 'ID': 'Public Identity', 'ALIGN': 'Good Characters', 'EYE': 'Blue Eyes', 'HAIR': 'Auburn Hair', 'SEX': 'Female Characters', 'GSM': '', 'ALIVE': 'Living Characters', 'APPEARANCES': '1120', 'FIRST APPEARANCE': 'Jun-63', 'Year\\n': '1.963\\n'}, 28: {'page_id': '65219', 'name': 'Jean Grey (Earth-616)', 'urlslug': '\\\\/Jean_Grey_(Earth-616)', 'ID': 'Public Identity', 'ALIGN': 'Good Characters', 'EYE': 'Green Eyes', 'HAIR': 'Red Hair', 'SEX': 'Female Characters', 'GSM': '', 'ALIVE': 'Deceased Characters', 'APPEARANCES': '1107', 'FIRST APPEARANCE': 'Sep-63', 'Year\\n': '1.963\\n'}, 29: {'page_id': '6545', 'name': 'Natalia Romanova (Earth-616)', 'urlslug': '\\\\/Natalia_Romanova_(Earth-616)', 'ID': 'Public Identity', 'ALIGN': 'Good Characters', 'EYE': 'Green Eyes', 'HAIR': 'Red Hair', 'SEX': 'Female Characters', 'GSM': 'Bisexual Characters', 'ALIVE': 'Living Characters', 'APPEARANCES': '1050', 'FIRST APPEARANCE': 'Apr-64', 'Year\\n': '1.964\\n'}, 30: {'page_id': '2223', 'name': 'Kurt Wagner (Earth-616)', 'urlslug': '\\\\/Kurt_Wagner_(Earth-616)', 'ID': 'Secret Identity', 'ALIGN': 'Good Characters', 'EYE': 'Yellow Eyes', 'HAIR': 'Blue Hair', 'SEX': 'Male Characters', 'GSM': '', 'ALIVE': 'Living Characters', 'APPEARANCES': '1047', 'FIRST APPEARANCE': 'May-75', 'Year\\n': '1.975\\n'}, 31: {'page_id': '9999', 'name': 'None', 'urlslug': 'None', 'ID': 'None', 'ALIGN': 'None', 'EYE': 'None', 'HAIR': 'None', 'SEX': 'None', 'GSM': '', 'ALIVE': 'None', 'APPEARANCES': '0', 'FIRST APPEARANCE': '-0', 'Year\\n': '0\\n'}}\n"
     ]
    }
   ],
   "source": [
    "# Respuesta\n",
    "# Import panda library\n",
    "import pandas as pd\n",
    "#Define the function\n",
    "def custom_read_csv(file_path, separator=',', null_value=\"NaN\") :\n",
    "    \"\"\"\n",
    "    Return TRUE if the reading process was executed correctly.\n",
    "\n",
    "    This function  saves to a dictionary, we have two criterion to saved separators and  null value\n",
    "    \n",
    "    Arguments :\n",
    "    # We rool throgh the file to  a csv file and \n",
    "    file_path   -- file to read \n",
    "    # Check if is first rown , to read the colus\n",
    "    separator   -- delimiter specified to identify the separator between items  (by default = ,)\n",
    "    null_value  -- string to identify the null values (by default = NaN\"\n",
    "\n",
    "\n",
    "    Returns:\n",
    "    result  : true if the process finish properly and false if not.\n",
    "    \"\"\"   \n",
    "\n",
    "    #We initialize the dictionary\n",
    "    my_dictionary={}\n",
    " \n",
    "    # We load the file  \n",
    "    with open(file_path, 'r') as f:\n",
    "        counter = 0\n",
    "        # We rool through the file to  read line to line \n",
    "        for line in f:\n",
    "            # Check if is the first row , to split the line, read the colums and initialize the keys\n",
    "            if counter==0 : \n",
    "                keys = line.split(str(separator))\n",
    "                counter += 1\n",
    "            else :\n",
    "                # From the second row , we split the line, read the colums, check nulls and initialize the values\n",
    "                values = line.split(str(separator))\n",
    "                new_values = [x if x != null_value else \"None\" for x in values]\n",
    "                my_dictionary[counter] = dict(zip(keys, new_values))\n",
    "                counter += 1\n",
    "    return my_dictionary\n",
    "                       \n",
    "dictionary_result = custom_read_csv(\"data/data_marvel-wikia-data.csv\", ',', '-')\n",
    "print(dictionary_result)\n",
    "\n",
    "# -----------------\n",
    "#  la función se tiene que llamar con el fichero y solo nan_value\n",
    "#  custom_read_csv(file,null_value='-')\n",
    "puntos[\"Ej 4\"] -= 0.1"
   ]
  },
  {
   "cell_type": "markdown",
   "metadata": {},
   "source": [
    "# Ejercicio 5\n",
    "\n",
    "Cread una función que, dado un diccionario y un nombre de un fichero, guarde el diccionario en disco. La función deberá permitir escoger el tipo de formato que queremos utilizar para guardar el diccionario (texto o pickle), y si queremos comprimir el archivo de salida en zip. \n",
    "\n",
    "De tal manera que podremos tener cuatro tipos de salida:\n",
    "- Archivo txt.\n",
    "- Arxivo pkl.\n",
    "- Arxivo zip conteniendo un txt.\n",
    "- Arxivo zip conteniendo un pkl.\n",
    "\n",
    "Por defecto la función no comprimirá en zip.\n",
    "\n",
    "<span style=\"font-family: Courier New; background-color: #82b74b; color: #000000; padding: 3px; \">SM</span> **(1 punto)**"
   ]
  },
  {
   "cell_type": "code",
   "execution_count": 12,
   "metadata": {},
   "outputs": [
    {
     "name": "stdout",
     "output_type": "stream",
     "text": [
      "True\n"
     ]
    }
   ],
   "source": [
    "# Respuesta\n",
    "import pickle  as pk\n",
    "import zipfile as zf\n",
    "\n",
    "# Save dictionary\n",
    "def save_dictionary ( dictionary, file_name, type_format ,to_zip=False) : \n",
    "    \"\"\"\n",
    "    Return TRUE if the dictionary was saved or zipped correctly.\n",
    "\n",
    "    This function saves a dictionary in a file with a specific extension and also has the ability to zip.\n",
    "    \n",
    "    Arguments :\n",
    "    dictionary  -- dictionary to save \n",
    "    file_name   -- string with the relative path\n",
    "    type_format -- specific type of format (txt,pkl)\n",
    "\n",
    "    Returns:\n",
    "    result  : true if the process finish properly and false if not.\n",
    "    \"\"\"   \n",
    "    # Check if the format  type is ok\n",
    "    if str(type_format) !=\"pkl\" and  str(type_format) !=\"txt\" :\n",
    "        print (\"The specified format is wrong\")\n",
    "        return False \n",
    "    # Check  file name\n",
    "    if file_name  ==\"\" :\n",
    "        print (\"The specified file name is wrong\")\n",
    "        return False \n",
    "    # Check  dictionary \n",
    "    if type(dictionary)!=type({}):\n",
    "        print (\"The specified dictionary  is wrong\")\n",
    "        return False \n",
    "    file_to_save = file_name + \".\" + type_format\n",
    "    file_to_zip = file_name + \".\" + \"zip\"\n",
    "    \n",
    "    with open(file_to_save, 'w') as out:\n",
    "        if type_format == \"pkl\" :\n",
    "            # We serialize with PICKLE the dictionary and write in file \n",
    "            serialized_dict = pk.dumps(dictionary)\n",
    "            out.write(str(serialized_dict))\n",
    "        else : \n",
    "            out.write(str(dictionary))\n",
    "        if to_zip :\n",
    "            # We create the zip file specifed the compression type \n",
    "            with zf.ZipFile(file_to_zip, 'w', compression=zf.ZIP_DEFLATED) as zip_f:\n",
    "                # We add the file  to the zip  \n",
    "                zip_f.write(file_to_save)\n",
    "        return True\n",
    "    return False\n",
    "\n",
    "# To test\n",
    "a_dict = {\"Algebra\": 10, \"Python\": 10}\n",
    "print(save_dictionary(a_dict,\"ejercicio5\",\"txt\" , True))\n",
    "                      \n",
    "# --------------------\n",
    "# Cuando das comprimir=True\n",
    "# debería quedarte solo el archivo comprimido\n",
    "puntos[\"Ej 5\"] -= 0.1"
   ]
  },
  {
   "cell_type": "code",
   "execution_count": 13,
   "metadata": {},
   "outputs": [
    {
     "name": "stdout",
     "output_type": "stream",
     "text": [
      "Jorge Oliva Ramos\n",
      "puntuación ejercicios 7.20 sobre 8 \n",
      "puntuación final (ej. + asp. transversales) 9.10\n"
     ]
    }
   ],
   "source": [
    "f = 1  # fracción de PEC\n",
    "# estilo correcto, con detalles \n",
    "# menores, y algun error al aplicar el\n",
    "# corrctor de estilo.\n",
    "puntos[\"Estilo\"] += 0.4 * f\n",
    "# modularidad correcta\n",
    "puntos[\"Modularidad\"] += 1 * f\n",
    "# Documentación correcta\n",
    "puntos[\"Documentacion\"] += 0.5 * f\n",
    "grades.save(puntos, id)"
   ]
  }
 ],
 "metadata": {
  "kernelspec": {
   "display_name": "Python 3",
   "language": "python",
   "name": "python3"
  },
  "language_info": {
   "codemirror_mode": {
    "name": "ipython",
    "version": 3
   },
   "file_extension": ".py",
   "mimetype": "text/x-python",
   "name": "python",
   "nbconvert_exporter": "python",
   "pygments_lexer": "ipython3",
   "version": "3.8.3"
  },
  "pycharm": {
   "stem_cell": {
    "cell_type": "raw",
    "metadata": {
     "collapsed": false
    },
    "source": []
   }
  }
 },
 "nbformat": 4,
 "nbformat_minor": 2
}
