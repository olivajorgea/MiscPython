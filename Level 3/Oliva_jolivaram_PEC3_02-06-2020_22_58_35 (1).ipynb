{
 "cells": [
  {
   "cell_type": "markdown",
   "metadata": {},
   "source": [
    "<div style=\"width: 100%; clear: both;\">\n",
    "    <div style=\"float: left; width: 50%;\">\n",
    "       <img src=\"http://www.uoc.edu/portal/_resources/common/imatges/marca_UOC/UOC_Masterbrand.jpg\", align=\"left\">\n",
    "    </div>\n",
    "</div>\n",
    "\n",
    "<div style=\"float: right; width: 50%;\">\n",
    "    <p style=\"margin: 0; padding-top: 22px; text-align:right;\">22.503 · Programación para la ciencia de datos</p>\n",
    "    <p style=\"margin: 0; text-align:right;\">Grado en Ciencia de Datos Aplicada</p>\n",
    "    <p style=\"margin: 0; text-align:right; padding-button: 100px;\">Estudios de Informática, Multimedia y Telecomunicación</p>\n",
    "</div>\n",
    "\n",
    "</div>\n",
    "<div style=\"width: 100%; clear: both;\">\n",
    "<div style=\"width:100%;\">&nbsp;</div>"
   ]
  },
  {
   "cell_type": "markdown",
   "metadata": {},
   "source": [
    "Programación para la ciencia de datos - PEC3\n",
    "============================\n",
    "\n",
    "En este Notebook encontraréis un conjunto de ejercicios que suponen la tercera actividad de evaluación continua (PEC) de la asignatura.\n",
    "\n",
    "Para cada ejercicio, tened en cuenta que: \n",
    "* **Es necesario añadir comentarios** de vuestro código que expliquen como habéis implementado la solución del problema planteado.\n",
    "* **Es imprescindible** citar las referencias que habéis consultado para realizar la actividad.\n",
    "* Se valorará que el código proporcionado solucione el problema propuesto y también la calidad del código (comentarios, legibilidad, claridad, uso de las estructuras de datos adecuadas, buena nomenclatura de las variables y funciones, seguimiento del PEP8, etc. ).\n",
    "\n",
    "Veréis que cada una de las actividades tiene asociada una puntuación, que indica el peso que tiene esa actividad sobre la nota de la PEC. Adicionalmente, hay una puntuación asociada a aspectos globales de la PEC (*docstring*, modularidad y estilo), que se evaluarán sobre la totalidad del código entregado. \n",
    "\n",
    "Además, veréis que todas las actividades tienen una etiqueta, que indica los recursos necesarios para llevarla a término. Hay tres posibles etiquetas: \n",
    "\n",
    "* <span style=\"font-family: Courier New; background-color: #82b74b; color: #000000; padding: 3px; \">SM</span> **Solo materiales**: las herramientas necesarias para realizar la actividad se pueden encontrar en los materiales de la asignatura (consideraremos también los materiales de la asignatura Fundamentos de Programación, así como las lecturas obligatorias de material externo que se indiquen en los notebooks).\n",
    "\n",
    "* <span style=\"font-family: Courier New; background-color: #ffcc5c; color: #000000; padding: 3px; \">EG</span> **Consulta externa guiada**: la actividad puede requerir el uso de herramientas que no se encuentren en los materiales de la asignatura, pero el enunciado contiene indicaciones de dónde o cómo encontrar la información adicional necesaria para resolver la actividad.\n",
    "\n",
    "* <span style=\"font-family: Courier New; background-color: #f2ae72; color: #000000; padding: 3px; \">EI</span> **Consulta externa independiente**: la actividad puede requerir el uso de herramientas que no se encuentren en los materiales de la asignatura, y el enunciado puede no incluir la descripción de dónde o cómo encontrar esta información adicional. Será necesario que el estudiante busque esta información usando los recursos explicados en la asignatura.\n",
    "\n",
    "Es importante notar que estas etiquetas no indican el nivel de dificultad del ejercicio, sino únicamente la necesidad de consulta de documentación externa para su resolución. Además, recordad que las **etiquetas son informativas**, pero podréis consultar referencias externas siempre que queráis (aunque no se indique explícitamente) o puede que podáis hacer una actividad sin consultar ningún tipo de documentación. Por ejemplo, para resolver una actividad que solo requiera los materiales de la asignatura, podéis consultar referencias externas si queréis, ¡ya sea tanto para ayudaros en su resolución como para ampliar conocimiento! "
   ]
  },
  {
   "cell_type": "code",
   "execution_count": 1,
   "metadata": {},
   "outputs": [
    {
     "name": "stdout",
     "output_type": "stream",
     "text": [
      " Empiezas con 10 puntos\n"
     ]
    }
   ],
   "source": [
    "import grades\n",
    "puntos = grades.puntos\n",
    "id = 41"
   ]
  },
  {
   "cell_type": "markdown",
   "metadata": {},
   "source": [
    "## Ejercicio 1\n",
    "\n",
    "Indicad la complejidad algorítmica $\\Theta$ en relación al tiempo de ejecución de los siguientes fragmentos de código, justificando vuestra respuesta.\n",
    "\n",
    "<span style=\"font-family: Courier New; background-color: #82b74b; color: #000000; padding: 3px; \">NM</span> **(2 puntos)**\n",
    "\n",
    "**Ejercicio 1.1 (0.75 puntos):**\n",
    "\n",
    "Nota: podéis asumir que los tres parámetros tienen siempre el mismo tamaño."
   ]
  },
  {
   "cell_type": "code",
   "execution_count": 1,
   "metadata": {
    "pycharm": {
     "name": "#%%\n"
    }
   },
   "outputs": [],
   "source": [
    "def foo(l, s, d):\n",
    "    \"\"\"\n",
    "    Args:\n",
    "        l (:obj:`list`): a list of integers.\n",
    "        s (:obj:`list`): a list of integers behaving as a stack.\n",
    "        d (:obj:`dict`): a dictionary with integer values.\n",
    "    \"\"\"\n",
    "\n",
    "    r = 0\n",
    "    while len(s) > 0:\n",
    "        s_item = s.pop()\n",
    "        for i in l:\n",
    "            for k,v in d.items():\n",
    "                r += v + i * s_item\n",
    "\n",
    "    return r"
   ]
  },
  {
   "cell_type": "markdown",
   "metadata": {},
   "source": [
    "**Respuesta:**\n",
    "If our parameters have the same size per example : [3, 1, 2, 4]\n",
    "\n",
    "te = 1 + 4(2 + 4(1 + 3(4)) + 1 = 1 + 4(2 + 52) + 1 = 1 + 8 + 208 + 1 = 218\n",
    "\n",
    "If We analyze the algorithm we haveIf We analize the algorithm  we have : <br>  \n",
    "    initialize r <br> \n",
    "    For each item of S-list<br> \n",
    "        Check s >0<br> \n",
    "        get item.<br> \n",
    "        For each item of L-list<br> \n",
    "            get item s<br> \n",
    "            for each item D-List<br> \n",
    "                get item k<br> \n",
    "                get item v<br> \n",
    "                calculate r<br> \n",
    "        return R<br> \n",
    "\n",
    "\n",
    "\n",
    "We could generalize : \n",
    "\n",
    "$$t(n) = 1+n(2+n(1+3n))+1 = 2+n(2+n+3n^2)=2+2n+n^2+3n^3 $$\n",
    "\n",
    "\n",
    "Then we could conclude that in the worse case the algorithm foo have a running time of :  $$Θ(𝑛^3)$$ \n",
    "\n",
    "And That :\n",
    "$$t(n) =2+2n+n^2+3n^3 ∈ Θ(𝑛^3)$$\n",
    "\n"
   ]
  },
  {
   "cell_type": "markdown",
   "metadata": {},
   "source": [
    "**Ejercicio 1.2 (0.75 puntos):**"
   ]
  },
  {
   "cell_type": "code",
   "execution_count": 2,
   "metadata": {
    "pycharm": {
     "name": "#%%\n"
    }
   },
   "outputs": [],
   "source": [
    "from copy import deepcopy\n",
    "\n",
    "def foo2(l):\n",
    "    \"\"\"\n",
    "    Args:\n",
    "        l (:obj:`list`): a list of integers.\n",
    "    \"\"\"\n",
    "\n",
    "    r = 0\n",
    "\n",
    "    for i in l:\n",
    "        l2 = deepcopy(l)\n",
    "        while len(l2) > 0:\n",
    "            r += i**2\n",
    "            #// : Divide and return the integer\n",
    "            l2 = l2[:len(l2)//2]\n",
    "\n",
    "    return r"
   ]
  },
  {
   "cell_type": "markdown",
   "metadata": {},
   "source": [
    "**Respuesta:**\n",
    "If the parameter L is  per example : [3, 1, 2, 4]\n",
    "\n",
    "te = 1 + 4(1 + 1 + 4(3)) + 1 = 1 + 4(2 + 12) + 1 = 1 + 8 + 48 + 1 = 58\n",
    "\n",
    "If We analyze the algorithm  we have : <br>  \n",
    "    initialize r<br> \n",
    "    For each item of L-list<br> \n",
    "        get item i<br> \n",
    "        initialize l2.<br> \n",
    "        For each item of L2-list<br> \n",
    "            check if the len(l2)>0<br>\n",
    "            calculate r (we could calculate 2 operations,but to make it clearer we reduce to one)  <br> \n",
    "            calculate l2 (we could calculate 3 operations,but to make it clearer we reduce to one) <br> \n",
    "    return R<br> \n",
    "\n",
    "\n",
    "\n",
    "We could generalize : \n",
    "\n",
    "$$t(n) = 1+n(1+1+n(3))+1 = 1+n(1+1+3n)+1=2+2n+3n^2 $$\n",
    "\n",
    "\n",
    "Then we could conclude that in the worse case the algorithm foo2 have a running time of :  $$Θ(𝑛^2)$$ \n",
    "\n",
    "And That :\n",
    "$$t(n) =2+2n+3n^2 ∈ Θ(𝑛^2)$$\n",
    "\n"
   ]
  },
  {
   "cell_type": "code",
   "execution_count": 2,
   "metadata": {},
   "outputs": [],
   "source": [
    "#---------------\n",
    "# El bucle while al ir partiendo en 2 el tamaño de l, hace menos\n",
    "# iteraciones que n, --> log_2(n). Por tanto\n",
    "# al final quedaría O(nlog(n))\n",
    "puntos[\"Ej 1\"] -= 0.5"
   ]
  },
  {
   "cell_type": "markdown",
   "metadata": {},
   "source": [
    "**Ejercicio 1.3 (0.5 puntos):**"
   ]
  },
  {
   "cell_type": "code",
   "execution_count": 3,
   "metadata": {
    "pycharm": {
     "name": "#%%\n"
    }
   },
   "outputs": [],
   "source": [
    "def foo3(n):\n",
    "    \"\"\"\n",
    "    Args:\n",
    "        n (:obj:`int`): an integer value\n",
    "    \"\"\"\n",
    "\n",
    "    r=0\n",
    "    for i in range(abs(n)):\n",
    "        if i < 0:\n",
    "            for j in range(abs(n)):\n",
    "                r += i+j\n",
    "        else:\n",
    "            r += 2*i\n",
    "    return r"
   ]
  },
  {
   "cell_type": "markdown",
   "metadata": {},
   "source": [
    "**Respuesta:**\n",
    "If the parameter n is  per example : 4\n",
    "\n",
    "te = 1 + 4(2 + 4(2)+1) + 1 = 1 + 4(2 + 8 + 1) + 1 = 1 + 8 + 32 + 4 + 1= 46\n",
    "\n",
    "If We analyze the algorithm  we have : <br>  \n",
    "    initialize r<br> \n",
    "    For each item of the range 0 to n (To make it clearer we ignored range and abs) <br>  \n",
    "        get item i  <br>\n",
    "        check if the i<0 <br> \n",
    "            For each item of renga 0 to n (To make it clearer we ignored range and abs <br> \n",
    "                get item j  <br>\n",
    "                calculate r (we could calculate 2 operations,but to make it clearer we reduce to one)  <br> \n",
    "        else i<0<br>\n",
    "            calculate r (we could calculate 2 operations,but to make it clearer we reduce to one)  <br> \n",
    "    return R<br> \n",
    "\n",
    "\n",
    "\n",
    "We could generalize : \n",
    "\n",
    "$$t(n) = 1+n(2+n(2)+1)+1 = 1+n(3+2n)+1=2+3n+2n^2 $$\n",
    "\n",
    "\n",
    "Then we could conclude that in the worse case the algorithm foo3 have a running time of :  $$Θ(𝑛^2)$$ \n",
    "\n",
    "And That :\n",
    "$$t(n) =2+3n+2n^2  ∈ Θ(𝑛^2)$$\n"
   ]
  },
  {
   "cell_type": "code",
   "execution_count": 3,
   "metadata": {},
   "outputs": [],
   "source": [
    "# --------------------\n",
    "# no entramos nunca en el segundo bucle\n",
    "# por tanto --> O(n)\n",
    "puntos[\"Ej 1\"] -= 0.25"
   ]
  },
  {
   "cell_type": "markdown",
   "metadata": {},
   "source": [
    "## Ejercicio 2\n",
    "\n",
    "En este ejercicio analizaréis un fragmento de código con el objetivo de detectar las ineficiencias y, después, mejorarlo.\n",
    "\n",
    "1. Utilizando las herramientas de *profiling* que hemos visto en el Notebook de teoría, analizad el siguiente fragmento de código ineficiente y encontrad cual es el cuello de botella. Explicad las ineficiencias que habéis detectado, relacionándolas con los resultados obtenidos en el *profiling*.\n",
    "\n",
    "2. Mejorad el código con el objetivo de reducir el tiempo de ejecución.\n",
    "\n",
    "<span style=\"font-family: Courier New; background-color: #82b74b; color: #000000; padding: 3px; \">NM</span> **(2 puntos)**\n",
    "\n"
   ]
  },
  {
   "cell_type": "code",
   "execution_count": 7,
   "metadata": {},
   "outputs": [],
   "source": [
    "%load_ext line_profiler"
   ]
  },
  {
   "cell_type": "code",
   "execution_count": 9,
   "metadata": {
    "pycharm": {
     "name": "#%%\n"
    }
   },
   "outputs": [],
   "source": [
    "import time\n",
    "\n",
    "def accumulate_list_while(l):\n",
    "    result = 0\n",
    "    while len(l) > 0:\n",
    "        result += l.pop()\n",
    "\n",
    "    return result\n",
    "\n",
    "l = list(range(10000000))\n",
    "%lprun -f accumulate_list_while accumulate_list_while(l)"
   ]
  },
  {
   "cell_type": "markdown",
   "metadata": {},
   "source": [
    "**Respuesta:**\n",
    "\n",
    "If we analyze the algorithm we are going to iterate  10 million to calculate the sum of a list with 10 million of items ordered from 1 to 1 million,  with lprun we can see the total time is 55.826 seconds and the lines that accumulate the maximum of time is the loop :   \n",
    "\n",
    "     5  10000001   27163443.0      2.7     48.7      while len(l) > 0:\n",
    "     6  10000000   28662511.0      2.9     51.3          result += l.pop()\n",
    "\n",
    "To optimize this algorithm we are going to use the Gauss formula  \n",
    "\n",
    "If we observed :\n",
    "\n",
    "1 + 2 + 3 + 4 + … + 98 + 99 + 100\n",
    "\n",
    "We could notified if we  split the numbers into two groups (1 to 50 and 51 to 100), he could add them together vertically to get a sum of 101.\n",
    "\n",
    "1     + 2   + 3   + 4   + 5   + … + 48 + 49 + 50\n",
    "\n",
    "100 + 99 + 98 + 97 + 96 + … + 53 + 52 + 51\n",
    "\n",
    "1 + 100 = 101\n",
    "2 + 99 = 101\n",
    "3 + 98 = 101\n",
    ".\n",
    ".\n",
    ".\n",
    "48 + 53 = 101\n",
    "49 + 52 = 101\n",
    "50 + 51 = 101\n",
    "\n",
    "Then we could think  then that the final total is :  50(101) = 5050.\n",
    "and this the Gauss formule :\n",
    "n / 2 * (firs_item + last_item)\n",
    "\n",
    "\n",
    "With lprum we can see that the alforithm with Gauss have a total time of  1e-05 secons,  so we had optimize correctly , and the line that acumulate the maximum of time is :\n",
    "\n",
    "5         1          6.0      6.0     60.0      return (len_list / 2) * (l[0]+l[len_list-1])\n",
    "\n",
    "In conclusion every formule that avoid loops in our algorith is the best way to optimize it   \n"
   ]
  },
  {
   "cell_type": "code",
   "execution_count": 31,
   "metadata": {
    "pycharm": {
     "name": "#%%\n"
    }
   },
   "outputs": [],
   "source": [
    "# Respuesta\n",
    "def accumulate_list_gauss(l):\n",
    "    #Gauss formule\n",
    "    len_list = len(l)\n",
    "    return (len_list / 2) * (l[0]+l[len_list-1])\n",
    "                          \n",
    "l = list(range(1000000))\n",
    "%lprun -f accumulate_list_gauss accumulate_list_gauss(l)\n"
   ]
  },
  {
   "cell_type": "code",
   "execution_count": 4,
   "metadata": {},
   "outputs": [],
   "source": [
    "# ----------------------------------\n",
    "# comment: \n",
    "# Está muy bien pensado, pero en realidad no es la misma\n",
    "# función. Solo son iguales si la lista es una serie de números\n",
    "# en orden creciente de 1 en 1.\n",
    "puntos[\"Ej 2\"] -= 0.1"
   ]
  },
  {
   "cell_type": "markdown",
   "metadata": {},
   "source": [
    "## Ejercicio 3\n",
    "\n",
    "En este ejercicio analizaréis un fragmento de código con el objetivo de detectar las ineficiencias y, después, mejorarlo.\n",
    "\n",
    "1. Utilizando las herramientas de *profiling* que hemos visto en el Notebook de teoría, analizad el siguiente fragmento de código ineficiente y encontrad cual es el cuello de botella. Explicad las ineficiencias que habéis detectado, relacionándolas con los resultados obtenidos en el *profiling*.\n",
    "\n",
    "2. Mejorad el código con el objetivo de reducir el tiempo de ejecución.\n",
    "\n",
    "<span style=\"font-family: Courier New; background-color: #82b74b; color: #000000; padding: 3px; \">NM</span> **(2 puntos)**"
   ]
  },
  {
   "cell_type": "code",
   "execution_count": 6,
   "metadata": {},
   "outputs": [],
   "source": [
    "#Load the extension\n",
    "import numpy as np\n",
    "import time\n",
    "%load_ext line_profiler"
   ]
  },
  {
   "cell_type": "code",
   "execution_count": 7,
   "metadata": {
    "pycharm": {
     "name": "#%%\n"
    }
   },
   "outputs": [],
   "source": [
    "from random import randint\n",
    "\n",
    "def add_max_random_list(iters, n):\n",
    "    l = [0]\n",
    "    for i in range(iters):\n",
    "        r = randint(0, n)\n",
    "        max_l = max(l)\n",
    "        if r > max_l:\n",
    "            l.append(r)\n",
    "        else:\n",
    "            l.append(max_l + 1)\n",
    "    return l\n",
    "\n"
   ]
  },
  {
   "cell_type": "code",
   "execution_count": 9,
   "metadata": {},
   "outputs": [
    {
     "name": "stdout",
     "output_type": "stream",
     "text": [
      "*** KeyboardInterrupt exception caught in code being profiled."
     ]
    }
   ],
   "source": [
    "%lprun -f add_max_random_list  add_max_random_list(1000000,50)"
   ]
  },
  {
   "cell_type": "markdown",
   "metadata": {},
   "source": [
    "### Respuesta\n",
    "\n",
    "If we analize the algorithmwe we are going to iterate  1 million to calculate the firts aleatory(0 to 50) numbers increasingly and the next 999950 we are goint add 1 .  the initial conclusion is that we could reduce this 999950 iterations . We interrupt the proceess because is too long  in the 10% approximately and with lprum we can see the total time is 531.965 s and the lines that acumulate the maximum of time is the loop :  \n",
    "\n",
    "    11    105049     333553.0      3.2      0.1      for i in range(iters):\n",
    "    12                                                   #Initialize r with a random integer betwee 0 to n \n",
    "    13    105049    5384450.0     51.3      1.0          r = randint(0, n)\n",
    "    14                                                   #Initialize max_l with the max number of l list\n",
    "    15    105049  525057763.0   4998.2     98.7          max_l = max(l)\n",
    "    16                                                   \n",
    "    17                                                   #If r is greater than max_l then add to l list\n",
    "    18    105048     619817.0      5.9      0.1          if r > max_l:\n",
    "    19         3          7.0      2.3      0.0              l.append(r)\n",
    "    20                                                   else:\n",
    "    21                                                       #If not add the max_l plus 1 (this is why we don't need the loop)\n",
    "    22    105045     569264.0      5.4      0.1              l.append(max_l + 1)\n",
    "    23                                               return l\n",
    "\n",
    "To optimize this  algorithm we are going to focus in reducing this 999950 iterations, We can change to iterate 1 million to iterate the first 50 numbers or for the first 50 until we arrive at the number 50. \n",
    "\n",
    "With lprun  we can see that the new algorithm with focus in reduce the 999950 iterations  have a total time of  0.219972 seconds so we have  optimized correctly, and the line that accumulate the maximum of time is :\n",
    "\n",
    " 37         1     189649.0 189649.0     86.2      l_aux= list(range(max_l+1,iters+max_l-i)\n",
    " \n",
    "In conclusion every improvement focus in avoiding loops  is the best way to optimize it"
   ]
  },
  {
   "cell_type": "code",
   "execution_count": 34,
   "metadata": {
    "pycharm": {
     "name": "#%%\n"
    }
   },
   "outputs": [],
   "source": [
    "# Respuesta\n",
    "from random import randint\n",
    "#Load the extension\n",
    "\n",
    "def add_max_random_list(iters, n):\n",
    "    #Is extrain the obtetive of this function ... but we are goin to optimize\n",
    "    \n",
    "    #Initialize l\n",
    "    l = [0]\n",
    "    #loop through from 0 to iters  ( We don't need this loop)\n",
    "    for i in range(iters):\n",
    "        #Initialize r with a random integer betwee 0 to n \n",
    "        r = randint(0, n)\n",
    "        #Initialize max_l with the max number of l list\n",
    "        max_l = max(l)\n",
    "        \n",
    "        #If r is greater than max_l then add to l list\n",
    "        if r > max_l:\n",
    "            l.append(r)\n",
    "        else:\n",
    "            #If not add the max_l plus 1 (this is why we don't need the loop)\n",
    "            l.append(max_l + 1)\n",
    "    return l\n",
    "\n",
    "def add_max_random_list_optimize_1(iters, n):\n",
    "    l = [0]\n",
    "    i = 0\n",
    "    while (max(l) < n):\n",
    "        i += 1\n",
    "        r = randint(0, n)\n",
    "        max_l = max(l)\n",
    "        if r > max_l:\n",
    "            l.append(r)\n",
    "        else:\n",
    "            l.append(max_l + 1)\n",
    "        max_l = max(l)    \n",
    "    l_aux= list(range(max_l+1,iters+max_l-i))\n",
    "    l = l + l_aux\n",
    " \n",
    "    return l\n",
    "%lprun -f add_max_random_list_optimize_1  add_max_random_list_optimize_1(1000000,50)"
   ]
  },
  {
   "cell_type": "markdown",
   "metadata": {},
   "source": [
    "## Ejercicio 4\n",
    "\n",
    "En una oferta de trabajo de analista de datos para la empresa Uber se nos pide analizar la distribución del uso de su servicio en la ciudad de New York. Para hacerlo, nos han proporcionado un conjunto de datos relativamente grande con datos diarios del uso de sus servicios entre los meses de abril y septiembre del 2014.\n",
    "\n",
    "Se nos pide que encontremos el recuento total de personas que han utilizado sus servicios agrupados por día de la semana, y que mostremos el resultado gráficamente utilizando un diagrama de barras donde en el eje `x` represente el día de la semana, y en el eje `y` represente el valor total de personas que han utilizado el servicio. Podéis encontrar los datos a analizar en el directorio `data`.\n",
    "\n",
    "1. Implementad una solución secuencial al problema planteado por el enunciado.\n",
    "2. Justificad si podéis reducir el tiempo de ejecución utilizando o bien múltiples *threads* o bien múltiples procesos.\n",
    "3. Implementad una solución multiproceso o *multithreaded* que reduzca el tiempo de ejecución (respecto a la solución secuencial).\n",
    "\n",
    "Podéis encontrar los datos originales [aquí](https://github.com/fivethirtyeight/uber-tlc-foil-response/tree/master/uber-trip-data).\n",
    "\n",
    "<span style=\"font-family: Courier New; background-color: #82b74b; color: #000000; padding: 3px; \">NM</span> **(4 puntos)**"
   ]
  },
  {
   "cell_type": "code",
   "execution_count": 44,
   "metadata": {},
   "outputs": [
    {
     "name": "stdout",
     "output_type": "stream",
     "text": [
      "['data/uber-raw-data-apr14.csv', 'data/uber-raw-data-aug14.csv', 'data/uber-raw-data-sep14.csv', 'data/uber-raw-data-jul14.csv', 'data/uber-raw-data-jun14.csv', 'data/uber-raw-data-may14.csv']\n",
      "hola\n"
     ]
    },
    {
     "data": {
      "image/png": "[encoded data removed]",
      "text/plain": [
       "<Figure size 432x288 with 1 Axes>"
      ]
     },
     "metadata": {
      "needs_background": "light"
     },
     "output_type": "display_data"
    }
   ],
   "source": [
    "# Respuesta\n",
    "import pandas as pd\n",
    "import glob\n",
    "import seaborn \n",
    "\n",
    "def show_plot():\n",
    "    # We read all csv\n",
    "    all_files = glob.glob(\"data\" + \"/*.csv\")\n",
    "    print(all_files)\n",
    "\n",
    "    # We create a list of data frame\n",
    "    li = []\n",
    "    for filename in all_files:\n",
    "        #Read the csv and appen to the df list\n",
    "        df = pd.read_csv(filename, index_col=None, header=0, nrows=1000000)\n",
    "        df['Date/Time'] = pd.to_datetime(df['Date/Time'],format= '%m/%d/%Y %H:%M:%S')\n",
    "        li.append(df)\n",
    "\n",
    "    #We concact the dataframe\n",
    "    total_df = pd.concat(li, axis=0, ignore_index=True)\n",
    "    days = ['Monday','Tuesday','Wednesday','Thursday','Friday','Saturday', 'Sunday']\n",
    "    print(\"hola\")\n",
    "    total_df.groupby(total_df['Date/Time'].dt.weekday_name).count().reindex(days).plot(kind=\"bar\", legend=False)\n",
    "    \n",
    "%lprun -f show_plot  show_plot()"
   ]
  },
  {
   "cell_type": "markdown",
   "metadata": {},
   "source": [
    "**Respuesta:**\n",
    "We could identify that the lines inside our \"FOR\" consume approximately 80% of the total time, these instructions basically read the csv and convert the DateTime string column to DateTime, since we have two CPUs, we are going to execute in multiprocessing for this task we will create multiple instances of these lines. The reason why we choose multiprocessing on these lines is that there is no dependency on the above results and it does not need any specific order in its execution, in other words, we have individual files to process and they are independent of each other.but something that we need to be careful is that the results are saved in a list and this list needs to be common between our process.\n",
    "Outcomes : \n",
    "We have tested with 100000 rows in the first algorithm and :  we have a time of 72 seconds in the first algorithm and in the second algorithm with multiprocessing, we have 48 seconds.so  we had reduce the time approximately  over 40% \n"
   ]
  },
  {
   "cell_type": "code",
   "execution_count": 47,
   "metadata": {},
   "outputs": [
    {
     "name": "stdout",
     "output_type": "stream",
     "text": [
      "['data/uber-raw-data-apr14.csv', 'data/uber-raw-data-aug14.csv', 'data/uber-raw-data-sep14.csv', 'data/uber-raw-data-jul14.csv', 'data/uber-raw-data-jun14.csv', 'data/uber-raw-data-may14.csv']\n",
      "[P0]\tStarted\n",
      "[P0]\tStarting on data/uber-raw-data-apr14.csv\n",
      "[P1]\tStarted\n",
      "[P2]\tStarted\n",
      "[P2]\tStarting on data/uber-raw-data-sep14.csv\n",
      "[P1]\tStarting on data/uber-raw-data-aug14.csv\n",
      "[P3]\tStarted\n",
      "[P4]\tStarted\n",
      "[P3]\tStarting on data/uber-raw-data-jul14.csv\n",
      "[P4]\tStarting on data/uber-raw-data-jun14.csv\n",
      "[P5]\tStarted\n",
      "[P5]\tStarting on data/uber-raw-data-may14.csv\n",
      "[M]\tWaiting to join processes\n",
      "[P0]\tFinishing\n",
      "[P0]\tProcess finish\n",
      "[P5]\tFinishing\n",
      "[P5]\tProcess finish\n",
      "[P4]\tFinishing\n",
      "[P4]\tProcess finish\n",
      "[P3]\tFinishing\n",
      "[P3]\tProcess finish\n",
      "[P1]\tFinishing\n",
      "[P1]\tProcess finish\n",
      "[P2]\tFinishing\n",
      "[P2]\tProcess finish\n",
      "[M]\tProcesses joined!\n"
     ]
    },
    {
     "data": {
      "image/png": "[encoded data removed]",
      "text/plain": [
       "<Figure size 432x288 with 1 Axes>"
      ]
     },
     "metadata": {
      "needs_background": "light"
     },
     "output_type": "display_data"
    }
   ],
   "source": [
    "# Respuesta\n",
    "import pandas as pd\n",
    "import glob\n",
    "import seaborn \n",
    "from multiprocessing import JoinableQueue, Queue\n",
    "from copy import deepcopy\n",
    "from multiprocessing import Process\n",
    "import logging\n",
    "\n",
    "def import_csv(filename):\n",
    "    #We read the usv and convert to date time\n",
    "    df = pd.read_csv(filename, index_col=None, header=0, nrows=1000000)\n",
    "    df['Date/Time'] = pd.to_datetime(df['Date/Time'],format= '%m/%d/%Y %H:%M:%S')\n",
    "    return df\n",
    "\n",
    "\n",
    "def read_csv(p_index, files_to_read_q, results_q):\n",
    "    \"\"\"\n",
    "    Get the task (file to process) from files_to_read_q, made the task and save the results in results_q \n",
    "    \"\"\"\n",
    "    print(\"[P{}]\\tStarted\".format(p_index))\n",
    "\n",
    "    # Get the first task\n",
    "    file_to_read = files_to_read_q.get()\n",
    "    \n",
    "    #While we have task pending , we are going to made \n",
    "    while file_to_read:\n",
    "       \n",
    "        print(\"[P{}]\\tStarting on {}\".format(p_index, file_to_read))\n",
    "        r = import_csv(file_to_read)\n",
    "     \n",
    "        # We save the results in the queue\n",
    "        results_q.put(r)\n",
    "     \n",
    "        # We indicate the this task is done\n",
    "        files_to_read_q.task_done()\n",
    "        \n",
    "        # We get the next task\n",
    "        file_to_read = files_to_read_q.get()\n",
    "\n",
    "    print(\"[P{}]\\tFinishing\".format(p_index))\n",
    "    #We indicate that the process is done\n",
    "    files_to_read_q.task_done()\n",
    "    print(\"[P{}]\\tProcess finish\".format(p_index))\n",
    "\n",
    "\n",
    "def uber_list_multiproc( files_to_read, num_processes):\n",
    "    \"\"\"\n",
    "    Read all csv using multiprocesing \n",
    "    \"\"\"\n",
    "    # We create the q_result\n",
    "    results_q = Queue()\n",
    "    \n",
    "    # We create the task  queue \n",
    "    files_to_read_q = JoinableQueue()\n",
    "\n",
    "    # We add the files to read to the queue\n",
    "    for num in files_to_read:\n",
    "        files_to_read_q.put(num)\n",
    "\n",
    "    #We add final process flag to each process  \n",
    "    for _ in range(num_processes):\n",
    "        files_to_read_q.put(None)\n",
    "\n",
    "    #Initialize the process with the task , we pass the queue as a parameter\n",
    "    for i in range(num_processes):\n",
    "        process = Process(target=read_csv, args=(i, files_to_read_q, results_q))\n",
    "        process.start()\n",
    "\n",
    "    \n",
    "    # We waiting to all task are finished \n",
    "    print(\"[M]\\tWaiting to join processes\")\n",
    "    files_to_read_q.join()\n",
    "    print(\"[M]\\tProcesses joined!\")\n",
    "    list_aux = []\n",
    "    while not results_q.empty():\n",
    "        e = results_q.get()\n",
    "        list_aux.append(e)\n",
    "    return list_aux\n",
    "\n",
    "  \n",
    "        \n",
    "def show_plot2():\n",
    "     # We create a list of data frame\n",
    "    li = []\n",
    "\n",
    "    # We read all csv\n",
    "    all_files = glob.glob(\"data\" + \"/*.csv\")\n",
    "    print(all_files)\n",
    "    li=uber_list_multiproc(all_files, 6)\n",
    "\n",
    "   \n",
    "    #We concact the dataframe\n",
    "    total_df = pd.concat(li, axis=0, ignore_index=True)\n",
    "    days = ['Monday','Tuesday','Wednesday','Thursday','Friday','Saturday', 'Sunday']\n",
    "    total_df.groupby(total_df['Date/Time'].dt.weekday).count().reindex(days).plot(kind=\"bar\", legend=False)\n",
    "\n",
    "show_plot2()"
   ]
  },
  {
   "cell_type": "code",
   "execution_count": 5,
   "metadata": {},
   "outputs": [
    {
     "name": "stdout",
     "output_type": "stream",
     "text": [
      "Jorge Oliva Ramos\n",
      "puntuación total 9.15 sobre 10 \n"
     ]
    }
   ],
   "source": [
    "grades.save(puntos, id) "
   ]
  },
  {
   "cell_type": "code",
   "execution_count": null,
   "metadata": {},
   "outputs": [],
   "source": []
  }
 ],
 "metadata": {
  "kernelspec": {
   "display_name": "Python 3",
   "language": "python",
   "name": "python3"
  },
  "language_info": {
   "codemirror_mode": {
    "name": "ipython",
    "version": 3
   },
   "file_extension": ".py",
   "mimetype": "text/x-python",
   "name": "python",
   "nbconvert_exporter": "python",
   "pygments_lexer": "ipython3",
   "version": "3.8.3"
  }
 },
 "nbformat": 4,
 "nbformat_minor": 2
}
