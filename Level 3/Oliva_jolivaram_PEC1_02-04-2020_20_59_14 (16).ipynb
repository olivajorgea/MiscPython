{
 "cells": [
  {
   "cell_type": "markdown",
   "metadata": {},
   "source": [
    "<div style=\"width: 100%; clear: both;\">\n",
    "    <div style=\"float: left; width: 50%;\">\n",
    "       <img src=\"http://www.uoc.edu/portal/_resources/common/imatges/marca_UOC/UOC_Masterbrand.jpg\", align=\"left\">\n",
    "    </div>\n",
    "</div>\n",
    "\n",
    "<div style=\"float: right; width: 50%;\">\n",
    "    <p style=\"margin: 0; padding-top: 22px; text-align:right;\">22.503 · Programación para la ciencia de datos</p>\n",
    "    <p style=\"margin: 0; text-align:right;\">Grado de Ciencia de Datos Aplicada</p>\n",
    "    <p style=\"margin: 0; text-align:right; padding-button: 100px;\">Estudios de Informática, Multimedia y Telecomunicación</p>\n",
    "</div>\n",
    "\n",
    "</div>\n",
    "<div style=\"width: 100%; clear: both;\">\n",
    "<div style=\"width:100%;\">&nbsp;</div>"
   ]
  },
  {
   "cell_type": "markdown",
   "metadata": {},
   "source": [
    "Programación para la ciencia de datos - PEC1\n",
    "============================\n",
    "\n",
    "En este Notebook encontraréis un conjunto de ejercicios que suponen la primera prueba de evaluación continua (PEC) de la asignatura.\n",
    "\n",
    "Para cada ejercicio, tened en cuenta que:\n",
    "* **Es necesario incluir comentarios** de vuestro código que expliquen como habéis implementado la solución del problema planteado.\n",
    "* **Es imprescindible** citar las referencias que habéis consultado para realizar la actividad.\n",
    "* Se valorará que el código proporcionado solucione el problema propuesto así como su calidad (comentarios, legibilidad, claridad, uso de las estructuras de datos adecuadas, buena nomenclatura de las variables y funciones, seguimiento del PEP8, etc.).\n",
    "\n",
    "Veréis que cada una de las actividades tiene asociada una puntuación que indica el peso que tiene la actividad sobre la nota de la PEC.\n",
    "\n",
    "Además, veréis que todas las actividades tienen una etiqueta que indica los recursos necesarios para llevarla a cabo. Hay tres posibles etiquetas:\n",
    "\n",
    "* <span style=\"font-family: Courier New; background-color: #82b74b; color: #000000; padding: 3px; \">SM</span> **Solo materiales**: las herramientas necesarias para realizar la actividad se pueden encontrar en los materiales de la asignatura (consideraremos también los materiales de la asignatura Fundamentos de Programación, así como las lecturas obligatorias de material externo que se indiquen en los notebooks).\n",
    "\n",
    "* <span style=\"font-family: Courier New; background-color: #ffcc5c; color: #000000; padding: 3px; \">EG</span> **Consulta externa guiada**: la actividad puede requerir el uso de herramientas que no se encuentren en los materiales de la asignatura, pero el enunciado contiene indicaciones de dónde o cómo encontrar la información adicional necesaria para resolver la actividad.\n",
    "\n",
    "* <span style=\"font-family: Courier New; background-color: #f2ae72; color: #000000; padding: 3px; \">EI</span> **Consulta externa independiente**: la actividad puede requerir el uso de herramientas que no se encuentren en los materiales de la asignatura, y el enunciado puede no incluir la descripción de dónde o cómo encontrar esta información adicional. Será necesario que el estudiante busque esta información usando los recursos explicados en la asignatura.\n",
    "\n",
    "Es importante notar que estas etiquetas no indican el nivel de dificultad del ejercicio, sino únicamente la necesidad de consulta de documentación externa para su resolución. Además, recordad que las **etiquetas son informativas**, pero podréis consultar referencias externas siempre que queráis (aunque no se indique explícitamente) o puede que podáis hacer una actividad sin consultar ningún tipo de documentación. Por ejemplo, para resolver una actividad que solo requiera los materiales de la asignatura, podéis consultar referencias externas si queréis, ¡ya sea tanto para ayudaros en su resolución como para ampliar conocimiento! \n",
    "\n",
    "\n",
    "---"
   ]
  },
  {
   "cell_type": "code",
   "execution_count": 1,
   "metadata": {},
   "outputs": [],
   "source": [
    "puntos = 10  # iniciales"
   ]
  },
  {
   "cell_type": "code",
   "execution_count": 2,
   "metadata": {},
   "outputs": [],
   "source": [
    "#%load_ext pycodestyle_magic"
   ]
  },
  {
   "cell_type": "code",
   "execution_count": 3,
   "metadata": {},
   "outputs": [],
   "source": [
    "# Activamos las alertas de estilo\n",
    "#%pycodestyle_on"
   ]
  },
  {
   "cell_type": "markdown",
   "metadata": {},
   "source": [
    "## Ejercicio 1\n",
    "\n",
    "Durante los últimos 3 años hemos ido acumulando libros de temáticas distintas que no hemos tenido tiempo de leer. Como propósito de año nuevo nos hemos propuesto ponerle solución y, como primer paso, hemos decidido crear una **pila** con los libros, ordenados según el orden en el que nos proponemos leerlos.\n",
    "\n",
    "En una primera fase hemos separado los libros por temáticas en cuatro **pilas**: Ciencia ficción (sci_fi), Fantasía (fantasy), Novela negra (crime_fiction) y cómics (comics).\n",
    "\n",
    "Ahora, queremos crear una única **pila** con el orden que utilizaremos para leer los libros siguiendo el siguiente criterio:\n",
    "\n",
    "1. No queremos leer dos libros de la misma temática seguidos (si se puede evitar).\n",
    "2. Queremos ir leyendo los libros en el siguiente orden de temáticas: sci_fi, crime_fiction, fantasy, y comics.\n",
    "3. ¡Los cómics son una excepción a la primera regla! Si hay más de uno, leeremos dos seguidos.\n",
    "4. Queremos mantener el orden relativo de los libros de cada una de las 4 pilas temáticas. Es decir, si un libro está sobre otro en la pila de ciencia ficción, tendrá que seguir estándolo en la pila final.\n",
    "\n",
    "<span style=\"font-family: Courier New; background-color: #82b74b; color: #000000; padding: 3px; \">SM</span> **(1 punto)**"
   ]
  },
  {
   "cell_type": "code",
   "execution_count": 4,
   "metadata": {},
   "outputs": [],
   "source": [
    "# Las siguientes variables muestran el contenido de las 4 pilas temáticas de\n",
    "# libros\n",
    "sci_fi = [\"Dune\", \"Fahrenheit 451\", \"Ender's Game\", \"Hyperion\",\n",
    "          \"The Foundation Vol.3\", \"The Foundation Vol.2\",\n",
    "          \"The Foundation Vol.1\", \"1984\"]\n",
    "crime_fiction = [\"Murder on the Orient Express\", \"The Cartel\",\n",
    "                 \"The Girl with the Dragon Tattoo\", \"The Cuckoo's Calling\",\n",
    "                 \"The Godfather\"]\n",
    "fantasy = [\"The Wise Man's Fear\", \"A Clash of Kings\",\n",
    "           \"Malazan Book of the Fallen\", \"The Name of the Wind\",\n",
    "           \"Lord of the Rings\", \"A Game of Thrones\"]\n",
    "comics = [\"The Avengers vol. 3\", \"Spiderman vol. 16\", \"Ghost Rider vol. 2\",\n",
    "          \"Spiderman vol. 15\", \"John Constantine vol. 5\", \"Batman vol. 13\",\n",
    "          \"Green Arrow vol. 1\"]"
   ]
  },
  {
   "cell_type": "code",
   "execution_count": 5,
   "metadata": {
    "scrolled": true
   },
   "outputs": [
    {
     "name": "stdout",
     "output_type": "stream",
     "text": [
      "Initial stack:\n",
      "20\n",
      "|            |\n",
      "|____________|\n",
      "\n",
      "\n",
      "26\n",
      "Stack after adding 1 element:\n",
      "35\n",
      "|                                     |\n",
      "| 1984                                |\n",
      "| The Godfather                       |\n",
      "| A Game of Thrones                   |\n",
      "| Green Arrow vol. 1                  |\n",
      "| Batman vol. 13                      |\n",
      "| The Foundation Vol.1                |\n",
      "| The Cuckoo's Calling                |\n",
      "| Lord of the Rings                   |\n",
      "| John Constantine vol. 5             |\n",
      "| Spiderman vol. 15                   |\n",
      "| The Foundation Vol.2                |\n",
      "| The Girl with the Dragon Tattoo     |\n",
      "| The Name of the Wind                |\n",
      "| Ghost Rider vol. 2                  |\n",
      "| Spiderman vol. 16                   |\n",
      "| The Foundation Vol.3                |\n",
      "| The Cartel                          |\n",
      "| Malazan Book of the Fallen          |\n",
      "| The Avengers vol. 3                 |\n",
      "| Hyperion                            |\n",
      "| Murder on the Orient Express        |\n",
      "| A Clash of Kings                    |\n",
      "| Ender's Game                        |\n",
      "| The Wise Man's Fear                 |\n",
      "| Fahrenheit 451                      |\n",
      "| Dune                                |\n",
      "|_____________________________________|\n",
      "\n",
      "\n"
     ]
    }
   ],
   "source": [
    "# Respuesta\n",
    "def print_stack(s, msg_bef=None, msg_after=None):\n",
    "    # Definimos la función auxiliar print_stack, que nos permitirá\n",
    "    # visualizar una pila\n",
    "    if msg_bef:\n",
    "        print(msg_bef)\n",
    "\n",
    "    if len(s) == 0:\n",
    "        max_len = 10\n",
    "        print(max_len *2)\n",
    "    else:\n",
    "        max_len = max([len(e) for e in s]) + 4\n",
    "        print (max_len)\n",
    "    print(\"|\" + \" \"*(max_len+2) + \"|\")\n",
    "    for e in s[::-1]:\n",
    "        print(\"| \" + e + \" \"*(max_len-len(e)) + \" |\")\n",
    "    print(\"|\" + \"_\"*(max_len+2) + \"|\")\n",
    "\n",
    "    print(msg_after+\"\\n\" if msg_after else \"\\n\")\n",
    "\n",
    "# We initilize the stack \n",
    "stack = []\n",
    "print_stack(stack, \"Initial stack:\")\n",
    "\n",
    "max_book = len(sci_fi)+len (crime_fiction)+len(fantasy)+len(comics)\n",
    "print(max_book)\n",
    "while len(stack) < max_book:\n",
    "    if len(sci_fi)>0: \n",
    "        e=sci_fi.pop()\n",
    "        stack.append(format(e))\n",
    "    if len(crime_fiction)>0:\n",
    "        e=crime_fiction.pop()\n",
    "        stack.append(format(e))\n",
    "    if len(fantasy)>0:\n",
    "        e=fantasy.pop()\n",
    "        stack.append(format(e))\n",
    "    if len(comics)>2:\n",
    "        e=comics.pop()\n",
    "        stack.append(format(e))\n",
    "        e=comics.pop()\n",
    "        stack.append(format(e))\n",
    "    elif len(comics)>0:\n",
    "        e=comics.pop()\n",
    "        stack.append(format(e))\n",
    "stack.reverse()    \n",
    "print_stack(stack, \"Stack after adding 1 element:\")"
   ]
  },
  {
   "cell_type": "markdown",
   "metadata": {},
   "source": [
    "## Ejercicio 2\n",
    "\n",
    "Utilizando **list comprehensions**, cread:\n",
    "1. Una lista, partiendo de la pila de libros resultante del ejercicio anterior, con los libros que tienen más de un espacio en su nombre.\n",
    "2. Una lista con los libros que tienen un número en su nombre. **Pista: recordad que podéis usar expresiones regulares**.\n",
    "\n",
    "Utilizando **list slicing**, cread:\n",
    "3. Una lista con los 4 primeros elementos de la lista que habéis obtenido en el punto 1.\n",
    "4. Una lista con los elementos en posiciones senares (1, 3, 5, etc.) de la lista que habéis obtenido en el punto 1.\n",
    "\n",
    "<span style=\"font-family: Courier New; background-color: #82b74b; color: #000000; padding: 3px; \">SM</span> **(1 punto)**"
   ]
  },
  {
   "cell_type": "code",
   "execution_count": 6,
   "metadata": {},
   "outputs": [
    {
     "name": "stdout",
     "output_type": "stream",
     "text": [
      "My initial list has 26 books and my final list has 19 books\n",
      "\n",
      "[\"The Wise Man's Fear\", 'A Clash of Kings', 'Murder on the Orient Express', 'The Avengers vol. 3', 'Malazan Book of the Fallen', 'The Foundation Vol.3', 'Spiderman vol. 16', 'Ghost Rider vol. 2', 'The Name of the Wind', 'The Girl with the Dragon Tattoo', 'The Foundation Vol.2', 'Spiderman vol. 15', 'John Constantine vol. 5', 'Lord of the Rings', \"The Cuckoo's Calling\", 'The Foundation Vol.1', 'Batman vol. 13', 'Green Arrow vol. 1', 'A Game of Thrones']\n"
     ]
    }
   ],
   "source": [
    "# Respuesta 2.1\n",
    "# We create a list comprenhesion with the books with more thant 1 space in their  titles  (n.count(\" \") > 1)\n",
    "book_with_spaces_names = [n for n in stack if n.count(\" \") > 1]\n",
    "print(\"My initial list has {} books and my final list has {} books\\n\".\n",
    "      format(len(stack), len(book_with_spaces_names)))\n",
    "print(book_with_spaces_names)\n"
   ]
  },
  {
   "cell_type": "code",
   "execution_count": 7,
   "metadata": {},
   "outputs": [
    {
     "name": "stdout",
     "output_type": "stream",
     "text": [
      "My initial list has 26 books and my final list has 12 books\n",
      "\n",
      "['Fahrenheit 451', 'The Avengers vol. 3', 'The Foundation Vol.3', 'Spiderman vol. 16', 'Ghost Rider vol. 2', 'The Foundation Vol.2', 'Spiderman vol. 15', 'John Constantine vol. 5', 'The Foundation Vol.1', 'Batman vol. 13', 'Green Arrow vol. 1', '1984']\n"
     ]
    }
   ],
   "source": [
    "# Respuesta 2.2\n",
    "# We import the library for regular expressions \n",
    "import re\n",
    "re.search(\"\\d\", stack[0])\n",
    "\n",
    "# We create a list comprenhesion with the books with one number in their  titles  (re.search(\"\\d\", n))\n",
    "book_with_number = [n for n in stack if re.search(\"\\d\", n)]\n",
    "print(\"My initial list has {} books and my final list has {} books\\n\".\n",
    "      format(len(stack), len(book_with_number)))\n",
    "\n",
    "print(book_with_number)"
   ]
  },
  {
   "cell_type": "code",
   "execution_count": 8,
   "metadata": {},
   "outputs": [
    {
     "name": "stdout",
     "output_type": "stream",
     "text": [
      "[\"The Wise Man's Fear\", 'A Clash of Kings', 'Murder on the Orient Express', 'The Avengers vol. 3']\n"
     ]
    }
   ],
   "source": [
    "# Respuesta 2.3\n",
    "#We get the first 4 items\n",
    "first_4 = book_with_spaces_names[:4]\n",
    "print(first_4)"
   ]
  },
  {
   "cell_type": "code",
   "execution_count": 9,
   "metadata": {},
   "outputs": [
    {
     "name": "stdout",
     "output_type": "stream",
     "text": [
      "19\n",
      "[\"The Wise Man's Fear\", 'Murder on the Orient Express', 'Malazan Book of the Fallen', 'Spiderman vol. 16', 'The Name of the Wind', 'The Foundation Vol.2', 'John Constantine vol. 5', \"The Cuckoo's Calling\", 'Batman vol. 13', 'A Game of Thrones']\n"
     ]
    },
    {
     "data": {
      "text/plain": [
       "10"
      ]
     },
     "execution_count": 9,
     "metadata": {},
     "output_type": "execute_result"
    }
   ],
   "source": [
    "# Respuesta 2.4\n",
    "print (len (book_with_spaces_names))\n",
    "# We get all odd items (the requeriment is odd , but to obtain the odds we need to get the  evens because the index start \n",
    "# in 0 in python)\n",
    "odd_book = book_with_spaces_names[::2]\n",
    "print(odd_book)\n",
    "len(odd_book)\n"
   ]
  },
  {
   "cell_type": "markdown",
   "metadata": {},
   "source": [
    "## Ejercicio 3\n",
    "\n",
    "Los siguientes ejercicios se realizarán utilizando el dataset `earth-meteorite-landings.json` proporcionado junto con la PEC. El dataset original se puede encontrar aquí en la [siguiente URL](https://data.nasa.gov/resource/y77d-th95.json).\n",
    "\n",
    "Cargad el dataset y mostrad las cabeceras por pantalla.\n",
    "\n",
    "**Pista**: recordad que podemos utilizar librerías científicas como podría ser `pandas` para cargar conjuntos de datos de forma sencilla. \n",
    "\n",
    "<span style=\"font-family: Courier New; background-color: #ffcc5c; color: #000000; padding: 3px; \">EG</span> **(1 punto)**"
   ]
  },
  {
   "cell_type": "code",
   "execution_count": 10,
   "metadata": {
    "scrolled": true
   },
   "outputs": [
    {
     "data": {
      "text/html": [
       "<div>\n",
       "<style scoped>\n",
       "    .dataframe tbody tr th:only-of-type {\n",
       "        vertical-align: middle;\n",
       "    }\n",
       "\n",
       "    .dataframe tbody tr th {\n",
       "        vertical-align: top;\n",
       "    }\n",
       "\n",
       "    .dataframe thead th {\n",
       "        text-align: right;\n",
       "    }\n",
       "</style>\n",
       "<table border=\"1\" class=\"dataframe\">\n",
       "  <thead>\n",
       "    <tr style=\"text-align: right;\">\n",
       "      <th></th>\n",
       "      <th>name</th>\n",
       "      <th>id</th>\n",
       "      <th>nametype</th>\n",
       "      <th>recclass</th>\n",
       "      <th>mass</th>\n",
       "      <th>fall</th>\n",
       "      <th>year</th>\n",
       "      <th>reclat</th>\n",
       "      <th>reclong</th>\n",
       "      <th>geolocation</th>\n",
       "      <th>:@computed_region_cbhk_fwbd</th>\n",
       "      <th>:@computed_region_nnqa_25f4</th>\n",
       "    </tr>\n",
       "  </thead>\n",
       "  <tbody>\n",
       "    <tr>\n",
       "      <th>0</th>\n",
       "      <td>Aachen</td>\n",
       "      <td>1</td>\n",
       "      <td>Valid</td>\n",
       "      <td>L5</td>\n",
       "      <td>21.0</td>\n",
       "      <td>Fell</td>\n",
       "      <td>1880-01-01T00:00:00.000</td>\n",
       "      <td>50.77500</td>\n",
       "      <td>6.08333</td>\n",
       "      <td>{'type': 'Point', 'coordinates': [6.08333, 50....</td>\n",
       "      <td>NaN</td>\n",
       "      <td>NaN</td>\n",
       "    </tr>\n",
       "    <tr>\n",
       "      <th>1</th>\n",
       "      <td>Aarhus</td>\n",
       "      <td>2</td>\n",
       "      <td>Valid</td>\n",
       "      <td>H6</td>\n",
       "      <td>720.0</td>\n",
       "      <td>Fell</td>\n",
       "      <td>1951-01-01T00:00:00.000</td>\n",
       "      <td>56.18333</td>\n",
       "      <td>10.23333</td>\n",
       "      <td>{'type': 'Point', 'coordinates': [10.23333, 56...</td>\n",
       "      <td>NaN</td>\n",
       "      <td>NaN</td>\n",
       "    </tr>\n",
       "    <tr>\n",
       "      <th>2</th>\n",
       "      <td>Abee</td>\n",
       "      <td>6</td>\n",
       "      <td>Valid</td>\n",
       "      <td>EH4</td>\n",
       "      <td>107000.0</td>\n",
       "      <td>Fell</td>\n",
       "      <td>1952-01-01T00:00:00.000</td>\n",
       "      <td>54.21667</td>\n",
       "      <td>-113.00000</td>\n",
       "      <td>{'type': 'Point', 'coordinates': [-113, 54.216...</td>\n",
       "      <td>NaN</td>\n",
       "      <td>NaN</td>\n",
       "    </tr>\n",
       "    <tr>\n",
       "      <th>3</th>\n",
       "      <td>Acapulco</td>\n",
       "      <td>10</td>\n",
       "      <td>Valid</td>\n",
       "      <td>Acapulcoite</td>\n",
       "      <td>1914.0</td>\n",
       "      <td>Fell</td>\n",
       "      <td>1976-01-01T00:00:00.000</td>\n",
       "      <td>16.88333</td>\n",
       "      <td>-99.90000</td>\n",
       "      <td>{'type': 'Point', 'coordinates': [-99.9, 16.88...</td>\n",
       "      <td>NaN</td>\n",
       "      <td>NaN</td>\n",
       "    </tr>\n",
       "    <tr>\n",
       "      <th>4</th>\n",
       "      <td>Achiras</td>\n",
       "      <td>370</td>\n",
       "      <td>Valid</td>\n",
       "      <td>L6</td>\n",
       "      <td>780.0</td>\n",
       "      <td>Fell</td>\n",
       "      <td>1902-01-01T00:00:00.000</td>\n",
       "      <td>-33.16667</td>\n",
       "      <td>-64.95000</td>\n",
       "      <td>{'type': 'Point', 'coordinates': [-64.95, -33....</td>\n",
       "      <td>NaN</td>\n",
       "      <td>NaN</td>\n",
       "    </tr>\n",
       "  </tbody>\n",
       "</table>\n",
       "</div>"
      ],
      "text/plain": [
       "       name   id nametype     recclass      mass  fall  \\\n",
       "0    Aachen    1    Valid           L5      21.0  Fell   \n",
       "1    Aarhus    2    Valid           H6     720.0  Fell   \n",
       "2      Abee    6    Valid          EH4  107000.0  Fell   \n",
       "3  Acapulco   10    Valid  Acapulcoite    1914.0  Fell   \n",
       "4   Achiras  370    Valid           L6     780.0  Fell   \n",
       "\n",
       "                      year    reclat    reclong  \\\n",
       "0  1880-01-01T00:00:00.000  50.77500    6.08333   \n",
       "1  1951-01-01T00:00:00.000  56.18333   10.23333   \n",
       "2  1952-01-01T00:00:00.000  54.21667 -113.00000   \n",
       "3  1976-01-01T00:00:00.000  16.88333  -99.90000   \n",
       "4  1902-01-01T00:00:00.000 -33.16667  -64.95000   \n",
       "\n",
       "                                         geolocation  \\\n",
       "0  {'type': 'Point', 'coordinates': [6.08333, 50....   \n",
       "1  {'type': 'Point', 'coordinates': [10.23333, 56...   \n",
       "2  {'type': 'Point', 'coordinates': [-113, 54.216...   \n",
       "3  {'type': 'Point', 'coordinates': [-99.9, 16.88...   \n",
       "4  {'type': 'Point', 'coordinates': [-64.95, -33....   \n",
       "\n",
       "   :@computed_region_cbhk_fwbd  :@computed_region_nnqa_25f4  \n",
       "0                          NaN                          NaN  \n",
       "1                          NaN                          NaN  \n",
       "2                          NaN                          NaN  \n",
       "3                          NaN                          NaN  \n",
       "4                          NaN                          NaN  "
      ]
     },
     "execution_count": 10,
     "metadata": {},
     "output_type": "execute_result"
    }
   ],
   "source": [
    "# Respuesta\n",
    "# We import pandas library\n",
    "import pandas as pd\n",
    "\n",
    "# Load the data and show the head\n",
    "df_meteorite = pd.read_json(\"data/earth-meteorite-landings.json\")\n",
    "df_meteorite.head()\n",
    "# ----------------\n",
    "# COMMENT: .head() stands for head and not header. \n",
    "# This means that shows the head of the dataframe and not only the\n",
    "# headers. "
   ]
  },
  {
   "cell_type": "markdown",
   "metadata": {},
   "source": [
    "## Ejercicio 4\n",
    "\n",
    "Cread una lista de **enteros** con todos los años del dataset. Es decir, cread una lista con todos los años (solo el año, un entero de cuatro dígitos) que aparecen en el campo **year**.\n",
    "\n",
    "<span style=\"font-family: Courier New; background-color: #82b74b; color: #000000; padding: 3px; \">SM</span> **(1 punto)**"
   ]
  },
  {
   "cell_type": "code",
   "execution_count": 11,
   "metadata": {},
   "outputs": [
    {
     "name": "stdout",
     "output_type": "stream",
     "text": [
      "[1880, 1951, 1952, 1976, 1902, 1919, 1949, 1814, 1930, 1920, 1974, 1925, 1769, 1949, 1838, 1959, 1981, 1957, 2001, 1806, 1766, 1949, 2002, 1835, 1873, 1860, 1900, 1883, 1899, 1969, 2008, 1977, 1895, 1880, 1898, 1969, 1939, 1822, 1869, 1942, 1971, 1984, 1914, 1803, 1954, 1932, 1950, 1805, 2009, 1923, 1886, 1920, 1896, 1933, 1945, 1836, 1865, 1842, 1858, 1952, 1908, 1855, 1968, 1938, 1814, 1934, 1929, 1922, 1907, 1993, 1871, 1892, 1913, 1933, 1790, 1704, 1842, 1904, 1886, 1910, 1965, 2006, 1994, 1892, 1902, 2012, 1989, 1916, 1929, 1893, 1949, 1961, 1937, 1798, 2004, 2001, 1938, 1943, 2002, 1949, 2008, 1924, 1811, 2004, 1859, 1859, 1921, 1877, 2002, 1893, 1940, 1905, 1827, 1887, 1999, 1984, 1923, 1843, 1895, 1796, 1899, 1941, 1906, 1909, 1833, 1938, 1977, 1804, 1962, 1916, 1808, 1894, 1930, 1852, 1812, 1823, 2003, 2011, 1969, 1886, 1847, 1956, 1855, 1933, 1960, 2001, 1964, 2007, 1942, 1919, 1990, 1946, 1863, 1852, 1861, 2008, 1870, 1886, 1919, 2007, 1916, 1991, 1964, 1861, 1866, 1973, 1846, 1934, 2007, 1902, 1874, 1791, 1848, 1583, 1810, 1988, 1956, 1840, 1998, 1814, 1907, 1933, 1838, 1885, 1977, 1812, 1835, 1810, 1834, 1815, 1841, 1925, 1988, 2013, 2007, 1964, 1933, 1901, 1939, 1880, 1981, 1938, 1988, 1966, 1978, 1979, 1984, 1822, 1917, 1838, 1994, 1890, 1965, 1844, 1917, 1936, 1877, 1892, 1902, 1919, 1877, 1981, 1878, 1868, 1868, 1804, 1998, 2008, 1887, 1829, 1897, 1911, 1967, 2001, 1962, 2001, 1994, 1976, 1848, 1860, 2007, 1906, 1957, 1884, 1961, 1999, 1903, 1864, 1907, 1995, 1899, 1970, 1805, 1962, 1932, 1976, 1827, 1939, 1951, 1999, 1865, 1976, 1815, 1853, 1943, 1970, 1872, 1933, 1947, 1961, 1785, 1939, 1916, 1989, 1977, 1993, 1998, 1400, 1951, 1925, 1900, 1974, 1492, 1822, 1940, 1911, 1889, 1812, 1837, 1957, 1879, 1890, 1934, 1844, 1934, 1875, 1900, 1924, 1889, 1996, 1894, 1922, 1890, 1942, 1924, 1900, 1829, 1944, 1868, 1945, 1882, 1654, 1822, 1977, 1826, 1952, 1952, 1995, 1897, 1960, 1917, 1950, 1984, 2000, 1950, 1909, 1853, 1947, 1990, 1939, 1918, 1991, 1879, 1865, 1974, 1964, 1976, 2009, 1861, 1837, 1881, 1841, 1910, 1932, 1996, 1983, 1980, 1892, 1891, 1972, 1949, 1982, 1984, 1904, 1814, 1981, 1851, 1930, 1817, 1934, 1944, 1959, 1878, 1921, 1961, 1859, 1910, 1890, 1628, 1971, 1922, 1910, 1857, 1869, 1897, 1804, 2003, 2003, 1954, 1912, 1923, 1875, 1825, 1956, 1963, 1751, 2010, 1877, 1901, 1870, 1957, 1949, 1936, 1956, 1977, 1975, 1891, 1917, 1963, 1977, 1972, 1954, 1928, 1879, 1990, 1938, 1903, 1926, 1990, 1621, 1866, 1979, 1889, 1901, 2009, 1873, 1964, 1890, 1976, 2006, 1877, 1924, 1974, 1819, 1997, 1876, 1984, 1976, 1968, 1821, 1857, 1971, 1822, 1838, 1908, 1980, 1937, 1890, 1858, 1951, 1879, 1942, 1913, 1902, 1959, 1908, 1897, 1942, 2004, 1937, 1840, 1963, 1949, 1905, 1955, 1930, 1938, 2003, 1999, 2006, 1961, 1940, 2008, 1939, 2003, 1874, 1869, 1850, 1873, 1932, 1787, 1860, 1867, 1929, 1910, 1932, 1983, 1962, 1970, 1906, 1809, 2002, 1911, 1844, 1967, 1906, 1914, 1998, 1843, 1866, 1999, 1986, 1926, 1931, 2010, 1869, 1829, 1946, 1906, 1946, 1938, 1961, 1811, 1906, 1949, 1998, 1920, 1860, 1977, 1914, 1932, 1886, 1879, 1878, 1924, 1985, 1871, 1955, 1803, 2003, 1910, 1887, 1872, 1897, 1947, 1986, 1925, 1987, 1830, 1938, 1845, 1845, 1943, 1912, 1999, 1907, 1900, 1857, 1896, 1973, 1930, 1813, 1854, 1978, 1808, 1839, 1820, 1868, 1994, 2010, 1894, 1970, 1977, 1935, 1926, 1768, 1869, 1980, 1889, 1813, 1753, 1951, 1937, 1836, 1981, 1936, 1950, 1935, 1896, 1941, 1899, 1990, 2007, 2004, 1933, 1970, 1930, 1931, 1933, 1927, 1863, 1843, 1934, 1951, 1948, 1925, 1898, 2009, 1941, 1971, 1847, 1902, 1848, 2002, 1983, 1836, 2010, 1803, 1768, 1801, 1974, 1885, 1942, 1992, 1953, 1861, 1915, 1862, 1903, 1878, 1945, 1920, 1955, 1897, 1949, 1852, 1827, 1980, 1881, 2010, 1889, 1992, 1944, 1842, 1960, 1930, 1632, 1826, 1952, 1905, 1910, 1890, 1898, 1882, 1905, 1908, 1858, 1953, 1998, 1849, 1950, 1846, 1923, 1838, 1950, 1913, 1810, 1930, 1808, 2000, 1875, 2006, 1868, 1868, 1902, 1991, 1637, 1944, 1865, 1795, 1924, 1969, 1950, 1964, 1842, 1956, 1922, 1875, 1895, 1911, 1923, 1886, 1917, 1825, 1984, 1928, 1974, 1928, 921, 1936, 1973, 1890, 1995, 1870, 1970, 1864, 2002, 1860, 1994, 2003, 1883, 1900, 1750, 1967, 1967, 1935, 1954, 1975, 1983, 1897, 1912, 1823, 1991, 861, 1879, 1918, 1948, 1971, 1886, 1662, 1908, 1933, 1978, 1851, 1925, 1939, 1914, 1887, 1927, 1855, 1900, 1741, 1857, 1963, 1926, 1958, 1904, 1834, 1930, 1520, 1924, 1929, 1981, 1864, 2004, 1868, 1671, 1872, 1928, 1867, 1896, 2003, 1986, 2003, 1998, 1900, 1856, 1775, 1881, 1929, 1910, 1910, 1988, 1914, 1926, 1949, 2002, 1859, 1938, 1930, 1967, 1956, 2003, 1857, 1942, 1933, 1969, 1950, 1922, 1935, 1966, 1938, 1826, 1882, 1989, 1963, 1953, 1992, 1946, 1899, 1935, 1830, 1933, 1933, 1995, 1855, 1779, 1901, 1887, 1933, 1941, 1968, 1843, 1863, 1996, 1881, 1882, 1884, 1921, 1930, 2008, 1723, 1868, 2002, 1819, 1866, 1942, 1931, 1998, 1796, 1933, 1932, 1959, 1893, 2007, 1863, 1868, 1811, 1937, 1982, 1976, 1925, 1857, 1898, 1990, 1851, 1957, 1986, 1983, 1878, 1940, 1916, 1958, 1917, 1899, 1937, 1919, 1961, 1740, 1880, 2007, 1947, 1919, 1824, 1925, 1916, 1933, 1965, 1929, 1903, 1948, 1918, 1980, 1828, 1934, 1491, 1876, 1895, 1871, 1775, 1921, 1876, 1976, 1934, 1949, 1914, 1855, 1999, 1636, 1914, 1966, 1913, 1981, 1798, 1985, 1921, 1973, 2002, 1956, 1968, 1873, 1939, 1924, 2008, 1962, 1918, 1688, 1868, 1894, 1986, 1934, 1715, 1968, 1846, 1871, 1917, 1853, 1939, 1947, 1940, 1773, 1993, 1966, 1818, 1923, 1908, 1862, 1874, 1989, 1850, 1921, 1904, 1865, 1976, 1921, 1971, 1912, 1863, 1794, 1947, 1995, 1917, 1920, 1916, 1901, 1956, 1933, 1875, 1989, 1989, 1848, 1868, 1818, 1960, 1877, 1860, 2011, 1866, 1993, 1927, 1945, 1883, 1841, 1855, 1890, 1950, 1903, 1919, 1866, 1910, 1959, 1876, 1808, 1857, 1962, 1990, 1647, 1974, 1917, 1623, 1994, 1924, 1969, 1986, 2008, 1916, 1935, 1865, 2012, 1954, 1753, 1867, 2000, 1991, 1880, 1995, 1975, 2008, 1918, 1965, 1931, 1967, 1929, 1937, 1879, 1872, 1950, 2011, 2002, 1986, 1878, 1927, 1970, 1807, 1934, 2011, 1869, 1922, 1905]\n"
     ]
    }
   ],
   "source": [
    "# Respuesta\n",
    "import math\n",
    "\n",
    "#We initialize my list\n",
    "year_list=[]\n",
    "\n",
    "# We go through the loop\n",
    "for index, row in df_meteorite.iterrows():\n",
    "\n",
    "    #Pass to string\n",
    "    str_year=str(row['year'])\n",
    "\n",
    "    #Check if it is not Isnan\n",
    "    if  math.isnan(float(str_year[:4]))==False:\n",
    "    \n",
    "        #Add the first 4 digits with the year [:4]\n",
    "        year_list.append(int(str_year[:4]))\n",
    "   \n",
    "print(year_list)\n",
    "\n",
    "# ---------------------\n",
    "# El resultdado es  correcto pero para trabajar\n",
    "# con fechas lo óptimo es usar datetime. En este caso\n",
    "# slicing es sencillo porque está en las primeras posiciones.\n",
    "puntos -= 0.25 "
   ]
  },
  {
   "cell_type": "markdown",
   "metadata": {},
   "source": [
    "## Ejercicio 5\n",
    "\n",
    "Basándonos en la lista de años anterior:\n",
    "\n",
    "1. Encontrad cuantos años no repetidos existen.\n",
    "2. Encontrad la diferencia entre el año más antiguo y el más nuevo.\n",
    "\n",
    "Mostrad el resultado por pantalla debidamente formateado (usando el método `format()`), incluyendo un mensaje explicativo de los valores que mostráis.\n",
    "\n",
    "<span style=\"font-family: Courier New; background-color: #82b74b; color: #000000; padding: 3px; \">SM</span> **(1 punto)**"
   ]
  },
  {
   "cell_type": "code",
   "execution_count": 12,
   "metadata": {},
   "outputs": [
    {
     "name": "stdout",
     "output_type": "stream",
     "text": [
      "The number of years without repeateds are:\t53\n",
      "The diferrence between the oldes and eldest year are :\t1152\n"
     ]
    }
   ],
   "source": [
    "# Respuesta\n",
    "import numpy as np\n",
    "\n",
    "#Get max and min year\n",
    "max_year= max(year_list)\n",
    "min_year= min(year_list)\n",
    "\n",
    "# Identify the year without repeated\n",
    "year_unique2=[year for year in year_list if year_list.count(year) ==1]\n",
    "\n",
    "\n",
    "print(\"The number of years without repeateds are:\\t{}\".format(len(year_unique2)))\n",
    "print (\"The diferrence between the oldes and eldest year are :\\t{}\".format(max_year-min_year))\n",
    "\n",
    "\n"
   ]
  },
  {
   "cell_type": "markdown",
   "metadata": {},
   "source": [
    "## Ejercicio 6\n",
    "\n",
    "Calculad la diferencia, en segundos, desde el **1 de enero del primer año** del dataset al **1 de enero de este año**.\n",
    "\n",
    "<span style=\"font-family: Courier New; background-color: #82b74b; color: #000000; padding: 3px; \">SM</span> **(1 punto)**"
   ]
  },
  {
   "cell_type": "code",
   "execution_count": 13,
   "metadata": {},
   "outputs": [
    {
     "name": "stdout",
     "output_type": "stream",
     "text": [
      "The differences in seconds are :\t36574416000\n"
     ]
    }
   ],
   "source": [
    "# Respuesta\n",
    "import datetime\n",
    "#Get the first year \n",
    "min_year= min(year_list)\n",
    "#Set the initial and final date \n",
    "first_year = datetime.datetime(year=min_year, month=1, day=1,hour=0, minute=0, second=0)\n",
    "last_year = datetime.datetime(year=2020, month=1, day=1,hour=0, minute=0, second=0)\n",
    "#Get the difference\n",
    "diff=last_year-first_year\n",
    "\n",
    "#See the differences in seconds\n",
    "print(\"The differences in seconds are :\\t{}\".format(diff.days * 24 * 60 * 60))"
   ]
  },
  {
   "cell_type": "markdown",
   "metadata": {},
   "source": [
    "## Ejercicio 7\n",
    "\n",
    "Usando **expresiones regulares**:\n",
    "\n",
    "1. Encontrad todos los nombres de meteoritos que empiecen por vocal y tengan más de 5 letras.\n",
    "2. Encontrad todos los nombres de meteoritos que empiecen por consonante y acaben por vocal.\n",
    "\n",
    "<span style=\"font-family: Courier New; background-color: #82b74b; color: #000000; padding: 3px; \">SM</span> **(1 punto)**"
   ]
  },
  {
   "cell_type": "code",
   "execution_count": 14,
   "metadata": {},
   "outputs": [
    {
     "data": {
      "text/html": [
       "<div>\n",
       "<style scoped>\n",
       "    .dataframe tbody tr th:only-of-type {\n",
       "        vertical-align: middle;\n",
       "    }\n",
       "\n",
       "    .dataframe tbody tr th {\n",
       "        vertical-align: top;\n",
       "    }\n",
       "\n",
       "    .dataframe thead th {\n",
       "        text-align: right;\n",
       "    }\n",
       "</style>\n",
       "<table border=\"1\" class=\"dataframe\">\n",
       "  <thead>\n",
       "    <tr style=\"text-align: right;\">\n",
       "      <th></th>\n",
       "      <th>name</th>\n",
       "      <th>id</th>\n",
       "      <th>nametype</th>\n",
       "      <th>recclass</th>\n",
       "      <th>mass</th>\n",
       "      <th>fall</th>\n",
       "      <th>year</th>\n",
       "      <th>reclat</th>\n",
       "      <th>reclong</th>\n",
       "      <th>geolocation</th>\n",
       "      <th>:@computed_region_cbhk_fwbd</th>\n",
       "      <th>:@computed_region_nnqa_25f4</th>\n",
       "    </tr>\n",
       "  </thead>\n",
       "  <tbody>\n",
       "    <tr>\n",
       "      <th>0</th>\n",
       "      <td>Aachen</td>\n",
       "      <td>1</td>\n",
       "      <td>Valid</td>\n",
       "      <td>L5</td>\n",
       "      <td>21.0</td>\n",
       "      <td>Fell</td>\n",
       "      <td>1880-01-01T00:00:00.000</td>\n",
       "      <td>50.77500</td>\n",
       "      <td>6.08333</td>\n",
       "      <td>{'type': 'Point', 'coordinates': [6.08333, 50....</td>\n",
       "      <td>NaN</td>\n",
       "      <td>NaN</td>\n",
       "    </tr>\n",
       "    <tr>\n",
       "      <th>1</th>\n",
       "      <td>Aarhus</td>\n",
       "      <td>2</td>\n",
       "      <td>Valid</td>\n",
       "      <td>H6</td>\n",
       "      <td>720.0</td>\n",
       "      <td>Fell</td>\n",
       "      <td>1951-01-01T00:00:00.000</td>\n",
       "      <td>56.18333</td>\n",
       "      <td>10.23333</td>\n",
       "      <td>{'type': 'Point', 'coordinates': [10.23333, 56...</td>\n",
       "      <td>NaN</td>\n",
       "      <td>NaN</td>\n",
       "    </tr>\n",
       "    <tr>\n",
       "      <th>3</th>\n",
       "      <td>Acapulco</td>\n",
       "      <td>10</td>\n",
       "      <td>Valid</td>\n",
       "      <td>Acapulcoite</td>\n",
       "      <td>1914.0</td>\n",
       "      <td>Fell</td>\n",
       "      <td>1976-01-01T00:00:00.000</td>\n",
       "      <td>16.88333</td>\n",
       "      <td>-99.90000</td>\n",
       "      <td>{'type': 'Point', 'coordinates': [-99.9, 16.88...</td>\n",
       "      <td>NaN</td>\n",
       "      <td>NaN</td>\n",
       "    </tr>\n",
       "    <tr>\n",
       "      <th>4</th>\n",
       "      <td>Achiras</td>\n",
       "      <td>370</td>\n",
       "      <td>Valid</td>\n",
       "      <td>L6</td>\n",
       "      <td>780.0</td>\n",
       "      <td>Fell</td>\n",
       "      <td>1902-01-01T00:00:00.000</td>\n",
       "      <td>-33.16667</td>\n",
       "      <td>-64.95000</td>\n",
       "      <td>{'type': 'Point', 'coordinates': [-64.95, -33....</td>\n",
       "      <td>NaN</td>\n",
       "      <td>NaN</td>\n",
       "    </tr>\n",
       "    <tr>\n",
       "      <th>8</th>\n",
       "      <td>Aguada</td>\n",
       "      <td>398</td>\n",
       "      <td>Valid</td>\n",
       "      <td>L6</td>\n",
       "      <td>1620.0</td>\n",
       "      <td>Fell</td>\n",
       "      <td>1930-01-01T00:00:00.000</td>\n",
       "      <td>-31.60000</td>\n",
       "      <td>-65.23333</td>\n",
       "      <td>{'type': 'Point', 'coordinates': [-65.23333, -...</td>\n",
       "      <td>NaN</td>\n",
       "      <td>NaN</td>\n",
       "    </tr>\n",
       "    <tr>\n",
       "      <th>...</th>\n",
       "      <td>...</td>\n",
       "      <td>...</td>\n",
       "      <td>...</td>\n",
       "      <td>...</td>\n",
       "      <td>...</td>\n",
       "      <td>...</td>\n",
       "      <td>...</td>\n",
       "      <td>...</td>\n",
       "      <td>...</td>\n",
       "      <td>...</td>\n",
       "      <td>...</td>\n",
       "      <td>...</td>\n",
       "    </tr>\n",
       "    <tr>\n",
       "      <th>745</th>\n",
       "      <td>Ourique</td>\n",
       "      <td>18052</td>\n",
       "      <td>Valid</td>\n",
       "      <td>H4</td>\n",
       "      <td>20000.0</td>\n",
       "      <td>Fell</td>\n",
       "      <td>1998-01-01T00:00:00.000</td>\n",
       "      <td>37.60833</td>\n",
       "      <td>-8.28000</td>\n",
       "      <td>{'type': 'Point', 'coordinates': [-8.28, 37.60...</td>\n",
       "      <td>NaN</td>\n",
       "      <td>NaN</td>\n",
       "    </tr>\n",
       "    <tr>\n",
       "      <th>746</th>\n",
       "      <td>Ovambo</td>\n",
       "      <td>18055</td>\n",
       "      <td>Valid</td>\n",
       "      <td>L6</td>\n",
       "      <td>121.5</td>\n",
       "      <td>Fell</td>\n",
       "      <td>1900-01-01T00:00:00.000</td>\n",
       "      <td>-18.00000</td>\n",
       "      <td>16.00000</td>\n",
       "      <td>{'type': 'Point', 'coordinates': [16, -18]}</td>\n",
       "      <td>NaN</td>\n",
       "      <td>NaN</td>\n",
       "    </tr>\n",
       "    <tr>\n",
       "      <th>747</th>\n",
       "      <td>Oviedo</td>\n",
       "      <td>18058</td>\n",
       "      <td>Valid</td>\n",
       "      <td>H5</td>\n",
       "      <td>205.0</td>\n",
       "      <td>Fell</td>\n",
       "      <td>1856-01-01T00:00:00.000</td>\n",
       "      <td>43.40000</td>\n",
       "      <td>-5.86667</td>\n",
       "      <td>{'type': 'Point', 'coordinates': [-5.86667, 43...</td>\n",
       "      <td>NaN</td>\n",
       "      <td>NaN</td>\n",
       "    </tr>\n",
       "    <tr>\n",
       "      <th>748</th>\n",
       "      <td>Owrucz</td>\n",
       "      <td>18062</td>\n",
       "      <td>Valid</td>\n",
       "      <td>OC</td>\n",
       "      <td>NaN</td>\n",
       "      <td>Fell</td>\n",
       "      <td>1775-01-01T00:00:00.000</td>\n",
       "      <td>51.33333</td>\n",
       "      <td>28.83333</td>\n",
       "      <td>{'type': 'Point', 'coordinates': [28.83333, 51...</td>\n",
       "      <td>NaN</td>\n",
       "      <td>NaN</td>\n",
       "    </tr>\n",
       "    <tr>\n",
       "      <th>851</th>\n",
       "      <td>Uzcudun</td>\n",
       "      <td>24140</td>\n",
       "      <td>Valid</td>\n",
       "      <td>L</td>\n",
       "      <td>20000.0</td>\n",
       "      <td>Fell</td>\n",
       "      <td>1948-01-01T00:00:00.000</td>\n",
       "      <td>-44.11667</td>\n",
       "      <td>-66.15000</td>\n",
       "      <td>{'type': 'Point', 'coordinates': [-66.15, -44....</td>\n",
       "      <td>NaN</td>\n",
       "      <td>NaN</td>\n",
       "    </tr>\n",
       "  </tbody>\n",
       "</table>\n",
       "<p>92 rows × 12 columns</p>\n",
       "</div>"
      ],
      "text/plain": [
       "         name     id nametype     recclass     mass  fall  \\\n",
       "0      Aachen      1    Valid           L5     21.0  Fell   \n",
       "1      Aarhus      2    Valid           H6    720.0  Fell   \n",
       "3    Acapulco     10    Valid  Acapulcoite   1914.0  Fell   \n",
       "4     Achiras    370    Valid           L6    780.0  Fell   \n",
       "8      Aguada    398    Valid           L6   1620.0  Fell   \n",
       "..        ...    ...      ...          ...      ...   ...   \n",
       "745   Ourique  18052    Valid           H4  20000.0  Fell   \n",
       "746    Ovambo  18055    Valid           L6    121.5  Fell   \n",
       "747    Oviedo  18058    Valid           H5    205.0  Fell   \n",
       "748    Owrucz  18062    Valid           OC      NaN  Fell   \n",
       "851   Uzcudun  24140    Valid            L  20000.0  Fell   \n",
       "\n",
       "                        year    reclat   reclong  \\\n",
       "0    1880-01-01T00:00:00.000  50.77500   6.08333   \n",
       "1    1951-01-01T00:00:00.000  56.18333  10.23333   \n",
       "3    1976-01-01T00:00:00.000  16.88333 -99.90000   \n",
       "4    1902-01-01T00:00:00.000 -33.16667 -64.95000   \n",
       "8    1930-01-01T00:00:00.000 -31.60000 -65.23333   \n",
       "..                       ...       ...       ...   \n",
       "745  1998-01-01T00:00:00.000  37.60833  -8.28000   \n",
       "746  1900-01-01T00:00:00.000 -18.00000  16.00000   \n",
       "747  1856-01-01T00:00:00.000  43.40000  -5.86667   \n",
       "748  1775-01-01T00:00:00.000  51.33333  28.83333   \n",
       "851  1948-01-01T00:00:00.000 -44.11667 -66.15000   \n",
       "\n",
       "                                           geolocation  \\\n",
       "0    {'type': 'Point', 'coordinates': [6.08333, 50....   \n",
       "1    {'type': 'Point', 'coordinates': [10.23333, 56...   \n",
       "3    {'type': 'Point', 'coordinates': [-99.9, 16.88...   \n",
       "4    {'type': 'Point', 'coordinates': [-64.95, -33....   \n",
       "8    {'type': 'Point', 'coordinates': [-65.23333, -...   \n",
       "..                                                 ...   \n",
       "745  {'type': 'Point', 'coordinates': [-8.28, 37.60...   \n",
       "746        {'type': 'Point', 'coordinates': [16, -18]}   \n",
       "747  {'type': 'Point', 'coordinates': [-5.86667, 43...   \n",
       "748  {'type': 'Point', 'coordinates': [28.83333, 51...   \n",
       "851  {'type': 'Point', 'coordinates': [-66.15, -44....   \n",
       "\n",
       "     :@computed_region_cbhk_fwbd  :@computed_region_nnqa_25f4  \n",
       "0                            NaN                          NaN  \n",
       "1                            NaN                          NaN  \n",
       "3                            NaN                          NaN  \n",
       "4                            NaN                          NaN  \n",
       "8                            NaN                          NaN  \n",
       "..                           ...                          ...  \n",
       "745                          NaN                          NaN  \n",
       "746                          NaN                          NaN  \n",
       "747                          NaN                          NaN  \n",
       "748                          NaN                          NaN  \n",
       "851                          NaN                          NaN  \n",
       "\n",
       "[92 rows x 12 columns]"
      ]
     },
     "execution_count": 14,
     "metadata": {},
     "output_type": "execute_result"
    }
   ],
   "source": [
    "# Respuesta 7.1\n",
    "# Respuesta\n",
    "# We import pandas library\n",
    "import pandas as pd\n",
    "\n",
    "# Load the data and show the head\n",
    "df_meteorite = pd.read_json(\"data/earth-meteorite-landings.json\")\n",
    "df_meteorite.head()\n",
    "#Get the meteorite that start vith vowel and have 5 letter \n",
    "df_meteorite[df_meteorite['name'].str.count('^[aeiouAEIOU]\\w{5}')>0]\n"
   ]
  },
  {
   "cell_type": "code",
   "execution_count": 15,
   "metadata": {},
   "outputs": [],
   "source": [
    "# Respuesta 7.2\n",
    "\n",
    "#Get the meteorite that start without vowel \n",
    "df_meteorite[df_meteorite['name'].str.count('^(?![aeiouAEIOU]).*')>0]\n",
    "\n",
    "# -----------------\n",
    "# Te salen los que acaban en consonante también.  \n",
    "puntos -= 0.5"
   ]
  },
  {
   "cell_type": "markdown",
   "metadata": {},
   "source": [
    "## Ejercicio 8\n",
    "\n",
    "Cread un diccionario ordenado con los datos del dataset. El diccionario debe de estar indexado \n",
    "y ordenado por el campo **id**.\n",
    "\n",
    "La estructura debe de ser {id0: dict_con_datos_de_id0, id1: dict_con_datos_de_id1, ...}\n",
    "\n",
    "**Pista**: podéis usar el método `.to_dict()` de una columna del dataset para convertirla en un diccionario.\n",
    "\n",
    "<span style=\"font-family: Courier New; background-color: #ffcc5c; color: #000000; padding: 3px; \">EG</span> **(1 punto)**"
   ]
  },
  {
   "cell_type": "code",
   "execution_count": 16,
   "metadata": {},
   "outputs": [
    {
     "name": "stdout",
     "output_type": "stream",
     "text": [
      "{1: ['Aachen', 'Valid', 'L5', 21.0, 'Fell', '1880-01-01T00:00:00.000', 50.775, 6.08333, {'type': 'Point', 'coordinates': [6.08333, 50.775]}, nan, nan], 2: ['Aarhus', 'Valid', 'H6', 720.0, 'Fell', '1951-01-01T00:00:00.000', 56.18333, 10.23333, {'type': 'Point', 'coordinates': [10.23333, 56.18333]}, nan, nan], 6: ['Abee', 'Valid', 'EH4', 107000.0, 'Fell', '1952-01-01T00:00:00.000', 54.21667, -113.0, {'type': 'Point', 'coordinates': [-113, 54.21667]}, nan, nan], 10: ['Acapulco', 'Valid', 'Acapulcoite', 1914.0, 'Fell', '1976-01-01T00:00:00.000', 16.88333, -99.9, {'type': 'Point', 'coordinates': [-99.9, 16.88333]}, nan, nan], 370: ['Achiras', 'Valid', 'L6', 780.0, 'Fell', '1902-01-01T00:00:00.000', -33.16667, -64.95, {'type': 'Point', 'coordinates': [-64.95, -33.16667]}, nan, nan], 379: ['Adhi Kot', 'Valid', 'EH4', 4239.0, 'Fell', '1919-01-01T00:00:00.000', 32.1, 71.8, {'type': 'Point', 'coordinates': [71.8, 32.1]}, nan, nan], 390: ['Adzhi-Bogdo (stone)', 'Valid', 'LL3-6', 910.0, 'Fell', '1949-01-01T00:00:00.000', 44.83333, 95.16667, {'type': 'Point', 'coordinates': [95.16667, 44.83333]}, nan, nan], 392: ['Agen', 'Valid', 'H5', 30000.0, 'Fell', '1814-01-01T00:00:00.000', 44.21667, 0.61667, {'type': 'Point', 'coordinates': [0.61667, 44.21667]}, nan, nan], 398: ['Aguada', 'Valid', 'L6', 1620.0, 'Fell', '1930-01-01T00:00:00.000', -31.6, -65.23333, {'type': 'Point', 'coordinates': [-65.23333, -31.6]}, nan, nan], 417: ['Aguila Blanca', 'Valid', 'L', 1440.0, 'Fell', '1920-01-01T00:00:00.000', -30.86667, -64.55, {'type': 'Point', 'coordinates': [-64.55, -30.86667]}, nan, nan], 423: ['Aioun el Atrouss', 'Valid', 'Diogenite-pm', 1000.0, 'Fell', '1974-01-01T00:00:00.000', 16.39806, -9.57028, {'type': 'Point', 'coordinates': [-9.57028, 16.39806]}, nan, nan], 424: ['Aïr', 'Valid', 'L6', 24000.0, 'Fell', '1925-01-01T00:00:00.000', 19.08333, 8.38333, {'type': 'Point', 'coordinates': [8.38333, 19.08333]}, nan, nan], 425: ['Aire-sur-la-Lys', 'Valid', 'Unknown', nan, 'Fell', '1769-01-01T00:00:00.000', 50.66667, 2.33333, {'type': 'Point', 'coordinates': [2.33333, 50.66667]}, nan, nan], 426: ['Akaba', 'Valid', 'L6', 779.0, 'Fell', '1949-01-01T00:00:00.000', 29.51667, 35.05, {'type': 'Point', 'coordinates': [35.05, 29.51667]}, nan, nan], 427: ['Akbarpur', 'Valid', 'H4', 1800.0, 'Fell', '1838-01-01T00:00:00.000', 29.71667, 77.95, {'type': 'Point', 'coordinates': [77.95, 29.71667]}, nan, nan], 432: ['Akwanga', 'Valid', 'H', 3000.0, 'Fell', '1959-01-01T00:00:00.000', 8.91667, 8.43333, {'type': 'Point', 'coordinates': [8.43333, 8.91667]}, nan, nan], 433: ['Akyumak', 'Valid', 'Iron, IVA', 50000.0, 'Fell', '1981-01-01T00:00:00.000', 39.91667, 42.81667, {'type': 'Point', 'coordinates': [42.81667, 39.91667]}, nan, nan], 446: ['Al Rais', 'Valid', 'CR2-an', 160.0, 'Fell', '1957-01-01T00:00:00.000', 24.41667, 39.51667, {'type': 'Point', 'coordinates': [39.51667, 24.41667]}, nan, nan], 447: ['Al Zarnkh', 'Valid', 'LL5', 700.0, 'Fell', '2001-01-01T00:00:00.000', 13.66033, 28.96, {'type': 'Point', 'coordinates': [28.96, 13.66033]}, nan, nan], 448: ['Alais', 'Valid', 'CI1', 6000.0, 'Fell', '1806-01-01T00:00:00.000', 44.11667, 4.08333, {'type': 'Point', 'coordinates': [4.08333, 44.11667]}, nan, nan], 453: ['Albareto', 'Valid', 'L/LL4', 2000.0, 'Fell', '1766-01-01T00:00:00.000', 44.65, 11.01667, {'type': 'Point', 'coordinates': [11.01667, 44.65]}, nan, nan], 454: ['Alberta', 'Valid', 'L', 625.0, 'Fell', '1949-01-01T00:00:00.000', 2.0, 22.66667, {'type': 'Point', 'coordinates': [22.66667, 2]}, nan, nan], 458: ['Alby sur Chéran', 'Valid', 'Eucrite-mmict', 252.0, 'Fell', '2002-01-01T00:00:00.000', 45.82133, 6.01533, {'type': 'Point', 'coordinates': [6.01533, 45.82133]}, nan, nan], 461: ['Aldsworth', 'Valid', 'LL5', 700.0, 'Fell', '1835-01-01T00:00:00.000', 51.78333, -1.78333, {'type': 'Point', 'coordinates': [-1.78333, 51.78333]}, nan, nan], 462: ['Aleppo', 'Valid', 'L6', 3200.0, 'Fell', '1873-01-01T00:00:00.000', 36.23333, 37.13333, {'type': 'Point', 'coordinates': [37.13333, 36.23333]}, nan, nan], 463: ['Alessandria', 'Valid', 'H5', 908.0, 'Fell', '1860-01-01T00:00:00.000', 44.88333, 8.75, {'type': 'Point', 'coordinates': [8.75, 44.88333]}, nan, nan], 465: ['Alexandrovsky', 'Valid', 'H4', 9251.0, 'Fell', '1900-01-01T00:00:00.000', 50.95, 31.81667, {'type': 'Point', 'coordinates': [31.81667, 50.95]}, nan, nan], 466: ['Alfianello', 'Valid', 'L6', 228000.0, 'Fell', '1883-01-01T00:00:00.000', 45.26667, 10.15, {'type': 'Point', 'coordinates': [10.15, 45.26667]}, nan, nan], 2276: ['Allegan', 'Valid', 'H5', 32000.0, 'Fell', '1899-01-01T00:00:00.000', 42.53333, -85.88333, {'type': 'Point', 'coordinates': [-85.88333, 42.53333]}, 50.0, 429.0], 2278: ['Allende', 'Valid', 'CV3', 2000000.0, 'Fell', '1969-01-01T00:00:00.000', 26.96667, -105.31667, {'type': 'Point', 'coordinates': [-105.31667, 26.96667]}, nan, nan], 48915: ['Almahata Sitta', 'Valid', 'Ureilite-an', 3950.0, 'Fell', '2008-01-01T00:00:00.000', 20.74575, 32.41275, {'type': 'Point', 'coordinates': [32.41275, 20.74575]}, nan, nan], 2284: [\"Alta'ameem\", 'Valid', 'LL5', 6000.0, 'Fell', '1977-01-01T00:00:00.000', 35.27333, 44.21556, {'type': 'Point', 'coordinates': [44.21556, 35.27333]}, nan, nan], 2290: ['Ambapur Nagla', 'Valid', 'H5', 6400.0, 'Fell', '1895-01-01T00:00:00.000', 27.66667, 78.25, {'type': 'Point', 'coordinates': [78.25, 27.66667]}, nan, nan], 2294: ['Andhara', 'Valid', 'Stone-uncl', 2700.0, 'Fell', '1880-01-01T00:00:00.000', 26.58333, 85.56667, {'type': 'Point', 'coordinates': [85.56667, 26.58333]}, nan, nan], 2295: ['Andover', 'Valid', 'L6', 3200.0, 'Fell', '1898-01-01T00:00:00.000', 44.61667, -70.75, {'type': 'Point', 'coordinates': [-70.75, 44.61667]}, 49.0, 1723.0], 2296: ['Andreevka', 'Valid', 'L3', 600.0, 'Fell', '1969-01-01T00:00:00.000', 48.7, 37.5, {'type': 'Point', 'coordinates': [37.5, 48.7]}, nan, nan], 2298: ['Andura', 'Valid', 'H6', 17900.0, 'Fell', '1939-01-01T00:00:00.000', 20.88333, 76.86667, {'type': 'Point', 'coordinates': [76.86667, 20.88333]}, nan, nan], 50693: ['Northwest Africa 5815', 'Valid', 'L5', 256.8, 'Found', nan, 0.0, 0.0, {'type': 'Point', 'coordinates': [0, 0]}, nan, nan], 2301: ['Angers', 'Valid', 'L6', nan, 'Fell', '1822-01-01T00:00:00.000', 47.46667, -0.55, {'type': 'Point', 'coordinates': [-0.55, 47.46667]}, nan, nan], 2302: ['Angra dos Reis (stone)', 'Valid', 'Angrite', 1500.0, 'Fell', '1869-01-01T00:00:00.000', -22.96667, -44.31667, {'type': 'Point', 'coordinates': [-44.31667, -22.96667]}, nan, nan], 2304: ['Ankober', 'Valid', 'H4', 6500.0, 'Fell', '1942-01-01T00:00:00.000', 9.53333, 39.71667, {'type': 'Point', 'coordinates': [39.71667, 9.53333]}, nan, nan], 2305: ['Anlong', 'Valid', 'H5', 2500.0, 'Fell', '1971-01-01T00:00:00.000', 25.15, 105.18333, {'type': 'Point', 'coordinates': [105.18333, 25.15]}, nan, nan], 2313: ['Aomori', 'Valid', 'L6', 320.0, 'Fell', '1984-01-01T00:00:00.000', 40.81056, 140.78556, {'type': 'Point', 'coordinates': [140.78556, 40.81056]}, nan, nan], 2318: ['Appley Bridge', 'Valid', 'LL6', 15000.0, 'Fell', '1914-01-01T00:00:00.000', 53.58333, -2.71667, {'type': 'Point', 'coordinates': [-2.71667, 53.58333]}, nan, nan], 2320: ['Apt', 'Valid', 'L6', 3200.0, 'Fell', '1803-01-01T00:00:00.000', 43.86667, 5.38333, {'type': 'Point', 'coordinates': [5.38333, 43.86667]}, nan, nan], 2325: ['Arbol Solo', 'Valid', 'H5', 810.0, 'Fell', '1954-01-01T00:00:00.000', -33.0, -66.0, {'type': 'Point', 'coordinates': [-66, -33]}, nan, nan], 2329: ['Archie', 'Valid', 'H6', 5070.0, 'Fell', '1932-01-01T00:00:00.000', 38.5, -94.3, {'type': 'Point', 'coordinates': [-94.3, 38.5]}, 18.0, 2697.0], 2340: ['Arroyo Aguiar', 'Valid', 'H5', 7450.0, 'Fell', '1950-01-01T00:00:00.000', -31.41667, -60.66667, {'type': 'Point', 'coordinates': [-60.66667, -31.41667]}, nan, nan], 2345: ['Asco', 'Valid', 'H6', 41.0, 'Fell', '1805-01-01T00:00:00.000', 42.45, 9.03333, {'type': 'Point', 'coordinates': [9.03333, 42.45]}, nan, nan], 48954: ['Ash Creek', 'Valid', 'L6', 9500.0, 'Fell', '2009-01-01T00:00:00.000', 31.805, -97.01, {'type': 'Point', 'coordinates': [-97.01, 31.805]}, 23.0, 774.0], 2346: ['Ashdon', 'Valid', 'L6', 1300.0, 'Fell', '1923-01-01T00:00:00.000', 52.05, 0.3, {'type': 'Point', 'coordinates': [0.30000000000000004, 52.05]}, nan, nan], 2353: ['Assisi', 'Valid', 'H5', 2000.0, 'Fell', '1886-01-01T00:00:00.000', 43.03333, 12.55, {'type': 'Point', 'coordinates': [12.55, 43.03333]}, nan, nan], 4883: ['Atarra', 'Valid', 'L4', 1280.0, 'Fell', '1920-01-01T00:00:00.000', 25.25417, 80.625, {'type': 'Point', 'coordinates': [80.625, 25.25417]}, nan, nan], 4884: ['Atemajac', 'Valid', 'L6', 94.2, 'Fell', '1896-01-01T00:00:00.000', 20.06667, -103.66667, {'type': 'Point', 'coordinates': [-103.66667, 20.06667]}, nan, nan], 4885: ['Athens', 'Valid', 'LL6', 265.0, 'Fell', '1933-01-01T00:00:00.000', 34.75, -87.0, {'type': 'Point', 'coordinates': [-87, 34.75]}, 29.0, 3134.0], 4888: ['Atoka', 'Valid', 'L6', 1384.2, 'Fell', '1945-01-01T00:00:00.000', 34.31667, -96.15, {'type': 'Point', 'coordinates': [-96.15, 34.31667]}, 20.0, 602.0], 4893: ['Aubres', 'Valid', 'Aubrite', 800.0, 'Fell', '1836-01-01T00:00:00.000', 44.38333, 5.16667, {'type': 'Point', 'coordinates': [5.16667, 44.38333]}, nan, nan], 4899: ['Aumale', 'Valid', 'L6', 50000.0, 'Fell', '1865-01-01T00:00:00.000', 36.16667, 3.66667, {'type': 'Point', 'coordinates': [3.66667, 36.16667]}, nan, nan], 4900: ['Aumieres', 'Valid', 'L6', 2000.0, 'Fell', '1842-01-01T00:00:00.000', 44.33333, 3.23333, {'type': 'Point', 'coordinates': [3.23333, 44.33333]}, nan, nan], 4903: ['Ausson', 'Valid', 'L5', 50000.0, 'Fell', '1858-01-01T00:00:00.000', 43.08333, 0.58333, {'type': 'Point', 'coordinates': [0.58333, 43.08333]}, nan, nan], 4905: ['Avanhandava', 'Valid', 'H4', 9330.0, 'Fell', '1952-01-01T00:00:00.000', -21.46028, -49.95083, {'type': 'Point', 'coordinates': [-49.95083, -21.46028]}, nan, nan], 4906: ['Avce', 'Valid', 'Iron, IIAB', 1230.0, 'Fell', '1908-01-01T00:00:00.000', 46.0, 13.5, {'type': 'Point', 'coordinates': [13.5, 46]}, nan, nan], 4907: ['Avilez', 'Valid', 'H', 146.0, 'Fell', '1855-01-01T00:00:00.000', 25.0, -103.5, {'type': 'Point', 'coordinates': [-103.5, 25]}, nan, nan], 4910: ['Awere', 'Valid', 'L4', 134.0, 'Fell', '1968-01-01T00:00:00.000', 2.71667, 32.83333, {'type': 'Point', 'coordinates': [32.83333, 2.71667]}, nan, nan], 4913: ['Aztec', 'Valid', 'L6', 2830.0, 'Fell', '1938-01-01T00:00:00.000', 36.8, -108.0, {'type': 'Point', 'coordinates': [-108, 36.8]}, 11.0, 1989.0], 4917: ['Bachmut', 'Valid', 'L6', 18000.0, 'Fell', '1814-01-01T00:00:00.000', 48.6, 38.0, {'type': 'Point', 'coordinates': [38, 48.6]}, nan, nan], 4922: ['Bahjoi', 'Valid', 'Iron, IAB-sLL', 10322.0, 'Fell', '1934-01-01T00:00:00.000', 28.48333, 78.5, {'type': 'Point', 'coordinates': [78.5, 28.48333]}, nan, nan], 4925: ['Bald Mountain', 'Valid', 'L4', 3700.0, 'Fell', '1929-01-01T00:00:00.000', 35.96667, -82.48333, {'type': 'Point', 'coordinates': [-82.48333, 35.96667]}, 37.0, 2373.0], 4926: ['Baldwyn', 'Valid', 'L6', 345.0, 'Fell', '1922-01-01T00:00:00.000', 34.5, -88.66667, {'type': 'Point', 'coordinates': [-88.66667, 34.5]}, 32.0, 495.0], 4928: ['Bali', 'Valid', 'CV3', 1000.0, 'Fell', '1907-01-01T00:00:00.000', 5.38333, 16.38333, {'type': 'Point', 'coordinates': [16.38333, 5.38333]}, nan, nan], 4934: ['Ban Rong Du', 'Valid', 'Iron, ungrouped', 16700.0, 'Fell', '1993-01-01T00:00:00.000', 16.66667, 101.18333, {'type': 'Point', 'coordinates': [101.18333, 16.66667]}, nan, nan], 4935: ['Bandong', 'Valid', 'LL6', 11500.0, 'Fell', '1871-01-01T00:00:00.000', -6.91667, 107.6, {'type': 'Point', 'coordinates': [107.6, -6.91667]}, nan, nan], 4936: ['Bansur', 'Valid', 'L6', 15000.0, 'Fell', '1892-01-01T00:00:00.000', 27.7, 76.33333, {'type': 'Point', 'coordinates': [76.33333, 27.7]}, nan, nan], 4937: ['Banswal', 'Valid', 'L5', 14.0, 'Fell', '1913-01-01T00:00:00.000', 30.4, 78.2, {'type': 'Point', 'coordinates': [78.2, 30.4]}, nan, nan], 4938: ['Banten', 'Valid', 'CM2', 629.0, 'Fell', '1933-01-01T00:00:00.000', -6.33333, 106.0, {'type': 'Point', 'coordinates': [106, -6.33333]}, nan, nan], 4942: ['Barbotan', 'Valid', 'H5', 6400.0, 'Fell', '1790-01-01T00:00:00.000', 43.95, -0.05, {'type': 'Point', 'coordinates': [-0.05, 43.95]}, nan, nan], 4944: ['Barcelona (stone)', 'Valid', 'OC', nan, 'Fell', '1704-01-01T00:00:00.000', 41.36667, 2.16667, {'type': 'Point', 'coordinates': [2.16667, 41.36667]}, nan, nan], 4946: ['Barea', 'Valid', 'Mesosiderite-A1', 3200.0, 'Fell', '1842-01-01T00:00:00.000', 42.38333, -2.5, {'type': 'Point', 'coordinates': [-2.5, 42.38333]}, nan, nan], 4947: ['Barnaul', 'Valid', 'H5', 23.2, 'Fell', '1904-01-01T00:00:00.000', 52.73333, 84.08333, {'type': 'Point', 'coordinates': [84.08333, 52.73333]}, nan, nan], 4948: ['Barntrup', 'Valid', 'LL4', 17.0, 'Fell', '1886-01-01T00:00:00.000', 52.0, 9.1, {'type': 'Point', 'coordinates': [9.1, 52]}, nan, nan], 4949: ['Baroti', 'Valid', 'L6', 4500.0, 'Fell', '1910-01-01T00:00:00.000', 31.61667, 76.8, {'type': 'Point', 'coordinates': [76.8, 31.61667]}, nan, nan], 4954: ['Barwell', 'Valid', 'L5', 44000.0, 'Fell', '1965-01-01T00:00:00.000', 52.56528, -1.33972, {'type': 'Point', 'coordinates': [-1.33972, 52.56528]}, nan, nan], 44876: ['Bassikounou', 'Valid', 'H5', 29560.0, 'Fell', '2006-01-01T00:00:00.000', 15.78333, -5.9, {'type': 'Point', 'coordinates': [-5.9, 15.78333]}, nan, nan], 4957: ['Baszkówka', 'Valid', 'L5', 15500.0, 'Fell', '1994-01-01T00:00:00.000', 52.03333, 20.93583, {'type': 'Point', 'coordinates': [20.93583, 52.03333]}, nan, nan], 4974: ['Bath', 'Valid', 'H4', 21000.0, 'Fell', '1892-01-01T00:00:00.000', 45.41667, -98.31667, {'type': 'Point', 'coordinates': [-98.31667, 45.41667]}, 21.0, 662.0], 4975: ['Bath Furnace', 'Valid', 'L6', 86000.0, 'Fell', '1902-01-01T00:00:00.000', 38.25, -83.75, {'type': 'Point', 'coordinates': [-83.75, 38.25]}, 36.0, 1921.0], 56133: ['Battle Mountain', 'Valid', 'L6', 2900.0, 'Fell', '2012-01-01T00:00:00.000', 40.66813, -117.18913, {'type': 'Point', 'coordinates': [-117.18913, 40.66813]}, 10.0, 2397.0], 4976: ['Bawku', 'Valid', 'LL5', 1557.0, 'Fell', '1989-01-01T00:00:00.000', 11.08333, -0.18333, {'type': 'Point', 'coordinates': [-0.18333000000000002, 11.08333]}, nan, nan], 4977: ['Baxter', 'Valid', 'L6', 611.0, 'Fell', '1916-01-01T00:00:00.000', 36.75, -93.5, {'type': 'Point', 'coordinates': [-93.5, 36.75]}, 18.0, 2216.0], 4984: ['Beardsley', 'Valid', 'H5', 16000.0, 'Fell', '1929-01-01T00:00:00.000', 39.8, -101.2, {'type': 'Point', 'coordinates': [-101.2, 39.8]}, 17.0, 1285.0], 4986: ['Beaver Creek', 'Valid', 'H5', 14000.0, 'Fell', '1893-01-01T00:00:00.000', 51.16667, -117.33333, {'type': 'Point', 'coordinates': [-117.33333, 51.16667]}, nan, nan], 4993: ['Beddgelert', 'Valid', 'H5', 794.0, 'Fell', '1949-01-01T00:00:00.000', 53.01667, -4.1, {'type': 'Point', 'coordinates': [-4.1, 53.01667]}, nan, nan], 5005: ['Bells', 'Valid', 'C2-ung', 375.0, 'Fell', '1961-01-01T00:00:00.000', 33.6, -96.46667, {'type': 'Point', 'coordinates': [-96.46667, 33.6]}, 23.0, 1978.0], 5009: ['Belville', 'Valid', 'OC', nan, 'Fell', '1937-01-01T00:00:00.000', -32.33333, -64.86667, {'type': 'Point', 'coordinates': [-64.86667, -32.33333]}, nan, nan], 5011: ['Benares (a)', 'Valid', 'LL4', 3700.0, 'Fell', '1798-01-01T00:00:00.000', 25.36667, 82.91667, {'type': 'Point', 'coordinates': [82.91667, 25.36667]}, nan, nan], 30443: ['Benguerir', 'Valid', 'LL6', 25000.0, 'Fell', '2004-01-01T00:00:00.000', 32.25, -8.15, {'type': 'Point', 'coordinates': [-8.15, 32.25]}, nan, nan], 5018: [\"Beni M'hira\", 'Valid', 'L6', 19000.0, 'Fell', '2001-01-01T00:00:00.000', 32.86667, 10.8, {'type': 'Point', 'coordinates': [10.8, 32.86667]}, nan, nan], 5021: ['Benld', 'Valid', 'H6', 1770.5, 'Fell', '1938-01-01T00:00:00.000', 39.08333, -89.15, {'type': 'Point', 'coordinates': [-89.15, 39.08333]}, 34.0, 1869.0], 5023: ['Benoni', 'Valid', 'H6', 3880.0, 'Fell', '1943-01-01T00:00:00.000', -26.16667, 28.41667, {'type': 'Point', 'coordinates': [28.41667, -26.16667]}, nan, nan], 5024: ['Bensour', 'Valid', 'LL6', 45000.0, 'Fell', '2002-01-01T00:00:00.000', 30.0, -7.0, {'type': 'Point', 'coordinates': [-7, 30]}, nan, nan], 5026: ['Benton', 'Valid', 'LL6', 2840.0, 'Fell', '1949-01-01T00:00:00.000', 45.95, -67.55, {'type': 'Point', 'coordinates': [-67.55, 45.95]}, nan, nan], 48975: ['Berduc', 'Valid', 'L6', 270.0, 'Fell', '2008-01-01T00:00:00.000', -31.91, -58.32833, {'type': 'Point', 'coordinates': [-58.32833, -31.91]}, nan, nan], 5028: ['Béréba', 'Valid', 'Eucrite-mmict', 18000.0, 'Fell', '1924-01-01T00:00:00.000', 11.65, -3.65, {'type': 'Point', 'coordinates': [-3.65, 11.65]}, nan, nan], 5029: ['Berlanguillas', 'Valid', 'L6', 1440.0, 'Fell', '1811-01-01T00:00:00.000', 41.68333, -3.8, {'type': 'Point', 'coordinates': [-3.8, 41.68333]}, nan, nan], 47355: ['Berthoud', 'Valid', 'Eucrite-mmict', 960.0, 'Fell', '2004-01-01T00:00:00.000', 40.30583, -105.02325, {'type': 'Point', 'coordinates': [-105.02325, 40.30583]}, 9.0, 1072.0], 5032: ['Bethlehem', 'Valid', 'H', 13.9, 'Fell', '1859-01-01T00:00:00.000', 42.53333, -73.83333, {'type': 'Point', 'coordinates': [-73.83333, 42.53333]}, 47.0, 2030.0], 5034: ['Beuste', 'Valid', 'L5', 2000.0, 'Fell', '1859-01-01T00:00:00.000', 43.21667, -0.23333, {'type': 'Point', 'coordinates': [-0.23333, 43.21667]}, nan, nan], 5035: ['Beyrout', 'Valid', 'LL3.8', 1100.0, 'Fell', '1921-01-01T00:00:00.000', 33.88333, 35.5, {'type': 'Point', 'coordinates': [35.5, 33.88333]}, nan, nan], 5037: ['Bhagur', 'Valid', 'L6', 18.0, 'Fell', '1877-01-01T00:00:00.000', 20.88333, 74.83333, {'type': 'Point', 'coordinates': [74.83333, 20.88333]}, nan, nan], 36591: ['Bhawad', 'Valid', 'LL6', 678.0, 'Fell', '2002-01-01T00:00:00.000', 26.50833, 73.11528, {'type': 'Point', 'coordinates': [73.11528, 26.50833]}, nan, nan], 5039: ['Bherai', 'Valid', 'L6', 100.0, 'Fell', '1893-01-01T00:00:00.000', 20.83333, 71.46667, {'type': 'Point', 'coordinates': [71.46667, 20.83333]}, nan, nan], 5040: ['Bhola', 'Valid', 'LL3-6', 1047.0, 'Fell', '1940-01-01T00:00:00.000', 22.68333, 90.65, {'type': 'Point', 'coordinates': [90.65, 22.68333]}, nan, nan], 5041: ['Bholghati', 'Valid', 'Howardite', 2500.0, 'Fell', '1905-01-01T00:00:00.000', 22.08333, 86.9, {'type': 'Point', 'coordinates': [86.9, 22.08333]}, nan, nan], 5042: ['Bialystok', 'Valid', 'Eucrite-pmict', 4000.0, 'Fell', '1827-01-01T00:00:00.000', 53.1, 23.2, {'type': 'Point', 'coordinates': [23.2, 53.1]}, nan, nan], 5043: ['Bielokrynitschie', 'Valid', 'H4', 1900.0, 'Fell', '1887-01-01T00:00:00.000', 50.13333, 27.16667, {'type': 'Point', 'coordinates': [27.16667, 50.13333]}, nan, nan], 5045: ['Bilanga', 'Valid', 'Diogenite', 25000.0, 'Fell', '1999-01-01T00:00:00.000', 12.45, -0.08333, {'type': 'Point', 'coordinates': [-0.08333, 12.45]}, nan, nan], 5051: ['Binningup', 'Valid', 'H5', 488.1, 'Fell', '1984-01-01T00:00:00.000', -33.15639, 115.67639, {'type': 'Point', 'coordinates': [115.67639, -33.15639]}, nan, nan], 5056: [\"Birni N'konni\", 'Valid', 'H4', 560.0, 'Fell', '1923-01-01T00:00:00.000', 13.76667, 5.3, {'type': 'Point', 'coordinates': [5.3, 13.76667]}, nan, nan], 5059: ['Bishopville', 'Valid', 'Aubrite', 6000.0, 'Fell', '1843-01-01T00:00:00.000', 34.16667, -80.28333, {'type': 'Point', 'coordinates': [-80.28333, 34.16667]}, 33.0, 657.0], 5060: ['Bishunpur', 'Valid', 'LL3.15', 1039.0, 'Fell', '1895-01-01T00:00:00.000', 25.38333, 82.6, {'type': 'Point', 'coordinates': [82.6, 25.38333]}, nan, nan], 5063: ['Bjelaja Zerkov', 'Valid', 'H6', 1850.0, 'Fell', '1796-01-01T00:00:00.000', 49.78333, 30.16667, {'type': 'Point', 'coordinates': [30.16667, 49.78333]}, nan, nan], 5064: ['Bjurböle', 'Valid', 'L/LL4', 330000.0, 'Fell', '1899-01-01T00:00:00.000', 60.4, 25.8, {'type': 'Point', 'coordinates': [25.8, 60.4]}, nan, nan], 5065: ['Black Moshannan Park', 'Valid', 'L5', 705.0, 'Fell', '1941-01-01T00:00:00.000', 40.91667, -78.08333, {'type': 'Point', 'coordinates': [-78.08333, 40.91667]}, 48.0, 2495.0], 5068: ['Blackwell', 'Valid', 'L5', 2381.0, 'Fell', '1906-01-01T00:00:00.000', 36.83333, -97.33333, {'type': 'Point', 'coordinates': [-97.33333, 36.83333]}, 20.0, 2164.0], 5071: ['Blanket', 'Valid', 'L6', 5100.0, 'Fell', '1909-01-01T00:00:00.000', 31.83333, -98.83333, {'type': 'Point', 'coordinates': [-98.83333, 31.83333]}, 23.0, 3063.0], 5072: ['Blansko', 'Valid', 'H6', 470.0, 'Fell', '1833-01-01T00:00:00.000', 49.36667, 16.63333, {'type': 'Point', 'coordinates': [16.63333, 49.36667]}, nan, nan], 5076: ['Bloomington', 'Valid', 'LL6', 67.8, 'Fell', '1938-01-01T00:00:00.000', 40.48, -89.00417, {'type': 'Point', 'coordinates': [-89.00417, 40.48]}, 34.0, 1795.0], 5090: ['Bo Xian', 'Valid', 'LL3.9', 7500.0, 'Fell', '1977-01-01T00:00:00.000', 33.83333, 115.83333, {'type': 'Point', 'coordinates': [115.83333, 33.83333]}, nan, nan], 5093: ['Bocas', 'Valid', 'L6', 56.0, 'Fell', '1804-01-01T00:00:00.000', 23.0, -102.0, {'type': 'Point', 'coordinates': [-102, 23]}, nan, nan], 5097: ['Bogou', 'Valid', 'Iron, IAB-MG', 8800.0, 'Fell', '1962-01-01T00:00:00.000', 12.5, 0.7, {'type': 'Point', 'coordinates': [0.7000000000000001, 12.5]}, nan, nan], 5098: ['Boguslavka', 'Valid', 'Iron, IIAB', 256000.0, 'Fell', '1916-01-01T00:00:00.000', 44.55, 131.63333, {'type': 'Point', 'coordinates': [131.63333, 44.55]}, nan, nan], 5110: ['Borgo San Donino', 'Valid', 'LL6', 1676.0, 'Fell', '1808-01-01T00:00:00.000', 44.86667, 10.05, {'type': 'Point', 'coordinates': [10.05, 44.86667]}, nan, nan], 5111: ['Bori', 'Valid', 'L6', 8600.0, 'Fell', '1894-01-01T00:00:00.000', 21.95, 78.03333, {'type': 'Point', 'coordinates': [78.03333, 21.95]}, nan, nan], 5112: ['Boriskino', 'Valid', 'CM2', 1342.0, 'Fell', '1930-01-01T00:00:00.000', 54.23333, 52.48333, {'type': 'Point', 'coordinates': [52.48333, 54.23333]}, nan, nan], 5113: ['Borkut', 'Valid', 'L5', 7000.0, 'Fell', '1852-01-01T00:00:00.000', 48.15, 24.28333, {'type': 'Point', 'coordinates': [24.28333, 48.15]}, nan, nan], 5114: ['Borodino', 'Valid', 'H5', 500.0, 'Fell', '1812-01-01T00:00:00.000', 55.46667, 35.86667, {'type': 'Point', 'coordinates': [35.86667, 55.46667]}, nan, nan], 5117: ['Botschetschki', 'Valid', 'L4', 614.0, 'Fell', '1823-01-01T00:00:00.000', 51.33333, 33.88333, {'type': 'Point', 'coordinates': [33.88333, 51.33333]}, nan, nan], 57168: ['Boumdeid (2003)', 'Valid', 'L6', 190.0, 'Fell', '2003-01-01T00:00:00.000', 17.71067, -11.3715, {'type': 'Point', 'coordinates': [-11.3715, 17.71067]}, nan, nan], 57167: ['Boumdeid (2011)', 'Valid', 'L6', 3599.0, 'Fell', '2011-01-01T00:00:00.000', 17.17493, -11.34133, {'type': 'Point', 'coordinates': [-11.34133, 17.17493]}, nan, nan], 5121: ['Bovedy', 'Valid', 'L3', 5460.0, 'Fell', '1969-01-01T00:00:00.000', 54.56667, -6.33333, {'type': 'Point', 'coordinates': [-6.33333, 54.56667]}, nan, nan], 5128: ['Bradford Woods', 'Valid', 'L', 762.0, 'Fell', '1886-01-01T00:00:00.000', 40.5, -80.08333, {'type': 'Point', 'coordinates': [-80.08333, 40.5]}, 48.0, 2455.0], 5133: ['Braunau', 'Valid', 'Iron, IIAB', 39000.0, 'Fell', '1847-01-01T00:00:00.000', 50.6, 16.3, {'type': 'Point', 'coordinates': [16.3, 50.6]}, nan, nan], 5134: ['Breitscheid', 'Valid', 'H5', 1500.0, 'Fell', '1956-01-01T00:00:00.000', 50.66694, 8.18361, {'type': 'Point', 'coordinates': [8.18361, 50.66694]}, nan, nan], 5135: ['Bremervörde', 'Valid', 'H/L3.9', 7250.0, 'Fell', '1855-01-01T00:00:00.000', 53.4, 9.1, {'type': 'Point', 'coordinates': [9.1, 53.4]}, nan, nan], 5140: ['Brient', 'Valid', 'Eucrite-pmict', 219.0, 'Fell', '1933-01-01T00:00:00.000', 52.13333, 59.31667, {'type': 'Point', 'coordinates': [59.31667, 52.13333]}, nan, nan], 5156: ['Bruderheim', 'Valid', 'L6', 303000.0, 'Fell', '1960-01-01T00:00:00.000', 53.9, -112.88333, {'type': 'Point', 'coordinates': [-112.88333, 53.9]}, nan, nan], 30448: ['Bukhara', 'Valid', 'CV3', 5300.0, 'Fell', '2001-01-01T00:00:00.000', 39.77978, 64.60035, {'type': 'Point', 'coordinates': [64.60035, 39.77978]}, nan, nan], 5163: ['Bulls Run', 'Valid', 'Iron?', 2250.0, 'Fell', '1964-01-01T00:00:00.000', nan, nan, nan, nan, nan], 48653: ['Bunburra Rockhole', 'Valid', 'Eucrite', 324.0, 'Fell', '2007-01-01T00:00:00.000', -31.35, 129.19, {'type': 'Point', 'coordinates': [129.19, -31.35]}, nan, nan], 5165: ['Bununu', 'Valid', 'Howardite', 357.0, 'Fell', '1942-01-01T00:00:00.000', 10.01667, 9.58333, {'type': 'Point', 'coordinates': [9.58333, 10.01667]}, nan, nan], 5169: ['Bur-Gheluai', 'Valid', 'H5', 120000.0, 'Fell', '1919-01-01T00:00:00.000', 5.0, 48.0, {'type': 'Point', 'coordinates': [48, 5]}, nan, nan], 5175: ['Burnwell', 'Valid', 'H4-an', 1504.0, 'Fell', '1990-01-01T00:00:00.000', 37.62194, -82.23722, {'type': 'Point', 'coordinates': [-82.23722, 37.62194]}, 36.0, 256.0], 5177: ['Bursa', 'Valid', 'L6', 25000.0, 'Fell', '1946-01-01T00:00:00.000', 40.2, 29.23333, {'type': 'Point', 'coordinates': [29.23333, 40.2]}, nan, nan], 5178: ['Buschhof', 'Valid', 'L6', 5000.0, 'Fell', '1863-01-01T00:00:00.000', 46.45, 25.78333, {'type': 'Point', 'coordinates': [25.78333, 46.45]}, nan, nan], 5181: ['Bustee', 'Valid', 'Aubrite', 1500.0, 'Fell', '1852-01-01T00:00:00.000', 26.78333, 82.83333, {'type': 'Point', 'coordinates': [82.83333, 26.78333]}, nan, nan], 5183: ['Butsura', 'Valid', 'H6', 29000.0, 'Fell', '1861-01-01T00:00:00.000', 27.08333, 84.08333, {'type': 'Point', 'coordinates': [84.08333, 27.08333]}, nan, nan], 48654: ['Buzzard Coulee', 'Valid', 'H4', 41000.0, 'Fell', '2008-01-01T00:00:00.000', 52.996, -109.84817, {'type': 'Point', 'coordinates': [-109.84817, 52.996]}, nan, nan], 5185: ['Cabezo de Mayo', 'Valid', 'L/LL6', 25000.0, 'Fell', '1870-01-01T00:00:00.000', 37.98333, -1.16667, {'type': 'Point', 'coordinates': [-1.16667, 37.98333]}, nan, nan], 5186: ['Cabin Creek', 'Valid', 'Iron, IIIAB', 48500.0, 'Fell', '1886-01-01T00:00:00.000', 35.5, -93.5, {'type': 'Point', 'coordinates': [-93.5, 35.5]}, 15.0, 1029.0], 5187: ['Cacak', 'Valid', 'OC', 212.0, 'Fell', '1919-01-01T00:00:00.000', 43.83889, 20.33333, {'type': 'Point', 'coordinates': [20.33333, 43.83889]}, nan, nan], 45976: ['Cali', 'Valid', 'H/L4', 478.0, 'Fell', '2007-01-01T00:00:00.000', 3.405, -76.51, {'type': 'Point', 'coordinates': [-76.51, 3.4050000000000002]}, nan, nan], 5200: ['Calivo', 'Valid', 'Stone-uncl', 2400.0, 'Fell', '1916-01-01T00:00:00.000', 11.75, 122.33333, {'type': 'Point', 'coordinates': [122.33333, 11.75]}, nan, nan], 5249: ['Campos Sales', 'Valid', 'L5', 23680.0, 'Fell', '1991-01-01T00:00:00.000', -7.03333, -40.16667, {'type': 'Point', 'coordinates': [-40.16667, -7.03333]}, nan, nan], 5250: ['Çanakkale', 'Valid', 'L6', 4000.0, 'Fell', '1964-01-01T00:00:00.000', 39.8, 26.6, {'type': 'Point', 'coordinates': [26.6, 39.8]}, nan, nan], 5251: ['Cañellas', 'Valid', 'H4', 945.0, 'Fell', '1861-01-01T00:00:00.000', 41.25, 1.66667, {'type': 'Point', 'coordinates': [1.66667, 41.25]}, nan, nan], 5252: ['Cangas de Onis', 'Valid', 'H5', 34000.0, 'Fell', '1866-01-01T00:00:00.000', 43.38333, -5.15, {'type': 'Point', 'coordinates': [-5.15, 43.38333]}, nan, nan], 5253: ['Canon City', 'Valid', 'H6', 1400.0, 'Fell', '1973-01-01T00:00:00.000', 38.47028, -105.24139, {'type': 'Point', 'coordinates': [-105.24139, 38.47028]}, 9.0, 1448.0], 5260: ['Cape Girardeau', 'Valid', 'H6', 2300.0, 'Fell', '1846-01-01T00:00:00.000', 37.26667, -89.58333, {'type': 'Point', 'coordinates': [-89.58333, 37.26667]}, 18.0, 2695.0], 5264: ['Capilla del Monte', 'Valid', 'H6', 750.0, 'Fell', '1934-01-01T00:00:00.000', -30.88333, -64.55, {'type': 'Point', 'coordinates': [-64.55, -30.88333]}, nan, nan], 45817: ['Carancas', 'Valid', 'H4-5', 342.0, 'Fell', '2007-01-01T00:00:00.000', -16.66444, -69.04389, {'type': 'Point', 'coordinates': [-69.04389, -16.66444]}, nan, nan], 5265: ['Caratash', 'Valid', 'LL6', 8.0, 'Fell', '1902-01-01T00:00:00.000', 38.5, 27.0, {'type': 'Point', 'coordinates': [27, 38.5]}, nan, nan], 5291: ['Castalia', 'Valid', 'H5', 7300.0, 'Fell', '1874-01-01T00:00:00.000', 36.08333, -78.06667, {'type': 'Point', 'coordinates': [-78.06667, 36.08333]}, 37.0, 648.0], 5292: ['Castel Berardenga', 'Valid', 'Stone-uncl', nan, 'Fell', '1791-01-01T00:00:00.000', 43.35, 11.5, {'type': 'Point', 'coordinates': [11.5, 43.35]}, nan, nan], 5293: ['Castine', 'Valid', 'L6', 94.0, 'Fell', '1848-01-01T00:00:00.000', 44.38333, -68.75, {'type': 'Point', 'coordinates': [-68.75, 44.38333]}, 49.0, 414.0], 5295: ['Castrovillari', 'Valid', 'Stone-uncl', 15000.0, 'Fell', '1583-01-01T00:00:00.000', 39.8, 16.2, {'type': 'Point', 'coordinates': [16.2, 39.8]}, nan, nan], 5296: ['Caswell County', 'Valid', 'OC', 1360.0, 'Fell', '1810-01-01T00:00:00.000', 36.5, -79.25, {'type': 'Point', 'coordinates': [-79.25, 36.5]}, 37.0, 637.0], 5306: ['Ceniceros', 'Valid', 'L3.7', 1025.0, 'Fell', '1988-01-01T00:00:00.000', 26.46667, -105.23333, {'type': 'Point', 'coordinates': [-105.23333, 26.46667]}, nan, nan], 5307: ['Centerville', 'Valid', 'H5', 45.6, 'Fell', '1956-01-01T00:00:00.000', 43.2, -96.91667, {'type': 'Point', 'coordinates': [-96.91667, 43.2]}, 21.0, 2684.0], 5308: ['Cereseto', 'Valid', 'H5', 6460.0, 'Fell', '1840-01-01T00:00:00.000', 45.08333, 8.3, {'type': 'Point', 'coordinates': [8.3, 45.08333]}, nan, nan], 5313: ['Chadong', 'Valid', 'L6', 3700.0, 'Fell', '1998-01-01T00:00:00.000', 28.53333, 109.31667, {'type': 'Point', 'coordinates': [109.31667, 28.53333]}, nan, nan], 5314: ['Chail', 'Valid', 'H6', 0.5, 'Fell', '1814-01-01T00:00:00.000', 25.36667, 81.66667, {'type': 'Point', 'coordinates': [81.66667, 25.36667]}, nan, nan], 5315: ['Chainpur', 'Valid', 'LL3.4', 8200.0, 'Fell', '1907-01-01T00:00:00.000', 25.85, 83.48333, {'type': 'Point', 'coordinates': [83.48333, 25.85]}, nan, nan], 5316: ['Chajari', 'Valid', 'L5', 18300.0, 'Fell', '1933-01-01T00:00:00.000', -30.78333, -58.05, {'type': 'Point', 'coordinates': [-58.05, -30.78333]}, nan, nan], 5320: ['Chandakapur', 'Valid', 'L5', 8800.0, 'Fell', '1838-01-01T00:00:00.000', 20.26667, 76.01667, {'type': 'Point', 'coordinates': [76.01667, 20.26667]}, nan, nan], 5321: ['Chandpur', 'Valid', 'L6', 1100.0, 'Fell', '1885-01-01T00:00:00.000', 27.28333, 79.05, {'type': 'Point', 'coordinates': [79.05, 27.28333]}, nan, nan], 5322: ['Changde', 'Valid', 'H5', 1810.0, 'Fell', '1977-01-01T00:00:00.000', 29.08333, 111.75, {'type': 'Point', 'coordinates': [111.75, 29.08333]}, nan, nan], 5325: ['Chantonnay', 'Valid', 'L6', 31500.0, 'Fell', '1812-01-01T00:00:00.000', 46.68333, 1.05, {'type': 'Point', 'coordinates': [1.05, 46.68333]}, nan, nan], 5328: ['Charlotte', 'Valid', 'Iron, IVA', 4300.0, 'Fell', '1835-01-01T00:00:00.000', 36.16667, -87.33333, {'type': 'Point', 'coordinates': [-87.33333, 36.16667]}, 39.0, 2007.0], 5329: ['Charsonville', 'Valid', 'H6', 27000.0, 'Fell', '1810-01-01T00:00:00.000', 47.93333, 1.56667, {'type': 'Point', 'coordinates': [1.56667, 47.93333]}, nan, nan], 5330: ['Charwallas', 'Valid', 'H6', 12000.0, 'Fell', '1834-01-01T00:00:00.000', 29.48333, 75.5, {'type': 'Point', 'coordinates': [75.5, 29.48333]}, nan, nan], 5331: ['Chassigny', 'Valid', 'Martian (chassignite)', 4000.0, 'Fell', '1815-01-01T00:00:00.000', 47.71667, 5.36667, {'type': 'Point', 'coordinates': [5.36667, 47.71667]}, nan, nan], 5332: ['Château-Renard', 'Valid', 'L6', 30000.0, 'Fell', '1841-01-01T00:00:00.000', 47.93333, 2.91667, {'type': 'Point', 'coordinates': [2.91667, 47.93333]}, nan, nan], 5334: ['Chaves', 'Valid', 'Howardite', 2945.0, 'Fell', '1925-01-01T00:00:00.000', 41.93333, -7.46667, {'type': 'Point', 'coordinates': [-7.46667, 41.93333]}, nan, nan], 5338: ['Chela', 'Valid', 'H4', 2936.0, 'Fell', '1988-01-01T00:00:00.000', -3.66667, 32.5, {'type': 'Point', 'coordinates': [32.5, -3.66667]}, nan, nan], 57165: ['Chelyabinsk', 'Valid', 'LL5', 100000.0, 'Fell', '2013-01-01T00:00:00.000', 54.81667, 61.11667, {'type': 'Point', 'coordinates': [61.11667, 54.81667]}, nan, nan], 47347: ['Chergach ', 'Valid', 'H5', 100000.0, 'Fell', '2007-01-01T00:00:00.000', 23.69639, -5.01472, {'type': 'Point', 'coordinates': [-5.01472, 23.69639]}, nan, nan], 5339: ['Chernyi Bor', 'Valid', 'H4', 6000.0, 'Fell', '1964-01-01T00:00:00.000', 53.7, 30.1, {'type': 'Point', 'coordinates': [30.1, 53.7]}, nan, nan], 5340: ['Cherokee Springs', 'Valid', 'LL6', 8400.0, 'Fell', '1933-01-01T00:00:00.000', 35.03333, -81.88333, {'type': 'Point', 'coordinates': [-81.88333, 35.03333]}, 33.0, 2582.0], 5341: ['Chervettaz', 'Valid', 'L5', 705.0, 'Fell', '1901-01-01T00:00:00.000', 46.55, 6.81667, {'type': 'Point', 'coordinates': [6.81667, 46.55]}, nan, nan], 5342: ['Chervony Kut', 'Valid', 'Eucrite-mmict', 1700.0, 'Fell', '1939-01-01T00:00:00.000', 50.83333, 34.0, {'type': 'Point', 'coordinates': [34, 50.83333]}, nan, nan], 5344: ['Chetrinahatti', 'Valid', 'Stone-uncl', 72.0, 'Fell', '1880-01-01T00:00:00.000', 14.5, 76.5, {'type': 'Point', 'coordinates': [76.5, 14.5]}, nan, nan], 5345: ['Chiang Khan', 'Valid', 'H6', 367.0, 'Fell', '1981-01-01T00:00:00.000', 17.9, 101.63333, {'type': 'Point', 'coordinates': [101.63333, 17.9]}, nan, nan], 5349: ['Chicora', 'Valid', 'LL6', 303.0, 'Fell', '1938-01-01T00:00:00.000', 40.93333, -79.73333, {'type': 'Point', 'coordinates': [-79.73333, 40.93333]}, 48.0, 2459.0], 5355: ['Chisenga', 'Valid', 'Iron, IIIAB', 3920.0, 'Fell', '1988-01-01T00:00:00.000', -10.05944, 33.395, {'type': 'Point', 'coordinates': [33.395, -10.05944]}, nan, nan], 5356: ['Chitado', 'Valid', 'L6', nan, 'Fell', '1966-01-01T00:00:00.000', -17.35, 13.96667, {'type': 'Point', 'coordinates': [13.96667, -17.35]}, nan, nan], 5357: ['Chitenay', 'Valid', 'L6', 4000.0, 'Fell', '1978-01-01T00:00:00.000', 47.47083, 0.97667, {'type': 'Point', 'coordinates': [0.97667, 47.47083]}, nan, nan], 5364: ['Cilimus', 'Valid', 'L5', 1600.0, 'Fell', '1979-01-01T00:00:00.000', -6.95, 108.1, {'type': 'Point', 'coordinates': [108.1, -6.95]}, nan, nan], 5374: ['Claxton', 'Valid', 'L6', 1455.0, 'Fell', '1984-01-01T00:00:00.000', 32.1025, -81.87278, {'type': 'Point', 'coordinates': [-81.87278, 32.1025]}, 31.0, 67.0], 5383: ['Clohars', 'Valid', 'L4', 48.6, 'Fell', '1822-01-01T00:00:00.000', nan, nan, nan, nan, nan], 5395: ['Colby (Wisconsin)', 'Valid', 'L6', 104000.0, 'Fell', '1917-01-01T00:00:00.000', 44.9, -90.28333, {'type': 'Point', 'coordinates': [-90.28333, 44.9]}, 41.0, 877.0], 5397: ['Cold Bokkeveld', 'Valid', 'CM2', 5200.0, 'Fell', '1838-01-01T00:00:00.000', -33.13333, 19.38333, {'type': 'Point', 'coordinates': [19.38333, -33.13333]}, nan, nan], 5401: ['Coleman', 'Valid', 'L6', 469.0, 'Fell', '1994-01-01T00:00:00.000', 43.76111, -84.50778, {'type': 'Point', 'coordinates': [-84.50778, 43.76111]}, 50.0, 356.0], 5403: ['Collescipoli', 'Valid', 'H5', 5000.0, 'Fell', '1890-01-01T00:00:00.000', 42.53333, 12.61667, {'type': 'Point', 'coordinates': [12.61667, 42.53333]}, nan, nan], 5418: ['Conquista', 'Valid', 'H4', 20350.0, 'Fell', '1965-01-01T00:00:00.000', -19.85, -47.55, {'type': 'Point', 'coordinates': [-47.55, -19.85]}, nan, nan], 5451: ['Cosina', 'Valid', 'H5', 1200.0, 'Fell', '1844-01-01T00:00:00.000', 21.16667, -100.86667, {'type': 'Point', 'coordinates': [-100.86667, 21.16667]}, nan, nan], 5465: ['Cranganore', 'Valid', 'L6', 1460.0, 'Fell', '1917-01-01T00:00:00.000', 10.2, 76.26667, {'type': 'Point', 'coordinates': [76.26667, 10.2]}, nan, nan], 5470: ['Crescent', 'Valid', 'CM2', 78.4, 'Fell', '1936-01-01T00:00:00.000', 35.95, -97.58333, {'type': 'Point', 'coordinates': [-97.58333, 35.95]}, 20.0, 2201.0], 5474: ['Cronstad', 'Valid', 'H5', 3650.0, 'Fell', '1877-01-01T00:00:00.000', -27.7, 27.3, {'type': 'Point', 'coordinates': [27.3, -27.7]}, nan, nan], 5476: ['Cross Roads', 'Valid', 'H5', 167.0, 'Fell', '1892-01-01T00:00:00.000', 35.63333, -78.13333, {'type': 'Point', 'coordinates': [-78.13333, 35.63333]}, 37.0, 2332.0], 5477: ['Crumlin', 'Valid', 'L5', 4255.0, 'Fell', '1902-01-01T00:00:00.000', 54.61667, -6.21667, {'type': 'Point', 'coordinates': [-6.21667, 54.61667]}, nan, nan], 5496: ['Cumberland Falls', 'Valid', 'Aubrite', 17000.0, 'Fell', '1919-01-01T00:00:00.000', 36.83333, -84.35, {'type': 'Point', 'coordinates': [-84.35, 36.83333]}, 36.0, 1426.0], 5500: ['Cynthiana', 'Valid', 'L/LL4', 6000.0, 'Fell', '1877-01-01T00:00:00.000', 38.4, -84.25, {'type': 'Point', 'coordinates': [-84.25, 38.4]}, 36.0, 244.0], 5504: ['Dahmani', 'Valid', 'LL6', 18000.0, 'Fell', '1981-01-01T00:00:00.000', 35.61667, 8.83333, {'type': 'Point', 'coordinates': [8.83333, 35.61667]}, nan, nan], 5511: ['Dandapur', 'Valid', 'L6', 5650.0, 'Fell', '1878-01-01T00:00:00.000', 26.91667, 83.96667, {'type': 'Point', 'coordinates': [83.96667, 26.91667]}, nan, nan], 5513: [\"Daniel's Kuil\", 'Valid', 'EL6', 1064.0, 'Fell', '1868-01-01T00:00:00.000', -28.2, 24.56667, {'type': 'Point', 'coordinates': [24.56667, -28.2]}, nan, nan], 5514: ['Danville', 'Valid', 'L6', 2000.0, 'Fell', '1868-01-01T00:00:00.000', 34.4, -87.06667, {'type': 'Point', 'coordinates': [-87.06667, 34.4]}, 29.0, 103.0], 6603: ['Darmstadt', 'Valid', 'H5', 100.0, 'Fell', '1804-01-01T00:00:00.000', 49.86667, 8.65, {'type': 'Point', 'coordinates': [8.65, 49.86667]}, nan, nan], 6604: ['Dashoguz', 'Valid', 'H5', 7000.0, 'Fell', '1998-01-01T00:00:00.000', 41.98444, 59.685, {'type': 'Point', 'coordinates': [59.685, 41.98444]}, nan, nan], 51559: ['Daule', 'Valid', 'L5', 6580.0, 'Fell', '2008-01-01T00:00:00.000', -1.87089, -79.95756, {'type': 'Point', 'coordinates': [-79.95756, -1.8708900000000002]}, nan, nan], 6621: ['De Cewsville', 'Valid', 'H6', 340.0, 'Fell', '1887-01-01T00:00:00.000', 43.0, -80.0, {'type': 'Point', 'coordinates': [-80, 43]}, nan, nan], 6634: ['Deal', 'Valid', 'L6', 28.0, 'Fell', '1829-01-01T00:00:00.000', 40.25, -74.0, {'type': 'Point', 'coordinates': [-74, 40.25]}, nan, 2491.0], 6642: ['Delhi', 'Valid', 'L5', 0.8, 'Fell', '1897-01-01T00:00:00.000', 28.56667, 77.25, {'type': 'Point', 'coordinates': [77.25, 28.56667]}, nan, nan], 6649: ['Demina', 'Valid', 'L6', 16400.0, 'Fell', '1911-01-01T00:00:00.000', 51.46667, 84.76667, {'type': 'Point', 'coordinates': [84.76667, 51.46667]}, nan, nan], 6660: ['Denver', 'Valid', 'L6', 230.0, 'Fell', '1967-01-01T00:00:00.000', 39.7825, -104.93056, {'type': 'Point', 'coordinates': [-104.93056, 39.7825]}, 9.0, 1444.0], 6664: ['Dergaon', 'Valid', 'H5', 12500.0, 'Fell', '2001-01-01T00:00:00.000', 26.68333, 93.86667, {'type': 'Point', 'coordinates': [93.86667, 26.68333]}, nan, nan], 6693: ['Desuri', 'Valid', 'H6', 25400.0, 'Fell', '1962-01-01T00:00:00.000', 25.73333, 73.61667, {'type': 'Point', 'coordinates': [73.61667, 25.73333]}, nan, nan], 6694: ['Devgaon', 'Valid', 'H3.8', 12000.0, 'Fell', '2001-01-01T00:00:00.000', 19.0, 81.0, {'type': 'Point', 'coordinates': [81, 19]}, nan, nan], 6696: ['Devri-Khera', 'Valid', 'L6', 1140.0, 'Fell', '1994-01-01T00:00:00.000', 24.225, 76.525, {'type': 'Point', 'coordinates': [76.525, 24.225]}, nan, nan], 6698: ['Dhajala', 'Valid', 'H3.8', 45000.0, 'Fell', '1976-01-01T00:00:00.000', 22.37778, 71.42722, {'type': 'Point', 'coordinates': [71.42722, 22.37778]}, nan, nan], 6699: ['Dharwar', 'Valid', 'OC', 1800.0, 'Fell', '1848-01-01T00:00:00.000', 14.88333, 75.6, {'type': 'Point', 'coordinates': [75.6, 14.88333]}, nan, nan], 7640: ['Dhurmsala', 'Valid', 'LL6', 32000.0, 'Fell', '1860-01-01T00:00:00.000', 32.23333, 76.46667, {'type': 'Point', 'coordinates': [76.46667, 32.23333]}, nan, nan], 47350: ['Didim', 'Valid', 'H3-5', 3396.0, 'Fell', '2007-01-01T00:00:00.000', 37.35172, 27.32997, {'type': 'Point', 'coordinates': [27.32997, 37.35172]}, nan, nan], 7642: ['Diep River', 'Valid', 'L6', 1000.0, 'Fell', '1906-01-01T00:00:00.000', -33.75, 18.56667, {'type': 'Point', 'coordinates': [18.56667, -33.75]}, nan, nan], 7649: ['Distrito Quebracho', 'Valid', 'H4', 400.0, 'Fell', '1957-01-01T00:00:00.000', -31.88333, -60.46667, {'type': 'Point', 'coordinates': [-60.46667, -31.88333]}, nan, nan], 7652: ['Djati-Pengilon', 'Valid', 'H6', 166000.0, 'Fell', '1884-01-01T00:00:00.000', -7.5, 111.5, {'type': 'Point', 'coordinates': [111.5, -7.5]}, nan, nan], 7656: ['Djermaia', 'Valid', 'H', 3950.0, 'Fell', '1961-01-01T00:00:00.000', 12.73333, 15.05, {'type': 'Point', 'coordinates': [15.05, 12.73333]}, nan, nan], 7657: ['Djoumine', 'Valid', 'H5-6', 10000.0, 'Fell', '1999-01-01T00:00:00.000', 36.95, 9.55, {'type': 'Point', 'coordinates': [9.55, 36.95]}, nan, nan], 7658: ['Dokachi', 'Valid', 'H5', 3840.0, 'Fell', '1903-01-01T00:00:00.000', 23.5, 90.33333, {'type': 'Point', 'coordinates': [90.33333, 23.5]}, nan, nan], 7659: ['Dolgovoli', 'Valid', 'L6', 1600.0, 'Fell', '1864-01-01T00:00:00.000', 50.75, 25.3, {'type': 'Point', 'coordinates': [25.3, 50.75]}, nan, nan], 7661: ['Domanitch', 'Valid', 'L5', 438.0, 'Fell', '1907-01-01T00:00:00.000', 40.0, 29.0, {'type': 'Point', 'coordinates': [29, 40]}, nan, nan], 7706: ['Dong Ujimqin Qi', 'Valid', 'Mesosiderite', 128800.0, 'Fell', '1995-01-01T00:00:00.000', 45.5, 119.03333, {'type': 'Point', 'coordinates': [119.03333, 45.5]}, nan, nan], 7707: ['Donga Kohrod', 'Valid', 'H6', 230.0, 'Fell', '1899-01-01T00:00:00.000', 21.86667, 82.45, {'type': 'Point', 'coordinates': [82.45, 21.86667]}, nan, nan], 7708: ['Dongtai', 'Valid', 'LL6', 5500.0, 'Fell', '1970-01-01T00:00:00.000', 32.91667, 120.78333, {'type': 'Point', 'coordinates': [120.78333, 32.91667]}, nan, nan], 7718: ['Doroninsk', 'Valid', 'H5-7', 3891.0, 'Fell', '1805-01-01T00:00:00.000', 51.2, 112.3, {'type': 'Point', 'coordinates': [112.3, 51.2]}, nan, nan], 7722: ['Dosso', 'Valid', 'L6', 1250.0, 'Fell', '1962-01-01T00:00:00.000', 13.05, 3.16667, {'type': 'Point', 'coordinates': [3.16667, 13.05]}, nan, nan], 7723: ['Douar Mghila', 'Valid', 'LL6', 1161.0, 'Fell', '1932-01-01T00:00:00.000', 32.33333, -6.3, {'type': 'Point', 'coordinates': [-6.3, 32.33333]}, nan, nan], 7725: ['Dowa', 'Valid', 'Stone-uncl', 642.0, 'Fell', '1976-01-01T00:00:00.000', -13.66667, 33.91667, {'type': 'Point', 'coordinates': [33.91667, -13.66667]}, nan, nan], 7728: ['Drake Creek', 'Valid', 'L6', 5000.0, 'Fell', '1827-01-01T00:00:00.000', 36.4, -86.5, {'type': 'Point', 'coordinates': [-86.5, 36.4]}, 39.0, 2115.0], 7731: ['Dresden (Ontario)', 'Valid', 'H6', 47700.0, 'Fell', '1939-01-01T00:00:00.000', 42.52, -82.26, {'type': 'Point', 'coordinates': [-82.26, 42.52]}, nan, nan], 7736: ['Dubrovnik', 'Valid', 'L3-6', 1900.0, 'Fell', '1951-01-01T00:00:00.000', 42.45833, 18.44167, {'type': 'Point', 'coordinates': [18.44167, 42.45833]}, nan, nan], 7743: ['Dunbogan', 'Valid', 'L6', 30.0, 'Fell', '1999-01-01T00:00:00.000', -31.66667, 152.83333, {'type': 'Point', 'coordinates': [152.83333, -31.66667]}, nan, nan], 7745: ['Dundrum', 'Valid', 'H5', 2270.0, 'Fell', '1865-01-01T00:00:00.000', 52.55, -8.03333, {'type': 'Point', 'coordinates': [-8.03333, 52.55]}, nan, nan], 7749: ['Dunhua', 'Valid', 'Stone-uncl', nan, 'Fell', '1976-01-01T00:00:00.000', 43.33333, 128.25, {'type': 'Point', 'coordinates': [128.25, 43.33333]}, nan, nan], 7750: ['Durala', 'Valid', 'L6', 13200.0, 'Fell', '1815-01-01T00:00:00.000', 30.3, 76.63333, {'type': 'Point', 'coordinates': [76.63333, 30.3]}, nan, nan], 7752: ['Duruma', 'Valid', 'L6', 577.0, 'Fell', '1853-01-01T00:00:00.000', -4.0, 39.5, {'type': 'Point', 'coordinates': [39.5, -4]}, nan, nan], 7754: ['Duwun', 'Valid', 'L6', 2117.0, 'Fell', '1943-01-01T00:00:00.000', 33.43333, 127.26667, {'type': 'Point', 'coordinates': [127.26667, 33.43333]}, nan, nan], 7755: ['Dwaleni', 'Valid', 'H4-6', 3230.0, 'Fell', '1970-01-01T00:00:00.000', -27.2, 31.31667, {'type': 'Point', 'coordinates': [31.31667, -27.2]}, nan, nan], 7757: ['Dyalpur', 'Valid', 'Ureilite', 300.0, 'Fell', '1872-01-01T00:00:00.000', 26.25, 82.0, {'type': 'Point', 'coordinates': [82, 26.25]}, nan, nan], 7758: ['Dyarrl Island', 'Valid', 'Mesosiderite-A1', 188.0, 'Fell', '1933-01-01T00:00:00.000', -3.0, 151.0, {'type': 'Point', 'coordinates': [151, -3]}, nan, nan], 7760: ['Eagle', 'Valid', 'EL6', 10000.0, 'Fell', '1947-01-01T00:00:00.000', 40.78167, -96.47167, {'type': 'Point', 'coordinates': [-96.47167, 40.78167]}, 19.0, 462.0], 7774: ['Ehole', 'Valid', 'H5', 2400.0, 'Fell', '1961-01-01T00:00:00.000', -17.3, 15.83333, {'type': 'Point', 'coordinates': [15.83333, -17.3]}, nan, nan], 7775: ['Eichstädt', 'Valid', 'H5', 3000.0, 'Fell', '1785-01-01T00:00:00.000', 48.9, 11.21667, {'type': 'Point', 'coordinates': [11.21667, 48.9]}, nan, nan], 7776: ['Ekeby', 'Valid', 'H4', 3336.0, 'Fell', '1939-01-01T00:00:00.000', 56.03333, 13.0, {'type': 'Point', 'coordinates': [13, 56.03333]}, nan, nan], 7777: ['Ekh Khera', 'Valid', 'H6', 840.0, 'Fell', '1916-01-01T00:00:00.000', 28.26667, 78.78333, {'type': 'Point', 'coordinates': [78.78333, 28.26667]}, nan, nan], 7807: ['El Idrissia', 'Valid', 'L6', 10000.0, 'Fell', '1989-01-01T00:00:00.000', 34.41667, 3.25, {'type': 'Point', 'coordinates': [3.25, 34.41667]}, nan, nan], 45977: ['El Paso de Aguila', 'Valid', 'H5', 17226.0, 'Fell', '1977-01-01T00:00:00.000', 25.37, -97.37, {'type': 'Point', 'coordinates': [-97.37, 25.37]}, nan, nan], 7819: ['El Tigre', 'Valid', 'L6', 5000.0, 'Fell', '1993-01-01T00:00:00.000', 19.96722, -103.05167, {'type': 'Point', 'coordinates': [-103.05167, 19.96722]}, nan, nan], 7822: ['Elbert', 'Valid', 'LL6', 680.5, 'Fell', '1998-01-01T00:00:00.000', 39.24667, -104.58817, {'type': 'Point', 'coordinates': [-104.58817, 39.24667]}, 9.0, 88.0], 7823: ['Elbogen', 'Valid', 'Iron, IID', 107000.0, 'Fell', '1400-01-01T00:00:00.000', 50.18333, 12.73333, {'type': 'Point', 'coordinates': [12.73333, 50.18333]}, nan, nan], 7824: ['Elenovka', 'Valid', 'L5', 54640.0, 'Fell', '1951-01-01T00:00:00.000', 47.83333, 37.66667, {'type': 'Point', 'coordinates': [37.66667, 47.83333]}, nan, nan], 10019: ['Ellemeet', 'Valid', 'Diogenite', 1470.0, 'Fell', '1925-01-01T00:00:00.000', 51.75, 4.0, {'type': 'Point', 'coordinates': [4, 51.75]}, nan, nan], 10033: ['Emmaville', 'Valid', 'Eucrite-mmict', 127.0, 'Fell', '1900-01-01T00:00:00.000', -29.46667, 151.61667, {'type': 'Point', 'coordinates': [151.61667, -29.46667]}, nan, nan], 10038: ['Enshi', 'Valid', 'H5', 8000.0, 'Fell', '1974-01-01T00:00:00.000', 30.3, 109.5, {'type': 'Point', 'coordinates': [109.5, 30.3]}, nan, nan], 10039: ['Ensisheim', 'Valid', 'LL6', 127000.0, 'Fell', '1492-01-01T00:00:00.000', 47.86667, 7.35, {'type': 'Point', 'coordinates': [7.35, 47.86667]}, nan, nan], 10041: ['Épinal', 'Valid', 'H5', 277.0, 'Fell', '1822-01-01T00:00:00.000', 48.18333, 6.46667, {'type': 'Point', 'coordinates': [6.46667, 48.18333]}, nan, nan], 10042: ['Erakot', 'Valid', 'CM2', 113.0, 'Fell', '1940-01-01T00:00:00.000', 19.03333, 81.89167, {'type': 'Point', 'coordinates': [81.89167, 19.03333]}, nan, nan], 10043: ['Erevan', 'Valid', 'Howardite', 107.2, 'Fell', '1911-01-01T00:00:00.000', 40.3, 44.5, {'type': 'Point', 'coordinates': [44.5, 40.3]}, nan, nan], 10044: ['Ergheo', 'Valid', 'L5', 20000.0, 'Fell', '1889-01-01T00:00:00.000', 1.16667, 44.16667, {'type': 'Point', 'coordinates': [44.16667, 1.16667]}, nan, nan], 10049: ['Erxleben', 'Valid', 'H6', 2250.0, 'Fell', '1812-01-01T00:00:00.000', 52.21667, 11.25, {'type': 'Point', 'coordinates': [11.25, 52.21667]}, nan, nan], 10051: ['Esnandes', 'Valid', 'L6', 1500.0, 'Fell', '1837-01-01T00:00:00.000', 46.25, -1.1, {'type': 'Point', 'coordinates': [-1.1, 46.25]}, nan, nan], 10055: ['Essebi', 'Valid', 'C2-ung', 500.0, 'Fell', '1957-01-01T00:00:00.000', 2.88333, 30.83333, {'type': 'Point', 'coordinates': [30.83333, 2.88333]}, nan, nan], 10059: ['Estherville', 'Valid', 'Mesosiderite-A3/4', 320000.0, 'Fell', '1879-01-01T00:00:00.000', 43.41667, -94.83333, {'type': 'Point', 'coordinates': [-94.83333, 43.41667]}, 16.0, 277.0], 10074: ['Farmington', 'Valid', 'L5', 89400.0, 'Fell', '1890-01-01T00:00:00.000', 39.75, -97.03333, {'type': 'Point', 'coordinates': [-97.03333, 39.75]}, 17.0, 1300.0], 10075: ['Farmville', 'Valid', 'H4', 56000.0, 'Fell', '1934-01-01T00:00:00.000', 35.55, -77.53333, {'type': 'Point', 'coordinates': [-77.53333, 35.55]}, 37.0, 2439.0], 10078: ['Favars', 'Valid', 'H5', 1500.0, 'Fell', '1844-01-01T00:00:00.000', 44.38333, 2.81667, {'type': 'Point', 'coordinates': [2.8166700000000002, 44.38333]}, nan, nan], 10079: ['Fayetteville', 'Valid', 'H4', 2360.0, 'Fell', '1934-01-01T00:00:00.000', 36.05, -94.16667, {'type': 'Point', 'coordinates': [-94.16667, 36.05]}, 15.0, 70.0], 10080: ['Feid Chair', 'Valid', 'H4', 380.0, 'Fell', '1875-01-01T00:00:00.000', 36.88333, 8.45, {'type': 'Point', 'coordinates': [8.45, 36.88333]}, nan, nan], 10081: ['Felix', 'Valid', 'CO3.3', 3200.0, 'Fell', '1900-01-01T00:00:00.000', 32.53333, -87.16667, {'type': 'Point', 'coordinates': [-87.16667, 32.53333]}, 29.0, 1631.0], 10086: ['Fenghsien-Ku', 'Valid', 'H5', 82.0, 'Fell', '1924-01-01T00:00:00.000', 34.6, 116.75, {'type': 'Point', 'coordinates': [116.75, 34.6]}, nan, nan], 10088: ['Ferguson', 'Valid', 'OC', 220.0, 'Fell', '1889-01-01T00:00:00.000', 36.1, -81.41667, {'type': 'Point', 'coordinates': [-81.41667, 36.1]}, 37.0, 2331.0], 10091: ['Fermo', 'Valid', 'H3-5', 10200.0, 'Fell', '1996-01-01T00:00:00.000', 43.18111, 13.75333, {'type': 'Point', 'coordinates': [13.75333, 43.18111]}, nan, nan], 10107: ['Fisher', 'Valid', 'L6', 17600.0, 'Fell', '1894-01-01T00:00:00.000', 47.81667, -96.85, {'type': 'Point', 'coordinates': [-96.85, 47.81667]}, 1.0, 385.0], 10111: ['Florence', 'Valid', 'H3', 3640.0, 'Fell', '1922-01-01T00:00:00.000', 30.83333, -97.76667, {'type': 'Point', 'coordinates': [-97.76667, 30.83333]}, 23.0, 807.0], 10119: ['Forest City', 'Valid', 'H5', 152000.0, 'Fell', '1890-01-01T00:00:00.000', 43.25, -93.66667, {'type': 'Point', 'coordinates': [-93.66667, 43.25]}, 16.0, 1785.0], 10120: ['Forest Vale', 'Valid', 'H4', 26000.0, 'Fell', '1942-01-01T00:00:00.000', -33.35, 146.85833, {'type': 'Point', 'coordinates': [146.85833, -33.35]}, nan, nan], 10123: ['Forksville', 'Valid', 'L6', 6067.0, 'Fell', '1924-01-01T00:00:00.000', 36.78333, -78.08333, {'type': 'Point', 'coordinates': [-78.08333, 36.78333]}, 40.0, 2839.0], 10163: ['Forsbach', 'Valid', 'H6', 240.0, 'Fell', '1900-01-01T00:00:00.000', 50.95, 7.31667, {'type': 'Point', 'coordinates': [7.31667, 50.95]}, nan, nan], 10164: ['Forsyth', 'Valid', 'L6', 16300.0, 'Fell', '1829-01-01T00:00:00.000', 33.01667, -83.96667, {'type': 'Point', 'coordinates': [-83.96667, 33.01667]}, 31.0, 1470.0], 10166: ['Fort Flatters', 'Valid', 'Stone-uncl', nan, 'Fell', '1944-01-01T00:00:00.000', 28.25, 7.0, {'type': 'Point', 'coordinates': [7, 28.25]}, nan, nan], 10177: ['Frankfort (stone)', 'Valid', 'Howardite', 650.0, 'Fell', '1868-01-01T00:00:00.000', 34.48333, -87.83333, {'type': 'Point', 'coordinates': [-87.83333, 34.48333]}, 29.0, 99.0], 52412: ['Fuhe', 'Valid', 'L5', 23000.0, 'Fell', '1945-01-01T00:00:00.000', 31.47556, 113.56694, {'type': 'Point', 'coordinates': [113.56694, 31.47556]}, nan, nan], 10836: ['Fukutomi', 'Valid', 'L5', 11620.0, 'Fell', '1882-01-01T00:00:00.000', 33.18333, 130.2, {'type': 'Point', 'coordinates': [130.2, 33.18333]}, nan, nan], 10838: ['Fünen', 'Valid', 'Stone-uncl', nan, 'Fell', '1654-01-01T00:00:00.000', 55.33333, 10.33333, {'type': 'Point', 'coordinates': [10.33333, 55.33333]}, nan, nan], 10839: ['Futtehpur', 'Valid', 'L6', 4000.0, 'Fell', '1822-01-01T00:00:00.000', 25.95, 80.81667, {'type': 'Point', 'coordinates': [80.81667, 25.95]}, nan, nan], 10840: ['Fuyang', 'Valid', 'Stone-uncl', 2500.0, 'Fell', '1977-01-01T00:00:00.000', 32.9, 115.9, {'type': 'Point', 'coordinates': [115.9, 32.9]}, nan, nan], 10846: ['Galapian', 'Valid', 'H6', 132.7, 'Fell', '1826-01-01T00:00:00.000', 44.3, 0.4, {'type': 'Point', 'coordinates': [0.4, 44.3]}, nan, nan], 10848: ['Galim (a)', 'Valid', 'LL6', 36.1, 'Fell', '1952-01-01T00:00:00.000', 7.05, 12.43333, {'type': 'Point', 'coordinates': [12.43333, 7.05]}, nan, nan], 10849: ['Galim (b)', 'Valid', 'EH3/4-an', 28.0, 'Fell', '1952-01-01T00:00:00.000', 7.05, 12.43333, {'type': 'Point', 'coordinates': [12.43333, 7.05]}, nan, nan], 10850: ['Galkiv', 'Valid', 'H4', 5000.0, 'Fell', '1995-01-01T00:00:00.000', 51.68333, 30.78333, {'type': 'Point', 'coordinates': [30.78333, 51.68333]}, nan, nan], 10851: ['Gambat', 'Valid', 'L6', 6400.0, 'Fell', '1897-01-01T00:00:00.000', 27.35, 68.53333, {'type': 'Point', 'coordinates': [68.53333, 27.35]}, nan, nan], 10854: ['Gao-Guenie', 'Valid', 'H5', nan, 'Fell', '1960-01-01T00:00:00.000', 11.65, -2.18333, {'type': 'Point', 'coordinates': [-2.18333, 11.65]}, nan, nan], 10860: ['Garhi Yasin', 'Valid', 'Iron, IIE', 380.0, 'Fell', '1917-01-01T00:00:00.000', 27.88333, 68.53333, {'type': 'Point', 'coordinates': [68.53333, 27.88333]}, nan, nan], 10861: ['Garland', 'Valid', 'Diogenite-pm', 102.0, 'Fell', '1950-01-01T00:00:00.000', 41.68333, -112.13333, {'type': 'Point', 'coordinates': [-112.13333, 41.68333]}, 13.0, 2985.0], 44882: ['Gashua', 'Valid', 'L6', 4162.0, 'Fell', '1984-01-01T00:00:00.000', 12.85, 11.03333, {'type': 'Point', 'coordinates': [11.03333, 12.85]}, nan, nan], 10866: ['Gasseltepaoua', 'Valid', 'H5', nan, 'Fell', '2000-01-01T00:00:00.000', 14.15083, -2.04167, {'type': 'Point', 'coordinates': [-2.04167, 14.15083]}, nan, nan], 10870: ['Geidam', 'Valid', 'H5', 725.0, 'Fell', '1950-01-01T00:00:00.000', 12.91667, 11.91667, {'type': 'Point', 'coordinates': [11.91667, 12.91667]}, nan, nan], 10914: ['Gifu', 'Valid', 'L6', 14290.0, 'Fell', '1909-01-01T00:00:00.000', 35.53333, 136.88333, {'type': 'Point', 'coordinates': [136.88333, 35.53333]}, nan, nan], 10917: ['Girgenti', 'Valid', 'L6', 18000.0, 'Fell', '1853-01-01T00:00:00.000', 37.31667, 13.56667, {'type': 'Point', 'coordinates': [13.56667, 37.31667]}, nan, nan], 10919: ['Git-Git', 'Valid', 'L6', 480.0, 'Fell', '1947-01-01T00:00:00.000', 9.6, 9.91667, {'type': 'Point', 'coordinates': [9.91667, 9.6]}, nan, nan], 10923: ['Glanerbrug', 'Valid', 'L/LL5', 670.0, 'Fell', '1990-01-01T00:00:00.000', 52.2, 6.86667, {'type': 'Point', 'coordinates': [6.86667, 52.2]}, nan, nan], 10924: ['Glanggang', 'Valid', 'H5-6', 1303.0, 'Fell', '1939-01-01T00:00:00.000', -7.25, 107.7, {'type': 'Point', 'coordinates': [107.7, -7.25]}, nan, nan], 10926: ['Glasatovo', 'Valid', 'H4', 152000.0, 'Fell', '1918-01-01T00:00:00.000', 57.35, 37.61667, {'type': 'Point', 'coordinates': [37.61667, 57.35]}, nan, nan], 10930: ['Glatton', 'Valid', 'L6', 767.0, 'Fell', '1991-01-01T00:00:00.000', 52.45972, -0.3, {'type': 'Point', 'coordinates': [-0.30000000000000004, 52.45972]}, nan, nan], 10936: ['Gnadenfrei', 'Valid', 'H5', 1750.0, 'Fell', '1879-01-01T00:00:00.000', 50.66667, 16.76667, {'type': 'Point', 'coordinates': [16.76667, 50.66667]}, nan, nan], 10948: ['Gopalpur', 'Valid', 'H6', 1600.0, 'Fell', '1865-01-01T00:00:00.000', 24.23333, 89.05, {'type': 'Point', 'coordinates': [89.05, 24.23333]}, nan, nan], 10949: ['Gorlovka', 'Valid', 'H3.7', 3618.0, 'Fell', '1974-01-01T00:00:00.000', 48.28333, 38.08333, {'type': 'Point', 'coordinates': [38.08333, 48.28333]}, nan, nan], 10956: ['Granes', 'Valid', 'L6', 9000.0, 'Fell', '1964-01-01T00:00:00.000', 42.9, 2.25, {'type': 'Point', 'coordinates': [2.25, 42.9]}, nan, nan], 11196: ['Grefsheim', 'Valid', 'L5', 45.5, 'Fell', '1976-01-01T00:00:00.000', 60.66667, 11.0, {'type': 'Point', 'coordinates': [11, 60.66667]}, nan, nan], 50911: ['Grimsby', 'Valid', 'H5', 215.0, 'Fell', '2009-01-01T00:00:00.000', 43.2, -79.61667, {'type': 'Point', 'coordinates': [-79.61667, 43.2]}, nan, nan], 11206: ['Grosnaja', 'Valid', 'CV3', 3500.0, 'Fell', '1861-01-01T00:00:00.000', 43.66667, 45.38333, {'type': 'Point', 'coordinates': [45.38333, 43.66667]}, nan, nan], 11207: ['Gross-Divina', 'Valid', 'H5', 10500.0, 'Fell', '1837-01-01T00:00:00.000', 49.26667, 18.71667, {'type': 'Point', 'coordinates': [18.71667, 49.26667]}, nan, nan], 11208: ['Grossliebenthal', 'Valid', 'L6', 8000.0, 'Fell', '1881-01-01T00:00:00.000', 46.35, 30.58333, {'type': 'Point', 'coordinates': [30.58333, 46.35]}, nan, nan], 11426: ['Grüneberg', 'Valid', 'H4', 1000.0, 'Fell', '1841-01-01T00:00:00.000', 51.93333, 15.5, {'type': 'Point', 'coordinates': [15.5, 51.93333]}, nan, nan], 11429: ['Grzempach', 'Valid', 'H5', 690.0, 'Fell', '1910-01-01T00:00:00.000', 52.86667, 16.63333, {'type': 'Point', 'coordinates': [16.63333, 52.86667]}, nan, nan], 11432: ['Gualeguaychú', 'Valid', 'H6', 22000.0, 'Fell', '1932-01-01T00:00:00.000', -33.0, -58.61667, {'type': 'Point', 'coordinates': [-58.61667, -33]}, nan, nan], 11435: ['Guangmingshan', 'Valid', 'H5', 2910.0, 'Fell', '1996-01-01T00:00:00.000', 39.80417, 122.76389, {'type': 'Point', 'coordinates': [122.76389, 39.80417]}, nan, nan], 11436: ['Guangnan', 'Valid', 'L6', nan, 'Fell', '1983-01-01T00:00:00.000', 24.1, 105.0, {'type': 'Point', 'coordinates': [105, 24.1]}, nan, nan], 11437: ['Guangrao', 'Valid', 'L6', 1900.0, 'Fell', '1980-01-01T00:00:00.000', 37.1, 118.4, {'type': 'Point', 'coordinates': [118.4, 37.1]}, nan, nan], 11439: ['Guareña', 'Valid', 'H6', 39000.0, 'Fell', '1892-01-01T00:00:00.000', 38.73333, -6.01667, {'type': 'Point', 'coordinates': [-6.01667, 38.73333]}, nan, nan], 11440: ['Guêa', 'Valid', 'Stone-uncl', 1915.0, 'Fell', '1891-01-01T00:00:00.000', 43.76667, 20.23333, {'type': 'Point', 'coordinates': [20.23333, 43.76667]}, nan, nan], 11442: ['Guibga', 'Valid', 'L5', 288.0, 'Fell', '1972-01-01T00:00:00.000', 13.5, -0.68333, {'type': 'Point', 'coordinates': [-0.6833300000000001, 13.5]}, nan, nan], 11443: ['Guidder', 'Valid', 'LL5', 968.0, 'Fell', '1949-01-01T00:00:00.000', 9.91667, 13.98333, {'type': 'Point', 'coordinates': [13.98333, 9.91667]}, nan, nan], 11448: ['Gujargaon', 'Valid', 'H5', 2449.0, 'Fell', '1982-01-01T00:00:00.000', 22.98333, 76.05, {'type': 'Point', 'coordinates': [76.05, 22.98333]}, nan, nan], 11449: ['Gujba', 'Valid', 'CBa', 100000.0, 'Fell', '1984-01-01T00:00:00.000', 11.49167, 11.65833, {'type': 'Point', 'coordinates': [11.65833, 11.49167]}, nan, nan], 11450: ['Gumoschnik', 'Valid', 'H5', 5700.0, 'Fell', '1904-01-01T00:00:00.000', 42.9, 24.7, {'type': 'Point', 'coordinates': [24.7, 42.9]}, nan, nan], 11464: ['Gurram Konda', 'Valid', 'L6', 28.0, 'Fell', '1814-01-01T00:00:00.000', 13.78333, 78.56667, {'type': 'Point', 'coordinates': [78.56667, 13.78333]}, nan, nan], 11465: ['Gursum', 'Valid', 'H4/5', 34650.0, 'Fell', '1981-01-01T00:00:00.000', 9.36667, 42.41667, {'type': 'Point', 'coordinates': [42.41667, 9.36667]}, nan, nan], 11466: ['Gütersloh', 'Valid', 'H3/4', 1000.0, 'Fell', '1851-01-01T00:00:00.000', 51.91667, 8.38333, {'type': 'Point', 'coordinates': [8.38333, 51.91667]}, nan, nan], 11467: ['Gyokukei', 'Valid', 'OC', 1320.0, 'Fell', '1930-01-01T00:00:00.000', 35.0, 127.5, {'type': 'Point', 'coordinates': [127.5, 35]}, nan, nan], 11468: ['Hachi-oji', 'Valid', 'H?', 0.2, 'Fell', '1817-01-01T00:00:00.000', 35.65, 139.33333, {'type': 'Point', 'coordinates': [139.33333, 35.65]}, nan, nan], 11472: ['Hainaut', 'Valid', 'H3-6', 9000.0, 'Fell', '1934-01-01T00:00:00.000', 50.31667, 3.73333, {'type': 'Point', 'coordinates': [3.73333, 50.31667]}, nan, nan], 11479: ['Hallingeberg', 'Valid', 'L3.4', 1456.0, 'Fell', '1944-01-01T00:00:00.000', 57.81667, 16.23333, {'type': 'Point', 'coordinates': [16.23333, 57.81667]}, nan, nan], 11485: ['Hamlet', 'Valid', 'LL4', 3710.0, 'Fell', '1959-01-01T00:00:00.000', 41.38333, -86.6, {'type': 'Point', 'coordinates': [-86.6, 41.38333]}, 35.0, 1205.0], 11824: ['Haraiya', 'Valid', 'Eucrite-mmict', 1000.0, 'Fell', '1878-01-01T00:00:00.000', 26.8, 82.53333, {'type': 'Point', 'coordinates': [82.53333, 26.8]}, nan, nan], 11829: ['Haripura', 'Valid', 'CM2', 315.0, 'Fell', '1921-01-01T00:00:00.000', 28.38333, 75.78333, {'type': 'Point', 'coordinates': [75.78333, 28.38333]}, nan, nan], 11830: ['Harleton', 'Valid', 'L6', 8360.0, 'Fell', '1961-01-01T00:00:00.000', 32.675, -94.51167, {'type': 'Point', 'coordinates': [-94.51167, 32.675]}, 23.0, 2025.0], 11842: ['Harrison County', 'Valid', 'L6', 680.0, 'Fell', '1859-01-01T00:00:00.000', 38.25, -86.16667, {'type': 'Point', 'coordinates': [-86.16667, 38.25]}, 35.0, 1855.0], 11848: ['Hashima', 'Valid', 'H4', 1110.6, 'Fell', '1910-01-01T00:00:00.000', 35.2945, 136.70033, {'type': 'Point', 'coordinates': [136.70033, 35.2945]}, nan, nan], 11852: ['Hassi-Jekna', 'Valid', 'Iron, IAB-sHL', 1250.0, 'Fell', '1890-01-01T00:00:00.000', 28.95, 0.81667, {'type': 'Point', 'coordinates': [0.8166700000000001, 28.95]}, nan, nan], 11855: ['Hatford', 'Valid', 'Stone-uncl', 29000.0, 'Fell', '1628-01-01T00:00:00.000', 51.65, -1.51667, {'type': 'Point', 'coordinates': [-1.51667, 51.65]}, nan, nan], 11859: ['Haverö', 'Valid', 'Ureilite', 1544.0, 'Fell', '1971-01-01T00:00:00.000', 60.24556, 22.06194, {'type': 'Point', 'coordinates': [22.06194, 60.24556]}, nan, nan], 11869: ['Hedeskoga', 'Valid', 'H5', 3500.0, 'Fell', '1922-01-01T00:00:00.000', 55.46667, 13.78333, {'type': 'Point', 'coordinates': [13.78333, 55.46667]}, nan, nan], 11870: ['Hedjaz', 'Valid', 'L3.7-6', 6100.0, 'Fell', '1910-01-01T00:00:00.000', 27.33333, 35.66667, {'type': 'Point', 'coordinates': [35.66667, 27.33333]}, nan, nan], 11875: ['Heredia', 'Valid', 'H5', 1000.0, 'Fell', '1857-01-01T00:00:00.000', 10.0, -84.1, {'type': 'Point', 'coordinates': [-84.1, 10]}, nan, nan], 11878: ['Hessle', 'Valid', 'H5', 20000.0, 'Fell', '1869-01-01T00:00:00.000', 59.85, 17.66667, {'type': 'Point', 'coordinates': [17.66667, 59.85]}, nan, nan], 11883: ['Higashi-koen', 'Valid', 'H5', 750.0, 'Fell', '1897-01-01T00:00:00.000', 33.6, 130.43333, {'type': 'Point', 'coordinates': [130.43333, 33.6]}, nan, nan], 11884: ['High Possil', 'Valid', 'L6', 4500.0, 'Fell', '1804-01-01T00:00:00.000', 55.9, -4.23333, {'type': 'Point', 'coordinates': [-4.23333, 55.9]}, nan, nan], 11889: ['Hiroshima', 'Valid', 'H5', 414.0, 'Fell', '2003-01-01T00:00:00.000', 34.45, 132.38333, {'type': 'Point', 'coordinates': [132.38333, 34.45]}, nan, nan], 44714: ['Hoima', 'Valid', 'H6', 167.7, 'Fell', '2003-01-01T00:00:00.000', 1.345, 31.47278, {'type': 'Point', 'coordinates': [31.47278, 1.345]}, nan, nan], 11893: ['Hökmark', 'Valid', 'L4', 305.5, 'Fell', '1954-01-01T00:00:00.000', 64.43333, 21.2, {'type': 'Point', 'coordinates': [21.2, 64.43333]}, nan, nan], 11894: ['Holbrook', 'Valid', 'L/LL6', 220000.0, 'Fell', '1912-01-01T00:00:00.000', 34.9, -110.18333, {'type': 'Point', 'coordinates': [-110.18333, 34.9]}, 7.0, 990.0], 11895: ['Holetta', 'Valid', 'Stone-uncl', 1415.0, 'Fell', '1923-01-01T00:00:00.000', 9.06667, 38.41667, {'type': 'Point', 'coordinates': [38.41667, 9.06667]}, nan, nan], 11901: ['Homestead', 'Valid', 'L5', 230000.0, 'Fell', '1875-01-01T00:00:00.000', 41.8, -91.86667, {'type': 'Point', 'coordinates': [-91.86667, 41.8]}, 16.0, 284.0], 11904: ['Honolulu', 'Valid', 'L5', 2420.0, 'Fell', '1825-01-01T00:00:00.000', 21.3, -157.86667, {'type': 'Point', 'coordinates': [-157.86667, 21.3]}, 4.0, 1657.0], 11913: ['Hotse', 'Valid', 'L6', 180.0, 'Fell', '1956-01-01T00:00:00.000', 35.66667, 115.5, {'type': 'Point', 'coordinates': [115.5, 35.66667]}, nan, nan], 11915: ['Hoxie', 'Valid', 'OC', 266.1, 'Fell', '1963-01-01T00:00:00.000', 39.35, -100.45, {'type': 'Point', 'coordinates': [-100.45, 39.35]}, 17.0, 1293.0], 11916: ['Hraschina', 'Valid', 'Iron, IID', 49000.0, 'Fell', '1751-01-01T00:00:00.000', 46.1, 16.33333, {'type': 'Point', 'coordinates': [16.33333, 46.1]}, nan, nan], 54719: ['Huaxi', 'Valid', 'H5', 1600.0, 'Fell', '2010-01-01T00:00:00.000', 26.46469, 106.63241, {'type': 'Point', 'coordinates': [106.63241, 26.46469]}, nan, nan], 11986: ['Hungen', 'Valid', 'H6', 112.0, 'Fell', '1877-01-01T00:00:00.000', 50.3, 8.91667, {'type': 'Point', 'coordinates': [8.91667, 50.3]}, nan, nan], 11989: ['Hvittis', 'Valid', 'EL6', 14000.0, 'Fell', '1901-01-01T00:00:00.000', 61.18333, 22.68333, {'type': 'Point', 'coordinates': [22.68333, 61.18333]}, nan, nan], 11992: ['Ibbenbüren', 'Valid', 'Diogenite', 2000.0, 'Fell', '1870-01-01T00:00:00.000', 52.28333, 7.7, {'type': 'Point', 'coordinates': [7.7, 52.28333]}, nan, nan], 11993: ['Ibitira', 'Valid', 'Eucrite-mmict', 2500.0, 'Fell', '1957-01-01T00:00:00.000', -20.0, -45.0, {'type': 'Point', 'coordinates': [-45, -20]}, nan, nan], 11994: ['Ibrisim', 'Valid', 'OC', nan, 'Fell', '1949-01-01T00:00:00.000', 38.0, 35.0, {'type': 'Point', 'coordinates': [35, 38]}, nan, nan], 11995: ['Ichkala', 'Valid', 'H6', 3973.0, 'Fell', '1936-01-01T00:00:00.000', 58.2, 82.93333, {'type': 'Point', 'coordinates': [82.93333, 58.2]}, nan, nan], 12000: ['Idutywa', 'Valid', 'H5', 3457.0, 'Fell', '1956-01-01T00:00:00.000', -32.1, 28.33333, {'type': 'Point', 'coordinates': [28.33333, -32.1]}, nan, nan], 12003: ['Iguaracu', 'Valid', 'H5', 1200.0, 'Fell', '1977-01-01T00:00:00.000', -23.2, -51.83333, {'type': 'Point', 'coordinates': [-51.83333, -23.2]}, nan, nan], 12004: ['Ijopega', 'Valid', 'H6', 7330.0, 'Fell', '1975-01-01T00:00:00.000', -6.03333, 145.36667, {'type': 'Point', 'coordinates': [145.36667, -6.03333]}, nan, nan], 12027: ['Indarch', 'Valid', 'EH4', 27000.0, 'Fell', '1891-01-01T00:00:00.000', 39.75, 46.66667, {'type': 'Point', 'coordinates': [46.66667, 39.75]}, nan, nan], 12028: ['Independence', 'Valid', 'L6', 880.0, 'Fell', '1917-01-01T00:00:00.000', 39.08333, -94.4, {'type': 'Point', 'coordinates': [-94.4, 39.08333]}, 18.0, 525.0], 12037: ['Inner Mongolia', 'Valid', 'L6', 3000.0, 'Fell', '1963-01-01T00:00:00.000', 41.0, 112.0, {'type': 'Point', 'coordinates': [112, 41]}, nan, nan], 12039: ['Innisfree', 'Valid', 'L5', 4576.0, 'Fell', '1977-01-01T00:00:00.000', 53.415, -111.3375, {'type': 'Point', 'coordinates': [-111.3375, 53.415]}, nan, nan], 12043: ['Ipiranga', 'Valid', 'H6', 7000.0, 'Fell', '1972-01-01T00:00:00.000', -25.5, -54.5, {'type': 'Point', 'coordinates': [-54.5, -25.5]}, nan, nan], 12049: ['Ishinga', 'Valid', 'H', 1300.0, 'Fell', '1954-01-01T00:00:00.000', -8.93333, 33.8, {'type': 'Point', 'coordinates': [33.8, -8.93333]}, nan, nan], 12053: ['Isthilart', 'Valid', 'H5', 3050.0, 'Fell', '1928-01-01T00:00:00.000', -31.18333, -57.95, {'type': 'Point', 'coordinates': [-57.95, -31.18333]}, nan, nan], 12056: ['Itapicuru-Mirim', 'Valid', 'H5', 2024.0, 'Fell', '1879-01-01T00:00:00.000', -3.4, -44.33333, {'type': 'Point', 'coordinates': [-44.33333, -3.4]}, nan, nan], 12058: ['Itqiy', 'Valid', 'EH7-an', 4720.0, 'Fell', '1990-01-01T00:00:00.000', 26.59083, -12.95217, {'type': 'Point', 'coordinates': [-12.95217, 26.59083]}, nan, nan], 12063: ['Ivuna', 'Valid', 'CI1', 704.5, 'Fell', '1938-01-01T00:00:00.000', -8.41667, 32.43333, {'type': 'Point', 'coordinates': [32.43333, -8.41667]}, nan, nan], 12065: ['Jackalsfontein', 'Valid', 'L6', 48000.0, 'Fell', '1903-01-01T00:00:00.000', -32.5, 21.9, {'type': 'Point', 'coordinates': [21.9, -32.5]}, nan, nan], 12067: ['Jajh deh Kot Lalu', 'Valid', 'EL6', 973.0, 'Fell', '1926-01-01T00:00:00.000', 26.75, 68.41667, {'type': 'Point', 'coordinates': [68.41667, 26.75]}, nan, nan], 12068: ['Jalanash', 'Valid', 'Ureilite', 700.0, 'Fell', '1990-01-01T00:00:00.000', nan, nan, nan, nan, nan], 12069: ['Jalandhar', 'Valid', 'Iron', 1967.0, 'Fell', '1621-01-01T00:00:00.000', 31.0, 75.0, {'type': 'Point', 'coordinates': [75, 31]}, nan, nan], 12072: ['Jamkheir', 'Valid', 'H6', 22.0, 'Fell', '1866-01-01T00:00:00.000', 18.75, 75.33333, {'type': 'Point', 'coordinates': [75.33333, 18.75]}, nan, nan], 12074: ['Jartai', 'Valid', 'L6', 20500.0, 'Fell', '1979-01-01T00:00:00.000', 39.7, 105.8, {'type': 'Point', 'coordinates': [105.8, 39.7]}, nan, nan], 12078: ['Jelica', 'Valid', 'LL6', 34000.0, 'Fell', '1889-01-01T00:00:00.000', 43.83333, 20.44167, {'type': 'Point', 'coordinates': [20.44167, 43.83333]}, nan, nan], 12079: ['Jemlapur', 'Valid', 'L6', 450.0, 'Fell', '1901-01-01T00:00:00.000', nan, nan, nan, nan, nan], 51589: ['Jesenice', 'Valid', 'L6', 3667.0, 'Fell', '2009-01-01T00:00:00.000', 46.42137, 14.05217, {'type': 'Point', 'coordinates': [14.05217, 46.42137]}, nan, nan], 12085: ['Jhung', 'Valid', 'L5', 5900.0, 'Fell', '1873-01-01T00:00:00.000', 31.3, 72.38333, {'type': 'Point', 'coordinates': [72.38333, 31.3]}, nan, nan], 12086: ['Jiange', 'Valid', 'H5', 222.0, 'Fell', '1964-01-01T00:00:00.000', 31.91667, 104.91667, {'type': 'Point', 'coordinates': [104.91667, 31.91667]}, nan, nan], 12087: ['Jianshi', 'Valid', 'Iron, IIIAB', 600000.0, 'Fell', '1890-01-01T00:00:00.000', 30.80833, 109.5, {'type': 'Point', 'coordinates': [109.5, 30.80833]}, nan, nan], 12171: ['Jilin', 'Valid', 'H5', 4000000.0, 'Fell', '1976-01-01T00:00:00.000', 44.05, 126.16667, {'type': 'Point', 'coordinates': [126.16667, 44.05]}, nan, nan], 47362: ['Jodiya', 'Valid', 'L5', 100.0, 'Fell', '2006-01-01T00:00:00.000', 22.68, 70.31333, {'type': 'Point', 'coordinates': [70.31333, 22.68]}, nan, nan], 12173: ['Jodzie', 'Valid', 'Howardite', 30.0, 'Fell', '1877-01-01T00:00:00.000', 55.7, 24.4, {'type': 'Point', 'coordinates': [24.4, 55.7]}, nan, nan], 12198: ['Johnstown', 'Valid', 'Diogenite', 40300.0, 'Fell', '1924-01-01T00:00:00.000', 40.35, -104.9, {'type': 'Point', 'coordinates': [-104.9, 40.35]}, 9.0, 1072.0], 12199: ['Jolomba', 'Valid', 'LL6', 483.0, 'Fell', '1974-01-01T00:00:00.000', -11.85, 15.83333, {'type': 'Point', 'coordinates': [15.83333, -11.85]}, nan, nan], 12202: ['Jonzac', 'Valid', 'Eucrite-mmict', 5000.0, 'Fell', '1819-01-01T00:00:00.000', 45.43333, -0.45, {'type': 'Point', 'coordinates': [-0.45, 45.43333]}, nan, nan], 12203: ['Juancheng', 'Valid', 'H5', 100000.0, 'Fell', '1997-01-01T00:00:00.000', 35.5, 115.41667, {'type': 'Point', 'coordinates': [115.41667, 35.5]}, nan, nan], 12207: ['Judesegeri', 'Valid', 'H6', 680.0, 'Fell', '1876-01-01T00:00:00.000', 12.85, 76.8, {'type': 'Point', 'coordinates': [76.8, 12.85]}, nan, nan], 12209: ['Jumapalo', 'Valid', 'L6', 32490.0, 'Fell', '1984-01-01T00:00:00.000', -7.71667, 111.2, {'type': 'Point', 'coordinates': [111.2, -7.71667]}, nan, nan], 12210: ['Junan', 'Valid', 'L6', 950.0, 'Fell', '1976-01-01T00:00:00.000', 35.2, 118.8, {'type': 'Point', 'coordinates': [118.8, 35.2]}, nan, nan], 12213: ['Juromenha', 'Valid', 'Iron, IIIAB', 25250.0, 'Fell', '1968-01-01T00:00:00.000', 38.74028, -7.27, {'type': 'Point', 'coordinates': [-7.27, 38.74028]}, nan, nan], 12214: ['Juvinas', 'Valid', 'Eucrite-mmict', 91000.0, 'Fell', '1821-01-01T00:00:00.000', 44.71667, 4.3, {'type': 'Point', 'coordinates': [4.3, 44.71667]}, nan, nan], 12218: ['Kaba', 'Valid', 'CV3', 3000.0, 'Fell', '1857-01-01T00:00:00.000', 47.35, 21.3, {'type': 'Point', 'coordinates': [21.3, 47.35]}, nan, nan], 12220: ['Kabo', 'Valid', 'H4', 13400.0, 'Fell', '1971-01-01T00:00:00.000', 11.85, 8.21667, {'type': 'Point', 'coordinates': [8.21667, 11.85]}, nan, nan], 12221: ['Kadonah', 'Valid', 'H6', 89.0, 'Fell', '1822-01-01T00:00:00.000', 27.08333, 78.33333, {'type': 'Point', 'coordinates': [78.33333, 27.08333]}, nan, nan], 12222: ['Kaee', 'Valid', 'H5', 230.0, 'Fell', '1838-01-01T00:00:00.000', 27.25, 79.96667, {'type': 'Point', 'coordinates': [79.96667, 27.25]}, nan, nan], 12227: ['Kagarlyk', 'Valid', 'L6', 1900.0, 'Fell', '1908-01-01T00:00:00.000', 49.86667, 30.83333, {'type': 'Point', 'coordinates': [30.83333, 49.86667]}, nan, nan], 12228: ['Kaidun', 'Valid', 'CR2', 2000.0, 'Fell', '1980-01-01T00:00:00.000', 15.0, 48.3, {'type': 'Point', 'coordinates': [48.3, 15]}, nan, nan], 12229: ['Kainsaz', 'Valid', 'CO3.2', 200000.0, 'Fell', '1937-01-01T00:00:00.000', 55.43333, 53.25, {'type': 'Point', 'coordinates': [53.25, 55.43333]}, nan, nan], 12230: ['Kakangari', 'Valid', 'K3', 350.0, 'Fell', '1890-01-01T00:00:00.000', 12.38333, 78.51667, {'type': 'Point', 'coordinates': [78.51667, 12.38333]}, nan, nan], 12231: ['Kakowa', 'Valid', 'L6', 577.0, 'Fell', '1858-01-01T00:00:00.000', 45.13333, 21.66667, {'type': 'Point', 'coordinates': [21.66667, 45.13333]}, nan, nan], 12232: ['Kalaba', 'Valid', 'H4', 950.0, 'Fell', '1951-01-01T00:00:00.000', -6.83333, 29.5, {'type': 'Point', 'coordinates': [29.5, -6.83333]}, nan, nan], 12236: ['Kalumbi', 'Valid', 'L6', 4500.0, 'Fell', '1879-01-01T00:00:00.000', 17.83333, 73.98333, {'type': 'Point', 'coordinates': [73.98333, 17.83333]}, nan, nan], 12238: ['Kamalpur', 'Valid', 'L6', 2770.0, 'Fell', '1942-01-01T00:00:00.000', 26.03333, 81.46667, {'type': 'Point', 'coordinates': [81.46667, 26.03333]}, nan, nan], 12240: ['Kamiomi', 'Valid', 'H5', 448.0, 'Fell', '1913-01-01T00:00:00.000', 36.04167, 139.95667, {'type': 'Point', 'coordinates': [139.95667, 36.04167]}, nan, nan], 12241: ['Kamsagar', 'Valid', 'L6', 1293.0, 'Fell', '1902-01-01T00:00:00.000', 14.18333, 75.8, {'type': 'Point', 'coordinates': [75.8, 14.18333]}, nan, nan], 12243: ['Kandahar (Afghanistan)', 'Valid', 'L6', 299.0, 'Fell', '1959-01-01T00:00:00.000', 31.6, 65.78333, {'type': 'Point', 'coordinates': [65.78333, 31.6]}, nan, nan], 12245: ['Kangean', 'Valid', 'H5', 1630.0, 'Fell', '1908-01-01T00:00:00.000', -7.0, 115.5, {'type': 'Point', 'coordinates': [115.5, -7]}, nan, nan], 12246: ['Kangra Valley', 'Valid', 'H5', 400.0, 'Fell', '1897-01-01T00:00:00.000', 32.08333, 76.3, {'type': 'Point', 'coordinates': [76.3, 32.08333]}, nan, nan], 12251: ['Kapoeta', 'Valid', 'Howardite', 11355.0, 'Fell', '1942-01-01T00:00:00.000', 4.7, 33.63333, {'type': 'Point', 'coordinates': [33.63333, 4.7]}, nan, nan], 47357: ['Kaprada', 'Valid', 'L5/6', 1600.0, 'Fell', '2004-01-01T00:00:00.000', 20.33916, 73.22329, {'type': 'Point', 'coordinates': [73.22329, 20.33916]}, nan, nan], 12253: ['Kaptal-Aryk', 'Valid', 'L6', 3500.0, 'Fell', '1937-01-01T00:00:00.000', 42.45, 73.36667, {'type': 'Point', 'coordinates': [73.36667, 42.45]}, nan, nan], 12256: ['Karakol', 'Valid', 'LL6', 3000.0, 'Fell', '1840-01-01T00:00:00.000', 47.21667, 81.01667, {'type': 'Point', 'coordinates': [81.01667, 47.21667]}, nan, nan], 12258: ['Karatu', 'Valid', 'LL6', 2220.0, 'Fell', '1963-01-01T00:00:00.000', -3.5, 35.58333, {'type': 'Point', 'coordinates': [35.58333, -3.5]}, nan, nan], 12260: ['Karewar', 'Valid', 'L6', 180.0, 'Fell', '1949-01-01T00:00:00.000', 12.9, 7.15, {'type': 'Point', 'coordinates': [7.15, 12.9]}, nan, nan], 12262: ['Karkh', 'Valid', 'L6', 22000.0, 'Fell', '1905-01-01T00:00:00.000', 27.8, 67.16667, {'type': 'Point', 'coordinates': [67.16667, 27.8]}, nan, nan], 12263: ['Karloowala', 'Valid', 'L6', 2950.0, 'Fell', '1955-01-01T00:00:00.000', 31.58333, 71.6, {'type': 'Point', 'coordinates': [71.6, 31.58333]}, nan, nan], 12264: ['Karoonda', 'Valid', 'CK4', 41730.0, 'Fell', '1930-01-01T00:00:00.000', -35.08333, 139.91667, {'type': 'Point', 'coordinates': [139.91667, -35.08333]}, nan, nan], 12266: ['Kasamatsu', 'Valid', 'H', 710.0, 'Fell', '1938-01-01T00:00:00.000', 35.36667, 136.76667, {'type': 'Point', 'coordinates': [136.76667, 35.36667]}, nan, nan], 30740: ['Kasauli', 'Valid', 'H4', 16820.0, 'Fell', '2003-01-01T00:00:00.000', 29.58333, 77.58333, {'type': 'Point', 'coordinates': [77.58333, 29.58333]}, nan, nan], 35465: ['Katagum', 'Valid', 'L6', 1500.0, 'Fell', '1999-01-01T00:00:00.000', 11.33333, 10.08333, {'type': 'Point', 'coordinates': [10.08333, 11.33333]}, nan, nan], 47351: ['Kavarpura', 'Valid', 'Iron, IIE-an', 6800.0, 'Fell', '2006-01-01T00:00:00.000', 25.14333, 75.81333, {'type': 'Point', 'coordinates': [75.81333, 25.14333]}, nan, nan], 12268: ['Kayakent', 'Valid', 'Iron, IIIAB', 85000.0, 'Fell', '1961-01-01T00:00:00.000', 39.26333, 31.78, {'type': 'Point', 'coordinates': [31.78, 39.26333]}, nan, nan], 12270: ['Kediri', 'Valid', 'L4', 3300.0, 'Fell', '1940-01-01T00:00:00.000', -7.75, 112.01667, {'type': 'Point', 'coordinates': [112.01667, -7.75]}, nan, nan], 53654: ['Kemer', 'Valid', 'L4', 5760.0, 'Fell', '2008-01-01T00:00:00.000', 36.54194, 29.41822, {'type': 'Point', 'coordinates': [29.41822, 36.54194]}, nan, nan], 12275: ['Kendleton', 'Valid', 'L4', 6937.0, 'Fell', '1939-01-01T00:00:00.000', 29.45, -96.0, {'type': 'Point', 'coordinates': [-96, 29.45]}, 23.0, 3190.0], 12276: ['Kendrapara', 'Valid', 'H4-5', 6669.2, 'Fell', '2003-01-01T00:00:00.000', 20.4625, 86.70278, {'type': 'Point', 'coordinates': [86.70278, 20.4625]}, nan, nan], 12282: ['Kerilis', 'Valid', 'H5', 5000.0, 'Fell', '1874-01-01T00:00:00.000', 48.4, -3.3, {'type': 'Point', 'coordinates': [-3.3, 48.4]}, nan, nan], 12284: ['Kernouve', 'Valid', 'H6', 80000.0, 'Fell', '1869-01-01T00:00:00.000', 48.11667, -3.08333, {'type': 'Point', 'coordinates': [-3.08333, 48.11667]}, nan, nan], 12286: ['Kesen', 'Valid', 'H4', 135000.0, 'Fell', '1850-01-01T00:00:00.000', 38.98333, 141.61667, {'type': 'Point', 'coordinates': [141.61667, 38.98333]}, nan, nan], 12288: ['Khairpur', 'Valid', 'EL6', 13600.0, 'Fell', '1873-01-01T00:00:00.000', 29.53333, 72.3, {'type': 'Point', 'coordinates': [72.3, 29.53333]}, nan, nan], 12289: ['Khanpur', 'Valid', 'LL5', 3698.0, 'Fell', '1932-01-01T00:00:00.000', 25.55, 83.11667, {'type': 'Point', 'coordinates': [83.11667, 25.55]}, nan, nan], 12291: ['Kharkov', 'Valid', 'L6', 1500.0, 'Fell', '1787-01-01T00:00:00.000', 50.625, 35.075, {'type': 'Point', 'coordinates': [35.075, 50.625]}, nan, nan], 12294: ['Kheragur', 'Valid', 'L6', 450.0, 'Fell', '1860-01-01T00:00:00.000', 26.95, 77.88333, {'type': 'Point', 'coordinates': [77.88333, 26.95]}, nan, nan], 12296: ['Khetri', 'Valid', 'H6', 100.0, 'Fell', '1867-01-01T00:00:00.000', 28.01667, 75.81667, {'type': 'Point', 'coordinates': [75.81667, 28.01667]}, nan, nan], 12297: ['Khmelevka', 'Valid', 'L5', 6109.0, 'Fell', '1929-01-01T00:00:00.000', 56.75, 75.33333, {'type': 'Point', 'coordinates': [75.33333, 56.75]}, nan, nan], 12298: ['Khohar', 'Valid', 'L3.6', 9700.0, 'Fell', '1910-01-01T00:00:00.000', 25.1, 81.53333, {'type': 'Point', 'coordinates': [81.53333, 25.1]}, nan, nan], 12299: ['Khor Temiki', 'Valid', 'Aubrite', 3200.0, 'Fell', '1932-01-01T00:00:00.000', 16.0, 36.0, {'type': 'Point', 'coordinates': [36, 16]}, nan, nan], 12300: ['Kidairat', 'Valid', 'H6', 100000.0, 'Fell', '1983-01-01T00:00:00.000', 14.0, 28.0, {'type': 'Point', 'coordinates': [28, 14]}, nan, nan], 12301: ['Kiel', 'Valid', 'L6', 737.6, 'Fell', '1962-01-01T00:00:00.000', 54.4, 10.15, {'type': 'Point', 'coordinates': [10.15, 54.4]}, nan, nan], 12303: ['Kiffa', 'Valid', 'H5', 1500.0, 'Fell', '1970-01-01T00:00:00.000', 16.58333, -11.33333, {'type': 'Point', 'coordinates': [-11.33333, 16.58333]}, nan, nan], 12305: ['Kijima (1906)', 'Valid', 'Stone-uncl', 331.0, 'Fell', '1906-01-01T00:00:00.000', 36.85, 138.38333, {'type': 'Point', 'coordinates': [138.38333, 36.85]}, nan, nan], 12306: ['Kikino', 'Valid', 'H6', 195.0, 'Fell', '1809-01-01T00:00:00.000', 55.0, 34.0, {'type': 'Point', 'coordinates': [34, 55]}, nan, nan], 12307: ['Kilabo', 'Valid', 'LL6', 19000.0, 'Fell', '2002-01-01T00:00:00.000', 12.76667, 9.8, {'type': 'Point', 'coordinates': [9.8, 12.76667]}, nan, nan], 12308: ['Kilbourn', 'Valid', 'H5', 772.0, 'Fell', '1911-01-01T00:00:00.000', 43.58333, -89.6, {'type': 'Point', 'coordinates': [-89.6, 43.58333]}, 41.0, 2971.0], 12309: ['Killeter', 'Valid', 'H6', 140.0, 'Fell', '1844-01-01T00:00:00.000', 54.66667, -7.66667, {'type': 'Point', 'coordinates': [-7.66667, 54.66667]}, nan, nan], 12316: ['Kingai', 'Valid', 'H6', 67.4, 'Fell', '1967-01-01T00:00:00.000', 11.63333, 24.68333, {'type': 'Point', 'coordinates': [24.68333, 11.63333]}, nan, nan], 12321: ['Kirbyville', 'Valid', 'Eucrite-mmict', 97.7, 'Fell', '1906-01-01T00:00:00.000', 30.75, -95.95, {'type': 'Point', 'coordinates': [-95.95, 30.75]}, 23.0, 2018.0], 12325: ['Kisvarsány', 'Valid', 'L6', 1550.0, 'Fell', '1914-01-01T00:00:00.000', 48.16667, 22.30833, {'type': 'Point', 'coordinates': [22.30833, 48.16667]}, nan, nan], 12326: ['Kitchener', 'Valid', 'L6', 202.6, 'Fell', '1998-01-01T00:00:00.000', 43.38333, -80.38333, {'type': 'Point', 'coordinates': [-80.38333, 43.38333]}, nan, nan], 12332: ['Klein-Wenden', 'Valid', 'H6', 3250.0, 'Fell', '1843-01-01T00:00:00.000', 51.6, 10.8, {'type': 'Point', 'coordinates': [10.8, 51.6]}, nan, nan], 12335: ['Knyahinya', 'Valid', 'L/LL5', 500000.0, 'Fell', '1866-01-01T00:00:00.000', 48.9, 22.4, {'type': 'Point', 'coordinates': [22.4, 48.9]}, nan, nan], 12336: ['Kobe', 'Valid', 'CK4', 136.0, 'Fell', '1999-01-01T00:00:00.000', 34.73333, 135.16667, {'type': 'Point', 'coordinates': [135.16667, 34.73333]}, nan, nan], 12342: ['Kokubunji', 'Valid', 'L6', 11510.0, 'Fell', '1986-01-01T00:00:00.000', 34.3, 133.95, {'type': 'Point', 'coordinates': [133.95, 34.3]}, nan, nan], 12343: ['Komagome', 'Valid', 'Iron', 238.0, 'Fell', '1926-01-01T00:00:00.000', 35.73333, 139.75, {'type': 'Point', 'coordinates': [139.75, 35.73333]}, nan, nan], 12344: ['Konovo', 'Valid', 'LL5', 90.0, 'Fell', '1931-01-01T00:00:00.000', 42.51667, 26.16667, {'type': 'Point', 'coordinates': [26.16667, 42.51667]}, nan, nan], 53810: ['Košice', 'Valid', 'H5', 4300.0, 'Fell', '2010-01-01T00:00:00.000', 48.76367, 21.17633, {'type': 'Point', 'coordinates': [21.17633, 48.76367]}, nan, nan], 12353: ['Krähenberg', 'Valid', 'LL5', 16500.0, 'Fell', '1869-01-01T00:00:00.000', 49.32694, 7.46472, {'type': 'Point', 'coordinates': [7.46472, 49.32694]}, nan, nan], 12355: ['Krasnoi-Ugol', 'Valid', 'L6', 2440.0, 'Fell', '1829-01-01T00:00:00.000', 54.03333, 40.9, {'type': 'Point', 'coordinates': [40.9, 54.03333]}, nan, nan], 12357: ['Krasnyi Klyuch', 'Valid', 'H5', 4000.0, 'Fell', '1946-01-01T00:00:00.000', 54.33333, 56.08333, {'type': 'Point', 'coordinates': [56.08333, 54.33333]}, nan, nan], 12363: ['Krutikha', 'Valid', 'OC', 845.2, 'Fell', '1906-01-01T00:00:00.000', 56.8, 77.0, {'type': 'Point', 'coordinates': [77, 56.8]}, nan, nan], 12364: ['Krymka', 'Valid', 'LL3.2', 50000.0, 'Fell', '1946-01-01T00:00:00.000', 47.83333, 30.76667, {'type': 'Point', 'coordinates': [30.76667, 47.83333]}, nan, nan], 12368: ['Kukschin', 'Valid', 'L6', 2250.0, 'Fell', '1938-01-01T00:00:00.000', 51.15, 31.7, {'type': 'Point', 'coordinates': [31.7, 51.15]}, nan, nan], 12369: ['Kulak', 'Valid', 'L5', 453.6, 'Fell', '1961-01-01T00:00:00.000', 30.73111, 66.80222, {'type': 'Point', 'coordinates': [66.80222, 30.73111]}, nan, nan], 12370: ['Kuleschovka', 'Valid', 'L6', 6000.0, 'Fell', '1811-01-01T00:00:00.000', 50.75, 33.5, {'type': 'Point', 'coordinates': [33.5, 50.75]}, nan, nan], 12373: ['Kulp', 'Valid', 'H6', 3719.0, 'Fell', '1906-01-01T00:00:00.000', 41.11667, 45.0, {'type': 'Point', 'coordinates': [45, 41.11667]}, nan, nan], 12377: ['Kunashak', 'Valid', 'L6', 200000.0, 'Fell', '1949-01-01T00:00:00.000', 55.78333, 61.36667, {'type': 'Point', 'coordinates': [61.36667, 55.78333]}, nan, nan], 12379: ['Kunya-Urgench', 'Valid', 'H5', 1100000.0, 'Fell', '1998-01-01T00:00:00.000', 42.25, 59.2, {'type': 'Point', 'coordinates': [59.2, 42.25]}, nan, nan], 12381: ['Kushiike', 'Valid', 'OC', 4460.0, 'Fell', '1920-01-01T00:00:00.000', 37.05, 138.38333, {'type': 'Point', 'coordinates': [138.38333, 37.05]}, nan, nan], 12382: ['Kusiali', 'Valid', 'L6', 5.0, 'Fell', '1860-01-01T00:00:00.000', 29.68333, 78.38333, {'type': 'Point', 'coordinates': [78.38333, 29.68333]}, nan, nan], 12383: ['Kutais', 'Valid', 'H5', 23.0, 'Fell', '1977-01-01T00:00:00.000', 44.51667, 39.3, {'type': 'Point', 'coordinates': [39.3, 44.51667]}, nan, nan], 12384: ['Kuttippuram', 'Valid', 'L6', 45000.0, 'Fell', '1914-01-01T00:00:00.000', 10.83333, 76.03333, {'type': 'Point', 'coordinates': [76.03333, 10.83333]}, nan, nan], 12385: ['Kuznetzovo', 'Valid', 'L6', 4047.0, 'Fell', '1932-01-01T00:00:00.000', 55.2, 75.33333, {'type': 'Point', 'coordinates': [75.33333, 55.2]}, nan, nan], 12390: ['Kyushu', 'Valid', 'L6', 45000.0, 'Fell', '1886-01-01T00:00:00.000', 32.03333, 130.63333, {'type': 'Point', 'coordinates': [130.63333, 32.03333]}, nan, nan], 12392: ['La Bécasse', 'Valid', 'L6', 2800.0, 'Fell', '1879-01-01T00:00:00.000', 47.08333, 1.75, {'type': 'Point', 'coordinates': [1.75, 47.08333]}, nan, nan], 12394: ['La Charca', 'Valid', 'OC', 399.0, 'Fell', '1878-01-01T00:00:00.000', 20.66667, -101.28333, {'type': 'Point', 'coordinates': [-101.28333, 20.66667]}, nan, nan], 12395: ['La Colina', 'Valid', 'H5', 2000.0, 'Fell', '1924-01-01T00:00:00.000', -37.33333, -61.53333, {'type': 'Point', 'coordinates': [-61.53333, -37.33333]}, nan, nan], 12396: ['La Criolla', 'Valid', 'L6', 45000.0, 'Fell', '1985-01-01T00:00:00.000', -31.23333, -58.16667, {'type': 'Point', 'coordinates': [-58.16667, -31.23333]}, nan, nan], 12408: ['Laborel', 'Valid', 'H5', 3833.0, 'Fell', '1871-01-01T00:00:00.000', 44.28333, 5.58333, {'type': 'Point', 'coordinates': [5.58333, 44.28333]}, nan, nan], 12433: ['Lahrauli', 'Valid', 'Ureilite', 900.0, 'Fell', '1955-01-01T00:00:00.000', 26.78333, 82.71667, {'type': 'Point', 'coordinates': [82.71667, 26.78333]}, nan, nan], 12434: [\"L'Aigle\", 'Valid', 'L6', 37000.0, 'Fell', '1803-01-01T00:00:00.000', 48.76667, 0.63333, {'type': 'Point', 'coordinates': [0.6333300000000001, 48.76667]}, nan, nan], 32531: ['Cumulus Hills 04075', 'Valid', 'Pallasite', 9.6, 'Found', '2003-01-01T00:00:00.000', nan, nan, nan, nan, nan], 12435: ['Lakangaon', 'Valid', 'Eucrite-mmict', 212.5, 'Fell', '1910-01-01T00:00:00.000', 21.86667, 76.03333, {'type': 'Point', 'coordinates': [76.03333, 21.86667]}, nan, nan], 12451: ['Lalitpur', 'Valid', 'L6', 372.0, 'Fell', '1887-01-01T00:00:00.000', 24.45, 78.56667, {'type': 'Point', 'coordinates': [78.56667, 24.45]}, nan, nan], 12455: ['Lancé', 'Valid', 'CO3.5', 51700.0, 'Fell', '1872-01-01T00:00:00.000', 47.7, 1.06667, {'type': 'Point', 'coordinates': [1.06667, 47.7]}, nan, nan], 12456: ['Lancon', 'Valid', 'H6', 7000.0, 'Fell', '1897-01-01T00:00:00.000', 43.75, 5.11667, {'type': 'Point', 'coordinates': [5.11667, 43.75]}, nan, nan], 12461: ['Långhalsen', 'Valid', 'L6', 2300.0, 'Fell', '1947-01-01T00:00:00.000', 58.85, 16.73333, {'type': 'Point', 'coordinates': [16.73333, 58.85]}, nan, nan], 12464: ['Lanxi', 'Valid', 'L6', 1282.0, 'Fell', '1986-01-01T00:00:00.000', 46.24167, 126.19611, {'type': 'Point', 'coordinates': [126.19611, 46.24167]}, nan, nan], 12465: ['Lanzenkirchen', 'Valid', 'L4', 7000.0, 'Fell', '1925-01-01T00:00:00.000', 47.75, 16.23333, {'type': 'Point', 'coordinates': [16.23333, 47.75]}, nan, nan], 12466: ['Laochenzhen', 'Valid', 'H5', 14250.0, 'Fell', '1987-01-01T00:00:00.000', 33.13333, 115.16667, {'type': 'Point', 'coordinates': [115.16667, 33.13333]}, nan, nan], 12740: ['Launton', 'Valid', 'L6', 1060.0, 'Fell', '1830-01-01T00:00:00.000', 51.9, -1.11667, {'type': 'Point', 'coordinates': [-1.11667, 51.9]}, nan, nan], 12743: ['Lavrentievka', 'Valid', 'L6', 800.0, 'Fell', '1938-01-01T00:00:00.000', 52.45, 51.56667, {'type': 'Point', 'coordinates': [51.56667, 52.45]}, nan, nan], 12748: ['Le Pressoir', 'Valid', 'H5', 3000.0, 'Fell', '1845-01-01T00:00:00.000', 47.16667, 0.43333, {'type': 'Point', 'coordinates': [0.43333000000000005, 47.16667]}, nan, nan], 12749: ['Le Teilleul', 'Valid', 'Howardite', 780.0, 'Fell', '1845-01-01T00:00:00.000', 48.53333, -0.86667, {'type': 'Point', 'coordinates': [-0.86667, 48.53333]}, nan, nan], 12755: ['Leedey', 'Valid', 'L6', 51500.0, 'Fell', '1943-01-01T00:00:00.000', 35.88333, -99.33333, {'type': 'Point', 'coordinates': [-99.33333, 35.88333]}, 20.0, 608.0], 12756: ['Leeuwfontein', 'Valid', 'L6', 460.0, 'Fell', '1912-01-01T00:00:00.000', -25.66667, 28.36667, {'type': 'Point', 'coordinates': [28.36667, -25.66667]}, nan, nan], 12759: ['Leighlinbridge', 'Valid', 'L6', 271.4, 'Fell', '1999-01-01T00:00:00.000', 52.66667, -6.96667, {'type': 'Point', 'coordinates': [-6.96667, 52.66667]}, nan, nan], 12760: ['Leighton', 'Valid', 'H5', 877.0, 'Fell', '1907-01-01T00:00:00.000', 34.58333, -87.5, {'type': 'Point', 'coordinates': [-87.5, 34.58333]}, 29.0, 1585.0], 12765: ['Leonovka', 'Valid', 'L6', 700.0, 'Fell', '1900-01-01T00:00:00.000', 52.26667, 32.85, {'type': 'Point', 'coordinates': [32.85, 52.26667]}, nan, nan], 12769: ['Les Ormes', 'Valid', 'L6', 125.0, 'Fell', '1857-01-01T00:00:00.000', 48.35, 3.25, {'type': 'Point', 'coordinates': [3.25, 48.35]}, nan, nan], 12772: ['Lesves', 'Valid', 'L6', 2000.0, 'Fell', '1896-01-01T00:00:00.000', 50.36667, 4.73333, {'type': 'Point', 'coordinates': [4.7333300000000005, 50.36667]}, nan, nan], 14646: ['Lichtenberg', 'Valid', 'H6', 4000.0, 'Fell', '1973-01-01T00:00:00.000', -26.15, 26.18333, {'type': 'Point', 'coordinates': [26.18333, -26.15]}, nan, nan], 14650: ['Lillaverke', 'Valid', 'H5', 6862.0, 'Fell', '1930-01-01T00:00:00.000', 56.65, 15.86667, {'type': 'Point', 'coordinates': [15.86667, 56.65]}, nan, nan], 14652: ['Limerick', 'Valid', 'H5', 50000.0, 'Fell', '1813-01-01T00:00:00.000', 52.56667, -8.78333, {'type': 'Point', 'coordinates': [-8.78333, 52.56667]}, nan, nan], 14655: ['Linum', 'Valid', 'L6', 1862.0, 'Fell', '1854-01-01T00:00:00.000', 52.75, 12.9, {'type': 'Point', 'coordinates': [12.9, 52.75]}, nan, nan], 14659: ['Lishui', 'Valid', 'L5', 498.0, 'Fell', '1978-01-01T00:00:00.000', 31.63333, 118.98333, {'type': 'Point', 'coordinates': [118.98333, 31.63333]}, nan, nan], 14661: ['Lissa', 'Valid', 'L6', 12800.0, 'Fell', '1808-01-01T00:00:00.000', 50.2, 14.85, {'type': 'Point', 'coordinates': [14.85, 50.2]}, nan, nan], 14664: ['Little Piney', 'Valid', 'L5', 491.0, 'Fell', '1839-01-01T00:00:00.000', 37.91667, -92.08333, {'type': 'Point', 'coordinates': [-92.08333, 37.91667]}, 18.0, 2171.0], 14670: ['Lixna', 'Valid', 'H4', 5213.0, 'Fell', '1820-01-01T00:00:00.000', 56.0, 26.43333, {'type': 'Point', 'coordinates': [26.43333, 56]}, nan, nan], 14675: ['Lodran', 'Valid', 'Lodranite', 1000.0, 'Fell', '1868-01-01T00:00:00.000', 29.53333, 71.8, {'type': 'Point', 'coordinates': [71.8, 29.53333]}, nan, nan], 14678: ['Lohawat', 'Valid', 'Howardite', 40000.0, 'Fell', '1994-01-01T00:00:00.000', 26.96556, 72.62667, {'type': 'Point', 'coordinates': [72.62667, 26.96556]}, nan, nan], 52843: ['Lorton', 'Valid', 'L6', 329.7, 'Fell', '2010-01-01T00:00:00.000', 38.70066, -77.21163, {'type': 'Point', 'coordinates': [-77.21163, 38.70066]}, 40.0, 2770.0], 14708: ['Los Martinez', 'Valid', 'L6', 25.0, 'Fell', '1894-01-01T00:00:00.000', 38.0, -0.83333, {'type': 'Point', 'coordinates': [-0.83333, 38]}, nan, nan], 14711: ['Lost City', 'Valid', 'H5', 17000.0, 'Fell', '1970-01-01T00:00:00.000', 36.00833, -95.15, {'type': 'Point', 'coordinates': [-95.15, 36.00833]}, 20.0, 2711.0], 14716: ['Louisville', 'Valid', 'L6', 1300.0, 'Fell', '1977-01-01T00:00:00.000', 38.25, -85.75, {'type': 'Point', 'coordinates': [-85.75, 38.25]}, 36.0, 1327.0], 14718: ['Łowicz', 'Valid', 'Mesosiderite-A3', 59000.0, 'Fell', '1935-01-01T00:00:00.000', 52.0, 19.91667, {'type': 'Point', 'coordinates': [19.91667, 52]}, nan, nan], 14721: ['Lua', 'Valid', 'L5', 9241.0, 'Fell', '1926-01-01T00:00:00.000', 24.95, 75.15, {'type': 'Point', 'coordinates': [75.15, 24.95]}, nan, nan], 14724: ['Lucé', 'Valid', 'L6', 3500.0, 'Fell', '1768-01-01T00:00:00.000', 47.85, 0.48333, {'type': 'Point', 'coordinates': [0.48333000000000004, 47.85]}, nan, nan], 14753: ['Lumpkin', 'Valid', 'L6', 340.0, 'Fell', '1869-01-01T00:00:00.000', 32.03333, -84.76667, {'type': 'Point', 'coordinates': [-84.76667, 32.03333]}, 31.0, 1567.0], 14754: ['Lunan', 'Valid', 'H6', 2520.0, 'Fell', '1980-01-01T00:00:00.000', 24.8, 103.3, {'type': 'Point', 'coordinates': [103.3, 24.8]}, nan, nan], 14755: ['Lundsgård', 'Valid', 'L6', 11000.0, 'Fell', '1889-01-01T00:00:00.000', 56.21667, 13.03333, {'type': 'Point', 'coordinates': [13.03333, 56.21667]}, nan, nan], 14756: ['Luotolax', 'Valid', 'Howardite', 885.0, 'Fell', '1813-01-01T00:00:00.000', 61.2, 27.7, {'type': 'Point', 'coordinates': [27.7, 61.2]}, nan, nan], 14757: ['Luponnas', 'Valid', 'H3-5', 14000.0, 'Fell', '1753-01-01T00:00:00.000', 46.21667, 5.0, {'type': 'Point', 'coordinates': [5, 46.21667]}, nan, nan], 14759: ['Lusaka', 'Valid', 'Unknown', nan, 'Fell', '1951-01-01T00:00:00.000', -7.21667, 29.43333, {'type': 'Point', 'coordinates': [29.43333, -7.21667]}, nan, nan], 14764: ['Mabwe-Khoywa', 'Valid', 'L5', 540.0, 'Fell', '1937-01-01T00:00:00.000', 19.0, 97.0, {'type': 'Point', 'coordinates': [97, 19]}, nan, nan], 15370: ['Macau', 'Valid', 'H5', 1500.0, 'Fell', '1836-01-01T00:00:00.000', -5.2, -36.66667, {'type': 'Point', 'coordinates': [-36.66667, -5.2]}, nan, nan], 15371: ['Machinga', 'Valid', 'L6', 93200.0, 'Fell', '1981-01-01T00:00:00.000', -15.21222, 35.24222, {'type': 'Point', 'coordinates': [35.24222, -15.21222]}, nan, nan], 15372: ['Macibini', 'Valid', 'Eucrite-pmict', 1995.0, 'Fell', '1936-01-01T00:00:00.000', -28.83333, 31.95, {'type': 'Point', 'coordinates': [31.95, -28.83333]}, nan, nan], 15379: ['Madhipura', 'Valid', 'L', 1000.0, 'Fell', '1950-01-01T00:00:00.000', 25.91667, 86.36667, {'type': 'Point', 'coordinates': [86.36667, 25.91667]}, nan, nan], 15380: ['Madiun', 'Valid', 'L6', 400.0, 'Fell', '1935-01-01T00:00:00.000', -7.75, 111.53333, {'type': 'Point', 'coordinates': [111.53333, -7.75]}, nan, nan], 15382: ['Madrid', 'Valid', 'L6', 400.0, 'Fell', '1896-01-01T00:00:00.000', 40.41667, -3.71667, {'type': 'Point', 'coordinates': [-3.71667, 40.41667]}, nan, nan], 15383: ['Mafra', 'Valid', 'L3-4', 600.0, 'Fell', '1941-01-01T00:00:00.000', -26.16667, -49.93333, {'type': 'Point', 'coordinates': [-49.93333, -26.16667]}, nan, nan], 15386: ['Magnesia', 'Valid', 'Iron, IAB-sHL', 5000.0, 'Fell', '1899-01-01T00:00:00.000', 37.86667, 27.51667, {'type': 'Point', 'coordinates': [27.51667, 37.86667]}, nan, nan], 15387: ['Magombedze', 'Valid', 'H3-5', 666.6, 'Fell', '1990-01-01T00:00:00.000', -19.48333, 31.65, {'type': 'Point', 'coordinates': [31.65, -19.48333]}, nan, nan], 47361: ['Mahadevpur', 'Valid', 'H4/5', 70500.0, 'Fell', '2007-01-01T00:00:00.000', 27.66667, 95.78333, {'type': 'Point', 'coordinates': [95.78333, 27.66667]}, nan, nan], 30751: ['Maigatari-Danduma', 'Valid', 'H5/6', 4629.0, 'Fell', '2004-01-01T00:00:00.000', 12.83333, 9.38333, {'type': 'Point', 'coordinates': [9.38333, 12.83333]}, nan, nan], 15393: ['Malaga', 'Valid', 'OC', 150.0, 'Fell', '1933-01-01T00:00:00.000', 32.21667, -104.0, {'type': 'Point', 'coordinates': [-104, 32.21667]}, 11.0, 611.0], 15394: ['Malakal', 'Valid', 'L5', 2000.0, 'Fell', '1970-01-01T00:00:00.000', 9.5, 31.75, {'type': 'Point', 'coordinates': [31.75, 9.5]}, nan, nan], 15395: ['Malampaka', 'Valid', 'H', 470.0, 'Fell', '1930-01-01T00:00:00.000', -3.13333, 33.51667, {'type': 'Point', 'coordinates': [33.51667, -3.13333]}, nan, nan], 15397: ['Malotas', 'Valid', 'H5', nan, 'Fell', '1931-01-01T00:00:00.000', -28.93333, -63.23333, {'type': 'Point', 'coordinates': [-63.23333, -28.93333]}, nan, nan], 15400: ['Malvern', 'Valid', 'Eucrite-pmict', 807.0, 'Fell', '1933-01-01T00:00:00.000', -29.45, 26.76667, {'type': 'Point', 'coordinates': [26.76667, -29.45]}, nan, nan], 15401: ['Mamra Springs', 'Valid', 'L6', 1000.0, 'Fell', '1927-01-01T00:00:00.000', 45.21667, 62.08333, {'type': 'Point', 'coordinates': [62.08333, 45.21667]}, nan, nan], 15402: ['Manbhoom', 'Valid', 'LL6', 1700.0, 'Fell', '1863-01-01T00:00:00.000', 23.05, 86.7, {'type': 'Point', 'coordinates': [86.7, 23.05]}, nan, nan], 15403: ['Manegaon', 'Valid', 'Diogenite', 50.0, 'Fell', '1843-01-01T00:00:00.000', 20.96667, 76.1, {'type': 'Point', 'coordinates': [76.1, 20.96667]}, nan, nan], 15405: ['Mangwendi', 'Valid', 'LL6', 22300.0, 'Fell', '1934-01-01T00:00:00.000', -17.65, 31.6, {'type': 'Point', 'coordinates': [31.6, -17.65]}, nan, nan], 15409: ['Manych', 'Valid', 'LL3.4', 3555.0, 'Fell', '1951-01-01T00:00:00.000', 45.81667, 44.63333, {'type': 'Point', 'coordinates': [44.63333, 45.81667]}, nan, nan], 15414: ['Mardan', 'Valid', 'H5', 4500.0, 'Fell', '1948-01-01T00:00:00.000', 34.23333, 72.08333, {'type': 'Point', 'coordinates': [72.08333, 34.23333]}, nan, nan], 15418: ['Maria Linden', 'Valid', 'L4', 114.0, 'Fell', '1925-01-01T00:00:00.000', nan, nan, nan, nan, nan], 15419: ['Mariaville', 'Valid', 'Iron', 340.0, 'Fell', '1898-01-01T00:00:00.000', 42.71667, -99.38333, {'type': 'Point', 'coordinates': [-99.38333, 42.71667]}, 19.0, 471.0], 48973: ['Maribo', 'Valid', 'CM2', 25.81, 'Fell', '2009-01-01T00:00:00.000', 54.76183, 11.46745, {'type': 'Point', 'coordinates': [11.46745, 54.76183]}, nan, nan], 15421: ['Maridi', 'Valid', 'H6', 3200.0, 'Fell', '1941-01-01T00:00:00.000', 4.66667, 29.25, {'type': 'Point', 'coordinates': [29.25, 4.66667]}, nan, nan], 15422: ['Marilia', 'Valid', 'H4', 2500.0, 'Fell', '1971-01-01T00:00:00.000', -22.25, -49.93333, {'type': 'Point', 'coordinates': [-49.93333, -22.25]}, nan, nan], 15424: ['Marion (Iowa)', 'Valid', 'L6', 28400.0, 'Fell', '1847-01-01T00:00:00.000', 41.9, -91.6, {'type': 'Point', 'coordinates': [-91.6, 41.9]}, 16.0, 287.0], 15426: ['Marjalahti', 'Valid', 'Pallasite, PMG', 45000.0, 'Fell', '1902-01-01T00:00:00.000', 61.5, 30.5, {'type': 'Point', 'coordinates': [30.5, 61.5]}, nan, nan], 15429: ['Marmande', 'Valid', 'L5', 3000.0, 'Fell', '1848-01-01T00:00:00.000', 44.5, 0.15, {'type': 'Point', 'coordinates': [0.15, 44.5]}, nan, nan], 15430: ['Maromandia', 'Valid', 'L6', 6000.0, 'Fell', '2002-01-01T00:00:00.000', -14.2, 48.1, {'type': 'Point', 'coordinates': [48.1, -14.2]}, nan, nan], 15436: ['Maryville', 'Valid', 'L6', 1443.0, 'Fell', '1983-01-01T00:00:00.000', 35.8, -84.1, {'type': 'Point', 'coordinates': [-84.1, 35.8]}, 39.0, 2740.0], 15438: ['Mascombes', 'Valid', 'L6', 1000.0, 'Fell', '1836-01-01T00:00:00.000', 45.36667, 1.86667, {'type': 'Point', 'coordinates': [1.86667, 45.36667]}, nan, nan], 53653: ['Mason Gully', 'Valid', 'H5', 24.54, 'Fell', '2010-01-01T00:00:00.000', 0.0, 0.0, {'type': 'Point', 'coordinates': [0, 0]}, nan, nan], 15443: ['Mässing', 'Valid', 'Howardite', 1600.0, 'Fell', '1803-01-01T00:00:00.000', 48.13333, 12.61667, {'type': 'Point', 'coordinates': [12.61667, 48.13333]}, nan, nan], 15446: ['Mauerkirchen', 'Valid', 'L6', 19000.0, 'Fell', '1768-01-01T00:00:00.000', 48.18333, 13.13333, {'type': 'Point', 'coordinates': [13.13333, 48.18333]}, nan, nan], 15447: ['Mauritius', 'Valid', 'L6', 220.0, 'Fell', '1801-01-01T00:00:00.000', -20.0, 57.0, {'type': 'Point', 'coordinates': [57, -20]}, nan, nan], 15451: ['Mayo Belwa', 'Valid', 'Aubrite', 4850.0, 'Fell', '1974-01-01T00:00:00.000', 8.96667, 12.08333, {'type': 'Point', 'coordinates': [12.08333, 8.96667]}, nan, nan], 15453: ['Mazapil', 'Valid', 'Iron, IAB-sLL', 4000.0, 'Fell', '1885-01-01T00:00:00.000', 24.68333, -101.68333, {'type': 'Point', 'coordinates': [-101.68333, 24.68333]}, nan, nan], 15454: ['Maziba', 'Valid', 'L6', 4975.0, 'Fell', '1942-01-01T00:00:00.000', -1.21667, 30.0, {'type': 'Point', 'coordinates': [30, -1.2166700000000001]}, nan, nan], 15455: ['Mbale', 'Valid', 'L5/6', 150000.0, 'Fell', '1992-01-01T00:00:00.000', 1.06667, 34.16667, {'type': 'Point', 'coordinates': [34.16667, 1.06667]}, nan, nan], 15467: ['Medanitos', 'Valid', 'Eucrite-cm', 31.0, 'Fell', '1953-01-01T00:00:00.000', -27.25, -67.5, {'type': 'Point', 'coordinates': [-67.5, -27.25]}, nan, nan], 15469: ['Meerut', 'Valid', 'H5', 22.0, 'Fell', '1861-01-01T00:00:00.000', 29.01667, 77.8, {'type': 'Point', 'coordinates': [77.8, 29.01667]}, nan, nan], 15470: ['Meester-Cornelis', 'Valid', 'H5', 24750.0, 'Fell', '1915-01-01T00:00:00.000', -6.23333, 106.88333, {'type': 'Point', 'coordinates': [106.88333, -6.23333]}, nan, nan], 15485: ['Menow', 'Valid', 'H4', 10500.0, 'Fell', '1862-01-01T00:00:00.000', 53.18333, 13.15, {'type': 'Point', 'coordinates': [13.15, 53.18333]}, nan, nan], 15486: ['Menziswyl', 'Valid', 'L5', 28.9, 'Fell', '1903-01-01T00:00:00.000', 46.81867, 7.21817, {'type': 'Point', 'coordinates': [7.21817, 46.81867]}, nan, nan], 15489: ['Mern', 'Valid', 'L6', 4000.0, 'Fell', '1878-01-01T00:00:00.000', 55.05, 12.06667, {'type': 'Point', 'coordinates': [12.06667, 55.05]}, nan, nan], 15491: ['Meru', 'Valid', 'LL6', 6000.0, 'Fell', '1945-01-01T00:00:00.000', 0.0, 37.66667, {'type': 'Point', 'coordinates': [37.66667, 0]}, nan, nan], 15492: ['Merua', 'Valid', 'H5', 71400.0, 'Fell', '1920-01-01T00:00:00.000', 25.48333, 81.98333, {'type': 'Point', 'coordinates': [81.98333, 25.48333]}, nan, nan], 15495: ['Messina', 'Valid', 'L5', 2405.0, 'Fell', '1955-01-01T00:00:00.000', 38.18333, 15.56667, {'type': 'Point', 'coordinates': [15.56667, 38.18333]}, nan, nan], 16626: ['Meuselbach', 'Valid', 'L6', 870.0, 'Fell', '1897-01-01T00:00:00.000', 50.58333, 11.1, {'type': 'Point', 'coordinates': [11.1, 50.58333]}, nan, nan], 16627: ['Mezel', 'Valid', 'L6', 1300.0, 'Fell', '1949-01-01T00:00:00.000', 45.76667, 3.25, {'type': 'Point', 'coordinates': [3.25, 45.76667]}, nan, nan], 16628: ['Mezö-Madaras', 'Valid', 'L3.7', 22700.0, 'Fell', '1852-01-01T00:00:00.000', 46.5, 25.73333, {'type': 'Point', 'coordinates': [25.73333, 46.5]}, nan, nan], 16629: ['Mhow', 'Valid', 'L6', 350.0, 'Fell', '1827-01-01T00:00:00.000', 25.9, 83.61667, {'type': 'Point', 'coordinates': [83.61667, 25.9]}, nan, nan], 16631: ['Mianchi', 'Valid', 'H5', 1100.0, 'Fell', '1980-01-01T00:00:00.000', 34.8, 111.7, {'type': 'Point', 'coordinates': [111.7, 34.8]}, nan, nan], 16632: ['Middlesbrough', 'Valid', 'L6', 1600.0, 'Fell', '1881-01-01T00:00:00.000', 54.56667, -1.16667, {'type': 'Point', 'coordinates': [-1.16667, 54.56667]}, nan, nan], 52090: ['Mifflin', 'Valid', 'L5', 3584.0, 'Fell', '2010-01-01T00:00:00.000', 42.9075, -90.36556, {'type': 'Point', 'coordinates': [-90.36556, 42.9075]}, 41.0, 2996.0], 16634: ['Mighei', 'Valid', 'CM2', 8000.0, 'Fell', '1889-01-01T00:00:00.000', 48.06667, 30.96667, {'type': 'Point', 'coordinates': [30.96667, 48.06667]}, nan, nan], 16635: ['Mihonoseki', 'Valid', 'L6', 6380.0, 'Fell', '1992-01-01T00:00:00.000', 35.56833, 133.22, {'type': 'Point', 'coordinates': [133.22, 35.56833]}, nan, nan], 16636: ['Mike', 'Valid', 'L6', 224.2, 'Fell', '1944-01-01T00:00:00.000', 46.23333, 17.53333, {'type': 'Point', 'coordinates': [17.53333, 46.23333]}, nan, nan], 16640: ['Milena', 'Valid', 'L6', 10000.0, 'Fell', '1842-01-01T00:00:00.000', 46.18333, 16.1, {'type': 'Point', 'coordinates': [16.1, 46.18333]}, nan, nan], 16643: ['Millbillillie', 'Valid', 'Eucrite-mmict', 330000.0, 'Fell', '1960-01-01T00:00:00.000', -26.45, 120.36667, {'type': 'Point', 'coordinates': [120.36667, -26.45]}, nan, nan], 16645: ['Miller (Arkansas)', 'Valid', 'H5', 16700.0, 'Fell', '1930-01-01T00:00:00.000', 35.4, -92.05, {'type': 'Point', 'coordinates': [-92.05, 35.4]}, 15.0, 11.0], 16692: ['Minamino', 'Valid', 'L', 1040.0, 'Fell', '1632-01-01T00:00:00.000', 35.07833, 136.93333, {'type': 'Point', 'coordinates': [136.93333, 35.07833]}, nan, nan], 16696: ['Mineo', 'Valid', 'Pallasite', 42.0, 'Fell', '1826-01-01T00:00:00.000', 37.28333, 14.7, {'type': 'Point', 'coordinates': [14.7, 37.28333]}, nan, nan], 16697: ['Min-Fan-Zhun', 'Valid', 'LL6', 5500.0, 'Fell', '1952-01-01T00:00:00.000', 32.33333, 120.66667, {'type': 'Point', 'coordinates': [120.66667, 32.33333]}, nan, nan], 16700: ['Minnichhof', 'Valid', 'OC', 550.0, 'Fell', '1905-01-01T00:00:00.000', 47.7, 16.6, {'type': 'Point', 'coordinates': [16.6, 47.7]}, nan, nan], 16701: ['Mirzapur', 'Valid', 'L5', 8510.0, 'Fell', '1910-01-01T00:00:00.000', 25.68333, 83.25, {'type': 'Point', 'coordinates': [83.25, 25.68333]}, nan, nan], 16703: ['Misshof', 'Valid', 'H5', 5800.0, 'Fell', '1890-01-01T00:00:00.000', 56.66667, 23.0, {'type': 'Point', 'coordinates': [23, 56.66667]}, nan, nan], 16707: ['Mjelleim', 'Valid', 'H', 100.7, 'Fell', '1898-01-01T00:00:00.000', 61.73333, 5.93333, {'type': 'Point', 'coordinates': [5.93333, 61.73333]}, nan, nan], 16709: ['Mocs', 'Valid', 'L5-6', 300000.0, 'Fell', '1882-01-01T00:00:00.000', 46.8, 24.03333, {'type': 'Point', 'coordinates': [24.03333, 46.8]}, nan, nan], 16711: ['Modoc (1905)', 'Valid', 'L6', 35000.0, 'Fell', '1905-01-01T00:00:00.000', 38.5, -101.1, {'type': 'Point', 'coordinates': [-101.1, 38.5]}, 17.0, 1290.0], 16713: ['Mokoia', 'Valid', 'CV3', 4500.0, 'Fell', '1908-01-01T00:00:00.000', -39.63333, 174.4, {'type': 'Point', 'coordinates': [174.4, -39.63333]}, nan, nan], 16715: ['Molina', 'Valid', 'H5', 144000.0, 'Fell', '1858-01-01T00:00:00.000', 38.11667, -1.16667, {'type': 'Point', 'coordinates': [-1.16667, 38.11667]}, nan, nan], 16717: ['Molteno', 'Valid', 'Howardite', 150.0, 'Fell', '1953-01-01T00:00:00.000', -31.25, 26.46667, {'type': 'Point', 'coordinates': [26.46667, -31.25]}, nan, nan], 16719: ['Monahans (1998)', 'Valid', 'H5', 2587.0, 'Fell', '1998-01-01T00:00:00.000', 31.60833, -102.85833, {'type': 'Point', 'coordinates': [-102.85833, 31.60833]}, 23.0, 2957.0], 16720: ['Monroe', 'Valid', 'H4', 8600.0, 'Fell', '1849-01-01T00:00:00.000', 35.25, -80.5, {'type': 'Point', 'coordinates': [-80.5, 35.25]}, 37.0, 636.0], 16725: ['Monte das Fortes', 'Valid', 'L5', 4885.0, 'Fell', '1950-01-01T00:00:00.000', 38.01667, -8.25, {'type': 'Point', 'coordinates': [-8.25, 38.01667]}, nan, nan], 16726: ['Monte Milone', 'Valid', 'L5', 3130.0, 'Fell', '1846-01-01T00:00:00.000', 43.26667, 13.35, {'type': 'Point', 'coordinates': [13.35, 43.26667]}, nan, nan], 16727: ['Montferré', 'Valid', 'H5', 149000.0, 'Fell', '1923-01-01T00:00:00.000', 43.39056, 1.9625, {'type': 'Point', 'coordinates': [1.9625, 43.39056]}, nan, nan], 16729: ['Montlivault', 'Valid', 'L6', 500.0, 'Fell', '1838-01-01T00:00:00.000', 47.63333, 1.58333, {'type': 'Point', 'coordinates': [1.5833300000000001, 47.63333]}, nan, nan], 16733: ['Monze', 'Valid', 'L6', nan, 'Fell', '1950-01-01T00:00:00.000', -15.96667, 27.35, {'type': 'Point', 'coordinates': [27.35, -15.96667]}, nan, nan], 16736: ['Moore County', 'Valid', 'Eucrite-cm', 1880.0, 'Fell', '1913-01-01T00:00:00.000', 35.41667, -79.38333, {'type': 'Point', 'coordinates': [-79.38333, 35.41667]}, 37.0, 2431.0], 16737: ['Mooresfort', 'Valid', 'H5', 3520.0, 'Fell', '1810-01-01T00:00:00.000', 52.45, -8.33333, {'type': 'Point', 'coordinates': [-8.33333, 52.45]}, nan, nan], 16738: ['Moorleah', 'Valid', 'L6', 8887.5, 'Fell', '1930-01-01T00:00:00.000', -40.975, 145.6, {'type': 'Point', 'coordinates': [145.6, -40.975]}, nan, nan], 16740: ['Moradabad', 'Valid', 'L6', 70.0, 'Fell', '1808-01-01T00:00:00.000', 28.78333, 78.83333, {'type': 'Point', 'coordinates': [78.83333, 28.78333]}, nan, nan], 16742: ['Morávka', 'Valid', 'H5', 633.0, 'Fell', '2000-01-01T00:00:00.000', 49.6, 18.53333, {'type': 'Point', 'coordinates': [18.53333, 49.6]}, nan, nan], 16747: ['Mornans', 'Valid', 'H5', 1300.0, 'Fell', '1875-01-01T00:00:00.000', 44.6, 5.13333, {'type': 'Point', 'coordinates': [5.13333, 44.6]}, nan, nan], 36592: ['Moss', 'Valid', 'CO3.6', 3763.0, 'Fell', '2006-01-01T00:00:00.000', 59.43333, 10.7, {'type': 'Point', 'coordinates': [10.7, 59.43333]}, nan, nan], 16759: ['Moti-ka-nagla', 'Valid', 'H6', 1500.0, 'Fell', '1868-01-01T00:00:00.000', 26.83333, 77.33333, {'type': 'Point', 'coordinates': [77.33333, 26.83333]}, nan, nan], 16762: ['Motta di Conti', 'Valid', 'H4', 9150.0, 'Fell', '1868-01-01T00:00:00.000', 45.2, 8.5, {'type': 'Point', 'coordinates': [8.5, 45.2]}, nan, nan], 16766: ['Mount Browne', 'Valid', 'H6', 11300.0, 'Fell', '1902-01-01T00:00:00.000', -29.8, 141.7, {'type': 'Point', 'coordinates': [141.7, -29.8]}, nan, nan], 16804: ['Mount Tazerzait', 'Valid', 'L5', 110000.0, 'Fell', '1991-01-01T00:00:00.000', 18.7, 4.8, {'type': 'Point', 'coordinates': [4.8, 18.7]}, nan, nan], 16805: ['Mount Vaisi', 'Valid', 'Stone-uncl', 17000.0, 'Fell', '1637-01-01T00:00:00.000', 44.08333, 6.86667, {'type': 'Point', 'coordinates': [6.86667, 44.08333]}, nan, nan], 16820: ['Mtola', 'Valid', 'Stone-uncl', 1100.0, 'Fell', '1944-01-01T00:00:00.000', -11.5, 33.5, {'type': 'Point', 'coordinates': [33.5, -11.5]}, nan, nan], 16841: ['Muddoor', 'Valid', 'L5', 4400.0, 'Fell', '1865-01-01T00:00:00.000', 12.63333, 77.01667, {'type': 'Point', 'coordinates': [77.01667, 12.63333]}, nan, nan], 16851: ['Mulletiwu', 'Valid', 'L', 25.5, 'Fell', '1795-01-01T00:00:00.000', 9.33333, 80.83333, {'type': 'Point', 'coordinates': [80.83333, 9.33333]}, nan, nan], 16874: ['Muraid', 'Valid', 'L6', 4703.0, 'Fell', '1924-01-01T00:00:00.000', 24.5, 90.21667, {'type': 'Point', 'coordinates': [90.21667, 24.5]}, nan, nan], 16875: ['Murchison', 'Valid', 'CM2', 100000.0, 'Fell', '1969-01-01T00:00:00.000', -36.61667, 145.2, {'type': 'Point', 'coordinates': [145.2, -36.61667]}, nan, nan], 16882: ['Murray', 'Valid', 'CM2', 12600.0, 'Fell', '1950-01-01T00:00:00.000', 36.6, -88.1, {'type': 'Point', 'coordinates': [-88.1, 36.6]}, 36.0, 237.0], 16885: ['Muzaffarpur', 'Valid', 'Iron, IAB-sHL', 1245.0, 'Fell', '1964-01-01T00:00:00.000', 26.13333, 85.53333, {'type': 'Point', 'coordinates': [85.53333, 26.13333]}, nan, nan], 16887: ['Myhee Caunta', 'Valid', 'OC', nan, 'Fell', '1842-01-01T00:00:00.000', 23.05, 72.63333, {'type': 'Point', 'coordinates': [72.63333, 23.05]}, nan, nan], 16889: ['Nadiabondi', 'Valid', 'H5', 8165.0, 'Fell', '1956-01-01T00:00:00.000', 12.0, 1.0, {'type': 'Point', 'coordinates': [1, 12]}, nan, nan], 16890: ['Nagai', 'Valid', 'L6', 1810.0, 'Fell', '1922-01-01T00:00:00.000', 38.12167, 140.06167, {'type': 'Point', 'coordinates': [140.06167, 38.12167]}, nan, nan], 16892: ['Nagaria', 'Valid', 'Eucrite-cm', 20.0, 'Fell', '1875-01-01T00:00:00.000', 26.98333, 78.21667, {'type': 'Point', 'coordinates': [78.21667, 26.98333]}, nan, nan], 16893: ['Nagy-Borové', 'Valid', 'L5', 6100.0, 'Fell', '1895-01-01T00:00:00.000', 49.16667, 19.5, {'type': 'Point', 'coordinates': [19.5, 49.16667]}, nan, nan], 16898: ['Nakhla', 'Valid', 'Martian (nakhlite)', 10000.0, 'Fell', '1911-01-01T00:00:00.000', 31.31667, 30.35, {'type': 'Point', 'coordinates': [30.35, 31.31667]}, nan, nan], 16899: ['Nakhon Pathom', 'Valid', 'L6', 23200.0, 'Fell', '1923-01-01T00:00:00.000', 13.73333, 100.08333, {'type': 'Point', 'coordinates': [100.08333, 13.73333]}, nan, nan], 16902: ['Nammianthal', 'Valid', 'H5', 4500.0, 'Fell', '1886-01-01T00:00:00.000', 12.28333, 79.2, {'type': 'Point', 'coordinates': [79.2, 12.28333]}, nan, nan], 16903: ['Nan Yang Pao', 'Valid', 'L6', 52900.0, 'Fell', '1917-01-01T00:00:00.000', 35.66667, 103.5, {'type': 'Point', 'coordinates': [103.5, 35.66667]}, nan, nan], 16904: ['Nanjemoy', 'Valid', 'H6', 7500.0, 'Fell', '1825-01-01T00:00:00.000', 38.41667, -77.16667, {'type': 'Point', 'coordinates': [-77.16667, 38.41667]}, 45.0, 419.0], 16907: ['Nantong', 'Valid', 'H6', 529.0, 'Fell', '1984-01-01T00:00:00.000', 32.11667, 121.8, {'type': 'Point', 'coordinates': [121.8, 32.11667]}, nan, nan], 16908: ['Naoki', 'Valid', 'H6', 17000.0, 'Fell', '1928-01-01T00:00:00.000', 19.25, 77.0, {'type': 'Point', 'coordinates': [77, 19.25]}, nan, nan], 16909: ['Naragh', 'Valid', 'H6', 2700.0, 'Fell', '1974-01-01T00:00:00.000', 33.75, 51.5, {'type': 'Point', 'coordinates': [51.5, 33.75]}, nan, nan], 16912: ['Narellan', 'Valid', 'L6', 367.5, 'Fell', '1928-01-01T00:00:00.000', -34.05, 150.68889, {'type': 'Point', 'coordinates': [150.68889, -34.05]}, nan, nan], 16914: ['Narni', 'Valid', 'Stone-uncl', nan, 'Fell', '0921-01-01T00:00:00.000', 42.51667, 12.51667, {'type': 'Point', 'coordinates': [12.51667, 42.51667]}, nan, nan], 16922: ['Nassirah', 'Valid', 'H4', 347.0, 'Fell', '1936-01-01T00:00:00.000', -21.73333, 165.9, {'type': 'Point', 'coordinates': [165.9, -21.73333]}, nan, nan], 16923: ['Natal', 'Valid', 'Stone-uncl', 1.4, 'Fell', '1973-01-01T00:00:00.000', nan, nan, nan, nan, nan], 16927: ['Nawapali', 'Valid', 'CM2', 105.0, 'Fell', '1890-01-01T00:00:00.000', 21.25, 83.66667, {'type': 'Point', 'coordinates': [83.66667, 21.25]}, nan, nan], 16934: ['Neagari', 'Valid', 'L6', 420.0, 'Fell', '1995-01-01T00:00:00.000', 36.44917, 136.46528, {'type': 'Point', 'coordinates': [136.46528, 36.44917]}, nan, nan], 16935: ['Nedagolla', 'Valid', 'Iron, ungrouped', 4500.0, 'Fell', '1870-01-01T00:00:00.000', 18.68333, 83.48333, {'type': 'Point', 'coordinates': [83.48333, 18.68333]}, nan, nan], 16941: ['Nejo', 'Valid', 'L6', 2450.0, 'Fell', '1970-01-01T00:00:00.000', 9.5, 35.33333, {'type': 'Point', 'coordinates': [35.33333, 9.5]}, nan, nan], 16945: ['Nerft', 'Valid', 'L6', 10250.0, 'Fell', '1864-01-01T00:00:00.000', 56.5, 21.5, {'type': 'Point', 'coordinates': [21.5, 56.5]}, nan, nan], 16950: ['Neuschwanstein', 'Valid', 'EL6', 6189.0, 'Fell', '2002-01-01T00:00:00.000', 47.525, 10.80833, {'type': 'Point', 'coordinates': [10.80833, 47.525]}, nan, nan], 16953: ['New Concord', 'Valid', 'L6', 230000.0, 'Fell', '1860-01-01T00:00:00.000', 40.0, -81.76667, {'type': 'Point', 'coordinates': [-81.76667, 40]}, 38.0, 2615.0], 16954: ['New Halfa', 'Valid', 'L4', 12000.0, 'Fell', '1994-01-01T00:00:00.000', 15.36667, 35.68333, {'type': 'Point', 'coordinates': [35.68333, 15.36667]}, nan, nan], 16960: ['New Orleans', 'Valid', 'H5', 19256.0, 'Fell', '2003-01-01T00:00:00.000', 29.94718, -90.10976, {'type': 'Point', 'coordinates': [-90.10976, 29.94718]}, 22.0, 1667.0], 16966: ['Ngawi', 'Valid', 'LL3.6', 1393.0, 'Fell', '1883-01-01T00:00:00.000', -7.45, 111.41667, {'type': 'Point', 'coordinates': [111.41667, -7.45]}, nan, nan], 16968: [\"N'Goureyma\", 'Valid', 'Iron, ungrouped', 37500.0, 'Fell', '1900-01-01T00:00:00.000', 13.85, -4.38333, {'type': 'Point', 'coordinates': [-4.38333, 13.85]}, nan, nan], 16970: ['Nicorps', 'Valid', 'Stone-uncl', nan, 'Fell', '1750-01-01T00:00:00.000', 49.03333, -1.43333, {'type': 'Point', 'coordinates': [-1.43333, 49.03333]}, nan, nan], 16974: ['Niger (L6)', 'Valid', 'L6', 3.3, 'Fell', '1967-01-01T00:00:00.000', nan, nan, nan, nan, nan], 16975: ['Niger (LL6)', 'Valid', 'LL6', 3.3, 'Fell', '1967-01-01T00:00:00.000', nan, nan, nan, nan, nan], 16976: ['Nikolaevka', 'Valid', 'H4', 3996.0, 'Fell', '1935-01-01T00:00:00.000', 52.45, 78.63333, {'type': 'Point', 'coordinates': [78.63333, 52.45]}, nan, nan], 16977: ['Nikolskoe', 'Valid', 'L4', 6000.0, 'Fell', '1954-01-01T00:00:00.000', 56.11667, 37.33333, {'type': 'Point', 'coordinates': [37.33333, 56.11667]}, nan, nan], 16980: ['Ningbo', 'Valid', 'Iron, IVA', 14250.0, 'Fell', '1975-01-01T00:00:00.000', 29.86667, 121.48333, {'type': 'Point', 'coordinates': [121.48333, 29.86667]}, nan, nan], 16981: ['Ningqiang', 'Valid', 'C3-ung', 4610.0, 'Fell', '1983-01-01T00:00:00.000', 32.925, 105.90667, {'type': 'Point', 'coordinates': [105.90667, 32.925]}, nan, nan], 16982: ['Nio', 'Valid', 'H3-4', 467.0, 'Fell', '1897-01-01T00:00:00.000', 34.2, 131.56667, {'type': 'Point', 'coordinates': [131.56667, 34.2]}, nan, nan], 16983: [\"N'Kandhla\", 'Valid', 'Iron, IID', 17200.0, 'Fell', '1912-01-01T00:00:00.000', -28.56667, 30.7, {'type': 'Point', 'coordinates': [30.7, -28.56667]}, nan, nan], 16984: ['Nobleborough', 'Valid', 'Eucrite-pmict', 2300.0, 'Fell', '1823-01-01T00:00:00.000', 44.08333, -69.48333, {'type': 'Point', 'coordinates': [-69.48333, 44.08333]}, 49.0, 1683.0], 16985: ['Noblesville', 'Valid', 'H4-6', 483.7, 'Fell', '1991-01-01T00:00:00.000', 40.08528, -86.055, {'type': 'Point', 'coordinates': [-86.055, 40.08528]}, 35.0, 2238.0], 16988: ['Nogata', 'Valid', 'L6', 472.0, 'Fell', '0861-01-01T00:00:00.000', 33.725, 130.75, {'type': 'Point', 'coordinates': [130.75, 33.725]}, nan, nan], 16989: ['Nogoya', 'Valid', 'CM2', 4000.0, 'Fell', '1879-01-01T00:00:00.000', -32.36667, -59.83333, {'type': 'Point', 'coordinates': [-59.83333, -32.36667]}, nan, nan], 16994: ['Norfork', 'Valid', 'Iron, IIIAB', 1050.0, 'Fell', '1918-01-01T00:00:00.000', 36.21667, -92.26667, {'type': 'Point', 'coordinates': [-92.26667, 36.21667]}, 15.0, 10.0], 17922: ['Norton County', 'Valid', 'Aubrite', 1100000.0, 'Fell', '1948-01-01T00:00:00.000', 39.68333, -99.86667, {'type': 'Point', 'coordinates': [-99.86667, 39.68333]}, 17.0, 1252.0], 17930: ['Noventa Vicentina', 'Valid', 'H4', 177.0, 'Fell', '1971-01-01T00:00:00.000', 45.29167, 11.52722, {'type': 'Point', 'coordinates': [11.52722, 45.29167]}, nan, nan], 17933: ['Novo-Urei', 'Valid', 'Ureilite', 1900.0, 'Fell', '1886-01-01T00:00:00.000', 54.81667, 46.0, {'type': 'Point', 'coordinates': [46, 54.81667]}, nan, nan], 17934: ['Novy-Ergi', 'Valid', 'Stone-uncl', nan, 'Fell', '1662-01-01T00:00:00.000', 58.55, 31.33333, {'type': 'Point', 'coordinates': [31.33333, 58.55]}, nan, nan], 17935: ['Novy-Projekt', 'Valid', 'OC', 1001.0, 'Fell', '1908-01-01T00:00:00.000', 56.0, 22.0, {'type': 'Point', 'coordinates': [22, 56]}, nan, nan], 17936: ['Noyan-Bogdo', 'Valid', 'L6', 250.0, 'Fell', '1933-01-01T00:00:00.000', 42.91667, 102.46667, {'type': 'Point', 'coordinates': [102.46667, 42.91667]}, nan, nan], 17938: ['Nuevo Mercurio', 'Valid', 'H5', 50000.0, 'Fell', '1978-01-01T00:00:00.000', 24.3, -102.13333, {'type': 'Point', 'coordinates': [-102.13333, 24.3]}, nan, nan], 17959: ['Nulles', 'Valid', 'H6', 5000.0, 'Fell', '1851-01-01T00:00:00.000', 41.63333, 0.75, {'type': 'Point', 'coordinates': [0.75, 41.63333]}, nan, nan], 17960: ['Numakai', 'Valid', 'H4', 363.0, 'Fell', '1925-01-01T00:00:00.000', 43.33333, 141.86667, {'type': 'Point', 'coordinates': [141.86667, 43.33333]}, nan, nan], 17969: ['Nyaung', 'Valid', 'Iron, IIIAB', 737.6, 'Fell', '1939-01-01T00:00:00.000', 21.20833, 94.91667, {'type': 'Point', 'coordinates': [94.91667, 21.20833]}, nan, nan], 17970: ['Nyirábrany', 'Valid', 'LL5', 1100.0, 'Fell', '1914-01-01T00:00:00.000', 47.55, 22.025, {'type': 'Point', 'coordinates': [22.025, 47.55]}, nan, nan], 17979: ['Ochansk', 'Valid', 'H4', 500000.0, 'Fell', '1887-01-01T00:00:00.000', 57.78333, 55.26667, {'type': 'Point', 'coordinates': [55.26667, 57.78333]}, nan, nan], 17988: ['Oesede', 'Valid', 'H5', 1400.0, 'Fell', '1927-01-01T00:00:00.000', 52.28333, 8.05, {'type': 'Point', 'coordinates': [8.05, 52.28333]}, nan, nan], 17989: ['Oesel', 'Valid', 'L6', 6000.0, 'Fell', '1855-01-01T00:00:00.000', 58.5, 23.0, {'type': 'Point', 'coordinates': [23, 58.5]}, nan, nan], 17990: ['Ofehértó', 'Valid', 'L6', 3750.0, 'Fell', '1900-01-01T00:00:00.000', 47.88333, 22.03333, {'type': 'Point', 'coordinates': [22.03333, 47.88333]}, nan, nan], 17994: ['Ogi', 'Valid', 'H6', 14360.0, 'Fell', '1741-01-01T00:00:00.000', 33.28333, 130.2, {'type': 'Point', 'coordinates': [130.2, 33.28333]}, nan, nan], 17995: ['Ohaba', 'Valid', 'H5', 16250.0, 'Fell', '1857-01-01T00:00:00.000', 46.06667, 23.58333, {'type': 'Point', 'coordinates': [23.58333, 46.06667]}, nan, nan], 17996: ['Ohuma', 'Valid', 'L5', 7700.0, 'Fell', '1963-01-01T00:00:00.000', 6.75, 8.5, {'type': 'Point', 'coordinates': [8.5, 6.75]}, nan, nan], 17997: ['Ojuelos Altos', 'Valid', 'L6', 5850.0, 'Fell', '1926-01-01T00:00:00.000', 38.18333, -5.4, {'type': 'Point', 'coordinates': [-5.4, 38.18333]}, nan, nan], 17998: ['Okabe', 'Valid', 'H5', 194.0, 'Fell', '1958-01-01T00:00:00.000', 36.18333, 139.21667, {'type': 'Point', 'coordinates': [139.21667, 36.18333]}, nan, nan], 18000: ['Okano', 'Valid', 'Iron, IIAB', 4742.0, 'Fell', '1904-01-01T00:00:00.000', 35.08333, 135.2, {'type': 'Point', 'coordinates': [135.2, 35.08333]}, nan, nan], 18002: ['Okniny', 'Valid', 'LL6', 12000.0, 'Fell', '1834-01-01T00:00:00.000', 50.83333, 25.5, {'type': 'Point', 'coordinates': [25.5, 50.83333]}, nan, nan], 18009: ['Oldenburg (1930)', 'Valid', 'L6', 16570.0, 'Fell', '1930-01-01T00:00:00.000', 52.95, 8.16667, {'type': 'Point', 'coordinates': [8.16667, 52.95]}, nan, nan], 18012: ['Oliva-Gandia', 'Valid', 'Stone-uncl', nan, 'Fell', '1520-01-01T00:00:00.000', 39.0, -0.03333, {'type': 'Point', 'coordinates': [-0.033330000000000005, 39]}, nan, nan], 18013: ['Olivenza', 'Valid', 'LL5', 150000.0, 'Fell', '1924-01-01T00:00:00.000', 38.71667, -7.06667, {'type': 'Point', 'coordinates': [-7.06667, 38.71667]}, nan, nan], 18015: ['Olmedilla de Alarcón', 'Valid', 'H5', 40000.0, 'Fell', '1929-01-01T00:00:00.000', 39.56667, -2.1, {'type': 'Point', 'coordinates': [-2.1, 39.56667]}, nan, nan], 18019: ['Omolon', 'Valid', 'Pallasite, PMG', 250000.0, 'Fell', '1981-01-01T00:00:00.000', 64.02, 161.80833, {'type': 'Point', 'coordinates': [161.80833, 64.02]}, nan, nan], 18026: ['Orgueil', 'Valid', 'CI1', 14000.0, 'Fell', '1864-01-01T00:00:00.000', 43.88333, 1.38333, {'type': 'Point', 'coordinates': [1.38333, 43.88333]}, nan, nan], 34489: ['Orlando', 'Valid', 'Eucrite', 180.0, 'Fell', '2004-01-01T00:00:00.000', 28.5475, -81.36222, {'type': 'Point', 'coordinates': [-81.36222, 28.5475]}, 30.0, 1078.0], 18030: ['Ornans', 'Valid', 'CO3.4', 6000.0, 'Fell', '1868-01-01T00:00:00.000', 47.11667, 6.15, {'type': 'Point', 'coordinates': [6.15, 47.11667]}, nan, nan], 18033: ['Ortenau', 'Valid', 'Stone-uncl', 4500.0, 'Fell', '1671-01-01T00:00:00.000', 48.5, 8.0, {'type': 'Point', 'coordinates': [8, 48.5]}, nan, nan], 18034: ['Orvinio', 'Valid', 'H6', 3400.0, 'Fell', '1872-01-01T00:00:00.000', 42.13333, 12.93333, {'type': 'Point', 'coordinates': [12.93333, 42.13333]}, nan, nan], 18042: ['Oterøy', 'Valid', 'L6', 246.0, 'Fell', '1928-01-01T00:00:00.000', 58.88333, 9.4, {'type': 'Point', 'coordinates': [9.4, 58.88333]}, nan, nan], 18045: ['Otomi', 'Valid', 'H', 6510.0, 'Fell', '1867-01-01T00:00:00.000', 38.4, 140.35, {'type': 'Point', 'coordinates': [140.35, 38.4]}, nan, nan], 18046: ['Ottawa', 'Valid', 'LL6', 840.0, 'Fell', '1896-01-01T00:00:00.000', 38.6, -95.21667, {'type': 'Point', 'coordinates': [-95.21667, 38.6]}, 17.0, 1947.0], 56729: ['Ouadangou', 'Valid', 'L5', 4440.0, 'Fell', '2003-01-01T00:00:00.000', 12.9, 0.08, {'type': 'Point', 'coordinates': [0.08, 12.9]}, nan, nan], 18050: ['Oued el Hadjar', 'Valid', 'LL6', 1215.5, 'Fell', '1986-01-01T00:00:00.000', 30.18, -6.57717, {'type': 'Point', 'coordinates': [-6.57717, 30.18]}, nan, nan], 31282: ['Oum Dreyga', 'Valid', 'H3-5', 17000.0, 'Fell', '2003-01-01T00:00:00.000', 24.3, -13.1, {'type': 'Point', 'coordinates': [-13.1, 24.3]}, nan, nan], 18052: ['Ourique', 'Valid', 'H4', 20000.0, 'Fell', '1998-01-01T00:00:00.000', 37.60833, -8.28, {'type': 'Point', 'coordinates': [-8.28, 37.60833]}, nan, nan], 18055: ['Ovambo', 'Valid', 'L6', 121.5, 'Fell', '1900-01-01T00:00:00.000', -18.0, 16.0, {'type': 'Point', 'coordinates': [16, -18]}, nan, nan], 18058: ['Oviedo', 'Valid', 'H5', 205.0, 'Fell', '1856-01-01T00:00:00.000', 43.4, -5.86667, {'type': 'Point', 'coordinates': [-5.86667, 43.4]}, nan, nan], 18062: ['Owrucz', 'Valid', 'OC', nan, 'Fell', '1775-01-01T00:00:00.000', 51.33333, 28.83333, {'type': 'Point', 'coordinates': [28.83333, 51.33333]}, nan, nan], 18068: ['Pacula', 'Valid', 'L6', 3400.0, 'Fell', '1881-01-01T00:00:00.000', 21.05, -99.3, {'type': 'Point', 'coordinates': [-99.3, 21.05]}, nan, nan], 18069: ['Padvarninkai', 'Valid', 'Eucrite-mmict', 3858.0, 'Fell', '1929-01-01T00:00:00.000', 55.66667, 25.0, {'type': 'Point', 'coordinates': [25, 55.66667]}, nan, nan], 18072: ['Paitan', 'Valid', 'H6', 515.0, 'Fell', '1910-01-01T00:00:00.000', 17.74333, 120.45583, {'type': 'Point', 'coordinates': [120.45583, 17.74333]}, nan, nan], 18073: ['Palahatchie', 'Valid', 'OC', nan, 'Fell', '1910-01-01T00:00:00.000', 32.31667, -89.71667, {'type': 'Point', 'coordinates': [-89.71667, 32.31667]}, 32.0, 503.0], 18074: ['Palca de Aparzo', 'Valid', 'L5', 1430.0, 'Fell', '1988-01-01T00:00:00.000', -23.11667, -65.1, {'type': 'Point', 'coordinates': [-65.1, -23.11667]}, nan, nan], 18077: ['Palinshih', 'Valid', 'Iron', 18000.0, 'Fell', '1914-01-01T00:00:00.000', 43.48333, 118.61667, {'type': 'Point', 'coordinates': [118.61667, 43.48333]}, nan, nan], 18079: ['Palmyra', 'Valid', 'L3', 135.0, 'Fell', '1926-01-01T00:00:00.000', 39.8, -91.5, {'type': 'Point', 'coordinates': [-91.5, 39.8]}, 18.0, 2122.0], 18082: ['Palolo Valley', 'Valid', 'H5', 682.0, 'Fell', '1949-01-01T00:00:00.000', 21.3, -157.78333, {'type': 'Point', 'coordinates': [-157.78333, 21.3]}, 4.0, 1657.0], 32591: ['Dominion Range 03239', 'Valid', 'L6', 69.5, 'Found', '2002-01-01T00:00:00.000', nan, nan, nan, nan, nan], 18093: ['Pampanga', 'Valid', 'L5', 10500.0, 'Fell', '1859-01-01T00:00:00.000', 15.08333, 120.7, {'type': 'Point', 'coordinates': [120.7, 15.08333]}, nan, nan], 18098: ['Pantar', 'Valid', 'H5', 2130.0, 'Fell', '1938-01-01T00:00:00.000', 8.06667, 124.28333, {'type': 'Point', 'coordinates': [124.28333, 8.06667]}, nan, nan], 18101: ['Paragould', 'Valid', 'LL5', 408000.0, 'Fell', '1930-01-01T00:00:00.000', 36.06667, -90.5, {'type': 'Point', 'coordinates': [-90.5, 36.06667]}, 15.0, 1023.0], 18102: ['Parambu', 'Valid', 'LL5', 2000.0, 'Fell', '1967-01-01T00:00:00.000', -6.23333, -40.7, {'type': 'Point', 'coordinates': [-40.7, -6.23333]}, nan, nan], 18103: ['Paranaiba', 'Valid', 'L6', 100000.0, 'Fell', '1956-01-01T00:00:00.000', -19.13333, -51.66667, {'type': 'Point', 'coordinates': [-51.66667, -19.13333]}, nan, nan], 18106: ['Park Forest', 'Valid', 'L5', 18000.0, 'Fell', '2003-01-01T00:00:00.000', 41.48472, -87.67917, {'type': 'Point', 'coordinates': [-87.67917, 41.48472]}, 34.0, 1863.0], 18108: ['Parnallee', 'Valid', 'LL3.6', 77600.0, 'Fell', '1857-01-01T00:00:00.000', 9.23333, 78.35, {'type': 'Point', 'coordinates': [78.35, 9.23333]}, nan, nan], 18109: ['Parsa', 'Valid', 'EH3', 800.0, 'Fell', '1942-01-01T00:00:00.000', 26.2, 85.4, {'type': 'Point', 'coordinates': [85.4, 26.2]}, nan, nan], 18110: ['Pasamonte', 'Valid', 'Eucrite-pmict', 5100.0, 'Fell', '1933-01-01T00:00:00.000', 36.21667, -103.4, {'type': 'Point', 'coordinates': [-103.4, 36.21667]}, 11.0, 1994.0], 18112: ['Patora', 'Valid', 'H6', 4375.0, 'Fell', '1969-01-01T00:00:00.000', 20.93694, 82.05, {'type': 'Point', 'coordinates': [82.05, 20.93694]}, nan, nan], 18116: ['Patrimonio', 'Valid', 'L6', 2121.0, 'Fell', '1950-01-01T00:00:00.000', -19.53333, -48.56667, {'type': 'Point', 'coordinates': [-48.56667, -19.53333]}, nan, nan], 18118: ['Patti', 'Valid', 'Iron', 12.0, 'Fell', '1922-01-01T00:00:00.000', 38.13333, 14.96667, {'type': 'Point', 'coordinates': [14.96667, 38.13333]}, nan, nan], 18171: ['Patwar', 'Valid', 'Mesosiderite-A1', 37350.0, 'Fell', '1935-01-01T00:00:00.000', 23.15, 91.18333, {'type': 'Point', 'coordinates': [91.18333, 23.15]}, nan, nan], 18173: ['Pavel', 'Valid', 'H5', 2968.0, 'Fell', '1966-01-01T00:00:00.000', 43.46667, 25.51667, {'type': 'Point', 'coordinates': [25.51667, 43.46667]}, nan, nan], 18175: ['Pavlodar (stone)', 'Valid', 'H5', 142.5, 'Fell', '1938-01-01T00:00:00.000', 52.3, 77.03333, {'type': 'Point', 'coordinates': [77.03333, 52.3]}, nan, nan], 18176: ['Pavlograd', 'Valid', 'L6', 40000.0, 'Fell', '1826-01-01T00:00:00.000', 48.53333, 35.98333, {'type': 'Point', 'coordinates': [35.98333, 48.53333]}, nan, nan], 18177: ['Pavlovka', 'Valid', 'Howardite', 2000.0, 'Fell', '1882-01-01T00:00:00.000', 52.03333, 43.0, {'type': 'Point', 'coordinates': [43, 52.03333]}, nan, nan], 18179: ['Pê', 'Valid', 'L6', nan, 'Fell', '1989-01-01T00:00:00.000', 11.33367, -3.54217, {'type': 'Point', 'coordinates': [-3.54217, 11.33367]}, nan, nan], 18180: ['Peace River', 'Valid', 'L6', 45760.0, 'Fell', '1963-01-01T00:00:00.000', 56.13333, -117.93333, {'type': 'Point', 'coordinates': [-117.93333, 56.13333]}, nan, nan], 18181: ['Peckelsheim', 'Valid', 'Diogenite-pm', 117.8, 'Fell', '1953-01-01T00:00:00.000', 51.66667, 9.25, {'type': 'Point', 'coordinates': [9.25, 51.66667]}, nan, nan], 18782: ['Peekskill', 'Valid', 'H6', 12570.0, 'Fell', '1992-01-01T00:00:00.000', 41.28333, -73.91667, {'type': 'Point', 'coordinates': [-73.91667, 41.28333]}, 47.0, 2185.0], 18786: ['Peña Blanca Spring', 'Valid', 'Aubrite', 70000.0, 'Fell', '1946-01-01T00:00:00.000', 30.125, -103.11667, {'type': 'Point', 'coordinates': [-103.11667, 30.125]}, 23.0, 3062.0], 18792: ['Peramiho', 'Valid', 'Eucrite-mmict', 165.0, 'Fell', '1899-01-01T00:00:00.000', -10.66667, 35.5, {'type': 'Point', 'coordinates': [35.5, -10.66667]}, nan, nan], 18793: ['Perpeti', 'Valid', 'L6', 23474.0, 'Fell', '1935-01-01T00:00:00.000', 23.325, 91.0, {'type': 'Point', 'coordinates': [91, 23.325]}, nan, nan], 18797: ['Perth', 'Valid', 'LL5', 2.0, 'Fell', '1830-01-01T00:00:00.000', 56.4, -3.43333, {'type': 'Point', 'coordinates': [-3.43333, 56.4]}, nan, nan], 18798: ['Pervomaisky', 'Valid', 'L6', 66000.0, 'Fell', '1933-01-01T00:00:00.000', 56.63333, 39.43333, {'type': 'Point', 'coordinates': [39.43333, 56.63333]}, nan, nan], 18799: ['Pesyanoe', 'Valid', 'Aubrite', 3393.0, 'Fell', '1933-01-01T00:00:00.000', 55.5, 66.08333, {'type': 'Point', 'coordinates': [66.08333, 55.5]}, nan, nan], 18800: ['Pétèlkolé', 'Valid', 'H5', 189.0, 'Fell', '1995-01-01T00:00:00.000', 14.052, 0.42, {'type': 'Point', 'coordinates': [0.42, 14.052]}, nan, nan], 18801: ['Petersburg', 'Valid', 'Eucrite-pmict', 1800.0, 'Fell', '1855-01-01T00:00:00.000', 35.3, -86.63333, {'type': 'Point', 'coordinates': [-86.63333, 35.3]}, 39.0, 2017.0], 18804: ['Pettiswood', 'Valid', 'Stone-uncl', nan, 'Fell', '1779-01-01T00:00:00.000', 53.53333, -7.33333, {'type': 'Point', 'coordinates': [-7.33333, 53.53333]}, nan, nan], 18808: ['Phillips County (stone)', 'Valid', 'L6', 57900.0, 'Fell', '1901-01-01T00:00:00.000', 40.0, -99.25, {'type': 'Point', 'coordinates': [-99.25, 40]}, 17.0, 1255.0], 18809: ['Phu Hong', 'Valid', 'H4', 500.0, 'Fell', '1887-01-01T00:00:00.000', 11.25, 108.58333, {'type': 'Point', 'coordinates': [108.58333, 11.25]}, nan, nan], 18811: ['Phum Sambo', 'Valid', 'H4', 7800.0, 'Fell', '1933-01-01T00:00:00.000', 12.0, 105.48333, {'type': 'Point', 'coordinates': [105.48333, 12]}, nan, nan], 18812: ['Phuoc-Binh', 'Valid', 'L5', 11000.0, 'Fell', '1941-01-01T00:00:00.000', 15.71667, 108.1, {'type': 'Point', 'coordinates': [108.1, 15.71667]}, nan, nan], 18813: ['Piancaldoli', 'Valid', 'LL3.4', 13.1, 'Fell', '1968-01-01T00:00:00.000', 44.24417, 11.50222, {'type': 'Point', 'coordinates': [11.50222, 44.24417]}, nan, nan], 18816: ['Picote', 'Valid', 'Stone-uncl', nan, 'Fell', '1843-01-01T00:00:00.000', 41.36667, -6.23333, {'type': 'Point', 'coordinates': [-6.23333, 41.36667]}, nan, nan], 18822: ['Pillistfer', 'Valid', 'EL6', 23250.0, 'Fell', '1863-01-01T00:00:00.000', 58.66667, 25.73333, {'type': 'Point', 'coordinates': [25.73333, 58.66667]}, nan, nan], 18831: ['Piplia Kalan', 'Valid', 'Eucrite-mmict', 42000.0, 'Fell', '1996-01-01T00:00:00.000', 26.03472, 73.94167, {'type': 'Point', 'coordinates': [73.94167, 26.03472]}, nan, nan], 18832: ['Piquetberg', 'Valid', 'H', 37.0, 'Fell', '1881-01-01T00:00:00.000', -32.86667, 18.71667, {'type': 'Point', 'coordinates': [18.71667, -32.86667]}, nan, nan], 18834: ['Pirgunje', 'Valid', 'L6', 842.0, 'Fell', '1882-01-01T00:00:00.000', 25.8, 88.45, {'type': 'Point', 'coordinates': [88.45, 25.8]}, nan, nan], 18835: ['Pirthalla', 'Valid', 'H6', 1161.0, 'Fell', '1884-01-01T00:00:00.000', 29.58333, 76.0, {'type': 'Point', 'coordinates': [76, 29.58333]}, nan, nan], 18837: ['Pitts', 'Valid', 'Iron, IAB-ung', 3760.0, 'Fell', '1921-01-01T00:00:00.000', 31.95, -83.51667, {'type': 'Point', 'coordinates': [-83.51667, 31.95]}, 31.0, 207.0], 18846: ['Plantersville', 'Valid', 'H6', 2085.0, 'Fell', '1930-01-01T00:00:00.000', 30.7, -96.11667, {'type': 'Point', 'coordinates': [-96.11667, 30.7]}, 23.0, 2018.0], 51706: ['Pleşcoi', 'Valid', 'L5-6', 6913.0, 'Fell', '2008-01-01T00:00:00.000', 45.275, 26.70972, {'type': 'Point', 'coordinates': [26.70972, 45.275]}, nan, nan], 18849: ['Ploschkovitz', 'Valid', 'L5', 39.0, 'Fell', '1723-01-01T00:00:00.000', 50.53333, 14.11667, {'type': 'Point', 'coordinates': [14.11667, 50.53333]}, nan, nan], 18851: ['Pnompehn', 'Valid', 'L6', 96.0, 'Fell', '1868-01-01T00:00:00.000', 11.58333, 104.91667, {'type': 'Point', 'coordinates': [104.91667, 11.58333]}, nan, nan], 32592: ['Dominion Range 03240', 'Valid', 'LL5', 290.9, 'Found', '2002-01-01T00:00:00.000', nan, nan, nan, nan, nan], 18853: ['Pohlitz', 'Valid', 'L5', 3000.0, 'Fell', '1819-01-01T00:00:00.000', 50.93333, 12.13333, {'type': 'Point', 'coordinates': [12.13333, 50.93333]}, nan, nan], 18858: ['Pokhra', 'Valid', 'H5', 350.0, 'Fell', '1866-01-01T00:00:00.000', 26.71667, 82.66667, {'type': 'Point', 'coordinates': [82.66667, 26.71667]}, nan, nan], 18860: ['Pollen', 'Valid', 'CM2', 253.6, 'Fell', '1942-01-01T00:00:00.000', 66.34833, 14.015, {'type': 'Point', 'coordinates': [14.015, 66.34833]}, nan, nan], 18865: ['Pontlyfni', 'Valid', 'Winonaite', 157.0, 'Fell', '1931-01-01T00:00:00.000', 53.03639, -4.31944, {'type': 'Point', 'coordinates': [-4.31944, 53.03639]}, nan, nan], 18874: ['Portales Valley', 'Valid', 'H6', 71400.0, 'Fell', '1998-01-01T00:00:00.000', 34.175, -103.295, {'type': 'Point', 'coordinates': [-103.295, 34.175]}, 11.0, 1987.0], 18876: ['Portugal', 'Valid', 'Stone-uncl', 4500.0, 'Fell', '1796-01-01T00:00:00.000', 38.5, -8.0, {'type': 'Point', 'coordinates': [-8, 38.5]}, nan, nan], 18879: ['Po-wang Chen', 'Valid', 'LL', 665.0, 'Fell', '1933-01-01T00:00:00.000', 31.41667, 118.5, {'type': 'Point', 'coordinates': [118.5, 31.41667]}, nan, nan], 18883: ['Prambachkirchen', 'Valid', 'L6', 2125.0, 'Fell', '1932-01-01T00:00:00.000', 48.3025, 13.94083, {'type': 'Point', 'coordinates': [13.94083, 48.3025]}, nan, nan], 18887: ['Pribram', 'Valid', 'H5', 5555.0, 'Fell', '1959-01-01T00:00:00.000', 49.66667, 14.03333, {'type': 'Point', 'coordinates': [14.03333, 49.66667]}, nan, nan], 18888: ['Pricetown', 'Valid', 'L6', 900.0, 'Fell', '1893-01-01T00:00:00.000', 39.11667, -83.85, {'type': 'Point', 'coordinates': [-83.85, 39.11667]}, 38.0, 2566.0], 45984: ['Puerto Lápice', 'Valid', 'Eucrite-br', 500.0, 'Fell', '2007-01-01T00:00:00.000', 39.35, -3.51667, {'type': 'Point', 'coordinates': [-3.51667, 39.35]}, nan, nan], 18899: ['Pulsora', 'Valid', 'H5', 560.0, 'Fell', '1863-01-01T00:00:00.000', 23.36667, 75.18333, {'type': 'Point', 'coordinates': [75.18333, 23.36667]}, nan, nan], 18901: ['Pultusk', 'Valid', 'H5', 250000.0, 'Fell', '1868-01-01T00:00:00.000', 52.76667, 21.26667, {'type': 'Point', 'coordinates': [21.26667, 52.76667]}, nan, nan], 18902: ['Punganaru', 'Valid', 'Stone-uncl', 100.0, 'Fell', '1811-01-01T00:00:00.000', 13.33333, 78.95, {'type': 'Point', 'coordinates': [78.95, 13.33333]}, nan, nan], 18905: ['Putinga', 'Valid', 'L6', 300000.0, 'Fell', '1937-01-01T00:00:00.000', -29.03333, -53.05, {'type': 'Point', 'coordinates': [-53.05, -29.03333]}, nan, nan], 18907: ['Qidong', 'Valid', 'L/LL5', 1275.0, 'Fell', '1982-01-01T00:00:00.000', 32.08333, 121.5, {'type': 'Point', 'coordinates': [121.5, 32.08333]}, nan, nan], 18908: ['Qingzhen', 'Valid', 'EH3', 2600.0, 'Fell', '1976-01-01T00:00:00.000', 26.53333, 106.46667, {'type': 'Point', 'coordinates': [106.46667, 26.53333]}, nan, nan], 22357: [\"Queen's Mercy\", 'Valid', 'H6', 7000.0, 'Fell', '1925-01-01T00:00:00.000', -30.11667, 28.7, {'type': 'Point', 'coordinates': [28.7, -30.11667]}, nan, nan], 22358: ['Quenggouk', 'Valid', 'H4', 6045.0, 'Fell', '1857-01-01T00:00:00.000', 17.76667, 95.18333, {'type': 'Point', 'coordinates': [95.18333, 17.76667]}, nan, nan], 22360: ['Quesa', 'Valid', 'Iron, IAB-ung', 10750.0, 'Fell', '1898-01-01T00:00:00.000', 39.0, -0.66667, {'type': 'Point', 'coordinates': [-0.6666700000000001, 39]}, nan, nan], 22361: ['Quija', 'Valid', 'H', 17450.0, 'Fell', '1990-01-01T00:00:00.000', 44.61667, 126.13333, {'type': 'Point', 'coordinates': [126.13333, 44.61667]}, nan, nan], 22363: ['Quincay', 'Valid', 'L6', 65.0, 'Fell', '1851-01-01T00:00:00.000', 46.6, 0.25, {'type': 'Point', 'coordinates': [0.25, 46.6]}, nan, nan], 22368: ['Raco', 'Valid', 'H5', 5000.0, 'Fell', '1957-01-01T00:00:00.000', -26.66667, -65.45, {'type': 'Point', 'coordinates': [-65.45, -26.66667]}, nan, nan], 22371: ['Raghunathpura', 'Valid', 'Iron, IIAB', 10200.0, 'Fell', '1986-01-01T00:00:00.000', 27.72528, 76.465, {'type': 'Point', 'coordinates': [76.465, 27.72528]}, nan, nan], 31302: ['Rahimyar Khan', 'Valid', 'L5', 67225.0, 'Fell', '1983-01-01T00:00:00.000', 28.225, 70.2, {'type': 'Point', 'coordinates': [70.2, 28.225]}, nan, nan], 22376: ['Rakovka', 'Valid', 'L6', 9000.0, 'Fell', '1878-01-01T00:00:00.000', 52.98333, 37.03333, {'type': 'Point', 'coordinates': [37.03333, 52.98333]}, nan, nan], 22384: ['Ramnagar', 'Valid', 'L6', 3766.0, 'Fell', '1940-01-01T00:00:00.000', 26.45, 82.9, {'type': 'Point', 'coordinates': [82.9, 26.45]}, nan, nan], 22385: ['Rampurhat', 'Valid', 'LL', 100.0, 'Fell', '1916-01-01T00:00:00.000', 24.16667, 87.76667, {'type': 'Point', 'coordinates': [87.76667, 24.16667]}, nan, nan], 22386: ['Ramsdorf', 'Valid', 'L6', 4682.0, 'Fell', '1958-01-01T00:00:00.000', 51.88333, 6.93333, {'type': 'Point', 'coordinates': [6.93333, 51.88333]}, nan, nan], 22387: ['Ranchapur', 'Valid', 'H4', 290.4, 'Fell', '1917-01-01T00:00:00.000', 23.98333, 87.08333, {'type': 'Point', 'coordinates': [87.08333, 23.98333]}, nan, nan], 22390: ['Rancho de la Presa', 'Valid', 'H5', 300.0, 'Fell', '1899-01-01T00:00:00.000', 19.86667, -100.81667, {'type': 'Point', 'coordinates': [-100.81667, 19.86667]}, nan, nan], 22392: ['Rangala', 'Valid', 'L6', 3224.5, 'Fell', '1937-01-01T00:00:00.000', 25.38333, 72.01667, {'type': 'Point', 'coordinates': [72.01667, 25.38333]}, nan, nan], 22394: ['Raoyang', 'Valid', 'L6', 4910.0, 'Fell', '1919-01-01T00:00:00.000', 38.2, 115.7, {'type': 'Point', 'coordinates': [115.7, 38.2]}, nan, nan], 22395: ['Ras Tanura', 'Valid', 'H6', 6.1, 'Fell', '1961-01-01T00:00:00.000', 26.66667, 50.15, {'type': 'Point', 'coordinates': [50.15, 26.66667]}, nan, nan], 22396: ['Rasgrad', 'Valid', 'Stone-uncl', 24700.0, 'Fell', '1740-01-01T00:00:00.000', 43.5, 26.53333, {'type': 'Point', 'coordinates': [26.53333, 43.5]}, nan, nan], 22398: ['Ratyn', 'Valid', 'Stone-uncl', 910.0, 'Fell', '1880-01-01T00:00:00.000', 52.2, 17.98333, {'type': 'Point', 'coordinates': [17.98333, 52.2]}, nan, nan], 53502: ['Red Canyon Lake', 'Valid', 'H5', 18.41, 'Fell', '2007-01-01T00:00:00.000', 38.13742, -119.75812, {'type': 'Point', 'coordinates': [-119.75812, 38.13742]}, 8.0, 1391.0], 22584: ['Reliegos', 'Valid', 'L5', 17300.0, 'Fell', '1947-01-01T00:00:00.000', 42.475, -5.33333, {'type': 'Point', 'coordinates': [-5.33333, 42.475]}, nan, nan], 22585: ['Rembang', 'Valid', 'Iron, IVA', 10000.0, 'Fell', '1919-01-01T00:00:00.000', -6.73333, 111.36667, {'type': 'Point', 'coordinates': [111.36667, -6.7333300000000005]}, nan, nan], 22586: ['Renazzo', 'Valid', 'CR2', 1000.0, 'Fell', '1824-01-01T00:00:00.000', 44.76667, 11.28333, {'type': 'Point', 'coordinates': [11.28333, 44.76667]}, nan, nan], 22587: ['Renca', 'Valid', 'L5', 300.0, 'Fell', '1925-01-01T00:00:00.000', -32.75, -65.28333, {'type': 'Point', 'coordinates': [-65.28333, -32.75]}, nan, nan], 22589: ['Renqiu', 'Valid', 'L6', 355.0, 'Fell', '1916-01-01T00:00:00.000', 38.66667, 116.13333, {'type': 'Point', 'coordinates': [116.13333, 38.66667]}, nan, nan], 22590: ['Repeev Khutor', 'Valid', 'Iron, IIF', 7000.0, 'Fell', '1933-01-01T00:00:00.000', 48.6, 45.66667, {'type': 'Point', 'coordinates': [45.66667, 48.6]}, nan, nan], 22592: ['Revelstoke', 'Valid', 'CI1', 1.0, 'Fell', '1965-01-01T00:00:00.000', 51.33333, -118.95, {'type': 'Point', 'coordinates': [-118.95, 51.33333]}, nan, nan], 22593: ['Rewari', 'Valid', 'L6', 3332.0, 'Fell', '1929-01-01T00:00:00.000', 28.2, 76.66667, {'type': 'Point', 'coordinates': [76.66667, 28.2]}, nan, nan], 22597: ['Rich Mountain', 'Valid', 'L6', 668.0, 'Fell', '1903-01-01T00:00:00.000', 35.03333, -83.03333, {'type': 'Point', 'coordinates': [-83.03333, 35.03333]}, 37.0, 2388.0], 24140: ['Uzcudun', 'Valid', 'L', 20000.0, 'Fell', '1948-01-01T00:00:00.000', -44.11667, -66.15, {'type': 'Point', 'coordinates': [-66.15, -44.11667]}, nan, nan], 22599: ['Richardton', 'Valid', 'H5', 90000.0, 'Fell', '1918-01-01T00:00:00.000', 46.88333, -102.31667, {'type': 'Point', 'coordinates': [-102.31667, 46.88333]}, 3.0, 569.0], 22602: ['Richland Springs', 'Valid', 'OC', 1900.0, 'Fell', '1980-01-01T00:00:00.000', 31.25, -99.03333, {'type': 'Point', 'coordinates': [-99.03333, 31.25]}, 23.0, 2885.0], 22603: ['Richmond', 'Valid', 'LL5', 1800.0, 'Fell', '1828-01-01T00:00:00.000', 37.46667, -77.5, {'type': 'Point', 'coordinates': [-77.5, 37.46667]}, 40.0, 2764.0], 22611: ['Rio Negro', 'Valid', 'L4', 1310.0, 'Fell', '1934-01-01T00:00:00.000', -26.1, -49.8, {'type': 'Point', 'coordinates': [-49.8, -26.1]}, nan, nan], 22614: ['Rivolta de Bassi', 'Valid', 'Stone-uncl', 103.3, 'Fell', '1491-01-01T00:00:00.000', 45.48333, 9.51667, {'type': 'Point', 'coordinates': [9.51667, 45.48333]}, nan, nan], 22637: ['Rochester', 'Valid', 'H6', 340.0, 'Fell', '1876-01-01T00:00:00.000', 41.08333, -86.28333, {'type': 'Point', 'coordinates': [-86.28333, 41.08333]}, 35.0, 150.0], 22640: ['Rockhampton', 'Valid', 'Stone-uncl', 1641.0, 'Fell', '1895-01-01T00:00:00.000', -23.38333, 150.51667, {'type': 'Point', 'coordinates': [150.51667, -23.38333]}, nan, nan], 22641: ['Roda', 'Valid', 'Diogenite', 400.0, 'Fell', '1871-01-01T00:00:00.000', 42.3, 0.55, {'type': 'Point', 'coordinates': [0.55, 42.3]}, nan, nan], 22642: ['Rodach', 'Valid', 'Stone-uncl', 2900.0, 'Fell', '1775-01-01T00:00:00.000', 50.35, 10.8, {'type': 'Point', 'coordinates': [10.8, 50.35]}, nan, nan], 22766: ['Rose City', 'Valid', 'H5', 10600.0, 'Fell', '1921-01-01T00:00:00.000', 44.51667, -83.95, {'type': 'Point', 'coordinates': [-83.95, 44.51667]}, 50.0, 361.0], 22773: ['Rowton', 'Valid', 'Iron, IIIAB', 3500.0, 'Fell', '1876-01-01T00:00:00.000', 52.76667, -2.51667, {'type': 'Point', 'coordinates': [-2.51667, 52.76667]}, nan, nan], 22780: ['Ruhobobo', 'Valid', 'L6', 465.5, 'Fell', '1976-01-01T00:00:00.000', -1.45, 29.83333, {'type': 'Point', 'coordinates': [29.83333, -1.45]}, nan, nan], 22782: ['Rumuruti', 'Valid', 'R3.8-6', 67.0, 'Fell', '1934-01-01T00:00:00.000', 0.26667, 36.53333, {'type': 'Point', 'coordinates': [36.53333, 0.26667]}, nan, nan], 22783: ['Rupota', 'Valid', 'L4-6', 6000.0, 'Fell', '1949-01-01T00:00:00.000', -10.26667, 38.76667, {'type': 'Point', 'coordinates': [38.76667, -10.26667]}, nan, nan], 22791: ['Ryechki', 'Valid', 'L5', 13000.0, 'Fell', '1914-01-01T00:00:00.000', 51.13333, 34.5, {'type': 'Point', 'coordinates': [34.5, 51.13333]}, nan, nan], 22792: ['Sabetmahet', 'Valid', 'H5', 1250.0, 'Fell', '1855-01-01T00:00:00.000', 27.43333, 82.08333, {'type': 'Point', 'coordinates': [82.08333, 27.43333]}, nan, nan], 22793: ['Sabrum', 'Valid', 'LL6', 478.0, 'Fell', '1999-01-01T00:00:00.000', 23.08333, 91.66667, {'type': 'Point', 'coordinates': [91.66667, 23.08333]}, nan, nan], 22796: ['Sagan', 'Valid', 'Stone-uncl', nan, 'Fell', '1636-01-01T00:00:00.000', 51.53333, 14.88333, {'type': 'Point', 'coordinates': [14.88333, 51.53333]}, nan, nan], 23101: ['Saint-Sauveur', 'Valid', 'EH5', 14000.0, 'Fell', '1914-01-01T00:00:00.000', 43.73333, 1.38333, {'type': 'Point', 'coordinates': [1.38333, 43.73333]}, nan, nan], 23102: ['Saint-Séverin', 'Valid', 'LL6', 271000.0, 'Fell', '1966-01-01T00:00:00.000', 45.3, 0.23333, {'type': 'Point', 'coordinates': [0.23333, 45.3]}, nan, nan], 23103: ['Sakauchi', 'Valid', 'Iron', 4180.0, 'Fell', '1913-01-01T00:00:00.000', 35.66667, 136.3, {'type': 'Point', 'coordinates': [136.3, 35.66667]}, nan, nan], 23107: ['Salem', 'Valid', 'L6', 61.4, 'Fell', '1981-01-01T00:00:00.000', 44.97917, -122.96944, {'type': 'Point', 'coordinates': [-122.96944, 44.97917]}, 12.0, 2409.0], 23111: ['Salles', 'Valid', 'L5', 9000.0, 'Fell', '1798-01-01T00:00:00.000', 46.05, 4.63333, {'type': 'Point', 'coordinates': [4.63333, 46.05]}, nan, nan], 23114: ['Salzwedel', 'Valid', 'LL5', 43.0, 'Fell', '1985-01-01T00:00:00.000', 52.75, 11.05, {'type': 'Point', 'coordinates': [11.05, 52.75]}, nan, nan], 23115: ['Samelia', 'Valid', 'Iron, IIIAB', 2462.0, 'Fell', '1921-01-01T00:00:00.000', 25.66667, 74.86667, {'type': 'Point', 'coordinates': [74.86667, 25.66667]}, nan, nan], 23128: ['San Juan Capistrano', 'Valid', 'H6', 56.0, 'Fell', '1973-01-01T00:00:00.000', 33.48472, -117.6625, {'type': 'Point', 'coordinates': [-117.6625, 33.48472]}, 8.0, 1174.0], 31315: ['San Michele', 'Valid', 'L6', 237.0, 'Fell', '2002-01-01T00:00:00.000', 43.66667, 13.0, {'type': 'Point', 'coordinates': [13, 43.66667]}, nan, nan], 23130: ['San Pedro de Quiles', 'Valid', 'L6', 282.0, 'Fell', '1956-01-01T00:00:00.000', -31.01667, -71.4, {'type': 'Point', 'coordinates': [-71.4, -31.01667]}, nan, nan], 34063: ['San Pedro Jacuaro', 'Valid', 'LL6', 460.0, 'Fell', '1968-01-01T00:00:00.000', 19.76667, -100.65, {'type': 'Point', 'coordinates': [-100.65, 19.76667]}, nan, nan], 23161: ['Santa Barbara', 'Valid', 'L4', 400.0, 'Fell', '1873-01-01T00:00:00.000', -29.2, -51.86667, {'type': 'Point', 'coordinates': [-51.86667, -29.2]}, nan, nan], 23164: ['Santa Cruz', 'Valid', 'CM2', 60.0, 'Fell', '1939-01-01T00:00:00.000', 24.16667, -99.33333, {'type': 'Point', 'coordinates': [-99.33333, 24.16667]}, nan, nan], 23165: ['Santa Isabel', 'Valid', 'L6', 5500.0, 'Fell', '1924-01-01T00:00:00.000', -33.9, -61.7, {'type': 'Point', 'coordinates': [-61.7, -33.9]}, nan, nan], 50909: ['Santa Lucia (2008)', 'Valid', 'L6', 4000.0, 'Fell', '2008-01-01T00:00:00.000', -31.535556, -68.489444, {'type': 'Point', 'coordinates': [-68.489444, -31.535556]}, nan, nan], 23171: ['São Jose do Rio Preto', 'Valid', 'H4', 927.0, 'Fell', '1962-01-01T00:00:00.000', -20.81, -49.38056, {'type': 'Point', 'coordinates': [-49.38056, -20.81]}, nan, nan], 23176: ['Saratov', 'Valid', 'L4', 200000.0, 'Fell', '1918-01-01T00:00:00.000', 52.55, 46.55, {'type': 'Point', 'coordinates': [46.55, 52.55]}, nan, nan], 23187: ['Sasagase', 'Valid', 'H', 695.0, 'Fell', '1688-01-01T00:00:00.000', 34.71667, 137.78333, {'type': 'Point', 'coordinates': [137.78333, 34.71667]}, nan, nan], 23188: ['Sauguis', 'Valid', 'L6', 4000.0, 'Fell', '1868-01-01T00:00:00.000', 43.15, -0.85, {'type': 'Point', 'coordinates': [-0.85, 43.15]}, nan, nan], 23190: ['Savtschenskoje', 'Valid', 'LL4', 2500.0, 'Fell', '1894-01-01T00:00:00.000', 47.21667, 29.86667, {'type': 'Point', 'coordinates': [29.86667, 47.21667]}, nan, nan], 23192: ['Sayama', 'Valid', 'CM2', 430.0, 'Fell', '1986-01-01T00:00:00.000', 35.86667, 139.4, {'type': 'Point', 'coordinates': [139.4, 35.86667]}, nan, nan], 23455: ['Sazovice', 'Valid', 'L5', 412.0, 'Fell', '1934-01-01T00:00:00.000', 49.23333, 17.56667, {'type': 'Point', 'coordinates': [17.56667, 49.23333]}, nan, nan], 23457: ['Schellin', 'Valid', 'L', 7000.0, 'Fell', '1715-01-01T00:00:00.000', 53.35, 15.05, {'type': 'Point', 'coordinates': [15.05, 53.35]}, nan, nan], 23458: ['Schenectady', 'Valid', 'H5', 283.3, 'Fell', '1968-01-01T00:00:00.000', 42.86083, -73.95028, {'type': 'Point', 'coordinates': [-73.95028, 42.86083]}, 47.0, 2142.0], 23460: ['Schönenberg', 'Valid', 'L6', 8000.0, 'Fell', '1846-01-01T00:00:00.000', 48.11667, 10.46667, {'type': 'Point', 'coordinates': [10.46667, 48.11667]}, nan, nan], 23472: ['Searsmont', 'Valid', 'H5', 5400.0, 'Fell', '1871-01-01T00:00:00.000', 44.36667, -69.2, {'type': 'Point', 'coordinates': [-69.2, 44.36667]}, 49.0, 1727.0], 23473: ['Sediköy', 'Valid', 'L6', 240.0, 'Fell', '1917-01-01T00:00:00.000', 38.3, 27.13333, {'type': 'Point', 'coordinates': [27.13333, 38.3]}, nan, nan], 23476: ['Segowlie', 'Valid', 'LL6', 6930.0, 'Fell', '1853-01-01T00:00:00.000', 26.75, 84.78333, {'type': 'Point', 'coordinates': [84.78333, 26.75]}, nan, nan], 23481: ['Selakopi', 'Valid', 'H5', 1590.0, 'Fell', '1939-01-01T00:00:00.000', -7.23333, 107.33333, {'type': 'Point', 'coordinates': [107.33333, -7.23333]}, nan, nan], 23483: ['Seldebourak', 'Valid', 'H5', 150.0, 'Fell', '1947-01-01T00:00:00.000', 22.83333, 4.98333, {'type': 'Point', 'coordinates': [4.9833300000000005, 22.83333]}, nan, nan], 23487: ['Semarkona', 'Valid', 'LL3.00', 691.0, 'Fell', '1940-01-01T00:00:00.000', 22.25, 79.0, {'type': 'Point', 'coordinates': [79, 22.25]}, nan, nan], 23495: ['Sena', 'Valid', 'H4', 4000.0, 'Fell', '1773-01-01T00:00:00.000', 41.71667, -0.05, {'type': 'Point', 'coordinates': [-0.05, 41.71667]}, nan, nan], 23496: ['Senboku', 'Valid', 'H6', 866.0, 'Fell', '1993-01-01T00:00:00.000', 39.43833, 140.51167, {'type': 'Point', 'coordinates': [140.51167, 39.43833]}, nan, nan], 23500: ['Seoni', 'Valid', 'H6', 20000.0, 'Fell', '1966-01-01T00:00:00.000', 21.68389, 79.50083, {'type': 'Point', 'coordinates': [79.50083, 21.68389]}, nan, nan], 23501: ['Seres', 'Valid', 'H4', 8500.0, 'Fell', '1818-01-01T00:00:00.000', 41.05, 23.56667, {'type': 'Point', 'coordinates': [23.56667, 41.05]}, nan, nan], 23502: ['Serra de Magé', 'Valid', 'Eucrite-cm', 1800.0, 'Fell', '1923-01-01T00:00:00.000', -8.38333, -36.76667, {'type': 'Point', 'coordinates': [-36.76667, -8.38333]}, nan, nan], 23504: ['Sete Lagoas', 'Valid', 'H4', 350.0, 'Fell', '1908-01-01T00:00:00.000', -19.46667, -44.21667, {'type': 'Point', 'coordinates': [-44.21667, -19.46667]}, nan, nan], 23508: ['Sevilla', 'Valid', 'LL4', 180.0, 'Fell', '1862-01-01T00:00:00.000', 37.41667, -6.0, {'type': 'Point', 'coordinates': [-6, 37.41667]}, nan, nan], 23509: ['Sevrukovo', 'Valid', 'L5', 101000.0, 'Fell', '1874-01-01T00:00:00.000', 50.61667, 36.6, {'type': 'Point', 'coordinates': [36.6, 50.61667]}, nan, nan], 23512: ['Sfax', 'Valid', 'L6', 7000.0, 'Fell', '1989-01-01T00:00:00.000', 34.75, 10.71667, {'type': 'Point', 'coordinates': [10.71667, 34.75]}, nan, nan], 23521: ['Shalka', 'Valid', 'Diogenite', 4000.0, 'Fell', '1850-01-01T00:00:00.000', 23.1, 87.3, {'type': 'Point', 'coordinates': [87.3, 23.1]}, nan, nan], 23525: ['Sharps', 'Valid', 'H3.4', 1265.0, 'Fell', '1921-01-01T00:00:00.000', 37.83333, -76.7, {'type': 'Point', 'coordinates': [-76.7, 37.83333]}, 40.0, 921.0], 23529: ['Shelburne', 'Valid', 'L5', 18600.0, 'Fell', '1904-01-01T00:00:00.000', 44.05, -80.16667, {'type': 'Point', 'coordinates': [-80.16667, 44.05]}, nan, nan], 23530: ['Shergotty', 'Valid', 'Martian (shergottite)', 5000.0, 'Fell', '1865-01-01T00:00:00.000', 24.55, 84.83333, {'type': 'Point', 'coordinates': [84.83333, 24.55]}, nan, nan], 23531: ['Sheyang', 'Valid', 'L6', 605.0, 'Fell', '1976-01-01T00:00:00.000', 33.65, 120.06667, {'type': 'Point', 'coordinates': [120.06667, 33.65]}, nan, nan], 23534: ['Shikarpur', 'Valid', 'L6', 3679.7, 'Fell', '1921-01-01T00:00:00.000', 25.85, 87.5775, {'type': 'Point', 'coordinates': [87.5775, 25.85]}, nan, nan], 23582: ['Shuangyang', 'Valid', 'H5', 3900.0, 'Fell', '1971-01-01T00:00:00.000', 43.5, 125.66667, {'type': 'Point', 'coordinates': [125.66667, 43.5]}, nan, nan], 23583: ['Shupiyan', 'Valid', 'H6', 5000.0, 'Fell', '1912-01-01T00:00:00.000', 33.71667, 74.83333, {'type': 'Point', 'coordinates': [74.83333, 33.71667]}, nan, nan], 23584: ['Shytal', 'Valid', 'L6', 3200.0, 'Fell', '1863-01-01T00:00:00.000', 24.33333, 90.16667, {'type': 'Point', 'coordinates': [90.16667, 24.33333]}, nan, nan], 23586: ['Siena', 'Valid', 'LL5', 3700.0, 'Fell', '1794-01-01T00:00:00.000', 43.11667, 11.6, {'type': 'Point', 'coordinates': [11.6, 43.11667]}, nan, nan], 23593: ['Sikhote-Alin', 'Valid', 'Iron, IIAB', 23000000.0, 'Fell', '1947-01-01T00:00:00.000', 46.16, 134.65333, {'type': 'Point', 'coordinates': [134.65333, 46.16]}, nan, nan], 23594: ['Silao', 'Valid', 'H5', 1710.0, 'Fell', '1995-01-01T00:00:00.000', 20.93333, -101.38333, {'type': 'Point', 'coordinates': [-101.38333, 20.93333]}, nan, nan], 55584: ['Silistra', 'Valid', 'Achondrite-ung', 0.15, 'Fell', '1917-01-01T00:00:00.000', 44.11667, 27.26667, {'type': 'Point', 'coordinates': [27.26667, 44.11667]}, nan, nan], 23603: ['Simmern', 'Valid', 'H5', 1222.0, 'Fell', '1920-01-01T00:00:00.000', 49.98333, 7.53333, {'type': 'Point', 'coordinates': [7.53333, 49.98333]}, nan, nan], 23606: ['Sinai', 'Valid', 'L6', 1455.0, 'Fell', '1916-01-01T00:00:00.000', 30.9, 32.48333, {'type': 'Point', 'coordinates': [32.48333, 30.9]}, nan, nan], 23611: ['Sindhri', 'Valid', 'H5', 8400.0, 'Fell', '1901-01-01T00:00:00.000', 26.21667, 69.55, {'type': 'Point', 'coordinates': [69.55, 26.21667]}, nan, nan], 23613: ['Sinnai', 'Valid', 'H6', 2000.0, 'Fell', '1956-01-01T00:00:00.000', 39.3, 9.2, {'type': 'Point', 'coordinates': [9.2, 39.3]}, nan, nan], 23614: ['Sioux County', 'Valid', 'Eucrite-mmict', 4100.0, 'Fell', '1933-01-01T00:00:00.000', 42.58333, -103.66667, {'type': 'Point', 'coordinates': [-103.66667, 42.58333]}, 19.0, 2351.0], 23616: ['Sitathali', 'Valid', 'H5', 1600.0, 'Fell', '1875-01-01T00:00:00.000', 20.91667, 82.58333, {'type': 'Point', 'coordinates': [82.58333, 20.91667]}, nan, nan], 23617: ['Sivas', 'Valid', 'H6', 40000.0, 'Fell', '1989-01-01T00:00:00.000', 39.82467, 36.13583, {'type': 'Point', 'coordinates': [36.13583, 39.82467]}, nan, nan], 23619: ['Sixiangkou', 'Valid', 'L5', 630.0, 'Fell', '1989-01-01T00:00:00.000', 32.43333, 119.86667, {'type': 'Point', 'coordinates': [119.86667, 32.43333]}, nan, nan], 23621: ['Ski', 'Valid', 'L6', 850.0, 'Fell', '1848-01-01T00:00:00.000', 59.73333, 10.86667, {'type': 'Point', 'coordinates': [10.86667, 59.73333]}, nan, nan], 23626: ['Slavetic', 'Valid', 'H5', 1708.0, 'Fell', '1868-01-01T00:00:00.000', 45.68333, 15.6, {'type': 'Point', 'coordinates': [15.6, 45.68333]}, nan, nan], 23645: ['Slobodka', 'Valid', 'L4', 2750.0, 'Fell', '1818-01-01T00:00:00.000', 55.0, 35.0, {'type': 'Point', 'coordinates': [35, 55]}, nan, nan], 23660: ['Soheria', 'Valid', 'OC', 72.9, 'Fell', '1960-01-01T00:00:00.000', 27.13333, 84.06667, {'type': 'Point', 'coordinates': [84.06667, 27.13333]}, nan, nan], 23661: ['Soko-Banja', 'Valid', 'LL4', 80000.0, 'Fell', '1877-01-01T00:00:00.000', 43.66667, 21.86667, {'type': 'Point', 'coordinates': [21.86667, 43.66667]}, nan, nan], 23663: ['Sologne', 'Valid', 'H5', 54.0, 'Fell', '1860-01-01T00:00:00.000', 47.36667, 1.73333, {'type': 'Point', 'coordinates': [1.73333, 47.36667]}, nan, nan], 53829: ['Sołtmany', 'Valid', 'L6', 1066.0, 'Fell', '2011-01-01T00:00:00.000', 54.00883, 22.005, {'type': 'Point', 'coordinates': [22.005, 54.00883]}, nan, nan], 23667: ['Sone', 'Valid', 'H5', 17100.0, 'Fell', '1866-01-01T00:00:00.000', 35.16667, 135.33333, {'type': 'Point', 'coordinates': [135.33333, 35.16667]}, nan, nan], 23668: ['Songyuan', 'Valid', 'L6', 36900.0, 'Fell', '1993-01-01T00:00:00.000', 45.25, 125.0, {'type': 'Point', 'coordinates': [125, 45.25]}, nan, nan], 23670: ['Sopot', 'Valid', 'OC', 958.0, 'Fell', '1927-01-01T00:00:00.000', 44.41667, 23.5, {'type': 'Point', 'coordinates': [23.5, 44.41667]}, nan, nan], 23671: ['Soroti', 'Valid', 'Iron, ungrouped', 2050.0, 'Fell', '1945-01-01T00:00:00.000', 1.7, 33.63333, {'type': 'Point', 'coordinates': [33.63333, 1.7000000000000002]}, nan, nan], 23081: ['St. Caprais-de-Quinsac', 'Valid', 'L6', 360.0, 'Fell', '1883-01-01T00:00:00.000', 44.75, 0.05, {'type': 'Point', 'coordinates': [0.05, 44.75]}, nan, nan], 23082: ['St. Christophe-la-Chartreuse', 'Valid', 'L6', 5500.0, 'Fell', '1841-01-01T00:00:00.000', 46.95, -1.5, {'type': 'Point', 'coordinates': [-1.5, 46.95]}, nan, nan], 23083: ['St. Denis Westrem', 'Valid', 'L6', 700.0, 'Fell', '1855-01-01T00:00:00.000', 51.05, 3.75, {'type': 'Point', 'coordinates': [3.75, 51.05]}, nan, nan], 23087: ['St. Germain-du-Pinel', 'Valid', 'H6', 4000.0, 'Fell', '1890-01-01T00:00:00.000', 48.01667, -1.15, {'type': 'Point', 'coordinates': [-1.15, 48.01667]}, nan, nan], 23089: ['St. Louis', 'Valid', 'H4', 1000.0, 'Fell', '1950-01-01T00:00:00.000', 38.7, -90.23333, {'type': 'Point', 'coordinates': [-90.23333, 38.7]}, 18.0, 2223.0], 23090: [\"St. Mark's\", 'Valid', 'EH5', 13780.0, 'Fell', '1903-01-01T00:00:00.000', -32.01667, 27.41667, {'type': 'Point', 'coordinates': [27.41667, -32.01667]}, nan, nan], 23091: [\"St. Mary's County\", 'Valid', 'LL3.3', 24.3, 'Fell', '1919-01-01T00:00:00.000', 38.16667, -76.38333, {'type': 'Point', 'coordinates': [-76.38333, 38.16667]}, 45.0, 424.0], 23092: ['St. Mesmin', 'Valid', 'LL6', 8300.0, 'Fell', '1866-01-01T00:00:00.000', 48.45, 3.93333, {'type': 'Point', 'coordinates': [3.93333, 48.45]}, nan, nan], 23093: ['St. Michel', 'Valid', 'L6', 17000.0, 'Fell', '1910-01-01T00:00:00.000', 61.65, 27.2, {'type': 'Point', 'coordinates': [27.2, 61.65]}, nan, nan], 23097: ['St.-Chinian', 'Valid', 'L6', 134.3, 'Fell', '1959-01-01T00:00:00.000', 43.43333, 2.95, {'type': 'Point', 'coordinates': [2.95, 43.43333]}, nan, nan], 23712: ['Ställdalen', 'Valid', 'H5', 34000.0, 'Fell', '1876-01-01T00:00:00.000', 59.93333, 14.95, {'type': 'Point', 'coordinates': [14.95, 59.93333]}, nan, nan], 23713: ['Stannern', 'Valid', 'Eucrite-mmict', 52000.0, 'Fell', '1808-01-01T00:00:00.000', 49.28333, 15.56667, {'type': 'Point', 'coordinates': [15.56667, 49.28333]}, nan, nan], 23717: ['Stavropol', 'Valid', 'L6', 1500.0, 'Fell', '1857-01-01T00:00:00.000', 45.05, 41.98333, {'type': 'Point', 'coordinates': [41.98333, 45.05]}, nan, nan], 23099: ['Ste. Marguerite', 'Valid', 'H4', 4960.0, 'Fell', '1962-01-01T00:00:00.000', 50.76667, 3.0, {'type': 'Point', 'coordinates': [3, 50.76667]}, nan, nan], 23724: ['Sterlitamak', 'Valid', 'Iron, IIIAB', 325000.0, 'Fell', '1990-01-01T00:00:00.000', 53.66667, 55.98333, {'type': 'Point', 'coordinates': [55.98333, 53.66667]}, nan, nan], 23726: ['Stolzenau', 'Valid', 'Stone-uncl', nan, 'Fell', '1647-01-01T00:00:00.000', 52.53333, 9.05, {'type': 'Point', 'coordinates': [9.05, 52.53333]}, nan, nan], 23728: ['Stratford', 'Valid', 'L6', 50.0, 'Fell', '1974-01-01T00:00:00.000', 41.2, -73.13333, {'type': 'Point', 'coordinates': [-73.13333, 41.2]}, 24.0, 1040.0], 23729: ['Strathmore', 'Valid', 'L6', 13400.0, 'Fell', '1917-01-01T00:00:00.000', 56.58333, -3.25, {'type': 'Point', 'coordinates': [-3.25, 56.58333]}, nan, nan], 23732: ['Stretchleigh', 'Valid', 'Stone-uncl', 10400.0, 'Fell', '1623-01-01T00:00:00.000', 50.38333, -3.95, {'type': 'Point', 'coordinates': [-3.95, 50.38333]}, nan, nan], 23733: ['St-Robert', 'Valid', 'H5', 25400.0, 'Fell', '1994-01-01T00:00:00.000', 45.96861, -72.97806, {'type': 'Point', 'coordinates': [-72.97806, 45.96861]}, nan, nan], 23736: ['Success', 'Valid', 'L6', 3500.0, 'Fell', '1924-01-01T00:00:00.000', 36.48333, -90.66667, {'type': 'Point', 'coordinates': [-90.66667, 36.48333]}, 15.0, 955.0], 23737: ['Suchy Dul', 'Valid', 'L6', 815.3, 'Fell', '1969-01-01T00:00:00.000', 50.53806, 16.26333, {'type': 'Point', 'coordinates': [16.26333, 50.53806]}, nan, nan], 23738: ['Suizhou', 'Valid', 'L6', 260000.0, 'Fell', '1986-01-01T00:00:00.000', 31.61667, 113.46667, {'type': 'Point', 'coordinates': [113.46667, 31.61667]}, nan, nan], 48951: ['Sulagiri', 'Valid', 'LL6', 110000.0, 'Fell', '2008-01-01T00:00:00.000', 12.66667, 78.03333, {'type': 'Point', 'coordinates': [78.03333, 12.66667]}, nan, nan], 23741: ['Sultanpur', 'Valid', 'L/LL6', 1710.5, 'Fell', '1916-01-01T00:00:00.000', 25.93333, 84.28333, {'type': 'Point', 'coordinates': [84.28333, 25.93333]}, nan, nan], 23745: ['Sungach', 'Valid', 'H5', 637.0, 'Fell', '1935-01-01T00:00:00.000', 44.86667, 133.16667, {'type': 'Point', 'coordinates': [133.16667, 44.86667]}, nan, nan], 23760: ['Supuhee', 'Valid', 'H6', 7235.0, 'Fell', '1865-01-01T00:00:00.000', 26.71667, 84.21667, {'type': 'Point', 'coordinates': [84.21667, 26.71667]}, nan, nan], 55529: [\"Sutter's Mill\", 'Valid', 'C', 992.5, 'Fell', '2012-01-01T00:00:00.000', 38.80389, -120.90806, {'type': 'Point', 'coordinates': [-120.90806, 38.80389]}, 8.0, 1187.0], 23773: ['Sylacauga', 'Valid', 'H4', 5560.0, 'Fell', '1954-01-01T00:00:00.000', 33.18836, -86.2945, {'type': 'Point', 'coordinates': [-86.2945, 33.18836]}, 29.0, 1637.0], 23776: ['Tabor', 'Valid', 'H5', 7540.0, 'Fell', '1753-01-01T00:00:00.000', 49.4, 14.65, {'type': 'Point', 'coordinates': [14.65, 49.4]}, nan, nan], 23778: ['Tadjera', 'Valid', 'L5', 9000.0, 'Fell', '1867-01-01T00:00:00.000', 36.18333, 5.41667, {'type': 'Point', 'coordinates': [5.41667, 36.18333]}, nan, nan], 23782: ['Tagish Lake', 'Valid', 'C2-ung', 10000.0, 'Fell', '2000-01-01T00:00:00.000', 59.70444, -134.20139, {'type': 'Point', 'coordinates': [-134.20139, 59.70444]}, nan, nan], 23784: ['Tahara', 'Valid', 'H4/5', 1000.0, 'Fell', '1991-01-01T00:00:00.000', 34.72, 137.305, {'type': 'Point', 'coordinates': [137.305, 34.72]}, nan, nan], 23789: ['Takenouchi', 'Valid', 'H5', 720.0, 'Fell', '1880-01-01T00:00:00.000', 35.38333, 134.9, {'type': 'Point', 'coordinates': [134.9, 35.38333]}, nan, nan], 23791: ['Talampaya', 'Valid', 'Eucrite-cm', 1421.0, 'Fell', '1995-01-01T00:00:00.000', nan, nan, nan, nan, nan], 23795: ['Tambakwatu', 'Valid', 'L6', 10500.0, 'Fell', '1975-01-01T00:00:00.000', -7.75, 112.76667, {'type': 'Point', 'coordinates': [112.76667, -7.75]}, nan, nan], 48691: ['Tamdakht', 'Valid', 'H5', 100000.0, 'Fell', '2008-01-01T00:00:00.000', 31.16333, -7.015, {'type': 'Point', 'coordinates': [-7.015, 31.16333]}, nan, nan], 23801: ['Tané', 'Valid', 'L5', 905.0, 'Fell', '1918-01-01T00:00:00.000', 35.43333, 136.23333, {'type': 'Point', 'coordinates': [136.23333, 35.43333]}, nan, nan], 23873: ['Taonan', 'Valid', 'L5', 3850.0, 'Fell', '1965-01-01T00:00:00.000', 45.4, 122.9, {'type': 'Point', 'coordinates': [122.9, 45.4]}, nan, nan], 23884: ['Tatahouine', 'Valid', 'Diogenite', 12000.0, 'Fell', '1931-01-01T00:00:00.000', 32.95, 10.41667, {'type': 'Point', 'coordinates': [10.41667, 32.95]}, nan, nan], 23885: ['Tathlith', 'Valid', 'L6', 2500.0, 'Fell', '1967-01-01T00:00:00.000', 19.38333, 43.73333, {'type': 'Point', 'coordinates': [43.73333, 19.38333]}, nan, nan], 23887: ['Tauk', 'Valid', 'L6', 6000.0, 'Fell', '1929-01-01T00:00:00.000', 35.13333, 44.45, {'type': 'Point', 'coordinates': [44.45, 35.13333]}, nan, nan], 23888: ['Tauti', 'Valid', 'L6', 21000.0, 'Fell', '1937-01-01T00:00:00.000', 46.71667, 23.5, {'type': 'Point', 'coordinates': [23.5, 46.71667]}, nan, nan], 23897: ['Tenham', 'Valid', 'L6', 160000.0, 'Fell', '1879-01-01T00:00:00.000', -25.73333, 142.95, {'type': 'Point', 'coordinates': [142.95, -25.73333]}, nan, nan], 23898: ['Tennasilm', 'Valid', 'L4', 28500.0, 'Fell', '1872-01-01T00:00:00.000', 58.03333, 26.95, {'type': 'Point', 'coordinates': [26.95, 58.03333]}, nan, nan], 23908: ['Thal', 'Valid', 'H6', 342.0, 'Fell', '1950-01-01T00:00:00.000', 33.4, 70.6, {'type': 'Point', 'coordinates': [70.6, 33.4]}, nan, nan], 54493: ['Thika', 'Valid', 'L6', 14200.0, 'Fell', '2011-01-01T00:00:00.000', -1.00278, 37.15028, {'type': 'Point', 'coordinates': [37.15028, -1.00278]}, nan, nan], 23976: ['Thuathe', 'Valid', 'H4/5', 45300.0, 'Fell', '2002-01-01T00:00:00.000', -29.33333, 27.58333, {'type': 'Point', 'coordinates': [27.58333, -29.33333]}, nan, nan], 23984: ['Tianzhang', 'Valid', 'H5', 2232.0, 'Fell', '1986-01-01T00:00:00.000', 32.94667, 118.99, {'type': 'Point', 'coordinates': [118.99, 32.94667]}, nan, nan], 23989: ['Tieschitz', 'Valid', 'H/L3.6', 28000.0, 'Fell', '1878-01-01T00:00:00.000', 49.6, 17.11667, {'type': 'Point', 'coordinates': [17.11667, 49.6]}, nan, nan], 23998: ['Tilden', 'Valid', 'L6', 74800.0, 'Fell', '1927-01-01T00:00:00.000', 38.2, -89.68333, {'type': 'Point', 'coordinates': [-89.68333, 38.2]}, 34.0, 1762.0], 23999: ['Tillaberi', 'Valid', 'L6', 3000.0, 'Fell', '1970-01-01T00:00:00.000', 14.25, 1.53333, {'type': 'Point', 'coordinates': [1.53333, 14.25]}, nan, nan], 24004: ['Timochin', 'Valid', 'H5', 65500.0, 'Fell', '1807-01-01T00:00:00.000', 54.5, 35.2, {'type': 'Point', 'coordinates': [35.2, 54.5]}, nan, nan], 24009: ['Tirupati', 'Valid', 'H6', 230.0, 'Fell', '1934-01-01T00:00:00.000', 13.63333, 79.41667, {'type': 'Point', 'coordinates': [79.41667, 13.63333]}, nan, nan], 54823: ['Tissint', 'Valid', 'Martian (shergottite)', 7000.0, 'Fell', '2011-01-01T00:00:00.000', 29.48195, -7.61123, {'type': 'Point', 'coordinates': [-7.61123, 29.48195]}, nan, nan], 24011: ['Tjabe', 'Valid', 'H6', 20000.0, 'Fell', '1869-01-01T00:00:00.000', -7.08333, 111.53333, {'type': 'Point', 'coordinates': [111.53333, -7.08333]}, nan, nan], 24012: ['Tjerebon', 'Valid', 'L5', 16500.0, 'Fell', '1922-01-01T00:00:00.000', -6.66667, 106.58333, {'type': 'Point', 'coordinates': [106.58333, -6.66667]}, nan, nan], 24019: ['Tomakovka', 'Valid', 'LL6', 600.0, 'Fell', '1905-01-01T00:00:00.000', 47.85, 34.76667, {'type': 'Point', 'coordinates': [34.76667, 47.85]}, nan, nan]}\n"
     ]
    }
   ],
   "source": [
    "# Respuesta\n",
    "\n",
    "#Convert data frame to dictionary\n",
    "my_dictionary=df_meteorite.set_index('id').T.to_dict('list')\n",
    "#Check dictionary\n",
    "print(my_dictionary)\n",
    "\n",
    "# -----------------\n",
    "# Se pedía un diccionario ordenado (Estructura avanzada explicada en unidad 1)\n",
    "puntos -= 0.25\n",
    "# -----------------------\n",
    "# Pedíamos que estuviera ordenado por el campo id\n",
    "puntos -= 0.25\n",
    "# -----------------------\n",
    "# COMMENT el diccionario se ve mejor sin usar print\n",
    "# solo my_dictionary al final de la celda"
   ]
  },
  {
   "cell_type": "markdown",
   "metadata": {},
   "source": [
    "## Ejercicio 9\n",
    "\n",
    "Definid una **función** que reciba como parámetro el diccionario del ejercicio anterior y:\n",
    "1. Muestre por pantalla las masas de todos los asteroides de clase (`recclass`) H6 con identificador mayor a 5000.\n",
    "2. Devuelva la media de los valores mostrados por pantalla.\n",
    "\n",
    "La función debe de estar preparada para trabajar con diccionarios muy grandes. Por lo tanto, se debe evitar guardar los valores individuales mostrados por pantalla en una lista.\n",
    "\n",
    "Llamad a la función definida con el diccionario del ejercicio anterior como parámetro.\n",
    "\n",
    "<span style=\"font-family: Courier New; background-color: #82b74b; color: #000000; padding: 3px; \">SM</span> **(1 punto)**"
   ]
  },
  {
   "cell_type": "code",
   "execution_count": 17,
   "metadata": {},
   "outputs": [
    {
     "name": "stdout",
     "output_type": "stream",
     "text": [
      "17900.0\n",
      "5070.0\n",
      "29000.0\n",
      "27000.0\n",
      "12000.0\n",
      "25400.0\n",
      "166000.0\n",
      "47700.0\n",
      "22000.0\n",
      "39000.0\n",
      "7330.0\n",
      "7000.0\n",
      "80000.0\n",
      "100000.0\n",
      "7000.0\n",
      "11300.0\n",
      "7500.0\n",
      "17000.0\n",
      "14360.0\n",
      "12570.0\n",
      "71400.0\n",
      "7000.0\n",
      "20000.0\n",
      "40000.0\n",
      "7235.0\n",
      "20000.0\n",
      "31567.884615384617\n"
     ]
    }
   ],
   "source": [
    "# Respuesta\n",
    "\n",
    "def manage_dictionary(dictionary, class_to_find ):\n",
    "    mass_amount=0\n",
    "    number_items=0\n",
    "    # We go through the dictionary\n",
    "    for k, v in dictionary.items():\n",
    "         if  v[2] == class_to_find and v[3]>5000:\n",
    "            print(v[3])\n",
    "            mass_amount=mass_amount+v[3]\n",
    "            number_items= number_items+1\n",
    "    #Return the average    \n",
    "    return (mass_amount/number_items)\n",
    "\n",
    "#Get average\n",
    "average_values= manage_dictionary(my_dictionary,\"H6\")\n",
    "print (average_values)\n",
    "\n",
    "# ----------------\n",
    "# lo que tenía que ser mayor a 5000 era el id, no la masa\n",
    "puntos -= 0.1\n"
   ]
  },
  {
   "cell_type": "markdown",
   "metadata": {},
   "source": [
    "## Ejercicio 10\n",
    "\n",
    "\n",
    "Cread una **única expresión** que calcule el mismo valor que se pide en el ejercicio anterior. Es decir, calculad la media de las masas de los asteroides con identificador mayor que 5000 y classe H6 usando como información de entrada un diccionario. En este caso, podéis suponer que los diccionarios serán más pequeños y, por lo tanto, podéis guardar en memoria todos los valores auxiliares que necesitéis para hacer el cálculo.\n",
    "\n",
    "<span style=\"font-family: Courier New; background-color: #82b74b; color: #000000; padding: 3px; \">SM</span> **(1 punto)**"
   ]
  },
  {
   "cell_type": "code",
   "execution_count": 18,
   "metadata": {},
   "outputs": [
    {
     "ename": "TypeError",
     "evalue": "'float' object is not iterable",
     "output_type": "error",
     "traceback": [
      "\u001b[0;31m---------------------------------------------------------------------------\u001b[0m",
      "\u001b[0;31mTypeError\u001b[0m                                 Traceback (most recent call last)",
      "\u001b[0;32m<ipython-input-18-be1f9874a140>\u001b[0m in \u001b[0;36m<module>\u001b[0;34m\u001b[0m\n\u001b[1;32m      1\u001b[0m \u001b[0;31m# Respuesta\u001b[0m\u001b[0;34m\u001b[0m\u001b[0;34m\u001b[0m\u001b[0;34m\u001b[0m\u001b[0m\n\u001b[0;32m----> 2\u001b[0;31m \u001b[0mmedia\u001b[0m \u001b[0;34m=\u001b[0m \u001b[0;34m{\u001b[0m\u001b[0msum\u001b[0m\u001b[0;34m(\u001b[0m\u001b[0mn\u001b[0m\u001b[0;34m[\u001b[0m\u001b[0;36m3\u001b[0m\u001b[0;34m]\u001b[0m\u001b[0;34m)\u001b[0m \u001b[0;34m/\u001b[0m \u001b[0mn\u001b[0m\u001b[0;34m.\u001b[0m\u001b[0mcount\u001b[0m\u001b[0;34m(\u001b[0m\u001b[0;34m)\u001b[0m  \u001b[0;32mfor\u001b[0m \u001b[0mk\u001b[0m\u001b[0;34m,\u001b[0m \u001b[0mn\u001b[0m \u001b[0;32min\u001b[0m \u001b[0mmy_dictionary\u001b[0m\u001b[0;34m.\u001b[0m\u001b[0mitems\u001b[0m\u001b[0;34m(\u001b[0m\u001b[0;34m)\u001b[0m \u001b[0;32mif\u001b[0m  \u001b[0mn\u001b[0m\u001b[0;34m[\u001b[0m\u001b[0;36m2\u001b[0m\u001b[0;34m]\u001b[0m \u001b[0;34m==\u001b[0m \u001b[0;34m\"H6\"\u001b[0m \u001b[0;32mand\u001b[0m \u001b[0mn\u001b[0m\u001b[0;34m[\u001b[0m\u001b[0;36m3\u001b[0m\u001b[0;34m]\u001b[0m\u001b[0;34m>\u001b[0m\u001b[0;36m5000\u001b[0m\u001b[0;34m}\u001b[0m\u001b[0;34m\u001b[0m\u001b[0;34m\u001b[0m\u001b[0m\n\u001b[0m",
      "\u001b[0;32m<ipython-input-18-be1f9874a140>\u001b[0m in \u001b[0;36m<setcomp>\u001b[0;34m(.0)\u001b[0m\n\u001b[1;32m      1\u001b[0m \u001b[0;31m# Respuesta\u001b[0m\u001b[0;34m\u001b[0m\u001b[0;34m\u001b[0m\u001b[0;34m\u001b[0m\u001b[0m\n\u001b[0;32m----> 2\u001b[0;31m \u001b[0mmedia\u001b[0m \u001b[0;34m=\u001b[0m \u001b[0;34m{\u001b[0m\u001b[0msum\u001b[0m\u001b[0;34m(\u001b[0m\u001b[0mn\u001b[0m\u001b[0;34m[\u001b[0m\u001b[0;36m3\u001b[0m\u001b[0;34m]\u001b[0m\u001b[0;34m)\u001b[0m \u001b[0;34m/\u001b[0m \u001b[0mn\u001b[0m\u001b[0;34m.\u001b[0m\u001b[0mcount\u001b[0m\u001b[0;34m(\u001b[0m\u001b[0;34m)\u001b[0m  \u001b[0;32mfor\u001b[0m \u001b[0mk\u001b[0m\u001b[0;34m,\u001b[0m \u001b[0mn\u001b[0m \u001b[0;32min\u001b[0m \u001b[0mmy_dictionary\u001b[0m\u001b[0;34m.\u001b[0m\u001b[0mitems\u001b[0m\u001b[0;34m(\u001b[0m\u001b[0;34m)\u001b[0m \u001b[0;32mif\u001b[0m  \u001b[0mn\u001b[0m\u001b[0;34m[\u001b[0m\u001b[0;36m2\u001b[0m\u001b[0;34m]\u001b[0m \u001b[0;34m==\u001b[0m \u001b[0;34m\"H6\"\u001b[0m \u001b[0;32mand\u001b[0m \u001b[0mn\u001b[0m\u001b[0;34m[\u001b[0m\u001b[0;36m3\u001b[0m\u001b[0;34m]\u001b[0m\u001b[0;34m>\u001b[0m\u001b[0;36m5000\u001b[0m\u001b[0;34m}\u001b[0m\u001b[0;34m\u001b[0m\u001b[0;34m\u001b[0m\u001b[0m\n\u001b[0m",
      "\u001b[0;31mTypeError\u001b[0m: 'float' object is not iterable"
     ]
    }
   ],
   "source": [
    "# Respuesta\n",
    "media = {sum(n[3]) / n.count()  for k, n in my_dictionary.items() if  n[2] == \"H6\" and n[3]>5000}        \n"
   ]
  },
  {
   "cell_type": "code",
   "execution_count": 19,
   "metadata": {},
   "outputs": [],
   "source": [
    "# ----------------------------\n",
    "# Da error\n",
    "# La suma la deberías hacer después de generar toda la lista\n",
    "# no hacía falta usar dict comprehension, con list comprehension []\n",
    "# se podía hacer.\n",
    "puntos -= 1"
   ]
  },
  {
   "cell_type": "code",
   "execution_count": 20,
   "metadata": {},
   "outputs": [
    {
     "name": "stdout",
     "output_type": "stream",
     "text": [
      "puntuación final 7.65\n"
     ]
    }
   ],
   "source": [
    "print(\"puntuación final {:.2f}\".format(puntos))"
   ]
  },
  {
   "cell_type": "code",
   "execution_count": null,
   "metadata": {},
   "outputs": [],
   "source": []
  }
 ],
 "metadata": {
  "kernelspec": {
   "display_name": "Python 3",
   "language": "python",
   "name": "python3"
  },
  "language_info": {
   "codemirror_mode": {
    "name": "ipython",
    "version": 3
   },
   "file_extension": ".py",
   "mimetype": "text/x-python",
   "name": "python",
   "nbconvert_exporter": "python",
   "pygments_lexer": "ipython3",
   "version": "3.8.3"
  }
 },
 "nbformat": 4,
 "nbformat_minor": 2
}
